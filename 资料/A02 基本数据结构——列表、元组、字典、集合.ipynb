{
 "cells": [
  {
   "cell_type": "markdown",
   "id": "d7dac208",
   "metadata": {},
   "source": [
    "# 基本数据结构介绍"
   ]
  },
  {
   "cell_type": "markdown",
   "id": "3212427f-a152-41de-abdb-5e7251643d75",
   "metadata": {},
   "source": [
    "基本数据结构包括列表（List）、元组（Tuple）、字典（Dictionary）、集合（Set）"
   ]
  },
  {
   "cell_type": "markdown",
   "id": "daee88d8-21b3-4f02-b59b-3ac3ab3153a4",
   "metadata": {},
   "source": [
    "## 列表（List）\n",
    "\n",
    "**特性**：\n",
    "- 可变的，可以修改其内容。\n",
    "- 可以包含不同类型的元素。\n",
    "- 有序的。"
   ]
  },
  {
   "cell_type": "code",
   "execution_count": 77,
   "id": "1e8e2cbd",
   "metadata": {},
   "outputs": [
    {
     "data": {
      "text/plain": [
       "[1, 2, 3]"
      ]
     },
     "execution_count": 77,
     "metadata": {},
     "output_type": "execute_result"
    }
   ],
   "source": [
    "# 列表的创建：列表是中括号包围的一组元素，用逗号分隔\n",
    "[1,2,3]"
   ]
  },
  {
   "cell_type": "markdown",
   "id": "e35d41e9",
   "metadata": {},
   "source": [
    "### 访问列表元素"
   ]
  },
  {
   "cell_type": "markdown",
   "id": "48a94bc1",
   "metadata": {},
   "source": [
    "#### 访问单个元素：list[idx]"
   ]
  },
  {
   "cell_type": "code",
   "execution_count": 81,
   "id": "4e8b6a14",
   "metadata": {},
   "outputs": [
    {
     "data": {
      "text/plain": [
       "'f'"
      ]
     },
     "execution_count": 81,
     "metadata": {},
     "output_type": "execute_result"
    }
   ],
   "source": [
    "my_list = ['a', 'b', 'c', 'd', 'e', 'f']\n",
    "my_list[-1]"
   ]
  },
  {
   "cell_type": "markdown",
   "id": "1d7dd5b6",
   "metadata": {},
   "source": [
    "#### 访问多个元素：list[start:end:step]"
   ]
  },
  {
   "cell_type": "markdown",
   "id": "aecfd9e0",
   "metadata": {},
   "source": [
    "- start: 访问的起始位置（包括该位置）。如果省略，默认为列表的开头\n",
    "- end: 访问的结束位置（不包括该位置）。如果省略，默认为列表的末尾\n",
    "- step: 步长，默认值是 1。如果步长为负数，可以实现反向访问"
   ]
  },
  {
   "cell_type": "code",
   "execution_count": 83,
   "id": "13dc0825",
   "metadata": {},
   "outputs": [
    {
     "data": {
      "text/plain": [
       "['b', 'd', 'f']"
      ]
     },
     "execution_count": 83,
     "metadata": {},
     "output_type": "execute_result"
    }
   ],
   "source": [
    "my_list[1::2]"
   ]
  },
  {
   "cell_type": "code",
   "execution_count": 84,
   "id": "25134e20",
   "metadata": {},
   "outputs": [
    {
     "data": {
      "text/plain": [
       "['d', 'e', 'f']"
      ]
     },
     "execution_count": 84,
     "metadata": {},
     "output_type": "execute_result"
    }
   ],
   "source": [
    "my_list[3:]"
   ]
  },
  {
   "cell_type": "code",
   "execution_count": 85,
   "id": "eaf10128",
   "metadata": {},
   "outputs": [
    {
     "data": {
      "text/plain": [
       "['f', 'e', 'd', 'c', 'b', 'a']"
      ]
     },
     "execution_count": 85,
     "metadata": {},
     "output_type": "execute_result"
    }
   ],
   "source": [
    "my_list[::-1]"
   ]
  },
  {
   "cell_type": "markdown",
   "id": "4c581d16",
   "metadata": {},
   "source": [
    "### len():计算列表长度"
   ]
  },
  {
   "cell_type": "code",
   "execution_count": 86,
   "id": "f1fbd092",
   "metadata": {},
   "outputs": [
    {
     "data": {
      "text/plain": [
       "3"
      ]
     },
     "execution_count": 86,
     "metadata": {},
     "output_type": "execute_result"
    }
   ],
   "source": [
    "my_list = [1, 2, 3]\n",
    "len(my_list)"
   ]
  },
  {
   "cell_type": "markdown",
   "id": "2bcc8dad",
   "metadata": {},
   "source": [
    "### in/not in检查元素是否在列表中"
   ]
  },
  {
   "cell_type": "code",
   "execution_count": 89,
   "id": "ee72cf79",
   "metadata": {},
   "outputs": [
    {
     "data": {
      "text/plain": [
       "False"
      ]
     },
     "execution_count": 89,
     "metadata": {},
     "output_type": "execute_result"
    }
   ],
   "source": [
    "1 not in [1,2,3]"
   ]
  },
  {
   "cell_type": "code",
   "execution_count": 88,
   "id": "0aa293c0",
   "metadata": {},
   "outputs": [
    {
     "data": {
      "text/plain": [
       "False"
      ]
     },
     "execution_count": 88,
     "metadata": {},
     "output_type": "execute_result"
    }
   ],
   "source": [
    "'a' in [1,2,3]"
   ]
  },
  {
   "cell_type": "markdown",
   "id": "d181ec9d",
   "metadata": {},
   "source": [
    "### `append(x)`: 在列表末尾添加一个元素"
   ]
  },
  {
   "cell_type": "code",
   "execution_count": 90,
   "id": "609b5c3c",
   "metadata": {},
   "outputs": [
    {
     "data": {
      "text/plain": [
       "[1, 2, 3, 4]"
      ]
     },
     "execution_count": 90,
     "metadata": {},
     "output_type": "execute_result"
    }
   ],
   "source": [
    "my_list = [1, 2, 3]\n",
    "my_list.append(4)\n",
    "my_list"
   ]
  },
  {
   "cell_type": "markdown",
   "id": "67278d4a",
   "metadata": {},
   "source": [
    "### `extend([i1, i2, ..., in])`: 在列表末尾一次性追加另一个序列中的多个值"
   ]
  },
  {
   "cell_type": "code",
   "execution_count": 91,
   "id": "c08deffb",
   "metadata": {},
   "outputs": [
    {
     "data": {
      "text/plain": [
       "[1, 2, 3, [4, 5, 6]]"
      ]
     },
     "execution_count": 91,
     "metadata": {},
     "output_type": "execute_result"
    }
   ],
   "source": [
    "# 如果调用append方法，则会将添加的元素作为整体加入，不符合预期\n",
    "my_list = [1, 2, 3]\n",
    "my_list.append([4,5,6])\n",
    "my_list"
   ]
  },
  {
   "cell_type": "code",
   "execution_count": 93,
   "id": "445a4c79",
   "metadata": {},
   "outputs": [
    {
     "data": {
      "text/plain": [
       "[1, 2, 3, 4, 5, 6]"
      ]
     },
     "execution_count": 93,
     "metadata": {},
     "output_type": "execute_result"
    }
   ],
   "source": [
    "# 调用extend方法会将添加序列中的值打散加入\n",
    "my_list = [1, 2, 3]\n",
    "my_list.extend([4,5,6])\n",
    "my_list"
   ]
  },
  {
   "cell_type": "markdown",
   "id": "70822704",
   "metadata": {},
   "source": [
    "### `insert(i, x)`: 在指定位置插入一个元素"
   ]
  },
  {
   "cell_type": "code",
   "execution_count": 94,
   "id": "9b0ff6c3",
   "metadata": {},
   "outputs": [
    {
     "data": {
      "text/plain": [
       "[1, 'a', 2, 3]"
      ]
     },
     "execution_count": 94,
     "metadata": {},
     "output_type": "execute_result"
    }
   ],
   "source": [
    "# python计数是从0开始的\n",
    "my_list = [1, 2, 3]\n",
    "my_list.insert(1, 'a') #在位置1插入元素'a'\n",
    "my_list"
   ]
  },
  {
   "cell_type": "markdown",
   "id": "2a90b546",
   "metadata": {},
   "source": [
    "### `remove(x)`: 移除列表中第一个值为x的元素"
   ]
  },
  {
   "cell_type": "code",
   "execution_count": 95,
   "id": "9c301bab",
   "metadata": {},
   "outputs": [
    {
     "data": {
      "text/plain": [
       "[1, 2, 4, 'a', 'b']"
      ]
     },
     "execution_count": 95,
     "metadata": {},
     "output_type": "execute_result"
    }
   ],
   "source": [
    "my_list = [1, 2, 'a', 4, 'a', 'b']\n",
    "my_list.remove('a')\n",
    "my_list"
   ]
  },
  {
   "cell_type": "markdown",
   "id": "04623e04",
   "metadata": {},
   "source": [
    "### `pop([i])`: 移除列表中指定位置的元素，并返回该元素"
   ]
  },
  {
   "cell_type": "code",
   "execution_count": 97,
   "id": "c313421d",
   "metadata": {},
   "outputs": [
    {
     "data": {
      "text/plain": [
       "[1, 2, 'a', 'a', 'b']"
      ]
     },
     "execution_count": 97,
     "metadata": {},
     "output_type": "execute_result"
    }
   ],
   "source": [
    "my_list = [1, 2, 'a', 4, 'a', 'b']\n",
    "my_list.pop(3)\n",
    "my_list"
   ]
  },
  {
   "cell_type": "markdown",
   "id": "2e505c14",
   "metadata": {},
   "source": [
    "### `index(x)`: 返回列表中第一个值为x的元素的索引"
   ]
  },
  {
   "cell_type": "code",
   "execution_count": 98,
   "id": "6b3cb6cc",
   "metadata": {},
   "outputs": [
    {
     "data": {
      "text/plain": [
       "2"
      ]
     },
     "execution_count": 98,
     "metadata": {},
     "output_type": "execute_result"
    }
   ],
   "source": [
    "my_list = [1, 2, 'a', 4, 'a', 'b']\n",
    "my_list.index('a')"
   ]
  },
  {
   "cell_type": "markdown",
   "id": "ed728072",
   "metadata": {},
   "source": [
    "### `count(x)`: 统计某个元素在列表中出现的次数"
   ]
  },
  {
   "cell_type": "code",
   "execution_count": 100,
   "id": "2cf11741",
   "metadata": {},
   "outputs": [
    {
     "data": {
      "text/plain": [
       "1"
      ]
     },
     "execution_count": 100,
     "metadata": {},
     "output_type": "execute_result"
    }
   ],
   "source": [
    "my_list = [1, 2, 'a', 4, 'a', 'b']\n",
    "my_list.count('b')"
   ]
  },
  {
   "cell_type": "markdown",
   "id": "730164a2",
   "metadata": {},
   "source": [
    "### `sort(reverse=False)`: 对列表进行排序"
   ]
  },
  {
   "cell_type": "code",
   "execution_count": 102,
   "id": "145bc2b4",
   "metadata": {},
   "outputs": [
    {
     "data": {
      "text/plain": [
       "[7, 6, 6, 5, 5, 4, 3, 2, 1]"
      ]
     },
     "execution_count": 102,
     "metadata": {},
     "output_type": "execute_result"
    }
   ],
   "source": [
    "my_list = [4,1,2,6,3,7,5,6,5]\n",
    "my_list.sort(reverse=True) #True表示降序，False表示升序\n",
    "my_list"
   ]
  },
  {
   "cell_type": "markdown",
   "id": "0e0f45f7",
   "metadata": {},
   "source": [
    "### `reverse()`: 反转列表"
   ]
  },
  {
   "cell_type": "code",
   "execution_count": 103,
   "id": "2f9e883f",
   "metadata": {},
   "outputs": [
    {
     "data": {
      "text/plain": [
       "['b', 'a', 4, 'a', 2, 1]"
      ]
     },
     "execution_count": 103,
     "metadata": {},
     "output_type": "execute_result"
    }
   ],
   "source": [
    "my_list = [1, 2, 'a', 4, 'a', 'b']\n",
    "my_list.reverse()\n",
    "my_list"
   ]
  },
  {
   "cell_type": "markdown",
   "id": "23a42b2b-7aba-4036-88b8-ff08f075b029",
   "metadata": {},
   "source": [
    "## 元组（Tuple）\n",
    "\n",
    "**特性**：\n",
    "- 不可变的，一旦创建就不能修改。\n",
    "- 可以包含不同类型的元素。\n",
    "- 有序的。"
   ]
  },
  {
   "cell_type": "code",
   "execution_count": 104,
   "id": "250631fc",
   "metadata": {},
   "outputs": [
    {
     "data": {
      "text/plain": [
       "(1, 2, 3)"
      ]
     },
     "execution_count": 104,
     "metadata": {},
     "output_type": "execute_result"
    }
   ],
   "source": [
    "# 元组的创建：元组是小括号包围的一组元素，用逗号分隔\n",
    "(1,2,3)"
   ]
  },
  {
   "cell_type": "markdown",
   "id": "217b1580",
   "metadata": {},
   "source": [
    "### 访问元组元素"
   ]
  },
  {
   "cell_type": "markdown",
   "id": "b5c69375",
   "metadata": {},
   "source": [
    "#### 访问单个元素：tuple[idx]"
   ]
  },
  {
   "cell_type": "code",
   "execution_count": 107,
   "id": "eb9d1681",
   "metadata": {},
   "outputs": [
    {
     "data": {
      "text/plain": [
       "'f'"
      ]
     },
     "execution_count": 107,
     "metadata": {},
     "output_type": "execute_result"
    }
   ],
   "source": [
    "my_tuple = ('a', 'b', 'c', 'd', 'e', 'f')\n",
    "my_tuple[-1]"
   ]
  },
  {
   "cell_type": "markdown",
   "id": "225ee4aa",
   "metadata": {},
   "source": [
    "#### 访问多个元素：tuple[start:end:step]"
   ]
  },
  {
   "cell_type": "markdown",
   "id": "0d3159b7",
   "metadata": {},
   "source": [
    "- start: 访问的起始位置（包括该位置）。如果省略，默认为元组的开头\n",
    "- end: 访问的结束位置（不包括该位置）。如果省略，默认为元组的末尾\n",
    "- step: 步长，默认值是 1。如果步长为负数，可以实现反向访问"
   ]
  },
  {
   "cell_type": "code",
   "execution_count": 108,
   "id": "8c0efc94",
   "metadata": {},
   "outputs": [
    {
     "data": {
      "text/plain": [
       "('b', 'd')"
      ]
     },
     "execution_count": 108,
     "metadata": {},
     "output_type": "execute_result"
    }
   ],
   "source": [
    "my_tuple[1:4:2]"
   ]
  },
  {
   "cell_type": "code",
   "execution_count": 109,
   "id": "e45e3d48",
   "metadata": {},
   "outputs": [
    {
     "data": {
      "text/plain": [
       "('d', 'e', 'f')"
      ]
     },
     "execution_count": 109,
     "metadata": {},
     "output_type": "execute_result"
    }
   ],
   "source": [
    "my_tuple[3:]"
   ]
  },
  {
   "cell_type": "code",
   "execution_count": 110,
   "id": "5b33c858",
   "metadata": {},
   "outputs": [
    {
     "data": {
      "text/plain": [
       "('f', 'e', 'd', 'c', 'b', 'a')"
      ]
     },
     "execution_count": 110,
     "metadata": {},
     "output_type": "execute_result"
    }
   ],
   "source": [
    "my_tuple[::-1]"
   ]
  },
  {
   "cell_type": "markdown",
   "id": "335ba36b",
   "metadata": {},
   "source": [
    "### `count(x)`: 统计某个元素在元组中出现的次数"
   ]
  },
  {
   "cell_type": "code",
   "execution_count": 111,
   "id": "7f102f77",
   "metadata": {},
   "outputs": [
    {
     "data": {
      "text/plain": [
       "3"
      ]
     },
     "execution_count": 111,
     "metadata": {},
     "output_type": "execute_result"
    }
   ],
   "source": [
    "my_tuple = (1, 2, 3, 2, 1, 3, 2)\n",
    "my_tuple.count(2)"
   ]
  },
  {
   "cell_type": "markdown",
   "id": "254b356f",
   "metadata": {},
   "source": [
    "### `index(x)`: 返回元组中第一个值为x的元素的索引"
   ]
  },
  {
   "cell_type": "code",
   "execution_count": 112,
   "id": "a7449d58",
   "metadata": {},
   "outputs": [
    {
     "data": {
      "text/plain": [
       "1"
      ]
     },
     "execution_count": 112,
     "metadata": {},
     "output_type": "execute_result"
    }
   ],
   "source": [
    "my_tuple = (1, 2, 3, 2, 1, 3, 2)\n",
    "my_tuple.index(2)"
   ]
  },
  {
   "cell_type": "markdown",
   "id": "29a5284c-3376-47a2-b15d-1e41d0171796",
   "metadata": {},
   "source": [
    "## 字典（Dictionary）\n",
    "\n",
    "**特性**：\n",
    "- 可变的，可以修改其内容。\n",
    "- 无序的，字典没有顺序。\n",
    "- 以键值对**{键key:值value}**的形式存储数据，键必须是不可变类型。"
   ]
  },
  {
   "cell_type": "code",
   "execution_count": 113,
   "id": "3b579e5e",
   "metadata": {},
   "outputs": [
    {
     "data": {
      "text/plain": [
       "{'name': 'Alice', 'age': 25}"
      ]
     },
     "execution_count": 113,
     "metadata": {},
     "output_type": "execute_result"
    }
   ],
   "source": [
    "# 字典的创建：字典是花括号包围的一组元素对，用逗号分隔；每个元素对包括键与值，使用冒号连接\n",
    "{'name': 'Alice', 'age': 25}"
   ]
  },
  {
   "cell_type": "markdown",
   "id": "90dcf823",
   "metadata": {},
   "source": [
    "### 访问字典元素"
   ]
  },
  {
   "cell_type": "markdown",
   "id": "97e5ee33",
   "metadata": {},
   "source": [
    "通过key值访问字典中元素"
   ]
  },
  {
   "cell_type": "code",
   "execution_count": 114,
   "id": "94fcc746",
   "metadata": {},
   "outputs": [
    {
     "data": {
      "text/plain": [
       "{'name': 'Alice', 'age': 25}"
      ]
     },
     "execution_count": 114,
     "metadata": {},
     "output_type": "execute_result"
    }
   ],
   "source": [
    "my_dict = {'name': 'Alice', 'age': 25}\n",
    "my_dict"
   ]
  },
  {
   "cell_type": "code",
   "execution_count": 116,
   "id": "0c9a8057",
   "metadata": {},
   "outputs": [
    {
     "data": {
      "text/plain": [
       "25"
      ]
     },
     "execution_count": 116,
     "metadata": {},
     "output_type": "execute_result"
    }
   ],
   "source": [
    "my_dict['name']"
   ]
  },
  {
   "cell_type": "markdown",
   "id": "b52fdf3d",
   "metadata": {},
   "source": [
    "### `get(key, default=None)`: 返回指定键的值，如果键不在字典中返回默认值"
   ]
  },
  {
   "cell_type": "code",
   "execution_count": 29,
   "id": "db940b0b",
   "metadata": {},
   "outputs": [
    {
     "data": {
      "text/plain": [
       "{'name': 'Alice', 'age': 25}"
      ]
     },
     "execution_count": 29,
     "metadata": {},
     "output_type": "execute_result"
    }
   ],
   "source": [
    "my_dict = {'name': 'Alice', 'age': 25}\n",
    "my_dict"
   ]
  },
  {
   "cell_type": "code",
   "execution_count": 120,
   "id": "1ec614fb",
   "metadata": {},
   "outputs": [
    {
     "data": {
      "text/plain": [
       "'Alice'"
      ]
     },
     "execution_count": 120,
     "metadata": {},
     "output_type": "execute_result"
    }
   ],
   "source": [
    "my_dict.get('name') #如果找到，返回对应值"
   ]
  },
  {
   "cell_type": "code",
   "execution_count": 122,
   "id": "2dc21978",
   "metadata": {},
   "outputs": [
    {
     "data": {
      "text/plain": [
       "'字典中没有对应的键'"
      ]
     },
     "execution_count": 122,
     "metadata": {},
     "output_type": "execute_result"
    }
   ],
   "source": [
    "my_dict.get('city', '字典中没有对应的键') #如果找不到，返回默认值default"
   ]
  },
  {
   "cell_type": "markdown",
   "id": "ba2be284",
   "metadata": {},
   "source": [
    "### `keys()`: 返回一个字典的键的列表"
   ]
  },
  {
   "cell_type": "code",
   "execution_count": 123,
   "id": "f46d62ee",
   "metadata": {},
   "outputs": [
    {
     "data": {
      "text/plain": [
       "dict_keys(['name', 'age'])"
      ]
     },
     "execution_count": 123,
     "metadata": {},
     "output_type": "execute_result"
    }
   ],
   "source": [
    "my_dict = {'name': 'Alice', 'age': 25}\n",
    "my_dict.keys()"
   ]
  },
  {
   "cell_type": "markdown",
   "id": "6acf06d9",
   "metadata": {},
   "source": [
    "### `values()`: 返回一个字典的值的列表"
   ]
  },
  {
   "cell_type": "code",
   "execution_count": 124,
   "id": "35012fa7",
   "metadata": {},
   "outputs": [
    {
     "data": {
      "text/plain": [
       "dict_values(['Alice', 25])"
      ]
     },
     "execution_count": 124,
     "metadata": {},
     "output_type": "execute_result"
    }
   ],
   "source": [
    "my_dict = {'name': 'Alice', 'age': 25}\n",
    "my_dict.values()"
   ]
  },
  {
   "cell_type": "markdown",
   "id": "6c511b13",
   "metadata": {},
   "source": [
    "### `items()`: 返回一个字典的键值对的列表"
   ]
  },
  {
   "cell_type": "code",
   "execution_count": 128,
   "id": "6227d916",
   "metadata": {},
   "outputs": [
    {
     "data": {
      "text/plain": [
       "dict_items([('name', 'Alice'), ('age', 25)])"
      ]
     },
     "execution_count": 128,
     "metadata": {},
     "output_type": "execute_result"
    }
   ],
   "source": [
    "my_dict = {'name': 'Alice', 'age': 25}\n",
    "my_dict.items()"
   ]
  },
  {
   "cell_type": "markdown",
   "id": "51b987b9",
   "metadata": {},
   "source": [
    "### `update([key, value], ...)`: 将键值对添加到字典中"
   ]
  },
  {
   "cell_type": "code",
   "execution_count": 129,
   "id": "7f84ccfd",
   "metadata": {},
   "outputs": [
    {
     "data": {
      "text/plain": [
       "{'name': 'Alice', 'age': 25}"
      ]
     },
     "execution_count": 129,
     "metadata": {},
     "output_type": "execute_result"
    }
   ],
   "source": [
    "my_dict = {'name': 'Alice', 'age': 25}\n",
    "my_dict"
   ]
  },
  {
   "cell_type": "code",
   "execution_count": 130,
   "id": "656a0550",
   "metadata": {},
   "outputs": [
    {
     "data": {
      "text/plain": [
       "{'name': 'Alice', 'age': 88}"
      ]
     },
     "execution_count": 130,
     "metadata": {},
     "output_type": "execute_result"
    }
   ],
   "source": [
    "my_dict.update({'age': 88})\n",
    "my_dict"
   ]
  },
  {
   "cell_type": "markdown",
   "id": "5f37a519",
   "metadata": {},
   "source": [
    "### `pop([key], [default])`: 移除字典中的键并返回其值"
   ]
  },
  {
   "cell_type": "code",
   "execution_count": 132,
   "id": "537c6b09",
   "metadata": {},
   "outputs": [
    {
     "data": {
      "text/plain": [
       "{'name': 'Alice', 'age': 25}"
      ]
     },
     "execution_count": 132,
     "metadata": {},
     "output_type": "execute_result"
    }
   ],
   "source": [
    "my_dict = {'name': 'Alice', 'age': 25}\n",
    "my_dict"
   ]
  },
  {
   "cell_type": "code",
   "execution_count": 133,
   "id": "d091b958",
   "metadata": {},
   "outputs": [
    {
     "data": {
      "text/plain": [
       "'Alice'"
      ]
     },
     "execution_count": 133,
     "metadata": {},
     "output_type": "execute_result"
    }
   ],
   "source": [
    "my_dict.pop('name')"
   ]
  },
  {
   "cell_type": "code",
   "execution_count": 134,
   "id": "8d7b2409",
   "metadata": {},
   "outputs": [
    {
     "data": {
      "text/plain": [
       "{'age': 25}"
      ]
     },
     "execution_count": 134,
     "metadata": {},
     "output_type": "execute_result"
    }
   ],
   "source": [
    "my_dict"
   ]
  },
  {
   "cell_type": "markdown",
   "id": "4f7cd994",
   "metadata": {},
   "source": [
    "### `popitem()`: 移除字典中的一个键值对并返回"
   ]
  },
  {
   "cell_type": "code",
   "execution_count": 135,
   "id": "2635899f",
   "metadata": {},
   "outputs": [
    {
     "data": {
      "text/plain": [
       "{'name': 'Alice', 'age': 25}"
      ]
     },
     "execution_count": 135,
     "metadata": {},
     "output_type": "execute_result"
    }
   ],
   "source": [
    "my_dict = {'name': 'Alice', 'age': 25}\n",
    "my_dict"
   ]
  },
  {
   "cell_type": "code",
   "execution_count": 136,
   "id": "2190ed1f",
   "metadata": {},
   "outputs": [
    {
     "data": {
      "text/plain": [
       "('age', 25)"
      ]
     },
     "execution_count": 136,
     "metadata": {},
     "output_type": "execute_result"
    }
   ],
   "source": [
    "my_dict.popitem()"
   ]
  },
  {
   "cell_type": "code",
   "execution_count": 137,
   "id": "90f02599",
   "metadata": {},
   "outputs": [
    {
     "data": {
      "text/plain": [
       "{'name': 'Alice'}"
      ]
     },
     "execution_count": 137,
     "metadata": {},
     "output_type": "execute_result"
    }
   ],
   "source": [
    "my_dict"
   ]
  },
  {
   "cell_type": "markdown",
   "id": "4e58015f-19ce-4d9d-9802-f82a262b3467",
   "metadata": {},
   "source": [
    "## 集合（Set）\n",
    "\n",
    "**特性**：\n",
    "- 可变的，可以修改其内容。\n",
    "- 无序的。\n",
    "- 元素唯一，不重复。"
   ]
  },
  {
   "cell_type": "code",
   "execution_count": 138,
   "id": "5daf3169",
   "metadata": {},
   "outputs": [
    {
     "data": {
      "text/plain": [
       "{1, 2, 3}"
      ]
     },
     "execution_count": 138,
     "metadata": {},
     "output_type": "execute_result"
    }
   ],
   "source": [
    "# 集合的创建：集合是花括号包围的一组元素，用逗号分隔\n",
    "{1,2,3}"
   ]
  },
  {
   "cell_type": "markdown",
   "id": "7763f375",
   "metadata": {},
   "source": [
    "### 访问集合元素"
   ]
  },
  {
   "cell_type": "markdown",
   "id": "93518ac5",
   "metadata": {},
   "source": [
    "#### 访问单个元素：set[idx]"
   ]
  },
  {
   "cell_type": "code",
   "execution_count": 140,
   "id": "f77d01b0",
   "metadata": {},
   "outputs": [
    {
     "data": {
      "text/plain": [
       "'f'"
      ]
     },
     "execution_count": 140,
     "metadata": {},
     "output_type": "execute_result"
    }
   ],
   "source": [
    "my_set = ('a', 'b', 'c', 'd', 'e', 'f')\n",
    "my_set[-1]"
   ]
  },
  {
   "cell_type": "markdown",
   "id": "662a1db5",
   "metadata": {},
   "source": [
    "#### 访问多个元素：set[start:end:step]"
   ]
  },
  {
   "cell_type": "markdown",
   "id": "206687bc",
   "metadata": {},
   "source": [
    "- start: 访问的起始位置（包括该位置）。如果省略，默认为集合的开头\n",
    "- end: 访问的结束位置（不包括该位置）。如果省略，默认为集合的末尾\n",
    "- step: 步长，默认值是 1。如果步长为负数，可以实现反向访问"
   ]
  },
  {
   "cell_type": "code",
   "execution_count": 141,
   "id": "37dbf5a3",
   "metadata": {},
   "outputs": [
    {
     "data": {
      "text/plain": [
       "('b', 'd')"
      ]
     },
     "execution_count": 141,
     "metadata": {},
     "output_type": "execute_result"
    }
   ],
   "source": [
    "my_set[1:4:2]"
   ]
  },
  {
   "cell_type": "code",
   "execution_count": 142,
   "id": "ad9e7ad9",
   "metadata": {},
   "outputs": [
    {
     "data": {
      "text/plain": [
       "('d', 'e', 'f')"
      ]
     },
     "execution_count": 142,
     "metadata": {},
     "output_type": "execute_result"
    }
   ],
   "source": [
    "my_set[3:]"
   ]
  },
  {
   "cell_type": "code",
   "execution_count": 143,
   "id": "75c00734",
   "metadata": {},
   "outputs": [
    {
     "data": {
      "text/plain": [
       "('f', 'e', 'd', 'c', 'b', 'a')"
      ]
     },
     "execution_count": 143,
     "metadata": {},
     "output_type": "execute_result"
    }
   ],
   "source": [
    "my_set[::-1]"
   ]
  },
  {
   "cell_type": "markdown",
   "id": "aa2ea658",
   "metadata": {},
   "source": [
    "### `add(x)`: 添加一个元素到集合中"
   ]
  },
  {
   "cell_type": "code",
   "execution_count": 144,
   "id": "07f3740d",
   "metadata": {},
   "outputs": [
    {
     "data": {
      "text/plain": [
       "{1, 2, 3, 4}"
      ]
     },
     "execution_count": 144,
     "metadata": {},
     "output_type": "execute_result"
    }
   ],
   "source": [
    "my_set = {1, 2, 3}\n",
    "my_set.add(4)\n",
    "my_set"
   ]
  },
  {
   "cell_type": "markdown",
   "id": "58cd5df7",
   "metadata": {},
   "source": [
    "### `remove(x)`: 移除集合中一个元素"
   ]
  },
  {
   "cell_type": "code",
   "execution_count": 145,
   "id": "b87c9a55",
   "metadata": {},
   "outputs": [
    {
     "data": {
      "text/plain": [
       "{1, 2, 3, 'b', 'c'}"
      ]
     },
     "execution_count": 145,
     "metadata": {},
     "output_type": "execute_result"
    }
   ],
   "source": [
    "my_set = {1, 2, 3, 'a', 'b', 'c'}\n",
    "my_set.remove('a')\n",
    "my_set"
   ]
  },
  {
   "cell_type": "markdown",
   "id": "be98bc5c",
   "metadata": {},
   "source": [
    "### `clear()`: 移除集合中的所有元素"
   ]
  },
  {
   "cell_type": "code",
   "execution_count": 146,
   "id": "55418ee4",
   "metadata": {},
   "outputs": [
    {
     "data": {
      "text/plain": [
       "set()"
      ]
     },
     "execution_count": 146,
     "metadata": {},
     "output_type": "execute_result"
    }
   ],
   "source": [
    "my_set = {1, 2, 3}\n",
    "my_set.clear()\n",
    "my_set"
   ]
  },
  {
   "cell_type": "markdown",
   "id": "8b8cc617",
   "metadata": {},
   "source": [
    "### | 并集"
   ]
  },
  {
   "cell_type": "code",
   "execution_count": 147,
   "id": "8e902cbf",
   "metadata": {},
   "outputs": [
    {
     "data": {
      "text/plain": [
       "{1, 2, 3, 4, 5}"
      ]
     },
     "execution_count": 147,
     "metadata": {},
     "output_type": "execute_result"
    }
   ],
   "source": [
    "# 使用 | 返回两个集合的并集\n",
    "set1 = {1, 2, 3}\n",
    "set2 = {3, 4, 5}\n",
    "\n",
    "set1 | set2"
   ]
  },
  {
   "cell_type": "markdown",
   "id": "a6b8e36d",
   "metadata": {},
   "source": [
    "### & 交集"
   ]
  },
  {
   "cell_type": "code",
   "execution_count": 148,
   "id": "6ea67be7",
   "metadata": {},
   "outputs": [
    {
     "data": {
      "text/plain": [
       "{3}"
      ]
     },
     "execution_count": 148,
     "metadata": {},
     "output_type": "execute_result"
    }
   ],
   "source": [
    "# 使用&返回两个集合的交集\n",
    "set1 = {1, 2, 3}\n",
    "set2 = {3, 4, 5}\n",
    "\n",
    "set1 & set2"
   ]
  },
  {
   "cell_type": "markdown",
   "id": "d2bc4e02",
   "metadata": {},
   "source": [
    "### - 差集"
   ]
  },
  {
   "cell_type": "code",
   "execution_count": 150,
   "id": "da28708f",
   "metadata": {},
   "outputs": [
    {
     "data": {
      "text/plain": [
       "{4, 5}"
      ]
     },
     "execution_count": 150,
     "metadata": {},
     "output_type": "execute_result"
    }
   ],
   "source": [
    "# 使用-返回两个集合的差集\n",
    "set1 = {1, 2, 3}\n",
    "set2 = {3, 4, 5}\n",
    "\n",
    "set1 - set2"
   ]
  },
  {
   "cell_type": "markdown",
   "id": "458bc70d",
   "metadata": {},
   "source": [
    "### ^ 对称差集"
   ]
  },
  {
   "cell_type": "code",
   "execution_count": 151,
   "id": "5d8a3566",
   "metadata": {},
   "outputs": [
    {
     "data": {
      "text/plain": [
       "{1, 2, 4, 5}"
      ]
     },
     "execution_count": 151,
     "metadata": {},
     "output_type": "execute_result"
    }
   ],
   "source": [
    "# 使用^返回两个集合的对称差集：只在一个集合中存在，而不在两个集合公共部分中的元素\n",
    "set1 = {1, 2, 3}\n",
    "set2 = {3, 4, 5}\n",
    "\n",
    "set1 ^ set2"
   ]
  },
  {
   "cell_type": "markdown",
   "id": "ad04462f",
   "metadata": {},
   "source": [
    "### issubset()判断是否子集"
   ]
  },
  {
   "cell_type": "code",
   "execution_count": 152,
   "id": "b020e8a4",
   "metadata": {},
   "outputs": [
    {
     "data": {
      "text/plain": [
       "True"
      ]
     },
     "execution_count": 152,
     "metadata": {},
     "output_type": "execute_result"
    }
   ],
   "source": [
    "# 使用issubset()判断是否子集\n",
    "set1 = {1, 2}\n",
    "set2 = {1, 2, 3}\n",
    "\n",
    "set1.issubset(set2)"
   ]
  },
  {
   "cell_type": "markdown",
   "id": "6bce3ada",
   "metadata": {},
   "source": [
    "### issuperset()判断是否超集"
   ]
  },
  {
   "cell_type": "code",
   "execution_count": 153,
   "id": "3f183681",
   "metadata": {},
   "outputs": [
    {
     "data": {
      "text/plain": [
       "True"
      ]
     },
     "execution_count": 153,
     "metadata": {},
     "output_type": "execute_result"
    }
   ],
   "source": [
    "# 使用issuperset()判断是否超集\n",
    "set1 = {1, 2, 3}\n",
    "set2 = {1, 2}\n",
    "\n",
    "set1.issuperset(set2)"
   ]
  },
  {
   "cell_type": "markdown",
   "id": "f9a3bf30",
   "metadata": {},
   "source": [
    "### isdisjoint()判断两个集合是否不相交"
   ]
  },
  {
   "cell_type": "code",
   "execution_count": 154,
   "id": "61164341",
   "metadata": {},
   "outputs": [
    {
     "data": {
      "text/plain": [
       "True"
      ]
     },
     "execution_count": 154,
     "metadata": {},
     "output_type": "execute_result"
    }
   ],
   "source": [
    "# 使用isdisjoint()判断两个集合是否不相交\n",
    "set1 = {1, 2, 3}\n",
    "set2 = {4, 5, 6}\n",
    "\n",
    "set1.isdisjoint(set2)"
   ]
  },
  {
   "cell_type": "markdown",
   "id": "635967fe",
   "metadata": {},
   "source": [
    "### len()计算集合长度"
   ]
  },
  {
   "cell_type": "code",
   "execution_count": 155,
   "id": "f2ef43d5",
   "metadata": {},
   "outputs": [
    {
     "data": {
      "text/plain": [
       "3"
      ]
     },
     "execution_count": 155,
     "metadata": {},
     "output_type": "execute_result"
    }
   ],
   "source": [
    "set1 = {1, 2, 3}\n",
    "len(set1)"
   ]
  },
  {
   "cell_type": "markdown",
   "id": "ca6496ca",
   "metadata": {},
   "source": [
    "### in/not in检查元素是否在集合中"
   ]
  },
  {
   "cell_type": "code",
   "execution_count": 156,
   "id": "0bffbeee",
   "metadata": {},
   "outputs": [
    {
     "name": "stdout",
     "output_type": "stream",
     "text": [
      "True\n",
      "False\n"
     ]
    }
   ],
   "source": [
    "set1 = {1, 2, 3}\n",
    "\n",
    "# 检查元素是否在集合中\n",
    "print(2 in set1)  # 输出：True\n",
    "print(4 in set1)  # 输出：False"
   ]
  },
  {
   "cell_type": "markdown",
   "id": "f59e23a2-35bc-4b11-8dc0-f841535a44ec",
   "metadata": {},
   "source": [
    "# 基本数据结构间转换"
   ]
  },
  {
   "cell_type": "markdown",
   "id": "70ff8994-97f1-4a86-9fd7-e198700a7d6e",
   "metadata": {},
   "source": [
    "## 列表（List）和元组（Tuple）\n",
    "\n",
    "**主要方法**：\n",
    "- `list()`: 将元组或其他数据结构转换为列表。\n",
    "- `tuple()`: 将列表或其他数据结构转换为元组。"
   ]
  },
  {
   "cell_type": "code",
   "execution_count": 157,
   "id": "f6f2a2f8",
   "metadata": {},
   "outputs": [
    {
     "data": {
      "text/plain": [
       "[1, 2, 3]"
      ]
     },
     "execution_count": 157,
     "metadata": {},
     "output_type": "execute_result"
    }
   ],
   "source": [
    "# 元组转列表\n",
    "tup = (1, 2, 3)\n",
    "list(tup)"
   ]
  },
  {
   "cell_type": "code",
   "execution_count": 158,
   "id": "e7917e06-5b6b-4b79-aba2-e22b6e2b0810",
   "metadata": {},
   "outputs": [
    {
     "data": {
      "text/plain": [
       "(1, 2, 3)"
      ]
     },
     "execution_count": 158,
     "metadata": {},
     "output_type": "execute_result"
    }
   ],
   "source": [
    "# 列表转元组\n",
    "lst = [1, 2, 3]\n",
    "tuple(lst)"
   ]
  },
  {
   "cell_type": "markdown",
   "id": "4d3f4f75-f78e-449b-9254-2bd92a42c2c0",
   "metadata": {},
   "source": [
    "## 列表（List）和字典（Dictionary）\n",
    "\n",
    "**主要方法**：\n",
    "- `dict()`: 将列表或其他数据结构转换为字典。\n",
    "- `list()`: 将字典的键或值转换为列表。"
   ]
  },
  {
   "cell_type": "code",
   "execution_count": 159,
   "id": "cf1669b7",
   "metadata": {},
   "outputs": [
    {
     "data": {
      "text/plain": [
       "{'name': 'Alice', 'age': 25}"
      ]
     },
     "execution_count": 159,
     "metadata": {},
     "output_type": "execute_result"
    }
   ],
   "source": [
    "# 列表转字典\n",
    "lst = [('name', 'Alice'), ('age', 25)]\n",
    "dict(lst)"
   ]
  },
  {
   "cell_type": "code",
   "execution_count": 160,
   "id": "6833ce41",
   "metadata": {},
   "outputs": [
    {
     "data": {
      "text/plain": [
       "['name', 'age']"
      ]
     },
     "execution_count": 160,
     "metadata": {},
     "output_type": "execute_result"
    }
   ],
   "source": [
    "# 字典的键转换为列表\n",
    "dict_example = {'name': 'Alice', 'age': 25}\n",
    "list(dict_example.keys())"
   ]
  },
  {
   "cell_type": "code",
   "execution_count": 161,
   "id": "90aee7bd-096d-492b-ad7a-5bfe394cdad2",
   "metadata": {},
   "outputs": [
    {
     "data": {
      "text/plain": [
       "['Alice', 25]"
      ]
     },
     "execution_count": 161,
     "metadata": {},
     "output_type": "execute_result"
    }
   ],
   "source": [
    "# 字典的值转换为列表\n",
    "list(dict_example.values())"
   ]
  },
  {
   "cell_type": "markdown",
   "id": "8870902d-8979-4f3e-bc08-fe1c0447f951",
   "metadata": {},
   "source": [
    "## 列表（List）和集合（Set）\n",
    "\n",
    "**主要方法**：\n",
    "- `set()`: 将列表转换为集合。\n",
    "- `list()`: 将集合转换为列表。"
   ]
  },
  {
   "cell_type": "code",
   "execution_count": 162,
   "id": "5172ffb8",
   "metadata": {},
   "outputs": [
    {
     "data": {
      "text/plain": [
       "{1, 2, 3, 4}"
      ]
     },
     "execution_count": 162,
     "metadata": {},
     "output_type": "execute_result"
    }
   ],
   "source": [
    "# 列表转集合\n",
    "lst = [1, 2, 2, 3, 4]\n",
    "set(lst)"
   ]
  },
  {
   "cell_type": "code",
   "execution_count": 163,
   "id": "87fafeaf-6658-497c-ab3d-a65ad0c161a6",
   "metadata": {},
   "outputs": [
    {
     "data": {
      "text/plain": [
       "[1, 2, 3, 4]"
      ]
     },
     "execution_count": 163,
     "metadata": {},
     "output_type": "execute_result"
    }
   ],
   "source": [
    "# 集合转列表\n",
    "s = {1, 2, 3, 4}\n",
    "list(s)"
   ]
  },
  {
   "cell_type": "markdown",
   "id": "a7ea09ea-8405-4bb5-85ac-354527357790",
   "metadata": {},
   "source": [
    "## 字典（Dictionary）和集合（Set）\n",
    "\n",
    "**主要方法**：\n",
    "- `set()`: 将字典的键或值转换为集合。\n",
    "- `dict.fromkeys()`: 将集合转换为字典的键。"
   ]
  },
  {
   "cell_type": "code",
   "execution_count": 164,
   "id": "6e32d712",
   "metadata": {},
   "outputs": [
    {
     "data": {
      "text/plain": [
       "{'age', 'name'}"
      ]
     },
     "execution_count": 164,
     "metadata": {},
     "output_type": "execute_result"
    }
   ],
   "source": [
    "# 字典的键转换为集合\n",
    "dict_example = {'name': 'Alice', 'age': 25}\n",
    "set(dict_example.keys())"
   ]
  },
  {
   "cell_type": "code",
   "execution_count": 165,
   "id": "8033a1b5",
   "metadata": {},
   "outputs": [
    {
     "data": {
      "text/plain": [
       "{25, 'Alice'}"
      ]
     },
     "execution_count": 165,
     "metadata": {},
     "output_type": "execute_result"
    }
   ],
   "source": [
    "# 字典的值转换为集合\n",
    "set(dict_example.values())"
   ]
  },
  {
   "cell_type": "code",
   "execution_count": 166,
   "id": "322f6cc9-7e5e-4bcb-983c-4ec25f381013",
   "metadata": {},
   "outputs": [
    {
     "data": {
      "text/plain": [
       "{'a': None, 'b': None, 'c': None}"
      ]
     },
     "execution_count": 166,
     "metadata": {},
     "output_type": "execute_result"
    }
   ],
   "source": [
    "# 集合转字典的键\n",
    "set_example = {'a', 'b', 'c'}\n",
    "dict.fromkeys(set_example)"
   ]
  },
  {
   "cell_type": "markdown",
   "id": "4f498606-2712-4d41-baa2-25c6cceceb50",
   "metadata": {},
   "source": [
    "## 字典（Dictionary）和元组（Tuple）\n",
    "\n",
    "**主要方法**：\n",
    "- `tuple()`: 将字典的键或值转换为元组。\n",
    "- `dict()`: 将元组的键值对转换为字典"
   ]
  },
  {
   "cell_type": "code",
   "execution_count": 168,
   "id": "ece7c38c",
   "metadata": {},
   "outputs": [
    {
     "data": {
      "text/plain": [
       "('name', 'age')"
      ]
     },
     "execution_count": 168,
     "metadata": {},
     "output_type": "execute_result"
    }
   ],
   "source": [
    "# 字典的键转换为元组\n",
    "dict_example = {'name': 'Alice', 'age': 25}\n",
    "tuple(dict_example.keys())"
   ]
  },
  {
   "cell_type": "code",
   "execution_count": 169,
   "id": "76e74f9c",
   "metadata": {},
   "outputs": [
    {
     "data": {
      "text/plain": [
       "('Alice', 25)"
      ]
     },
     "execution_count": 169,
     "metadata": {},
     "output_type": "execute_result"
    }
   ],
   "source": [
    "# 字典的值转换为元组\n",
    "tuple(dict_example.values())"
   ]
  },
  {
   "cell_type": "code",
   "execution_count": 170,
   "id": "55fbc024-0e2e-46c5-8b5e-a025c3969bdc",
   "metadata": {},
   "outputs": [
    {
     "data": {
      "text/plain": [
       "{'name': 'Alice', 'age': 25}"
      ]
     },
     "execution_count": 170,
     "metadata": {},
     "output_type": "execute_result"
    }
   ],
   "source": [
    "# 元组转字典\n",
    "tup = (('name', 'Alice'), ('age', 25))\n",
    "dict(tup)"
   ]
  },
  {
   "cell_type": "markdown",
   "id": "50d2143d-b012-4c18-a613-3e1378a5c8a1",
   "metadata": {},
   "source": [
    "## 元组（Tuple）和集合（Set）\n",
    "\n",
    "**主要方法**：\n",
    "- `set()`: 将元组转换为集合。\n",
    "- `tuple()`: 将集合转换为元组。"
   ]
  },
  {
   "cell_type": "code",
   "execution_count": 171,
   "id": "c4da2854",
   "metadata": {},
   "outputs": [
    {
     "data": {
      "text/plain": [
       "{1, 2, 3, 4}"
      ]
     },
     "execution_count": 171,
     "metadata": {},
     "output_type": "execute_result"
    }
   ],
   "source": [
    "# 元组转集合\n",
    "tup = (1, 2, 2, 3, 4)\n",
    "set(tup)"
   ]
  },
  {
   "cell_type": "code",
   "execution_count": 172,
   "id": "5f41a521-60e3-4df8-800d-66a20329f27e",
   "metadata": {},
   "outputs": [
    {
     "data": {
      "text/plain": [
       "(1, 2, 3)"
      ]
     },
     "execution_count": 172,
     "metadata": {},
     "output_type": "execute_result"
    }
   ],
   "source": [
    "# 集合转元组\n",
    "set_example = {1, 2, 3}\n",
    "tuple(set_example)"
   ]
  },
  {
   "cell_type": "code",
   "execution_count": null,
   "id": "61894911",
   "metadata": {},
   "outputs": [],
   "source": []
  },
  {
   "cell_type": "code",
   "execution_count": null,
   "id": "f0a815f2",
   "metadata": {},
   "outputs": [],
   "source": []
  },
  {
   "cell_type": "code",
   "execution_count": null,
   "id": "f2ca7b2b",
   "metadata": {},
   "outputs": [],
   "source": []
  },
  {
   "cell_type": "code",
   "execution_count": null,
   "id": "a5a4ef5d",
   "metadata": {},
   "outputs": [],
   "source": []
  },
  {
   "cell_type": "code",
   "execution_count": null,
   "id": "e7d84589",
   "metadata": {},
   "outputs": [],
   "source": []
  },
  {
   "cell_type": "code",
   "execution_count": null,
   "id": "039e3e2a",
   "metadata": {},
   "outputs": [],
   "source": []
  }
 ],
 "metadata": {
  "kernelspec": {
   "display_name": "Python 3 (ipykernel)",
   "language": "python",
   "name": "python3"
  },
  "language_info": {
   "codemirror_mode": {
    "name": "ipython",
    "version": 3
   },
   "file_extension": ".py",
   "mimetype": "text/x-python",
   "name": "python",
   "nbconvert_exporter": "python",
   "pygments_lexer": "ipython3",
   "version": "3.12.2"
  },
  "toc": {
   "base_numbering": 1,
   "nav_menu": {},
   "number_sections": true,
   "sideBar": true,
   "skip_h1_title": false,
   "title_cell": "Table of Contents",
   "title_sidebar": "Contents",
   "toc_cell": false,
   "toc_position": {
    "height": "calc(100% - 180px)",
    "left": "10px",
    "top": "150px",
    "width": "288px"
   },
   "toc_section_display": true,
   "toc_window_display": true
  }
 },
 "nbformat": 4,
 "nbformat_minor": 5
}
