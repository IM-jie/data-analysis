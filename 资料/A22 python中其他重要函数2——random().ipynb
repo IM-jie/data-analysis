{
 "cells": [
  {
   "cell_type": "markdown",
   "id": "721ae74a",
   "metadata": {},
   "source": [
    "# random"
   ]
  },
  {
   "cell_type": "markdown",
   "id": "0674c169",
   "metadata": {},
   "source": [
    "python中的random模块用于生成随机数或者进行随机选择"
   ]
  },
  {
   "cell_type": "markdown",
   "id": "53773465",
   "metadata": {},
   "source": [
    "| 函数 | 描述 |\n",
    "|:----:|:----:|\n",
    "| `random.seed()` | 随机数种子 |\n",
    "| `random.random()` | 返回 [0.0, 1.0) 范围内的随机浮点数。 |\n",
    "| `random.uniform(a, b)` | 返回 [a, b] 范围内的随机浮点数（包括 a 和 b）。 |\n",
    "| `random.randint(a, b)` | 返回 [a, b] 范围内的随机整数（包括 a 和 b）。 |\n",
    "| `random.randrange(start, stop, step)` | 返回范围 [start, stop) 中按步长递增的随机整数（不包括 stop）。 |\n",
    "| `random.choice(seq)` | 从非空序列（如列表、元组）中随机选择一个元素。 |\n",
    "| `random.choices(seq, k=N)` | 从序列中随机选择 N 个元素（允许重复），并返回一个列表。 |\n",
    "| `random.sample(seq, k)` | 从序列中随机选择 k 个唯一元素，返回一个新列表（不允许重复）。 |\n",
    "| `random.shuffle(seq)` | 将可变序列（如列表）的元素随机打乱，直接在原序列上修改。 |"
   ]
  },
  {
   "cell_type": "markdown",
   "id": "6245f50e",
   "metadata": {},
   "source": [
    "## random.seed()随机数种子，用于确保结果可复现"
   ]
  },
  {
   "cell_type": "markdown",
   "id": "64b91db5",
   "metadata": {},
   "source": [
    "**random.seed(a)**:\n",
    "  - a: 随机数种子"
   ]
  },
  {
   "cell_type": "code",
   "execution_count": 32,
   "id": "9fe6bfd9",
   "metadata": {},
   "outputs": [
    {
     "name": "stdout",
     "output_type": "stream",
     "text": [
      "0.6394267984578837\n",
      "1\n"
     ]
    }
   ],
   "source": [
    "import random\n",
    "random.seed(42)\n",
    "print(random.random())  # 输出始终为 0.6394267984578837\n",
    "print(random.randint(1, 10))  # 输出始终为 1"
   ]
  },
  {
   "cell_type": "markdown",
   "id": "8d81346e",
   "metadata": {},
   "source": [
    "## random.random()生成随机数"
   ]
  },
  {
   "cell_type": "code",
   "execution_count": 35,
   "id": "97991e93",
   "metadata": {},
   "outputs": [
    {
     "data": {
      "text/plain": [
       "0.1395379285251439"
      ]
     },
     "execution_count": 35,
     "metadata": {},
     "output_type": "execute_result"
    }
   ],
   "source": [
    "import random\n",
    "\n",
    "# 生成一个 [0.0, 1.0) 范围内的随机浮点数\n",
    "random.random()"
   ]
  },
  {
   "cell_type": "markdown",
   "id": "6f50e60e",
   "metadata": {},
   "source": [
    "## random.uniform()生成指定范围内的随机浮点数"
   ]
  },
  {
   "cell_type": "markdown",
   "id": "5361500e",
   "metadata": {},
   "source": [
    "**random.uniform(a,b)**:\n",
    "  - a: 生成随机数范围的下界\n",
    "  - b: 生成随机数范围的上界"
   ]
  },
  {
   "cell_type": "code",
   "execution_count": 38,
   "id": "b1a0bd36",
   "metadata": {},
   "outputs": [
    {
     "data": {
      "text/plain": [
       "3.681466134993399"
      ]
     },
     "execution_count": 38,
     "metadata": {},
     "output_type": "execute_result"
    }
   ],
   "source": [
    "# 生成 [1.5, 5.5) 范围内的随机浮点数\n",
    "random.uniform(1.5, 5.5)"
   ]
  },
  {
   "cell_type": "markdown",
   "id": "2cdfdcad",
   "metadata": {},
   "source": [
    "## random.randint()生成指定范围内的随机整数"
   ]
  },
  {
   "cell_type": "markdown",
   "id": "6fc2191b",
   "metadata": {},
   "source": [
    "**random.randint(a,b)**:\n",
    "  - a: 生成随机数范围的下界\n",
    "  - b: 生成随机数范围的上界"
   ]
  },
  {
   "cell_type": "code",
   "execution_count": 40,
   "id": "97754410",
   "metadata": {},
   "outputs": [
    {
     "data": {
      "text/plain": [
       "16"
      ]
     },
     "execution_count": 40,
     "metadata": {},
     "output_type": "execute_result"
    }
   ],
   "source": [
    "# 生成 [10, 20) 范围内的随机整数\n",
    "random.randint(10, 20)"
   ]
  },
  {
   "cell_type": "markdown",
   "id": "e87802f4",
   "metadata": {},
   "source": [
    "## random.randrange()生成随机范围内的整数"
   ]
  },
  {
   "cell_type": "markdown",
   "id": "58288bb6",
   "metadata": {},
   "source": [
    "**random.randrange(start,stop,step)**:\n",
    "  - start: 生成随机数范围的起始值，默认为0\n",
    "  - stop: 生成随机数范围的结束值（不包含）\n",
    "  - step: 生成随机数范围的步长，默认为1"
   ]
  },
  {
   "cell_type": "code",
   "execution_count": 46,
   "id": "0f86f9dd",
   "metadata": {},
   "outputs": [
    {
     "data": {
      "text/plain": [
       "80"
      ]
     },
     "execution_count": 46,
     "metadata": {},
     "output_type": "execute_result"
    }
   ],
   "source": [
    "# 从 [0, 100) 范围内，按步长 5 生成一个随机整数\n",
    "random.randrange(0, 100, 5)"
   ]
  },
  {
   "cell_type": "markdown",
   "id": "93073b12",
   "metadata": {},
   "source": [
    "## random.choice()从序列中随机选择一个元素"
   ]
  },
  {
   "cell_type": "markdown",
   "id": "b5869514",
   "metadata": {},
   "source": [
    "**random.choice(seq)**:\n",
    "  - seq: 一个非空的序列（例如，列表、元组、字符串等），从中随机选择一个元素"
   ]
  },
  {
   "cell_type": "code",
   "execution_count": 49,
   "id": "2168c692",
   "metadata": {},
   "outputs": [
    {
     "data": {
      "text/plain": [
       "'Diana'"
      ]
     },
     "execution_count": 49,
     "metadata": {},
     "output_type": "execute_result"
    }
   ],
   "source": [
    "names = [\"Alice\", \"Bob\", \"Charlie\", \"Diana\"]\n",
    "random.choice(names)"
   ]
  },
  {
   "cell_type": "markdown",
   "id": "35691e02",
   "metadata": {},
   "source": [
    "## random.choices()从序列中随机选择多个元素（允许重复）"
   ]
  },
  {
   "cell_type": "markdown",
   "id": "40f5832a",
   "metadata": {},
   "source": [
    "**random.choices(population,k)**:\n",
    "  - population: 一个非空的序列（例如，列表、元组、字符串等）\n",
    "  - k: 要抽取的样本数量"
   ]
  },
  {
   "cell_type": "code",
   "execution_count": 53,
   "id": "41d6c344",
   "metadata": {},
   "outputs": [
    {
     "data": {
      "text/plain": [
       "['blue', 'red', 'red']"
      ]
     },
     "execution_count": 53,
     "metadata": {},
     "output_type": "execute_result"
    }
   ],
   "source": [
    "# 从列表中随机选择 3 个元素，允许重复\n",
    "colors = [\"red\", \"blue\", \"green\", \"yellow\"]\n",
    "random.choices(colors, k=3)"
   ]
  },
  {
   "cell_type": "markdown",
   "id": "d53c8396",
   "metadata": {},
   "source": [
    "## random.sample()从序列中随机选择多个元素（不允许重复）"
   ]
  },
  {
   "cell_type": "markdown",
   "id": "d24ec4a8",
   "metadata": {},
   "source": [
    "**random.sample(population,k)**:\n",
    "  - population: 一个非空的序列（例如，列表、元组、字符串等）\n",
    "  - k: 要抽取的样本数量"
   ]
  },
  {
   "cell_type": "code",
   "execution_count": 59,
   "id": "6cdee603",
   "metadata": {},
   "outputs": [
    {
     "data": {
      "text/plain": [
       "[1, 2, 3]"
      ]
     },
     "execution_count": 59,
     "metadata": {},
     "output_type": "execute_result"
    }
   ],
   "source": [
    "# 从列表中随机选择 3 个元素，不允许重复\n",
    "numbers = [1, 2, 3, 4, 5, 6]\n",
    "random.sample(numbers, k=3)"
   ]
  },
  {
   "cell_type": "markdown",
   "id": "8fc9b493",
   "metadata": {},
   "source": [
    "## random.shuffle()随机打乱序列"
   ]
  },
  {
   "cell_type": "markdown",
   "id": "f60e312c",
   "metadata": {},
   "source": [
    "**random.shuffle(x)**:\n",
    "  - x: 需要被打乱的可变序列（如列表、字典、集合等）"
   ]
  },
  {
   "cell_type": "code",
   "execution_count": 65,
   "id": "fa74b859",
   "metadata": {},
   "outputs": [
    {
     "data": {
      "text/plain": [
       "[2, 1, 5, 3, 4]"
      ]
     },
     "execution_count": 65,
     "metadata": {},
     "output_type": "execute_result"
    }
   ],
   "source": [
    "# 打乱列表中的元素顺序\n",
    "deck = [1, 2, 3, 4, 5]\n",
    "random.shuffle(deck)\n",
    "deck"
   ]
  },
  {
   "cell_type": "code",
   "execution_count": null,
   "id": "974cd931",
   "metadata": {},
   "outputs": [],
   "source": []
  },
  {
   "cell_type": "code",
   "execution_count": null,
   "id": "672ea897",
   "metadata": {},
   "outputs": [],
   "source": []
  },
  {
   "cell_type": "code",
   "execution_count": null,
   "id": "364b7bd8",
   "metadata": {},
   "outputs": [],
   "source": []
  }
 ],
 "metadata": {
  "kernelspec": {
   "display_name": "Python 3 (ipykernel)",
   "language": "python",
   "name": "python3"
  },
  "language_info": {
   "codemirror_mode": {
    "name": "ipython",
    "version": 3
   },
   "file_extension": ".py",
   "mimetype": "text/x-python",
   "name": "python",
   "nbconvert_exporter": "python",
   "pygments_lexer": "ipython3",
   "version": "3.12.2"
  },
  "toc": {
   "base_numbering": 1,
   "nav_menu": {},
   "number_sections": true,
   "sideBar": true,
   "skip_h1_title": false,
   "title_cell": "Table of Contents",
   "title_sidebar": "Contents",
   "toc_cell": false,
   "toc_position": {
    "height": "calc(100% - 180px)",
    "left": "10px",
    "top": "150px",
    "width": "288px"
   },
   "toc_section_display": true,
   "toc_window_display": true
  }
 },
 "nbformat": 4,
 "nbformat_minor": 5
}
