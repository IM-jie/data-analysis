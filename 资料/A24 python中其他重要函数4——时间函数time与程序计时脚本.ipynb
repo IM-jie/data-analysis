{
 "cells": [
  {
   "cell_type": "markdown",
   "id": "7415adcf",
   "metadata": {},
   "source": [
    "# time"
   ]
  },
  {
   "cell_type": "markdown",
   "id": "d49412c2",
   "metadata": {},
   "source": [
    "time包提供了获取当前时间、测量程序运行时间、暂停程序执行等功能，可以帮助我们测量不同代码模块的运行时间"
   ]
  },
  {
   "cell_type": "markdown",
   "id": "9252a9ab",
   "metadata": {},
   "source": [
    "## time.time()"
   ]
  },
  {
   "cell_type": "markdown",
   "id": "3c98a618",
   "metadata": {},
   "source": [
    "返回当前时间的时间戳，单位为秒。时间戳是从 Unix 纪元（1970 年 1 月 1 日 00:00:00 UTC） 到现在的秒数"
   ]
  },
  {
   "cell_type": "code",
   "execution_count": 7,
   "id": "116f5c17",
   "metadata": {},
   "outputs": [
    {
     "name": "stdout",
     "output_type": "stream",
     "text": [
      "当前时间戳：1739279014.388449\n"
     ]
    }
   ],
   "source": [
    "import time\n",
    "\n",
    "timestamp = time.time()\n",
    "print(f\"当前时间戳：{timestamp}\")"
   ]
  },
  {
   "cell_type": "markdown",
   "id": "00f9deda",
   "metadata": {},
   "source": [
    "## 测量程序运行时间"
   ]
  },
  {
   "cell_type": "code",
   "execution_count": 8,
   "id": "00091635",
   "metadata": {},
   "outputs": [
    {
     "name": "stdout",
     "output_type": "stream",
     "text": [
      "运行时间：0.109038 秒\n"
     ]
    }
   ],
   "source": [
    "import time\n",
    "\n",
    "# 记录起始时间\n",
    "start_time = time.time()\n",
    "\n",
    "# 运行需要测量的代码\n",
    "for i in range(1000000):\n",
    "    _ = i ** 2\n",
    "\n",
    "# 记录结束时间\n",
    "end_time = time.time()\n",
    "\n",
    "# 计算运行时间\n",
    "elapsed_time = end_time - start_time\n",
    "print(f\"运行时间：{elapsed_time:.6f} 秒\")"
   ]
  },
  {
   "cell_type": "markdown",
   "id": "71b3cb44",
   "metadata": {},
   "source": [
    "## time.sleep(seconds)"
   ]
  },
  {
   "cell_type": "markdown",
   "id": "3ca60c2b",
   "metadata": {},
   "source": [
    "让程序暂停指定的秒数（seconds），适合用于延时或控制程序的执行节奏"
   ]
  },
  {
   "cell_type": "code",
   "execution_count": 10,
   "id": "e0ba9c4a",
   "metadata": {},
   "outputs": [
    {
     "name": "stdout",
     "output_type": "stream",
     "text": [
      "当前时间：2025-02-11 21:05:46\n",
      "等待 3 秒...\n",
      "3 秒结束！当前时间：2025-02-11 21:05:49\n"
     ]
    }
   ],
   "source": [
    "import time\n",
    "\n",
    "# 打印当前时间\n",
    "print(f\"当前时间：{time.strftime('%Y-%m-%d %H:%M:%S', time.localtime())}\")\n",
    "print(\"等待 3 秒...\")\n",
    "\n",
    "# 等待 3 秒\n",
    "time.sleep(3)\n",
    "\n",
    "# 再次打印当前时间\n",
    "print(f\"3 秒结束！当前时间：{time.strftime('%Y-%m-%d %H:%M:%S', time.localtime())}\")"
   ]
  },
  {
   "cell_type": "code",
   "execution_count": null,
   "id": "9def50d7",
   "metadata": {},
   "outputs": [],
   "source": []
  }
 ],
 "metadata": {
  "kernelspec": {
   "display_name": "Python 3 (ipykernel)",
   "language": "python",
   "name": "python3"
  },
  "language_info": {
   "codemirror_mode": {
    "name": "ipython",
    "version": 3
   },
   "file_extension": ".py",
   "mimetype": "text/x-python",
   "name": "python",
   "nbconvert_exporter": "python",
   "pygments_lexer": "ipython3",
   "version": "3.12.2"
  },
  "toc": {
   "base_numbering": 1,
   "nav_menu": {},
   "number_sections": true,
   "sideBar": true,
   "skip_h1_title": false,
   "title_cell": "Table of Contents",
   "title_sidebar": "Contents",
   "toc_cell": false,
   "toc_position": {
    "height": "calc(100% - 180px)",
    "left": "10px",
    "top": "150px",
    "width": "288px"
   },
   "toc_section_display": true,
   "toc_window_display": true
  }
 },
 "nbformat": 4,
 "nbformat_minor": 5
}
