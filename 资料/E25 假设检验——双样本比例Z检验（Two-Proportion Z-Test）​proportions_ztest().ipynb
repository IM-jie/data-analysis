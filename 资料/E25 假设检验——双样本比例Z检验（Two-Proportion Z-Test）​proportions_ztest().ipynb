{
 "cells": [
  {
   "cell_type": "markdown",
   "id": "2a2278ffd1b0ba63",
   "metadata": {},
   "source": [
    "# 双样本比例z检验（Two-Proportion Z-Test）"
   ]
  },
  {
   "cell_type": "markdown",
   "id": "847a2b99",
   "metadata": {},
   "source": [
    "## 基本概念\n",
    "**双样本比例Z检验**用于比较两个独立样本的比例是否存在显著差异"
   ]
  },
  {
   "cell_type": "markdown",
   "id": "756e8507dcfbaa9",
   "metadata": {},
   "source": [
    "## 适用场景\n",
    "- 两组样本相互独立（来自两个不同总体）\n",
    "- 样本量较大，满足正态近似（通常每组n ≥ 30）"
   ]
  },
  {
   "cell_type": "markdown",
   "id": "c4ca46fad2313f72",
   "metadata": {},
   "source": [
    "## 零假设与备择假设\n",
    "- 单尾检验：\n",
    "    - 右尾检验：\n",
    "        - 零假设（$H_0$）：第一组总体比例小于等于第二组总体比例，即 $p_1 <= p_2$。\n",
    "        - 备择假设（$H_1$）：第一组总体比例大于第二组总体比例，即$p_1 > p_2$。\n",
    "    - 左尾检验：\n",
    "        - 零假设（$H_0$）：第一组总体比例大于等于第二组总体比例，即 $p_1 >= p_2$。\n",
    "        - 备择假设（$H_1$）：第一组总体比例小于第二组总体比例，即$p_1 < p_2$。\n",
    "- 双尾检验：\n",
    "    - 零假设（$H_0$）：两组数据总体比例相等，即 $p_1 = p_2$。\n",
    "    - 备择假设（$H_1$）：两组数据总体比例不相等，即$p_1 \\neq p_2$。"
   ]
  },
  {
   "cell_type": "markdown",
   "id": "846e46bfa5cffb0d",
   "metadata": {},
   "source": [
    "## 检验统计量\n",
    "检验统计量 $Z$ 的计算公式为：\n",
    "$$Z = \\frac{(\\hat{p}_1 - \\hat{p}_2) - 0}{\\sqrt{\\hat{p}(1-\\hat{p})\\left(\\frac{1}{n_1} + \\frac{1}{n_2}\\right)}}\n",
    "$$\n",
    "其中：\n",
    "- $\\hat{p}_1$, $\\hat{p}_2$：两样本比例（如转化率）\n",
    "- $n_1$, $n_2$：两样本容量\n",
    "- $\\hat{p}$：合并比例（当H₀为真时两组的共同比例估计）： \n",
    "    - $\\hat{p} = \\frac{x_1 + x_2}{n_1 + n_2}$，$x_1$, $x_2$为两组的成功次数"
   ]
  },
  {
   "cell_type": "markdown",
   "id": "c8d18a42dc0f85d2",
   "metadata": {},
   "source": [
    "## 步骤\n",
    "- **提出假设**：\n",
    "    - 明确原假设（$H_0$）和备择假设（$H_1$）\n",
    "- **计算Z值**：\n",
    "    - 使用样本数据计算出$Z$值。 \n",
    "- **查找临界值**：\n",
    "    - 根据显著性水平$\\alpha$，查找标准正态分布表中的临界值$Z_{\\text{临界}}$。 \n",
    "        - 单尾检验：临界值为 $Z_{\\text{临界}} = Z_{\\alpha}$。\n",
    "        - 双尾检验：临界值为 $Z_{\\text{临界}} = Z_{\\alpha/2}$。\n",
    "- **做出决策**：\n",
    "    - 如果$|Z| > Z_{\\text{临界}}$，拒绝零假设。\n",
    "    - 如果$|Z| \\leq Z_{\\text{临界}}$，不能拒绝零假设。"
   ]
  },
  {
   "cell_type": "markdown",
   "id": "3d1a57be0149d52",
   "metadata": {},
   "source": [
    "# 双样本比例z检验实际案例"
   ]
  },
  {
   "cell_type": "markdown",
   "id": "3fc9b46d",
   "metadata": {},
   "source": [
    "## 单尾检验"
   ]
  },
  {
   "cell_type": "markdown",
   "id": "9c2e1b1c",
   "metadata": {},
   "source": [
    "### 案例背景\n",
    "某电商平台对首页促销 banner 进行了两种设计（A组：静态图片，B组：动态轮播），希望验证动态设计的点击率（CTR）是否显著高于静态设计（左尾检验）。\n",
    "- 实验数据：\n",
    "    - A组（静态）：曝光量=10,000次，点击次数=450次（CTR=4.5%）\n",
    "    - B组（动态）：曝光量=10,000次，点击次数=600次（CTR=6.0%）"
   ]
  },
  {
   "cell_type": "markdown",
   "id": "dd296cf3",
   "metadata": {},
   "source": [
    "### 确定假设\n",
    "- **零假设（$H_0$）**：静态设计CTR >= 动态设计，即$p_1 >= p_2$\n",
    "- **备择假设（$H_1$）**：静态设计CTR < 动态设计，即$p_1 < p_2$"
   ]
  },
  {
   "cell_type": "markdown",
   "id": "7a80dd2d",
   "metadata": {},
   "source": [
    "### 计算检验统计量\n",
    "$$Z = \\frac{(\\hat{p}_1 - \\hat{p}_2) - 0}{\\sqrt{\\hat{p}(1-\\hat{p})\\left(\\frac{1}{n_1} + \\frac{1}{n_2}\\right)}}\n",
    "$$\n",
    "其中：\n",
    "- $\\hat{p}_1$, $\\hat{p}_2$：两样本比例（如转化率）\n",
    "- $n_1$, $n_2$：两样本容量\n",
    "- $\\hat{p}$：合并比例（当H₀为真时两组的共同比例估计）： \n",
    "    - $\\hat{p} = \\frac{x_1 + x_2}{n_1 + n_2}$，$x_1$, $x_2$为两组的成功次数"
   ]
  },
  {
   "cell_type": "markdown",
   "id": "29bee1d1",
   "metadata": {},
   "source": [
    "### 代码实现"
   ]
  },
  {
   "cell_type": "markdown",
   "id": "ee1066cc",
   "metadata": {},
   "source": [
    "#### 手工计算"
   ]
  },
  {
   "cell_type": "code",
   "execution_count": 5,
   "id": "6a2f3d1c",
   "metadata": {
    "scrolled": true
   },
   "outputs": [
    {
     "name": "stdout",
     "output_type": "stream",
     "text": [
      "A组CTR: 4.50%  B组CTR: 6.00%\n",
      "Z统计量: -4.7556\n",
      "P值: 0.0000\n",
      "结论：动态设计CTR显著更高（拒绝H₀）\n"
     ]
    }
   ],
   "source": [
    "import numpy as np\n",
    "from scipy.stats import norm\n",
    "\n",
    "# 输入数据\n",
    "x1, n1 = 450, 10000  # A组点击次数和曝光量\n",
    "x2, n2 = 600, 10000  # B组点击次数和曝光量\n",
    "\n",
    "# 计算样本比例和合并比例\n",
    "p1, p2 = x1/n1, x2/n2\n",
    "p_pool = (x1 + x2) / (n1 + n2)\n",
    "\n",
    "# 计算Z统计量（左尾检验）\n",
    "z_score = (p1 - p2) / np.sqrt(p_pool*(1-p_pool)*(1/n1 + 1/n2))\n",
    "p_value = 1 - norm.sf(z_score)  # 左尾P值\n",
    "\n",
    "# 输出结果\n",
    "print(f\"A组CTR: {p1:.2%}  B组CTR: {p2:.2%}\")\n",
    "print(f\"Z统计量: {z_score:.4f}\")\n",
    "print(f\"P值: {p_value:.4f}\")\n",
    "\n",
    "# 显著性判断（α=0.05）\n",
    "alpha = 0.05\n",
    "if p_value < alpha:\n",
    "    print(\"结论：动态设计CTR显著更高（拒绝H₀）\")\n",
    "else:\n",
    "    print(\"结论：无显著提升（无法拒绝H₀）\")"
   ]
  },
  {
   "cell_type": "markdown",
   "id": "e395c137",
   "metadata": {},
   "source": [
    "#### `proportions_ztest()`实现"
   ]
  },
  {
   "cell_type": "markdown",
   "id": "e581f3e3",
   "metadata": {},
   "source": [
    "`proportions_ztest()`\n",
    "- **输入参数**\n",
    "   - `count`: 成功次数\n",
    "       - 单样本检验: 直接传入成功次数\n",
    "       - 双样本检验: 传入数组$[count1, count2]$，分别代表两组样本的成功次数\n",
    "   - `nobs`: 总实验次数\n",
    "      - 单样本检验: 传入总试验次数\n",
    "      - 双样本检验: 传入数组$[nobs1, nobs2]$，分别代表两组样本的总试验次数\n",
    "   - `value`: 原假设的比例值或比例差异值\n",
    "       - 单样本检验：原假设的比例\n",
    "       - 双样本检验：两组比例的差异值\n",
    "   - `alternative`: 备择假设的类型\n",
    "       - `two-sided`：双尾检验（默认）\n",
    "       - `larger`：右尾检验（备择假设中检验参数是否显著大于某个值）\n",
    "       - `smaller`：左尾检验（备择假设中检验参数是否显著小于某个值）\n",
    "   - `prop_var`: 标准误差的计算方式\n",
    "       - `False (默认)`: 使用样本比例$\\hat{p}$计算标准误差\n",
    "       - 指定比例（如 0.05）: 使用指定值计算标准误差，一般使用原假设比例$p_0$\n",
    "- **输出返回值**\n",
    "    - `zstat`：Z 统计量（检验统计量）。\n",
    "    - `pvalue`：P 值"
   ]
  },
  {
   "cell_type": "code",
   "execution_count": 9,
   "id": "9159b439",
   "metadata": {},
   "outputs": [
    {
     "name": "stdout",
     "output_type": "stream",
     "text": [
      "Z统计量: -4.7556\n",
      "P值: 0.0000\n",
      "结论：动态设计显著提升CTR（拒绝H₀）\n"
     ]
    }
   ],
   "source": [
    "from statsmodels.stats.proportion import proportions_ztest\n",
    "\n",
    "# 输入点击次数和曝光量\n",
    "count = np.array([450, 600])    # [A组点击, B组点击]\n",
    "nobs = np.array([10000, 10000]) # 两组曝光量\n",
    "\n",
    "# 单尾Z检验（左尾：alternative='smaller'）\n",
    "z_stat, p_value = proportions_ztest(count, nobs, value=0, alternative='smaller', prop_var=0)\n",
    "\n",
    "print(f\"Z统计量: {z_stat:.4f}\")\n",
    "print(f\"P值: {p_value:.4f}\")\n",
    "\n",
    "if p_value < 0.05:\n",
    "    print(\"结论：动态设计显著提升CTR（拒绝H₀）\")\n",
    "else:\n",
    "    print(\"结论：无显著差异\")"
   ]
  },
  {
   "cell_type": "markdown",
   "id": "0bc822ba",
   "metadata": {},
   "source": [
    "## 双尾检验"
   ]
  },
  {
   "cell_type": "markdown",
   "id": "a3ac5c06",
   "metadata": {},
   "source": [
    "### 案例背景\n",
    "某互联网广告平台对广告落地页进行了两种设计（A组：单列布局，B组：双列布局），希望验证两种设计的用户注册转化率是否存在显著差异（双尾检验）。\n",
    "\n",
    "- 实验数据：\n",
    "    - A组（单列）：曝光量=8,000次，注册量=320人（转化率=4.0%）\n",
    "    - B组（双列）：曝光量=8,000次，注册量=400人（转化率=5.0%）"
   ]
  },
  {
   "cell_type": "markdown",
   "id": "1566988b",
   "metadata": {},
   "source": [
    "### 确定假设\n",
    "- **零假设（$H_0$）**：两设计转化率无差异，即$p_A = p_B$\n",
    "- **备择假设（$H_1$）**：两设计转化率存在差异，即$p_A \\ne p_B$"
   ]
  },
  {
   "cell_type": "markdown",
   "id": "1fd6eb39",
   "metadata": {},
   "source": [
    "### 计算检验统计量\n",
    "$$Z = \\frac{(\\hat{p}_1 - \\hat{p}_2) - 0}{\\sqrt{\\hat{p}(1-\\hat{p})\\left(\\frac{1}{n_1} + \\frac{1}{n_2}\\right)}}\n",
    "$$\n",
    "其中：\n",
    "- $\\hat{p}_1$, $\\hat{p}_2$：两样本比例（如转化率）\n",
    "- $n_1$, $n_2$：两样本容量\n",
    "- $\\hat{p}$：合并比例（当H₀为真时两组的共同比例估计）： \n",
    "    - $\\hat{p} = \\frac{x_1 + x_2}{n_1 + n_2}$，$x_1$, $x_2$为两组的成功次数"
   ]
  },
  {
   "cell_type": "markdown",
   "id": "c046f67c",
   "metadata": {},
   "source": [
    "### 代码实现"
   ]
  },
  {
   "cell_type": "markdown",
   "id": "56b7f33b",
   "metadata": {},
   "source": [
    "#### 手工计算"
   ]
  },
  {
   "cell_type": "code",
   "execution_count": 10,
   "id": "e3f72ae0",
   "metadata": {},
   "outputs": [
    {
     "name": "stdout",
     "output_type": "stream",
     "text": [
      "A组转化率: 4.00%  B组转化率: 5.00%\n",
      "Z统计量: -3.0509\n",
      "P值: 0.0023\n",
      "结论：两种设计转化率差异显著（拒绝H₀）\n"
     ]
    }
   ],
   "source": [
    "import numpy as np\n",
    "from scipy.stats import norm\n",
    "\n",
    "# 输入数据\n",
    "x1, n1 = 320, 8000   # A组注册量和曝光量\n",
    "x2, n2 = 400, 8000   # B组注册量和曝光量\n",
    "\n",
    "# 计算样本比例和合并比例\n",
    "p1, p2 = x1/n1, x2/n2\n",
    "p_pool = (x1 + x2) / (n1 + n2)\n",
    "\n",
    "# 计算Z统计量（双尾检验）\n",
    "z_score = (p1 - p2) / np.sqrt(p_pool*(1-p_pool)*(1/n1 + 1/n2))\n",
    "p_value = 2 * norm.sf(np.abs(z_score))  # 双尾需乘以2\n",
    "\n",
    "# 输出结果\n",
    "print(f\"A组转化率: {p1:.2%}  B组转化率: {p2:.2%}\")\n",
    "print(f\"Z统计量: {z_score:.4f}\")\n",
    "print(f\"P值: {p_value:.4f}\")\n",
    "\n",
    "# 显著性判断（α=0.05）\n",
    "alpha = 0.05\n",
    "if p_value < alpha:\n",
    "    print(\"结论：两种设计转化率差异显著（拒绝H₀）\")\n",
    "else:\n",
    "    print(\"结论：无显著差异（无法拒绝H₀）\")"
   ]
  },
  {
   "cell_type": "markdown",
   "id": "0f4f013d",
   "metadata": {},
   "source": [
    "#### `proportions_ztest()`实现"
   ]
  },
  {
   "cell_type": "code",
   "execution_count": 12,
   "id": "67e92852",
   "metadata": {},
   "outputs": [
    {
     "name": "stdout",
     "output_type": "stream",
     "text": [
      "Z统计量: -3.0509\n",
      "P值: 0.0023\n",
      "结论：转化率差异显著（拒绝H₀）\n"
     ]
    }
   ],
   "source": [
    "from statsmodels.stats.proportion import proportions_ztest\n",
    "\n",
    "# 输入点击次数和曝光量\n",
    "count = np.array([320, 400])    # [A组注册量, B组注册量]\n",
    "nobs = np.array([8000, 8000])   # 两组曝光量\n",
    "\n",
    "# 双尾Z检验（默认alternative='two-sided'）\n",
    "z_stat, p_value = proportions_ztest(count, nobs, value=0, alternative='two-sided', prop_var=0)\n",
    "\n",
    "print(f\"Z统计量: {z_stat:.4f}\")\n",
    "print(f\"P值: {p_value:.4f}\")\n",
    "\n",
    "if p_value < 0.05:\n",
    "    print(\"结论：转化率差异显著（拒绝H₀）\")\n",
    "else:\n",
    "    print(\"结论：无显著差异\")"
   ]
  },
  {
   "cell_type": "code",
   "execution_count": null,
   "id": "87b3229c",
   "metadata": {},
   "outputs": [],
   "source": []
  },
  {
   "cell_type": "code",
   "execution_count": null,
   "id": "319cffaf",
   "metadata": {},
   "outputs": [],
   "source": []
  },
  {
   "cell_type": "code",
   "execution_count": null,
   "id": "7d3deced",
   "metadata": {},
   "outputs": [],
   "source": []
  }
 ],
 "metadata": {
  "kernelspec": {
   "display_name": "Python 3 (ipykernel)",
   "language": "python",
   "name": "python3"
  },
  "language_info": {
   "codemirror_mode": {
    "name": "ipython",
    "version": 3
   },
   "file_extension": ".py",
   "mimetype": "text/x-python",
   "name": "python",
   "nbconvert_exporter": "python",
   "pygments_lexer": "ipython3",
   "version": "3.12.2"
  },
  "toc": {
   "base_numbering": 1,
   "nav_menu": {},
   "number_sections": true,
   "sideBar": true,
   "skip_h1_title": false,
   "title_cell": "Table of Contents",
   "title_sidebar": "Contents",
   "toc_cell": false,
   "toc_position": {
    "height": "calc(100% - 180px)",
    "left": "10px",
    "top": "150px",
    "width": "288px"
   },
   "toc_section_display": true,
   "toc_window_display": true
  }
 },
 "nbformat": 4,
 "nbformat_minor": 5
}
