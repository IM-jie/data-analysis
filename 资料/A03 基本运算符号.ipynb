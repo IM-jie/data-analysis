{
 "cells": [
  {
   "cell_type": "markdown",
   "id": "9e117599",
   "metadata": {},
   "source": [
    "# python中的运算符号"
   ]
  },
  {
   "cell_type": "markdown",
   "id": "92136295",
   "metadata": {},
   "source": [
    "## 算术运算符"
   ]
  },
  {
   "cell_type": "markdown",
   "id": "a799be78",
   "metadata": {},
   "source": [
    "| 运算符 | 描述 | 示例 | 结果 |\n",
    "|:-------:|:----:|:----:|:----:|\n",
    "|   +    | 加法 | 5 + 3 |  8   |\n",
    "|   -    | 减法 | 5 - 3 |  2   |\n",
    "|   *    | 乘法 | 5 * 3 | 15   |\n",
    "|   /    | 除法 | 5 / 2 | 2.5  |\n",
    "|   //   | 整除 | 5 // 2 |  2   |\n",
    "|   %    | 取模（余数） | 5 % 2 |  1   |\n",
    "|   **   | 指数（幂运算） | 2 ** 3 |  8   |"
   ]
  },
  {
   "cell_type": "code",
   "execution_count": 9,
   "id": "26dc6149",
   "metadata": {},
   "outputs": [
    {
     "data": {
      "text/plain": [
       "8"
      ]
     },
     "execution_count": 9,
     "metadata": {},
     "output_type": "execute_result"
    }
   ],
   "source": [
    "2**3"
   ]
  },
  {
   "cell_type": "markdown",
   "id": "24a8438b",
   "metadata": {},
   "source": [
    "## 比较运算符（关系运算符）"
   ]
  },
  {
   "cell_type": "markdown",
   "id": "356bb188",
   "metadata": {},
   "source": [
    "用于比较两个值，返回布尔值 True 或 False"
   ]
  },
  {
   "cell_type": "markdown",
   "id": "f52eccba",
   "metadata": {},
   "source": [
    "| 运算符 | 描述   | 示例    | 结果   |\n",
    "|:------:|--------|---------|--------|\n",
    "| ==    | 等于   | 5 == 3  | False  |\n",
    "| !=    | 不等于 | 5 != 3  | True   |\n",
    "| >     | 大于   | 5 > 3   | True   |\n",
    "| <     | 小于   | 5 < 3   | False  |\n",
    "| >=    | 大于等于 | 5 >= 5  | True   |\n",
    "| <=    | 小于等于 | 5 <= 3  | False  |"
   ]
  },
  {
   "cell_type": "code",
   "execution_count": 20,
   "id": "deeb912f",
   "metadata": {},
   "outputs": [
    {
     "data": {
      "text/plain": [
       "False"
      ]
     },
     "execution_count": 20,
     "metadata": {},
     "output_type": "execute_result"
    }
   ],
   "source": [
    "5<=1"
   ]
  },
  {
   "cell_type": "markdown",
   "id": "688a164b",
   "metadata": {},
   "source": [
    "## 赋值运算符"
   ]
  },
  {
   "cell_type": "markdown",
   "id": "ed77cfa9",
   "metadata": {},
   "source": [
    "用于将值赋给变量"
   ]
  },
  {
   "cell_type": "markdown",
   "id": "67e308f2",
   "metadata": {},
   "source": [
    "| 运算符 | 描述   | 示例    | 等价于                     |\n",
    "|:------:|--------|---------|-----------------------------|\n",
    "| =      | 赋值   | x = 5   | x = 5                      |\n",
    "| +=     | 加法赋值 | x += 3  | x = x + 3                  |\n",
    "| -=     | 减法赋值 | x -= 3  | x = x - 3                  |\n",
    "| *=     | 乘法赋值 | x *= 3  | x = x * 3                  |\n",
    "| /=     | 除法赋值 | x /= 3  | x = x / 3                  |\n",
    "| //=    | 整除赋值 | x //= 3 | x = x // 3                 |\n",
    "| %=     | 取模赋值 | x %= 3  | x = x % 3                  |\n",
    "| **=    | 幂赋值   | x **= 3 | x = x ** 3                 |"
   ]
  },
  {
   "cell_type": "code",
   "execution_count": 30,
   "id": "1288da0f",
   "metadata": {},
   "outputs": [
    {
     "data": {
      "text/plain": [
       "343"
      ]
     },
     "execution_count": 30,
     "metadata": {},
     "output_type": "execute_result"
    }
   ],
   "source": [
    "x = 7\n",
    "x**=3\n",
    "x"
   ]
  },
  {
   "cell_type": "markdown",
   "id": "5439a104",
   "metadata": {},
   "source": [
    "## 逻辑运算符"
   ]
  },
  {
   "cell_type": "markdown",
   "id": "a21843f8",
   "metadata": {},
   "source": [
    "用于布尔值的逻辑运算"
   ]
  },
  {
   "cell_type": "markdown",
   "id": "16b511cc",
   "metadata": {},
   "source": [
    "| 运算符 | 描述   | 示例         | 结果   |\n",
    "|:------:|--------|--------------|--------|\n",
    "| and    | 逻辑与 | True and False | False  |\n",
    "| or     | 逻辑或 | True or False  | True   |\n",
    "| not    | 逻辑非 | not True      | False  |"
   ]
  },
  {
   "cell_type": "code",
   "execution_count": 33,
   "id": "48f98d2e",
   "metadata": {},
   "outputs": [
    {
     "data": {
      "text/plain": [
       "False"
      ]
     },
     "execution_count": 33,
     "metadata": {},
     "output_type": "execute_result"
    }
   ],
   "source": [
    "not True"
   ]
  },
  {
   "cell_type": "markdown",
   "id": "2b182776",
   "metadata": {},
   "source": [
    "## 成员运算符"
   ]
  },
  {
   "cell_type": "markdown",
   "id": "000e4a0d",
   "metadata": {},
   "source": [
    "用于测试序列中是否存在某个值"
   ]
  },
  {
   "cell_type": "markdown",
   "id": "4d0b756c",
   "metadata": {},
   "source": [
    "| 运算符  | 描述           | 示例                | 结果   |\n",
    "|:-------:|---------------|---------------------|--------|\n",
    "| in      | 如果值在序列中 | 3 in [1, 2, 3]       | True   |\n",
    "| not in  | 如果值不在序列中 | 4 not in [1, 2, 3]   | True   |"
   ]
  },
  {
   "cell_type": "code",
   "execution_count": 36,
   "id": "0e995012",
   "metadata": {},
   "outputs": [
    {
     "data": {
      "text/plain": [
       "False"
      ]
     },
     "execution_count": 36,
     "metadata": {},
     "output_type": "execute_result"
    }
   ],
   "source": [
    "'a' in [1,2,3]"
   ]
  },
  {
   "cell_type": "markdown",
   "id": "584697e9",
   "metadata": {},
   "source": [
    "## 身份运算符"
   ]
  },
  {
   "cell_type": "markdown",
   "id": "f1888467",
   "metadata": {},
   "source": [
    "用于比较两个对象的内存地址是否相同"
   ]
  },
  {
   "cell_type": "markdown",
   "id": "9f866050",
   "metadata": {},
   "source": [
    "| 运算符  | 描述                     | 示例         | 结果     |\n",
    "|:-------:|-------------------------|--------------|----------|\n",
    "| is      | 两个对象是否引用同一对象   | a is b       | True/False |\n",
    "| is not  | 两个对象是否引用不同对象   | a is not b   | True/False |"
   ]
  },
  {
   "cell_type": "code",
   "execution_count": 38,
   "id": "98e6c7b7",
   "metadata": {},
   "outputs": [
    {
     "data": {
      "text/plain": [
       "True"
      ]
     },
     "execution_count": 38,
     "metadata": {},
     "output_type": "execute_result"
    }
   ],
   "source": [
    "a = 5\n",
    "b = 5\n",
    "a is b"
   ]
  },
  {
   "cell_type": "markdown",
   "id": "be8d181d",
   "metadata": {},
   "source": [
    "## 运算符优先级"
   ]
  },
  {
   "cell_type": "markdown",
   "id": "c066ec45",
   "metadata": {},
   "source": [
    "运算符有优先级规则，以下为优先级从高到低的顺序"
   ]
  },
  {
   "cell_type": "markdown",
   "id": "4152aed2",
   "metadata": {},
   "source": [
    "| 优先级 | 运算符        |\n",
    "|:-------:|---------------|\n",
    "| 1       | **（指数）     |\n",
    "| 2       | ~, +（正号）, -（负号） |\n",
    "| 3       | *, /, %, //    |\n",
    "| 4       | +, -          |\n",
    "| 5       | >>, <<        |\n",
    "| 6       | &            |\n",
    "| 7       | ^            |\n",
    "| 8       | `            |\n",
    "| 9       | 比较运算符（==, !=, >, <, 等） |\n",
    "| 10      | not          |\n",
    "| 11      | and          |\n",
    "| 12      | or           |"
   ]
  }
 ],
 "metadata": {
  "kernelspec": {
   "display_name": "Python 3 (ipykernel)",
   "language": "python",
   "name": "python3"
  },
  "language_info": {
   "codemirror_mode": {
    "name": "ipython",
    "version": 3
   },
   "file_extension": ".py",
   "mimetype": "text/x-python",
   "name": "python",
   "nbconvert_exporter": "python",
   "pygments_lexer": "ipython3",
   "version": "3.12.2"
  },
  "toc": {
   "base_numbering": 1,
   "nav_menu": {},
   "number_sections": true,
   "sideBar": true,
   "skip_h1_title": false,
   "title_cell": "Table of Contents",
   "title_sidebar": "Contents",
   "toc_cell": false,
   "toc_position": {
    "height": "calc(100% - 180px)",
    "left": "10px",
    "top": "150px",
    "width": "265px"
   },
   "toc_section_display": true,
   "toc_window_display": true
  }
 },
 "nbformat": 4,
 "nbformat_minor": 5
}
