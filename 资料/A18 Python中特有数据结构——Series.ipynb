{
 "cells": [
  {
   "cell_type": "markdown",
   "id": "ea57f7c6",
   "metadata": {},
   "source": [
    "# Series基本介绍"
   ]
  },
  {
   "cell_type": "markdown",
   "id": "1cacd0ac",
   "metadata": {},
   "source": [
    "**Series**是python中特有的数据结构，类似于一个一维的数组，具有数据和索引\n",
    "\n",
    "- Series是一个带有索引的一维数组，可以存储任何数据类型（整数、浮点数、字符串等）\n",
    "- Series是DataFrame的基本组成部分，DataFrame的每一列都是Series。\n",
    "- Series仅由索引与数据值组成：\n",
    "    - **索引（index）**：每一行的标签，用于标识行\n",
    "    - **数据值（values）**：存储在 Series 中的实际值"
   ]
  },
  {
   "cell_type": "markdown",
   "id": "73ac1dcb-e539-4ce4-aee7-2ce8067ec9e9",
   "metadata": {},
   "source": [
    "# Series的创建"
   ]
  },
  {
   "cell_type": "markdown",
   "id": "b8a1c2b9",
   "metadata": {},
   "source": [
    "## 从列表创建"
   ]
  },
  {
   "cell_type": "code",
   "execution_count": 2,
   "id": "aaed77d0",
   "metadata": {},
   "outputs": [
    {
     "data": {
      "text/plain": [
       "0    1\n",
       "1    2\n",
       "2    3\n",
       "3    4\n",
       "4    5\n",
       "dtype: int64"
      ]
     },
     "execution_count": 2,
     "metadata": {},
     "output_type": "execute_result"
    }
   ],
   "source": [
    "import pandas as pd\n",
    "\n",
    "# 从列表创建Series，使用默认索引\n",
    "data = [1, 2, 3, 4, 5]\n",
    "series = pd.Series(data)\n",
    "series"
   ]
  },
  {
   "cell_type": "code",
   "execution_count": 3,
   "id": "1f74ba33",
   "metadata": {},
   "outputs": [
    {
     "data": {
      "text/plain": [
       "A    10\n",
       "B    20\n",
       "C    30\n",
       "D    40\n",
       "dtype: int64"
      ]
     },
     "execution_count": 3,
     "metadata": {},
     "output_type": "execute_result"
    }
   ],
   "source": [
    "# 通过index自定义索引\n",
    "data = [10, 20, 30, 40]\n",
    "s = pd.Series(data, index=['A', 'B', 'C', 'D'])\n",
    "s"
   ]
  },
  {
   "cell_type": "markdown",
   "id": "45fd047a-f389-48ca-a920-700d7956e76d",
   "metadata": {},
   "source": [
    "## 从字典创建\n",
    "字典的键会成为 Series 的列名，值会成为列数据。"
   ]
  },
  {
   "cell_type": "code",
   "execution_count": 4,
   "id": "23ec251b-8fd0-4e09-9036-df68f9973382",
   "metadata": {},
   "outputs": [
    {
     "data": {
      "text/plain": [
       "a    1\n",
       "b    2\n",
       "c    3\n",
       "dtype: int64"
      ]
     },
     "execution_count": 4,
     "metadata": {},
     "output_type": "execute_result"
    }
   ],
   "source": [
    "# 从字典创建Series\n",
    "data = {'a': 1, 'b': 2, 'c': 3}\n",
    "series = pd.Series(data)\n",
    "series"
   ]
  },
  {
   "cell_type": "markdown",
   "id": "125f8f43",
   "metadata": {},
   "source": [
    "# Series的主要方法"
   ]
  },
  {
   "cell_type": "markdown",
   "id": "97ae579b",
   "metadata": {},
   "source": [
    "## 访问Series中元素"
   ]
  },
  {
   "cell_type": "code",
   "execution_count": 5,
   "id": "587e7748",
   "metadata": {},
   "outputs": [
    {
     "data": {
      "text/plain": [
       "a    1\n",
       "b    2\n",
       "c    3\n",
       "d    4\n",
       "e    5\n",
       "f    6\n",
       "dtype: int64"
      ]
     },
     "execution_count": 5,
     "metadata": {},
     "output_type": "execute_result"
    }
   ],
   "source": [
    "data = {'a': 1, 'b': 2, 'c': 3, 'd':4, 'e':5, 'f':6}\n",
    "series = pd.Series(data)\n",
    "series"
   ]
  },
  {
   "cell_type": "markdown",
   "id": "ed15a7db",
   "metadata": {},
   "source": [
    "### 按整数位置访问"
   ]
  },
  {
   "cell_type": "code",
   "execution_count": 8,
   "id": "664d1058",
   "metadata": {},
   "outputs": [
    {
     "data": {
      "text/plain": [
       "d    4\n",
       "e    5\n",
       "f    6\n",
       "dtype: int64"
      ]
     },
     "execution_count": 8,
     "metadata": {},
     "output_type": "execute_result"
    }
   ],
   "source": [
    "# 按照整数位置（从0开始）进行访问\n",
    "series[3:]"
   ]
  },
  {
   "cell_type": "markdown",
   "id": "73dbe255",
   "metadata": {},
   "source": [
    "### 按标签（自定义索引）访问"
   ]
  },
  {
   "cell_type": "code",
   "execution_count": 11,
   "id": "ed91f2c6",
   "metadata": {},
   "outputs": [
    {
     "data": {
      "text/plain": [
       "6"
      ]
     },
     "execution_count": 11,
     "metadata": {},
     "output_type": "execute_result"
    }
   ],
   "source": [
    "# 按照自定义索引进行访问\n",
    "series['f']"
   ]
  },
  {
   "cell_type": "markdown",
   "id": "f9934924",
   "metadata": {},
   "source": [
    "### 通过.iloc[]访问"
   ]
  },
  {
   "cell_type": "markdown",
   "id": "6113fc8a",
   "metadata": {},
   "source": [
    "**.iloc[position]**：\n",
    "  - position：整数位置"
   ]
  },
  {
   "cell_type": "code",
   "execution_count": 12,
   "id": "86bae9c5",
   "metadata": {},
   "outputs": [
    {
     "data": {
      "text/plain": [
       "4"
      ]
     },
     "execution_count": 12,
     "metadata": {},
     "output_type": "execute_result"
    }
   ],
   "source": [
    "# 按照整数位置（从0开始）进行访问\n",
    "series.iloc[3]"
   ]
  },
  {
   "cell_type": "markdown",
   "id": "b8c59bb7",
   "metadata": {},
   "source": [
    "### 通过.loc[]访问"
   ]
  },
  {
   "cell_type": "markdown",
   "id": "ffe1e3a9",
   "metadata": {},
   "source": [
    "**.loc[label]**：\n",
    "  - label：标签（自定义索引）"
   ]
  },
  {
   "cell_type": "code",
   "execution_count": 13,
   "id": "f516466b",
   "metadata": {},
   "outputs": [
    {
     "data": {
      "text/plain": [
       "4"
      ]
     },
     "execution_count": 13,
     "metadata": {},
     "output_type": "execute_result"
    }
   ],
   "source": [
    "# 按照自定义索引进行访问\n",
    "series.loc['d']"
   ]
  },
  {
   "cell_type": "markdown",
   "id": "b1ed3727",
   "metadata": {},
   "source": [
    "## 索引与值"
   ]
  },
  {
   "cell_type": "markdown",
   "id": "98be3896",
   "metadata": {},
   "source": [
    "Series由索引与值组成"
   ]
  },
  {
   "cell_type": "markdown",
   "id": "35558eb0",
   "metadata": {},
   "source": [
    "### index：获取Series的索引"
   ]
  },
  {
   "cell_type": "code",
   "execution_count": 14,
   "id": "8b04a06a",
   "metadata": {},
   "outputs": [
    {
     "data": {
      "text/plain": [
       "a    1\n",
       "b    2\n",
       "c    3\n",
       "d    4\n",
       "e    5\n",
       "f    6\n",
       "dtype: int64"
      ]
     },
     "execution_count": 14,
     "metadata": {},
     "output_type": "execute_result"
    }
   ],
   "source": [
    "series"
   ]
  },
  {
   "cell_type": "code",
   "execution_count": 15,
   "id": "e5c23b57",
   "metadata": {},
   "outputs": [
    {
     "data": {
      "text/plain": [
       "Index(['a', 'b', 'c', 'd', 'e', 'f'], dtype='object')"
      ]
     },
     "execution_count": 15,
     "metadata": {},
     "output_type": "execute_result"
    }
   ],
   "source": [
    "series.index"
   ]
  },
  {
   "cell_type": "code",
   "execution_count": 16,
   "id": "caab49ac",
   "metadata": {},
   "outputs": [
    {
     "data": {
      "text/plain": [
       "a1    1\n",
       "b1    2\n",
       "c1    3\n",
       "d1    4\n",
       "e1    5\n",
       "f1    6\n",
       "dtype: int64"
      ]
     },
     "execution_count": 16,
     "metadata": {},
     "output_type": "execute_result"
    }
   ],
   "source": [
    "# 修改Series的索引\n",
    "series.index = ['a1', 'b1', 'c1', 'd1', 'e1', 'f1']\n",
    "series"
   ]
  },
  {
   "cell_type": "markdown",
   "id": "ba22cafb",
   "metadata": {},
   "source": [
    "### values：获取Series的值"
   ]
  },
  {
   "cell_type": "code",
   "execution_count": 17,
   "id": "aa6abb7b",
   "metadata": {},
   "outputs": [
    {
     "data": {
      "text/plain": [
       "array([1, 2, 3, 4, 5, 6])"
      ]
     },
     "execution_count": 17,
     "metadata": {},
     "output_type": "execute_result"
    }
   ],
   "source": [
    "series.values"
   ]
  },
  {
   "cell_type": "markdown",
   "id": "773b66b9",
   "metadata": {},
   "source": [
    "# DataFrame与Series的关系"
   ]
  },
  {
   "cell_type": "markdown",
   "id": "dfb6cbf0",
   "metadata": {},
   "source": [
    "## DataFrame中的每一列都是Series"
   ]
  },
  {
   "cell_type": "code",
   "execution_count": 18,
   "id": "c81750a5",
   "metadata": {},
   "outputs": [
    {
     "data": {
      "text/html": [
       "<div>\n",
       "<style scoped>\n",
       "    .dataframe tbody tr th:only-of-type {\n",
       "        vertical-align: middle;\n",
       "    }\n",
       "\n",
       "    .dataframe tbody tr th {\n",
       "        vertical-align: top;\n",
       "    }\n",
       "\n",
       "    .dataframe thead th {\n",
       "        text-align: right;\n",
       "    }\n",
       "</style>\n",
       "<table border=\"1\" class=\"dataframe\">\n",
       "  <thead>\n",
       "    <tr style=\"text-align: right;\">\n",
       "      <th></th>\n",
       "      <th>Name</th>\n",
       "      <th>Age</th>\n",
       "      <th>City</th>\n",
       "    </tr>\n",
       "  </thead>\n",
       "  <tbody>\n",
       "    <tr>\n",
       "      <th>0</th>\n",
       "      <td>John</td>\n",
       "      <td>28</td>\n",
       "      <td>New York</td>\n",
       "    </tr>\n",
       "    <tr>\n",
       "      <th>1</th>\n",
       "      <td>Anna</td>\n",
       "      <td>23</td>\n",
       "      <td>Paris</td>\n",
       "    </tr>\n",
       "    <tr>\n",
       "      <th>2</th>\n",
       "      <td>Peter</td>\n",
       "      <td>34</td>\n",
       "      <td>Berlin</td>\n",
       "    </tr>\n",
       "    <tr>\n",
       "      <th>3</th>\n",
       "      <td>Linda</td>\n",
       "      <td>29</td>\n",
       "      <td>London</td>\n",
       "    </tr>\n",
       "  </tbody>\n",
       "</table>\n",
       "</div>"
      ],
      "text/plain": [
       "    Name  Age      City\n",
       "0   John   28  New York\n",
       "1   Anna   23     Paris\n",
       "2  Peter   34    Berlin\n",
       "3  Linda   29    London"
      ]
     },
     "execution_count": 18,
     "metadata": {},
     "output_type": "execute_result"
    }
   ],
   "source": [
    "data_list = [\n",
    "    ['John', 28, 'New York'],\n",
    "    ['Anna', 23, 'Paris'],\n",
    "    ['Peter', 34, 'Berlin'],\n",
    "    ['Linda', 29, 'London']\n",
    "]\n",
    "df_list = pd.DataFrame(data_list, columns=['Name', 'Age', 'City'])\n",
    "df_list"
   ]
  },
  {
   "cell_type": "code",
   "execution_count": 23,
   "id": "d32774ac",
   "metadata": {},
   "outputs": [
    {
     "data": {
      "text/plain": [
       "0    28\n",
       "1    23\n",
       "2    34\n",
       "3    29\n",
       "Name: Age, dtype: int64"
      ]
     },
     "execution_count": 23,
     "metadata": {},
     "output_type": "execute_result"
    }
   ],
   "source": [
    "# DataFrame中的每一列索引出来都是Seires\n",
    "df_series = df_list['Age']\n",
    "df_series"
   ]
  },
  {
   "cell_type": "markdown",
   "id": "d14a2655",
   "metadata": {},
   "source": [
    "因此DataFrame中的属性和方法都适用于Series，比如head()、tail()、dtypes、shape、describe()、value_counts()等"
   ]
  },
  {
   "cell_type": "code",
   "execution_count": 24,
   "id": "5fe037ae",
   "metadata": {},
   "outputs": [
    {
     "data": {
      "text/plain": [
       "0    28\n",
       "1    23\n",
       "Name: Age, dtype: int64"
      ]
     },
     "execution_count": 24,
     "metadata": {},
     "output_type": "execute_result"
    }
   ],
   "source": [
    "df_series.head(2)"
   ]
  },
  {
   "cell_type": "code",
   "execution_count": 25,
   "id": "389aafae",
   "metadata": {},
   "outputs": [
    {
     "data": {
      "text/plain": [
       "2    34\n",
       "3    29\n",
       "Name: Age, dtype: int64"
      ]
     },
     "execution_count": 25,
     "metadata": {},
     "output_type": "execute_result"
    }
   ],
   "source": [
    "df_series.tail(2)"
   ]
  },
  {
   "cell_type": "code",
   "execution_count": 26,
   "id": "0ab641b4",
   "metadata": {},
   "outputs": [
    {
     "data": {
      "text/plain": [
       "dtype('int64')"
      ]
     },
     "execution_count": 26,
     "metadata": {},
     "output_type": "execute_result"
    }
   ],
   "source": [
    "df_series.dtypes"
   ]
  },
  {
   "cell_type": "code",
   "execution_count": 27,
   "id": "714e057d",
   "metadata": {},
   "outputs": [
    {
     "data": {
      "text/plain": [
       "(4,)"
      ]
     },
     "execution_count": 27,
     "metadata": {},
     "output_type": "execute_result"
    }
   ],
   "source": [
    "df_series.shape"
   ]
  },
  {
   "cell_type": "code",
   "execution_count": 28,
   "id": "c6704e5d",
   "metadata": {
    "scrolled": true
   },
   "outputs": [
    {
     "data": {
      "text/plain": [
       "count     4.00000\n",
       "mean     28.50000\n",
       "std       4.50925\n",
       "min      23.00000\n",
       "25%      26.75000\n",
       "50%      28.50000\n",
       "75%      30.25000\n",
       "max      34.00000\n",
       "Name: Age, dtype: float64"
      ]
     },
     "execution_count": 28,
     "metadata": {},
     "output_type": "execute_result"
    }
   ],
   "source": [
    "df_series.describe()"
   ]
  },
  {
   "cell_type": "code",
   "execution_count": 29,
   "id": "53f2a512",
   "metadata": {},
   "outputs": [
    {
     "data": {
      "text/plain": [
       "Age\n",
       "28    1\n",
       "23    1\n",
       "34    1\n",
       "29    1\n",
       "Name: count, dtype: int64"
      ]
     },
     "execution_count": 29,
     "metadata": {},
     "output_type": "execute_result"
    }
   ],
   "source": [
    "df_series.value_counts()"
   ]
  },
  {
   "cell_type": "code",
   "execution_count": null,
   "id": "b6c583b6",
   "metadata": {},
   "outputs": [],
   "source": []
  }
 ],
 "metadata": {
  "kernelspec": {
   "display_name": "Python 3 (ipykernel)",
   "language": "python",
   "name": "python3"
  },
  "language_info": {
   "codemirror_mode": {
    "name": "ipython",
    "version": 3
   },
   "file_extension": ".py",
   "mimetype": "text/x-python",
   "name": "python",
   "nbconvert_exporter": "python",
   "pygments_lexer": "ipython3",
   "version": "3.12.2"
  },
  "toc": {
   "base_numbering": 1,
   "nav_menu": {},
   "number_sections": true,
   "sideBar": true,
   "skip_h1_title": false,
   "title_cell": "Table of Contents",
   "title_sidebar": "Contents",
   "toc_cell": false,
   "toc_position": {
    "height": "calc(100% - 180px)",
    "left": "10px",
    "top": "150px",
    "width": "267px"
   },
   "toc_section_display": true,
   "toc_window_display": true
  }
 },
 "nbformat": 4,
 "nbformat_minor": 5
}
