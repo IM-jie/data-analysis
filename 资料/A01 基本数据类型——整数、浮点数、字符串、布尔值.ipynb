{
 "cells": [
  {
   "cell_type": "markdown",
   "id": "c62b563e",
   "metadata": {},
   "source": [
    "# 基本数据类型介绍"
   ]
  },
  {
   "cell_type": "markdown",
   "id": "819331ea-115c-4491-b99d-acd9c8911e2e",
   "metadata": {},
   "source": [
    "Python中基本数据类型有整数（int）、浮点数（float）、字符串（str）、布尔值（bool）"
   ]
  },
  {
   "cell_type": "markdown",
   "id": "f0fb394a-a7f3-4914-a241-850ef14f2256",
   "metadata": {},
   "source": [
    "## 整数（int）\n",
    "\n",
    "**特性**：\n",
    "- 表示没有小数部分的数字。\n",
    "- 可以是正数、负数或零。"
   ]
  },
  {
   "cell_type": "markdown",
   "id": "d5eb8920",
   "metadata": {},
   "source": [
    "### `abs()`: 返回整数的绝对值"
   ]
  },
  {
   "cell_type": "code",
   "execution_count": 133,
   "id": "1cff0306",
   "metadata": {},
   "outputs": [
    {
     "data": {
      "text/plain": [
       "9"
      ]
     },
     "execution_count": 133,
     "metadata": {},
     "output_type": "execute_result"
    }
   ],
   "source": [
    "abs(9)"
   ]
  },
  {
   "cell_type": "markdown",
   "id": "457920dc",
   "metadata": {},
   "source": [
    "### `pow(base, exp)`: 返回base的exp次幂"
   ]
  },
  {
   "cell_type": "code",
   "execution_count": 134,
   "id": "6672c838",
   "metadata": {},
   "outputs": [
    {
     "data": {
      "text/plain": [
       "9"
      ]
     },
     "execution_count": 134,
     "metadata": {},
     "output_type": "execute_result"
    }
   ],
   "source": [
    "pow(-3, 2)"
   ]
  },
  {
   "cell_type": "markdown",
   "id": "b7f74f74-84d2-4c70-bee8-7c2d54e19d40",
   "metadata": {},
   "source": [
    "## 浮点数（float）\n",
    "\n",
    "**特性**：\n",
    "- 表示有小数部分的数字。\n",
    "- 可以精确到很多小数位。"
   ]
  },
  {
   "cell_type": "markdown",
   "id": "a5e86fd8",
   "metadata": {},
   "source": [
    "### `abs()`: 返回浮点数的绝对值"
   ]
  },
  {
   "cell_type": "code",
   "execution_count": 135,
   "id": "2d4ae624",
   "metadata": {},
   "outputs": [
    {
     "data": {
      "text/plain": [
       "1.356"
      ]
     },
     "execution_count": 135,
     "metadata": {},
     "output_type": "execute_result"
    }
   ],
   "source": [
    "abs(-1.356)"
   ]
  },
  {
   "cell_type": "markdown",
   "id": "e0c5b956",
   "metadata": {},
   "source": [
    "### `round(number, ndigits)`: 四舍五入到指定位数"
   ]
  },
  {
   "cell_type": "code",
   "execution_count": 136,
   "id": "156f2921",
   "metadata": {},
   "outputs": [
    {
     "data": {
      "text/plain": [
       "34.1"
      ]
     },
     "execution_count": 136,
     "metadata": {},
     "output_type": "execute_result"
    }
   ],
   "source": [
    "round(34.137645,1)"
   ]
  },
  {
   "cell_type": "markdown",
   "id": "83808d26",
   "metadata": {},
   "source": [
    "### `math.floor(x)`: x向下取整"
   ]
  },
  {
   "cell_type": "code",
   "execution_count": 137,
   "id": "f4c9070c",
   "metadata": {},
   "outputs": [
    {
     "data": {
      "text/plain": [
       "34"
      ]
     },
     "execution_count": 137,
     "metadata": {},
     "output_type": "execute_result"
    }
   ],
   "source": [
    "import math\n",
    "math.floor(34.137645)"
   ]
  },
  {
   "cell_type": "markdown",
   "id": "19f593e9",
   "metadata": {},
   "source": [
    "### `math.ceil(x)`: x向上取整"
   ]
  },
  {
   "cell_type": "code",
   "execution_count": 138,
   "id": "681892ba",
   "metadata": {},
   "outputs": [
    {
     "data": {
      "text/plain": [
       "35"
      ]
     },
     "execution_count": 138,
     "metadata": {},
     "output_type": "execute_result"
    }
   ],
   "source": [
    "math.ceil(34.137645)"
   ]
  },
  {
   "cell_type": "markdown",
   "id": "18812464-75b0-4d15-83ba-c8adbefe3d8d",
   "metadata": {},
   "source": [
    "## 字符串（str）\n",
    "\n",
    "**特性**：\n",
    "- 表示字符序列，使用引号包裹。\n",
    "- 可以包含字母、数字、符号等。"
   ]
  },
  {
   "cell_type": "markdown",
   "id": "80a0fa57",
   "metadata": {},
   "source": [
    "### `capitalize()`: 将字符串的首字母大写"
   ]
  },
  {
   "cell_type": "code",
   "execution_count": 139,
   "id": "f8a34c4c",
   "metadata": {},
   "outputs": [
    {
     "data": {
      "text/plain": [
       "'Hello, world!'"
      ]
     },
     "execution_count": 139,
     "metadata": {},
     "output_type": "execute_result"
    }
   ],
   "source": [
    "\"hello, world!\".capitalize()"
   ]
  },
  {
   "cell_type": "markdown",
   "id": "885d6c30",
   "metadata": {},
   "source": [
    "### `upper()`: 将所有字母转换为大写"
   ]
  },
  {
   "cell_type": "code",
   "execution_count": 140,
   "id": "24c703ed",
   "metadata": {},
   "outputs": [
    {
     "data": {
      "text/plain": [
       "'HELLO, WORLD!'"
      ]
     },
     "execution_count": 140,
     "metadata": {},
     "output_type": "execute_result"
    }
   ],
   "source": [
    "\"hello, world!\".upper()"
   ]
  },
  {
   "cell_type": "markdown",
   "id": "7271703c",
   "metadata": {},
   "source": [
    "### `lower()`: 将所有字母转换为小写"
   ]
  },
  {
   "cell_type": "code",
   "execution_count": 141,
   "id": "a1df9af6",
   "metadata": {},
   "outputs": [
    {
     "data": {
      "text/plain": [
       "'hello, world!'"
      ]
     },
     "execution_count": 141,
     "metadata": {},
     "output_type": "execute_result"
    }
   ],
   "source": [
    "\"Hello, World!\".lower()"
   ]
  },
  {
   "cell_type": "markdown",
   "id": "0a417736",
   "metadata": {},
   "source": [
    "### `find(substring)`: 查找子字符串的位置"
   ]
  },
  {
   "cell_type": "code",
   "execution_count": 142,
   "id": "715fff18",
   "metadata": {},
   "outputs": [
    {
     "data": {
      "text/plain": [
       "7"
      ]
     },
     "execution_count": 142,
     "metadata": {},
     "output_type": "execute_result"
    }
   ],
   "source": [
    "# python中计数是从0开始\n",
    "\"hello, world!\".find('world')"
   ]
  },
  {
   "cell_type": "markdown",
   "id": "3d09e396",
   "metadata": {},
   "source": [
    "### `replace(old, new)`: 替换字符串中的子字符串"
   ]
  },
  {
   "cell_type": "code",
   "execution_count": 143,
   "id": "be265c70",
   "metadata": {},
   "outputs": [
    {
     "data": {
      "text/plain": [
       "'hello, Python!'"
      ]
     },
     "execution_count": 143,
     "metadata": {},
     "output_type": "execute_result"
    }
   ],
   "source": [
    "\"hello, world!\".replace(\"world\", \"Python\")"
   ]
  },
  {
   "cell_type": "markdown",
   "id": "f5ee42e9",
   "metadata": {},
   "source": [
    "### `split(delimiter)`: 按照分隔符分割字符串"
   ]
  },
  {
   "cell_type": "code",
   "execution_count": 144,
   "id": "d30fe93a",
   "metadata": {},
   "outputs": [
    {
     "data": {
      "text/plain": [
       "['hello', 'world!']"
      ]
     },
     "execution_count": 144,
     "metadata": {},
     "output_type": "execute_result"
    }
   ],
   "source": [
    "\"hello, world!\".split(\", \")"
   ]
  },
  {
   "cell_type": "markdown",
   "id": "821f38b9",
   "metadata": {},
   "source": [
    "### `join(iterable)`: 将序列iterable中的元素以指定的字符连接生成一个新的字符串"
   ]
  },
  {
   "cell_type": "code",
   "execution_count": 145,
   "id": "61182f73",
   "metadata": {},
   "outputs": [
    {
     "data": {
      "text/plain": [
       "'hello,123,python'"
      ]
     },
     "execution_count": 145,
     "metadata": {},
     "output_type": "execute_result"
    }
   ],
   "source": [
    "','.join(['hello','123','python'])"
   ]
  },
  {
   "cell_type": "markdown",
   "id": "e1db572b",
   "metadata": {},
   "source": [
    "### `strip()`: 移除字符串头尾指定的字符（默认为空格）"
   ]
  },
  {
   "cell_type": "code",
   "execution_count": 146,
   "id": "7ff50ad2",
   "metadata": {},
   "outputs": [
    {
     "data": {
      "text/plain": [
       "'hello, Python!'"
      ]
     },
     "execution_count": 146,
     "metadata": {},
     "output_type": "execute_result"
    }
   ],
   "source": [
    "' hello, Python!  '.strip()"
   ]
  },
  {
   "cell_type": "code",
   "execution_count": 147,
   "id": "a34e2a38",
   "metadata": {},
   "outputs": [
    {
     "data": {
      "text/plain": [
       "'hello, Python'"
      ]
     },
     "execution_count": 147,
     "metadata": {},
     "output_type": "execute_result"
    }
   ],
   "source": [
    "'hello, Python!'.strip('!')"
   ]
  },
  {
   "cell_type": "markdown",
   "id": "cc5636d7-6bbb-43d3-b7e7-ded6426e3481",
   "metadata": {},
   "source": [
    "## 布尔值（bool）\n",
    "\n",
    "**特性**：\n",
    "- 只有两个值：True 和 False。\n",
    "- 用于逻辑判断。"
   ]
  },
  {
   "cell_type": "markdown",
   "id": "7e1ffc5a",
   "metadata": {},
   "source": [
    "### 逻辑运算"
   ]
  },
  {
   "cell_type": "code",
   "execution_count": 148,
   "id": "3236ca49",
   "metadata": {},
   "outputs": [
    {
     "data": {
      "text/plain": [
       "False"
      ]
     },
     "execution_count": 148,
     "metadata": {},
     "output_type": "execute_result"
    }
   ],
   "source": [
    "True and False"
   ]
  },
  {
   "cell_type": "code",
   "execution_count": 149,
   "id": "4651ebfa",
   "metadata": {},
   "outputs": [
    {
     "data": {
      "text/plain": [
       "True"
      ]
     },
     "execution_count": 149,
     "metadata": {},
     "output_type": "execute_result"
    }
   ],
   "source": [
    "True or False"
   ]
  },
  {
   "cell_type": "code",
   "execution_count": 150,
   "id": "0a86d995",
   "metadata": {},
   "outputs": [
    {
     "data": {
      "text/plain": [
       "True"
      ]
     },
     "execution_count": 150,
     "metadata": {},
     "output_type": "execute_result"
    }
   ],
   "source": [
    "not False"
   ]
  },
  {
   "cell_type": "markdown",
   "id": "756835ea",
   "metadata": {},
   "source": [
    "### 布尔值转换"
   ]
  },
  {
   "cell_type": "code",
   "execution_count": 151,
   "id": "17bd8219",
   "metadata": {},
   "outputs": [
    {
     "data": {
      "text/plain": [
       "True"
      ]
     },
     "execution_count": 151,
     "metadata": {},
     "output_type": "execute_result"
    }
   ],
   "source": [
    "bool(1)"
   ]
  },
  {
   "cell_type": "code",
   "execution_count": 152,
   "id": "e7d21756",
   "metadata": {},
   "outputs": [
    {
     "data": {
      "text/plain": [
       "True"
      ]
     },
     "execution_count": 152,
     "metadata": {},
     "output_type": "execute_result"
    }
   ],
   "source": [
    "bool(\"Hello\")"
   ]
  },
  {
   "cell_type": "code",
   "execution_count": 153,
   "id": "588524a7",
   "metadata": {},
   "outputs": [
    {
     "data": {
      "text/plain": [
       "False"
      ]
     },
     "execution_count": 153,
     "metadata": {},
     "output_type": "execute_result"
    }
   ],
   "source": [
    " bool(\"\")"
   ]
  },
  {
   "cell_type": "markdown",
   "id": "8bac1f23-f8d9-4adb-b031-49cb9d1330fb",
   "metadata": {},
   "source": [
    "# 基本数据类型间转换"
   ]
  },
  {
   "cell_type": "markdown",
   "id": "c81de3d4-fadb-425f-b72f-897d78e4b3e0",
   "metadata": {},
   "source": [
    "- `str(x)`: 将 x 转换为字符串。\n",
    "- `int(x)`: 将字符串 x 转换为整数，x 必须是有效的整数形式。\n",
    "- `float(x)`: 将字符串 x 转换为浮点数，x 必须是有效的浮点数形式。\n",
    "- `bool(x)`: 将 x 转换为布尔值。"
   ]
  },
  {
   "cell_type": "markdown",
   "id": "18aeaf07",
   "metadata": {},
   "source": [
    "## 整数转浮点数"
   ]
  },
  {
   "cell_type": "code",
   "execution_count": 154,
   "id": "c2ae6888",
   "metadata": {},
   "outputs": [
    {
     "data": {
      "text/plain": [
       "2.0"
      ]
     },
     "execution_count": 154,
     "metadata": {},
     "output_type": "execute_result"
    }
   ],
   "source": [
    "int_num = 2\n",
    "float(int_num)"
   ]
  },
  {
   "cell_type": "markdown",
   "id": "1a8d5465",
   "metadata": {},
   "source": [
    "## 浮点数转整数"
   ]
  },
  {
   "cell_type": "code",
   "execution_count": 155,
   "id": "212308f5",
   "metadata": {},
   "outputs": [
    {
     "data": {
      "text/plain": [
       "3"
      ]
     },
     "execution_count": 155,
     "metadata": {},
     "output_type": "execute_result"
    }
   ],
   "source": [
    "float_num = 3.14\n",
    "int(float_num)"
   ]
  },
  {
   "cell_type": "markdown",
   "id": "37b43e9f",
   "metadata": {},
   "source": [
    "## 整数转字符串"
   ]
  },
  {
   "cell_type": "code",
   "execution_count": 156,
   "id": "811c637a",
   "metadata": {},
   "outputs": [
    {
     "data": {
      "text/plain": [
       "'100'"
      ]
     },
     "execution_count": 156,
     "metadata": {},
     "output_type": "execute_result"
    }
   ],
   "source": [
    "int_num = 100\n",
    "str(int_num)"
   ]
  },
  {
   "cell_type": "markdown",
   "id": "88376d68",
   "metadata": {},
   "source": [
    "## 字符串转整数"
   ]
  },
  {
   "cell_type": "code",
   "execution_count": 157,
   "id": "88df81cc",
   "metadata": {},
   "outputs": [
    {
     "data": {
      "text/plain": [
       "123"
      ]
     },
     "execution_count": 157,
     "metadata": {},
     "output_type": "execute_result"
    }
   ],
   "source": [
    "str_int = \"123\"\n",
    "int(str_int)"
   ]
  },
  {
   "cell_type": "markdown",
   "id": "869f203a",
   "metadata": {},
   "source": [
    "## 整数转布尔值,0为False其他为True"
   ]
  },
  {
   "cell_type": "code",
   "execution_count": 158,
   "id": "2e30868e",
   "metadata": {},
   "outputs": [
    {
     "data": {
      "text/plain": [
       "False"
      ]
     },
     "execution_count": 158,
     "metadata": {},
     "output_type": "execute_result"
    }
   ],
   "source": [
    "bool(0)"
   ]
  },
  {
   "cell_type": "code",
   "execution_count": 159,
   "id": "14d15b02",
   "metadata": {},
   "outputs": [
    {
     "data": {
      "text/plain": [
       "True"
      ]
     },
     "execution_count": 159,
     "metadata": {},
     "output_type": "execute_result"
    }
   ],
   "source": [
    "bool(1000)"
   ]
  },
  {
   "cell_type": "markdown",
   "id": "0a738d63",
   "metadata": {},
   "source": [
    "## 布尔值转整数"
   ]
  },
  {
   "cell_type": "code",
   "execution_count": 160,
   "id": "ab740f1a",
   "metadata": {},
   "outputs": [
    {
     "data": {
      "text/plain": [
       "1"
      ]
     },
     "execution_count": 160,
     "metadata": {},
     "output_type": "execute_result"
    }
   ],
   "source": [
    "int(True)"
   ]
  },
  {
   "cell_type": "code",
   "execution_count": 161,
   "id": "b820caaf",
   "metadata": {},
   "outputs": [
    {
     "data": {
      "text/plain": [
       "0"
      ]
     },
     "execution_count": 161,
     "metadata": {},
     "output_type": "execute_result"
    }
   ],
   "source": [
    "int(False)"
   ]
  },
  {
   "cell_type": "markdown",
   "id": "cb7bd917",
   "metadata": {},
   "source": [
    "## 浮点数转字符串"
   ]
  },
  {
   "cell_type": "code",
   "execution_count": 162,
   "id": "b156c756",
   "metadata": {},
   "outputs": [
    {
     "data": {
      "text/plain": [
       "'3.14'"
      ]
     },
     "execution_count": 162,
     "metadata": {},
     "output_type": "execute_result"
    }
   ],
   "source": [
    "str(3.14)"
   ]
  },
  {
   "cell_type": "markdown",
   "id": "fecc1d3e",
   "metadata": {},
   "source": [
    "## 字符串转浮点数"
   ]
  },
  {
   "cell_type": "code",
   "execution_count": 163,
   "id": "2094f5fa",
   "metadata": {},
   "outputs": [
    {
     "data": {
      "text/plain": [
       "5.16"
      ]
     },
     "execution_count": 163,
     "metadata": {},
     "output_type": "execute_result"
    }
   ],
   "source": [
    "float('5.16')"
   ]
  },
  {
   "cell_type": "markdown",
   "id": "8100eef0",
   "metadata": {},
   "source": [
    "## 浮点数转布尔值,0为False其他为True"
   ]
  },
  {
   "cell_type": "code",
   "execution_count": 164,
   "id": "842d0560",
   "metadata": {},
   "outputs": [
    {
     "data": {
      "text/plain": [
       "False"
      ]
     },
     "execution_count": 164,
     "metadata": {},
     "output_type": "execute_result"
    }
   ],
   "source": [
    "bool(0.0)"
   ]
  },
  {
   "cell_type": "code",
   "execution_count": 165,
   "id": "58b6dbec",
   "metadata": {},
   "outputs": [
    {
     "data": {
      "text/plain": [
       "True"
      ]
     },
     "execution_count": 165,
     "metadata": {},
     "output_type": "execute_result"
    }
   ],
   "source": [
    "bool(3.14)"
   ]
  },
  {
   "cell_type": "markdown",
   "id": "5f824573",
   "metadata": {},
   "source": [
    "## 布尔值转浮点数"
   ]
  },
  {
   "cell_type": "code",
   "execution_count": 166,
   "id": "16ae1899",
   "metadata": {},
   "outputs": [
    {
     "data": {
      "text/plain": [
       "1.0"
      ]
     },
     "execution_count": 166,
     "metadata": {},
     "output_type": "execute_result"
    }
   ],
   "source": [
    "float(True)"
   ]
  },
  {
   "cell_type": "code",
   "execution_count": 128,
   "id": "5136494c",
   "metadata": {},
   "outputs": [
    {
     "data": {
      "text/plain": [
       "0.0"
      ]
     },
     "execution_count": 128,
     "metadata": {},
     "output_type": "execute_result"
    }
   ],
   "source": [
    "float(False)"
   ]
  },
  {
   "cell_type": "markdown",
   "id": "3f5837da",
   "metadata": {},
   "source": [
    "## 字符串转布尔值,空为False其他为True"
   ]
  },
  {
   "cell_type": "code",
   "execution_count": 167,
   "id": "2e08c852",
   "metadata": {},
   "outputs": [
    {
     "data": {
      "text/plain": [
       "False"
      ]
     },
     "execution_count": 167,
     "metadata": {},
     "output_type": "execute_result"
    }
   ],
   "source": [
    "bool('')"
   ]
  },
  {
   "cell_type": "code",
   "execution_count": 168,
   "id": "a1c7e47b",
   "metadata": {},
   "outputs": [
    {
     "data": {
      "text/plain": [
       "True"
      ]
     },
     "execution_count": 168,
     "metadata": {},
     "output_type": "execute_result"
    }
   ],
   "source": [
    "bool('Hello')"
   ]
  },
  {
   "cell_type": "markdown",
   "id": "4824facc",
   "metadata": {},
   "source": [
    "## 布尔值转字符串"
   ]
  },
  {
   "cell_type": "code",
   "execution_count": 131,
   "id": "09d0d1d3-f47d-498a-8e19-09bbdecb53f9",
   "metadata": {},
   "outputs": [
    {
     "data": {
      "text/plain": [
       "'True'"
      ]
     },
     "execution_count": 131,
     "metadata": {},
     "output_type": "execute_result"
    }
   ],
   "source": [
    "str(True)"
   ]
  },
  {
   "cell_type": "code",
   "execution_count": 132,
   "id": "2a3de469",
   "metadata": {},
   "outputs": [
    {
     "data": {
      "text/plain": [
       "'False'"
      ]
     },
     "execution_count": 132,
     "metadata": {},
     "output_type": "execute_result"
    }
   ],
   "source": [
    "str(False)"
   ]
  },
  {
   "cell_type": "code",
   "execution_count": null,
   "id": "5d1f93f8",
   "metadata": {},
   "outputs": [],
   "source": []
  }
 ],
 "metadata": {
  "kernelspec": {
   "display_name": "Python 3 (ipykernel)",
   "language": "python",
   "name": "python3"
  },
  "language_info": {
   "codemirror_mode": {
    "name": "ipython",
    "version": 3
   },
   "file_extension": ".py",
   "mimetype": "text/x-python",
   "name": "python",
   "nbconvert_exporter": "python",
   "pygments_lexer": "ipython3",
   "version": "3.12.2"
  },
  "toc": {
   "base_numbering": 1,
   "nav_menu": {},
   "number_sections": true,
   "sideBar": true,
   "skip_h1_title": false,
   "title_cell": "Table of Contents",
   "title_sidebar": "Contents",
   "toc_cell": false,
   "toc_position": {
    "height": "calc(100% - 180px)",
    "left": "10px",
    "top": "150px",
    "width": "288px"
   },
   "toc_section_display": true,
   "toc_window_display": true
  }
 },
 "nbformat": 4,
 "nbformat_minor": 5
}
