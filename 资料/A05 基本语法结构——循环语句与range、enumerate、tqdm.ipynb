{
 "cells": [
  {
   "cell_type": "markdown",
   "id": "6340af72",
   "metadata": {},
   "source": [
    "# 循环语句（Loop Statements）"
   ]
  },
  {
   "cell_type": "markdown",
   "id": "1f4fdc00",
   "metadata": {},
   "source": [
    "循环语句是一种编程结构，用于重复执行某段代码，直到满足某个条件为止"
   ]
  },
  {
   "cell_type": "markdown",
   "id": "bbb35e6b",
   "metadata": {},
   "source": [
    "## 循环语句的基本类型"
   ]
  },
  {
   "cell_type": "markdown",
   "id": "1d2b21db",
   "metadata": {},
   "source": [
    "基本的循环语句包括：\n",
    "- for循环\n",
    "- while循环"
   ]
  },
  {
   "cell_type": "markdown",
   "id": "e7c42796",
   "metadata": {},
   "source": [
    "### for 循环"
   ]
  },
  {
   "cell_type": "markdown",
   "id": "16470d85",
   "metadata": {},
   "source": [
    "for 循环适用于处理迭代次数固定或者已知的循环场景"
   ]
  },
  {
   "cell_type": "code",
   "execution_count": 15,
   "id": "ed8912a8",
   "metadata": {},
   "outputs": [
    {
     "name": "stdout",
     "output_type": "stream",
     "text": [
      "a\n",
      "b\n",
      "c\n",
      "d\n",
      "e\n",
      "f\n"
     ]
    }
   ],
   "source": [
    "for i in ['a','b','c','d','e','f']:  \n",
    "    print(i)"
   ]
  },
  {
   "cell_type": "markdown",
   "id": "64a70abb",
   "metadata": {},
   "source": [
    "### while 循环"
   ]
  },
  {
   "cell_type": "markdown",
   "id": "9fea6290",
   "metadata": {},
   "source": [
    "while 循环在某个条件为真（True）时会反复执行代码，适合用于不确定循环次数的情况。\n",
    "- **注意**：使用while循环的时候要小心设置终止条件，避免进入死循环（一直循环停不下来）"
   ]
  },
  {
   "cell_type": "code",
   "execution_count": 16,
   "id": "7d48b4cc",
   "metadata": {},
   "outputs": [
    {
     "name": "stdout",
     "output_type": "stream",
     "text": [
      "0\n",
      "1\n",
      "2\n",
      "3\n",
      "4\n"
     ]
    }
   ],
   "source": [
    "count = 0\n",
    "while count < 5:\n",
    "    print(count)  # 输出 0, 1, 2, 3, 4\n",
    "    count += 1"
   ]
  },
  {
   "cell_type": "markdown",
   "id": "9394a359",
   "metadata": {},
   "source": [
    "## 控制循环的关键语句"
   ]
  },
  {
   "cell_type": "markdown",
   "id": "09698bdf",
   "metadata": {},
   "source": [
    "控制循环的关键语句包括：\n",
    "- break：用于立即终止循环，跳出当前循环块\n",
    "- continue：用于跳过当前循环的剩余部分，直接进入下一次循环\n",
    "- pass：表示占位符语句，什么都不做，用于代码结构完整、可读性佳，也方便搭建代码架构用于后续编程处理\n"
   ]
  },
  {
   "cell_type": "markdown",
   "id": "e41a3e68",
   "metadata": {},
   "source": [
    "### break"
   ]
  },
  {
   "cell_type": "markdown",
   "id": "6ea63896",
   "metadata": {},
   "source": [
    "用于立即终止循环，跳出当前循环块"
   ]
  },
  {
   "cell_type": "code",
   "execution_count": 18,
   "id": "088b0f3d",
   "metadata": {},
   "outputs": [
    {
     "name": "stdout",
     "output_type": "stream",
     "text": [
      "0\n",
      "1\n",
      "2\n",
      "3\n",
      "4\n"
     ]
    }
   ],
   "source": [
    "for i in range(10):\n",
    "    if i == 5:\n",
    "        break  # 循环在 i == 5 时终止\n",
    "    print(i)\n"
   ]
  },
  {
   "cell_type": "markdown",
   "id": "55a8b100",
   "metadata": {},
   "source": [
    "### continue"
   ]
  },
  {
   "cell_type": "markdown",
   "id": "bc2ca27a",
   "metadata": {},
   "source": [
    "用于跳过当前循环的剩余部分，直接进入下一次循环"
   ]
  },
  {
   "cell_type": "code",
   "execution_count": 20,
   "id": "dcf4c62b",
   "metadata": {},
   "outputs": [
    {
     "name": "stdout",
     "output_type": "stream",
     "text": [
      "0\n",
      "1\n",
      "2\n",
      "3\n",
      "4\n",
      "6\n",
      "7\n",
      "8\n",
      "9\n"
     ]
    }
   ],
   "source": [
    "for i in range(10):\n",
    "    if i == 5:\n",
    "        continue  # 跳过 i == 5 的输出\n",
    "    print(i)\n"
   ]
  },
  {
   "cell_type": "markdown",
   "id": "273e893c",
   "metadata": {},
   "source": [
    "### pass"
   ]
  },
  {
   "cell_type": "markdown",
   "id": "f823b9e2",
   "metadata": {},
   "source": [
    "表示占位符语句，什么都不做，用于代码结构完整"
   ]
  },
  {
   "cell_type": "code",
   "execution_count": 24,
   "id": "6e9b8a34",
   "metadata": {},
   "outputs": [
    {
     "name": "stdout",
     "output_type": "stream",
     "text": [
      "0\n",
      "1\n",
      "2\n",
      "3\n",
      "4\n",
      "5\n",
      "6\n",
      "7\n",
      "8\n",
      "9\n"
     ]
    }
   ],
   "source": [
    "for i in range(10):\n",
    "    if i == 5:\n",
    "        pass  # 什么都不做\n",
    "    print(i)\n"
   ]
  },
  {
   "cell_type": "markdown",
   "id": "8e125287",
   "metadata": {},
   "source": [
    "## for循环语句使用技巧"
   ]
  },
  {
   "cell_type": "markdown",
   "id": "84460790",
   "metadata": {},
   "source": [
    "### range"
   ]
  },
  {
   "cell_type": "markdown",
   "id": "4a739d49",
   "metadata": {},
   "source": [
    "**range**用于生成一个整数序列，一般与for循环结合使用，以控制循环次数"
   ]
  },
  {
   "cell_type": "markdown",
   "id": "e6bb9f3a",
   "metadata": {},
   "source": [
    "**range(start, stop, step)**：\n",
    "  - **start**：序列的起始值（可省略，默认为 0）。\n",
    "  - **stop**：序列的结束值（不包含此值）。\n",
    "  - **step**：序列的步长（可省略，默认为 1）"
   ]
  },
  {
   "cell_type": "markdown",
   "id": "5e9583c4",
   "metadata": {},
   "source": [
    "#### 只有一个参数：**range(stop)**：\n",
    "  - 生成从 0 到 stop-1 的序列"
   ]
  },
  {
   "cell_type": "code",
   "execution_count": 27,
   "id": "203fc5c0",
   "metadata": {},
   "outputs": [
    {
     "name": "stdout",
     "output_type": "stream",
     "text": [
      "0\n",
      "1\n",
      "2\n",
      "3\n",
      "4\n"
     ]
    }
   ],
   "source": [
    "for i in range(5):  # 从 0 到 4\n",
    "    print(i)"
   ]
  },
  {
   "cell_type": "markdown",
   "id": "d2d49691",
   "metadata": {},
   "source": [
    "#### 两个参数：**range(start, stop)**：\n",
    "  - 生成从 start 到 stop-1 的序列"
   ]
  },
  {
   "cell_type": "code",
   "execution_count": 28,
   "id": "026c3031",
   "metadata": {},
   "outputs": [
    {
     "name": "stdout",
     "output_type": "stream",
     "text": [
      "2\n",
      "3\n",
      "4\n"
     ]
    }
   ],
   "source": [
    "for i in range(2,5):  # 从 2 到 4\n",
    "    print(i)"
   ]
  },
  {
   "cell_type": "markdown",
   "id": "c4c0ba3d",
   "metadata": {},
   "source": [
    "#### 三个参数：**range(start, stop, step)**\n",
    "  - 生成从 start 开始，每次递增（或递减）step，直到到达 stop"
   ]
  },
  {
   "cell_type": "code",
   "execution_count": 29,
   "id": "6fab7eeb",
   "metadata": {},
   "outputs": [
    {
     "name": "stdout",
     "output_type": "stream",
     "text": [
      "1\n",
      "3\n",
      "5\n",
      "7\n",
      "9\n"
     ]
    }
   ],
   "source": [
    "for i in range(1, 10, 2):  # 从 1 开始，每次加 2，到 10（不包含 10）\n",
    "    print(i)"
   ]
  },
  {
   "cell_type": "code",
   "execution_count": 30,
   "id": "b981e70f",
   "metadata": {},
   "outputs": [
    {
     "name": "stdout",
     "output_type": "stream",
     "text": [
      "5\n",
      "4\n",
      "3\n",
      "2\n",
      "1\n",
      "0\n"
     ]
    }
   ],
   "source": [
    "for i in range(5, -1, -1):  # 从 5 开始，每次减 1，到 -1（不包含 -1）\n",
    "    print(i)"
   ]
  },
  {
   "cell_type": "code",
   "execution_count": 31,
   "id": "9bcbf7e3",
   "metadata": {},
   "outputs": [
    {
     "name": "stdout",
     "output_type": "stream",
     "text": [
      "10\n",
      "8\n",
      "6\n",
      "4\n",
      "2\n"
     ]
    }
   ],
   "source": [
    "for i in range(10, 0, -2):  # 从 10 开始，每次减 2，到 0（不包含 0）\n",
    "    print(i)"
   ]
  },
  {
   "cell_type": "markdown",
   "id": "84fe7b8e",
   "metadata": {},
   "source": [
    "### enumerate"
   ]
  },
  {
   "cell_type": "markdown",
   "id": "9b14e3c6",
   "metadata": {},
   "source": [
    "**enumerate**通过为一个可迭代对象（如列表、元组、字符串等）添加索引，使得在循环时可以同时访问索引和元素"
   ]
  },
  {
   "cell_type": "markdown",
   "id": "ced6a05d",
   "metadata": {},
   "source": [
    "**enumerate(iterable, start=0)**：\n",
    "  - **iterable**：一个可以被迭代的对象（如列表、元组、字符串等）。\n",
    "  - **start**：索引的起始值，默认为 0。"
   ]
  },
  {
   "cell_type": "markdown",
   "id": "fddb50cf",
   "metadata": {},
   "source": [
    "#### 遍历列表索引和值"
   ]
  },
  {
   "cell_type": "code",
   "execution_count": 35,
   "id": "9cc759e6",
   "metadata": {},
   "outputs": [
    {
     "name": "stdout",
     "output_type": "stream",
     "text": [
      "索引：0, 值：apple\n",
      "索引：1, 值：banana\n",
      "索引：2, 值：cherry\n"
     ]
    }
   ],
   "source": [
    "fruits = [\"apple\", \"banana\", \"cherry\"] # 生成一个列表\n",
    "for index, fruit in enumerate(fruits): # 对列表进行迭代，同时获得索引、列表值\n",
    "    print(f\"索引：{index}, 值：{fruit}\")\n",
    "    "
   ]
  },
  {
   "cell_type": "markdown",
   "id": "7c45cb87",
   "metadata": {},
   "source": [
    "#### 遍历多个列表"
   ]
  },
  {
   "cell_type": "code",
   "execution_count": 39,
   "id": "cfba6a84",
   "metadata": {},
   "outputs": [
    {
     "name": "stdout",
     "output_type": "stream",
     "text": [
      "序号：1, 姓名：Alice, 年龄：25\n",
      "序号：2, 姓名：Bob, 年龄：30\n",
      "序号：3, 姓名：Charlie, 年龄：35\n"
     ]
    }
   ],
   "source": [
    "# 结合 zip 和 enumerate 遍历多个列表\n",
    "names = [\"Alice\", \"Bob\", \"Charlie\"]\n",
    "ages = [25, 30, 35]\n",
    "\n",
    "for index, (name, age) in enumerate(zip(names, ages), start=1):\n",
    "    print(f\"序号：{index}, 姓名：{name}, 年龄：{age}\")\n"
   ]
  },
  {
   "cell_type": "markdown",
   "id": "0e25899f",
   "metadata": {},
   "source": [
    "### tqdm"
   ]
  },
  {
   "cell_type": "markdown",
   "id": "0cb3516f",
   "metadata": {},
   "source": [
    "**tqdm**可以在长时间运行的循环或任务中显示实时的进度条信息"
   ]
  },
  {
   "cell_type": "markdown",
   "id": "85b87fec",
   "metadata": {},
   "source": [
    "**tqdm(iterable, desc)**：\n",
    "  - **iterable**：进度条显示对象\n",
    "  - **desc**：进度条的描述文字"
   ]
  },
  {
   "cell_type": "code",
   "execution_count": 45,
   "id": "93c80f7b",
   "metadata": {},
   "outputs": [
    {
     "name": "stderr",
     "output_type": "stream",
     "text": [
      "tqdm测试案例: 100%|███████████████████████| 100/100 [00:00<00:00, 370194.53it/s]"
     ]
    },
    {
     "name": "stdout",
     "output_type": "stream",
     "text": [
      "100\n"
     ]
    },
    {
     "name": "stderr",
     "output_type": "stream",
     "text": [
      "\n"
     ]
    }
   ],
   "source": [
    "# tqdm的安装：pip install tqdm\n",
    "from tqdm import tqdm\n",
    "\n",
    "cnts = 0\n",
    "for i in tqdm(range(100),desc='tqdm测试案例'):\n",
    "    cnts += 1\n",
    "print(cnts)"
   ]
  },
  {
   "cell_type": "code",
   "execution_count": null,
   "id": "65b63084",
   "metadata": {},
   "outputs": [],
   "source": []
  }
 ],
 "metadata": {
  "kernelspec": {
   "display_name": "Python 3 (ipykernel)",
   "language": "python",
   "name": "python3"
  },
  "language_info": {
   "codemirror_mode": {
    "name": "ipython",
    "version": 3
   },
   "file_extension": ".py",
   "mimetype": "text/x-python",
   "name": "python",
   "nbconvert_exporter": "python",
   "pygments_lexer": "ipython3",
   "version": "3.12.2"
  },
  "toc": {
   "base_numbering": 1,
   "nav_menu": {},
   "number_sections": true,
   "sideBar": true,
   "skip_h1_title": false,
   "title_cell": "Table of Contents",
   "title_sidebar": "Contents",
   "toc_cell": false,
   "toc_position": {
    "height": "calc(100% - 180px)",
    "left": "10px",
    "top": "150px",
    "width": "288px"
   },
   "toc_section_display": true,
   "toc_window_display": true
  }
 },
 "nbformat": 4,
 "nbformat_minor": 5
}
