{
 "cells": [
  {
   "cell_type": "markdown",
   "id": "2e382f0d",
   "metadata": {},
   "source": [
    "# 路径概念"
   ]
  },
  {
   "cell_type": "markdown",
   "id": "435e6e03",
   "metadata": {},
   "source": [
    "路径是指电脑中文件或者文件夹存放的地址位置。分为相对路径与绝对路径"
   ]
  },
  {
   "cell_type": "markdown",
   "id": "5160da23",
   "metadata": {},
   "source": [
    "## 相对路径"
   ]
  },
  {
   "cell_type": "markdown",
   "id": "f6a12720",
   "metadata": {},
   "source": [
    "相对路径是相对于当前工作目录的路径。它不以根目录开始，而是从当前工作目录出发，描述目标文件或目录的位置\n",
    "\n",
    "相对路径中通常使用以下标识符：\n",
    "- `.`：当前目录\n",
    "- `..`：父级目录"
   ]
  },
  {
   "cell_type": "markdown",
   "id": "0e5d5ee6",
   "metadata": {},
   "source": [
    "假设当前在 `/home/user/` 目录下，相对路径 `./documents/file.txt` 会指向 `/home/user/documents/file.txt`\n",
    "\n",
    "而相对路径 `../documents/file.txt` 会指向 `/home/documents/file.txt`"
   ]
  },
  {
   "cell_type": "markdown",
   "id": "58eaabfa",
   "metadata": {},
   "source": [
    "## 绝对路径"
   ]
  },
  {
   "cell_type": "markdown",
   "id": "2d94daf6",
   "metadata": {},
   "source": [
    "绝对路径是从文件系统的根目录（在类 Unix 系统中是 /，在 Windows 系统中是驱动器（如 C:\\））开始描述的完整路径。\n",
    "\n",
    "无论你在文件系统的哪个位置，绝对路径总是指向同一个文件或目录。因此称为“绝对”"
   ]
  },
  {
   "cell_type": "markdown",
   "id": "1ef94983",
   "metadata": {},
   "source": [
    "`/home/user/documents/file.txt`是从根目录`/`开始描述的完整路径，因此是绝对路径"
   ]
  },
  {
   "cell_type": "markdown",
   "id": "92157940",
   "metadata": {},
   "source": [
    "# `os` 模块中的路径操作"
   ]
  },
  {
   "cell_type": "markdown",
   "id": "08f208e2",
   "metadata": {},
   "source": [
    "python中的`os`模块提供了一些强大的函数来进行文件路径操作，从而方便我们读取/存储文件"
   ]
  },
  {
   "cell_type": "markdown",
   "id": "a2daf445",
   "metadata": {},
   "source": [
    "## `os.getcwd()`获取当前目录"
   ]
  },
  {
   "cell_type": "code",
   "execution_count": 30,
   "id": "c698c878",
   "metadata": {},
   "outputs": [
    {
     "name": "stdout",
     "output_type": "stream",
     "text": [
      "/Users/cjg/Desktop/商品/面向数据分析学Python\n"
     ]
    }
   ],
   "source": [
    "import os\n",
    "print(os.getcwd())  # 输出当前工作目录的路径"
   ]
  },
  {
   "cell_type": "markdown",
   "id": "1aa2316a",
   "metadata": {},
   "source": [
    "## `os.listdir(path)`展示path下的所有文件与文件夹名称"
   ]
  },
  {
   "cell_type": "code",
   "execution_count": 31,
   "id": "d46956fd",
   "metadata": {
    "scrolled": true
   },
   "outputs": [
    {
     "data": {
      "text/plain": [
       "['机器学习模型——支持向量机模型.png',\n",
       " '.DS_Store',\n",
       " 'Kimi.ai - 会推理解析，能深度思考的AI助手.mhtml',\n",
       " '机器学习模型——逻辑斯蒂回归模型.png',\n",
       " '机器学习——交叉验证与KFold、StratifiedKFold.png',\n",
       " '机器学习模型——决策树模型.png',\n",
       " '机器学习——模型评价指标1.png',\n",
       " '机器学习——训练集、验证集、测试集概念与train_test_split.png',\n",
       " '机器学习-基本概念-数据集划分.png',\n",
       " '机器学习-基本概念-机器学习分类图.png']"
      ]
     },
     "execution_count": 31,
     "metadata": {},
     "output_type": "execute_result"
    }
   ],
   "source": [
    "import os\n",
    "os.listdir('./pcitures/raw_pics')  # 输出当前工作目录的路径"
   ]
  },
  {
   "cell_type": "markdown",
   "id": "af6a1357",
   "metadata": {},
   "source": [
    "## `os.path.join(path1, path2, ...)`拼接路径"
   ]
  },
  {
   "cell_type": "code",
   "execution_count": 33,
   "id": "7f9fa841",
   "metadata": {},
   "outputs": [
    {
     "name": "stdout",
     "output_type": "stream",
     "text": [
      "read pic from ./pcitures/raw_pics/机器学习模型——支持向量机模型.png\n",
      "read pic from ./pcitures/raw_pics/.DS_Store\n",
      "read pic from ./pcitures/raw_pics/Kimi.ai - 会推理解析，能深度思考的AI助手.mhtml\n",
      "read pic from ./pcitures/raw_pics/机器学习模型——逻辑斯蒂回归模型.png\n",
      "read pic from ./pcitures/raw_pics/机器学习——交叉验证与KFold、StratifiedKFold.png\n",
      "read pic from ./pcitures/raw_pics/机器学习模型——决策树模型.png\n",
      "read pic from ./pcitures/raw_pics/机器学习——模型评价指标1.png\n",
      "read pic from ./pcitures/raw_pics/机器学习——训练集、验证集、测试集概念与train_test_split.png\n",
      "read pic from ./pcitures/raw_pics/机器学习-基本概念-数据集划分.png\n",
      "read pic from ./pcitures/raw_pics/机器学习-基本概念-机器学习分类图.png\n"
     ]
    }
   ],
   "source": [
    "import os\n",
    "import time\n",
    "dir_path = './pcitures/raw_pics'   #文件夹地址\n",
    "for file_name in os.listdir(dir_path):     # 读取文件夹下所有文件名称\n",
    "    time.sleep(1)\n",
    "    print(f'read pic from {os.path.join(dir_path, file_name)}')   #读取文件夹下所有文件"
   ]
  },
  {
   "cell_type": "markdown",
   "id": "d0342a39",
   "metadata": {},
   "source": [
    "## `os.path.abspath(path)`获取路径的 绝对路径"
   ]
  },
  {
   "cell_type": "code",
   "execution_count": 34,
   "id": "20d8360d",
   "metadata": {},
   "outputs": [
    {
     "data": {
      "text/plain": [
       "'/Users/cjg/Desktop/商品/面向数据分析学Python/pcitures'"
      ]
     },
     "execution_count": 34,
     "metadata": {},
     "output_type": "execute_result"
    }
   ],
   "source": [
    "os.path.abspath('./pcitures')"
   ]
  },
  {
   "cell_type": "markdown",
   "id": "cdb8f56a",
   "metadata": {},
   "source": [
    "## os.mkdir(path)创建文件夹"
   ]
  },
  {
   "cell_type": "code",
   "execution_count": 38,
   "id": "240fca4b",
   "metadata": {},
   "outputs": [],
   "source": [
    "os.mkdir('./tmp')"
   ]
  },
  {
   "cell_type": "markdown",
   "id": "1813649a",
   "metadata": {},
   "source": [
    "## os.rmdir(path)移除文件夹"
   ]
  },
  {
   "cell_type": "code",
   "execution_count": 39,
   "id": "ec1916ca",
   "metadata": {},
   "outputs": [],
   "source": [
    "os.rmdir('./tmp')"
   ]
  },
  {
   "cell_type": "markdown",
   "id": "f265bf8a",
   "metadata": {},
   "source": [
    "## `os.path.exists(path)`判断路径是否存在"
   ]
  },
  {
   "cell_type": "code",
   "execution_count": 41,
   "id": "ec4e4c92",
   "metadata": {},
   "outputs": [
    {
     "name": "stdout",
     "output_type": "stream",
     "text": [
      "文件夹./pcitures/raw_pics已经存在\n"
     ]
    }
   ],
   "source": [
    "dir_path = './pcitures/raw_pics'\n",
    "if not os.path.exists(dir_path):\n",
    "    os.mkdir(dir_path)\n",
    "    print(f'创建文件夹{dir_path}')\n",
    "else:\n",
    "    print(f'文件夹{dir_path}已经存在')"
   ]
  },
  {
   "cell_type": "markdown",
   "id": "3a9bb3b9",
   "metadata": {},
   "source": [
    "## os.path.isdir(path)判断是否是文件夹"
   ]
  },
  {
   "cell_type": "code",
   "execution_count": 43,
   "id": "78c92047",
   "metadata": {},
   "outputs": [
    {
     "data": {
      "text/plain": [
       "True"
      ]
     },
     "execution_count": 43,
     "metadata": {},
     "output_type": "execute_result"
    }
   ],
   "source": [
    "os.path.isdir('./pcitures/raw_pics/')"
   ]
  },
  {
   "cell_type": "markdown",
   "id": "fbf9c24a",
   "metadata": {},
   "source": [
    "## os.path.isfile(path)判断是否是文件"
   ]
  },
  {
   "cell_type": "code",
   "execution_count": 44,
   "id": "0a0d4682",
   "metadata": {},
   "outputs": [
    {
     "data": {
      "text/plain": [
       "False"
      ]
     },
     "execution_count": 44,
     "metadata": {},
     "output_type": "execute_result"
    }
   ],
   "source": [
    "os.path.isfile('./pcitures/raw_pics/')"
   ]
  },
  {
   "cell_type": "code",
   "execution_count": null,
   "id": "a621856c",
   "metadata": {},
   "outputs": [],
   "source": []
  }
 ],
 "metadata": {
  "kernelspec": {
   "display_name": "Python 3 (ipykernel)",
   "language": "python",
   "name": "python3"
  },
  "language_info": {
   "codemirror_mode": {
    "name": "ipython",
    "version": 3
   },
   "file_extension": ".py",
   "mimetype": "text/x-python",
   "name": "python",
   "nbconvert_exporter": "python",
   "pygments_lexer": "ipython3",
   "version": "3.12.2"
  },
  "toc": {
   "base_numbering": 1,
   "nav_menu": {},
   "number_sections": true,
   "sideBar": true,
   "skip_h1_title": false,
   "title_cell": "Table of Contents",
   "title_sidebar": "Contents",
   "toc_cell": false,
   "toc_position": {
    "height": "calc(100% - 180px)",
    "left": "10px",
    "top": "150px",
    "width": "288px"
   },
   "toc_section_display": true,
   "toc_window_display": true
  }
 },
 "nbformat": 4,
 "nbformat_minor": 5
}
