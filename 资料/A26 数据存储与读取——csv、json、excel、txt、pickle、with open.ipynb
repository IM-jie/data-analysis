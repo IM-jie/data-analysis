{
 "cells": [
  {
   "cell_type": "markdown",
   "id": "2ff2c29c0d40f171",
   "metadata": {},
   "source": [
    "# csv文件"
   ]
  },
  {
   "cell_type": "markdown",
   "id": "69ed8ec0136a9f6e",
   "metadata": {},
   "source": [
    "csv文件是一种逗号分隔值文件，主要用于存储表格类型数据。"
   ]
  },
  {
   "cell_type": "markdown",
   "id": "f5e224c87da69843",
   "metadata": {},
   "source": [
    "## 保存csv文件"
   ]
  },
  {
   "cell_type": "markdown",
   "id": "1fac9b25644499dc",
   "metadata": {},
   "source": [
    "**df.to_csv(save_path, sep, index, encoding)**：\n",
    "   - save_path：保存文件路径\n",
    "   - sep：分隔符\n",
    "        - ','：默认值，逗号分隔符\n",
    "        - '\\t'：制表符\n",
    "        - ‘；’:分号分隔符\n",
    "        - 其他自定义分割符，比如'&'、'%'、'qaq'等\n",
    "   - index：是否写入行索引，True则写入（默认），False则不写入\n",
    "   - encoding：指定文件编码方式，比如utf-8（默认）、gbk等"
   ]
  },
  {
   "cell_type": "code",
   "execution_count": 30,
   "id": "a3c246dba13a97b6",
   "metadata": {
    "ExecuteTime": {
     "end_time": "2025-01-09T02:52:33.140141Z",
     "start_time": "2025-01-09T02:52:33.118545Z"
    }
   },
   "outputs": [
    {
     "data": {
      "text/html": [
       "<div>\n",
       "<style scoped>\n",
       "    .dataframe tbody tr th:only-of-type {\n",
       "        vertical-align: middle;\n",
       "    }\n",
       "\n",
       "    .dataframe tbody tr th {\n",
       "        vertical-align: top;\n",
       "    }\n",
       "\n",
       "    .dataframe thead th {\n",
       "        text-align: right;\n",
       "    }\n",
       "</style>\n",
       "<table border=\"1\" class=\"dataframe\">\n",
       "  <thead>\n",
       "    <tr style=\"text-align: right;\">\n",
       "      <th></th>\n",
       "      <th>Name</th>\n",
       "      <th>Age</th>\n",
       "      <th>City</th>\n",
       "    </tr>\n",
       "  </thead>\n",
       "  <tbody>\n",
       "    <tr>\n",
       "      <th>0</th>\n",
       "      <td>Alice</td>\n",
       "      <td>31</td>\n",
       "      <td>New York</td>\n",
       "    </tr>\n",
       "    <tr>\n",
       "      <th>1</th>\n",
       "      <td>Bob</td>\n",
       "      <td>22</td>\n",
       "      <td>Los Angeles</td>\n",
       "    </tr>\n",
       "    <tr>\n",
       "      <th>2</th>\n",
       "      <td>Charlie</td>\n",
       "      <td>29</td>\n",
       "      <td>Chicago</td>\n",
       "    </tr>\n",
       "    <tr>\n",
       "      <th>3</th>\n",
       "      <td>David</td>\n",
       "      <td>40</td>\n",
       "      <td>Houston</td>\n",
       "    </tr>\n",
       "    <tr>\n",
       "      <th>4</th>\n",
       "      <td>Eva</td>\n",
       "      <td>26</td>\n",
       "      <td>Phoenix</td>\n",
       "    </tr>\n",
       "    <tr>\n",
       "      <th>5</th>\n",
       "      <td>Frank</td>\n",
       "      <td>25</td>\n",
       "      <td>Philadelphia</td>\n",
       "    </tr>\n",
       "    <tr>\n",
       "      <th>6</th>\n",
       "      <td>Grace</td>\n",
       "      <td>22</td>\n",
       "      <td>San Antonio</td>\n",
       "    </tr>\n",
       "    <tr>\n",
       "      <th>7</th>\n",
       "      <td>Helen</td>\n",
       "      <td>34</td>\n",
       "      <td>San Diego</td>\n",
       "    </tr>\n",
       "    <tr>\n",
       "      <th>8</th>\n",
       "      <td>Ian</td>\n",
       "      <td>42</td>\n",
       "      <td>Dallas</td>\n",
       "    </tr>\n",
       "    <tr>\n",
       "      <th>9</th>\n",
       "      <td>Jack</td>\n",
       "      <td>46</td>\n",
       "      <td>San Jose</td>\n",
       "    </tr>\n",
       "    <tr>\n",
       "      <th>10</th>\n",
       "      <td>Kate</td>\n",
       "      <td>41</td>\n",
       "      <td>Austin</td>\n",
       "    </tr>\n",
       "    <tr>\n",
       "      <th>11</th>\n",
       "      <td>Liam</td>\n",
       "      <td>34</td>\n",
       "      <td>Jacksonville</td>\n",
       "    </tr>\n",
       "    <tr>\n",
       "      <th>12</th>\n",
       "      <td>Mona</td>\n",
       "      <td>34</td>\n",
       "      <td>Fort Worth</td>\n",
       "    </tr>\n",
       "    <tr>\n",
       "      <th>13</th>\n",
       "      <td>Nina</td>\n",
       "      <td>45</td>\n",
       "      <td>Columbus</td>\n",
       "    </tr>\n",
       "    <tr>\n",
       "      <th>14</th>\n",
       "      <td>Oscar</td>\n",
       "      <td>42</td>\n",
       "      <td>Charlotte</td>\n",
       "    </tr>\n",
       "  </tbody>\n",
       "</table>\n",
       "</div>"
      ],
      "text/plain": [
       "       Name  Age          City\n",
       "0     Alice   31      New York\n",
       "1       Bob   22   Los Angeles\n",
       "2   Charlie   29       Chicago\n",
       "3     David   40       Houston\n",
       "4       Eva   26       Phoenix\n",
       "5     Frank   25  Philadelphia\n",
       "6     Grace   22   San Antonio\n",
       "7     Helen   34     San Diego\n",
       "8       Ian   42        Dallas\n",
       "9      Jack   46      San Jose\n",
       "10     Kate   41        Austin\n",
       "11     Liam   34  Jacksonville\n",
       "12     Mona   34    Fort Worth\n",
       "13     Nina   45      Columbus\n",
       "14    Oscar   42     Charlotte"
      ]
     },
     "execution_count": 30,
     "metadata": {},
     "output_type": "execute_result"
    }
   ],
   "source": [
    "import numpy as np\n",
    "import pandas as pd\n",
    "data_extended = {\n",
    "    \"Name\": [\"Alice\", \"Bob\", \"Charlie\", \"David\", \"Eva\", \"Frank\", \"Grace\", \"Helen\", \"Ian\", \"Jack\", \n",
    "             \"Kate\", \"Liam\", \"Mona\", \"Nina\", \"Oscar\"],\n",
    "    \"Age\": np.random.randint(20, 50, size=15),\n",
    "    \"City\": [\"New York\", \"Los Angeles\", \"Chicago\", \"Houston\", \"Phoenix\", \"Philadelphia\", \"San Antonio\", \n",
    "             \"San Diego\", \"Dallas\", \"San Jose\", \"Austin\", \"Jacksonville\", \"Fort Worth\", \"Columbus\", \"Charlotte\"]\n",
    "}\n",
    "df = pd.DataFrame(data_extended)\n",
    "df"
   ]
  },
  {
   "cell_type": "code",
   "execution_count": 34,
   "id": "76d75c72d731a6e6",
   "metadata": {
    "ExecuteTime": {
     "end_time": "2025-01-09T02:53:09.576233Z",
     "start_time": "2025-01-09T02:53:09.569084Z"
    }
   },
   "outputs": [],
   "source": [
    "# 保存为 CSV 文件\n",
    "df.to_csv(\"./data/csv_example.csv\", sep=',', index=False)"
   ]
  },
  {
   "cell_type": "markdown",
   "id": "83b4d74e295613ae",
   "metadata": {},
   "source": [
    "## 读取csv文件"
   ]
  },
  {
   "cell_type": "markdown",
   "id": "28199a40aff82c28",
   "metadata": {},
   "source": [
    "**pd.read_csv(filepath, sep, header, encoding)**\n",
    "   - filepath：文件路径\n",
    "   - sep：分隔符，需要与读入的文件对应\n",
    "        - ','：默认值，逗号分隔符\n",
    "        - '\\t'：制表符\n",
    "        - ‘；’:分号分隔符\n",
    "        - 其他自定义分割符，比如'&'、'%'、'qaq'等\n",
    "   - names：自定义列名\n",
    "   - nrows：读取文件的前n行。默认值为None（读取所有行），在读取大文件时特别有用\n",
    "   - encoding：指定文件编码方式，比如utf-8（默认）、gbk等\n",
    "    "
   ]
  },
  {
   "cell_type": "code",
   "execution_count": 39,
   "id": "afc9889552354d6f",
   "metadata": {
    "ExecuteTime": {
     "end_time": "2025-01-09T02:57:45.286248Z",
     "start_time": "2025-01-09T02:57:45.266296Z"
    }
   },
   "outputs": [
    {
     "data": {
      "text/html": [
       "<div>\n",
       "<style scoped>\n",
       "    .dataframe tbody tr th:only-of-type {\n",
       "        vertical-align: middle;\n",
       "    }\n",
       "\n",
       "    .dataframe tbody tr th {\n",
       "        vertical-align: top;\n",
       "    }\n",
       "\n",
       "    .dataframe thead th {\n",
       "        text-align: right;\n",
       "    }\n",
       "</style>\n",
       "<table border=\"1\" class=\"dataframe\">\n",
       "  <thead>\n",
       "    <tr style=\"text-align: right;\">\n",
       "      <th></th>\n",
       "      <th>姓名</th>\n",
       "      <th>年龄</th>\n",
       "      <th>城市</th>\n",
       "    </tr>\n",
       "  </thead>\n",
       "  <tbody>\n",
       "    <tr>\n",
       "      <th>0</th>\n",
       "      <td>Name</td>\n",
       "      <td>Age</td>\n",
       "      <td>City</td>\n",
       "    </tr>\n",
       "    <tr>\n",
       "      <th>1</th>\n",
       "      <td>Alice</td>\n",
       "      <td>31</td>\n",
       "      <td>New York</td>\n",
       "    </tr>\n",
       "    <tr>\n",
       "      <th>2</th>\n",
       "      <td>Bob</td>\n",
       "      <td>22</td>\n",
       "      <td>Los Angeles</td>\n",
       "    </tr>\n",
       "  </tbody>\n",
       "</table>\n",
       "</div>"
      ],
      "text/plain": [
       "      姓名   年龄           城市\n",
       "0   Name  Age         City\n",
       "1  Alice   31     New York\n",
       "2    Bob   22  Los Angeles"
      ]
     },
     "execution_count": 39,
     "metadata": {},
     "output_type": "execute_result"
    }
   ],
   "source": [
    "# pd.read_csv(\"./data/csv_example.csv\", sep=',', names=[\"姓名\", \"年龄\", \"城市\"], nrows=3)\n",
    "pd.read_csv(\"./data/csv_example.csv\", sep=',', names=['姓名','年龄','城市'], nrows=3)"
   ]
  },
  {
   "cell_type": "markdown",
   "id": "e53262f72f825169",
   "metadata": {},
   "source": [
    "# excel文件"
   ]
  },
  {
   "cell_type": "markdown",
   "id": "48cf17867b0292ca",
   "metadata": {},
   "source": [
    "excel文件是我们日常使用的Excel表格文件，python支持对excel文件的读取、写入操作"
   ]
  },
  {
   "cell_type": "code",
   "execution_count": 40,
   "id": "ff08d2bb1dece6be",
   "metadata": {
    "ExecuteTime": {
     "end_time": "2025-01-09T03:08:40.479812Z",
     "start_time": "2025-01-09T03:08:40.469720Z"
    }
   },
   "outputs": [
    {
     "data": {
      "text/html": [
       "<div>\n",
       "<style scoped>\n",
       "    .dataframe tbody tr th:only-of-type {\n",
       "        vertical-align: middle;\n",
       "    }\n",
       "\n",
       "    .dataframe tbody tr th {\n",
       "        vertical-align: top;\n",
       "    }\n",
       "\n",
       "    .dataframe thead th {\n",
       "        text-align: right;\n",
       "    }\n",
       "</style>\n",
       "<table border=\"1\" class=\"dataframe\">\n",
       "  <thead>\n",
       "    <tr style=\"text-align: right;\">\n",
       "      <th></th>\n",
       "      <th>Name</th>\n",
       "      <th>Age</th>\n",
       "      <th>City</th>\n",
       "    </tr>\n",
       "  </thead>\n",
       "  <tbody>\n",
       "    <tr>\n",
       "      <th>0</th>\n",
       "      <td>Alice</td>\n",
       "      <td>35</td>\n",
       "      <td>New York</td>\n",
       "    </tr>\n",
       "    <tr>\n",
       "      <th>1</th>\n",
       "      <td>Bob</td>\n",
       "      <td>25</td>\n",
       "      <td>Los Angeles</td>\n",
       "    </tr>\n",
       "    <tr>\n",
       "      <th>2</th>\n",
       "      <td>Charlie</td>\n",
       "      <td>38</td>\n",
       "      <td>Chicago</td>\n",
       "    </tr>\n",
       "    <tr>\n",
       "      <th>3</th>\n",
       "      <td>David</td>\n",
       "      <td>27</td>\n",
       "      <td>Houston</td>\n",
       "    </tr>\n",
       "    <tr>\n",
       "      <th>4</th>\n",
       "      <td>Eva</td>\n",
       "      <td>42</td>\n",
       "      <td>Phoenix</td>\n",
       "    </tr>\n",
       "    <tr>\n",
       "      <th>5</th>\n",
       "      <td>Frank</td>\n",
       "      <td>40</td>\n",
       "      <td>Philadelphia</td>\n",
       "    </tr>\n",
       "    <tr>\n",
       "      <th>6</th>\n",
       "      <td>Grace</td>\n",
       "      <td>32</td>\n",
       "      <td>San Antonio</td>\n",
       "    </tr>\n",
       "    <tr>\n",
       "      <th>7</th>\n",
       "      <td>Helen</td>\n",
       "      <td>45</td>\n",
       "      <td>San Diego</td>\n",
       "    </tr>\n",
       "    <tr>\n",
       "      <th>8</th>\n",
       "      <td>Ian</td>\n",
       "      <td>24</td>\n",
       "      <td>Dallas</td>\n",
       "    </tr>\n",
       "    <tr>\n",
       "      <th>9</th>\n",
       "      <td>Jack</td>\n",
       "      <td>47</td>\n",
       "      <td>San Jose</td>\n",
       "    </tr>\n",
       "    <tr>\n",
       "      <th>10</th>\n",
       "      <td>Kate</td>\n",
       "      <td>40</td>\n",
       "      <td>Austin</td>\n",
       "    </tr>\n",
       "    <tr>\n",
       "      <th>11</th>\n",
       "      <td>Liam</td>\n",
       "      <td>26</td>\n",
       "      <td>Jacksonville</td>\n",
       "    </tr>\n",
       "    <tr>\n",
       "      <th>12</th>\n",
       "      <td>Mona</td>\n",
       "      <td>47</td>\n",
       "      <td>Fort Worth</td>\n",
       "    </tr>\n",
       "    <tr>\n",
       "      <th>13</th>\n",
       "      <td>Nina</td>\n",
       "      <td>27</td>\n",
       "      <td>Columbus</td>\n",
       "    </tr>\n",
       "    <tr>\n",
       "      <th>14</th>\n",
       "      <td>Oscar</td>\n",
       "      <td>45</td>\n",
       "      <td>Charlotte</td>\n",
       "    </tr>\n",
       "  </tbody>\n",
       "</table>\n",
       "</div>"
      ],
      "text/plain": [
       "       Name  Age          City\n",
       "0     Alice   35      New York\n",
       "1       Bob   25   Los Angeles\n",
       "2   Charlie   38       Chicago\n",
       "3     David   27       Houston\n",
       "4       Eva   42       Phoenix\n",
       "5     Frank   40  Philadelphia\n",
       "6     Grace   32   San Antonio\n",
       "7     Helen   45     San Diego\n",
       "8       Ian   24        Dallas\n",
       "9      Jack   47      San Jose\n",
       "10     Kate   40        Austin\n",
       "11     Liam   26  Jacksonville\n",
       "12     Mona   47    Fort Worth\n",
       "13     Nina   27      Columbus\n",
       "14    Oscar   45     Charlotte"
      ]
     },
     "execution_count": 40,
     "metadata": {},
     "output_type": "execute_result"
    }
   ],
   "source": [
    "import numpy as np\n",
    "import pandas as pd\n",
    "data_extended = {\n",
    "    \"Name\": [\"Alice\", \"Bob\", \"Charlie\", \"David\", \"Eva\", \"Frank\", \"Grace\", \"Helen\", \"Ian\", \"Jack\", \n",
    "             \"Kate\", \"Liam\", \"Mona\", \"Nina\", \"Oscar\"],\n",
    "    \"Age\": np.random.randint(20, 50, size=15),\n",
    "    \"City\": [\"New York\", \"Los Angeles\", \"Chicago\", \"Houston\", \"Phoenix\", \"Philadelphia\", \"San Antonio\", \n",
    "             \"San Diego\", \"Dallas\", \"San Jose\", \"Austin\", \"Jacksonville\", \"Fort Worth\", \"Columbus\", \"Charlotte\"]\n",
    "}\n",
    "df = pd.DataFrame(data_extended)\n",
    "df"
   ]
  },
  {
   "cell_type": "markdown",
   "id": "bbcace8ccef7d979",
   "metadata": {},
   "source": [
    "## 保存excel文件"
   ]
  },
  {
   "cell_type": "markdown",
   "id": "a899885cc4aab55",
   "metadata": {},
   "source": [
    "**df.to_excel(save_path, sheet_name, index)**：\n",
    "   - save_path：保存文件路径\n",
    "   - sheet_name：指定写入的sheet名称\n",
    "   - index：是否写入行索引"
   ]
  },
  {
   "cell_type": "code",
   "execution_count": 44,
   "id": "6fb0fcdc98308c01",
   "metadata": {
    "ExecuteTime": {
     "end_time": "2025-01-09T03:08:59.830523Z",
     "start_time": "2025-01-09T03:08:59.668137Z"
    }
   },
   "outputs": [],
   "source": [
    "df.to_excel('./data/excel_example.xlsx', sheet_name='sheet1', index=False)"
   ]
  },
  {
   "cell_type": "markdown",
   "id": "6b253bb698ca8311",
   "metadata": {},
   "source": [
    "## 读取excel文件"
   ]
  },
  {
   "cell_type": "markdown",
   "id": "2c82830ad2314231",
   "metadata": {},
   "source": [
    "pd.read_excel(file_path, sheet_name, names, nrows)：\n",
    "   - file_path：指定要读取的文件路径\n",
    "   - sheet_name：指定要读取的sheet名称\n",
    "   - names：自定义列名\n",
    "   - nrows：读取文件的前n行。默认值为None（读取所有行），在读取大文件时特别有用"
   ]
  },
  {
   "cell_type": "code",
   "execution_count": 51,
   "id": "83e2e469",
   "metadata": {
    "ExecuteTime": {
     "end_time": "2025-01-09T03:16:29.750998Z",
     "start_time": "2025-01-09T03:16:29.721189Z"
    }
   },
   "outputs": [
    {
     "data": {
      "text/html": [
       "<div>\n",
       "<style scoped>\n",
       "    .dataframe tbody tr th:only-of-type {\n",
       "        vertical-align: middle;\n",
       "    }\n",
       "\n",
       "    .dataframe tbody tr th {\n",
       "        vertical-align: top;\n",
       "    }\n",
       "\n",
       "    .dataframe thead th {\n",
       "        text-align: right;\n",
       "    }\n",
       "</style>\n",
       "<table border=\"1\" class=\"dataframe\">\n",
       "  <thead>\n",
       "    <tr style=\"text-align: right;\">\n",
       "      <th></th>\n",
       "      <th>姓名</th>\n",
       "      <th>年龄</th>\n",
       "      <th>城市</th>\n",
       "    </tr>\n",
       "  </thead>\n",
       "  <tbody>\n",
       "    <tr>\n",
       "      <th>0</th>\n",
       "      <td>Alice</td>\n",
       "      <td>35</td>\n",
       "      <td>New York</td>\n",
       "    </tr>\n",
       "    <tr>\n",
       "      <th>1</th>\n",
       "      <td>Bob</td>\n",
       "      <td>25</td>\n",
       "      <td>Los Angeles</td>\n",
       "    </tr>\n",
       "    <tr>\n",
       "      <th>2</th>\n",
       "      <td>Charlie</td>\n",
       "      <td>38</td>\n",
       "      <td>Chicago</td>\n",
       "    </tr>\n",
       "    <tr>\n",
       "      <th>3</th>\n",
       "      <td>David</td>\n",
       "      <td>27</td>\n",
       "      <td>Houston</td>\n",
       "    </tr>\n",
       "    <tr>\n",
       "      <th>4</th>\n",
       "      <td>Eva</td>\n",
       "      <td>42</td>\n",
       "      <td>Phoenix</td>\n",
       "    </tr>\n",
       "  </tbody>\n",
       "</table>\n",
       "</div>"
      ],
      "text/plain": [
       "        姓名  年龄           城市\n",
       "0    Alice  35     New York\n",
       "1      Bob  25  Los Angeles\n",
       "2  Charlie  38      Chicago\n",
       "3    David  27      Houston\n",
       "4      Eva  42      Phoenix"
      ]
     },
     "execution_count": 51,
     "metadata": {},
     "output_type": "execute_result"
    }
   ],
   "source": [
    "# pd.read_excel('./data/excel_example.xlsx', sheet_name='Sheet1', names=[\"姓名\", \"年龄\", \"城市\"], nrows=5)\n",
    "pd.read_excel('./data/excel_example.xlsx', sheet_name='sheet1', names=[\"姓名\", \"年龄\", \"城市\"], nrows=5)"
   ]
  },
  {
   "cell_type": "markdown",
   "id": "94ad4ddfceb807a",
   "metadata": {},
   "source": [
    "# json文件"
   ]
  },
  {
   "cell_type": "markdown",
   "id": "6f3ce8d567f5fd7a",
   "metadata": {},
   "source": [
    "json文件是一种用于表示键值对字典数据或数组数据的文件，基本单位是对象（{}）和数组（[]）"
   ]
  },
  {
   "cell_type": "markdown",
   "id": "c5a80944272890a9",
   "metadata": {},
   "source": [
    "## JSON数据结构"
   ]
  },
  {
   "cell_type": "markdown",
   "id": "39f83c5df58b728b",
   "metadata": {},
   "source": [
    "### JSON对象\n",
    "用 大括号 {} 表示一个对象，包含键值对：\n",
    "  - 键（key）：必须是字符串，使用双引号括起来。\n",
    "  - 值（value）：可以是字符串、数字、布尔值、数组、对象或 null"
   ]
  },
  {
   "cell_type": "code",
   "execution_count": 53,
   "id": "9efb397a9307f11c",
   "metadata": {
    "ExecuteTime": {
     "end_time": "2025-01-09T05:05:54.270950Z",
     "start_time": "2025-01-09T05:05:54.260405Z"
    }
   },
   "outputs": [
    {
     "data": {
      "text/plain": [
       "{'name': 'Alice',\n",
       " 'age': 25,\n",
       " 'is_student': False,\n",
       " 'skills': ['Python', 'SQL', 'Machine Learning'],\n",
       " 'address': {'city': 'New York', 'zip_code': '10001'}}"
      ]
     },
     "execution_count": 53,
     "metadata": {},
     "output_type": "execute_result"
    }
   ],
   "source": [
    "# 示例\n",
    "{\n",
    "  \"name\": \"Alice\",\n",
    "  \"age\": 25,\n",
    "  \"is_student\": False,\n",
    "  \"skills\": [\"Python\", \"SQL\", \"Machine Learning\"],\n",
    "  \"address\": {\n",
    "    \"city\": \"New York\",\n",
    "    \"zip_code\": \"10001\"\n",
    "  }\n",
    "}"
   ]
  },
  {
   "cell_type": "markdown",
   "id": "14c289a533712dc3",
   "metadata": {},
   "source": [
    "### JSON 数组\n",
    "用 中括号 [] 表示一个数组，包含多个值（可以是对象、数组或简单值）"
   ]
  },
  {
   "cell_type": "code",
   "execution_count": 54,
   "id": "c74f1d94a856e19f",
   "metadata": {
    "ExecuteTime": {
     "end_time": "2025-01-09T05:06:23.410964Z",
     "start_time": "2025-01-09T05:06:23.400396Z"
    }
   },
   "outputs": [
    {
     "data": {
      "text/plain": [
       "[{'name': 'Alice', 'age': 25},\n",
       " {'name': 'Bob', 'age': 30},\n",
       " {'name': 'Charlie', 'age': 35}]"
      ]
     },
     "execution_count": 54,
     "metadata": {},
     "output_type": "execute_result"
    }
   ],
   "source": [
    "[\n",
    "  {\"name\": \"Alice\", \"age\": 25},\n",
    "  {\"name\": \"Bob\", \"age\": 30},\n",
    "  {\"name\": \"Charlie\", \"age\": 35}\n",
    "]\n"
   ]
  },
  {
   "cell_type": "markdown",
   "id": "be52332be22f1461",
   "metadata": {},
   "source": [
    "## JSON数据保存与读取"
   ]
  },
  {
   "cell_type": "markdown",
   "id": "529140b68501d7f2",
   "metadata": {},
   "source": [
    "### 保存JSON对象"
   ]
  },
  {
   "cell_type": "markdown",
   "id": "f9ec913fec794c5d",
   "metadata": {},
   "source": [
    "**json.dumps(obj, ensure_ascii, indent)**：序列化python对象，输出为**字符串**\n",
    "   - obj：要序列化为 JSON 格式字符串的 Python 对象\n",
    "   - ensure_ascii：如果为True则所有非ASCII字符都会被转义（默认）；如果为False则输出原始字符\n",
    "   - indent：指定缩进级别，生成更加美观的JSON格式。"
   ]
  },
  {
   "cell_type": "code",
   "execution_count": 63,
   "id": "c4956e0ca80eea4f",
   "metadata": {
    "ExecuteTime": {
     "end_time": "2025-01-09T06:19:32.342615Z",
     "start_time": "2025-01-09T06:19:32.334666Z"
    }
   },
   "outputs": [
    {
     "data": {
      "text/plain": [
       "'{\\n   \"name\": \"Alice\",\\n   \"age\": 25,\\n   \"skills\": [\\n      \"Python\",\\n      \"SQL\"\\n   ]\\n}'"
      ]
     },
     "execution_count": 63,
     "metadata": {},
     "output_type": "execute_result"
    }
   ],
   "source": [
    "import json\n",
    "data = {\"name\": \"Alice\", \"age\": 25, \"skills\": [\"Python\", \"SQL\"]}\n",
    "json_str = json.dumps(data, ensure_ascii=False, indent=3)\n",
    "json_str"
   ]
  },
  {
   "cell_type": "markdown",
   "id": "65a231917f5e4d1f",
   "metadata": {},
   "source": [
    "**json.dump(obj, fp, ensure_ascii, indent)**：序列化python对象，写入文件\n",
    "   - obj：被存储对象\n",
    "   - fp：文件存储路径\n",
    "   - ensure_ascii：如果为True则所有非ASCII字符都会被转义（默认）；如果为False则输出原始字符\n",
    "   - indent：指定缩进级别，生成更加美观的JSON格式。"
   ]
  },
  {
   "cell_type": "code",
   "execution_count": 64,
   "id": "a6898668f43c989f",
   "metadata": {
    "ExecuteTime": {
     "end_time": "2025-01-09T05:17:47.920637Z",
     "start_time": "2025-01-09T05:17:47.912613Z"
    }
   },
   "outputs": [
    {
     "data": {
      "text/plain": [
       "{'name': 'Alice',\n",
       " 'age': 25,\n",
       " 'is_student': False,\n",
       " 'skills': ['Python', 'SQL', 'Machine Learning']}"
      ]
     },
     "execution_count": 64,
     "metadata": {},
     "output_type": "execute_result"
    }
   ],
   "source": [
    "import json\n",
    "# 生成一个字典\n",
    "data = {\n",
    "    \"name\": \"Alice\",\n",
    "    \"age\": 25,\n",
    "    \"is_student\": False,\n",
    "    \"skills\": [\"Python\", \"SQL\", \"Machine Learning\"]\n",
    "}\n",
    "data"
   ]
  },
  {
   "cell_type": "code",
   "execution_count": 68,
   "id": "7236d298",
   "metadata": {},
   "outputs": [],
   "source": [
    "with open('./data/JSON_example.json', 'w') as file:\n",
    "    json.dump(data, file, indent=4)"
   ]
  },
  {
   "cell_type": "markdown",
   "id": "463c27a8393d25a3",
   "metadata": {},
   "source": [
    "**json.dump()与json.dumps()的核心差别**：\n",
    "- json.dump()：序列化python对象，写入文件\n",
    "- json.dumps()：序列化python对象，输出为字符串"
   ]
  },
  {
   "cell_type": "markdown",
   "id": "ed17b91fc715c367",
   "metadata": {},
   "source": [
    "### 读取JSON对象"
   ]
  },
  {
   "cell_type": "markdown",
   "id": "d0d59c3998b8afbb",
   "metadata": {},
   "source": [
    "**json.loads(s)**：从字符串中读取JSON数据\n",
    "  - s：要解析的JSON字符串"
   ]
  },
  {
   "cell_type": "code",
   "execution_count": 71,
   "id": "3a9a27018cdb3ece",
   "metadata": {
    "ExecuteTime": {
     "end_time": "2025-01-09T05:45:46.148978Z",
     "start_time": "2025-01-09T05:45:46.139064Z"
    }
   },
   "outputs": [
    {
     "data": {
      "text/plain": [
       "{'name': 'Alice', 'age': 25, 'skills': ['Python', 'SQL']}"
      ]
     },
     "execution_count": 71,
     "metadata": {},
     "output_type": "execute_result"
    }
   ],
   "source": [
    "json_str = '{\"name\": \"Alice\", \"age\": 25, \"skills\": [\"Python\", \"SQL\"]}'\n",
    "data = json.loads(json_str)\n",
    "data"
   ]
  },
  {
   "cell_type": "markdown",
   "id": "628ddc83a0c8dad5",
   "metadata": {},
   "source": [
    "**json.load(fp)**：从文件对象中读取JSON数据\n",
    "  - fp：可读的文件对象"
   ]
  },
  {
   "cell_type": "code",
   "execution_count": 72,
   "id": "c7394ecda59c4ae2",
   "metadata": {
    "ExecuteTime": {
     "end_time": "2025-01-09T05:45:48.986737Z",
     "start_time": "2025-01-09T05:45:48.976515Z"
    }
   },
   "outputs": [
    {
     "data": {
      "text/plain": [
       "{'name': 'Alice',\n",
       " 'age': 25,\n",
       " 'is_student': False,\n",
       " 'skills': ['Python', 'SQL', 'Machine Learning']}"
      ]
     },
     "execution_count": 72,
     "metadata": {},
     "output_type": "execute_result"
    }
   ],
   "source": [
    "import json\n",
    "# 从文件读取 JSON 数据\n",
    "with open('./data/JSON_example.json', 'r') as file:\n",
    "    data = json.load(file)\n",
    "data"
   ]
  },
  {
   "cell_type": "markdown",
   "id": "87c27dc124f23f9a",
   "metadata": {},
   "source": [
    "**json.load()与json.loads()的核心差别**：\n",
    "- json.loads()：从字符串中读取JSON数据\n",
    "- json.load()：从文件对象中读取JSON数据"
   ]
  },
  {
   "cell_type": "markdown",
   "id": "8542aba5e52d8aa4",
   "metadata": {},
   "source": [
    "# txt文件"
   ]
  },
  {
   "cell_type": "markdown",
   "id": "3837bd83663fa7c9",
   "metadata": {},
   "source": [
    "txt文件是我们日常使用的TXT文件，是一种最基本的文本文件格式。python支持对txt文件的读写操作\n",
    "\n",
    "txt文件的读取、保存与csv文件相同：\n",
    "   - 读取txt文件使用pd.read_csv()\n",
    "   - 保存txt文件使用df.to_csv()"
   ]
  },
  {
   "cell_type": "code",
   "execution_count": 73,
   "id": "e50b66267dceffa3",
   "metadata": {
    "ExecuteTime": {
     "end_time": "2025-01-09T06:57:08.035983Z",
     "start_time": "2025-01-09T06:57:08.008861Z"
    }
   },
   "outputs": [
    {
     "data": {
      "text/html": [
       "<div>\n",
       "<style scoped>\n",
       "    .dataframe tbody tr th:only-of-type {\n",
       "        vertical-align: middle;\n",
       "    }\n",
       "\n",
       "    .dataframe tbody tr th {\n",
       "        vertical-align: top;\n",
       "    }\n",
       "\n",
       "    .dataframe thead th {\n",
       "        text-align: right;\n",
       "    }\n",
       "</style>\n",
       "<table border=\"1\" class=\"dataframe\">\n",
       "  <thead>\n",
       "    <tr style=\"text-align: right;\">\n",
       "      <th></th>\n",
       "      <th>Name</th>\n",
       "      <th>Age</th>\n",
       "      <th>City</th>\n",
       "    </tr>\n",
       "  </thead>\n",
       "  <tbody>\n",
       "    <tr>\n",
       "      <th>0</th>\n",
       "      <td>Alice</td>\n",
       "      <td>46</td>\n",
       "      <td>New York</td>\n",
       "    </tr>\n",
       "    <tr>\n",
       "      <th>1</th>\n",
       "      <td>Bob</td>\n",
       "      <td>39</td>\n",
       "      <td>Los Angeles</td>\n",
       "    </tr>\n",
       "    <tr>\n",
       "      <th>2</th>\n",
       "      <td>Charlie</td>\n",
       "      <td>29</td>\n",
       "      <td>Chicago</td>\n",
       "    </tr>\n",
       "    <tr>\n",
       "      <th>3</th>\n",
       "      <td>David</td>\n",
       "      <td>45</td>\n",
       "      <td>Houston</td>\n",
       "    </tr>\n",
       "    <tr>\n",
       "      <th>4</th>\n",
       "      <td>Eva</td>\n",
       "      <td>36</td>\n",
       "      <td>Phoenix</td>\n",
       "    </tr>\n",
       "    <tr>\n",
       "      <th>5</th>\n",
       "      <td>Frank</td>\n",
       "      <td>22</td>\n",
       "      <td>Philadelphia</td>\n",
       "    </tr>\n",
       "    <tr>\n",
       "      <th>6</th>\n",
       "      <td>Grace</td>\n",
       "      <td>47</td>\n",
       "      <td>San Antonio</td>\n",
       "    </tr>\n",
       "    <tr>\n",
       "      <th>7</th>\n",
       "      <td>Helen</td>\n",
       "      <td>33</td>\n",
       "      <td>San Diego</td>\n",
       "    </tr>\n",
       "    <tr>\n",
       "      <th>8</th>\n",
       "      <td>Ian</td>\n",
       "      <td>49</td>\n",
       "      <td>Dallas</td>\n",
       "    </tr>\n",
       "    <tr>\n",
       "      <th>9</th>\n",
       "      <td>Jack</td>\n",
       "      <td>21</td>\n",
       "      <td>San Jose</td>\n",
       "    </tr>\n",
       "    <tr>\n",
       "      <th>10</th>\n",
       "      <td>Kate</td>\n",
       "      <td>47</td>\n",
       "      <td>Austin</td>\n",
       "    </tr>\n",
       "    <tr>\n",
       "      <th>11</th>\n",
       "      <td>Liam</td>\n",
       "      <td>42</td>\n",
       "      <td>Jacksonville</td>\n",
       "    </tr>\n",
       "    <tr>\n",
       "      <th>12</th>\n",
       "      <td>Mona</td>\n",
       "      <td>47</td>\n",
       "      <td>Fort Worth</td>\n",
       "    </tr>\n",
       "    <tr>\n",
       "      <th>13</th>\n",
       "      <td>Nina</td>\n",
       "      <td>22</td>\n",
       "      <td>Columbus</td>\n",
       "    </tr>\n",
       "    <tr>\n",
       "      <th>14</th>\n",
       "      <td>Oscar</td>\n",
       "      <td>47</td>\n",
       "      <td>Charlotte</td>\n",
       "    </tr>\n",
       "  </tbody>\n",
       "</table>\n",
       "</div>"
      ],
      "text/plain": [
       "       Name  Age          City\n",
       "0     Alice   46      New York\n",
       "1       Bob   39   Los Angeles\n",
       "2   Charlie   29       Chicago\n",
       "3     David   45       Houston\n",
       "4       Eva   36       Phoenix\n",
       "5     Frank   22  Philadelphia\n",
       "6     Grace   47   San Antonio\n",
       "7     Helen   33     San Diego\n",
       "8       Ian   49        Dallas\n",
       "9      Jack   21      San Jose\n",
       "10     Kate   47        Austin\n",
       "11     Liam   42  Jacksonville\n",
       "12     Mona   47    Fort Worth\n",
       "13     Nina   22      Columbus\n",
       "14    Oscar   47     Charlotte"
      ]
     },
     "execution_count": 73,
     "metadata": {},
     "output_type": "execute_result"
    }
   ],
   "source": [
    "import numpy as np\n",
    "import pandas as pd\n",
    "data_extended = {\n",
    "    \"Name\": [\"Alice\", \"Bob\", \"Charlie\", \"David\", \"Eva\", \"Frank\", \"Grace\", \"Helen\", \"Ian\", \"Jack\", \n",
    "             \"Kate\", \"Liam\", \"Mona\", \"Nina\", \"Oscar\"],\n",
    "    \"Age\": np.random.randint(20, 50, size=15),\n",
    "    \"City\": [\"New York\", \"Los Angeles\", \"Chicago\", \"Houston\", \"Phoenix\", \"Philadelphia\", \"San Antonio\", \n",
    "             \"San Diego\", \"Dallas\", \"San Jose\", \"Austin\", \"Jacksonville\", \"Fort Worth\", \"Columbus\", \"Charlotte\"]\n",
    "}\n",
    "df = pd.DataFrame(data_extended)\n",
    "df"
   ]
  },
  {
   "cell_type": "code",
   "execution_count": 75,
   "id": "b257a4559ee189c6",
   "metadata": {
    "ExecuteTime": {
     "end_time": "2025-01-09T06:57:44.233579Z",
     "start_time": "2025-01-09T06:57:44.223095Z"
    }
   },
   "outputs": [],
   "source": [
    "# 保存txt文件\n",
    "df.to_csv(\"./data/txt_example.txt\", sep=\"\\t\", index=False)"
   ]
  },
  {
   "cell_type": "code",
   "execution_count": 74,
   "id": "7bf27f60a774145d",
   "metadata": {
    "ExecuteTime": {
     "end_time": "2025-01-09T06:58:05.618810Z",
     "start_time": "2025-01-09T06:58:05.602633Z"
    }
   },
   "outputs": [
    {
     "data": {
      "text/html": [
       "<div>\n",
       "<style scoped>\n",
       "    .dataframe tbody tr th:only-of-type {\n",
       "        vertical-align: middle;\n",
       "    }\n",
       "\n",
       "    .dataframe tbody tr th {\n",
       "        vertical-align: top;\n",
       "    }\n",
       "\n",
       "    .dataframe thead th {\n",
       "        text-align: right;\n",
       "    }\n",
       "</style>\n",
       "<table border=\"1\" class=\"dataframe\">\n",
       "  <thead>\n",
       "    <tr style=\"text-align: right;\">\n",
       "      <th></th>\n",
       "      <th>Name</th>\n",
       "      <th>Age</th>\n",
       "      <th>City</th>\n",
       "    </tr>\n",
       "  </thead>\n",
       "  <tbody>\n",
       "    <tr>\n",
       "      <th>0</th>\n",
       "      <td>Alice</td>\n",
       "      <td>43</td>\n",
       "      <td>New York</td>\n",
       "    </tr>\n",
       "    <tr>\n",
       "      <th>1</th>\n",
       "      <td>Bob</td>\n",
       "      <td>33</td>\n",
       "      <td>Los Angeles</td>\n",
       "    </tr>\n",
       "    <tr>\n",
       "      <th>2</th>\n",
       "      <td>Charlie</td>\n",
       "      <td>27</td>\n",
       "      <td>Chicago</td>\n",
       "    </tr>\n",
       "    <tr>\n",
       "      <th>3</th>\n",
       "      <td>David</td>\n",
       "      <td>48</td>\n",
       "      <td>Houston</td>\n",
       "    </tr>\n",
       "    <tr>\n",
       "      <th>4</th>\n",
       "      <td>Eva</td>\n",
       "      <td>35</td>\n",
       "      <td>Phoenix</td>\n",
       "    </tr>\n",
       "    <tr>\n",
       "      <th>5</th>\n",
       "      <td>Frank</td>\n",
       "      <td>39</td>\n",
       "      <td>Philadelphia</td>\n",
       "    </tr>\n",
       "    <tr>\n",
       "      <th>6</th>\n",
       "      <td>Grace</td>\n",
       "      <td>26</td>\n",
       "      <td>San Antonio</td>\n",
       "    </tr>\n",
       "    <tr>\n",
       "      <th>7</th>\n",
       "      <td>Helen</td>\n",
       "      <td>25</td>\n",
       "      <td>San Diego</td>\n",
       "    </tr>\n",
       "    <tr>\n",
       "      <th>8</th>\n",
       "      <td>Ian</td>\n",
       "      <td>33</td>\n",
       "      <td>Dallas</td>\n",
       "    </tr>\n",
       "    <tr>\n",
       "      <th>9</th>\n",
       "      <td>Jack</td>\n",
       "      <td>47</td>\n",
       "      <td>San Jose</td>\n",
       "    </tr>\n",
       "    <tr>\n",
       "      <th>10</th>\n",
       "      <td>Kate</td>\n",
       "      <td>47</td>\n",
       "      <td>Austin</td>\n",
       "    </tr>\n",
       "    <tr>\n",
       "      <th>11</th>\n",
       "      <td>Liam</td>\n",
       "      <td>33</td>\n",
       "      <td>Jacksonville</td>\n",
       "    </tr>\n",
       "    <tr>\n",
       "      <th>12</th>\n",
       "      <td>Mona</td>\n",
       "      <td>48</td>\n",
       "      <td>Fort Worth</td>\n",
       "    </tr>\n",
       "    <tr>\n",
       "      <th>13</th>\n",
       "      <td>Nina</td>\n",
       "      <td>27</td>\n",
       "      <td>Columbus</td>\n",
       "    </tr>\n",
       "    <tr>\n",
       "      <th>14</th>\n",
       "      <td>Oscar</td>\n",
       "      <td>32</td>\n",
       "      <td>Charlotte</td>\n",
       "    </tr>\n",
       "  </tbody>\n",
       "</table>\n",
       "</div>"
      ],
      "text/plain": [
       "       Name  Age          City\n",
       "0     Alice   43      New York\n",
       "1       Bob   33   Los Angeles\n",
       "2   Charlie   27       Chicago\n",
       "3     David   48       Houston\n",
       "4       Eva   35       Phoenix\n",
       "5     Frank   39  Philadelphia\n",
       "6     Grace   26   San Antonio\n",
       "7     Helen   25     San Diego\n",
       "8       Ian   33        Dallas\n",
       "9      Jack   47      San Jose\n",
       "10     Kate   47        Austin\n",
       "11     Liam   33  Jacksonville\n",
       "12     Mona   48    Fort Worth\n",
       "13     Nina   27      Columbus\n",
       "14    Oscar   32     Charlotte"
      ]
     },
     "execution_count": 74,
     "metadata": {},
     "output_type": "execute_result"
    }
   ],
   "source": [
    "# 读取txt文件\n",
    "df_txt = pd.read_csv(\"./data/txt_example.txt\", sep=\"\\t\")\n",
    "df_txt"
   ]
  },
  {
   "cell_type": "markdown",
   "id": "f0069c9178b8121e",
   "metadata": {},
   "source": [
    "# pickle文件"
   ]
  },
  {
   "cell_type": "markdown",
   "id": "657a1d84af7e2830",
   "metadata": {},
   "source": [
    "pickle是一种用于序列化保存python对象的文件，主要用于保存模型参数、结构。"
   ]
  },
  {
   "cell_type": "markdown",
   "id": "d655899cafc1e995",
   "metadata": {},
   "source": [
    "## 保存（序列化）对象到文件"
   ]
  },
  {
   "cell_type": "markdown",
   "id": "4b295606d49c83f",
   "metadata": {},
   "source": [
    "**pickle.dump(obj, file)**：\n",
    "   - obj：要被序列化的 Python 对象\n",
    "   - file：文件存储对象"
   ]
  },
  {
   "cell_type": "code",
   "execution_count": 76,
   "id": "9ffc55f756392864",
   "metadata": {
    "ExecuteTime": {
     "end_time": "2025-01-09T07:05:34.681970Z",
     "start_time": "2025-01-09T07:05:34.674253Z"
    }
   },
   "outputs": [],
   "source": [
    "import pickle\n",
    "# 创建一个 Python 对象\n",
    "data = {\"Name\": \"Alice\", \"Age\": 25, \"Skills\": [\"Python\", \"SQL\"]}\n",
    "\n",
    "# 将对象保存到 pickle 文件\n",
    "with open(\"./data/pickle_example.pkl\", \"wb\") as file:\n",
    "    pickle.dump(data, file)  # \"wb\" 表示写入二进制文件"
   ]
  },
  {
   "cell_type": "markdown",
   "id": "ef4fd17f02e88671",
   "metadata": {},
   "source": [
    "##  加载（反序列化）文件到对象"
   ]
  },
  {
   "cell_type": "markdown",
   "id": "fd3dcce4",
   "metadata": {},
   "source": [
    "**pickle.load(fp)**：从 pickle 文件中加载对象\n",
    "   - fp：可读的文件对象"
   ]
  },
  {
   "cell_type": "code",
   "execution_count": 77,
   "id": "5aab7d36887b54f5",
   "metadata": {
    "ExecuteTime": {
     "end_time": "2025-01-09T07:06:04.656324Z",
     "start_time": "2025-01-09T07:06:04.645294Z"
    }
   },
   "outputs": [
    {
     "data": {
      "text/plain": [
       "{'Name': 'Alice', 'Age': 25, 'Skills': ['Python', 'SQL']}"
      ]
     },
     "execution_count": 77,
     "metadata": {},
     "output_type": "execute_result"
    }
   ],
   "source": [
    "import pickle\n",
    "\n",
    "# 从 pickle 文件中加载对象\n",
    "with open(\"./data/pickle_example.pkl\", \"rb\") as file:\n",
    "    loaded_data = pickle.load(file)  # \"rb\" 表示读取二进制文件\n",
    "loaded_data"
   ]
  },
  {
   "cell_type": "markdown",
   "id": "7b8bb170d45c283b",
   "metadata": {},
   "source": [
    "# with open保存/读取文件"
   ]
  },
  {
   "cell_type": "markdown",
   "id": "f1b6e1cdd04dacb",
   "metadata": {},
   "source": [
    "在python中 with open 是一种简洁高效的处理文件操作，可以对文件进行读取和保存操作。\n",
    "\n",
    "与上述基于pandas的文件操作方法相比，with open可以提供更加丰富灵活的操作方法。"
   ]
  },
  {
   "cell_type": "markdown",
   "id": "3ddac42ec342b2e7",
   "metadata": {},
   "source": [
    "## with open 基本语法"
   ]
  },
  {
   "cell_type": "markdown",
   "id": "82fa349e4769aa8b",
   "metadata": {},
   "source": [
    "with open(file, mode, encoding=None) as f:\n",
    "    # 文件操作\n",
    "  - file：文件路径，可以是相对路径或绝对路径。\n",
    "  - mode：文件操作模式（详见下表）。\n",
    "  - encoding：文件编码（如 utf-8、gbk）"
   ]
  },
  {
   "cell_type": "markdown",
   "id": "602ba1a9980dd62d",
   "metadata": {},
   "source": [
    "**文件操作模式**"
   ]
  },
  {
   "cell_type": "markdown",
   "id": "1bbbe7ffe55593a4",
   "metadata": {},
   "source": [
    "| 模式 | 描述 |\n",
    "| --- | --- |\n",
    "| 'r' | 以只读模式打开文件（默认），文件必须存在。 |\n",
    "| 'w' | 以写入模式打开文件，如果文件存在则清空内容；如果文件不存在则新建文件。 |\n",
    "| 'a' | 以追加模式打开文件，如果文件不存在则新建文件。 |\n",
    "| 'r+' | 以读写模式打开文件，文件必须存在。 |\n",
    "| 'w+' | 以写读模式打开文件，清空内容后写入；如果文件不存在则新建文件。 |\n",
    "| 'a+' | 以追加读写模式打开文件，如果文件不存在则新建文件。 |\n",
    "| 'rb' | 以二进制只读模式打开文件（适用于非文本文件，如图片、音频）。 |\n",
    "| 'wb' | 以二进制写入模式打开文件（适用于非文本文件，如图片、音频）。 |\n",
    "| 'ab' | 以二进制追加模式打开文件。 |"
   ]
  },
  {
   "cell_type": "markdown",
   "id": "1c449bdca8414bc1",
   "metadata": {},
   "source": [
    "## with open实战技巧"
   ]
  },
  {
   "cell_type": "markdown",
   "id": "2e8277938e5857ac",
   "metadata": {},
   "source": [
    "### 读取整个文件内容"
   ]
  },
  {
   "cell_type": "code",
   "execution_count": 82,
   "id": "c8e750ac1ebb2191",
   "metadata": {
    "ExecuteTime": {
     "end_time": "2025-01-09T07:51:47.009695Z",
     "start_time": "2025-01-09T07:51:47.001432Z"
    }
   },
   "outputs": [
    {
     "name": "stdout",
     "output_type": "stream",
     "text": [
      "Name\tAge\tCity\n",
      "Alice\t46\tNew York\n",
      "Bob\t39\tLos Angeles\n",
      "Charlie\t29\tChicago\n",
      "David\t45\tHouston\n",
      "Eva\t36\tPhoenix\n",
      "Frank\t22\tPhiladelphia\n",
      "Grace\t47\tSan Antonio\n",
      "Helen\t33\tSan Diego\n",
      "Ian\t49\tDallas\n",
      "Jack\t21\tSan Jose\n",
      "Kate\t47\tAustin\n",
      "Liam\t42\tJacksonville\n",
      "Mona\t47\tFort Worth\n",
      "Nina\t22\tColumbus\n",
      "Oscar\t47\tCharlotte\n",
      "\n"
     ]
    }
   ],
   "source": [
    "with open('./data/txt_example.txt', 'r', encoding='utf-8') as file:\n",
    "    content = file.read()  # 读取整个文件内容\n",
    "print(content)"
   ]
  },
  {
   "cell_type": "markdown",
   "id": "be70645a93369c14",
   "metadata": {},
   "source": [
    "### 逐行读取文件并操作"
   ]
  },
  {
   "cell_type": "code",
   "execution_count": 83,
   "id": "e8a09ac262623454",
   "metadata": {
    "ExecuteTime": {
     "end_time": "2025-01-09T07:55:41.575640Z",
     "start_time": "2025-01-09T07:55:41.562999Z"
    }
   },
   "outputs": [
    {
     "name": "stdout",
     "output_type": "stream",
     "text": [
      "Name\tAge\tCity\n",
      "\n",
      "Alice\t46\tNew York\n",
      "\n",
      "Bob\t39\tLos Angeles\n",
      "\n",
      "Charlie\t29\tChicago\n",
      "\n",
      "David\t45\tHouston\n",
      "\n",
      "Eva\t36\tPhoenix\n",
      "\n",
      "Frank\t22\tPhiladelphia\n",
      "\n",
      "Grace\t47\tSan Antonio\n",
      "\n",
      "Helen\t33\tSan Diego\n",
      "\n",
      "Ian\t49\tDallas\n",
      "\n",
      "Jack\t21\tSan Jose\n",
      "\n",
      "Kate\t47\tAustin\n",
      "\n",
      "Liam\t42\tJacksonville\n",
      "\n",
      "Mona\t47\tFort Worth\n",
      "\n",
      "Nina\t22\tColumbus\n",
      "\n",
      "Oscar\t47\tCharlotte\n",
      "\n"
     ]
    }
   ],
   "source": [
    "with open('./data/txt_example.txt', 'r', encoding='utf-8') as file:\n",
    "    for idx,line in enumerate(file):  # 逐行读取文件\n",
    "        print(line)"
   ]
  },
  {
   "cell_type": "markdown",
   "id": "a5dbf749a7d9ea3f",
   "metadata": {},
   "source": [
    "### 读取文件的所有行到列表"
   ]
  },
  {
   "cell_type": "code",
   "execution_count": 85,
   "id": "279e29e2603653c8",
   "metadata": {
    "ExecuteTime": {
     "end_time": "2025-01-09T07:54:23.260690Z",
     "start_time": "2025-01-09T07:54:23.249241Z"
    }
   },
   "outputs": [
    {
     "data": {
      "text/plain": [
       "['Name\\tAge\\tCity\\n',\n",
       " 'Alice\\t46\\tNew York\\n',\n",
       " 'Bob\\t39\\tLos Angeles\\n',\n",
       " 'Charlie\\t29\\tChicago\\n',\n",
       " 'David\\t45\\tHouston\\n',\n",
       " 'Eva\\t36\\tPhoenix\\n',\n",
       " 'Frank\\t22\\tPhiladelphia\\n',\n",
       " 'Grace\\t47\\tSan Antonio\\n',\n",
       " 'Helen\\t33\\tSan Diego\\n',\n",
       " 'Ian\\t49\\tDallas\\n',\n",
       " 'Jack\\t21\\tSan Jose\\n',\n",
       " 'Kate\\t47\\tAustin\\n',\n",
       " 'Liam\\t42\\tJacksonville\\n',\n",
       " 'Mona\\t47\\tFort Worth\\n',\n",
       " 'Nina\\t22\\tColumbus\\n',\n",
       " 'Oscar\\t47\\tCharlotte\\n']"
      ]
     },
     "execution_count": 85,
     "metadata": {},
     "output_type": "execute_result"
    }
   ],
   "source": [
    "with open('./data/txt_example.txt', 'r', encoding='utf-8') as file:\n",
    "    lines = file.readlines()  # 每行作为列表中的一个元素\n",
    "lines"
   ]
  },
  {
   "cell_type": "markdown",
   "id": "90646bcbfa27cd16",
   "metadata": {},
   "source": [
    "### 保存文件"
   ]
  },
  {
   "cell_type": "code",
   "execution_count": 45,
   "id": "46dc1f81a2c7de71",
   "metadata": {
    "ExecuteTime": {
     "end_time": "2025-01-09T07:56:46.765964Z",
     "start_time": "2025-01-09T07:56:46.757849Z"
    }
   },
   "outputs": [],
   "source": [
    "import json\n",
    "# 生成一个字典\n",
    "data = {\n",
    "    \"name\": \"Alice\",\n",
    "    \"age\": 25,\n",
    "    \"is_student\": False,\n",
    "    \"skills\": [\"Python\", \"SQL\", \"Machine Learning\"]\n",
    "}\n",
    "with open('./data/JSON_example.json', 'w') as file:\n",
    "    json.dump(data, file, indent=4)"
   ]
  },
  {
   "cell_type": "code",
   "execution_count": null,
   "id": "1476e0982d105b8d",
   "metadata": {},
   "outputs": [],
   "source": []
  }
 ],
 "metadata": {
  "kernelspec": {
   "display_name": "Python 3 (ipykernel)",
   "language": "python",
   "name": "python3"
  },
  "language_info": {
   "codemirror_mode": {
    "name": "ipython",
    "version": 3
   },
   "file_extension": ".py",
   "mimetype": "text/x-python",
   "name": "python",
   "nbconvert_exporter": "python",
   "pygments_lexer": "ipython3",
   "version": "3.12.2"
  },
  "toc": {
   "base_numbering": 1,
   "nav_menu": {},
   "number_sections": true,
   "sideBar": true,
   "skip_h1_title": false,
   "title_cell": "Table of Contents",
   "title_sidebar": "Contents",
   "toc_cell": false,
   "toc_position": {
    "height": "calc(100% - 180px)",
    "left": "10px",
    "top": "150px",
    "width": "288px"
   },
   "toc_section_display": true,
   "toc_window_display": true
  }
 },
 "nbformat": 4,
 "nbformat_minor": 5
}
