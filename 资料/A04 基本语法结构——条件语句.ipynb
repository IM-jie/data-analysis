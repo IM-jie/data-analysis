{
 "cells": [
  {
   "cell_type": "markdown",
   "id": "165e8002",
   "metadata": {},
   "source": [
    "# 条件语句（Conditional Statements）"
   ]
  },
  {
   "cell_type": "markdown",
   "id": "dc1de830",
   "metadata": {},
   "source": [
    "条件语句是python中用来根据条件执行特定代码块的语法结构，主要通过关键字**if**、**elif**、**else**来实现"
   ]
  },
  {
   "cell_type": "markdown",
   "id": "00d8cc80",
   "metadata": {},
   "source": [
    "## 条件语句基本语法"
   ]
  },
  {
   "cell_type": "code",
   "execution_count": 1,
   "id": "a8694d0d",
   "metadata": {},
   "outputs": [],
   "source": [
    "# if 条件:\n",
    "#     # 当条件为 True 时执行的代码\n",
    "# elif 另一个条件:\n",
    "#     # 当上面的条件为 False，而该条件为 True 时执行的代码\n",
    "# elif 另一个条件:\n",
    "#     # 当上面的条件为 False，而该条件为 True 时执行的代码\n",
    "# elif 另一个条件:\n",
    "#     # 当上面的条件为 False，而该条件为 True 时执行的代码\n",
    "# else:\n",
    "#     # 当所有条件都为 False 时执行的代码"
   ]
  },
  {
   "cell_type": "markdown",
   "id": "7e04a43e",
   "metadata": {},
   "source": [
    "## 条件语句执行案例"
   ]
  },
  {
   "cell_type": "code",
   "execution_count": 11,
   "id": "2d8c9cb8",
   "metadata": {},
   "outputs": [
    {
     "name": "stdout",
     "output_type": "stream",
     "text": [
      "x is greater than 5\n"
     ]
    }
   ],
   "source": [
    "x = 7\n",
    "if x > 5:\n",
    "    print(\"x is greater than 5\")\n",
    "elif x == 5:\n",
    "    print(\"x is equal to 5\")\n",
    "else:\n",
    "    print(\"x is less than 5\")\n"
   ]
  },
  {
   "cell_type": "markdown",
   "id": "8b8771fa",
   "metadata": {},
   "source": [
    "## 条件语句语法规范"
   ]
  },
  {
   "cell_type": "markdown",
   "id": "77e82500",
   "metadata": {},
   "source": [
    "### 条件语句中，条件必须是布尔表达式（True 或 False）"
   ]
  },
  {
   "cell_type": "markdown",
   "id": "07e358d9",
   "metadata": {},
   "source": [
    "### 条件语句中的代码块必须缩进，通常使用 4 个空格\n",
    "    - 错误示例（没有正确缩进）"
   ]
  },
  {
   "cell_type": "code",
   "execution_count": 14,
   "id": "587af81a",
   "metadata": {},
   "outputs": [],
   "source": [
    "# if x > 5:\n",
    "#     print(\"x is greater than 5\")  # 会报错"
   ]
  },
  {
   "cell_type": "markdown",
   "id": "38447b79",
   "metadata": {},
   "source": [
    "### 多个条件的判断顺序\n",
    "    - 条件是从上到下依次判断的。\n",
    "    - 一旦有一个条件满足，其后的条件将不再判断。"
   ]
  },
  {
   "cell_type": "code",
   "execution_count": 15,
   "id": "1c13ccc3",
   "metadata": {},
   "outputs": [
    {
     "name": "stdout",
     "output_type": "stream",
     "text": [
      "x is greater than 5\n"
     ]
    }
   ],
   "source": [
    "x = 10\n",
    "if x > 5:\n",
    "    print(\"x is greater than 5\")  # 这个代码会执行\n",
    "elif x > 8:\n",
    "    print(\"x is greater than 8\")  # 不会执行\n",
    "else:\n",
    "    print(\"x is less than or equal to 5\")\n"
   ]
  },
  {
   "cell_type": "markdown",
   "id": "88bbc171",
   "metadata": {},
   "source": [
    "### 条件语句可以嵌套在另一个条件语句中，用于处理更复杂的逻辑"
   ]
  },
  {
   "cell_type": "code",
   "execution_count": 17,
   "id": "1755b6fe",
   "metadata": {},
   "outputs": [
    {
     "name": "stdout",
     "output_type": "stream",
     "text": [
      "x is greater than 10\n",
      "x is odd\n"
     ]
    }
   ],
   "source": [
    "x = 15\n",
    "if x > 10:\n",
    "    print(\"x is greater than 10\")\n",
    "    if x % 2 == 0:\n",
    "        print(\"x is even\")\n",
    "    else:\n",
    "        print(\"x is odd\")\n"
   ]
  },
  {
   "cell_type": "code",
   "execution_count": null,
   "id": "8fd98d41",
   "metadata": {},
   "outputs": [],
   "source": []
  },
  {
   "cell_type": "code",
   "execution_count": null,
   "id": "d9cfb7d1",
   "metadata": {},
   "outputs": [],
   "source": []
  },
  {
   "cell_type": "code",
   "execution_count": null,
   "id": "c7b1ae0c",
   "metadata": {},
   "outputs": [],
   "source": []
  }
 ],
 "metadata": {
  "kernelspec": {
   "display_name": "Python 3 (ipykernel)",
   "language": "python",
   "name": "python3"
  },
  "language_info": {
   "codemirror_mode": {
    "name": "ipython",
    "version": 3
   },
   "file_extension": ".py",
   "mimetype": "text/x-python",
   "name": "python",
   "nbconvert_exporter": "python",
   "pygments_lexer": "ipython3",
   "version": "3.12.2"
  },
  "toc": {
   "base_numbering": 1,
   "nav_menu": {},
   "number_sections": true,
   "sideBar": true,
   "skip_h1_title": false,
   "title_cell": "Table of Contents",
   "title_sidebar": "Contents",
   "toc_cell": false,
   "toc_position": {
    "height": "calc(100% - 180px)",
    "left": "10px",
    "top": "150px",
    "width": "288px"
   },
   "toc_section_display": true,
   "toc_window_display": true
  }
 },
 "nbformat": 4,
 "nbformat_minor": 5
}
