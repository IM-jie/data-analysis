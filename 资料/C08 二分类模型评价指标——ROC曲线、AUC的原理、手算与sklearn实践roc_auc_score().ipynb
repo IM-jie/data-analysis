{
 "cells": [
  {
   "cell_type": "markdown",
   "id": "565a7997",
   "metadata": {},
   "source": [
    "本节将介绍二分类模型评价指标中的**ROC-AUC原理、手算过程与sklearn实践**"
   ]
  },
  {
   "cell_type": "markdown",
   "id": "6e1d0cb7",
   "metadata": {},
   "source": [
    "# ROC曲线（Receiver Operating Characteristic Curve）"
   ]
  },
  {
   "cell_type": "markdown",
   "id": "5cd29b4f",
   "metadata": {},
   "source": [
    "## ROC曲线基本原理"
   ]
  },
  {
   "cell_type": "markdown",
   "id": "dca8cb92",
   "metadata": {},
   "source": [
    "**ROC曲线**是一种通过分类器阈值变化来描绘模型分类能力的图形方法。它展示了不同阈值下，分类器的真阳性率（True Positive Rate, TPR）和假阳性率（False Positive Rate, FPR）的关系。\n",
    "\n",
    "- **真阳性率（TPR）**：表示模型正确识别为正类的样本占所有实际为正类的比例。公式为\n",
    "\n",
    "$$\\text{TPR} = \\frac{\\text{TP}}{\\text{TP + FN}}$$\n",
    "\n",
    "其中，$\\text{TP}$是将正类样本预测为正类的数量，$\\text{FN}$是将正类样本预测为负类的数量\n",
    "\n",
    "- **假阳性率（FPR）**：真实负类中被预测为正类的样本占所有实际为负类的比例。公式为\n",
    "\n",
    "$$\\text{FPR} = \\frac{\\text{FP}}{\\text{FP + TN}}$$\n",
    "\n",
    "其中，$\\text{FP}$是将负类样本预测为正类的数量，$\\text{TN}$是将负类样本预测为负类的数量"
   ]
  },
  {
   "cell_type": "markdown",
   "id": "638fdf02",
   "metadata": {},
   "source": [
    "## ROC曲线组成结构"
   ]
  },
  {
   "cell_type": "markdown",
   "id": "0b2f455c",
   "metadata": {},
   "source": [
    "- **横轴（FPR）**：假阳性率，表示负类样本被错误地预测为正类的比例。\n",
    "- **纵轴（TPR）**：真阳性率，表示正类样本被正确预测为正类的比例。\n",
    "- **曲线的形状**：理想情况下，ROC曲线应尽量接近左上角。即高TPR（接近1）且低FPR（接近0）是理想的性能表现。\n",
    "    - 如果模型性能很差，曲线将接近对角线（从左下到右上的直线），这意味着模型的预测性能与随机猜测相差无几。\n",
    "    - 如果模型完美，曲线会从左下角直接跳到左上角，然后横向到右上角，形成一个“L”形。\n",
    "\n",
    "\n",
    "\n",
    "ROC曲线的横轴是FPR，纵轴是TPR。随着分类器阈值的变化，FPR和TPR会变化，ROC曲线描绘了这种变化的关系"
   ]
  },
  {
   "cell_type": "markdown",
   "id": "e4a7cc1a",
   "metadata": {},
   "source": [
    "## ROC曲线绘制流程"
   ]
  },
  {
   "cell_type": "markdown",
   "id": "b875839c",
   "metadata": {},
   "source": [
    "- **模型预测**：在进行二分类任务时，模型输出一个概率值（通常是正类的预测概率）。\n",
    "- **概率排序**：将样本按 **预测概率从高到低** 排序，如果概率相同则正样本（标签=1）优先\n",
    "- **选择不同的阈值**：从高到低依次选择每个样本的预测概率作为分类阈值。模型根据这些分类阈值将这些概率值转换为“正”或“负”类别的预测结果。\n",
    "- **计算TPR和FPR**：对于每个阈值，计算相应的真阳性率（TPR）和假阳性率（FPR）。\n",
    "- **绘制曲线**：将所有的（FPR, TPR）点在二维平面上绘制出来，横轴是FPR，纵轴是TPR，得到的曲线即为ROC曲线。"
   ]
  },
  {
   "cell_type": "markdown",
   "id": "ea5be20d",
   "metadata": {},
   "source": [
    "## ROC曲线绘制案例"
   ]
  },
  {
   "cell_type": "markdown",
   "id": "8d562dc6",
   "metadata": {},
   "source": [
    "**案例数据**\n",
    "\n",
    "| 样本ID | 真实标签 | 预测概率 |\n",
    "|--------|----------|----------|\n",
    "| 1      | 1        | 0.78     |\n",
    "| 2      | 1        | 0.49     |\n",
    "| 3      | 0        | 0.09     |\n",
    "| 4      | 0        | 0.23     |\n",
    "| 5      | 0        | 0.37     |\n",
    "| 6      | 1        | 0.56     |\n",
    "| 7      | 0        | 0.43     |\n",
    "| 8      | 0        | 0.40     |\n",
    "| 9      | 1        | 0.26     |\n",
    "| 10     | 0        | 0.25     |\n",
    "| 11     | 1        | 0.89     |\n",
    "| 12     | 1        | 0.90     |\n",
    "| 13     | 1        | 0.63     |\n",
    "| 14     | 0        | 0.58     |\n",
    "| 15     | 0        | 0.16     |"
   ]
  },
  {
   "cell_type": "markdown",
   "id": "3988a55d",
   "metadata": {},
   "source": [
    "### 将样本按 **预测概率从高到低** 排序，如果概率相同则正样本（标签=1）优先\n",
    "\n",
    "| 样本ID | 预测概率 | 真实标签 |\n",
    "|--------|----------|----------|\n",
    "| 12     | 0.90     | 1        |\n",
    "| 11     | 0.89     | 1        |\n",
    "| 1      | 0.78     | 1        |\n",
    "| 13     | 0.63     | 1        |\n",
    "| 14     | 0.58     | 0        |\n",
    "| 6      | 0.56     | 1        |\n",
    "| 2      | 0.49     | 1        |\n",
    "| 7      | 0.43     | 0        |\n",
    "| 8      | 0.40     | 0        |\n",
    "| 5      | 0.37     | 0        |\n",
    "| 9      | 0.26     | 1        |\n",
    "| 10     | 0.25     | 0        |\n",
    "| 4      | 0.23     | 0        |\n",
    "| 15     | 0.16     | 0        |\n",
    "| 3      | 0.09     | 0        |"
   ]
  },
  {
   "cell_type": "markdown",
   "id": "146b7a94",
   "metadata": {},
   "source": [
    "### 遍历阈值计算TPR/FPR"
   ]
  },
  {
   "cell_type": "markdown",
   "id": "d560501a",
   "metadata": {},
   "source": [
    "#### **阈值 = 0.90**  \n",
    "- 对于 阈值 = 0.9，预测概率大于等于0.9的样本将被预测为正类。\n",
    "    - 预测为正类的样本：样本12（概率≥0.90）  \n",
    "    - 预测为负类的样本：其余所有样本  \n",
    "- 计算：  \n",
    "  - TP（真阳性） = 真实为1且预测为1的样本：样本12（1个）\n",
    "  - FP（假阳性） = 真实为0但预测为1的样本：无（0个）\n",
    "  - TN（真阴性） = 真实为0且预测为0的样本：样本3,4,5,7,8,10,14,15（8个）\n",
    "  - FN（假阴性） = 真实为1但预测为0的样本：样本1,2,6,9,11,13（6个）\n",
    "- TPR 和 FPR 计算：  \n",
    "  - $\\text{TPR} = \\frac{\\text{TP}}{\\text{TP} + \\text{FN}} = \\frac{1}{1 + 6} \\approx 0.1429$ \n",
    "  - $\\text{FPR} = \\frac{\\text{FP}}{\\text{FP} + \\text{TN}} = \\frac{0}{0 + 8} = 0.0$\n",
    "- 结果：阈值 = 0.90时，FPR = 0.0，TPR = 0.1429  "
   ]
  },
  {
   "cell_type": "markdown",
   "id": "43e7cb94",
   "metadata": {},
   "source": [
    "#### **阈值 = 0.89**  \n",
    "- 对于阈值 = 0.89，预测概率大于等于0.89的样本将被预测为正类。  \n",
    "    - 预测为正类的样本：样本12, 11（概率≥0.89）  \n",
    "    - 预测为负类的样本：其余所有样本  \n",
    "- **计算**：  \n",
    "  - TP（真阳性） = 真实为1且预测为1的样本：样本12, 11（2个）  \n",
    "  - FP（假阳性） = 真实为0但预测为1的样本：无（0个）  \n",
    "  - TN（真阴性） = 真实为0且预测为0的样本：样本3,4,5,7,8,10,14,15（8个）\n",
    "  - FN（假阴性） = 真实为1但预测为0的样本：样本1,2,6,9,13（5个）\n",
    "- **TPR 和 FPR 计算**：  \n",
    "  - $\\text{TPR} = \\frac{\\text{TP}}{\\text{TP} + \\text{FN}} = \\frac{2}{2 + 5} \\approx 0.2857$  \n",
    "  - $\\text{FPR} = \\frac{\\text{FP}}{\\text{FP} + \\text{TN}} = 0.0$  \n",
    "- **结果**：阈值 = 0.89时，FPR = 0.0，TPR = 0.2857  "
   ]
  },
  {
   "cell_type": "markdown",
   "id": "4e77bd63",
   "metadata": {},
   "source": [
    "#### **阈值 = 0.78**  \n",
    "- 对于阈值 = 0.78，预测概率大于等于0.78的样本将被预测为正类。  \n",
    "    - **预测为正类的样本**：样本12, 11, 1（概率≥0.78）  \n",
    "    - **预测为负类的样本**：其余所有样本  \n",
    "- **计算**：  \n",
    "  - TP（真阳性） = 真实为1且预测为1的样本：样本12, 11, 1（3个）\n",
    "  - FP（假阳性） = 真实为0但预测为1的样本：无（0个）  \n",
    "  - TN（真阴性） = 真实为0且预测为0的样本：样本3,4,5,7,8,10,14,15（8个）\n",
    "  - FN（假阴性） = 真实为1但预测为0的样本：样本2,6,9,13（4个）\n",
    "- **TPR 和 FPR 计算**：  \n",
    "  - $\\text{TPR} = \\frac{\\text{TP}}{\\text{TP} + \\text{FN}} = \\frac{3}{3 + 4} \\approx 0.4286$  \n",
    "  - $\\text{FPR} = \\frac{\\text{FP}}{\\text{FP} + \\text{TN}} = 0.0$  \n",
    "- **结果**：阈值 = 0.78时，FPR = 0.0，TPR = 0.4286  "
   ]
  },
  {
   "cell_type": "markdown",
   "id": "b3f629fa",
   "metadata": {},
   "source": [
    "#### **阈值 = 0.63**  \n",
    "- 对于阈值 = 0.63，预测概率大于等于0.63的样本将被预测为正类。  \n",
    "    - **预测为正类的样本**：样本12, 11, 1, 13（概率≥0.63）  \n",
    "    - **预测为负类的样本**：其余所有样本  \n",
    "- **计算**：  \n",
    "  - TP（真阳性） = 真实为1且预测为1的样本：样本12, 11, 1, 13（4个）\n",
    "  - FP（假阳性） = 真实为0但预测为1的样本：无（0个）  \n",
    "  - TN（真阴性） = 真实为0且预测为0的样本：样本3,4,5,7,8,10,14,15（8个）\n",
    "  - FN（假阴性） = 真实为1但预测为0的样本：样本2,6,9（3个）\n",
    "- **TPR 和 FPR 计算**：  \n",
    "  - $\\text{TPR} = \\frac{\\text{TP}}{\\text{TP} + \\text{FN}} = \\frac{4}{4 + 3} \\approx 0.5714$  \n",
    "  - $\\text{FPR} = \\frac{\\text{FP}}{\\text{FP} + \\text{TN}} = 0.0$  \n",
    "- **结果**：阈值 = 0.63时，FPR = 0.0，TPR = 0.5714  "
   ]
  },
  {
   "cell_type": "markdown",
   "id": "a038ef73",
   "metadata": {},
   "source": [
    "#### **阈值 = 0.58**  \n",
    "- 对于阈值 = 0.58，预测概率大于等于0.58的样本将被预测为正类。  \n",
    "    - **预测为正类的样本**：样本12, 11, 1, 13, 14（概率≥0.58）  \n",
    "    - **预测为负类的样本**：其余所有样本  \n",
    "- **计算**：  \n",
    "  - TP（真阳性） = 真实为1且预测为1的样本：样本12, 11, 1, 13（4个）\n",
    "  - FP（假阳性） = 真实为0但预测为1的样本：样本14（1个） \n",
    "  - TN（真阴性） = 真实为0且预测为0的样本：样本3,4,5,7,8,10,15（7个）\n",
    "  - FN（假阴性） = 真实为1但预测为0的样本：样本2,6,9（3个）\n",
    "- **TPR 和 FPR 计算**：  \n",
    "  - $\\text{TPR} = \\frac{\\text{TP}}{\\text{TP} + \\text{FN}} = \\frac{4}{4 + 3} \\approx 0.5714$  \n",
    "  - $\\text{FPR} = \\frac{\\text{FP}}{\\text{FP} + \\text{TN}} = \\frac{1}{1 + 7} = 0.125$  \n",
    "- **结果**：阈值 = 0.58时，FPR = 0.125，TPR = 0.5714  "
   ]
  },
  {
   "cell_type": "markdown",
   "id": "60cd4bc5",
   "metadata": {},
   "source": [
    "#### **阈值 = 0.56**  \n",
    "- 对于阈值 = 0.56，预测概率大于等于0.56的样本将被预测为正类。  \n",
    "    - **预测为正类的样本**：样本12, 11, 1, 13, 14, 6（概率≥0.58）  \n",
    "    - **预测为负类的样本**：其余所有样本  \n",
    "- **计算**：  \n",
    "  - TP（真阳性） = 真实为1且预测为1的样本：样本12, 11, 1, 13, 6（5个）\n",
    "  - FP（假阳性） = 真实为0但预测为1的样本：样本14（1个） \n",
    "  - TN（真阴性） = 真实为0且预测为0的样本：样本3,4,5,7,8,10,15（7个）\n",
    "  - FN（假阴性） = 真实为1但预测为0的样本：样本2,9（2个）\n",
    "- **TPR 和 FPR 计算**：  \n",
    "  - $\\text{TPR} = \\frac{\\text{TP}}{\\text{TP} + \\text{FN}} = \\frac{5}{5 + 2} \\approx 0.7143$  \n",
    "  - $\\text{FPR} = \\frac{\\text{FP}}{\\text{FP} + \\text{TN}} = \\frac{1}{1 + 7} = 0.125$  \n",
    "- **结果**：阈值 = 0.56时，FPR = 0.125，TPR = 0.7143  "
   ]
  },
  {
   "cell_type": "markdown",
   "id": "fe419399",
   "metadata": {},
   "source": [
    "#### **阈值 = 0.49**  \n",
    "- 对于阈值 = 0.49，预测概率大于等于0.49的样本将被预测为正类。  \n",
    "    - **预测为正类的样本**：样本12, 11, 1, 13, 14, 6, 2（概率≥0.58）  \n",
    "    - **预测为负类的样本**：其余所有样本  \n",
    "- **计算**：  \n",
    "  - TP（真阳性） = 真实为1且预测为1的样本：样本12, 11, 1, 13, 6, 2（6个）\n",
    "  - FP（假阳性） = 真实为0但预测为1的样本：样本14（1个） \n",
    "  - TN（真阴性） = 真实为0且预测为0的样本：样本3,4,5,7,8,10,15（7个）\n",
    "  - FN（假阴性） = 真实为1但预测为0的样本：样本9（1个）\n",
    "- **TPR 和 FPR 计算**：  \n",
    "  - $\\text{TPR} = \\frac{\\text{TP}}{\\text{TP} + \\text{FN}} = \\frac{6}{6 + 1} \\approx 0.8571$  \n",
    "  - $\\text{FPR} = \\frac{\\text{FP}}{\\text{FP} + \\text{TN}} = \\frac{1}{1 + 7} = 0.125$  \n",
    "- **结果**：阈值 = 0.49时，FPR = 0.125，TPR = 0.8571  "
   ]
  },
  {
   "cell_type": "markdown",
   "id": "e97bb3be",
   "metadata": {},
   "source": [
    "#### **阈值 = 0.43**  \n",
    "- 对于阈值 = 0.43，预测概率大于等于0.43的样本将被预测为正类。  \n",
    "    - **预测为正类的样本**：样本12, 11, 1, 13, 14, 6, 2, 7（概率≥0.43）  \n",
    "    - **预测为负类的样本**：其余所有样本（样本3,4,5,8,9,10,15）\n",
    "- **计算**：  \n",
    "  - **TP** = 真实为1且预测为1的样本：**样本12, 11, 1, 13, 6, 2（6个）**  \n",
    "  - **FP** = 真实为0但预测为1的样本：**样本14, 7（2个）**  \n",
    "  - **TN** = 真实为0且预测为0的样本：**样本3,4,5,8,10,15（6个）**  \n",
    "  - **FN** = 真实为1但预测为0的样本：**样本9（1个）**  \n",
    "- **TPR 和 FPR 计算**：  \n",
    "  - $\\text{TPR} = \\frac{\\text{TP}}{\\text{TP} + \\text{FN}} = \\frac{6}{6 + 1} \\approx 0.8571$  \n",
    "  - $\\text{FPR} = \\frac{\\text{FP}}{\\text{FP} + \\text{TN}} = \\frac{2}{2 + 6} = 0.25$  \n",
    "- **结果**：阈值 = 0.43时，FPR = 0.25，TPR = 0.8571  "
   ]
  },
  {
   "cell_type": "markdown",
   "id": "7bef5b50",
   "metadata": {},
   "source": [
    "#### **阈值 = 0.40**  \n",
    "- 对于阈值 = 0.40，预测概率大于等于0.40的样本将被预测为正类。  \n",
    "    - **预测为正类的样本**：样本12, 11, 1, 13, 14, 6, 2, 7, 8（概率≥0.40）  \n",
    "    - **预测为负类的样本**：其余所有样本（样本3,4,5,9,10,15）  \n",
    "- **计算**：  \n",
    "  - **TP** = 真实为1且预测为1的样本：**样本12, 11, 1, 13, 6, 2（6个）**  \n",
    "  - **FP** = 真实为0但预测为1的样本：**样本14, 7, 8（3个）**  \n",
    "  - **TN** = 真实为0且预测为0的样本：**样本3,4,5,10,15（5个）**  \n",
    "  - **FN** = 真实为1但预测为0的样本：**样本9（1个）**  \n",
    "- **TPR 和 FPR 计算**：  \n",
    "  - $\\text{TPR} = \\frac{6}{6 + 1} \\approx 0.8571$  \n",
    "  - $\\text{FPR} = \\frac{3}{3 + 5} = 0.375$  \n",
    "- **结果**：阈值 = 0.40时，FPR = 0.375，TPR = 0.8571  "
   ]
  },
  {
   "cell_type": "markdown",
   "id": "879d9f83",
   "metadata": {},
   "source": [
    "#### **阈值 = 0.37**  \n",
    "- 对于阈值 = 0.37，预测概率大于等于0.37的样本将被预测为正类。  \n",
    "    - **预测为正类的样本**：样本12, 11, 1, 13, 14, 6, 2, 7, 8, 5（概率≥0.37）  \n",
    "    - **预测为负类的样本**：其余所有样本（样本3,4,9,10,15） \n",
    "- **计算**：  \n",
    "  - **TP** = 真实为1且预测为1的样本：**样本12, 11, 1, 13, 6, 2（6个）**  \n",
    "  - **FP** = 真实为0但预测为1的样本：**样本14, 7, 8, 5（4个）**  \n",
    "  - **TN** = 真实为0且预测为0的样本：**样本3,4,10,15（4个）**  \n",
    "  - **FN** = 真实为1但预测为0的样本：**样本9（1个）**  \n",
    "- **TPR 和 FPR 计算**：  \n",
    "  - $\\text{TPR} = \\frac{6}{6 + 1} \\approx 0.8571$  \n",
    "  - $\\text{FPR} = \\frac{4}{4 + 4} = 0.5$  \n",
    "- **结果**：阈值 = 0.37时，FPR = 0.5，TPR = 0.8571  "
   ]
  },
  {
   "cell_type": "markdown",
   "id": "abd451f9",
   "metadata": {},
   "source": [
    "#### **阈值 = 0.26**  \n",
    "- 对于阈值 = 0.26，预测概率大于等于0.26的样本将被预测为正类。  \n",
    "    - **预测为正类的样本**：样本12, 11, 1, 13, 14, 6, 2, 7, 8, 5, 9（概率≥0.26）  \n",
    "    - **预测为负类的样本**：其余所有样本（样本3,4,10,15）  \n",
    "- **计算**：  \n",
    "  - **TP** = 真实为1且预测为1的样本：**样本12, 11, 1, 13, 6, 2, 9（7个）**  \n",
    "  - **FP** = 真实为0但预测为1的样本：**样本14, 7, 8, 5（4个）**  \n",
    "  - **TN** = 真实为0且预测为0的样本：**样本3,4,10,15（4个）**  \n",
    "  - **FN** = 真实为1但预测为0的样本：无（0个） \n",
    "- **TPR 和 FPR 计算**：  \n",
    "  - $\\text{TPR} = \\frac{7}{7 + 0} = 1.0$  \n",
    "  - $\\text{FPR} = \\frac{4}{4 + 4} = 0.5$  \n",
    "- **结果**：阈值 = 0.26时，FPR = 0.5，TPR = 1.0  "
   ]
  },
  {
   "cell_type": "markdown",
   "id": "6346d76e",
   "metadata": {},
   "source": [
    "#### **阈值 = 0.25**  \n",
    "- 对于阈值 = 0.25，预测概率大于等于0.25的样本将被预测为正类。  \n",
    "    - **预测为正类的样本**：样本12, 11, 1, 13, 14, 6, 2, 7, 8, 5, 9, 10（概率≥0.25）  \n",
    "    - **预测为负类的样本**：其余所有样本（样本3,4,15） \n",
    "- **计算**：  \n",
    "  - **TP** = 真实为1且预测为1的样本：**样本12, 11, 1, 13, 6, 2, 9（7个）**  \n",
    "  - **FP** = 真实为0但预测为1的样本：**样本14, 7, 8, 5, 10（5个）**  \n",
    "  - **TN** = 真实为0且预测为0的样本：**样本3,4,15（3个）**  \n",
    "  - **FN** = 真实为1但预测为0的样本：无（0个） \n",
    "- **TPR 和 FPR 计算**：  \n",
    "  - $\\text{TPR} = \\frac{7}{7 + 0} = 1.0$  \n",
    "  - $\\text{FPR} = \\frac{5}{5 + 3} \\approx 0.625$  \n",
    "- **结果**：阈值 = 0.25时，FPR = 0.625，TPR = 1.0  \n"
   ]
  },
  {
   "cell_type": "markdown",
   "id": "a711d7a2",
   "metadata": {},
   "source": [
    "#### **阈值 = 0.23**  \n",
    "- 对于阈值 = 0.23，预测概率大于等于0.23的样本将被预测为正类。  \n",
    "    - **预测为正类的样本**：样本12, 11, 1, 13, 14, 6, 2, 7, 8, 5, 9, 10, 4（概率≥0.23）  \n",
    "    - **预测为负类的样本**：其余所有样本（样本3,15）  \n",
    "- **计算**：  \n",
    "  - **TP** = 真实为1且预测为1的样本：**样本12, 11, 1, 13, 6, 2, 9（7个）**  \n",
    "  - **FP** = 真实为0但预测为1的样本：**样本14, 7, 8, 5, 10, 4（6个）**  \n",
    "  - **TN** = 真实为0且预测为0的样本：**样本3,15（2个）**  \n",
    "  - **FN** = 真实为1但预测为0的样本：无（0个） \n",
    "- **TPR 和 FPR 计算**：  \n",
    "  - $\\text{TPR} = \\frac{7}{7 + 0} = 1.0$  \n",
    "  - $\\text{FPR} = \\frac{6}{6 + 2} = 0.75$  \n",
    "- **结果**：阈值 = 0.23时，FPR = 0.75，TPR = 1.0  "
   ]
  },
  {
   "cell_type": "markdown",
   "id": "69584e64",
   "metadata": {},
   "source": [
    "#### **阈值 = 0.16**  \n",
    "- 对于阈值 = 0.16，预测概率大于等于0.16的样本将被预测为正类。  \n",
    "    - **预测为正类的样本**：样本12, 11, 1, 13, 14, 6, 2, 7, 8, 5, 9, 10, 4, 15（概率≥0.16）  \n",
    "    - **预测为负类的样本**：其余所有样本（样本3）  \n",
    "- **计算**：  \n",
    "  - **TP** = 真实为1且预测为1的样本：**样本12, 11, 1, 13, 6, 2, 9（7个）**  \n",
    "  - **FP** = 真实为0但预测为1的样本：**样本14, 7, 8, 5, 10, 4, 15（7个）**  \n",
    "  - **TN** = 真实为0且预测为0的样本：**样本3（1个）**  \n",
    "  - **FN** = 真实为1但预测为0的样本：无（0个） \n",
    "- **TPR 和 FPR 计算**：  \n",
    "  - $\\text{TPR} = \\frac{7}{7 + 0} = 1.0$  \n",
    "  - $\\text{FPR} = \\frac{6}{7 + 1} = 0.875$  \n",
    "- **结果**：阈值 = 0.16时，FPR = 0.875，TPR = 1.0  "
   ]
  },
  {
   "cell_type": "markdown",
   "id": "59b4b5ea",
   "metadata": {},
   "source": [
    "#### **阈值 = 0.09**  \n",
    "- 对于阈值 = 0.09，所有样本均被预测为正类。  \n",
    "    - **预测为正类的样本**：所有样本（概率≥0.09）  \n",
    "    - **预测为负类的样本**：无  \n",
    "- **计算**：  \n",
    "  - **TP** = 所有真实为1的样本：**样本1,2,6,9,11,12,13（7个）**  \n",
    "  - **FP** = 所有真实为0的样本：**样本3,4,5,7,8,10,14,15（8个）**  \n",
    "  - **TN** = 无（0个）\n",
    "  - **FN** = 无（0个）\n",
    "- **TPR 和 FPR 计算**：  \n",
    "  - $\\text{TPR} = \\frac{7}{7 + 0} = 1.0$  \n",
    "  - $\\text{FPR} = \\frac{8}{8 + 0} = 1.0$  \n",
    "- **结果**：阈值 = 0.09时，FPR = 1.0，TPR = 1.0  "
   ]
  },
  {
   "cell_type": "markdown",
   "id": "69776064",
   "metadata": {},
   "source": [
    "### 汇总TPR/FPR计算结果"
   ]
  },
  {
   "cell_type": "markdown",
   "id": "027540c6",
   "metadata": {},
   "source": [
    "| 阈值   | FPR      | TPR       |\n",
    "|--------|----------|-----------|\n",
    "| 0.90   | 0.0000   | 0.1429    |\n",
    "| 0.89   | 0.0000   | 0.2857    |\n",
    "| 0.78   | 0.0000   | 0.4286    |\n",
    "| 0.63   | 0.0000   | 0.5714    |\n",
    "| 0.58   | 0.1250   | 0.5714    |\n",
    "| 0.56   | 0.1250   | 0.7143    |\n",
    "| 0.49   | 0.1250   | 0.8571    |\n",
    "| 0.43   | 0.2500   | 0.8571    |\n",
    "| 0.40   | 0.3750   | 0.8571    |\n",
    "| 0.37   | 0.5000   | 0.8571    |\n",
    "| 0.26   | 0.5000   | 1.0000    |\n",
    "| 0.25   | 0.6250   | 1.0000    |\n",
    "| 0.23   | 0.7500   | 1.0000    |\n",
    "| 0.16   | 0.8750   | 1.0000    |\n",
    "| 0.09   | 1.0000   | 1.0000    |"
   ]
  },
  {
   "cell_type": "markdown",
   "id": "bbf1a30f",
   "metadata": {},
   "source": [
    "### 手工绘制ROC曲线"
   ]
  },
  {
   "cell_type": "code",
   "execution_count": 6,
   "id": "fc8c772b",
   "metadata": {
    "scrolled": false
   },
   "outputs": [
    {
     "data": {
      "image/png": "[encoded data removed]",
      "text/plain": [
       "<Figure size 1000x600 with 1 Axes>"
      ]
     },
     "metadata": {},
     "output_type": "display_data"
    }
   ],
   "source": [
    "import numpy as np\n",
    "import matplotlib.pyplot as plt\n",
    "import seaborn as sns\n",
    "\n",
    "# 设置Seaborn的风格和颜色调色板\n",
    "sns.set_style(\"darkgrid\")\n",
    "\n",
    "# 1.4.3节手算数据点（按FPR升序排列）\n",
    "fpr = np.array([0.0000, 0.0000, 0.0000, 0.0000, 0.1250, 0.1250, 0.1250, \n",
    "                0.2500, 0.3750, 0.5000, 0.5000, 0.6250, 0.7500, 0.8750, 1.0000])\n",
    "tpr = np.array([0.1429, 0.2857, 0.4286, 0.5714, 0.5714, 0.7143, 0.8571, \n",
    "                0.8571, 0.8571, 0.8571, 1.0000, 1.0000, 1.0000, 1.0000, 1.0000])\n",
    "\n",
    "# 添加起点 (0,0) 和终点 (1,1)（如果尚未包含）\n",
    "fpr = np.insert(fpr, 0, 0.0)\n",
    "tpr = np.insert(tpr, 0, 0.0)\n",
    "fpr = np.append(fpr, 1.0)\n",
    "tpr = np.append(tpr, 1.0)\n",
    "\n",
    "# 绘制ROC曲线\n",
    "plt.figure(figsize=(10, 6))\n",
    "plt.plot(fpr, tpr, marker='o', linestyle='-', color='#1f77b4', linewidth=2, markersize=8)\n",
    "plt.plot([0, 1], [0, 1], 'k--', alpha=0.5)  # 随机猜测线\n",
    "\n",
    "# 计算AUC（梯形法则）\n",
    "auc = np.trapz(tpr, fpr)\n",
    "plt.fill_between(fpr, tpr, alpha=0.1, color='#1f77b4')  # 填充AUC区域\n",
    "\n",
    "# 图表标注\n",
    "plt.title('ROC Curve (AUC = %.3f)' % auc, fontsize=14)\n",
    "plt.xlabel('False Positive Rate (FPR)', fontsize=12)\n",
    "plt.ylabel('True Positive Rate (TPR)', fontsize=12)\n",
    "\n",
    "# 增加网格线\n",
    "plt.grid(True)\n",
    "\n",
    "# 渲染并显示图表\n",
    "plt.show()"
   ]
  },
  {
   "cell_type": "markdown",
   "id": "e8e5a9c4",
   "metadata": {},
   "source": [
    "## sklearn绘制ROC曲线"
   ]
  },
  {
   "cell_type": "markdown",
   "id": "0fc1d0a0",
   "metadata": {},
   "source": [
    "### roc_curve"
   ]
  },
  {
   "cell_type": "markdown",
   "id": "cfe640d8",
   "metadata": {},
   "source": [
    "- `y_true`: 真实标签。\n",
    "- `y_score`: 预测分数/概率。\n",
    "- `pos_label`: 指定正类标签。\n",
    "- `drop_intermediate`: 是否丢弃对ROC曲线无贡献的中间阈值点（默认 True）。"
   ]
  },
  {
   "cell_type": "markdown",
   "id": "8a3a668e",
   "metadata": {},
   "source": [
    "### 代码实现"
   ]
  },
  {
   "cell_type": "code",
   "execution_count": 9,
   "id": "5054cbec",
   "metadata": {
    "scrolled": false
   },
   "outputs": [
    {
     "data": {
      "image/png": "[encoded data removed]",
      "text/plain": [
       "<Figure size 1000x600 with 1 Axes>"
      ]
     },
     "metadata": {},
     "output_type": "display_data"
    }
   ],
   "source": [
    "import numpy as np\n",
    "import matplotlib.pyplot as plt\n",
    "import seaborn as sns\n",
    "from sklearn.metrics import roc_curve, roc_auc_score\n",
    "\n",
    "# 设置Seaborn的风格和颜色调色板\n",
    "sns.set_style(\"darkgrid\")\n",
    "\n",
    "# 真实标签和预测概率\n",
    "y_true = np.array([1, 1, 0, 0, 0, 1, 0, 0, 1, 0, 1, 1, 1, 0, 0])\n",
    "y_score = np.array([0.78, 0.49, 0.09, 0.23, 0.37, 0.56, 0.43, 0.40, \n",
    "                    0.26, 0.25, 0.89, 0.90, 0.63, 0.58, 0.16])\n",
    "\n",
    "# 计算ROC曲线\n",
    "fpr, tpr, thresholds = roc_curve(y_true, y_score, drop_intermediate=False)\n",
    "auc = roc_auc_score(y_true, y_score)\n",
    "\n",
    "# 绘制ROC曲线\n",
    "plt.figure(figsize=(10, 6))\n",
    "plt.plot(fpr, tpr, marker='o', linestyle='-', color='#1f77b4', linewidth=2, markersize=8)\n",
    "plt.plot([0, 1], [0, 1], 'k--', alpha=0.5)  # 随机猜测线\n",
    "\n",
    "# 填充AUC区域\n",
    "plt.fill_between(fpr, tpr, alpha=0.1, color='#1f77b4')  \n",
    "\n",
    "# 图表标注\n",
    "plt.title('ROC Curve (AUC = %.3f)' % auc, fontsize=14)\n",
    "plt.xlabel('False Positive Rate (FPR)', fontsize=12)\n",
    "plt.ylabel('True Positive Rate (TPR)', fontsize=12)\n",
    "\n",
    "# 增加网格线\n",
    "plt.grid(True)\n",
    "\n",
    "# 渲染并显示图表\n",
    "plt.show()"
   ]
  },
  {
   "cell_type": "markdown",
   "id": "797eb3b9",
   "metadata": {},
   "source": [
    "# AUC（Area Under the Curve）"
   ]
  },
  {
   "cell_type": "markdown",
   "id": "bfaa2353",
   "metadata": {},
   "source": [
    "## AUC基本原理"
   ]
  },
  {
   "cell_type": "markdown",
   "id": "b2e59ce4",
   "metadata": {},
   "source": [
    "**AUC（Area Under the Curve）**是机器学习中用于评估二分类模型性能指标，也即ROC曲线下的面积。\n",
    "\n",
    "AUC的取值范围在 0.5 到 1 之间：\n",
    "- **AUC = 1**：表示模型完美分类，所有正例和负例都能被正确区分。\n",
    "- **0.5 < AUC < 1**：表示模型有一定的区分能力，AUC越大，分类能力越强。\n",
    "- **AUC = 0.5**：表示模型没有分类能力，相当于随机猜测。\n",
    "- **AUC < 0.5**：表示模型的分类能力比随机还差。"
   ]
  },
  {
   "cell_type": "markdown",
   "id": "77544e06",
   "metadata": {},
   "source": [
    "## AUC优缺点"
   ]
  },
  {
   "cell_type": "markdown",
   "id": "20ce6358",
   "metadata": {},
   "source": [
    "### AUC的优点"
   ]
  },
  {
   "cell_type": "markdown",
   "id": "2bccf5e0",
   "metadata": {},
   "source": [
    "- **对阈值不敏感**：AUC 计算的是整体分类能力，不依赖于特定的阈值。\n",
    "- **适用于不均衡数据集**：在类别不均衡的情况下，AUC 仍能较好地评估模型效果。\n",
    "- **直观**：ROC曲线和AUC值提供了模型性能的直观表示"
   ]
  },
  {
   "cell_type": "markdown",
   "id": "293f6610",
   "metadata": {},
   "source": [
    "### AUC的缺点"
   ]
  },
  {
   "cell_type": "markdown",
   "id": "63d2810c",
   "metadata": {},
   "source": [
    "- 仅关注排序能力，不反映预测概率的绝对准确性。\n",
    "- 在极端类别不平衡时（如正样本极少），可能高估模型性能（此时可结合PR曲线分析）。"
   ]
  },
  {
   "cell_type": "markdown",
   "id": "1017844f",
   "metadata": {},
   "source": [
    "## sklearn计算AUC"
   ]
  },
  {
   "cell_type": "markdown",
   "id": "fb679a0e",
   "metadata": {},
   "source": [
    "### roc_auc_score"
   ]
  },
  {
   "cell_type": "markdown",
   "id": "ee0a785e",
   "metadata": {},
   "source": [
    "- `y_true`: 真实标签。\n",
    "- `y_score`: 预测分数/概率。"
   ]
  },
  {
   "cell_type": "markdown",
   "id": "67c2cd42",
   "metadata": {},
   "source": [
    "### 代码实现"
   ]
  },
  {
   "cell_type": "code",
   "execution_count": 14,
   "id": "25e13329",
   "metadata": {},
   "outputs": [
    {
     "data": {
      "image/png": "[encoded data removed]",
      "text/plain": [
       "<Figure size 1000x600 with 1 Axes>"
      ]
     },
     "metadata": {},
     "output_type": "display_data"
    }
   ],
   "source": [
    "import numpy as np\n",
    "import matplotlib.pyplot as plt\n",
    "import seaborn as sns\n",
    "from sklearn.metrics import roc_curve, roc_auc_score\n",
    "\n",
    "# 设置Seaborn的风格和颜色调色板\n",
    "sns.set_style(\"darkgrid\")\n",
    "\n",
    "# 真实标签和预测概率\n",
    "y_true = np.array([1, 1, 0, 0, 0, 1, 0, 0, 1, 0, 1, 1, 1, 0, 0])\n",
    "y_score = np.array([0.78, 0.49, 0.09, 0.23, 0.37, 0.56, 0.43, 0.40, \n",
    "                    0.26, 0.25, 0.89, 0.90, 0.63, 0.58, 0.16])\n",
    "\n",
    "# 计算ROC曲线\n",
    "fpr, tpr, thresholds = roc_curve(y_true, y_score, drop_intermediate=False)\n",
    "auc = roc_auc_score(y_true, y_score) # 计算AUC得分\n",
    "\n",
    "# 绘制ROC曲线\n",
    "plt.figure(figsize=(10, 6))\n",
    "plt.plot(fpr, tpr, marker='o', linestyle='-', color='#1f77b4', linewidth=2, markersize=8)\n",
    "plt.plot([0, 1], [0, 1], 'k--', alpha=0.5)  # 随机猜测线\n",
    "\n",
    "# 填充AUC区域\n",
    "plt.fill_between(fpr, tpr, alpha=0.1, color='#1f77b4')  \n",
    "\n",
    "# 图表标注\n",
    "plt.title('ROC Curve (AUC = %.3f)' % auc, fontsize=14)\n",
    "plt.xlabel('False Positive Rate (FPR)', fontsize=12)\n",
    "plt.ylabel('True Positive Rate (TPR)', fontsize=12)\n",
    "\n",
    "# 增加网格线\n",
    "plt.grid(True)\n",
    "\n",
    "# 渲染并显示图表\n",
    "plt.show()"
   ]
  },
  {
   "cell_type": "markdown",
   "id": "2440a36b",
   "metadata": {},
   "source": [
    "### 手算验证"
   ]
  },
  {
   "cell_type": "code",
   "execution_count": 11,
   "id": "f325f7fb",
   "metadata": {},
   "outputs": [
    {
     "data": {
      "text/plain": [
       "(array([0.   , 0.   , 0.   , 0.   , 0.   , 0.125, 0.125, 0.125, 0.25 ,\n",
       "        0.375, 0.5  , 0.5  , 0.625, 0.75 , 0.875, 1.   ]),\n",
       " array([0.        , 0.14285714, 0.28571429, 0.42857143, 0.57142857,\n",
       "        0.57142857, 0.71428571, 0.85714286, 0.85714286, 0.85714286,\n",
       "        0.85714286, 1.        , 1.        , 1.        , 1.        ,\n",
       "        1.        ]))"
      ]
     },
     "execution_count": 11,
     "metadata": {},
     "output_type": "execute_result"
    }
   ],
   "source": [
    "fpr, tpr"
   ]
  },
  {
   "cell_type": "code",
   "execution_count": 12,
   "id": "397fb7dc",
   "metadata": {},
   "outputs": [
    {
     "data": {
      "text/plain": [
       "0.89285714375"
      ]
     },
     "execution_count": 12,
     "metadata": {},
     "output_type": "execute_result"
    }
   ],
   "source": [
    "(0.57142857*0.125)+(0.85714286*(0.5-0.125))+(1*(1-0.5))"
   ]
  },
  {
   "cell_type": "code",
   "execution_count": null,
   "id": "dbde835f",
   "metadata": {},
   "outputs": [],
   "source": []
  }
 ],
 "metadata": {
  "kernelspec": {
   "display_name": "Python 3 (ipykernel)",
   "language": "python",
   "name": "python3"
  },
  "language_info": {
   "codemirror_mode": {
    "name": "ipython",
    "version": 3
   },
   "file_extension": ".py",
   "mimetype": "text/x-python",
   "name": "python",
   "nbconvert_exporter": "python",
   "pygments_lexer": "ipython3",
   "version": "3.12.2"
  },
  "toc": {
   "base_numbering": 1,
   "nav_menu": {},
   "number_sections": true,
   "sideBar": true,
   "skip_h1_title": false,
   "title_cell": "Table of Contents",
   "title_sidebar": "Contents",
   "toc_cell": false,
   "toc_position": {
    "height": "calc(100% - 180px)",
    "left": "10px",
    "top": "150px",
    "width": "288px"
   },
   "toc_section_display": true,
   "toc_window_display": true
  }
 },
 "nbformat": 4,
 "nbformat_minor": 5
}
