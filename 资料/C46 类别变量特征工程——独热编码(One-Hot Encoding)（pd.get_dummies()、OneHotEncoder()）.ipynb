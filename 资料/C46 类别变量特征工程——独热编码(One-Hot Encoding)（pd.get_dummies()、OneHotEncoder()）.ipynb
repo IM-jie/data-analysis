{
 "cells": [
  {
   "cell_type": "markdown",
   "id": "ac9fc71d",
   "metadata": {},
   "source": [
    "# 独热编码(One-Hot Encoding)"
   ]
  },
  {
   "cell_type": "markdown",
   "id": "f764e8c1",
   "metadata": {},
   "source": [
    "**独热编码（One-Hot Encoding）**是处理无序类别特征最常用的方法之一，它将每个类别值转换为一个新的二进制特征列（0或1），适用于大多数机器学习算法（如线性回归、逻辑回归、SVM、树模型等）。"
   ]
  },
  {
   "cell_type": "markdown",
   "id": "36139752",
   "metadata": {},
   "source": [
    "## 基本思想"
   ]
  },
  {
   "cell_type": "markdown",
   "id": "1ad7dc90",
   "metadata": {},
   "source": [
    "将包含$K$个类别的特征转换为$K$个二进制特征列，每列表示一个类别的存在与否。\n",
    "\n",
    "若原始特征$X$有取值$\\{v_1, v_2, ..., v_K\\}$，则编码后生成$K$个新特征：\n",
    "\n",
    "$$X_{v_i} = \\begin{cases} \n",
    "1 & \\text{如果 } X = v_i \\\\\n",
    "0 & \\text{否则}\n",
    "\\end{cases}$$"
   ]
  },
  {
   "cell_type": "markdown",
   "id": "4051ad05",
   "metadata": {},
   "source": [
    "## 示例"
   ]
  },
  {
   "cell_type": "markdown",
   "id": "28caa74c",
   "metadata": {},
   "source": [
    "独热编码是一种将类别型特征转换为稀疏向量的编码方式。对于一个类别特征的每个取值，创建一个新列，类别对应的位置为 1，其它为 0。"
   ]
  },
  {
   "cell_type": "markdown",
   "id": "3d907ee7",
   "metadata": {},
   "source": [
    "### 原始特征"
   ]
  },
  {
   "cell_type": "markdown",
   "id": "fb74b07e",
   "metadata": {},
   "source": [
    "| Color |\n",
    "| ----- |\n",
    "| Red   |\n",
    "| Green |\n",
    "| Blue  |\n"
   ]
  },
  {
   "cell_type": "markdown",
   "id": "4281ec7b",
   "metadata": {},
   "source": [
    "### 独热编码结果"
   ]
  },
  {
   "cell_type": "markdown",
   "id": "c42f5520",
   "metadata": {},
   "source": [
    "| Color\\_Red | Color\\_Green | Color\\_Blue |\n",
    "| ---------- | ------------ | ----------- |\n",
    "| 1          | 0            | 0           |\n",
    "| 0          | 1            | 0           |\n",
    "| 0          | 0            | 1           |\n"
   ]
  },
  {
   "cell_type": "markdown",
   "id": "f945171b",
   "metadata": {},
   "source": [
    "## 优缺点"
   ]
  },
  {
   "cell_type": "markdown",
   "id": "eca998c4",
   "metadata": {},
   "source": [
    "- 优点：\n",
    "    - 简单直观，易于实现，使用 pandas 或 sklearn 可快速完成编码。\n",
    "    - 与多数模型兼容性好，特别适合线性模型（如逻辑回归）和树模型（如随机森林、XGBoost）。\n",
    "    -  每个类别明确分列，更容易做特征分析和可视化。\n",
    "- 缺点：\n",
    "    - 维度灾难（高维稀疏）：类别数较大时，特征数量激增，计算效率低下。\n",
    "    - 对相似类别无表达能力：不能反映类别之间的相似性或语义关系（如 “cat”和“dog”被完全不同编码）。\n",
    "    - 模型容易过拟合：独热编码之后的高维稀疏空间容易导致模型过拟合。"
   ]
  },
  {
   "cell_type": "markdown",
   "id": "ab3de2c1",
   "metadata": {},
   "source": [
    "## 适用场景"
   ]
  },
  {
   "cell_type": "markdown",
   "id": "cde7fe99",
   "metadata": {},
   "source": [
    "- **类别数量较少的无序特征**：如性别、是否购买、用户类型等。         \n",
    "- **决策树类模型（Random Forest、XGBoost）**：能有效利用 one-hot 特征分裂特征空间。\n",
    "- **需要模型可解释性**：特征可视化清晰，方便理解每一列的含义。\n",
    "- **线性模型（如逻辑回归）**：需要数值型输入且不能容忍类别间顺序假设。\n",
    "- **对数据量要求不高的场景**：特征维度可控，避免维度灾难。"
   ]
  },
  {
   "cell_type": "markdown",
   "id": "a0a563be",
   "metadata": {},
   "source": [
    "# 代码实现"
   ]
  },
  {
   "cell_type": "markdown",
   "id": "a8d2fae5",
   "metadata": {},
   "source": [
    "python中的独热编码实现主要有**pd.get_dummies()**、**OneHotEncoder**"
   ]
  },
  {
   "cell_type": "markdown",
   "id": "2985deac",
   "metadata": {},
   "source": [
    "## pd.get_dummies()"
   ]
  },
  {
   "cell_type": "markdown",
   "id": "1fdb1fa7",
   "metadata": {},
   "source": [
    "- `data`：独热编码对象数据\n",
    "- `prefix`：新列的前缀。如设置为 Color，则结果列为 Color_Red、Color_Blue 等。\n",
    "- `prefix_sep`：前缀和类值之间的分隔符，默认是 _，可设为 '' 去掉分隔符。\n",
    "- `dummy_na`：是否将缺失值也作为一种类别进行编码（生成一个额外列）。\n",
    "- `columns`：指定要编码的列。\n",
    "- `sparse`：是否返回稀疏矩阵 DataFrame。\n",
    "    - True（默认）：返回稀疏矩阵（scipy.sparse.csr_matrix）\n",
    "    - False：返回普通 NumPy 数组（便于可视化/调试）\n",
    "- `dtype`：指定返回列的数据类型，如 np.uint8 可节省内存。"
   ]
  },
  {
   "cell_type": "code",
   "execution_count": 10,
   "id": "10a31ea4",
   "metadata": {},
   "outputs": [
    {
     "data": {
      "text/html": [
       "<div>\n",
       "<style scoped>\n",
       "    .dataframe tbody tr th:only-of-type {\n",
       "        vertical-align: middle;\n",
       "    }\n",
       "\n",
       "    .dataframe tbody tr th {\n",
       "        vertical-align: top;\n",
       "    }\n",
       "\n",
       "    .dataframe thead th {\n",
       "        text-align: right;\n",
       "    }\n",
       "</style>\n",
       "<table border=\"1\" class=\"dataframe\">\n",
       "  <thead>\n",
       "    <tr style=\"text-align: right;\">\n",
       "      <th></th>\n",
       "      <th>Color</th>\n",
       "    </tr>\n",
       "  </thead>\n",
       "  <tbody>\n",
       "    <tr>\n",
       "      <th>0</th>\n",
       "      <td>Red</td>\n",
       "    </tr>\n",
       "    <tr>\n",
       "      <th>1</th>\n",
       "      <td>Green</td>\n",
       "    </tr>\n",
       "    <tr>\n",
       "      <th>2</th>\n",
       "      <td>Blue</td>\n",
       "    </tr>\n",
       "    <tr>\n",
       "      <th>3</th>\n",
       "      <td>Red</td>\n",
       "    </tr>\n",
       "  </tbody>\n",
       "</table>\n",
       "</div>"
      ],
      "text/plain": [
       "   Color\n",
       "0    Red\n",
       "1  Green\n",
       "2   Blue\n",
       "3    Red"
      ]
     },
     "execution_count": 10,
     "metadata": {},
     "output_type": "execute_result"
    }
   ],
   "source": [
    "import pandas as pd\n",
    "df = pd.DataFrame({'Color': ['Red', 'Green', 'Blue', 'Red']})\n",
    "df"
   ]
  },
  {
   "cell_type": "code",
   "execution_count": 11,
   "id": "0926cef7",
   "metadata": {},
   "outputs": [
    {
     "data": {
      "text/html": [
       "<div>\n",
       "<style scoped>\n",
       "    .dataframe tbody tr th:only-of-type {\n",
       "        vertical-align: middle;\n",
       "    }\n",
       "\n",
       "    .dataframe tbody tr th {\n",
       "        vertical-align: top;\n",
       "    }\n",
       "\n",
       "    .dataframe thead th {\n",
       "        text-align: right;\n",
       "    }\n",
       "</style>\n",
       "<table border=\"1\" class=\"dataframe\">\n",
       "  <thead>\n",
       "    <tr style=\"text-align: right;\">\n",
       "      <th></th>\n",
       "      <th>Color_Blue</th>\n",
       "      <th>Color_Green</th>\n",
       "      <th>Color_Red</th>\n",
       "    </tr>\n",
       "  </thead>\n",
       "  <tbody>\n",
       "    <tr>\n",
       "      <th>0</th>\n",
       "      <td>False</td>\n",
       "      <td>False</td>\n",
       "      <td>True</td>\n",
       "    </tr>\n",
       "    <tr>\n",
       "      <th>1</th>\n",
       "      <td>False</td>\n",
       "      <td>True</td>\n",
       "      <td>False</td>\n",
       "    </tr>\n",
       "    <tr>\n",
       "      <th>2</th>\n",
       "      <td>True</td>\n",
       "      <td>False</td>\n",
       "      <td>False</td>\n",
       "    </tr>\n",
       "    <tr>\n",
       "      <th>3</th>\n",
       "      <td>False</td>\n",
       "      <td>False</td>\n",
       "      <td>True</td>\n",
       "    </tr>\n",
       "  </tbody>\n",
       "</table>\n",
       "</div>"
      ],
      "text/plain": [
       "   Color_Blue  Color_Green  Color_Red\n",
       "0       False        False       True\n",
       "1       False         True      False\n",
       "2        True        False      False\n",
       "3       False        False       True"
      ]
     },
     "execution_count": 11,
     "metadata": {},
     "output_type": "execute_result"
    }
   ],
   "source": [
    "df_encoded = pd.get_dummies(df, columns=['Color'], prefix='Color', prefix_sep='_',sparse=True)\n",
    "df_encoded"
   ]
  },
  {
   "cell_type": "markdown",
   "id": "5ef48f3f",
   "metadata": {},
   "source": [
    "## OneHotEncoder"
   ]
  },
  {
   "cell_type": "markdown",
   "id": "916e06e2",
   "metadata": {},
   "source": [
    "### 输入参数"
   ]
  },
  {
   "cell_type": "markdown",
   "id": "373cf61f",
   "metadata": {},
   "source": [
    "- `sparse_output`：是否返回稀疏矩阵 DataFrame。\n",
    "    - True（默认）：返回稀疏矩阵（scipy.sparse.csr_matrix）\n",
    "    - False：返回普通 NumPy 数组（便于可视化/调试）\n",
    "- `dtype`：指定返回列的数据类型。\n",
    "- `handle_unknown`：测试集中出现新类别时的处理方式。\n",
    "    - `error`：抛出错误（默认）\n",
    "    - `ignore`：忽略该值，全部置零（即该类不会被编码成1）\n",
    "- `min_frequency`：仅编码频率超过阈值的类别，其余类别合并为 'infrequent'。如设为 min_frequency=0.05，只编码出现频率超过 5% 的类别\n",
    "- `max_categories`：仅保留最多前N个高频类别，其余类别合并为 'infrequent'。如设为 max_categories=10，只保留前 10 个类别\n",
    "    - `max_categories` 与 `min_frequency` 互斥，不能同时设定。"
   ]
  },
  {
   "cell_type": "markdown",
   "id": "b0a3b2e0",
   "metadata": {},
   "source": [
    "### 方法"
   ]
  },
  {
   "cell_type": "markdown",
   "id": "d478164b",
   "metadata": {},
   "source": [
    "| 方法名                                          | 说明                |\n",
    "| -------------------------------------------- | ----------------- |\n",
    "| `fit(X)`                                     | 拟合训练数据    |\n",
    "| `transform(X)`                               | 将数据编码成 one-hot 格式 |\n",
    "| `fit_transform(X)`                           | 拟合 + 转换，组合操作      |\n",
    "| `inverse_transform(X_encoded)`               | 将编码后的数据还原为原始类别    |\n",
    "| `get_feature_names_out()` | 获取编码后的列名          |\n",
    "| `get_params()`                               | 获取模型参数（字典）        |\n",
    "| `set_params(**params)`                       | 设置参数              |\n",
    "|  `categories_`       | 获取每列的类别列表（拟合后可用）  |\n"
   ]
  },
  {
   "cell_type": "markdown",
   "id": "c8667c29",
   "metadata": {},
   "source": [
    "### 案例"
   ]
  },
  {
   "cell_type": "code",
   "execution_count": 12,
   "id": "7ba83cf2",
   "metadata": {},
   "outputs": [
    {
     "data": {
      "text/html": [
       "<div>\n",
       "<style scoped>\n",
       "    .dataframe tbody tr th:only-of-type {\n",
       "        vertical-align: middle;\n",
       "    }\n",
       "\n",
       "    .dataframe tbody tr th {\n",
       "        vertical-align: top;\n",
       "    }\n",
       "\n",
       "    .dataframe thead th {\n",
       "        text-align: right;\n",
       "    }\n",
       "</style>\n",
       "<table border=\"1\" class=\"dataframe\">\n",
       "  <thead>\n",
       "    <tr style=\"text-align: right;\">\n",
       "      <th></th>\n",
       "      <th>Color_Blue</th>\n",
       "      <th>Color_Green</th>\n",
       "      <th>Color_Red</th>\n",
       "    </tr>\n",
       "  </thead>\n",
       "  <tbody>\n",
       "    <tr>\n",
       "      <th>0</th>\n",
       "      <td>0.0</td>\n",
       "      <td>0.0</td>\n",
       "      <td>1.0</td>\n",
       "    </tr>\n",
       "    <tr>\n",
       "      <th>1</th>\n",
       "      <td>0.0</td>\n",
       "      <td>1.0</td>\n",
       "      <td>0.0</td>\n",
       "    </tr>\n",
       "    <tr>\n",
       "      <th>2</th>\n",
       "      <td>1.0</td>\n",
       "      <td>0.0</td>\n",
       "      <td>0.0</td>\n",
       "    </tr>\n",
       "    <tr>\n",
       "      <th>3</th>\n",
       "      <td>0.0</td>\n",
       "      <td>0.0</td>\n",
       "      <td>1.0</td>\n",
       "    </tr>\n",
       "  </tbody>\n",
       "</table>\n",
       "</div>"
      ],
      "text/plain": [
       "   Color_Blue  Color_Green  Color_Red\n",
       "0         0.0          0.0        1.0\n",
       "1         0.0          1.0        0.0\n",
       "2         1.0          0.0        0.0\n",
       "3         0.0          0.0        1.0"
      ]
     },
     "execution_count": 12,
     "metadata": {},
     "output_type": "execute_result"
    }
   ],
   "source": [
    "from sklearn.preprocessing import OneHotEncoder\n",
    "# 创建编码器对象\n",
    "encoder = OneHotEncoder(sparse_output=False)\n",
    "# 拟合转换\n",
    "encoded = encoder.fit_transform(df[['Color']])\n",
    "# 转换为 DataFrame\n",
    "encoded_df = pd.DataFrame(encoded, columns=encoder.get_feature_names_out(['Color']))\n",
    "encoded_df"
   ]
  },
  {
   "cell_type": "code",
   "execution_count": 13,
   "id": "21018ff0",
   "metadata": {},
   "outputs": [
    {
     "data": {
      "text/plain": [
       "array([['Red'],\n",
       "       ['Green'],\n",
       "       ['Blue'],\n",
       "       ['Red']], dtype=object)"
      ]
     },
     "execution_count": 13,
     "metadata": {},
     "output_type": "execute_result"
    }
   ],
   "source": [
    "# 将编码后的数据还原为原始类别\n",
    "encoder.inverse_transform(encoded)"
   ]
  },
  {
   "cell_type": "code",
   "execution_count": 14,
   "id": "3bea9447",
   "metadata": {},
   "outputs": [
    {
     "data": {
      "text/plain": [
       "array(['Color_Blue', 'Color_Green', 'Color_Red'], dtype=object)"
      ]
     },
     "execution_count": 14,
     "metadata": {},
     "output_type": "execute_result"
    }
   ],
   "source": [
    "# 获取编码后的列名\n",
    "encoder.get_feature_names_out()"
   ]
  },
  {
   "cell_type": "code",
   "execution_count": 15,
   "id": "c34abdb1",
   "metadata": {},
   "outputs": [
    {
     "data": {
      "text/plain": [
       "{'categories': 'auto',\n",
       " 'drop': None,\n",
       " 'dtype': numpy.float64,\n",
       " 'feature_name_combiner': 'concat',\n",
       " 'handle_unknown': 'error',\n",
       " 'max_categories': None,\n",
       " 'min_frequency': None,\n",
       " 'sparse_output': False}"
      ]
     },
     "execution_count": 15,
     "metadata": {},
     "output_type": "execute_result"
    }
   ],
   "source": [
    "# 获取模型参数（字典）\n",
    "encoder.get_params()"
   ]
  },
  {
   "cell_type": "code",
   "execution_count": 16,
   "id": "fb3a1dc5",
   "metadata": {},
   "outputs": [
    {
     "data": {
      "text/plain": [
       "[array(['Blue', 'Green', 'Red'], dtype=object)]"
      ]
     },
     "execution_count": 16,
     "metadata": {},
     "output_type": "execute_result"
    }
   ],
   "source": [
    "# 获取每列的类别列表（拟合后可用）\n",
    "encoder.categories_"
   ]
  },
  {
   "cell_type": "markdown",
   "id": "f72517f1",
   "metadata": {},
   "source": [
    "# 实际案例"
   ]
  },
  {
   "cell_type": "markdown",
   "id": "60a7aece",
   "metadata": {},
   "source": [
    "## 泰坦尼克数据集"
   ]
  },
  {
   "cell_type": "markdown",
   "id": "ca4e2fd7",
   "metadata": {},
   "source": [
    "**titanic 数据集**包含了 891 条乘客记录，每条记录描述了乘客的个人信息及其在 Titanic 号上的生存情况\n",
    "- survived：生存情况（0 = 未生还, 1 = 生还）\n",
    "- pclass：乘客舱等级（1 = 一等舱, 2 = 二等舱, 3 = 三等舱）\n",
    "- sex：乘客性别（male = 男性, female = 女性）\n",
    "- age：乘客年龄（float，部分缺失值）\n",
    "- sibsp：乘客在船上的兄弟姐妹或配偶数量（整数）\n",
    "- parch：乘客在船上的父母或子女数量（整数）\n",
    "- fare：乘客支付的票价（float）\n",
    "- embarked：乘客登船港口（C = 瑟堡, Q = 皇后镇, S = 南安普敦）\n",
    "- class：舱等级（文本版本的 pclass，First = 头等舱, Second = 二等舱, Third = 三等舱）\n",
    "- who：乘客身份（man = 成年男性, woman = 成年女性, child = 儿童）\n",
    "- adult_male：是否为成年男性（True = 是, False = 否）\n",
    "- deck：乘客所在的甲板（A, B, C, D, E, F, G，部分缺失值较多）\n",
    "- embark_town：乘客登船的城市（Cherbourg = 瑟堡, Queenstown = 皇后镇, Southampton = 南安普敦）\n",
    "- alone：是否独自旅行（True = 独自旅行，False = 有亲属同行，对应 sibsp + parch == 0）"
   ]
  },
  {
   "cell_type": "code",
   "execution_count": 17,
   "id": "ed0191a6",
   "metadata": {},
   "outputs": [
    {
     "data": {
      "text/html": [
       "<div>\n",
       "<style scoped>\n",
       "    .dataframe tbody tr th:only-of-type {\n",
       "        vertical-align: middle;\n",
       "    }\n",
       "\n",
       "    .dataframe tbody tr th {\n",
       "        vertical-align: top;\n",
       "    }\n",
       "\n",
       "    .dataframe thead th {\n",
       "        text-align: right;\n",
       "    }\n",
       "</style>\n",
       "<table border=\"1\" class=\"dataframe\">\n",
       "  <thead>\n",
       "    <tr style=\"text-align: right;\">\n",
       "      <th></th>\n",
       "      <th>survived</th>\n",
       "      <th>pclass</th>\n",
       "      <th>sex</th>\n",
       "      <th>age</th>\n",
       "      <th>sibsp</th>\n",
       "      <th>parch</th>\n",
       "      <th>fare</th>\n",
       "      <th>embarked</th>\n",
       "      <th>class</th>\n",
       "      <th>who</th>\n",
       "      <th>adult_male</th>\n",
       "      <th>deck</th>\n",
       "      <th>embark_town</th>\n",
       "      <th>alive</th>\n",
       "      <th>alone</th>\n",
       "    </tr>\n",
       "  </thead>\n",
       "  <tbody>\n",
       "    <tr>\n",
       "      <th>0</th>\n",
       "      <td>0</td>\n",
       "      <td>3</td>\n",
       "      <td>1</td>\n",
       "      <td>22.0</td>\n",
       "      <td>1</td>\n",
       "      <td>0</td>\n",
       "      <td>7.2500</td>\n",
       "      <td>2</td>\n",
       "      <td>Third</td>\n",
       "      <td>man</td>\n",
       "      <td>True</td>\n",
       "      <td>NaN</td>\n",
       "      <td>Southampton</td>\n",
       "      <td>no</td>\n",
       "      <td>False</td>\n",
       "    </tr>\n",
       "    <tr>\n",
       "      <th>1</th>\n",
       "      <td>1</td>\n",
       "      <td>1</td>\n",
       "      <td>0</td>\n",
       "      <td>38.0</td>\n",
       "      <td>1</td>\n",
       "      <td>0</td>\n",
       "      <td>71.2833</td>\n",
       "      <td>0</td>\n",
       "      <td>First</td>\n",
       "      <td>woman</td>\n",
       "      <td>False</td>\n",
       "      <td>C</td>\n",
       "      <td>Cherbourg</td>\n",
       "      <td>yes</td>\n",
       "      <td>False</td>\n",
       "    </tr>\n",
       "    <tr>\n",
       "      <th>2</th>\n",
       "      <td>1</td>\n",
       "      <td>3</td>\n",
       "      <td>0</td>\n",
       "      <td>26.0</td>\n",
       "      <td>0</td>\n",
       "      <td>0</td>\n",
       "      <td>7.9250</td>\n",
       "      <td>2</td>\n",
       "      <td>Third</td>\n",
       "      <td>woman</td>\n",
       "      <td>False</td>\n",
       "      <td>NaN</td>\n",
       "      <td>Southampton</td>\n",
       "      <td>yes</td>\n",
       "      <td>True</td>\n",
       "    </tr>\n",
       "    <tr>\n",
       "      <th>3</th>\n",
       "      <td>1</td>\n",
       "      <td>1</td>\n",
       "      <td>0</td>\n",
       "      <td>35.0</td>\n",
       "      <td>1</td>\n",
       "      <td>0</td>\n",
       "      <td>53.1000</td>\n",
       "      <td>2</td>\n",
       "      <td>First</td>\n",
       "      <td>woman</td>\n",
       "      <td>False</td>\n",
       "      <td>C</td>\n",
       "      <td>Southampton</td>\n",
       "      <td>yes</td>\n",
       "      <td>False</td>\n",
       "    </tr>\n",
       "    <tr>\n",
       "      <th>4</th>\n",
       "      <td>0</td>\n",
       "      <td>3</td>\n",
       "      <td>1</td>\n",
       "      <td>35.0</td>\n",
       "      <td>0</td>\n",
       "      <td>0</td>\n",
       "      <td>8.0500</td>\n",
       "      <td>2</td>\n",
       "      <td>Third</td>\n",
       "      <td>man</td>\n",
       "      <td>True</td>\n",
       "      <td>NaN</td>\n",
       "      <td>Southampton</td>\n",
       "      <td>no</td>\n",
       "      <td>True</td>\n",
       "    </tr>\n",
       "    <tr>\n",
       "      <th>...</th>\n",
       "      <td>...</td>\n",
       "      <td>...</td>\n",
       "      <td>...</td>\n",
       "      <td>...</td>\n",
       "      <td>...</td>\n",
       "      <td>...</td>\n",
       "      <td>...</td>\n",
       "      <td>...</td>\n",
       "      <td>...</td>\n",
       "      <td>...</td>\n",
       "      <td>...</td>\n",
       "      <td>...</td>\n",
       "      <td>...</td>\n",
       "      <td>...</td>\n",
       "      <td>...</td>\n",
       "    </tr>\n",
       "    <tr>\n",
       "      <th>886</th>\n",
       "      <td>0</td>\n",
       "      <td>2</td>\n",
       "      <td>1</td>\n",
       "      <td>27.0</td>\n",
       "      <td>0</td>\n",
       "      <td>0</td>\n",
       "      <td>13.0000</td>\n",
       "      <td>2</td>\n",
       "      <td>Second</td>\n",
       "      <td>man</td>\n",
       "      <td>True</td>\n",
       "      <td>NaN</td>\n",
       "      <td>Southampton</td>\n",
       "      <td>no</td>\n",
       "      <td>True</td>\n",
       "    </tr>\n",
       "    <tr>\n",
       "      <th>887</th>\n",
       "      <td>1</td>\n",
       "      <td>1</td>\n",
       "      <td>0</td>\n",
       "      <td>19.0</td>\n",
       "      <td>0</td>\n",
       "      <td>0</td>\n",
       "      <td>30.0000</td>\n",
       "      <td>2</td>\n",
       "      <td>First</td>\n",
       "      <td>woman</td>\n",
       "      <td>False</td>\n",
       "      <td>B</td>\n",
       "      <td>Southampton</td>\n",
       "      <td>yes</td>\n",
       "      <td>True</td>\n",
       "    </tr>\n",
       "    <tr>\n",
       "      <th>888</th>\n",
       "      <td>0</td>\n",
       "      <td>3</td>\n",
       "      <td>0</td>\n",
       "      <td>28.0</td>\n",
       "      <td>1</td>\n",
       "      <td>2</td>\n",
       "      <td>23.4500</td>\n",
       "      <td>2</td>\n",
       "      <td>Third</td>\n",
       "      <td>woman</td>\n",
       "      <td>False</td>\n",
       "      <td>NaN</td>\n",
       "      <td>Southampton</td>\n",
       "      <td>no</td>\n",
       "      <td>False</td>\n",
       "    </tr>\n",
       "    <tr>\n",
       "      <th>889</th>\n",
       "      <td>1</td>\n",
       "      <td>1</td>\n",
       "      <td>1</td>\n",
       "      <td>26.0</td>\n",
       "      <td>0</td>\n",
       "      <td>0</td>\n",
       "      <td>30.0000</td>\n",
       "      <td>0</td>\n",
       "      <td>First</td>\n",
       "      <td>man</td>\n",
       "      <td>True</td>\n",
       "      <td>C</td>\n",
       "      <td>Cherbourg</td>\n",
       "      <td>yes</td>\n",
       "      <td>True</td>\n",
       "    </tr>\n",
       "    <tr>\n",
       "      <th>890</th>\n",
       "      <td>0</td>\n",
       "      <td>3</td>\n",
       "      <td>1</td>\n",
       "      <td>32.0</td>\n",
       "      <td>0</td>\n",
       "      <td>0</td>\n",
       "      <td>7.7500</td>\n",
       "      <td>1</td>\n",
       "      <td>Third</td>\n",
       "      <td>man</td>\n",
       "      <td>True</td>\n",
       "      <td>NaN</td>\n",
       "      <td>Queenstown</td>\n",
       "      <td>no</td>\n",
       "      <td>True</td>\n",
       "    </tr>\n",
       "  </tbody>\n",
       "</table>\n",
       "<p>891 rows × 15 columns</p>\n",
       "</div>"
      ],
      "text/plain": [
       "     survived  pclass  sex   age  sibsp  parch     fare  embarked   class  \\\n",
       "0           0       3    1  22.0      1      0   7.2500         2   Third   \n",
       "1           1       1    0  38.0      1      0  71.2833         0   First   \n",
       "2           1       3    0  26.0      0      0   7.9250         2   Third   \n",
       "3           1       1    0  35.0      1      0  53.1000         2   First   \n",
       "4           0       3    1  35.0      0      0   8.0500         2   Third   \n",
       "..        ...     ...  ...   ...    ...    ...      ...       ...     ...   \n",
       "886         0       2    1  27.0      0      0  13.0000         2  Second   \n",
       "887         1       1    0  19.0      0      0  30.0000         2   First   \n",
       "888         0       3    0  28.0      1      2  23.4500         2   Third   \n",
       "889         1       1    1  26.0      0      0  30.0000         0   First   \n",
       "890         0       3    1  32.0      0      0   7.7500         1   Third   \n",
       "\n",
       "       who  adult_male deck  embark_town alive  alone  \n",
       "0      man        True  NaN  Southampton    no  False  \n",
       "1    woman       False    C    Cherbourg   yes  False  \n",
       "2    woman       False  NaN  Southampton   yes   True  \n",
       "3    woman       False    C  Southampton   yes  False  \n",
       "4      man        True  NaN  Southampton    no   True  \n",
       "..     ...         ...  ...          ...   ...    ...  \n",
       "886    man        True  NaN  Southampton    no   True  \n",
       "887  woman       False    B  Southampton   yes   True  \n",
       "888  woman       False  NaN  Southampton    no  False  \n",
       "889    man        True    C    Cherbourg   yes   True  \n",
       "890    man        True  NaN   Queenstown    no   True  \n",
       "\n",
       "[891 rows x 15 columns]"
      ]
     },
     "execution_count": 17,
     "metadata": {},
     "output_type": "execute_result"
    }
   ],
   "source": [
    "# 导入必要的库\n",
    "import numpy as np\n",
    "import pandas as pd\n",
    "import seaborn as sns\n",
    "import matplotlib.pyplot as plt\n",
    "from sklearn.tree import DecisionTreeClassifier, export_text, plot_tree\n",
    "import xgboost as xgb\n",
    "from sklearn.model_selection import train_test_split, GridSearchCV\n",
    "from sklearn.metrics import (accuracy_score, confusion_matrix, \n",
    "                           classification_report, roc_curve, auc)\n",
    "from sklearn.preprocessing import LabelEncoder\n",
    "import warnings\n",
    "warnings.filterwarnings('ignore')\n",
    "\n",
    "# 加载seaborn内置的泰坦尼克数据集\n",
    "df = sns.load_dataset('titanic')\n",
    "\n",
    "# 填充 'age' 列的缺失值：使用该列的中位数填充缺失值\n",
    "df['age'].fillna(df['age'].median(), inplace=True)\n",
    "# 填充 'embarked' 列的缺失值：使用该列的众数填充缺失值\n",
    "df['embarked'].fillna(df['embarked'].mode()[0], inplace=True)\n",
    "# 将 'sex' 列转化为数值：'male' 映射为 1，'female' 映射为 0\n",
    "df['sex'] = df['sex'].map({'male': 1, 'female': 0})\n",
    "# 将 'embarked' 列转化为数值：'C' 映射为 0，'Q' 映射为 1，'S' 映射为 2\n",
    "df['embarked'] = df['embarked'].map({'C': 0, 'Q': 1, 'S': 2})\n",
    "\n",
    "df"
   ]
  },
  {
   "cell_type": "markdown",
   "id": "313222a1",
   "metadata": {},
   "source": [
    "## 代码实现"
   ]
  },
  {
   "cell_type": "markdown",
   "id": "b01681f1",
   "metadata": {},
   "source": [
    "lightgbm版本必须是4.6.0，否则可能报错"
   ]
  },
  {
   "cell_type": "code",
   "execution_count": 18,
   "id": "19695e53",
   "metadata": {
    "scrolled": false
   },
   "outputs": [
    {
     "name": "stdout",
     "output_type": "stream",
     "text": [
      "Training until validation scores don't improve for 50 rounds\n",
      "[10]\ttrain's auc: 0.893203\ttrain's binary_logloss: 0.560678\tvalid's auc: 0.890862\tvalid's binary_logloss: 0.576411\n",
      "[20]\ttrain's auc: 0.897132\ttrain's binary_logloss: 0.499408\tvalid's auc: 0.893758\tvalid's binary_logloss: 0.51572\n",
      "[30]\ttrain's auc: 0.899825\ttrain's binary_logloss: 0.458364\tvalid's auc: 0.895817\tvalid's binary_logloss: 0.479042\n",
      "[40]\ttrain's auc: 0.903233\ttrain's binary_logloss: 0.430082\tvalid's auc: 0.900257\tvalid's binary_logloss: 0.455879\n",
      "[50]\ttrain's auc: 0.90533\ttrain's binary_logloss: 0.408861\tvalid's auc: 0.901931\tvalid's binary_logloss: 0.439885\n",
      "[60]\ttrain's auc: 0.909259\ttrain's binary_logloss: 0.391636\tvalid's auc: 0.901737\tvalid's binary_logloss: 0.426792\n",
      "[70]\ttrain's auc: 0.913751\ttrain's binary_logloss: 0.37833\tvalid's auc: 0.900708\tvalid's binary_logloss: 0.41844\n",
      "[80]\ttrain's auc: 0.919528\ttrain's binary_logloss: 0.364815\tvalid's auc: 0.902638\tvalid's binary_logloss: 0.41148\n",
      "[90]\ttrain's auc: 0.92368\ttrain's binary_logloss: 0.355157\tvalid's auc: 0.901287\tvalid's binary_logloss: 0.407039\n",
      "[100]\ttrain's auc: 0.92731\ttrain's binary_logloss: 0.34634\tvalid's auc: 0.899228\tvalid's binary_logloss: 0.405345\n",
      "Early stopping, best iteration is:\n",
      "[51]\ttrain's auc: 0.905498\ttrain's binary_logloss: 0.407052\tvalid's auc: 0.903346\tvalid's binary_logloss: 0.437866\n",
      "Classification Report:\n",
      "              precision    recall  f1-score   support\n",
      "\n",
      "           0     0.7863    0.8762    0.8288       105\n",
      "           1     0.7903    0.6622    0.7206        74\n",
      "\n",
      "    accuracy                         0.7877       179\n",
      "   macro avg     0.7883    0.7692    0.7747       179\n",
      "weighted avg     0.7880    0.7877    0.7841       179\n",
      "\n"
     ]
    },
    {
     "data": {
      "image/png": "[encoded data removed]",
      "text/plain": [
       "<Figure size 800x600 with 2 Axes>"
      ]
     },
     "metadata": {},
     "output_type": "display_data"
    },
    {
     "data": {
      "image/png": "[encoded data removed]",
      "text/plain": [
       "<Figure size 800x600 with 1 Axes>"
      ]
     },
     "metadata": {},
     "output_type": "display_data"
    }
   ],
   "source": [
    "# ============ 1. 导入库 ============\n",
    "import pandas as pd\n",
    "import numpy as np\n",
    "from sklearn.model_selection import train_test_split\n",
    "from sklearn.preprocessing import OneHotEncoder\n",
    "from sklearn.metrics import classification_report, confusion_matrix, roc_curve, auc\n",
    "import matplotlib.pyplot as plt\n",
    "import seaborn as sns\n",
    "import lightgbm as lgb\n",
    "\n",
    "# 选择用于建模的特征和目标\n",
    "features = ['pclass', 'sex', 'age', 'sibsp', 'parch', 'fare', 'embarked']\n",
    "target = 'survived'\n",
    "\n",
    "# 删除含缺失值的行（也可使用填补方法）\n",
    "df = df[features + [target]].dropna()\n",
    "\n",
    "# 拆分特征和标签\n",
    "X = df[features]\n",
    "y = df[target]\n",
    "\n",
    "# ============ 3. 划分训练集和验证集 ============\n",
    "X_train_raw, X_test_raw, y_train, y_test = train_test_split(\n",
    "    X, y, test_size=0.2, random_state=42\n",
    ")\n",
    "\n",
    "# ============ 4. 类别变量：手动独热编码 ============\n",
    "cat_cols = ['sex', 'embarked']\n",
    "ohe = OneHotEncoder(sparse_output=False, handle_unknown='ignore')\n",
    "ohe.fit(X_train_raw[cat_cols])\n",
    "\n",
    "X_train_cat = ohe.transform(X_train_raw[cat_cols])\n",
    "X_test_cat = ohe.transform(X_test_raw[cat_cols])\n",
    "\n",
    "# ============ 5. 数值变量：直接使用 ============\n",
    "num_cols = ['pclass', 'age', 'sibsp', 'parch', 'fare']\n",
    "X_train_num = X_train_raw[num_cols].to_numpy()\n",
    "X_test_num = X_test_raw[num_cols].to_numpy()\n",
    "\n",
    "# ============ 6. 合并数值 + 编码后的类别变量 ============\n",
    "X_train = np.hstack([X_train_cat, X_train_num])\n",
    "X_test = np.hstack([X_test_cat, X_test_num])\n",
    "\n",
    "# 获取最终的特征名\n",
    "feature_names = list(ohe.get_feature_names_out(cat_cols)) + num_cols\n",
    "\n",
    "# ============ 7. 创建 LightGBM 数据集 ============\n",
    "dtrain = lgb.Dataset(X_train, label=y_train, feature_name=feature_names)\n",
    "dtest = lgb.Dataset(X_test, label=y_test, reference=dtrain)\n",
    "\n",
    "# ============ 8. 设置 LightGBM 参数 ============\n",
    "params = {\n",
    "    # 任务类型和评估指标\n",
    "    'objective': 'binary',               # 二分类任务\n",
    "    'metric': {'binary_logloss', 'auc'}, # 同时监控对数损失和AUC\n",
    "    \n",
    "    # 树结构控制\n",
    "    'num_leaves': 60,       # 叶子节点数（控制模型复杂度）\n",
    "    'max_depth': -1,        # -1表示不限制深度（通常用num_leaves控制）\n",
    "    'min_data_in_leaf': 30, # 叶子节点最小样本数（防过拟合）\n",
    "    \n",
    "    # 训练过程控制\n",
    "    'learning_rate': 0.03,  # 学习率（步长）\n",
    "    'feature_fraction': 0.9, # 每轮随机选择90%特征\n",
    "    'bagging_fraction': 0.8, # 每轮随机选择80%数据\n",
    "    \n",
    "    # 正则化\n",
    "    'lambda_l1': 0.1,       # L1正则化系数\n",
    "    'lambda_l2': 0.001,     # L2正则化系数\n",
    "    \n",
    "    # 其他\n",
    "    'verbosity': -1,        # 静默模式（不输出训练日志）\n",
    "    'seed': 2019    # 随机种子\n",
    "}\n",
    "\n",
    "# ============ 9. 训练模型 ============\n",
    "model = lgb.train(\n",
    "    params=params,\n",
    "    train_set=dtrain,\n",
    "    num_boost_round=1000,\n",
    "    valid_sets=[dtrain, dtest],\n",
    "    valid_names=['train', 'valid'],\n",
    "    callbacks=[\n",
    "        lgb.early_stopping(50),\n",
    "        lgb.log_evaluation(10)\n",
    "    ]\n",
    ")\n",
    "\n",
    "# ============ 10. 模型预测 ============\n",
    "y_probs = model.predict(X_test)\n",
    "y_pred = (y_probs > 0.5).astype(int)\n",
    "\n",
    "# ============ 11. 模型评估 ============\n",
    "print(\"Classification Report:\")\n",
    "print(classification_report(y_test, y_pred, digits=4))\n",
    "\n",
    "# ============ 12. 可视化结果 ============\n",
    "\n",
    "# (1) 混淆矩阵\n",
    "conf_matrix = confusion_matrix(y_test, y_pred)\n",
    "plt.figure(figsize=(8, 6))\n",
    "sns.heatmap(\n",
    "    conf_matrix,\n",
    "    annot=True,\n",
    "    fmt=\"d\",\n",
    "    cmap=\"Blues\",\n",
    "    xticklabels=[\"Not Survived\", \"Survived\"],\n",
    "    yticklabels=[\"Not Survived\", \"Survived\"]\n",
    ")\n",
    "plt.title(\"Confusion Matrix\")\n",
    "plt.xlabel(\"Predicted\")\n",
    "plt.ylabel(\"True\")\n",
    "plt.show()\n",
    "\n",
    "# (2) ROC 曲线\n",
    "fpr, tpr, _ = roc_curve(y_test, y_probs)\n",
    "roc_auc = auc(fpr, tpr)\n",
    "\n",
    "plt.figure(figsize=(8, 6))\n",
    "plt.plot(fpr, tpr, color='darkblue', label=f'ROC (AUC = {roc_auc:.4f})')\n",
    "plt.plot([0, 1], [0, 1], 'k--')\n",
    "plt.xlabel(\"False Positive Rate\")\n",
    "plt.ylabel(\"True Positive Rate\")\n",
    "plt.title(\"ROC Curve\")\n",
    "plt.legend(loc=\"lower right\")\n",
    "plt.show()"
   ]
  },
  {
   "cell_type": "code",
   "execution_count": null,
   "id": "96fae1c2",
   "metadata": {},
   "outputs": [],
   "source": []
  },
  {
   "cell_type": "code",
   "execution_count": null,
   "id": "3220fed5",
   "metadata": {},
   "outputs": [],
   "source": []
  },
  {
   "cell_type": "code",
   "execution_count": null,
   "id": "5b706d11",
   "metadata": {},
   "outputs": [],
   "source": []
  }
 ],
 "metadata": {
  "kernelspec": {
   "display_name": "Python 3 (ipykernel)",
   "language": "python",
   "name": "python3"
  },
  "language_info": {
   "codemirror_mode": {
    "name": "ipython",
    "version": 3
   },
   "file_extension": ".py",
   "mimetype": "text/x-python",
   "name": "python",
   "nbconvert_exporter": "python",
   "pygments_lexer": "ipython3",
   "version": "3.12.2"
  },
  "toc": {
   "base_numbering": 1,
   "nav_menu": {},
   "number_sections": true,
   "sideBar": true,
   "skip_h1_title": false,
   "title_cell": "Table of Contents",
   "title_sidebar": "Contents",
   "toc_cell": false,
   "toc_position": {
    "height": "calc(100% - 180px)",
    "left": "10px",
    "top": "150px",
    "width": "288px"
   },
   "toc_section_display": true,
   "toc_window_display": true
  }
 },
 "nbformat": 4,
 "nbformat_minor": 5
}
