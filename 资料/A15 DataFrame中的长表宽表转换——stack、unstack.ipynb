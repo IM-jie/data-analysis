{
 "cells": [
  {
   "cell_type": "markdown",
   "id": "9a97b7eb",
   "metadata": {},
   "source": [
    "# stack()与unstack() "
   ]
  },
  {
   "cell_type": "markdown",
   "id": "7f103c3b",
   "metadata": {},
   "source": [
    "## stack"
   ]
  },
  {
   "cell_type": "markdown",
   "id": "c672bfa1",
   "metadata": {},
   "source": [
    "stack()方法将DataFrame的列名称转化为行索引\n",
    "\n",
    "stack()适用于宽表转长表，适用于分组分析、数据清洗和整理"
   ]
  },
  {
   "cell_type": "markdown",
   "id": "154ef355",
   "metadata": {},
   "source": [
    "**DataFrame.stack()**"
   ]
  },
  {
   "cell_type": "markdown",
   "id": "e60d0564",
   "metadata": {},
   "source": [
    "## unstack()"
   ]
  },
  {
   "cell_type": "markdown",
   "id": "2219f9ad",
   "metadata": {},
   "source": [
    "unstack()方法将行索引转换为列名称\n",
    "\n",
    "unstack()适用于长表转宽表，适用于多级索引和汇总操作"
   ]
  },
  {
   "cell_type": "markdown",
   "id": "7b426694",
   "metadata": {},
   "source": [
    "**DataFrame.unstack()**"
   ]
  },
  {
   "cell_type": "markdown",
   "id": "13d7ee4b",
   "metadata": {},
   "source": [
    "## 形象化示例"
   ]
  },
  {
   "cell_type": "code",
   "execution_count": 5,
   "id": "a118a1e0",
   "metadata": {},
   "outputs": [
    {
     "data": {
      "text/html": [
       "<div>\n",
       "<style scoped>\n",
       "    .dataframe tbody tr th:only-of-type {\n",
       "        vertical-align: middle;\n",
       "    }\n",
       "\n",
       "    .dataframe tbody tr th {\n",
       "        vertical-align: top;\n",
       "    }\n",
       "\n",
       "    .dataframe thead th {\n",
       "        text-align: right;\n",
       "    }\n",
       "</style>\n",
       "<table border=\"1\" class=\"dataframe\">\n",
       "  <thead>\n",
       "    <tr style=\"text-align: right;\">\n",
       "      <th></th>\n",
       "      <th>地区</th>\n",
       "      <th>1月</th>\n",
       "      <th>2月</th>\n",
       "      <th>3月</th>\n",
       "    </tr>\n",
       "  </thead>\n",
       "  <tbody>\n",
       "    <tr>\n",
       "      <th>0</th>\n",
       "      <td>北京</td>\n",
       "      <td>1000</td>\n",
       "      <td>1200</td>\n",
       "      <td>1100</td>\n",
       "    </tr>\n",
       "    <tr>\n",
       "      <th>1</th>\n",
       "      <td>上海</td>\n",
       "      <td>1500</td>\n",
       "      <td>1600</td>\n",
       "      <td>1700</td>\n",
       "    </tr>\n",
       "    <tr>\n",
       "      <th>2</th>\n",
       "      <td>深圳</td>\n",
       "      <td>1300</td>\n",
       "      <td>1400</td>\n",
       "      <td>1350</td>\n",
       "    </tr>\n",
       "  </tbody>\n",
       "</table>\n",
       "</div>"
      ],
      "text/plain": [
       "   地区    1月    2月    3月\n",
       "0  北京  1000  1200  1100\n",
       "1  上海  1500  1600  1700\n",
       "2  深圳  1300  1400  1350"
      ]
     },
     "execution_count": 5,
     "metadata": {},
     "output_type": "execute_result"
    }
   ],
   "source": [
    "import pandas as pd\n",
    "\n",
    "# 创建宽表\n",
    "data = pd.DataFrame({\n",
    "    '地区': ['北京', '上海', '深圳'],\n",
    "    '1月': [1000, 1500, 1300],\n",
    "    '2月': [1200, 1600, 1400],\n",
    "    '3月': [1100, 1700, 1350]\n",
    "})\n",
    "data"
   ]
  },
  {
   "cell_type": "code",
   "execution_count": 11,
   "id": "9ebc9223",
   "metadata": {},
   "outputs": [
    {
     "data": {
      "text/html": [
       "<div>\n",
       "<style scoped>\n",
       "    .dataframe tbody tr th:only-of-type {\n",
       "        vertical-align: middle;\n",
       "    }\n",
       "\n",
       "    .dataframe tbody tr th {\n",
       "        vertical-align: top;\n",
       "    }\n",
       "\n",
       "    .dataframe thead th {\n",
       "        text-align: right;\n",
       "    }\n",
       "</style>\n",
       "<table border=\"1\" class=\"dataframe\">\n",
       "  <thead>\n",
       "    <tr style=\"text-align: right;\">\n",
       "      <th></th>\n",
       "      <th>地区</th>\n",
       "      <th>月份</th>\n",
       "      <th>销售额</th>\n",
       "    </tr>\n",
       "  </thead>\n",
       "  <tbody>\n",
       "    <tr>\n",
       "      <th>0</th>\n",
       "      <td>北京</td>\n",
       "      <td>1月</td>\n",
       "      <td>1000</td>\n",
       "    </tr>\n",
       "    <tr>\n",
       "      <th>1</th>\n",
       "      <td>北京</td>\n",
       "      <td>2月</td>\n",
       "      <td>1200</td>\n",
       "    </tr>\n",
       "    <tr>\n",
       "      <th>2</th>\n",
       "      <td>北京</td>\n",
       "      <td>3月</td>\n",
       "      <td>1100</td>\n",
       "    </tr>\n",
       "    <tr>\n",
       "      <th>3</th>\n",
       "      <td>上海</td>\n",
       "      <td>1月</td>\n",
       "      <td>1500</td>\n",
       "    </tr>\n",
       "    <tr>\n",
       "      <th>4</th>\n",
       "      <td>上海</td>\n",
       "      <td>2月</td>\n",
       "      <td>1600</td>\n",
       "    </tr>\n",
       "    <tr>\n",
       "      <th>5</th>\n",
       "      <td>上海</td>\n",
       "      <td>3月</td>\n",
       "      <td>1700</td>\n",
       "    </tr>\n",
       "    <tr>\n",
       "      <th>6</th>\n",
       "      <td>深圳</td>\n",
       "      <td>1月</td>\n",
       "      <td>1300</td>\n",
       "    </tr>\n",
       "    <tr>\n",
       "      <th>7</th>\n",
       "      <td>深圳</td>\n",
       "      <td>2月</td>\n",
       "      <td>1400</td>\n",
       "    </tr>\n",
       "    <tr>\n",
       "      <th>8</th>\n",
       "      <td>深圳</td>\n",
       "      <td>3月</td>\n",
       "      <td>1350</td>\n",
       "    </tr>\n",
       "  </tbody>\n",
       "</table>\n",
       "</div>"
      ],
      "text/plain": [
       "   地区  月份   销售额\n",
       "0  北京  1月  1000\n",
       "1  北京  2月  1200\n",
       "2  北京  3月  1100\n",
       "3  上海  1月  1500\n",
       "4  上海  2月  1600\n",
       "5  上海  3月  1700\n",
       "6  深圳  1月  1300\n",
       "7  深圳  2月  1400\n",
       "8  深圳  3月  1350"
      ]
     },
     "execution_count": 11,
     "metadata": {},
     "output_type": "execute_result"
    }
   ],
   "source": [
    "data_long = data.set_index('地区').stack().reset_index()\n",
    "data_long.columns = ['地区', '月份', '销售额']\n",
    "data_long"
   ]
  },
  {
   "cell_type": "code",
   "execution_count": 3,
   "id": "19928773",
   "metadata": {},
   "outputs": [
    {
     "data": {
      "text/html": [
       "<div>\n",
       "<style scoped>\n",
       "    .dataframe tbody tr th:only-of-type {\n",
       "        vertical-align: middle;\n",
       "    }\n",
       "\n",
       "    .dataframe tbody tr th {\n",
       "        vertical-align: top;\n",
       "    }\n",
       "\n",
       "    .dataframe thead th {\n",
       "        text-align: right;\n",
       "    }\n",
       "</style>\n",
       "<table border=\"1\" class=\"dataframe\">\n",
       "  <thead>\n",
       "    <tr style=\"text-align: right;\">\n",
       "      <th></th>\n",
       "      <th>地区</th>\n",
       "      <th>1月</th>\n",
       "      <th>2月</th>\n",
       "      <th>3月</th>\n",
       "    </tr>\n",
       "  </thead>\n",
       "  <tbody>\n",
       "    <tr>\n",
       "      <th>0</th>\n",
       "      <td>上海</td>\n",
       "      <td>1500</td>\n",
       "      <td>1600</td>\n",
       "      <td>1700</td>\n",
       "    </tr>\n",
       "    <tr>\n",
       "      <th>1</th>\n",
       "      <td>北京</td>\n",
       "      <td>1000</td>\n",
       "      <td>1200</td>\n",
       "      <td>1100</td>\n",
       "    </tr>\n",
       "    <tr>\n",
       "      <th>2</th>\n",
       "      <td>深圳</td>\n",
       "      <td>1300</td>\n",
       "      <td>1400</td>\n",
       "      <td>1350</td>\n",
       "    </tr>\n",
       "  </tbody>\n",
       "</table>\n",
       "</div>"
      ],
      "text/plain": [
       "   地区    1月    2月    3月\n",
       "0  上海  1500  1600  1700\n",
       "1  北京  1000  1200  1100\n",
       "2  深圳  1300  1400  1350"
      ]
     },
     "execution_count": 3,
     "metadata": {},
     "output_type": "execute_result"
    }
   ],
   "source": [
    "data_wide = data_long.set_index(['地区', '月份']).unstack().reset_index()\n",
    "data_wide.columns = ['地区', '1月', '2月', '3月']\n",
    "data_wide"
   ]
  },
  {
   "cell_type": "code",
   "execution_count": null,
   "id": "bfa56815",
   "metadata": {},
   "outputs": [],
   "source": []
  }
 ],
 "metadata": {
  "kernelspec": {
   "display_name": "Python 3 (ipykernel)",
   "language": "python",
   "name": "python3"
  },
  "language_info": {
   "codemirror_mode": {
    "name": "ipython",
    "version": 3
   },
   "file_extension": ".py",
   "mimetype": "text/x-python",
   "name": "python",
   "nbconvert_exporter": "python",
   "pygments_lexer": "ipython3",
   "version": "3.12.2"
  },
  "toc": {
   "base_numbering": 1,
   "nav_menu": {},
   "number_sections": true,
   "sideBar": true,
   "skip_h1_title": false,
   "title_cell": "Table of Contents",
   "title_sidebar": "Contents",
   "toc_cell": false,
   "toc_position": {
    "height": "calc(100% - 180px)",
    "left": "10px",
    "top": "150px",
    "width": "288px"
   },
   "toc_section_display": true,
   "toc_window_display": true
  }
 },
 "nbformat": 4,
 "nbformat_minor": 5
}
