{
 "cells": [
  {
   "cell_type": "markdown",
   "id": "ac9fc71d",
   "metadata": {},
   "source": [
    "# 标签编码(Label Encoding)"
   ]
  },
  {
   "cell_type": "markdown",
   "id": "f764e8c1",
   "metadata": {},
   "source": [
    "**标签编码（Label Encoding）**是机器学习中用于将分类变量（categorical variables）转换为数值型变量的一种常见方法。标签编码的基本思想是为每个唯一的类别分配一个唯一的整数。例如，对于颜色类别[\"红色\", \"绿色\", \"蓝色\"]，可以分别编码为[0, 1, 2]。"
   ]
  },
  {
   "cell_type": "markdown",
   "id": "36139752",
   "metadata": {},
   "source": [
    "## 基本思想"
   ]
  },
  {
   "cell_type": "markdown",
   "id": "1ad7dc90",
   "metadata": {},
   "source": [
    "给定一个分类变量$X = [x_1, x_2, \\dots, x_n]$，其取值集合为：\n",
    "$$C = \\{c_1, c_2, ..., c_k\\}$$\n",
    "定义标签编码函数：\n",
    "$$f: C \\rightarrow \\{0, 1, ..., k-1\\}$$\n",
    "则编码后的变量为：\n",
    "$$Y = [f(x_1), f(x_2), ..., f(x_n)]$$"
   ]
  },
  {
   "cell_type": "markdown",
   "id": "4051ad05",
   "metadata": {},
   "source": [
    "## 示例"
   ]
  },
  {
   "cell_type": "markdown",
   "id": "3d907ee7",
   "metadata": {},
   "source": [
    "### 原始特征"
   ]
  },
  {
   "cell_type": "markdown",
   "id": "fb74b07e",
   "metadata": {},
   "source": [
    "| Fruit |\n",
    "| ----- |\n",
    "| Apple   |\n",
    "| Banana |\n",
    "| Orange  |\n",
    "| Apple  |\n",
    "| Orange  |"
   ]
  },
  {
   "cell_type": "markdown",
   "id": "4281ec7b",
   "metadata": {},
   "source": [
    "### 标签编码结果"
   ]
  },
  {
   "cell_type": "markdown",
   "id": "c42f5520",
   "metadata": {},
   "source": [
    "- 识别唯一类别：['Apple', 'Banana', 'Orange']\n",
    "\n",
    "- 映射关系（可按字母排序或出现顺序）：\n",
    "    - Apple → 0\n",
    "    - Banana → 1\n",
    "    - Orange → 2\n",
    "\n",
    "- 编码结果：\n",
    "| Fruit  | Encoded |\n",
    "| ------ | ------- |\n",
    "| Apple  | 0       |\n",
    "| Banana | 1       |\n",
    "| Orange | 2       |\n",
    "| Apple  | 0       |\n",
    "| Orange | 2       |"
   ]
  },
  {
   "cell_type": "markdown",
   "id": "f945171b",
   "metadata": {},
   "source": [
    "## 优缺点"
   ]
  },
  {
   "cell_type": "markdown",
   "id": "eca998c4",
   "metadata": {},
   "source": [
    "- 优点：\n",
    "    - 简单直观，易于实现\n",
    "    - 不增加数据维度(与独热编码相比)\n",
    "    - 适用于有序分类变量\n",
    "- 缺点：\n",
    "    - 可能引入错误的顺序关系\n",
    "    - 不适合直接用于某些算法(如线性回归)，因为编码后的数值可能被解释为有意义的顺序或大小关系"
   ]
  },
  {
   "cell_type": "markdown",
   "id": "ab3de2c1",
   "metadata": {},
   "source": [
    "## 适用场景"
   ]
  },
  {
   "cell_type": "markdown",
   "id": "cde7fe99",
   "metadata": {},
   "source": [
    "- 分类变量是有序的(ordinal)\n",
    "- 树模型(决策树、随机森林等)处理分类变量时\n",
    "- 类别数量很多，独热编码会导致维度爆炸时"
   ]
  },
  {
   "cell_type": "markdown",
   "id": "a0a563be",
   "metadata": {},
   "source": [
    "# 代码实现"
   ]
  },
  {
   "cell_type": "markdown",
   "id": "5ef48f3f",
   "metadata": {},
   "source": [
    "## LabelEncoder"
   ]
  },
  {
   "cell_type": "markdown",
   "id": "d311855d",
   "metadata": {},
   "source": [
    "### 输入参数"
   ]
  },
  {
   "cell_type": "markdown",
   "id": "373cf61f",
   "metadata": {},
   "source": [
    "无参数"
   ]
  },
  {
   "cell_type": "markdown",
   "id": "dec1d867",
   "metadata": {},
   "source": [
    "### 方法"
   ]
  },
  {
   "cell_type": "markdown",
   "id": "826b200d",
   "metadata": {},
   "source": [
    "| 方法 / 属性名                       | 说明                                  |\n",
    "| ------------------------------ | ----------------------------------- |\n",
    "| `fit(x)`                       | 拟合变量数据，学习类别变量中每个值到数字的映射                 |\n",
    "| `transform(x)`                 | 将类别数据转换为数字编码                        |\n",
    "| `fit_transform(x)`             | 拟合并转换，等价于 `fit()+transform()`       |\n",
    "| `inverse_transform(_encoded)` | 将编码后的数字还原为原始类别变量                    |\n",
    "| `classes_`                     | 返回学习到的类别标签数组（按排序）    |"
   ]
  },
  {
   "cell_type": "markdown",
   "id": "7781377b",
   "metadata": {},
   "source": [
    "### 案例"
   ]
  },
  {
   "cell_type": "code",
   "execution_count": 1,
   "id": "ded81880",
   "metadata": {},
   "outputs": [
    {
     "data": {
      "text/html": [
       "<div>\n",
       "<style scoped>\n",
       "    .dataframe tbody tr th:only-of-type {\n",
       "        vertical-align: middle;\n",
       "    }\n",
       "\n",
       "    .dataframe tbody tr th {\n",
       "        vertical-align: top;\n",
       "    }\n",
       "\n",
       "    .dataframe thead th {\n",
       "        text-align: right;\n",
       "    }\n",
       "</style>\n",
       "<table border=\"1\" class=\"dataframe\">\n",
       "  <thead>\n",
       "    <tr style=\"text-align: right;\">\n",
       "      <th></th>\n",
       "      <th>Fruit</th>\n",
       "    </tr>\n",
       "  </thead>\n",
       "  <tbody>\n",
       "    <tr>\n",
       "      <th>0</th>\n",
       "      <td>Apple</td>\n",
       "    </tr>\n",
       "    <tr>\n",
       "      <th>1</th>\n",
       "      <td>Banana</td>\n",
       "    </tr>\n",
       "    <tr>\n",
       "      <th>2</th>\n",
       "      <td>Orange</td>\n",
       "    </tr>\n",
       "    <tr>\n",
       "      <th>3</th>\n",
       "      <td>Apple</td>\n",
       "    </tr>\n",
       "    <tr>\n",
       "      <th>4</th>\n",
       "      <td>Orange</td>\n",
       "    </tr>\n",
       "  </tbody>\n",
       "</table>\n",
       "</div>"
      ],
      "text/plain": [
       "    Fruit\n",
       "0   Apple\n",
       "1  Banana\n",
       "2  Orange\n",
       "3   Apple\n",
       "4  Orange"
      ]
     },
     "execution_count": 1,
     "metadata": {},
     "output_type": "execute_result"
    }
   ],
   "source": [
    "import pandas as pd\n",
    "import warnings\n",
    "warnings.filterwarnings('ignore')\n",
    "\n",
    "df = pd.DataFrame({'Fruit': ['Apple', 'Banana', 'Orange', 'Apple', 'Orange']})\n",
    "df"
   ]
  },
  {
   "cell_type": "code",
   "execution_count": 2,
   "id": "7ba83cf2",
   "metadata": {
    "scrolled": true
   },
   "outputs": [
    {
     "data": {
      "text/html": [
       "<div>\n",
       "<style scoped>\n",
       "    .dataframe tbody tr th:only-of-type {\n",
       "        vertical-align: middle;\n",
       "    }\n",
       "\n",
       "    .dataframe tbody tr th {\n",
       "        vertical-align: top;\n",
       "    }\n",
       "\n",
       "    .dataframe thead th {\n",
       "        text-align: right;\n",
       "    }\n",
       "</style>\n",
       "<table border=\"1\" class=\"dataframe\">\n",
       "  <thead>\n",
       "    <tr style=\"text-align: right;\">\n",
       "      <th></th>\n",
       "      <th>Fruit</th>\n",
       "    </tr>\n",
       "  </thead>\n",
       "  <tbody>\n",
       "    <tr>\n",
       "      <th>0</th>\n",
       "      <td>0</td>\n",
       "    </tr>\n",
       "    <tr>\n",
       "      <th>1</th>\n",
       "      <td>1</td>\n",
       "    </tr>\n",
       "    <tr>\n",
       "      <th>2</th>\n",
       "      <td>2</td>\n",
       "    </tr>\n",
       "    <tr>\n",
       "      <th>3</th>\n",
       "      <td>0</td>\n",
       "    </tr>\n",
       "    <tr>\n",
       "      <th>4</th>\n",
       "      <td>2</td>\n",
       "    </tr>\n",
       "  </tbody>\n",
       "</table>\n",
       "</div>"
      ],
      "text/plain": [
       "   Fruit\n",
       "0      0\n",
       "1      1\n",
       "2      2\n",
       "3      0\n",
       "4      2"
      ]
     },
     "execution_count": 2,
     "metadata": {},
     "output_type": "execute_result"
    }
   ],
   "source": [
    "from sklearn.preprocessing import LabelEncoder\n",
    "# 创建编码器对象\n",
    "encoder = LabelEncoder()\n",
    "# 拟合转换\n",
    "encoded = encoder.fit_transform(df[['Fruit']])\n",
    "# 转换为 DataFrame\n",
    "encoded_df = pd.DataFrame(encoded, columns=['Fruit'])\n",
    "encoded_df"
   ]
  },
  {
   "cell_type": "code",
   "execution_count": 3,
   "id": "2d9be25a",
   "metadata": {},
   "outputs": [
    {
     "data": {
      "text/plain": [
       "array([0, 1, 2, 0, 2])"
      ]
     },
     "execution_count": 3,
     "metadata": {},
     "output_type": "execute_result"
    }
   ],
   "source": [
    "encoded"
   ]
  },
  {
   "cell_type": "code",
   "execution_count": 4,
   "id": "21018ff0",
   "metadata": {},
   "outputs": [
    {
     "data": {
      "text/plain": [
       "array(['Apple', 'Banana', 'Orange', 'Apple', 'Orange'], dtype=object)"
      ]
     },
     "execution_count": 4,
     "metadata": {},
     "output_type": "execute_result"
    }
   ],
   "source": [
    "# 将编码后的数字还原为原始类别变量\n",
    "encoder.inverse_transform(encoded)"
   ]
  },
  {
   "cell_type": "code",
   "execution_count": 5,
   "id": "bc7c4bd2",
   "metadata": {},
   "outputs": [
    {
     "data": {
      "text/plain": [
       "array(['Apple', 'Banana', 'Orange'], dtype=object)"
      ]
     },
     "execution_count": 5,
     "metadata": {},
     "output_type": "execute_result"
    }
   ],
   "source": [
    "# 返回学习到的类别标签数组（按排序）\n",
    "encoder.classes_"
   ]
  },
  {
   "cell_type": "markdown",
   "id": "9379f59b",
   "metadata": {},
   "source": [
    "# 实际案例"
   ]
  },
  {
   "cell_type": "markdown",
   "id": "ace3573d",
   "metadata": {},
   "source": [
    "## 泰坦尼克数据集"
   ]
  },
  {
   "cell_type": "markdown",
   "id": "030d3dce",
   "metadata": {},
   "source": [
    "**titanic 数据集**包含了 891 条乘客记录，每条记录描述了乘客的个人信息及其在 Titanic 号上的生存情况\n",
    "- survived：生存情况（0 = 未生还, 1 = 生还）\n",
    "- pclass：乘客舱等级（1 = 一等舱, 2 = 二等舱, 3 = 三等舱）\n",
    "- sex：乘客性别（male = 男性, female = 女性）\n",
    "- age：乘客年龄（float，部分缺失值）\n",
    "- sibsp：乘客在船上的兄弟姐妹或配偶数量（整数）\n",
    "- parch：乘客在船上的父母或子女数量（整数）\n",
    "- fare：乘客支付的票价（float）\n",
    "- embarked：乘客登船港口（C = 瑟堡, Q = 皇后镇, S = 南安普敦）\n",
    "- class：舱等级（文本版本的 pclass，First = 头等舱, Second = 二等舱, Third = 三等舱）\n",
    "- who：乘客身份（man = 成年男性, woman = 成年女性, child = 儿童）\n",
    "- adult_male：是否为成年男性（True = 是, False = 否）\n",
    "- deck：乘客所在的甲板（A, B, C, D, E, F, G，部分缺失值较多）\n",
    "- embark_town：乘客登船的城市（Cherbourg = 瑟堡, Queenstown = 皇后镇, Southampton = 南安普敦）\n",
    "- alone：是否独自旅行（True = 独自旅行，False = 有亲属同行，对应 sibsp + parch == 0）"
   ]
  },
  {
   "cell_type": "code",
   "execution_count": 6,
   "id": "ce4b03f2",
   "metadata": {},
   "outputs": [
    {
     "data": {
      "text/html": [
       "<div>\n",
       "<style scoped>\n",
       "    .dataframe tbody tr th:only-of-type {\n",
       "        vertical-align: middle;\n",
       "    }\n",
       "\n",
       "    .dataframe tbody tr th {\n",
       "        vertical-align: top;\n",
       "    }\n",
       "\n",
       "    .dataframe thead th {\n",
       "        text-align: right;\n",
       "    }\n",
       "</style>\n",
       "<table border=\"1\" class=\"dataframe\">\n",
       "  <thead>\n",
       "    <tr style=\"text-align: right;\">\n",
       "      <th></th>\n",
       "      <th>survived</th>\n",
       "      <th>pclass</th>\n",
       "      <th>sex</th>\n",
       "      <th>age</th>\n",
       "      <th>sibsp</th>\n",
       "      <th>parch</th>\n",
       "      <th>fare</th>\n",
       "      <th>embarked</th>\n",
       "      <th>class</th>\n",
       "      <th>who</th>\n",
       "      <th>adult_male</th>\n",
       "      <th>deck</th>\n",
       "      <th>embark_town</th>\n",
       "      <th>alive</th>\n",
       "      <th>alone</th>\n",
       "    </tr>\n",
       "  </thead>\n",
       "  <tbody>\n",
       "    <tr>\n",
       "      <th>0</th>\n",
       "      <td>0</td>\n",
       "      <td>3</td>\n",
       "      <td>male</td>\n",
       "      <td>22.0</td>\n",
       "      <td>1</td>\n",
       "      <td>0</td>\n",
       "      <td>7.2500</td>\n",
       "      <td>S</td>\n",
       "      <td>Third</td>\n",
       "      <td>man</td>\n",
       "      <td>True</td>\n",
       "      <td>NaN</td>\n",
       "      <td>Southampton</td>\n",
       "      <td>no</td>\n",
       "      <td>False</td>\n",
       "    </tr>\n",
       "    <tr>\n",
       "      <th>1</th>\n",
       "      <td>1</td>\n",
       "      <td>1</td>\n",
       "      <td>female</td>\n",
       "      <td>38.0</td>\n",
       "      <td>1</td>\n",
       "      <td>0</td>\n",
       "      <td>71.2833</td>\n",
       "      <td>C</td>\n",
       "      <td>First</td>\n",
       "      <td>woman</td>\n",
       "      <td>False</td>\n",
       "      <td>C</td>\n",
       "      <td>Cherbourg</td>\n",
       "      <td>yes</td>\n",
       "      <td>False</td>\n",
       "    </tr>\n",
       "    <tr>\n",
       "      <th>2</th>\n",
       "      <td>1</td>\n",
       "      <td>3</td>\n",
       "      <td>female</td>\n",
       "      <td>26.0</td>\n",
       "      <td>0</td>\n",
       "      <td>0</td>\n",
       "      <td>7.9250</td>\n",
       "      <td>S</td>\n",
       "      <td>Third</td>\n",
       "      <td>woman</td>\n",
       "      <td>False</td>\n",
       "      <td>NaN</td>\n",
       "      <td>Southampton</td>\n",
       "      <td>yes</td>\n",
       "      <td>True</td>\n",
       "    </tr>\n",
       "    <tr>\n",
       "      <th>3</th>\n",
       "      <td>1</td>\n",
       "      <td>1</td>\n",
       "      <td>female</td>\n",
       "      <td>35.0</td>\n",
       "      <td>1</td>\n",
       "      <td>0</td>\n",
       "      <td>53.1000</td>\n",
       "      <td>S</td>\n",
       "      <td>First</td>\n",
       "      <td>woman</td>\n",
       "      <td>False</td>\n",
       "      <td>C</td>\n",
       "      <td>Southampton</td>\n",
       "      <td>yes</td>\n",
       "      <td>False</td>\n",
       "    </tr>\n",
       "    <tr>\n",
       "      <th>4</th>\n",
       "      <td>0</td>\n",
       "      <td>3</td>\n",
       "      <td>male</td>\n",
       "      <td>35.0</td>\n",
       "      <td>0</td>\n",
       "      <td>0</td>\n",
       "      <td>8.0500</td>\n",
       "      <td>S</td>\n",
       "      <td>Third</td>\n",
       "      <td>man</td>\n",
       "      <td>True</td>\n",
       "      <td>NaN</td>\n",
       "      <td>Southampton</td>\n",
       "      <td>no</td>\n",
       "      <td>True</td>\n",
       "    </tr>\n",
       "    <tr>\n",
       "      <th>...</th>\n",
       "      <td>...</td>\n",
       "      <td>...</td>\n",
       "      <td>...</td>\n",
       "      <td>...</td>\n",
       "      <td>...</td>\n",
       "      <td>...</td>\n",
       "      <td>...</td>\n",
       "      <td>...</td>\n",
       "      <td>...</td>\n",
       "      <td>...</td>\n",
       "      <td>...</td>\n",
       "      <td>...</td>\n",
       "      <td>...</td>\n",
       "      <td>...</td>\n",
       "      <td>...</td>\n",
       "    </tr>\n",
       "    <tr>\n",
       "      <th>886</th>\n",
       "      <td>0</td>\n",
       "      <td>2</td>\n",
       "      <td>male</td>\n",
       "      <td>27.0</td>\n",
       "      <td>0</td>\n",
       "      <td>0</td>\n",
       "      <td>13.0000</td>\n",
       "      <td>S</td>\n",
       "      <td>Second</td>\n",
       "      <td>man</td>\n",
       "      <td>True</td>\n",
       "      <td>NaN</td>\n",
       "      <td>Southampton</td>\n",
       "      <td>no</td>\n",
       "      <td>True</td>\n",
       "    </tr>\n",
       "    <tr>\n",
       "      <th>887</th>\n",
       "      <td>1</td>\n",
       "      <td>1</td>\n",
       "      <td>female</td>\n",
       "      <td>19.0</td>\n",
       "      <td>0</td>\n",
       "      <td>0</td>\n",
       "      <td>30.0000</td>\n",
       "      <td>S</td>\n",
       "      <td>First</td>\n",
       "      <td>woman</td>\n",
       "      <td>False</td>\n",
       "      <td>B</td>\n",
       "      <td>Southampton</td>\n",
       "      <td>yes</td>\n",
       "      <td>True</td>\n",
       "    </tr>\n",
       "    <tr>\n",
       "      <th>888</th>\n",
       "      <td>0</td>\n",
       "      <td>3</td>\n",
       "      <td>female</td>\n",
       "      <td>28.0</td>\n",
       "      <td>1</td>\n",
       "      <td>2</td>\n",
       "      <td>23.4500</td>\n",
       "      <td>S</td>\n",
       "      <td>Third</td>\n",
       "      <td>woman</td>\n",
       "      <td>False</td>\n",
       "      <td>NaN</td>\n",
       "      <td>Southampton</td>\n",
       "      <td>no</td>\n",
       "      <td>False</td>\n",
       "    </tr>\n",
       "    <tr>\n",
       "      <th>889</th>\n",
       "      <td>1</td>\n",
       "      <td>1</td>\n",
       "      <td>male</td>\n",
       "      <td>26.0</td>\n",
       "      <td>0</td>\n",
       "      <td>0</td>\n",
       "      <td>30.0000</td>\n",
       "      <td>C</td>\n",
       "      <td>First</td>\n",
       "      <td>man</td>\n",
       "      <td>True</td>\n",
       "      <td>C</td>\n",
       "      <td>Cherbourg</td>\n",
       "      <td>yes</td>\n",
       "      <td>True</td>\n",
       "    </tr>\n",
       "    <tr>\n",
       "      <th>890</th>\n",
       "      <td>0</td>\n",
       "      <td>3</td>\n",
       "      <td>male</td>\n",
       "      <td>32.0</td>\n",
       "      <td>0</td>\n",
       "      <td>0</td>\n",
       "      <td>7.7500</td>\n",
       "      <td>Q</td>\n",
       "      <td>Third</td>\n",
       "      <td>man</td>\n",
       "      <td>True</td>\n",
       "      <td>NaN</td>\n",
       "      <td>Queenstown</td>\n",
       "      <td>no</td>\n",
       "      <td>True</td>\n",
       "    </tr>\n",
       "  </tbody>\n",
       "</table>\n",
       "<p>891 rows × 15 columns</p>\n",
       "</div>"
      ],
      "text/plain": [
       "     survived  pclass     sex   age  sibsp  parch     fare embarked   class  \\\n",
       "0           0       3    male  22.0      1      0   7.2500        S   Third   \n",
       "1           1       1  female  38.0      1      0  71.2833        C   First   \n",
       "2           1       3  female  26.0      0      0   7.9250        S   Third   \n",
       "3           1       1  female  35.0      1      0  53.1000        S   First   \n",
       "4           0       3    male  35.0      0      0   8.0500        S   Third   \n",
       "..        ...     ...     ...   ...    ...    ...      ...      ...     ...   \n",
       "886         0       2    male  27.0      0      0  13.0000        S  Second   \n",
       "887         1       1  female  19.0      0      0  30.0000        S   First   \n",
       "888         0       3  female  28.0      1      2  23.4500        S   Third   \n",
       "889         1       1    male  26.0      0      0  30.0000        C   First   \n",
       "890         0       3    male  32.0      0      0   7.7500        Q   Third   \n",
       "\n",
       "       who  adult_male deck  embark_town alive  alone  \n",
       "0      man        True  NaN  Southampton    no  False  \n",
       "1    woman       False    C    Cherbourg   yes  False  \n",
       "2    woman       False  NaN  Southampton   yes   True  \n",
       "3    woman       False    C  Southampton   yes  False  \n",
       "4      man        True  NaN  Southampton    no   True  \n",
       "..     ...         ...  ...          ...   ...    ...  \n",
       "886    man        True  NaN  Southampton    no   True  \n",
       "887  woman       False    B  Southampton   yes   True  \n",
       "888  woman       False  NaN  Southampton    no  False  \n",
       "889    man        True    C    Cherbourg   yes   True  \n",
       "890    man        True  NaN   Queenstown    no   True  \n",
       "\n",
       "[891 rows x 15 columns]"
      ]
     },
     "execution_count": 6,
     "metadata": {},
     "output_type": "execute_result"
    }
   ],
   "source": [
    "# 导入必要的库\n",
    "import numpy as np\n",
    "import pandas as pd\n",
    "import seaborn as sns\n",
    "import matplotlib.pyplot as plt\n",
    "from sklearn.tree import DecisionTreeClassifier, export_text, plot_tree\n",
    "import xgboost as xgb\n",
    "from sklearn.model_selection import train_test_split, GridSearchCV\n",
    "from sklearn.metrics import (accuracy_score, confusion_matrix, \n",
    "                           classification_report, roc_curve, auc)\n",
    "from sklearn.preprocessing import LabelEncoder\n",
    "\n",
    "# 加载seaborn内置的泰坦尼克数据集\n",
    "df = sns.load_dataset('titanic')\n",
    "\n",
    "# 填充 'age' 列的缺失值：使用该列的中位数填充缺失值\n",
    "df['age'].fillna(df['age'].median(), inplace=True)\n",
    "# 填充 'embarked' 列的缺失值：使用该列的众数填充缺失值\n",
    "df['embarked'].fillna(df['embarked'].mode()[0], inplace=True)\n",
    "# # 将 'sex' 列转化为数值：'male' 映射为 1，'female' 映射为 0\n",
    "# df['sex'] = df['sex'].map({'male': 1, 'female': 0})\n",
    "# # 将 'embarked' 列转化为数值：'C' 映射为 0，'Q' 映射为 1，'S' 映射为 2\n",
    "# df['embarked'] = df['embarked'].map({'C': 0, 'Q': 1, 'S': 2})\n",
    "\n",
    "df"
   ]
  },
  {
   "cell_type": "markdown",
   "id": "790717c0",
   "metadata": {},
   "source": [
    "## 代码实现"
   ]
  },
  {
   "cell_type": "markdown",
   "id": "64e5246c",
   "metadata": {},
   "source": [
    "lightgbm版本必须是4.6.0，否则可能报错"
   ]
  },
  {
   "cell_type": "code",
   "execution_count": 10,
   "id": "248b9363",
   "metadata": {
    "scrolled": false
   },
   "outputs": [
    {
     "name": "stdout",
     "output_type": "stream",
     "text": [
      "Training until validation scores don't improve for 50 rounds\n",
      "[10]\ttrain's binary_logloss: 0.562138\ttrain's auc: 0.892442\tvalid's binary_logloss: 0.577249\tvalid's auc: 0.896268\n",
      "[20]\ttrain's binary_logloss: 0.501533\ttrain's auc: 0.899506\tvalid's binary_logloss: 0.517511\tvalid's auc: 0.89749\n",
      "[30]\ttrain's binary_logloss: 0.460405\ttrain's auc: 0.903187\tvalid's binary_logloss: 0.480388\tvalid's auc: 0.897812\n",
      "[40]\ttrain's binary_logloss: 0.431372\ttrain's auc: 0.904792\tvalid's binary_logloss: 0.455664\tvalid's auc: 0.900772\n",
      "[50]\ttrain's binary_logloss: 0.41052\ttrain's auc: 0.907145\tvalid's binary_logloss: 0.439505\tvalid's auc: 0.901287\n",
      "[60]\ttrain's binary_logloss: 0.392393\ttrain's auc: 0.912347\tvalid's binary_logloss: 0.426284\tvalid's auc: 0.901158\n",
      "[70]\ttrain's binary_logloss: 0.378089\ttrain's auc: 0.917167\tvalid's binary_logloss: 0.4187\tvalid's auc: 0.901158\n",
      "[80]\ttrain's binary_logloss: 0.366663\ttrain's auc: 0.920982\tvalid's binary_logloss: 0.413547\tvalid's auc: 0.900644\n",
      "[90]\ttrain's binary_logloss: 0.355714\ttrain's auc: 0.924402\tvalid's binary_logloss: 0.409338\tvalid's auc: 0.901094\n",
      "[100]\ttrain's binary_logloss: 0.347113\ttrain's auc: 0.927693\tvalid's binary_logloss: 0.406169\tvalid's auc: 0.899807\n",
      "[110]\ttrain's binary_logloss: 0.339313\ttrain's auc: 0.930344\tvalid's binary_logloss: 0.403237\tvalid's auc: 0.900322\n",
      "[120]\ttrain's binary_logloss: 0.331987\ttrain's auc: 0.933189\tvalid's binary_logloss: 0.401446\tvalid's auc: 0.899807\n",
      "Early stopping, best iteration is:\n",
      "[75]\ttrain's binary_logloss: 0.372364\ttrain's auc: 0.918742\tvalid's binary_logloss: 0.415644\tvalid's auc: 0.902445\n",
      "Classification Report:\n",
      "              precision    recall  f1-score   support\n",
      "\n",
      "           0     0.7949    0.8857    0.8378       105\n",
      "           1     0.8065    0.6757    0.7353        74\n",
      "\n",
      "    accuracy                         0.7989       179\n",
      "   macro avg     0.8007    0.7807    0.7866       179\n",
      "weighted avg     0.7997    0.7989    0.7954       179\n",
      "\n"
     ]
    },
    {
     "data": {
      "image/png": "[encoded data removed]",
      "text/plain": [
       "<Figure size 800x600 with 2 Axes>"
      ]
     },
     "metadata": {},
     "output_type": "display_data"
    },
    {
     "data": {
      "image/png": "[encoded data removed]",
      "text/plain": [
       "<Figure size 800x600 with 1 Axes>"
      ]
     },
     "metadata": {},
     "output_type": "display_data"
    }
   ],
   "source": [
    "# ============ 1. 导入库 ============\n",
    "import pandas as pd\n",
    "import numpy as np\n",
    "from sklearn.model_selection import train_test_split\n",
    "from sklearn.preprocessing import LabelEncoder\n",
    "from sklearn.metrics import classification_report, confusion_matrix, roc_curve, auc\n",
    "import matplotlib.pyplot as plt\n",
    "import seaborn as sns\n",
    "import lightgbm as lgb\n",
    "\n",
    "# ============ 2. 选择特征和目标变量 ============\n",
    "features = ['pclass', 'sex', 'age', 'sibsp', 'parch', 'fare', 'embarked']\n",
    "target = 'survived'\n",
    "\n",
    "# 删除含缺失值的行\n",
    "df = df[features + [target]].dropna()\n",
    "\n",
    "# 拆分特征和目标\n",
    "X = df[features]\n",
    "y = df[target]\n",
    "\n",
    "# ============ 3. 划分训练集和验证集 ============\n",
    "X_train_raw, X_test_raw, y_train, y_test = train_test_split(\n",
    "    X, y, test_size=0.2, random_state=42\n",
    ")\n",
    "\n",
    "# ============ 4. 类别变量：使用 LabelEncoder ============\n",
    "cat_cols = ['sex', 'embarked']\n",
    "encoders = {}\n",
    "for col in cat_cols:\n",
    "    le = LabelEncoder()\n",
    "    X_train_raw[col] = le.fit_transform(X_train_raw[col])\n",
    "    X_test_raw[col] = le.transform(X_test_raw[col])\n",
    "    encoders[col] = le  # 保存编码器以备将来使用或反编码\n",
    "\n",
    "# ============ 5. 数值变量（和编码后类别变量）：直接使用 ============\n",
    "X_train = X_train_raw.to_numpy()\n",
    "X_test = X_test_raw.to_numpy()\n",
    "feature_names = features\n",
    "\n",
    "# ============ 6. 创建 LightGBM 数据集 ============\n",
    "dtrain = lgb.Dataset(X_train, label=y_train, feature_name=feature_names)\n",
    "dtest = lgb.Dataset(X_test, label=y_test)\n",
    "\n",
    "# ============ 7. 设置 LightGBM 参数 ============\n",
    "params = {\n",
    "    'objective': 'binary',\n",
    "    'metric': {'binary_logloss', 'auc'},\n",
    "    'num_leaves': 60,\n",
    "    'max_depth': -1,\n",
    "    'min_data_in_leaf': 30,\n",
    "    'learning_rate': 0.03,\n",
    "    'feature_fraction': 0.9,\n",
    "    'bagging_fraction': 0.8,\n",
    "    'lambda_l1': 0.1,\n",
    "    'lambda_l2': 0.001,\n",
    "    'verbosity': -1,\n",
    "    'seed': 2019\n",
    "}\n",
    "\n",
    "# ============ 8. 模型训练 ============\n",
    "model = lgb.train(\n",
    "    params=params,\n",
    "    train_set=dtrain,\n",
    "    num_boost_round=1000,\n",
    "    valid_sets=[dtrain, dtest],\n",
    "    valid_names=['train', 'valid'],\n",
    "    callbacks=[\n",
    "        lgb.early_stopping(50),\n",
    "        lgb.log_evaluation(10)\n",
    "    ]\n",
    ")\n",
    "\n",
    "# ============ 9. 模型预测 ============\n",
    "y_probs = model.predict(X_test)\n",
    "y_pred = (y_probs > 0.5).astype(int)\n",
    "\n",
    "# ============ 10. 模型评估 ============\n",
    "print(\"Classification Report:\")\n",
    "print(classification_report(y_test, y_pred, digits=4))\n",
    "\n",
    "# ============ 11. 可视化 ============\n",
    "\n",
    "# (1) 混淆矩阵\n",
    "conf_matrix = confusion_matrix(y_test, y_pred)\n",
    "plt.figure(figsize=(8, 6))\n",
    "sns.heatmap(\n",
    "    conf_matrix,\n",
    "    annot=True,\n",
    "    fmt=\"d\",\n",
    "    cmap=\"Blues\",\n",
    "    xticklabels=[\"Not Survived\", \"Survived\"],\n",
    "    yticklabels=[\"Not Survived\", \"Survived\"]\n",
    ")\n",
    "plt.title(\"Confusion Matrix\")\n",
    "plt.xlabel(\"Predicted\")\n",
    "plt.ylabel(\"True\")\n",
    "plt.show()\n",
    "\n",
    "# (2) ROC 曲线\n",
    "fpr, tpr, _ = roc_curve(y_test, y_probs)\n",
    "roc_auc = auc(fpr, tpr)\n",
    "\n",
    "plt.figure(figsize=(8, 6))\n",
    "plt.plot(fpr, tpr, color='darkblue', label=f'ROC (AUC = {roc_auc:.4f})')\n",
    "plt.plot([0, 1], [0, 1], 'k--')\n",
    "plt.xlabel(\"False Positive Rate\")\n",
    "plt.ylabel(\"True Positive Rate\")\n",
    "plt.title(\"ROC Curve\")\n",
    "plt.legend(loc=\"lower right\")\n",
    "plt.show()"
   ]
  },
  {
   "cell_type": "code",
   "execution_count": null,
   "id": "824e459e",
   "metadata": {},
   "outputs": [],
   "source": []
  },
  {
   "cell_type": "code",
   "execution_count": null,
   "id": "e0d74d52",
   "metadata": {},
   "outputs": [],
   "source": []
  },
  {
   "cell_type": "code",
   "execution_count": null,
   "id": "0d25171a",
   "metadata": {},
   "outputs": [],
   "source": []
  }
 ],
 "metadata": {
  "kernelspec": {
   "display_name": "Python 3 (ipykernel)",
   "language": "python",
   "name": "python3"
  },
  "language_info": {
   "codemirror_mode": {
    "name": "ipython",
    "version": 3
   },
   "file_extension": ".py",
   "mimetype": "text/x-python",
   "name": "python",
   "nbconvert_exporter": "python",
   "pygments_lexer": "ipython3",
   "version": "3.12.2"
  },
  "toc": {
   "base_numbering": 1,
   "nav_menu": {},
   "number_sections": true,
   "sideBar": true,
   "skip_h1_title": false,
   "title_cell": "Table of Contents",
   "title_sidebar": "Contents",
   "toc_cell": false,
   "toc_position": {
    "height": "calc(100% - 180px)",
    "left": "10px",
    "top": "150px",
    "width": "288px"
   },
   "toc_section_display": true,
   "toc_window_display": true
  }
 },
 "nbformat": 4,
 "nbformat_minor": 5
}
