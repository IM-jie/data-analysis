{
 "cells": [
  {
   "cell_type": "markdown",
   "id": "2fb2a373",
   "metadata": {},
   "source": [
    "# 异常"
   ]
  },
  {
   "cell_type": "markdown",
   "id": "0b661fa4",
   "metadata": {},
   "source": [
    "在python编程中，会遇到各种错误、bug等意外情况。**异常（Exception）**是一种错误检测机制，Python 用它来处理程序运行中的异常情况，避免程序直接崩溃\n"
   ]
  },
  {
   "cell_type": "code",
   "execution_count": 13,
   "id": "1090585b",
   "metadata": {},
   "outputs": [
    {
     "ename": "ZeroDivisionError",
     "evalue": "division by zero",
     "output_type": "error",
     "traceback": [
      "\u001b[0;31m---------------------------------------------------------------------------\u001b[0m",
      "\u001b[0;31mZeroDivisionError\u001b[0m                         Traceback (most recent call last)",
      "Cell \u001b[0;32mIn[13], line 2\u001b[0m\n\u001b[1;32m      1\u001b[0m \u001b[38;5;66;03m# 如果没有异常，程序遇到错误会直接报错\u001b[39;00m\n\u001b[0;32m----> 2\u001b[0m \u001b[38;5;28mprint\u001b[39m(\u001b[38;5;241m10\u001b[39m \u001b[38;5;241m/\u001b[39m \u001b[38;5;241m0\u001b[39m)\n",
      "\u001b[0;31mZeroDivisionError\u001b[0m: division by zero"
     ]
    }
   ],
   "source": [
    "# 如果没有异常，程序遇到错误会直接报错\n",
    "print(10 / 0)  # 零除错误"
   ]
  },
  {
   "cell_type": "markdown",
   "id": "39d7b0d3",
   "metadata": {},
   "source": [
    "## 异常的捕获与处理"
   ]
  },
  {
   "cell_type": "markdown",
   "id": "c07cda6d",
   "metadata": {},
   "source": [
    "Python 提供了 try...except 语句来捕获和处理异常，防止程序直接崩溃"
   ]
  },
  {
   "cell_type": "code",
   "execution_count": 2,
   "id": "c07723bb",
   "metadata": {},
   "outputs": [],
   "source": [
    "# try:\n",
    "#     # 可能发生异常的代码\n",
    "#     risky_code()\n",
    "# except ExceptionType as e:\n",
    "#     # 处理异常的代码\n",
    "#     # 如果发生异常，则执行这部分代码\n",
    "#     print(f\"发生异常：{e}\")\n",
    "# else:\n",
    "#     # 如果没有发生异常，执行这部分代码\n",
    "#     print(\"没有异常发生！\")\n",
    "# finally:\n",
    "#     # 无论是否发生异常，这部分代码都会执行\n",
    "#     print(\"程序结束\")\n"
   ]
  },
  {
   "cell_type": "code",
   "execution_count": 29,
   "id": "524a6860",
   "metadata": {},
   "outputs": [
    {
     "name": "stdout",
     "output_type": "stream",
     "text": [
      "发生异常：division by zero\n"
     ]
    }
   ],
   "source": [
    "try:\n",
    "    print(10 / 0) # 如果没有异常捕获，则程序会直接报错\n",
    "except Exception as e: # Exception：捕获非特定的所有异常\n",
    "    print(f\"发生异常：{e}\")"
   ]
  },
  {
   "cell_type": "markdown",
   "id": "f534c564",
   "metadata": {},
   "source": [
    "## 异常的案例"
   ]
  },
  {
   "cell_type": "code",
   "execution_count": 25,
   "id": "fafb7436",
   "metadata": {},
   "outputs": [
    {
     "name": "stdout",
     "output_type": "stream",
     "text": [
      "计算结果是：2.0\n",
      "程序执行完毕！\n"
     ]
    }
   ],
   "source": [
    "# 没有错误，因此没有异常，正常执行\n",
    "try:\n",
    "    num = 5\n",
    "    result = 10 / num\n",
    "except ZeroDivisionError:        # ZeroDivisionError：除以零错误\n",
    "    print(\"不能除以零！\")\n",
    "except TypeError:                # TypeError：对不支持的操作类型（例如字符串和数字相加）触发\n",
    "    print(\"请输入一个有效的数字！\")\n",
    "else:\n",
    "    print(f\"计算结果是：{result}\") # 没有错误，正常执行\n",
    "finally:\n",
    "    print(\"程序执行完毕！\")\n"
   ]
  },
  {
   "cell_type": "code",
   "execution_count": 27,
   "id": "092b3f37",
   "metadata": {},
   "outputs": [
    {
     "name": "stdout",
     "output_type": "stream",
     "text": [
      "请输入一个有效的数字！\n",
      "程序执行完毕！\n"
     ]
    }
   ],
   "source": [
    "# TypeError：对不支持的操作类型（例如字符串和数字相加）触发\n",
    "try:\n",
    "    num = '5'\n",
    "    result = 10 / num\n",
    "except ZeroDivisionError:         # ZeroDivisionError：除以零错误\n",
    "    print(\"不能除以零！\")\n",
    "except TypeError:                 # TypeError：对不支持的操作类型（例如字符串和数字相加）触发\n",
    "    print(\"请输入一个有效的数字！\")\n",
    "else:\n",
    "    print(f\"计算结果是：{result}\") # 没有错误，正常执行\n",
    "finally:\n",
    "    print(\"程序执行完毕！\")\n"
   ]
  },
  {
   "cell_type": "code",
   "execution_count": 28,
   "id": "b2022265",
   "metadata": {},
   "outputs": [
    {
     "name": "stdout",
     "output_type": "stream",
     "text": [
      "不能除以零！\n",
      "程序执行完毕！\n"
     ]
    }
   ],
   "source": [
    "# ZeroDivisionError：除以零错误\n",
    "try:\n",
    "    num = 0\n",
    "    result = 10 / num\n",
    "except ZeroDivisionError:         # ZeroDivisionError：除以零错误\n",
    "    print(\"不能除以零！\")\n",
    "except TypeError:                 # TypeError：对不支持的操作类型（例如字符串和数字相加）触发\n",
    "    print(\"请输入一个有效的数字！\")\n",
    "else:\n",
    "    print(f\"计算结果是：{result}\") # 没有错误，正常执行\n",
    "finally:\n",
    "    print(\"程序执行完毕！\")\n"
   ]
  },
  {
   "cell_type": "markdown",
   "id": "894aeb11",
   "metadata": {},
   "source": [
    "## 异常的分类"
   ]
  },
  {
   "cell_type": "markdown",
   "id": "3af02dcc",
   "metadata": {},
   "source": [
    "| 异常类型             | 描述                                                       |\n",
    "|----------------------|----------------------------------------------------------|\n",
    "| `ZeroDivisionError`  | 除以零错误。                                               |\n",
    "| `IndexError`         | 列表或元组访问超出索引范围时触发。                           |\n",
    "| `KeyError`           | 在字典中查找一个不存在的键时触发。                           |\n",
    "| `ValueError`         | 函数接收到一个参数，但参数类型正确，但值无效。               |\n",
    "| `TypeError`          | 对不支持的操作类型（例如字符串和数字相加）触发。             |\n",
    "| `FileNotFoundError`  | 试图打开一个不存在的文件时触发。                             |\n",
    "| `AttributeError`     | 尝试访问对象不存在的属性时触发。                             |\n",
    "| `NameError`          | 使用了未定义的变量时触发。                                   |\n",
    "| `ImportError`        | 模块导入失败时触发。                                        |\n",
    "| `IOError`            | 输入输出操作失败时触发（已被合并到 OSError 中）。            |\n",
    "| `OSError`            | 操作系统相关错误（例如文件未找到、权限问题等）。             |\n",
    "| `MemoryError`        | 系统内存不足时触发。                                        |\n",
    "| `RuntimeError`       | 运行时发生的通用错误。                                      |\n"
   ]
  },
  {
   "cell_type": "code",
   "execution_count": null,
   "id": "b7b906cb",
   "metadata": {},
   "outputs": [],
   "source": []
  }
 ],
 "metadata": {
  "kernelspec": {
   "display_name": "Python 3 (ipykernel)",
   "language": "python",
   "name": "python3"
  },
  "language_info": {
   "codemirror_mode": {
    "name": "ipython",
    "version": 3
   },
   "file_extension": ".py",
   "mimetype": "text/x-python",
   "name": "python",
   "nbconvert_exporter": "python",
   "pygments_lexer": "ipython3",
   "version": "3.12.2"
  },
  "toc": {
   "base_numbering": 1,
   "nav_menu": {},
   "number_sections": true,
   "sideBar": true,
   "skip_h1_title": false,
   "title_cell": "Table of Contents",
   "title_sidebar": "Contents",
   "toc_cell": false,
   "toc_position": {
    "height": "calc(100% - 180px)",
    "left": "10px",
    "top": "150px",
    "width": "288px"
   },
   "toc_section_display": true,
   "toc_window_display": true
  }
 },
 "nbformat": 4,
 "nbformat_minor": 5
}
