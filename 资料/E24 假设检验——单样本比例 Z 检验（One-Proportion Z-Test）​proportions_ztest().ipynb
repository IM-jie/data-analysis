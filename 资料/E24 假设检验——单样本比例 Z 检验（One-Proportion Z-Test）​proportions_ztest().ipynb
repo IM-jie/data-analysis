{
 "cells": [
  {
   "cell_type": "markdown",
   "id": "b387b87a",
   "metadata": {},
   "source": [
    "# 单样本比例Z检验（One-Proportion Z-Test）"
   ]
  },
  {
   "cell_type": "markdown",
   "id": "73f5830d",
   "metadata": {},
   "source": [
    "## 基本概念\n",
    "**单样本比例Z检验**用于检验一个样本中某个事件发生的**比例（$\\hat{p}$）是否与某个已知或假设的总体比例（$p_0$）**有显著差异。\n",
    "\n",
    "常用于二项分布问题的正态近似检验，如：\n",
    "- 投票支持率 \n",
    "- 产品合格率 \n",
    "- 病毒感染率 \n",
    "- 满意度比例等 "
   ]
  },
  {
   "cell_type": "markdown",
   "id": "38bc928d",
   "metadata": {},
   "source": [
    "## z检验的适用场景\n",
    "**适用于大样本**：\n",
    "- Z检验适用于样本量较大（通常大于30）的情况\n",
    "- 对于小样本数据（尤其是样本量小于30的情况），Z检验的准确性较低，此时应使用 t 检验"
   ]
  },
  {
   "cell_type": "markdown",
   "id": "9855c345",
   "metadata": {},
   "source": [
    "## 零假设与备择假设\n",
    "- 单尾检验：\n",
    "    - 右尾检验：\n",
    "        - 零假设（$H_0$）：样本比例小于等于总体比例，即 $p <= p_0$。\n",
    "        - 备择假设（$H_1$）：样本比例大于总体比例，即$p > p_0$。\n",
    "    - 左尾检验：\n",
    "        - 零假设（$H_0$）：样本比例大于等于总体比例，即 $p >= p_0$。\n",
    "        - 备择假设（$H_1$）：样本比例小于总体比例，即$p < p_0$。\n",
    "- 双尾检验：\n",
    "    - 零假设（$H_0$）：样本比例等于总体比例，即 $p = p_0$。\n",
    "    - 备择假设（$H_1$）：样本比例不等于总体比例，即$p \\ne p_0$。"
   ]
  },
  {
   "cell_type": "markdown",
   "id": "7660bc3b",
   "metadata": {},
   "source": [
    "\n",
    "\n",
    "## 检验统计量\n",
    "检验统计量 $Z$ 的计算公式为：\n",
    "$$Z = \\frac{\\hat{p} - p_0}{\\sqrt{ \\frac{p_0 (1 - p_0)}{n} }}$$\n",
    "其中：\n",
    "- $p_0$：总体比例\n",
    "- $\\hat{p}$：样本比例\n",
    "- $n$：样本量"
   ]
  },
  {
   "cell_type": "markdown",
   "id": "5e25d2c2",
   "metadata": {},
   "source": [
    "## 步骤"
   ]
  },
  {
   "cell_type": "markdown",
   "id": "90e89773",
   "metadata": {},
   "source": [
    "Z检验基于标准正态分布（均值为0，标准差为1），通过将样本比例转化为$Z$统计量，衡量样本比例偏离总体比例的程度。$Z$统计量表示的是样本比例与总体比例之间的标准差单位数，从而帮助判断样本数据是否支持假设。\n",
    "假设检验的基本步骤包括：\n",
    "- **提出假设**：通常包括零假设（$H_0$）和备择假设（$H_1$）。\n",
    "- **计算$Z$统计量**：通过样本数据计算出$Z$统计量，$Z$统计量用来衡量样本比例与总体比例之间的差异。\n",
    "- **确定P值**：根据计算得到的Z统计量，我们可以使用标准正态分布表或统计软件来确定P值。P值是在零假设为真的情况下，观察到的样本结果或更极端结果出现的概率。\n",
    "- **做出决策**：\n",
    "    - 如果P值小于或等于显著性水平（α），我们拒绝零假设。\n",
    "    - 如果P值大于显著性水平（α），我们不能拒绝零假设。"
   ]
  },
  {
   "cell_type": "markdown",
   "id": "644d0101",
   "metadata": {},
   "source": [
    "# 单样本比例 Z 检验实际案例"
   ]
  },
  {
   "cell_type": "markdown",
   "id": "b78966fa",
   "metadata": {},
   "source": [
    "## 单尾检验"
   ]
  },
  {
   "cell_type": "markdown",
   "id": "3b700720",
   "metadata": {},
   "source": [
    "### 案例背景\n",
    "你是某电商平台的产品经理。你想测试新版本的“购买按钮”样式是否提高了用户点击率。\n",
    "- 历史数据显示，该按钮的点击率为 5%（即总体比例$p_0 = 0.05$）。 \n",
    "- 你将新按钮样式上线给 **一部分用户（B 组）**进行试验，记录了 1000 次曝光。 \n",
    "- 结果发现新按钮点击了 65 次，即观察到的点击率为$\\hat{p} = 0.065$。 \n",
    "你希望检验新样式是否显著提升了点击率，因此使用单尾检验（右尾）。"
   ]
  },
  {
   "cell_type": "markdown",
   "id": "600ecd2d",
   "metadata": {},
   "source": [
    "### 确定假设\n",
    "- **零假设（$H_0$）**：新按钮的点击率没有提升，即$p <= 0.05$\n",
    "- **备择假设（$H_1$）**：新按钮的点击率显著更高，即$p > 0.05$"
   ]
  },
  {
   "cell_type": "markdown",
   "id": "79d9f347",
   "metadata": {},
   "source": [
    "### 计算检验统计量\n",
    "采用单样本比例 Z 检验：\n",
    "$$Z = \\frac{\\hat{p} - p_0}{\\sqrt{\\frac{p_0 (1 - p_0)}{n}}}$$\n",
    "其中：\n",
    "- $\\hat{p} = 0.065$（样本点击率） \n",
    "- $p_0 = 0.05$（历史点击率） \n",
    "- $n$= 1000 "
   ]
  },
  {
   "cell_type": "markdown",
   "id": "9df68a50",
   "metadata": {},
   "source": [
    "### 代码实现"
   ]
  },
  {
   "cell_type": "markdown",
   "id": "ffb31502",
   "metadata": {},
   "source": [
    "#### 手工计算"
   ]
  },
  {
   "cell_type": "code",
   "execution_count": 6,
   "id": "dd042805",
   "metadata": {},
   "outputs": [
    {
     "name": "stdout",
     "output_type": "stream",
     "text": [
      "Z 值: 2.176\n",
      "单尾 p 值: 0.0148\n",
      "结论：新按钮点击率显著提升，拒绝原假设\n"
     ]
    }
   ],
   "source": [
    "import numpy as np\n",
    "from scipy.stats import norm\n",
    "\n",
    "# 参数设定\n",
    "p_0 = 0.05        # 历史点击率\n",
    "p_hat = 0.065     # 新版本点击率（65次点击 / 1000次曝光）\n",
    "n = 1000          # 曝光次数\n",
    "\n",
    "# Z 统计量计算\n",
    "standard_error = np.sqrt(p_0 * (1 - p_0) / n)\n",
    "z = (p_hat - p_0) / standard_error\n",
    "\n",
    "# 单尾 p 值（右尾检验）\n",
    "p_value = 1 - norm.cdf(z)\n",
    "\n",
    "# 输出结果\n",
    "print(f\"Z 值: {z:.3f}\")\n",
    "print(f\"单尾 p 值: {p_value:.4f}\")\n",
    "\n",
    "# 显著性判断\n",
    "alpha = 0.05\n",
    "if p_value < alpha:\n",
    "    print(\"结论：新按钮点击率显著提升，拒绝原假设\")\n",
    "else:\n",
    "    print(\"结论：点击率提升不显著，无法拒绝原假设\")\n"
   ]
  },
  {
   "cell_type": "markdown",
   "id": "818e396e",
   "metadata": {},
   "source": [
    "#### `proportions_ztest()`实现"
   ]
  },
  {
   "cell_type": "markdown",
   "id": "1b763cf4",
   "metadata": {},
   "source": [
    "`proportions_ztest()`\n",
    "- **输入参数**\n",
    "   - `count`: 成功次数\n",
    "       - 单样本检验: 直接传入成功次数\n",
    "       - 双样本检验: 传入数组$[count1, count2]$，分别代表两组样本的成功次数\n",
    "   - `nobs`: 总实验次数\n",
    "      - 单样本检验: 传入总试验次数\n",
    "      - 双样本检验: 传入数组$[nobs1, nobs2]$，分别代表两组样本的总试验次数\n",
    "   - `value`: 原假设的比例值或比例差异值\n",
    "       - 单样本检验：原假设的比例\n",
    "       - 双样本检验：两组比例的差异值\n",
    "   - `alternative`: 备择假设的类型\n",
    "       - `two-sided`：双尾检验（默认）\n",
    "       - `larger`：右尾检验（备择假设中检验参数是否显著大于某个值）\n",
    "       - `smaller`：左尾检验（备择假设中检验参数是否显著小于某个值）\n",
    "   - `prop_var`: 标准误差的计算方式\n",
    "       - `False (默认)`: 使用样本比例$\\hat{p}$计算标准误差\n",
    "       - 指定比例（如 0.05）: 使用指定值计算标准误差，一般使用原假设比例$p_0$\n",
    "- **输出返回值**\n",
    "    - `zstat`：Z 统计量（检验统计量）。\n",
    "    - `pvalue`：P 值"
   ]
  },
  {
   "cell_type": "code",
   "execution_count": 7,
   "id": "e08e6ed9",
   "metadata": {},
   "outputs": [
    {
     "name": "stdout",
     "output_type": "stream",
     "text": [
      "Z 值: 2.176\n",
      "单尾 p 值: 0.0148\n",
      "结论：新按钮点击率显著提升，拒绝原假设\n"
     ]
    }
   ],
   "source": [
    "from statsmodels.stats.proportion import proportions_ztest\n",
    "from statsmodels.stats.weightstats import ztest\n",
    "\n",
    "# 样本点击次数和样本总数\n",
    "count = 65     # 点击次数\n",
    "nobs = 1000    # 总曝光次数\n",
    "\n",
    "# 单尾检验（右尾）：H1: p > 0.05\n",
    "stat, pval = proportions_ztest(count, nobs, value=0.05, alternative='larger', prop_var=0.05)\n",
    "\n",
    "print(f\"Z 值: {stat:.3f}\")\n",
    "print(f\"单尾 p 值: {pval:.4f}\")\n",
    "\n",
    "# 显著性判断\n",
    "alpha = 0.05\n",
    "if pval < alpha:\n",
    "    print(\"结论：新按钮点击率显著提升，拒绝原假设\")\n",
    "else:\n",
    "    print(\"结论：点击率提升不显著，无法拒绝原假设\")"
   ]
  },
  {
   "cell_type": "markdown",
   "id": "d1c35841",
   "metadata": {},
   "source": [
    "## 双尾检验"
   ]
  },
  {
   "cell_type": "markdown",
   "id": "dc228a8a",
   "metadata": {},
   "source": [
    "### 案例背景"
   ]
  },
  {
   "cell_type": "markdown",
   "id": "55cc989d",
   "metadata": {},
   "source": [
    "你负责的产品团队上线了一个新结账页（变体 B）。为了确认它是否对用户行为造成任何显著影响（可能提升转化率，也可能降低），你运行了一个 AB 实验，仅用新版本（B）与历史数据比较：\n",
    "- 历史平均转化率：12% \n",
    "- 参与测试的用户：5000 人 \n",
    "- 其中 690 人完成订单（实际转化率 13.8%） "
   ]
  },
  {
   "cell_type": "markdown",
   "id": "6ceca468",
   "metadata": {},
   "source": [
    "### 确定假设"
   ]
  },
  {
   "cell_type": "markdown",
   "id": "f63613de",
   "metadata": {},
   "source": [
    "- **零假设（$H_0$）**：新页面没有改变转化率，即$p = 0.12$\n",
    "- **备择假设（$H_1$）**：新页面改变了转化率，即$p \\ne 0.12$"
   ]
  },
  {
   "cell_type": "markdown",
   "id": "cacf1529",
   "metadata": {},
   "source": [
    "### 计算检验统计量"
   ]
  },
  {
   "cell_type": "markdown",
   "id": "f98f40cd",
   "metadata": {},
   "source": [
    "采用单样本比例 Z 检验：\n",
    "$$Z = \\frac{\\hat{p} - p_0}{\\sqrt{\\frac{p_0 (1 - p_0)}{n}}}$$\n",
    "其中：\n",
    "- $\\hat{p} = 0.138$（样本点击率） \n",
    "- $p_0 = 0.12$（历史点击率） \n",
    "- $n$= 5000"
   ]
  },
  {
   "cell_type": "markdown",
   "id": "a37e710f",
   "metadata": {},
   "source": [
    "### 代码实现"
   ]
  },
  {
   "cell_type": "markdown",
   "id": "e12467cc",
   "metadata": {},
   "source": [
    "#### 手工计算"
   ]
  },
  {
   "cell_type": "code",
   "execution_count": 8,
   "id": "66acd292",
   "metadata": {},
   "outputs": [
    {
     "name": "stdout",
     "output_type": "stream",
     "text": [
      "Z 统计量: 3.9167\n",
      "p 值（双尾）: 0.0001\n",
      "结论：拒绝原假设，转化率发生了显著变化\n"
     ]
    }
   ],
   "source": [
    "import math\n",
    "from scipy.stats import norm\n",
    "\n",
    "# 输入数据\n",
    "x = 690           # 成功数\n",
    "n = 5000          # 样本数\n",
    "p0 = 0.12         # 原假设比例\n",
    "phat = x / n      # 样本比例\n",
    "\n",
    "# 计算标准误差（SE）\n",
    "se = math.sqrt(p0 * (1 - p0) / n)\n",
    "\n",
    "# 计算 Z 值\n",
    "z = (phat - p0) / se\n",
    "\n",
    "# 计算 p 值（双尾）\n",
    "p_value = 2 * (1 - norm.cdf(abs(z)))\n",
    "\n",
    "# 输出结果\n",
    "print(f\"Z 统计量: {z:.4f}\")\n",
    "print(f\"p 值（双尾）: {p_value:.4f}\")\n",
    "\n",
    "# 判断是否拒绝原假设\n",
    "alpha = 0.05\n",
    "if p_value < alpha:\n",
    "    print(\"结论：拒绝原假设，转化率发生了显著变化\")\n",
    "else:\n",
    "    print(\"结论：不能拒绝原假设，未发现显著变化\")"
   ]
  },
  {
   "cell_type": "markdown",
   "id": "534776e6",
   "metadata": {},
   "source": [
    "#### `proportions_ztest()`实现"
   ]
  },
  {
   "cell_type": "code",
   "execution_count": 10,
   "id": "7b5a4b81",
   "metadata": {},
   "outputs": [
    {
     "name": "stdout",
     "output_type": "stream",
     "text": [
      "Z 统计量: 3.9167\n",
      "p 值: 0.0001\n",
      "结论：拒绝原假设，转化率发生了显著变化（变高或变低）\n"
     ]
    }
   ],
   "source": [
    "from statsmodels.stats.proportion import proportions_ztest\n",
    "\n",
    "# 输入数据\n",
    "count = 690         # 成功用户数\n",
    "nobs = 5000        # 样本总数\n",
    "\n",
    "# 执行双尾 z 检验\n",
    "z_stat, p_value = proportions_ztest(\n",
    "    count, \n",
    "    nobs, \n",
    "    value=0.12, \n",
    "    alternative='two-sided',   # ⬅️ 双尾\n",
    "    prop_var=0.12\n",
    ")\n",
    "\n",
    "# 输出结果\n",
    "print(f\"Z 统计量: {z_stat:.4f}\")\n",
    "print(f\"p 值: {p_value:.4f}\")\n",
    "\n",
    "alpha = 0.05\n",
    "if p_value < alpha:\n",
    "    print(\"结论：拒绝原假设，转化率发生了显著变化（变高或变低）\")\n",
    "else:\n",
    "    print(\"结论：不能拒绝原假设，未观察到显著变化\")"
   ]
  },
  {
   "cell_type": "code",
   "execution_count": null,
   "id": "bf6c9e8e",
   "metadata": {},
   "outputs": [],
   "source": []
  },
  {
   "cell_type": "code",
   "execution_count": null,
   "id": "a1755342",
   "metadata": {},
   "outputs": [],
   "source": []
  },
  {
   "cell_type": "code",
   "execution_count": null,
   "id": "62228ed1",
   "metadata": {},
   "outputs": [],
   "source": []
  }
 ],
 "metadata": {
  "kernelspec": {
   "display_name": "Python 3 (ipykernel)",
   "language": "python",
   "name": "python3"
  },
  "language_info": {
   "codemirror_mode": {
    "name": "ipython",
    "version": 3
   },
   "file_extension": ".py",
   "mimetype": "text/x-python",
   "name": "python",
   "nbconvert_exporter": "python",
   "pygments_lexer": "ipython3",
   "version": "3.12.2"
  },
  "toc": {
   "base_numbering": 1,
   "nav_menu": {},
   "number_sections": true,
   "sideBar": true,
   "skip_h1_title": false,
   "title_cell": "Table of Contents",
   "title_sidebar": "Contents",
   "toc_cell": false,
   "toc_position": {
    "height": "calc(100% - 180px)",
    "left": "10px",
    "top": "150px",
    "width": "288px"
   },
   "toc_section_display": true,
   "toc_window_display": true
  }
 },
 "nbformat": 4,
 "nbformat_minor": 5
}
