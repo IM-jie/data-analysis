{
 "cells": [
  {
   "cell_type": "markdown",
   "id": "e3713583",
   "metadata": {},
   "source": [
    "# datetime"
   ]
  },
  {
   "cell_type": "markdown",
   "id": "b14e7b8c",
   "metadata": {},
   "source": [
    "在数据分析中，日期和时间是常见的数据类型，本小节将讲解DataFrame中使用datetime包处理日期和时间数据"
   ]
  },
  {
   "cell_type": "markdown",
   "id": "49302e62",
   "metadata": {},
   "source": [
    "## pd.to_datetime()将字符串日期转为 datetime 类型"
   ]
  },
  {
   "cell_type": "markdown",
   "id": "3b294d82",
   "metadata": {},
   "source": [
    "在DataFrame中，日期通常以字符串格式存储。需要先将这些字符串转换为 datetime 类型，才能进行时间运算和其他操作"
   ]
  },
  {
   "cell_type": "markdown",
   "id": "ef6cb5eb",
   "metadata": {},
   "source": [
    "**pd.to_datetime(arg, format)**：\n",
    "- arg: 要转换为 datetime 的对象\n",
    "- format: 指定日期字符串的格式"
   ]
  },
  {
   "cell_type": "code",
   "execution_count": 1,
   "id": "ac54730b",
   "metadata": {},
   "outputs": [
    {
     "data": {
      "text/plain": [
       "0    2023-01-01\n",
       "1    2023-01-02\n",
       "2    2023-01-03\n",
       "Name: Date, dtype: object"
      ]
     },
     "execution_count": 1,
     "metadata": {},
     "output_type": "execute_result"
    }
   ],
   "source": [
    "import pandas as pd\n",
    "\n",
    "# 创建一个示例 DataFrame，日期以字符串表示\n",
    "data = {'Date': ['2023-01-01', '2023-01-02', '2023-01-03'], 'Value': [100, 200, 300]}\n",
    "df = pd.DataFrame(data)\n",
    "df['Date']"
   ]
  },
  {
   "cell_type": "code",
   "execution_count": 2,
   "id": "e5aedd39",
   "metadata": {},
   "outputs": [
    {
     "data": {
      "text/plain": [
       "0   2023-01-01\n",
       "1   2023-01-02\n",
       "2   2023-01-03\n",
       "Name: Date, dtype: datetime64[ns]"
      ]
     },
     "execution_count": 2,
     "metadata": {},
     "output_type": "execute_result"
    }
   ],
   "source": [
    "# 将 'Date' 列转换为 datetime 类型\n",
    "df['Date'] = pd.to_datetime(df['Date'])\n",
    "df['Date']"
   ]
  },
  {
   "cell_type": "markdown",
   "id": "414a45b3",
   "metadata": {},
   "source": [
    "**format指定日期字符串的格式**"
   ]
  },
  {
   "cell_type": "markdown",
   "id": "18f77e82",
   "metadata": {},
   "source": [
    "- `%Y`：四位年份（例如2024）\n",
    "- `%m`：月份（01到12）\n",
    "- `%d`：日（01到31）\n",
    "- `%H`：小时（00到23）\n",
    "- `%M`：分钟（00到59）\n",
    "- `%S`：秒（00到59）"
   ]
  },
  {
   "cell_type": "code",
   "execution_count": 3,
   "id": "a8ea8cc5",
   "metadata": {},
   "outputs": [
    {
     "data": {
      "text/plain": [
       "Timestamp('2023-01-31 00:00:00')"
      ]
     },
     "execution_count": 3,
     "metadata": {},
     "output_type": "execute_result"
    }
   ],
   "source": [
    "pd.to_datetime(\"31-01-2023\", format=\"%d-%m-%Y\")"
   ]
  },
  {
   "cell_type": "markdown",
   "id": "eee30feb",
   "metadata": {},
   "source": [
    "## .dt提取日期和时间信息"
   ]
  },
  {
   "cell_type": "markdown",
   "id": "6fe9b03d",
   "metadata": {},
   "source": [
    "转换为 datetime 类型后，可以提取年、月、日、时等信息，用于后续分析"
   ]
  },
  {
   "cell_type": "code",
   "execution_count": 4,
   "id": "b364f544",
   "metadata": {},
   "outputs": [
    {
     "data": {
      "text/html": [
       "<div>\n",
       "<style scoped>\n",
       "    .dataframe tbody tr th:only-of-type {\n",
       "        vertical-align: middle;\n",
       "    }\n",
       "\n",
       "    .dataframe tbody tr th {\n",
       "        vertical-align: top;\n",
       "    }\n",
       "\n",
       "    .dataframe thead th {\n",
       "        text-align: right;\n",
       "    }\n",
       "</style>\n",
       "<table border=\"1\" class=\"dataframe\">\n",
       "  <thead>\n",
       "    <tr style=\"text-align: right;\">\n",
       "      <th></th>\n",
       "      <th>Date</th>\n",
       "    </tr>\n",
       "  </thead>\n",
       "  <tbody>\n",
       "    <tr>\n",
       "      <th>0</th>\n",
       "      <td>2023-01-01 10:30:00</td>\n",
       "    </tr>\n",
       "    <tr>\n",
       "      <th>1</th>\n",
       "      <td>2023-01-02 15:45:00</td>\n",
       "    </tr>\n",
       "    <tr>\n",
       "      <th>2</th>\n",
       "      <td>2023-01-03 08:15:00</td>\n",
       "    </tr>\n",
       "  </tbody>\n",
       "</table>\n",
       "</div>"
      ],
      "text/plain": [
       "                  Date\n",
       "0  2023-01-01 10:30:00\n",
       "1  2023-01-02 15:45:00\n",
       "2  2023-01-03 08:15:00"
      ]
     },
     "execution_count": 4,
     "metadata": {},
     "output_type": "execute_result"
    }
   ],
   "source": [
    "data = {'Date': ['2023-01-01 10:30:00', '2023-01-02 15:45:00', '2023-01-03 08:15:00']}\n",
    "df = pd.DataFrame(data)\n",
    "df"
   ]
  },
  {
   "cell_type": "code",
   "execution_count": 5,
   "id": "bd48b00f",
   "metadata": {},
   "outputs": [
    {
     "data": {
      "text/html": [
       "<div>\n",
       "<style scoped>\n",
       "    .dataframe tbody tr th:only-of-type {\n",
       "        vertical-align: middle;\n",
       "    }\n",
       "\n",
       "    .dataframe tbody tr th {\n",
       "        vertical-align: top;\n",
       "    }\n",
       "\n",
       "    .dataframe thead th {\n",
       "        text-align: right;\n",
       "    }\n",
       "</style>\n",
       "<table border=\"1\" class=\"dataframe\">\n",
       "  <thead>\n",
       "    <tr style=\"text-align: right;\">\n",
       "      <th></th>\n",
       "      <th>Date</th>\n",
       "      <th>Year</th>\n",
       "      <th>Month</th>\n",
       "      <th>Day</th>\n",
       "      <th>Hour</th>\n",
       "      <th>Minute</th>\n",
       "      <th>Second</th>\n",
       "    </tr>\n",
       "  </thead>\n",
       "  <tbody>\n",
       "    <tr>\n",
       "      <th>0</th>\n",
       "      <td>2023-01-01 10:30:00</td>\n",
       "      <td>2023</td>\n",
       "      <td>1</td>\n",
       "      <td>1</td>\n",
       "      <td>10</td>\n",
       "      <td>30</td>\n",
       "      <td>0</td>\n",
       "    </tr>\n",
       "    <tr>\n",
       "      <th>1</th>\n",
       "      <td>2023-01-02 15:45:00</td>\n",
       "      <td>2023</td>\n",
       "      <td>1</td>\n",
       "      <td>2</td>\n",
       "      <td>15</td>\n",
       "      <td>45</td>\n",
       "      <td>0</td>\n",
       "    </tr>\n",
       "    <tr>\n",
       "      <th>2</th>\n",
       "      <td>2023-01-03 08:15:00</td>\n",
       "      <td>2023</td>\n",
       "      <td>1</td>\n",
       "      <td>3</td>\n",
       "      <td>8</td>\n",
       "      <td>15</td>\n",
       "      <td>0</td>\n",
       "    </tr>\n",
       "  </tbody>\n",
       "</table>\n",
       "</div>"
      ],
      "text/plain": [
       "                 Date  Year  Month  Day  Hour  Minute  Second\n",
       "0 2023-01-01 10:30:00  2023      1    1    10      30       0\n",
       "1 2023-01-02 15:45:00  2023      1    2    15      45       0\n",
       "2 2023-01-03 08:15:00  2023      1    3     8      15       0"
      ]
     },
     "execution_count": 5,
     "metadata": {},
     "output_type": "execute_result"
    }
   ],
   "source": [
    "# 转换为 datetime 类型\n",
    "df['Date'] = pd.to_datetime(df['Date'])\n",
    "\n",
    "# 提取年、月、日信息\n",
    "df['Year'] = df['Date'].dt.year\n",
    "df['Month'] = df['Date'].dt.month\n",
    "df['Day'] = df['Date'].dt.day\n",
    "\n",
    "# 提取时间部分\n",
    "df['Hour'] = df['Date'].dt.hour\n",
    "df['Minute'] = df['Date'].dt.minute\n",
    "df['Second'] = df['Date'].dt.second\n",
    "\n",
    "df"
   ]
  },
  {
   "cell_type": "markdown",
   "id": "514c0822",
   "metadata": {},
   "source": [
    "## 按日期过滤数据"
   ]
  },
  {
   "cell_type": "markdown",
   "id": "2f87ca82",
   "metadata": {},
   "source": [
    "可以使用布尔索引或日期范围过滤数据"
   ]
  },
  {
   "cell_type": "code",
   "execution_count": 6,
   "id": "52205206",
   "metadata": {},
   "outputs": [
    {
     "data": {
      "text/html": [
       "<div>\n",
       "<style scoped>\n",
       "    .dataframe tbody tr th:only-of-type {\n",
       "        vertical-align: middle;\n",
       "    }\n",
       "\n",
       "    .dataframe tbody tr th {\n",
       "        vertical-align: top;\n",
       "    }\n",
       "\n",
       "    .dataframe thead th {\n",
       "        text-align: right;\n",
       "    }\n",
       "</style>\n",
       "<table border=\"1\" class=\"dataframe\">\n",
       "  <thead>\n",
       "    <tr style=\"text-align: right;\">\n",
       "      <th></th>\n",
       "      <th>Date</th>\n",
       "      <th>Value</th>\n",
       "    </tr>\n",
       "  </thead>\n",
       "  <tbody>\n",
       "    <tr>\n",
       "      <th>0</th>\n",
       "      <td>2023-01-01</td>\n",
       "      <td>100</td>\n",
       "    </tr>\n",
       "    <tr>\n",
       "      <th>1</th>\n",
       "      <td>2023-01-02</td>\n",
       "      <td>200</td>\n",
       "    </tr>\n",
       "    <tr>\n",
       "      <th>2</th>\n",
       "      <td>2023-01-03</td>\n",
       "      <td>300</td>\n",
       "    </tr>\n",
       "    <tr>\n",
       "      <th>3</th>\n",
       "      <td>2023-01-04</td>\n",
       "      <td>400</td>\n",
       "    </tr>\n",
       "  </tbody>\n",
       "</table>\n",
       "</div>"
      ],
      "text/plain": [
       "        Date  Value\n",
       "0 2023-01-01    100\n",
       "1 2023-01-02    200\n",
       "2 2023-01-03    300\n",
       "3 2023-01-04    400"
      ]
     },
     "execution_count": 6,
     "metadata": {},
     "output_type": "execute_result"
    }
   ],
   "source": [
    "# 示例数据\n",
    "data = {'Date': ['2023-01-01', '2023-01-02', '2023-01-03', '2023-01-04'],\n",
    "        'Value': [100, 200, 300, 400]}\n",
    "df = pd.DataFrame(data)\n",
    "\n",
    "# 转换为 datetime 类型\n",
    "df['Date'] = pd.to_datetime(df['Date'])\n",
    "\n",
    "df"
   ]
  },
  {
   "cell_type": "code",
   "execution_count": 7,
   "id": "7f1eefa4",
   "metadata": {},
   "outputs": [
    {
     "data": {
      "text/html": [
       "<div>\n",
       "<style scoped>\n",
       "    .dataframe tbody tr th:only-of-type {\n",
       "        vertical-align: middle;\n",
       "    }\n",
       "\n",
       "    .dataframe tbody tr th {\n",
       "        vertical-align: top;\n",
       "    }\n",
       "\n",
       "    .dataframe thead th {\n",
       "        text-align: right;\n",
       "    }\n",
       "</style>\n",
       "<table border=\"1\" class=\"dataframe\">\n",
       "  <thead>\n",
       "    <tr style=\"text-align: right;\">\n",
       "      <th></th>\n",
       "      <th>Date</th>\n",
       "      <th>Value</th>\n",
       "    </tr>\n",
       "  </thead>\n",
       "  <tbody>\n",
       "    <tr>\n",
       "      <th>1</th>\n",
       "      <td>2023-01-02</td>\n",
       "      <td>200</td>\n",
       "    </tr>\n",
       "    <tr>\n",
       "      <th>2</th>\n",
       "      <td>2023-01-03</td>\n",
       "      <td>300</td>\n",
       "    </tr>\n",
       "  </tbody>\n",
       "</table>\n",
       "</div>"
      ],
      "text/plain": [
       "        Date  Value\n",
       "1 2023-01-02    200\n",
       "2 2023-01-03    300"
      ]
     },
     "execution_count": 7,
     "metadata": {},
     "output_type": "execute_result"
    }
   ],
   "source": [
    "# 过滤日期范围为 2023-01-02 至 2023-01-03 的数据\n",
    "filtered_df = df[(df['Date'] >= '2023-01-02') & (df['Date'] <= '2023-01-03')]\n",
    "filtered_df"
   ]
  },
  {
   "cell_type": "markdown",
   "id": "b3da5592",
   "metadata": {},
   "source": [
    "## 日期计算与时间差"
   ]
  },
  {
   "cell_type": "markdown",
   "id": "c30bf264",
   "metadata": {},
   "source": [
    "Pandas 支持基于 datetime 类型进行加减操作（依赖 timedelta）"
   ]
  },
  {
   "cell_type": "markdown",
   "id": "3fc1e794",
   "metadata": {},
   "source": [
    "### +-计算时间差"
   ]
  },
  {
   "cell_type": "code",
   "execution_count": 8,
   "id": "733c8029",
   "metadata": {},
   "outputs": [
    {
     "data": {
      "text/html": [
       "<div>\n",
       "<style scoped>\n",
       "    .dataframe tbody tr th:only-of-type {\n",
       "        vertical-align: middle;\n",
       "    }\n",
       "\n",
       "    .dataframe tbody tr th {\n",
       "        vertical-align: top;\n",
       "    }\n",
       "\n",
       "    .dataframe thead th {\n",
       "        text-align: right;\n",
       "    }\n",
       "</style>\n",
       "<table border=\"1\" class=\"dataframe\">\n",
       "  <thead>\n",
       "    <tr style=\"text-align: right;\">\n",
       "      <th></th>\n",
       "      <th>Start</th>\n",
       "      <th>End</th>\n",
       "    </tr>\n",
       "  </thead>\n",
       "  <tbody>\n",
       "    <tr>\n",
       "      <th>0</th>\n",
       "      <td>2023-01-01</td>\n",
       "      <td>2023-01-03</td>\n",
       "    </tr>\n",
       "    <tr>\n",
       "      <th>1</th>\n",
       "      <td>2023-01-02</td>\n",
       "      <td>2023-01-05</td>\n",
       "    </tr>\n",
       "  </tbody>\n",
       "</table>\n",
       "</div>"
      ],
      "text/plain": [
       "       Start        End\n",
       "0 2023-01-01 2023-01-03\n",
       "1 2023-01-02 2023-01-05"
      ]
     },
     "execution_count": 8,
     "metadata": {},
     "output_type": "execute_result"
    }
   ],
   "source": [
    "# 示例数据\n",
    "data = {'Start': ['2023-01-01', '2023-01-02'], 'End': ['2023-01-03', '2023-01-05']}\n",
    "df = pd.DataFrame(data)\n",
    "\n",
    "# 转换为 datetime 类型\n",
    "df['Start'] = pd.to_datetime(df['Start'])\n",
    "df['End'] = pd.to_datetime(df['End'])\n",
    "\n",
    "df"
   ]
  },
  {
   "cell_type": "code",
   "execution_count": 9,
   "id": "0e6ee333",
   "metadata": {},
   "outputs": [
    {
     "data": {
      "text/html": [
       "<div>\n",
       "<style scoped>\n",
       "    .dataframe tbody tr th:only-of-type {\n",
       "        vertical-align: middle;\n",
       "    }\n",
       "\n",
       "    .dataframe tbody tr th {\n",
       "        vertical-align: top;\n",
       "    }\n",
       "\n",
       "    .dataframe thead th {\n",
       "        text-align: right;\n",
       "    }\n",
       "</style>\n",
       "<table border=\"1\" class=\"dataframe\">\n",
       "  <thead>\n",
       "    <tr style=\"text-align: right;\">\n",
       "      <th></th>\n",
       "      <th>Start</th>\n",
       "      <th>End</th>\n",
       "      <th>Duration</th>\n",
       "    </tr>\n",
       "  </thead>\n",
       "  <tbody>\n",
       "    <tr>\n",
       "      <th>0</th>\n",
       "      <td>2023-01-01</td>\n",
       "      <td>2023-01-03</td>\n",
       "      <td>2 days</td>\n",
       "    </tr>\n",
       "    <tr>\n",
       "      <th>1</th>\n",
       "      <td>2023-01-02</td>\n",
       "      <td>2023-01-05</td>\n",
       "      <td>3 days</td>\n",
       "    </tr>\n",
       "  </tbody>\n",
       "</table>\n",
       "</div>"
      ],
      "text/plain": [
       "       Start        End Duration\n",
       "0 2023-01-01 2023-01-03   2 days\n",
       "1 2023-01-02 2023-01-05   3 days"
      ]
     },
     "execution_count": 9,
     "metadata": {},
     "output_type": "execute_result"
    }
   ],
   "source": [
    "# 计算时间差\n",
    "df['Duration'] = df['End'] - df['Start']\n",
    "df"
   ]
  },
  {
   "cell_type": "markdown",
   "id": "055fd9f8",
   "metadata": {},
   "source": [
    "### pd.Timedelta()向日期加减时间"
   ]
  },
  {
   "cell_type": "markdown",
   "id": "e73bb2e9",
   "metadata": {},
   "source": [
    "* `weeks`：周\n",
    "* `days`：日\n",
    "* `hours`：小时\n",
    "* `minutes`：分钟\n",
    "* `seconds`：秒"
   ]
  },
  {
   "cell_type": "code",
   "execution_count": 10,
   "id": "b8ca0a04",
   "metadata": {},
   "outputs": [
    {
     "data": {
      "text/html": [
       "<div>\n",
       "<style scoped>\n",
       "    .dataframe tbody tr th:only-of-type {\n",
       "        vertical-align: middle;\n",
       "    }\n",
       "\n",
       "    .dataframe tbody tr th {\n",
       "        vertical-align: top;\n",
       "    }\n",
       "\n",
       "    .dataframe thead th {\n",
       "        text-align: right;\n",
       "    }\n",
       "</style>\n",
       "<table border=\"1\" class=\"dataframe\">\n",
       "  <thead>\n",
       "    <tr style=\"text-align: right;\">\n",
       "      <th></th>\n",
       "      <th>Start</th>\n",
       "      <th>End</th>\n",
       "      <th>Duration</th>\n",
       "      <th>Start_plus_5days</th>\n",
       "    </tr>\n",
       "  </thead>\n",
       "  <tbody>\n",
       "    <tr>\n",
       "      <th>0</th>\n",
       "      <td>2023-01-01</td>\n",
       "      <td>2023-01-03</td>\n",
       "      <td>2 days</td>\n",
       "      <td>2023-01-10 05:10:00</td>\n",
       "    </tr>\n",
       "    <tr>\n",
       "      <th>1</th>\n",
       "      <td>2023-01-02</td>\n",
       "      <td>2023-01-05</td>\n",
       "      <td>3 days</td>\n",
       "      <td>2023-01-11 05:10:00</td>\n",
       "    </tr>\n",
       "  </tbody>\n",
       "</table>\n",
       "</div>"
      ],
      "text/plain": [
       "       Start        End Duration    Start_plus_5days\n",
       "0 2023-01-01 2023-01-03   2 days 2023-01-10 05:10:00\n",
       "1 2023-01-02 2023-01-05   3 days 2023-01-11 05:10:00"
      ]
     },
     "execution_count": 10,
     "metadata": {},
     "output_type": "execute_result"
    }
   ],
   "source": [
    "# 添加或减去天数\n",
    "df['Start_plus_5days'] = df['Start'] + pd.Timedelta(weeks=1, days=2, hours=5,minutes=10)\n",
    "df"
   ]
  },
  {
   "cell_type": "markdown",
   "id": "20600c8b",
   "metadata": {},
   "source": [
    "## 按日期分组"
   ]
  },
  {
   "cell_type": "markdown",
   "id": "0e8d5af1",
   "metadata": {},
   "source": [
    "可以使用日期的年月日等信息对数据分组"
   ]
  },
  {
   "cell_type": "code",
   "execution_count": 11,
   "id": "8b283112",
   "metadata": {},
   "outputs": [
    {
     "data": {
      "text/html": [
       "<div>\n",
       "<style scoped>\n",
       "    .dataframe tbody tr th:only-of-type {\n",
       "        vertical-align: middle;\n",
       "    }\n",
       "\n",
       "    .dataframe tbody tr th {\n",
       "        vertical-align: top;\n",
       "    }\n",
       "\n",
       "    .dataframe thead th {\n",
       "        text-align: right;\n",
       "    }\n",
       "</style>\n",
       "<table border=\"1\" class=\"dataframe\">\n",
       "  <thead>\n",
       "    <tr style=\"text-align: right;\">\n",
       "      <th></th>\n",
       "      <th>Date</th>\n",
       "      <th>Value</th>\n",
       "    </tr>\n",
       "  </thead>\n",
       "  <tbody>\n",
       "    <tr>\n",
       "      <th>0</th>\n",
       "      <td>2023-01-01</td>\n",
       "      <td>100</td>\n",
       "    </tr>\n",
       "    <tr>\n",
       "      <th>1</th>\n",
       "      <td>2023-01-02</td>\n",
       "      <td>200</td>\n",
       "    </tr>\n",
       "    <tr>\n",
       "      <th>2</th>\n",
       "      <td>2023-02-01</td>\n",
       "      <td>300</td>\n",
       "    </tr>\n",
       "    <tr>\n",
       "      <th>3</th>\n",
       "      <td>2023-02-03</td>\n",
       "      <td>400</td>\n",
       "    </tr>\n",
       "  </tbody>\n",
       "</table>\n",
       "</div>"
      ],
      "text/plain": [
       "        Date  Value\n",
       "0 2023-01-01    100\n",
       "1 2023-01-02    200\n",
       "2 2023-02-01    300\n",
       "3 2023-02-03    400"
      ]
     },
     "execution_count": 11,
     "metadata": {},
     "output_type": "execute_result"
    }
   ],
   "source": [
    "# 示例数据\n",
    "data = {'Date': ['2023-01-01', '2023-01-02', '2023-02-01', '2023-02-03'],\n",
    "        'Value': [100, 200, 300, 400]}\n",
    "df = pd.DataFrame(data)\n",
    "\n",
    "# 转换为 datetime 类型\n",
    "df['Date'] = pd.to_datetime(df['Date'])\n",
    "df"
   ]
  },
  {
   "cell_type": "code",
   "execution_count": 12,
   "id": "4ff3afb4",
   "metadata": {},
   "outputs": [
    {
     "data": {
      "text/plain": [
       "Month\n",
       "1    300\n",
       "2    700\n",
       "Name: Value, dtype: int64"
      ]
     },
     "execution_count": 12,
     "metadata": {},
     "output_type": "execute_result"
    }
   ],
   "source": [
    "# 提取月份并按月份分组\n",
    "df['Month'] = df['Date'].dt.month\n",
    "grouped = df.groupby('Month')['Value'].sum()\n",
    "\n",
    "grouped"
   ]
  },
  {
   "cell_type": "markdown",
   "id": "c6f210aa",
   "metadata": {},
   "source": [
    "## 设置和操作时间索引"
   ]
  },
  {
   "cell_type": "markdown",
   "id": "f3286f6e",
   "metadata": {},
   "source": [
    "Pandas 支持将日期设置为索引，用于高效的时间序列操作"
   ]
  },
  {
   "cell_type": "code",
   "execution_count": 13,
   "id": "afc65849",
   "metadata": {},
   "outputs": [
    {
     "data": {
      "text/html": [
       "<div>\n",
       "<style scoped>\n",
       "    .dataframe tbody tr th:only-of-type {\n",
       "        vertical-align: middle;\n",
       "    }\n",
       "\n",
       "    .dataframe tbody tr th {\n",
       "        vertical-align: top;\n",
       "    }\n",
       "\n",
       "    .dataframe thead th {\n",
       "        text-align: right;\n",
       "    }\n",
       "</style>\n",
       "<table border=\"1\" class=\"dataframe\">\n",
       "  <thead>\n",
       "    <tr style=\"text-align: right;\">\n",
       "      <th></th>\n",
       "      <th>Date</th>\n",
       "      <th>Value</th>\n",
       "    </tr>\n",
       "  </thead>\n",
       "  <tbody>\n",
       "    <tr>\n",
       "      <th>0</th>\n",
       "      <td>2023-01-01</td>\n",
       "      <td>100</td>\n",
       "    </tr>\n",
       "    <tr>\n",
       "      <th>1</th>\n",
       "      <td>2023-01-02</td>\n",
       "      <td>200</td>\n",
       "    </tr>\n",
       "    <tr>\n",
       "      <th>2</th>\n",
       "      <td>2023-01-03</td>\n",
       "      <td>300</td>\n",
       "    </tr>\n",
       "  </tbody>\n",
       "</table>\n",
       "</div>"
      ],
      "text/plain": [
       "         Date  Value\n",
       "0  2023-01-01    100\n",
       "1  2023-01-02    200\n",
       "2  2023-01-03    300"
      ]
     },
     "execution_count": 13,
     "metadata": {},
     "output_type": "execute_result"
    }
   ],
   "source": [
    "# 示例数据\n",
    "data = {'Date': ['2023-01-01', '2023-01-02', '2023-01-03'], 'Value': [100, 200, 300]}\n",
    "df = pd.DataFrame(data)\n",
    "df"
   ]
  },
  {
   "cell_type": "code",
   "execution_count": 14,
   "id": "bd24fcf9",
   "metadata": {},
   "outputs": [
    {
     "data": {
      "text/html": [
       "<div>\n",
       "<style scoped>\n",
       "    .dataframe tbody tr th:only-of-type {\n",
       "        vertical-align: middle;\n",
       "    }\n",
       "\n",
       "    .dataframe tbody tr th {\n",
       "        vertical-align: top;\n",
       "    }\n",
       "\n",
       "    .dataframe thead th {\n",
       "        text-align: right;\n",
       "    }\n",
       "</style>\n",
       "<table border=\"1\" class=\"dataframe\">\n",
       "  <thead>\n",
       "    <tr style=\"text-align: right;\">\n",
       "      <th></th>\n",
       "      <th>Value</th>\n",
       "    </tr>\n",
       "    <tr>\n",
       "      <th>Date</th>\n",
       "      <th></th>\n",
       "    </tr>\n",
       "  </thead>\n",
       "  <tbody>\n",
       "    <tr>\n",
       "      <th>2023-01-01</th>\n",
       "      <td>100</td>\n",
       "    </tr>\n",
       "    <tr>\n",
       "      <th>2023-01-02</th>\n",
       "      <td>200</td>\n",
       "    </tr>\n",
       "    <tr>\n",
       "      <th>2023-01-03</th>\n",
       "      <td>300</td>\n",
       "    </tr>\n",
       "  </tbody>\n",
       "</table>\n",
       "</div>"
      ],
      "text/plain": [
       "            Value\n",
       "Date             \n",
       "2023-01-01    100\n",
       "2023-01-02    200\n",
       "2023-01-03    300"
      ]
     },
     "execution_count": 14,
     "metadata": {},
     "output_type": "execute_result"
    }
   ],
   "source": [
    "# 将日期列设置为索引\n",
    "df['Date'] = pd.to_datetime(df['Date'])\n",
    "df.set_index('Date', inplace=True)\n",
    "df"
   ]
  },
  {
   "cell_type": "code",
   "execution_count": 15,
   "id": "23703352",
   "metadata": {},
   "outputs": [
    {
     "data": {
      "text/plain": [
       "Value    200\n",
       "Name: 2023-01-02 00:00:00, dtype: int64"
      ]
     },
     "execution_count": 15,
     "metadata": {},
     "output_type": "execute_result"
    }
   ],
   "source": [
    "# 将日期列设置为索引\n",
    "# 筛选 2023 年 1 月 2 日的数据\n",
    "filtered = df.loc['2023-01-02']\n",
    "filtered"
   ]
  },
  {
   "cell_type": "markdown",
   "id": "264dc4a6",
   "metadata": {},
   "source": [
    "## strptime与strftime"
   ]
  },
  {
   "cell_type": "markdown",
   "id": "804287fc",
   "metadata": {},
   "source": [
    "### 格式化字符串"
   ]
  },
  {
   "cell_type": "markdown",
   "id": "c098a8ac",
   "metadata": {},
   "source": [
    "- `%Y`：四位年份（例如2024）\n",
    "- `%m`：月份（01到12）\n",
    "- `%d`：日（01到31）\n",
    "- `%H`：小时（00到23）\n",
    "- `%M`：分钟（00到59）\n",
    "- `%S`：秒（00到59）\n",
    "- `%I`：12 小时制的小时\n",
    "- `%p`：AM 或 PM"
   ]
  },
  {
   "cell_type": "markdown",
   "id": "eb5f3ad0",
   "metadata": {},
   "source": [
    "### strptime"
   ]
  },
  {
   "cell_type": "markdown",
   "id": "5ce1eb10",
   "metadata": {},
   "source": [
    "strptime 用于将 时间字符串 转换为 datetime 对象"
   ]
  },
  {
   "cell_type": "code",
   "execution_count": 16,
   "id": "13194b6a",
   "metadata": {},
   "outputs": [
    {
     "data": {
      "text/html": [
       "<div>\n",
       "<style scoped>\n",
       "    .dataframe tbody tr th:only-of-type {\n",
       "        vertical-align: middle;\n",
       "    }\n",
       "\n",
       "    .dataframe tbody tr th {\n",
       "        vertical-align: top;\n",
       "    }\n",
       "\n",
       "    .dataframe thead th {\n",
       "        text-align: right;\n",
       "    }\n",
       "</style>\n",
       "<table border=\"1\" class=\"dataframe\">\n",
       "  <thead>\n",
       "    <tr style=\"text-align: right;\">\n",
       "      <th></th>\n",
       "      <th>date_str</th>\n",
       "    </tr>\n",
       "  </thead>\n",
       "  <tbody>\n",
       "    <tr>\n",
       "      <th>0</th>\n",
       "      <td>2025-01-01 10:00:00</td>\n",
       "    </tr>\n",
       "    <tr>\n",
       "      <th>1</th>\n",
       "      <td>2025-01-02 12:30:00</td>\n",
       "    </tr>\n",
       "    <tr>\n",
       "      <th>2</th>\n",
       "      <td>2025-01-03 15:45:00</td>\n",
       "    </tr>\n",
       "  </tbody>\n",
       "</table>\n",
       "</div>"
      ],
      "text/plain": [
       "              date_str\n",
       "0  2025-01-01 10:00:00\n",
       "1  2025-01-02 12:30:00\n",
       "2  2025-01-03 15:45:00"
      ]
     },
     "execution_count": 16,
     "metadata": {},
     "output_type": "execute_result"
    }
   ],
   "source": [
    "import pandas as pd\n",
    "from datetime import datetime\n",
    "\n",
    "# 将时间字符串解析为 datetime\n",
    "data = {\n",
    "    'date_str': ['2025-01-01 10:00:00', '2025-01-02 12:30:00', '2025-01-03 15:45:00']\n",
    "}\n",
    "df = pd.DataFrame(data)\n",
    "df"
   ]
  },
  {
   "cell_type": "code",
   "execution_count": 17,
   "id": "42de394e",
   "metadata": {},
   "outputs": [
    {
     "data": {
      "text/html": [
       "<div>\n",
       "<style scoped>\n",
       "    .dataframe tbody tr th:only-of-type {\n",
       "        vertical-align: middle;\n",
       "    }\n",
       "\n",
       "    .dataframe tbody tr th {\n",
       "        vertical-align: top;\n",
       "    }\n",
       "\n",
       "    .dataframe thead th {\n",
       "        text-align: right;\n",
       "    }\n",
       "</style>\n",
       "<table border=\"1\" class=\"dataframe\">\n",
       "  <thead>\n",
       "    <tr style=\"text-align: right;\">\n",
       "      <th></th>\n",
       "      <th>date_str</th>\n",
       "      <th>parsed_date</th>\n",
       "    </tr>\n",
       "  </thead>\n",
       "  <tbody>\n",
       "    <tr>\n",
       "      <th>0</th>\n",
       "      <td>2025-01-01 10:00:00</td>\n",
       "      <td>2025-01-01 10:00:00</td>\n",
       "    </tr>\n",
       "    <tr>\n",
       "      <th>1</th>\n",
       "      <td>2025-01-02 12:30:00</td>\n",
       "      <td>2025-01-02 12:30:00</td>\n",
       "    </tr>\n",
       "    <tr>\n",
       "      <th>2</th>\n",
       "      <td>2025-01-03 15:45:00</td>\n",
       "      <td>2025-01-03 15:45:00</td>\n",
       "    </tr>\n",
       "  </tbody>\n",
       "</table>\n",
       "</div>"
      ],
      "text/plain": [
       "              date_str         parsed_date\n",
       "0  2025-01-01 10:00:00 2025-01-01 10:00:00\n",
       "1  2025-01-02 12:30:00 2025-01-02 12:30:00\n",
       "2  2025-01-03 15:45:00 2025-01-03 15:45:00"
      ]
     },
     "execution_count": 17,
     "metadata": {},
     "output_type": "execute_result"
    }
   ],
   "source": [
    "# 使用 strptime 将时间字符串解析为 datetime 对象\n",
    "df['parsed_date'] = df['date_str'].apply(lambda x: datetime.strptime(x, '%Y-%m-%d %H:%M:%S'))\n",
    "df"
   ]
  },
  {
   "cell_type": "code",
   "execution_count": 18,
   "id": "a7b1ba48",
   "metadata": {},
   "outputs": [
    {
     "data": {
      "text/plain": [
       "date_str               object\n",
       "parsed_date    datetime64[ns]\n",
       "dtype: object"
      ]
     },
     "execution_count": 18,
     "metadata": {},
     "output_type": "execute_result"
    }
   ],
   "source": [
    "df.dtypes"
   ]
  },
  {
   "cell_type": "markdown",
   "id": "90016592",
   "metadata": {},
   "source": [
    "### strftime"
   ]
  },
  {
   "cell_type": "markdown",
   "id": "a8596f37",
   "metadata": {},
   "source": [
    "strftime 用于将 datetime 对象 转换为指定格式的 时间字符串"
   ]
  },
  {
   "cell_type": "code",
   "execution_count": 19,
   "id": "3d3997af",
   "metadata": {},
   "outputs": [
    {
     "data": {
      "text/html": [
       "<div>\n",
       "<style scoped>\n",
       "    .dataframe tbody tr th:only-of-type {\n",
       "        vertical-align: middle;\n",
       "    }\n",
       "\n",
       "    .dataframe tbody tr th {\n",
       "        vertical-align: top;\n",
       "    }\n",
       "\n",
       "    .dataframe thead th {\n",
       "        text-align: right;\n",
       "    }\n",
       "</style>\n",
       "<table border=\"1\" class=\"dataframe\">\n",
       "  <thead>\n",
       "    <tr style=\"text-align: right;\">\n",
       "      <th></th>\n",
       "      <th>date_str</th>\n",
       "      <th>parsed_date</th>\n",
       "      <th>formatted_date</th>\n",
       "    </tr>\n",
       "  </thead>\n",
       "  <tbody>\n",
       "    <tr>\n",
       "      <th>0</th>\n",
       "      <td>2025-01-01 10:00:00</td>\n",
       "      <td>2025-01-01 10:00:00</td>\n",
       "      <td>01/01/2025 10:00 AM</td>\n",
       "    </tr>\n",
       "    <tr>\n",
       "      <th>1</th>\n",
       "      <td>2025-01-02 12:30:00</td>\n",
       "      <td>2025-01-02 12:30:00</td>\n",
       "      <td>02/01/2025 12:30 PM</td>\n",
       "    </tr>\n",
       "    <tr>\n",
       "      <th>2</th>\n",
       "      <td>2025-01-03 15:45:00</td>\n",
       "      <td>2025-01-03 15:45:00</td>\n",
       "      <td>03/01/2025 03:45 PM</td>\n",
       "    </tr>\n",
       "  </tbody>\n",
       "</table>\n",
       "</div>"
      ],
      "text/plain": [
       "              date_str         parsed_date       formatted_date\n",
       "0  2025-01-01 10:00:00 2025-01-01 10:00:00  01/01/2025 10:00 AM\n",
       "1  2025-01-02 12:30:00 2025-01-02 12:30:00  02/01/2025 12:30 PM\n",
       "2  2025-01-03 15:45:00 2025-01-03 15:45:00  03/01/2025 03:45 PM"
      ]
     },
     "execution_count": 19,
     "metadata": {},
     "output_type": "execute_result"
    }
   ],
   "source": [
    "# 使格式化时间为指定字符串\n",
    "df['formatted_date'] = df['parsed_date'].apply(lambda x: x.strftime('%d/%m/%Y %I:%M %p'))\n",
    "df"
   ]
  },
  {
   "cell_type": "code",
   "execution_count": 20,
   "id": "ce82598b",
   "metadata": {},
   "outputs": [
    {
     "data": {
      "text/plain": [
       "date_str                  object\n",
       "parsed_date       datetime64[ns]\n",
       "formatted_date            object\n",
       "dtype: object"
      ]
     },
     "execution_count": 20,
     "metadata": {},
     "output_type": "execute_result"
    }
   ],
   "source": [
    "df.dtypes"
   ]
  },
  {
   "cell_type": "markdown",
   "id": "a2c0c94b",
   "metadata": {},
   "source": [
    "## datetime.now()获取当前时间"
   ]
  },
  {
   "cell_type": "code",
   "execution_count": 21,
   "id": "a2ceba7e",
   "metadata": {},
   "outputs": [
    {
     "data": {
      "text/plain": [
       "datetime.datetime(2025, 2, 11, 20, 53, 47, 740885)"
      ]
     },
     "execution_count": 21,
     "metadata": {},
     "output_type": "execute_result"
    }
   ],
   "source": [
    "from datetime import datetime\n",
    "now = datetime.now()\n",
    "now"
   ]
  },
  {
   "cell_type": "code",
   "execution_count": 22,
   "id": "8805d59d",
   "metadata": {},
   "outputs": [
    {
     "name": "stdout",
     "output_type": "stream",
     "text": [
      "格式化后的日期和时间： 2025-02-11 20:53:47\n"
     ]
    }
   ],
   "source": [
    "# 格式化日期和时间\n",
    "formatted_now = now.strftime(\"%Y-%m-%d %H:%M:%S\")\n",
    "print(\"格式化后的日期和时间：\", formatted_now)"
   ]
  },
  {
   "cell_type": "code",
   "execution_count": null,
   "id": "6d67dd73",
   "metadata": {},
   "outputs": [],
   "source": []
  },
  {
   "cell_type": "code",
   "execution_count": null,
   "id": "262f97d1",
   "metadata": {},
   "outputs": [],
   "source": []
  },
  {
   "cell_type": "code",
   "execution_count": null,
   "id": "fff6c459",
   "metadata": {},
   "outputs": [],
   "source": []
  }
 ],
 "metadata": {
  "kernelspec": {
   "display_name": "Python 3 (ipykernel)",
   "language": "python",
   "name": "python3"
  },
  "language_info": {
   "codemirror_mode": {
    "name": "ipython",
    "version": 3
   },
   "file_extension": ".py",
   "mimetype": "text/x-python",
   "name": "python",
   "nbconvert_exporter": "python",
   "pygments_lexer": "ipython3",
   "version": "3.12.2"
  },
  "toc": {
   "base_numbering": 1,
   "nav_menu": {},
   "number_sections": true,
   "sideBar": true,
   "skip_h1_title": false,
   "title_cell": "Table of Contents",
   "title_sidebar": "Contents",
   "toc_cell": false,
   "toc_position": {
    "height": "calc(100% - 180px)",
    "left": "10px",
    "top": "150px",
    "width": "288px"
   },
   "toc_section_display": true,
   "toc_window_display": true
  }
 },
 "nbformat": 4,
 "nbformat_minor": 5
}
