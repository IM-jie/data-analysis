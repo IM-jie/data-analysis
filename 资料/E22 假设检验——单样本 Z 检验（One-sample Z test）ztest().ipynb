{
 "cells": [
  {
   "cell_type": "markdown",
   "id": "b387b87a",
   "metadata": {},
   "source": [
    "# 单样本Z检验（One-sample Z test）"
   ]
  },
  {
   "cell_type": "markdown",
   "id": "e18caebf",
   "metadata": {},
   "source": [
    "## 基本概念\n",
    "**单样本Z检验**用于判断**单个样本均值**是否与**已知总体均值**存在统计学差异，要求总体标准差σ已知或样本量足够大（n≥30）。\n",
    "\n",
    "单样本Z检验的核心思想是通过计算标准正态分布的Z统计量，评估样本均值与总体均值的偏离程度。"
   ]
  },
  {
   "cell_type": "markdown",
   "id": "d5aec2b0",
   "metadata": {},
   "source": [
    "## z检验的适用场景\n",
    "**适用于大样本**：\n",
    "- Z检验适用于样本量较大（通常大于30）的情况\n",
    "- 对于小样本数据（尤其是样本量小于30的情况），Z检验的准确性较低，此时应使用 t 检验"
   ]
  },
  {
   "cell_type": "markdown",
   "id": "9855c345",
   "metadata": {},
   "source": [
    "## 零假设与备择假设\n",
    "- 单尾检验：\n",
    "    - 右尾检验：\n",
    "        - 零假设（$H_0$）：样本均值小于等于总体均值，即 $\\mu <= \\mu_0$。\n",
    "        - 备择假设（$H_1$）：样本均值大于总体均值，即$\\mu > \\mu_0$。\n",
    "    - 左尾检验：\n",
    "        - 零假设（$H_0$）：样本均值大于等于总体均值，即 $\\mu >= \\mu_0$。\n",
    "        - 备择假设（$H_1$）：样本均值小于总体均值，即$\\mu < \\mu_0$。\n",
    "- 双尾检验：\n",
    "    - 零假设（$H_0$）：样本均值等于总体均值，即 $\\mu = \\mu_0$。\n",
    "    - 备择假设（$H_1$）：样本均值不等于总体均值，即$\\mu \\ne \\mu_0$。"
   ]
  },
  {
   "cell_type": "markdown",
   "id": "7660bc3b",
   "metadata": {},
   "source": [
    "## 检验统计量\n",
    "检验统计量 $Z$ 的计算公式为：\n",
    "$$Z = \\frac{\\bar{X} - \\mu_0}{\\sigma/\\sqrt{n}}$$\n",
    "其中：\n",
    "- $\\bar{X}$：样本均值\n",
    "- $\\mu_0$：总体均值\n",
    "- $\\sigma$：总体标准差\n",
    "- $n$：样本量"
   ]
  },
  {
   "cell_type": "markdown",
   "id": "5e25d2c2",
   "metadata": {},
   "source": [
    "## 步骤"
   ]
  },
  {
   "cell_type": "markdown",
   "id": "90e89773",
   "metadata": {},
   "source": [
    "Z检验基于标准正态分布（均值为0，标准差为1），通过将样本均值转化为$Z$统计量，衡量样本均值偏离总体均值的程度。$Z$统计量表示的是样本均值与总体均值之间的标准差单位数，从而帮助判断样本数据是否支持假设。\n",
    "假设检验的基本步骤包括：\n",
    "- **提出假设**：零假设（$H_0$）和备择假设（$H_1$）。\n",
    "- **计算$Z$统计量**：通过样本数据计算出$Z$统计量，$Z$统计量用来衡量样本均值与总体均值之间的差异。\n",
    "- **确定P值**：根据计算得到的Z统计量，我们可以使用标准正态分布表或统计软件来确定P值。P值是在零假设为真的情况下，观察到的样本结果或更极端结果出现的概率。\n",
    "- **做出决策**：\n",
    "    - 如果P值小于或等于显著性水平（α），我们拒绝零假设。\n",
    "    - 如果P值大于显著性水平（α），我们不能拒绝零假设。"
   ]
  },
  {
   "cell_type": "markdown",
   "id": "644d0101",
   "metadata": {},
   "source": [
    "# 单样本 Z 检验实际案例"
   ]
  },
  {
   "cell_type": "markdown",
   "id": "b78966fa",
   "metadata": {},
   "source": [
    "## 单尾检验"
   ]
  },
  {
   "cell_type": "markdown",
   "id": "3b700720",
   "metadata": {},
   "source": [
    "### 案例背景\n",
    "某内容平台对文章详情页进行了布局优化（新版UI），希望验证 ​​新版页面的用户平均停留时间是否显著长于​​ 历史基准值 ​​120秒​​（单尾检验）。\n",
    "\n",
    "- 历史基准均值（μ₀）: 120秒\n",
    "- 新版本实验数据: `sample = [141.2, 120.7, 135.5, 155.3, 116.8, 125.9, 134.6, 102.3, 145.8, 130.1,\n",
    " 119.4, 108.7, 132.2, 153.9, 124.5, 139.7, 111.2, 128.6, 147.3, 118.9,\n",
    " 122.4, 136.8, 143.1, 95.8, 129.5, 142.7, 115.3, 131.9, 149.2, 107.6,\n",
    " 126.3, 138.4, 152.1, 113.7, 127.8, 144.6, 121.5, 133.2, 104.9, 137.5]`"
   ]
  },
  {
   "cell_type": "markdown",
   "id": "600ecd2d",
   "metadata": {},
   "source": [
    "### 确定假设\n",
    "- **零假设（$H_0$）**：新版停留时间 ≤ 120秒，即$\\mu <= 120$\n",
    "- **备择假设（$H_1$）**：新版停留时间 > 120秒，即$\\mu > 120$"
   ]
  },
  {
   "cell_type": "markdown",
   "id": "79d9f347",
   "metadata": {},
   "source": [
    "### 计算检验统计量\n",
    "采用单样本 Z 检验：\n",
    "$$Z = \\frac{\\bar{X} - \\mu_0}{\\sigma/\\sqrt{n}} = \\frac{\\bar{X} - \\mu_0}{s/\\sqrt{n-1}}$$"
   ]
  },
  {
   "cell_type": "markdown",
   "id": "9df68a50",
   "metadata": {},
   "source": [
    "### 代码实现"
   ]
  },
  {
   "cell_type": "markdown",
   "id": "7f34d79f",
   "metadata": {},
   "source": [
    "#### 手工计算"
   ]
  },
  {
   "cell_type": "code",
   "execution_count": 6,
   "id": "8e9254de",
   "metadata": {},
   "outputs": [
    {
     "name": "stdout",
     "output_type": "stream",
     "text": [
      "样本均值: 129.1725\n",
      "Z 值: 3.895\n",
      "单尾 p 值: 0.0000\n",
      "结论：新版停留时间 > 120秒，拒绝原假设\n"
     ]
    }
   ],
   "source": [
    "import numpy as np\n",
    "from scipy.stats import norm\n",
    "\n",
    "sample = [141.2, 120.7, 135.5, 155.3, 116.8, 125.9, 134.6, 102.3, 145.8, 130.1,\n",
    " 119.4, 108.7, 132.2, 153.9, 124.5, 139.7, 111.2, 128.6, 147.3, 118.9,\n",
    " 122.4, 136.8, 143.1, 95.8, 129.5, 142.7, 115.3, 131.9, 149.2, 107.6,\n",
    " 126.3, 138.4, 152.1, 113.7, 127.8, 144.6, 121.5, 133.2, 104.9, 137.5]\n",
    "\n",
    "# 输入数据\n",
    "mu_0 = 120       # 历史基准均值（秒）\n",
    "x_bar = np.mean(sample)      # 样本均值（秒）\n",
    "sigma = np.std(sample)      # 总体标准差（秒），使用样本标准差近似（n>30大样本情况下可以这样操作）\n",
    "n = len(sample)          # 样本量\n",
    "\n",
    "# Z 统计量计算\n",
    "z_score = (x_bar - mu_0) / (sigma / np.sqrt(n-1))\n",
    "\n",
    "# 单尾 p 值（右尾检验）\n",
    "p_value = 1 - norm.cdf(z_score)\n",
    "\n",
    "# 输出结果\n",
    "print(f\"样本均值: {x_bar:.4f}\")\n",
    "print(f\"Z 值: {z_score:.3f}\")\n",
    "print(f\"单尾 p 值: {p_value:.4f}\")\n",
    "\n",
    "# 显著性判断\n",
    "alpha = 0.05\n",
    "if p_value < alpha:\n",
    "    print(\"结论：新版停留时间 > 120秒，拒绝原假设\")\n",
    "else:\n",
    "    print(\"结论：新版停留时间 ≤ 120秒，无法拒绝原假设\")"
   ]
  },
  {
   "cell_type": "markdown",
   "id": "68fcc623",
   "metadata": {},
   "source": [
    "#### `ztest`实现"
   ]
  },
  {
   "cell_type": "markdown",
   "id": "1b763cf4",
   "metadata": {},
   "source": [
    "`ztest()`\n",
    "   - `x1`: 第一个样本的数据\n",
    "       - 如果是单样本检验，只需提供 x1\n",
    "   - `x2`: 第二个样本的数据(用于双样本检验)\n",
    "   - `value`: 检验的假设值\n",
    "       - 单样本检验：检验均值是否等于 value\n",
    "       - 双样本检验：检验 x1均值 - x2均值 是否等于 value\n",
    "   - `alternative`: 备择假设的类型\n",
    "       - `two-sided`：双尾检验（默认）\n",
    "       - `larger`：右尾检验（备择假设中检验参数是否显著大于某个值）\n",
    "       - `smaller`：左尾检验（备择假设中检验参数是否显著小于某个值）\n",
    "   - `usevar`: 如何计算方差\n",
    "       - `pooled (默认)`: 使用合并方差\n",
    "       - `unequal`: 使用不等方差\n",
    "   - `ddof`: 自由度的调整值。默认值1.0(样本标准差的无偏估计)\n",
    "       "
   ]
  },
  {
   "cell_type": "code",
   "execution_count": 8,
   "id": "1a6ec831",
   "metadata": {},
   "outputs": [
    {
     "name": "stdout",
     "output_type": "stream",
     "text": [
      "样本均值: 129.1725\n",
      "Z 值: 3.895\n",
      "单尾 p 值: 0.0000\n",
      "结论：新版停留时间 > 120秒，拒绝原假设\n"
     ]
    }
   ],
   "source": [
    "from statsmodels.stats.proportion import proportions_ztest\n",
    "from statsmodels.stats.weightstats import ztest\n",
    "\n",
    "# 使用statsmodels进行单样本Z检验\n",
    "# alternative='two-sided'表示双尾检验\n",
    "z_stat, p_value = ztest(sample, value=120, alternative='larger')\n",
    "\n",
    "print(f\"样本均值: {x_bar:.4f}\")\n",
    "print(f\"Z 值: {z_stat:.3f}\")\n",
    "print(f\"单尾 p 值: {p_value:.4f}\")\n",
    "\n",
    "# 显著性判断\n",
    "alpha = 0.05\n",
    "if p_value < alpha:\n",
    "    print(\"结论：新版停留时间 > 120秒，拒绝原假设\")\n",
    "else:\n",
    "    print(\"结论：新版停留时间 ≤ 120秒，无法拒绝原假设\")"
   ]
  },
  {
   "cell_type": "markdown",
   "id": "d1c35841",
   "metadata": {},
   "source": [
    "## 双尾检验"
   ]
  },
  {
   "cell_type": "markdown",
   "id": "54c27524",
   "metadata": {},
   "source": [
    "### 案例背景"
   ]
  },
  {
   "cell_type": "markdown",
   "id": "e24e4f90",
   "metadata": {},
   "source": [
    "某电商平台优化了商品详情页的服务器配置，希望验证新配置的页面加载时间是否与历史基准2.5秒存在显著差异（双尾检验）。\n",
    "\n",
    "- 历史基准加载时间: 2.5 秒\n",
    "- 新配置实验数据:\n",
    "`sample = [\n",
    "    2.3, 2.4, 2.2, 2.5, 2.6, 2.3, 2.1, 2.4, 2.5, 2.3,\n",
    "    2.2, 2.6, 2.4, 2.3, 2.5, 2.3, 2.4, 2.6, 2.2, 2.1,\n",
    "    2.3, 2.5, 2.4, 2.2, 2.6, 2.4, 2.3, 2.2, 2.5, 2.3,\n",
    "    2.4, 2.6, 2.3, 2.2, 2.5, 2.3, 2.4, 2.1, 2.3, 2.4\n",
    "]`"
   ]
  },
  {
   "cell_type": "markdown",
   "id": "d219e994",
   "metadata": {},
   "source": [
    "### 确定假设\n",
    "- **零假设（$H_0$）**：新配置加载时间 = 2.5秒，即$\\mu = 2.5$\n",
    "- **备择假设（$H_1$）**：新配置加载时间 ≠ 2.5秒，即$\\mu \\ne 2.5$"
   ]
  },
  {
   "cell_type": "markdown",
   "id": "8c0fc37e",
   "metadata": {},
   "source": [
    "### 计算检验统计量\n",
    "采用单样本比例 Z 检验：\n",
    "$$Z = \\frac{\\bar{X} - \\mu_0}{\\sigma/\\sqrt{n}} = \\frac{\\bar{X} - \\mu_0}{s/\\sqrt{n-1}}$$"
   ]
  },
  {
   "cell_type": "markdown",
   "id": "97d18321",
   "metadata": {},
   "source": [
    "### 代码实现"
   ]
  },
  {
   "cell_type": "markdown",
   "id": "ae79f62a",
   "metadata": {},
   "source": [
    "#### 手工计算"
   ]
  },
  {
   "cell_type": "code",
   "execution_count": 9,
   "id": "b0ab774a",
   "metadata": {},
   "outputs": [
    {
     "name": "stdout",
     "output_type": "stream",
     "text": [
      "样本均值: 2.3600\n",
      "Z统计量: -6.1213\n",
      "P值: 0.0000\n",
      "结论：页面加载时间与历史基准有显著差异（拒绝H₀）\n"
     ]
    }
   ],
   "source": [
    "import numpy as np\n",
    "from scipy.stats import norm\n",
    "sample = [\n",
    "    2.3, 2.4, 2.2, 2.5, 2.6, 2.3, 2.1, 2.4, 2.5, 2.3,\n",
    "    2.2, 2.6, 2.4, 2.3, 2.5, 2.3, 2.4, 2.6, 2.2, 2.1,\n",
    "    2.3, 2.5, 2.4, 2.2, 2.6, 2.4, 2.3, 2.2, 2.5, 2.3,\n",
    "    2.4, 2.6, 2.3, 2.2, 2.5, 2.3, 2.4, 2.1, 2.3, 2.4\n",
    "]\n",
    "\n",
    "# 输入数据\n",
    "mu_0 = 2.5       # 历史基准均值（秒）\n",
    "x_bar = np.mean(sample)      # 样本均值（秒）\n",
    "sigma = np.std(sample)      # 总体标准差（秒），使用样本标准差近似（n>30大样本情况下可以这样操作）\n",
    "n = len(sample)          # 样本量\n",
    "\n",
    "# 计算Z统计量\n",
    "z_score = (x_bar - mu_0) / (sigma / np.sqrt(n-1))\n",
    "\n",
    "# 计算双尾P值\n",
    "p_value = 2 * norm.sf(np.abs(z_score))\n",
    "\n",
    "# 输出结果\n",
    "print(f\"样本均值: {x_bar:.4f}\")\n",
    "print(f\"Z统计量: {z_score:.4f}\")\n",
    "print(f\"P值: {p_value:.4f}\")\n",
    "\n",
    "# 显著性判断（α=0.05）\n",
    "alpha = 0.05\n",
    "if p_value < alpha:\n",
    "    print(\"结论：页面加载时间与历史基准有显著差异（拒绝H₀）\")\n",
    "else:\n",
    "    print(\"结论：无显著差异（无法拒绝H₀）\")"
   ]
  },
  {
   "cell_type": "markdown",
   "id": "96d4b7b6",
   "metadata": {},
   "source": [
    "#### `ztest`实现"
   ]
  },
  {
   "cell_type": "code",
   "execution_count": 10,
   "id": "378ed206",
   "metadata": {},
   "outputs": [
    {
     "name": "stdout",
     "output_type": "stream",
     "text": [
      "Z统计量: -6.1213\n",
      "P值: 0.0000\n",
      "结论：页面加载时间与历史基准有显著差异（拒绝H₀）\n"
     ]
    }
   ],
   "source": [
    "import numpy as np\n",
    "from statsmodels.stats.weightstats import ztest\n",
    "\n",
    "# 使用statsmodels进行单样本Z检验\n",
    "# value参数指定原假设的均值（μ₀=2.5）\n",
    "# alternative='two-sided'表示双尾检验\n",
    "z_stat, p_value = ztest(sample, value=2.5, alternative='two-sided', ddof=1)\n",
    "\n",
    "# 输出结果\n",
    "print(f\"Z统计量: {z_stat:.4f}\")\n",
    "print(f\"P值: {p_value:.4f}\")\n",
    "\n",
    "# 显著性判断（α=0.05）\n",
    "alpha = 0.05\n",
    "if p_value < alpha:\n",
    "    print(\"结论：页面加载时间与历史基准有显著差异（拒绝H₀）\")\n",
    "else:\n",
    "    print(\"结论：无显著差异（无法拒绝H₀）\")"
   ]
  },
  {
   "cell_type": "code",
   "execution_count": null,
   "id": "3beb9909",
   "metadata": {},
   "outputs": [],
   "source": []
  },
  {
   "cell_type": "code",
   "execution_count": null,
   "id": "5bfe577b",
   "metadata": {},
   "outputs": [],
   "source": []
  },
  {
   "cell_type": "code",
   "execution_count": null,
   "id": "13e2efbe",
   "metadata": {},
   "outputs": [],
   "source": []
  }
 ],
 "metadata": {
  "kernelspec": {
   "display_name": "Python 3 (ipykernel)",
   "language": "python",
   "name": "python3"
  },
  "language_info": {
   "codemirror_mode": {
    "name": "ipython",
    "version": 3
   },
   "file_extension": ".py",
   "mimetype": "text/x-python",
   "name": "python",
   "nbconvert_exporter": "python",
   "pygments_lexer": "ipython3",
   "version": "3.12.2"
  },
  "toc": {
   "base_numbering": 1,
   "nav_menu": {},
   "number_sections": true,
   "sideBar": true,
   "skip_h1_title": false,
   "title_cell": "Table of Contents",
   "title_sidebar": "Contents",
   "toc_cell": false,
   "toc_position": {
    "height": "calc(100% - 180px)",
    "left": "10px",
    "top": "150px",
    "width": "288px"
   },
   "toc_section_display": true,
   "toc_window_display": true
  }
 },
 "nbformat": 4,
 "nbformat_minor": 5
}
