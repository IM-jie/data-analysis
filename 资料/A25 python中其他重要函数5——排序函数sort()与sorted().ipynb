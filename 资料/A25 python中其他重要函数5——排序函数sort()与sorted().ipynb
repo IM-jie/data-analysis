{
 "cells": [
  {
   "cell_type": "markdown",
   "id": "b9b84d06",
   "metadata": {},
   "source": [
    "# **sort(key, reverse)**"
   ]
  },
  {
   "cell_type": "markdown",
   "id": "e5071c8a",
   "metadata": {},
   "source": [
    "对列表进行原地排序，改变原始数据"
   ]
  },
  {
   "cell_type": "markdown",
   "id": "79a408b6",
   "metadata": {},
   "source": [
    "- **key**：用于从每个元素中提取排序键的函数\n",
    "- **reverse**：\n",
    "    - False：升序排序。默认值    \n",
    "    - True：降序排序"
   ]
  },
  {
   "cell_type": "markdown",
   "id": "b5266de9",
   "metadata": {},
   "source": [
    "## reverse"
   ]
  },
  {
   "cell_type": "code",
   "execution_count": 19,
   "id": "b2d12bb2",
   "metadata": {},
   "outputs": [
    {
     "data": {
      "text/plain": [
       "[7, 7, 6, 6, 5, 3, 3, 2, 1, 1]"
      ]
     },
     "execution_count": 19,
     "metadata": {},
     "output_type": "execute_result"
    }
   ],
   "source": [
    "nums = [3,1,5,6,2,3,6,7,1,7]\n",
    "nums.sort(reverse=True)\n",
    "nums"
   ]
  },
  {
   "cell_type": "markdown",
   "id": "7036bb67",
   "metadata": {},
   "source": [
    "## key"
   ]
  },
  {
   "cell_type": "code",
   "execution_count": 20,
   "id": "b317e2a1",
   "metadata": {},
   "outputs": [
    {
     "data": {
      "text/plain": [
       "['date', 'apple', 'banana', 'cherry']"
      ]
     },
     "execution_count": 20,
     "metadata": {},
     "output_type": "execute_result"
    }
   ],
   "source": [
    "words = ['apple', 'banana', 'cherry', 'date']\n",
    "# 按字符串的长度排序\n",
    "words.sort(key=len)\n",
    "words"
   ]
  },
  {
   "cell_type": "code",
   "execution_count": 21,
   "id": "f70cf0dd",
   "metadata": {},
   "outputs": [
    {
     "data": {
      "text/plain": [
       "[{'name': 'Charlie', 'score': 78},\n",
       " {'name': 'Alice', 'score': 85},\n",
       " {'name': 'David', 'score': 88},\n",
       " {'name': 'Bob', 'score': 92}]"
      ]
     },
     "execution_count": 21,
     "metadata": {},
     "output_type": "execute_result"
    }
   ],
   "source": [
    "students = [\n",
    "    {'name': 'Alice', 'score': 85},\n",
    "    {'name': 'Bob', 'score': 92},\n",
    "    {'name': 'Charlie', 'score': 78},\n",
    "    {'name': 'David', 'score': 88}\n",
    "]\n",
    "# 按照 'score' 字段排序\n",
    "students.sort(key=lambda x: x['score'])\n",
    "students"
   ]
  },
  {
   "cell_type": "code",
   "execution_count": 22,
   "id": "4ab78631",
   "metadata": {},
   "outputs": [
    {
     "data": {
      "text/plain": [
       "[{'name': 'Alice', 'score': 85},\n",
       " {'name': 'Charlie', 'score': 85},\n",
       " {'name': 'David', 'score': 88},\n",
       " {'name': 'Bob', 'score': 92}]"
      ]
     },
     "execution_count": 22,
     "metadata": {},
     "output_type": "execute_result"
    }
   ],
   "source": [
    "students = [\n",
    "    {'name': 'Alice', 'score': 85},\n",
    "    {'name': 'Bob', 'score': 92},\n",
    "    {'name': 'Charlie', 'score': 85},\n",
    "    {'name': 'David', 'score': 88}\n",
    "]\n",
    "\n",
    "# 按照 'score' 排序，如果分数相同，则按 'name' 排序\n",
    "students.sort(key=lambda x: (x['score'], x['name']))\n",
    "students"
   ]
  },
  {
   "cell_type": "markdown",
   "id": "ee3a9f46",
   "metadata": {},
   "source": [
    "# **sorted(iterable,key, reverse)**"
   ]
  },
  {
   "cell_type": "markdown",
   "id": "711d85a0",
   "metadata": {},
   "source": [
    "对任何可迭代对象进行排序（不只是列表）。且返回一个新的已排序的列表，不改变原始数据"
   ]
  },
  {
   "cell_type": "markdown",
   "id": "1099e1fc",
   "metadata": {},
   "source": [
    "- **iterable**：任何可迭代对象，如列表、元组、字符串等\n",
    "- **key**：用于从每个元素中提取排序键的函数\n",
    "- **reverse**：\n",
    "    - False：升序排序。默认值    \n",
    "    - True：降序排序"
   ]
  },
  {
   "cell_type": "markdown",
   "id": "eb4d0717",
   "metadata": {},
   "source": [
    "## reverse"
   ]
  },
  {
   "cell_type": "code",
   "execution_count": 30,
   "id": "8315b73a",
   "metadata": {},
   "outputs": [],
   "source": [
    "nums = [3,1,5,6,2,3,6,7,1,7]\n",
    "nums = sorted(nums, reverse=True)"
   ]
  },
  {
   "cell_type": "code",
   "execution_count": 31,
   "id": "5ee71fbb",
   "metadata": {},
   "outputs": [
    {
     "data": {
      "text/plain": [
       "[7, 7, 6, 6, 5, 3, 3, 2, 1, 1]"
      ]
     },
     "execution_count": 31,
     "metadata": {},
     "output_type": "execute_result"
    }
   ],
   "source": [
    "nums"
   ]
  },
  {
   "cell_type": "markdown",
   "id": "34422e36",
   "metadata": {},
   "source": [
    "## key"
   ]
  },
  {
   "cell_type": "code",
   "execution_count": 32,
   "id": "a6faf807",
   "metadata": {},
   "outputs": [
    {
     "data": {
      "text/plain": [
       "['date', 'apple', 'banana', 'cherry']"
      ]
     },
     "execution_count": 32,
     "metadata": {},
     "output_type": "execute_result"
    }
   ],
   "source": [
    "words = ['banana', 'apple', 'cherry', 'date']\n",
    "sorted_words = sorted(words, key=len)\n",
    "sorted_words"
   ]
  },
  {
   "cell_type": "code",
   "execution_count": 33,
   "id": "568af8e9",
   "metadata": {},
   "outputs": [
    {
     "data": {
      "text/plain": [
       "[{'name': 'Charlie', 'score': 78},\n",
       " {'name': 'Alice', 'score': 85},\n",
       " {'name': 'David', 'score': 88},\n",
       " {'name': 'Bob', 'score': 92}]"
      ]
     },
     "execution_count": 33,
     "metadata": {},
     "output_type": "execute_result"
    }
   ],
   "source": [
    "students = [\n",
    "    {'name': 'Alice', 'score': 85},\n",
    "    {'name': 'Bob', 'score': 92},\n",
    "    {'name': 'Charlie', 'score': 78},\n",
    "    {'name': 'David', 'score': 88}\n",
    "]\n",
    "# 根据 'score' 字段排序\n",
    "sorted_students = sorted(students, key=lambda x: x['score'])\n",
    "sorted_students"
   ]
  },
  {
   "cell_type": "code",
   "execution_count": 35,
   "id": "b7512204",
   "metadata": {},
   "outputs": [
    {
     "data": {
      "text/plain": [
       "[{'name': 'Alice', 'score': 85},\n",
       " {'name': 'Charlie', 'score': 85},\n",
       " {'name': 'David', 'score': 88},\n",
       " {'name': 'Bob', 'score': 92}]"
      ]
     },
     "execution_count": 35,
     "metadata": {},
     "output_type": "execute_result"
    }
   ],
   "source": [
    "students = [\n",
    "    {'name': 'Alice', 'score': 85},\n",
    "    {'name': 'Bob', 'score': 92},\n",
    "    {'name': 'Charlie', 'score': 85},\n",
    "    {'name': 'David', 'score': 88}\n",
    "]\n",
    "\n",
    "# 按照 'score' 排序，如果分数相同，则按 'name' 排序\n",
    "sorted_students = sorted(students, key=lambda x: (x['score'], x['name']))\n",
    "sorted_students"
   ]
  },
  {
   "cell_type": "code",
   "execution_count": null,
   "id": "4bd785f1",
   "metadata": {},
   "outputs": [],
   "source": []
  }
 ],
 "metadata": {
  "kernelspec": {
   "display_name": "Python 3 (ipykernel)",
   "language": "python",
   "name": "python3"
  },
  "language_info": {
   "codemirror_mode": {
    "name": "ipython",
    "version": 3
   },
   "file_extension": ".py",
   "mimetype": "text/x-python",
   "name": "python",
   "nbconvert_exporter": "python",
   "pygments_lexer": "ipython3",
   "version": "3.12.2"
  },
  "toc": {
   "base_numbering": 1,
   "nav_menu": {},
   "number_sections": true,
   "sideBar": true,
   "skip_h1_title": false,
   "title_cell": "Table of Contents",
   "title_sidebar": "Contents",
   "toc_cell": false,
   "toc_position": {
    "height": "calc(100% - 180px)",
    "left": "10px",
    "top": "150px",
    "width": "288px"
   },
   "toc_section_display": true,
   "toc_window_display": true
  }
 },
 "nbformat": 4,
 "nbformat_minor": 5
}
