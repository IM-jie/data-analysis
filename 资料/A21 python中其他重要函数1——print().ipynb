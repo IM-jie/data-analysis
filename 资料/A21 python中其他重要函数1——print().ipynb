{
 "cells": [
  {
   "cell_type": "markdown",
   "id": "710e80a6",
   "metadata": {},
   "source": [
    "# print()"
   ]
  },
  {
   "cell_type": "markdown",
   "id": "c21084c9",
   "metadata": {},
   "source": [
    "print()函数用于将内容输出打印到控制台。"
   ]
  },
  {
   "cell_type": "markdown",
   "id": "865796fb",
   "metadata": {},
   "source": [
    "## print()基本语法"
   ]
  },
  {
   "cell_type": "markdown",
   "id": "44e9e5ac",
   "metadata": {},
   "source": [
    "**print(*objects, sep=' ', end='\\n')**：\n",
    "- *objects：指定输出对象（可以是任意数量）\n",
    "- sep：用于指定多个对象之间的分隔符，默认是空格 ' '\n",
    "- end：用于指定输出结束后添加的字符，默认是换行符 '\\n'"
   ]
  },
  {
   "cell_type": "markdown",
   "id": "66f14dae",
   "metadata": {},
   "source": [
    "### 输出多个值"
   ]
  },
  {
   "cell_type": "markdown",
   "id": "23fb0c72",
   "metadata": {},
   "source": [
    "如果是打印输出多个对象，则多个对象用逗号分隔，默认用空格分隔输出"
   ]
  },
  {
   "cell_type": "code",
   "execution_count": 2,
   "id": "6367ff9d",
   "metadata": {},
   "outputs": [
    {
     "name": "stdout",
     "output_type": "stream",
     "text": [
      "Hello World 123\n"
     ]
    }
   ],
   "source": [
    "print(\"Hello\", \"World\", 123)"
   ]
  },
  {
   "cell_type": "markdown",
   "id": "196dbe80",
   "metadata": {},
   "source": [
    "### 自定义分隔符（sep 参数）"
   ]
  },
  {
   "cell_type": "code",
   "execution_count": 3,
   "id": "319b50cb",
   "metadata": {},
   "outputs": [
    {
     "name": "stdout",
     "output_type": "stream",
     "text": [
      "Hello---World---123\n"
     ]
    }
   ],
   "source": [
    "print(\"Hello\", \"World\", 123, sep=\"---\")"
   ]
  },
  {
   "cell_type": "markdown",
   "id": "f15731ba",
   "metadata": {},
   "source": [
    "### 自定义结束符（end 参数）"
   ]
  },
  {
   "cell_type": "code",
   "execution_count": 4,
   "id": "8bb4dbb7",
   "metadata": {},
   "outputs": [
    {
     "name": "stdout",
     "output_type": "stream",
     "text": [
      "Hello World, "
     ]
    }
   ],
   "source": [
    "print(\"Hello World\", end=\", \")"
   ]
  },
  {
   "cell_type": "markdown",
   "id": "5bc48deb",
   "metadata": {},
   "source": [
    "## 格式化print()输出"
   ]
  },
  {
   "cell_type": "markdown",
   "id": "0cdfe823",
   "metadata": {},
   "source": [
    "字符串格式化用于将变量或表达式插入到字符串中以生成动态内容。python中的字符串格式化输出方法有**format**、**f-string**"
   ]
  },
  {
   "cell_type": "markdown",
   "id": "e795ec5c",
   "metadata": {},
   "source": [
    "### format"
   ]
  },
  {
   "cell_type": "markdown",
   "id": "5aded806",
   "metadata": {},
   "source": [
    "**print(\"this is {}\".format(values))**：\n",
    "- {} 是占位符，用来表示需要插入的值。\n",
    "- format() 方法中的值会按顺序替换占位符。"
   ]
  },
  {
   "cell_type": "markdown",
   "id": "c2bc94b3",
   "metadata": {},
   "source": [
    "#### 直接传值"
   ]
  },
  {
   "cell_type": "code",
   "execution_count": 6,
   "id": "cc706c50",
   "metadata": {},
   "outputs": [
    {
     "name": "stdout",
     "output_type": "stream",
     "text": [
      "My name is Alice and I am 25 years old.\n",
      "My name is Alice and I am 40 years old.\n",
      "My name is Alice and I am 60 years old.\n"
     ]
    }
   ],
   "source": [
    "# 按顺序插入\n",
    "for age in [25,40,60]:\n",
    "    print(\"My name is {} and I am {} years old.\".format(\"Alice\", age))"
   ]
  },
  {
   "cell_type": "markdown",
   "id": "10f35443",
   "metadata": {},
   "source": [
    "#### 使用位置索引"
   ]
  },
  {
   "cell_type": "code",
   "execution_count": 8,
   "id": "0425ed82",
   "metadata": {},
   "outputs": [
    {
     "name": "stdout",
     "output_type": "stream",
     "text": [
      "I have 5 apples and 10 oranges.\n",
      "I have 10 oranges and 5 apples.\n"
     ]
    }
   ],
   "source": [
    "print(\"I have {0} apples and {1} oranges.\".format(5, 10))\n",
    "print(\"I have {1} oranges and {0} apples.\".format(5, 10))"
   ]
  },
  {
   "cell_type": "markdown",
   "id": "a5c3df43",
   "metadata": {},
   "source": [
    "#### 使用关键字参数"
   ]
  },
  {
   "cell_type": "code",
   "execution_count": 9,
   "id": "bc4c8b52",
   "metadata": {},
   "outputs": [
    {
     "name": "stdout",
     "output_type": "stream",
     "text": [
      "Hello, Bob. You are 30 years old.\n"
     ]
    }
   ],
   "source": [
    "print(\"Hello, {name}. You are {age} years old.\".format(name=\"Bob\", age=30))"
   ]
  },
  {
   "cell_type": "markdown",
   "id": "8b9a1228",
   "metadata": {},
   "source": [
    "#### 数字格式化"
   ]
  },
  {
   "cell_type": "markdown",
   "id": "efa48655",
   "metadata": {},
   "source": [
    "- {:.2f}：保留两位小数。\n",
    "- {:,}：添加千位分隔符。\n",
    "- {:+}：显示正负号。\n",
    "- {:e}：科学计数法。"
   ]
  },
  {
   "cell_type": "code",
   "execution_count": 16,
   "id": "0ba85276",
   "metadata": {},
   "outputs": [
    {
     "name": "stdout",
     "output_type": "stream",
     "text": [
      "两位小数: 12345.68\n",
      "千位分隔符: 12,345.6789\n",
      "显示正负号: +12345.6789\n",
      "科学计数法: 1.234568e+04\n"
     ]
    }
   ],
   "source": [
    "num = 12345.6789\n",
    "print(\"两位小数: {:.2f}\".format(num))  # 输出: 两位小数: 12345.68\n",
    "print(\"千位分隔符: {:,}\".format(num))  # 输出: 千位分隔符: 12,345.6789\n",
    "print(\"显示正负号: {:+}\".format(num))  # 输出: 显示正负号: +12345.6789\n",
    "print(\"科学计数法: {:e}\".format(num))  # 输出: 科学计数法: 1.234568e+04"
   ]
  },
  {
   "cell_type": "markdown",
   "id": "f0f239d6",
   "metadata": {},
   "source": [
    "### f-string"
   ]
  },
  {
   "cell_type": "markdown",
   "id": "3cc7dadf",
   "metadata": {},
   "source": [
    "**print(f\"template string with {expression}\")**：\n",
    "- 字符串以字母 f 或 F 开头。\n",
    "- 在字符串中，使用 {} 包裹变量或表达式，Python 会自动将它们替换为对应的值。"
   ]
  },
  {
   "cell_type": "markdown",
   "id": "386991fa",
   "metadata": {},
   "source": [
    "#### 插入变量"
   ]
  },
  {
   "cell_type": "code",
   "execution_count": 17,
   "id": "07a2f535",
   "metadata": {},
   "outputs": [
    {
     "name": "stdout",
     "output_type": "stream",
     "text": [
      "My name is Alice and I am 25 years old.\n"
     ]
    }
   ],
   "source": [
    "name = \"Alice\"\n",
    "age = 25\n",
    "print(f\"My name is {name} and I am {age} years old.\")"
   ]
  },
  {
   "cell_type": "markdown",
   "id": "a3a11bdf",
   "metadata": {},
   "source": [
    "#### 嵌入表达式"
   ]
  },
  {
   "cell_type": "code",
   "execution_count": 18,
   "id": "c84edc68",
   "metadata": {},
   "outputs": [
    {
     "name": "stdout",
     "output_type": "stream",
     "text": [
      "The sum of 5 and 10 is 15.\n"
     ]
    }
   ],
   "source": [
    "# 在 f-string 中可以直接插入表达式\n",
    "a = 5\n",
    "b = 10\n",
    "print(f\"The sum of {a} and {b} is {a + b}.\")"
   ]
  },
  {
   "cell_type": "markdown",
   "id": "20457cd9",
   "metadata": {},
   "source": [
    "#### 调用函数"
   ]
  },
  {
   "cell_type": "code",
   "execution_count": 19,
   "id": "dd1241b3",
   "metadata": {},
   "outputs": [
    {
     "name": "stdout",
     "output_type": "stream",
     "text": [
      "The area of a circle with radius 5 is 78.54.\n"
     ]
    }
   ],
   "source": [
    "import math\n",
    "radius = 5\n",
    "print(f\"The area of a circle with radius {radius} is {math.pi * radius**2:.2f}.\")"
   ]
  },
  {
   "cell_type": "markdown",
   "id": "11471ddb",
   "metadata": {},
   "source": [
    "#### 数字格式化"
   ]
  },
  {
   "cell_type": "markdown",
   "id": "6c6ac478",
   "metadata": {},
   "source": [
    "- {:.2f}：保留两位小数。\n",
    "- {:,}：添加千位分隔符。\n",
    "- {:+}：显示正负号。\n",
    "- {:e}：科学计数法。"
   ]
  },
  {
   "cell_type": "code",
   "execution_count": 16,
   "id": "ebe8c259",
   "metadata": {},
   "outputs": [
    {
     "name": "stdout",
     "output_type": "stream",
     "text": [
      "两位小数: 12345.68\n",
      "千位分隔符: 12,345.6789\n",
      "显示正负号: +12345.6789\n",
      "科学计数法: 1.234568e+04\n"
     ]
    }
   ],
   "source": [
    "num = 12345.6789\n",
    "print(f\"两位小数: {num:.2f}\")  # 输出: 两位小数: 12345.68\n",
    "print(f\"千位分隔符: {num:,}\")  # 输出: 千位分隔符: 12,345.68\n",
    "print(f\"显示正负号: {num:+}\")  # 输出: 显示正负号: 12,345.68\n",
    "print(f\"科学计数法: {num:e}\")  # 输出: 科学计数法: 1.234568e+04"
   ]
  },
  {
   "cell_type": "markdown",
   "id": "b6dc128e",
   "metadata": {},
   "source": [
    "## 特殊符号print()输出"
   ]
  },
  {
   "cell_type": "markdown",
   "id": "a5624942",
   "metadata": {},
   "source": [
    "### 换行符\\n"
   ]
  },
  {
   "cell_type": "markdown",
   "id": "8673702c",
   "metadata": {},
   "source": [
    "**\\n**表示换行符，用于将输出从当前行移动到下一行"
   ]
  },
  {
   "cell_type": "code",
   "execution_count": 25,
   "id": "40c4c020",
   "metadata": {},
   "outputs": [
    {
     "name": "stdout",
     "output_type": "stream",
     "text": [
      "Hello\n",
      "World\n"
     ]
    }
   ],
   "source": [
    "# 换行符的基本用法\n",
    "print(\"Hello\\nWorld\")"
   ]
  },
  {
   "cell_type": "markdown",
   "id": "5023574c",
   "metadata": {},
   "source": [
    "### 制表符\\t"
   ]
  },
  {
   "cell_type": "markdown",
   "id": "fd44ae3a",
   "metadata": {},
   "source": [
    "**\\t**表示制表符，用于在字符串中插入水平间距"
   ]
  },
  {
   "cell_type": "code",
   "execution_count": 28,
   "id": "12b467e7",
   "metadata": {},
   "outputs": [
    {
     "name": "stdout",
     "output_type": "stream",
     "text": [
      "Name\tAge\tCity\n",
      "Alice\t25\tNew York\n",
      "Bob\t30\tLos Angeles\n"
     ]
    }
   ],
   "source": [
    "# 制表符的基本用法\n",
    "print(\"Name\\tAge\\tCity\")\n",
    "print(\"Alice\\t25\\tNew York\")\n",
    "print(\"Bob\\t30\\tLos Angeles\")"
   ]
  },
  {
   "cell_type": "code",
   "execution_count": null,
   "id": "3a0ad854",
   "metadata": {},
   "outputs": [],
   "source": []
  }
 ],
 "metadata": {
  "kernelspec": {
   "display_name": "Python 3 (ipykernel)",
   "language": "python",
   "name": "python3"
  },
  "language_info": {
   "codemirror_mode": {
    "name": "ipython",
    "version": 3
   },
   "file_extension": ".py",
   "mimetype": "text/x-python",
   "name": "python",
   "nbconvert_exporter": "python",
   "pygments_lexer": "ipython3",
   "version": "3.12.2"
  },
  "toc": {
   "base_numbering": 1,
   "nav_menu": {},
   "number_sections": true,
   "sideBar": true,
   "skip_h1_title": false,
   "title_cell": "Table of Contents",
   "title_sidebar": "Contents",
   "toc_cell": false,
   "toc_position": {
    "height": "calc(100% - 180px)",
    "left": "10px",
    "top": "150px",
    "width": "288px"
   },
   "toc_section_display": true,
   "toc_window_display": true
  }
 },
 "nbformat": 4,
 "nbformat_minor": 5
}
