{
 "cells": [
  {
   "cell_type": "markdown",
   "id": "c085f983c1f76551",
   "metadata": {},
   "source": [
    "# DataFrame分组函数groupby+聚合/迭代/过滤"
   ]
  },
  {
   "cell_type": "markdown",
   "id": "63d007ea",
   "metadata": {},
   "source": [
    "## 分组+聚合"
   ]
  },
  {
   "cell_type": "markdown",
   "id": "f5e015447907945b",
   "metadata": {},
   "source": [
    "**分组聚合（Group Aggregation）** 是数据分析中的常见操作，用于根据某些特定的列对数据进行分组，并对分组后的数据执行聚合操作（如求和、平均值、最大值等）"
   ]
  },
  {
   "cell_type": "markdown",
   "id": "3911462db8d1efdb",
   "metadata": {},
   "source": [
    "### 核心概念\n",
    "- 分组（GroupBy）：\n",
    "    - 按照某些列对数据进行分组，分组后的每个组可以看作一个独立的数据子集。\n",
    "- 聚合（Aggregation）：\n",
    "    - 在分组的基础上，对每个组执行某种聚合操作，如求和、求平均值、计数、最大值等。"
   ]
  },
  {
   "cell_type": "markdown",
   "id": "a184faa2fc266450",
   "metadata": {},
   "source": [
    "### 基本语法\n",
    "**df.groupby(by)[col].agg(func)**：\n",
    "- **by**：分组的列名，可以是单列或多列。\n",
    "- **col**：要进行聚合操作的目标列（可选）。\n",
    "- **func**：聚合函数，如 sum、mean、count 等。"
   ]
  },
  {
   "cell_type": "markdown",
   "id": "2d07d939",
   "metadata": {
    "ExecuteTime": {
     "end_time": "2025-01-09T08:25:43.719551Z",
     "start_time": "2025-01-09T08:25:43.714819Z"
    }
   },
   "source": [
    "### 常用聚合函数"
   ]
  },
  {
   "cell_type": "markdown",
   "id": "64763b997b5fa3ba",
   "metadata": {},
   "source": [
    "| 函数 | 描述 |\n",
    "| --- | --- |\n",
    "| sum() | 求和 |\n",
    "| mean() | 求平均值 |\n",
    "| count() | 统计非空值个数 |\n",
    "| max() | 最大值 |\n",
    "| min() | 最小值 |\n",
    "| median() | 中位数 |\n",
    "| std() | 标准差 |\n",
    "| var() | 方差 |\n",
    "| size() | 统计每组的大小（包括空值） |\n",
    "| 自定义函数 | 用户自定义的函数，用于聚合 |"
   ]
  },
  {
   "cell_type": "markdown",
   "id": "30995d39",
   "metadata": {
    "ExecuteTime": {
     "end_time": "2025-01-09T08:30:22.265591Z",
     "start_time": "2025-01-09T08:30:22.260024Z"
    }
   },
   "source": [
    "### 分组聚合实际案例"
   ]
  },
  {
   "cell_type": "code",
   "execution_count": 1,
   "id": "721951fdfa88b116",
   "metadata": {},
   "outputs": [
    {
     "data": {
      "text/html": [
       "<div>\n",
       "<style scoped>\n",
       "    .dataframe tbody tr th:only-of-type {\n",
       "        vertical-align: middle;\n",
       "    }\n",
       "\n",
       "    .dataframe tbody tr th {\n",
       "        vertical-align: top;\n",
       "    }\n",
       "\n",
       "    .dataframe thead th {\n",
       "        text-align: right;\n",
       "    }\n",
       "</style>\n",
       "<table border=\"1\" class=\"dataframe\">\n",
       "  <thead>\n",
       "    <tr style=\"text-align: right;\">\n",
       "      <th></th>\n",
       "      <th>Department</th>\n",
       "      <th>Name</th>\n",
       "      <th>Salary</th>\n",
       "      <th>Age</th>\n",
       "    </tr>\n",
       "  </thead>\n",
       "  <tbody>\n",
       "    <tr>\n",
       "      <th>0</th>\n",
       "      <td>HR</td>\n",
       "      <td>Alice</td>\n",
       "      <td>5000</td>\n",
       "      <td>25</td>\n",
       "    </tr>\n",
       "    <tr>\n",
       "      <th>1</th>\n",
       "      <td>IT</td>\n",
       "      <td>Bob</td>\n",
       "      <td>7000</td>\n",
       "      <td>30</td>\n",
       "    </tr>\n",
       "    <tr>\n",
       "      <th>2</th>\n",
       "      <td>HR</td>\n",
       "      <td>Charlie</td>\n",
       "      <td>4000</td>\n",
       "      <td>22</td>\n",
       "    </tr>\n",
       "    <tr>\n",
       "      <th>3</th>\n",
       "      <td>IT</td>\n",
       "      <td>David</td>\n",
       "      <td>9000</td>\n",
       "      <td>35</td>\n",
       "    </tr>\n",
       "    <tr>\n",
       "      <th>4</th>\n",
       "      <td>Finance</td>\n",
       "      <td>Eve</td>\n",
       "      <td>6000</td>\n",
       "      <td>29</td>\n",
       "    </tr>\n",
       "    <tr>\n",
       "      <th>5</th>\n",
       "      <td>Finance</td>\n",
       "      <td>Frank</td>\n",
       "      <td>8000</td>\n",
       "      <td>40</td>\n",
       "    </tr>\n",
       "    <tr>\n",
       "      <th>6</th>\n",
       "      <td>HR</td>\n",
       "      <td>Grace</td>\n",
       "      <td>3000</td>\n",
       "      <td>23</td>\n",
       "    </tr>\n",
       "  </tbody>\n",
       "</table>\n",
       "</div>"
      ],
      "text/plain": [
       "  Department     Name  Salary  Age\n",
       "0         HR    Alice    5000   25\n",
       "1         IT      Bob    7000   30\n",
       "2         HR  Charlie    4000   22\n",
       "3         IT    David    9000   35\n",
       "4    Finance      Eve    6000   29\n",
       "5    Finance    Frank    8000   40\n",
       "6         HR    Grace    3000   23"
      ]
     },
     "execution_count": 1,
     "metadata": {},
     "output_type": "execute_result"
    }
   ],
   "source": [
    "import pandas as pd\n",
    "\n",
    "# 创建示例数据\n",
    "data = {\n",
    "    \"Department\": [\"HR\", \"IT\", \"HR\", \"IT\", \"Finance\", \"Finance\", \"HR\"],\n",
    "    \"Name\": [\"Alice\", \"Bob\", \"Charlie\", \"David\", \"Eve\", \"Frank\", \"Grace\"],\n",
    "    \"Salary\": [5000, 7000, 4000, 9000, 6000, 8000, 3000],\n",
    "    \"Age\": [25, 30, 22, 35, 29, 40, 23],\n",
    "}\n",
    "df = pd.DataFrame(data)\n",
    "df"
   ]
  },
  {
   "cell_type": "markdown",
   "id": "fd6eee0b",
   "metadata": {
    "ExecuteTime": {
     "end_time": "2025-01-09T08:31:44.202558Z",
     "start_time": "2025-01-09T08:31:44.197894Z"
    }
   },
   "source": [
    "#### 按单列分组并聚合"
   ]
  },
  {
   "cell_type": "code",
   "execution_count": 2,
   "id": "fa68d2e0bfdbeeb6",
   "metadata": {
    "ExecuteTime": {
     "end_time": "2025-01-09T08:31:58.694907Z",
     "start_time": "2025-01-09T08:31:58.681388Z"
    }
   },
   "outputs": [
    {
     "data": {
      "text/plain": [
       "Department\n",
       "Finance    14000\n",
       "HR         12000\n",
       "IT         16000\n",
       "Name: Salary, dtype: int64"
      ]
     },
     "execution_count": 2,
     "metadata": {},
     "output_type": "execute_result"
    }
   ],
   "source": [
    "# 按 Department 分组，计算每组的 Salary 总和\n",
    "df.groupby(\"Department\")[\"Salary\"].sum()"
   ]
  },
  {
   "cell_type": "code",
   "execution_count": 3,
   "id": "5a91483027b4c9cd",
   "metadata": {
    "ExecuteTime": {
     "end_time": "2025-01-09T08:32:16.896160Z",
     "start_time": "2025-01-09T08:32:16.886116Z"
    }
   },
   "outputs": [
    {
     "data": {
      "text/plain": [
       "Department\n",
       "Finance    7000.0\n",
       "HR         4000.0\n",
       "IT         8000.0\n",
       "Name: Salary, dtype: float64"
      ]
     },
     "execution_count": 3,
     "metadata": {},
     "output_type": "execute_result"
    }
   ],
   "source": [
    "# 按 Department 分组，计算每组的 Salary 平均值\n",
    "df.groupby(\"Department\")[\"Salary\"].mean()"
   ]
  },
  {
   "cell_type": "markdown",
   "id": "b8ea084e",
   "metadata": {
    "ExecuteTime": {
     "end_time": "2025-01-09T08:32:24.974165Z",
     "start_time": "2025-01-09T08:32:24.970108Z"
    }
   },
   "source": [
    "#### 对多列进行聚合"
   ]
  },
  {
   "cell_type": "code",
   "execution_count": 4,
   "id": "ef8907ec289c5149",
   "metadata": {
    "ExecuteTime": {
     "end_time": "2025-01-09T08:32:36.941097Z",
     "start_time": "2025-01-09T08:32:36.920347Z"
    }
   },
   "outputs": [
    {
     "data": {
      "text/html": [
       "<div>\n",
       "<style scoped>\n",
       "    .dataframe tbody tr th:only-of-type {\n",
       "        vertical-align: middle;\n",
       "    }\n",
       "\n",
       "    .dataframe tbody tr th {\n",
       "        vertical-align: top;\n",
       "    }\n",
       "\n",
       "    .dataframe thead th {\n",
       "        text-align: right;\n",
       "    }\n",
       "</style>\n",
       "<table border=\"1\" class=\"dataframe\">\n",
       "  <thead>\n",
       "    <tr style=\"text-align: right;\">\n",
       "      <th></th>\n",
       "      <th>Salary</th>\n",
       "      <th>Age</th>\n",
       "    </tr>\n",
       "    <tr>\n",
       "      <th>Department</th>\n",
       "      <th></th>\n",
       "      <th></th>\n",
       "    </tr>\n",
       "  </thead>\n",
       "  <tbody>\n",
       "    <tr>\n",
       "      <th>Finance</th>\n",
       "      <td>7000.0</td>\n",
       "      <td>34.500000</td>\n",
       "    </tr>\n",
       "    <tr>\n",
       "      <th>HR</th>\n",
       "      <td>4000.0</td>\n",
       "      <td>23.333333</td>\n",
       "    </tr>\n",
       "    <tr>\n",
       "      <th>IT</th>\n",
       "      <td>8000.0</td>\n",
       "      <td>32.500000</td>\n",
       "    </tr>\n",
       "  </tbody>\n",
       "</table>\n",
       "</div>"
      ],
      "text/plain": [
       "            Salary        Age\n",
       "Department                   \n",
       "Finance     7000.0  34.500000\n",
       "HR          4000.0  23.333333\n",
       "IT          8000.0  32.500000"
      ]
     },
     "execution_count": 4,
     "metadata": {},
     "output_type": "execute_result"
    }
   ],
   "source": [
    "# 按 Department 分组，计算每组的 Salary 和 Age 平均值\n",
    "df.groupby(\"Department\")[[\"Salary\", \"Age\"]].mean()"
   ]
  },
  {
   "cell_type": "markdown",
   "id": "a29317e4",
   "metadata": {
    "ExecuteTime": {
     "end_time": "2025-01-09T08:32:54.486778Z",
     "start_time": "2025-01-09T08:32:54.482671Z"
    }
   },
   "source": [
    "#### 聚合多个函数"
   ]
  },
  {
   "cell_type": "code",
   "execution_count": 5,
   "id": "fae4244e48a0578e",
   "metadata": {
    "ExecuteTime": {
     "end_time": "2025-01-09T08:33:06.174919Z",
     "start_time": "2025-01-09T08:33:06.153677Z"
    }
   },
   "outputs": [
    {
     "data": {
      "text/html": [
       "<div>\n",
       "<style scoped>\n",
       "    .dataframe tbody tr th:only-of-type {\n",
       "        vertical-align: middle;\n",
       "    }\n",
       "\n",
       "    .dataframe tbody tr th {\n",
       "        vertical-align: top;\n",
       "    }\n",
       "\n",
       "    .dataframe thead th {\n",
       "        text-align: right;\n",
       "    }\n",
       "</style>\n",
       "<table border=\"1\" class=\"dataframe\">\n",
       "  <thead>\n",
       "    <tr style=\"text-align: right;\">\n",
       "      <th></th>\n",
       "      <th>sum</th>\n",
       "      <th>mean</th>\n",
       "      <th>max</th>\n",
       "    </tr>\n",
       "    <tr>\n",
       "      <th>Department</th>\n",
       "      <th></th>\n",
       "      <th></th>\n",
       "      <th></th>\n",
       "    </tr>\n",
       "  </thead>\n",
       "  <tbody>\n",
       "    <tr>\n",
       "      <th>Finance</th>\n",
       "      <td>14000</td>\n",
       "      <td>7000.0</td>\n",
       "      <td>8000</td>\n",
       "    </tr>\n",
       "    <tr>\n",
       "      <th>HR</th>\n",
       "      <td>12000</td>\n",
       "      <td>4000.0</td>\n",
       "      <td>5000</td>\n",
       "    </tr>\n",
       "    <tr>\n",
       "      <th>IT</th>\n",
       "      <td>16000</td>\n",
       "      <td>8000.0</td>\n",
       "      <td>9000</td>\n",
       "    </tr>\n",
       "  </tbody>\n",
       "</table>\n",
       "</div>"
      ],
      "text/plain": [
       "              sum    mean   max\n",
       "Department                     \n",
       "Finance     14000  7000.0  8000\n",
       "HR          12000  4000.0  5000\n",
       "IT          16000  8000.0  9000"
      ]
     },
     "execution_count": 5,
     "metadata": {},
     "output_type": "execute_result"
    }
   ],
   "source": [
    "# 按 Department 分组，对 Salary 计算总和、平均值和最大值\n",
    "df.groupby(\"Department\")[\"Salary\"].agg([\"sum\", \"mean\", \"max\"])"
   ]
  },
  {
   "cell_type": "markdown",
   "id": "eb6e6b32",
   "metadata": {
    "ExecuteTime": {
     "end_time": "2025-01-09T08:33:24.221931Z",
     "start_time": "2025-01-09T08:33:24.217448Z"
    }
   },
   "source": [
    "#### 多列分组"
   ]
  },
  {
   "cell_type": "code",
   "execution_count": 7,
   "id": "80a17d92969d4d6a",
   "metadata": {
    "ExecuteTime": {
     "end_time": "2025-01-09T08:33:37.513736Z",
     "start_time": "2025-01-09T08:33:37.497375Z"
    }
   },
   "outputs": [
    {
     "data": {
      "text/plain": [
       "Department  Age\n",
       "Finance     29     6000\n",
       "            40     8000\n",
       "HR          22     4000\n",
       "            23     3000\n",
       "            25     5000\n",
       "IT          30     7000\n",
       "            35     9000\n",
       "Name: Salary, dtype: int64"
      ]
     },
     "execution_count": 7,
     "metadata": {},
     "output_type": "execute_result"
    }
   ],
   "source": [
    "# 按 Department 和 Age 分组，统计每组的 Salary 总和\n",
    "df.groupby([\"Department\", \"Age\"])[\"Salary\"].sum()"
   ]
  },
  {
   "cell_type": "markdown",
   "id": "43437325",
   "metadata": {
    "ExecuteTime": {
     "end_time": "2025-01-09T08:33:50.098206Z",
     "start_time": "2025-01-09T08:33:50.094141Z"
    }
   },
   "source": [
    "#### 使用匿名函数"
   ]
  },
  {
   "cell_type": "code",
   "execution_count": 8,
   "id": "a6c63deb10842b25",
   "metadata": {
    "ExecuteTime": {
     "end_time": "2025-01-09T08:34:05.141436Z",
     "start_time": "2025-01-09T08:34:05.122864Z"
    }
   },
   "outputs": [
    {
     "data": {
      "text/plain": [
       "Department\n",
       "Finance    2000\n",
       "HR         2000\n",
       "IT         2000\n",
       "Name: Salary, dtype: int64"
      ]
     },
     "execution_count": 8,
     "metadata": {},
     "output_type": "execute_result"
    }
   ],
   "source": [
    "# 按 Department 分组，对 Salary 自定义一个求范围（最大值减最小值）的函数\n",
    "df.groupby(\"Department\")[\"Salary\"].agg(lambda x: x.max() - x.min())"
   ]
  },
  {
   "cell_type": "markdown",
   "id": "97ac0bc1",
   "metadata": {},
   "source": [
    "#### 使用自定义函数"
   ]
  },
  {
   "cell_type": "code",
   "execution_count": 9,
   "id": "0d69e5cd",
   "metadata": {},
   "outputs": [
    {
     "data": {
      "text/plain": [
       "Department\n",
       "Finance    2000\n",
       "HR         2000\n",
       "IT         2000\n",
       "Name: Salary, dtype: int64"
      ]
     },
     "execution_count": 9,
     "metadata": {},
     "output_type": "execute_result"
    }
   ],
   "source": [
    "# 定义一个自定义函数来计算最大值和最小值之间的差异\n",
    "def salary_difference(x):\n",
    "    return x.max() - x.min()\n",
    "\n",
    "# 按 Department 分组，对 Salary 自定义一个求范围（最大值减最小值）的函数\n",
    "df.groupby(\"Department\")[\"Salary\"].agg(salary_difference)"
   ]
  },
  {
   "cell_type": "markdown",
   "id": "153262a5",
   "metadata": {
    "ExecuteTime": {
     "end_time": "2025-01-09T08:34:46.523488Z",
     "start_time": "2025-01-09T08:34:46.519132Z"
    }
   },
   "source": [
    "## 分组+迭代"
   ]
  },
  {
   "cell_type": "code",
   "execution_count": 10,
   "id": "9056de8ab3c89398",
   "metadata": {
    "ExecuteTime": {
     "end_time": "2025-01-09T08:34:59.261001Z",
     "start_time": "2025-01-09T08:34:59.243898Z"
    }
   },
   "outputs": [
    {
     "name": "stdout",
     "output_type": "stream",
     "text": [
      "组名：Finance\n",
      "  Department   Name  Salary  Age\n",
      "4    Finance    Eve    6000   29\n",
      "5    Finance  Frank    8000   40\n",
      "\n",
      "组名：HR\n",
      "  Department     Name  Salary  Age\n",
      "0         HR    Alice    5000   25\n",
      "2         HR  Charlie    4000   22\n",
      "6         HR    Grace    3000   23\n",
      "\n",
      "组名：IT\n",
      "  Department   Name  Salary  Age\n",
      "1         IT    Bob    7000   30\n",
      "3         IT  David    9000   35\n",
      "\n"
     ]
    }
   ],
   "source": [
    "# 分组后的 GroupBy 对象可以直接迭代查看每个组\n",
    "grouped = df.groupby(\"Department\")\n",
    "for name, group in grouped:\n",
    "    print(f\"组名：{name}\")\n",
    "    print(group)\n",
    "    print()"
   ]
  },
  {
   "cell_type": "markdown",
   "id": "3f122941",
   "metadata": {
    "ExecuteTime": {
     "end_time": "2025-01-09T08:35:19.589298Z",
     "start_time": "2025-01-09T08:35:19.583528Z"
    }
   },
   "source": [
    "## 分组+过滤"
   ]
  },
  {
   "cell_type": "code",
   "execution_count": 13,
   "id": "bf1a6823f436ff80",
   "metadata": {
    "ExecuteTime": {
     "end_time": "2025-01-09T08:35:33.464614Z",
     "start_time": "2025-01-09T08:35:33.442590Z"
    }
   },
   "outputs": [
    {
     "data": {
      "text/html": [
       "<div>\n",
       "<style scoped>\n",
       "    .dataframe tbody tr th:only-of-type {\n",
       "        vertical-align: middle;\n",
       "    }\n",
       "\n",
       "    .dataframe tbody tr th {\n",
       "        vertical-align: top;\n",
       "    }\n",
       "\n",
       "    .dataframe thead th {\n",
       "        text-align: right;\n",
       "    }\n",
       "</style>\n",
       "<table border=\"1\" class=\"dataframe\">\n",
       "  <thead>\n",
       "    <tr style=\"text-align: right;\">\n",
       "      <th></th>\n",
       "      <th>Department</th>\n",
       "      <th>Name</th>\n",
       "      <th>Salary</th>\n",
       "      <th>Age</th>\n",
       "    </tr>\n",
       "  </thead>\n",
       "  <tbody>\n",
       "    <tr>\n",
       "      <th>1</th>\n",
       "      <td>IT</td>\n",
       "      <td>Bob</td>\n",
       "      <td>7000</td>\n",
       "      <td>30</td>\n",
       "    </tr>\n",
       "    <tr>\n",
       "      <th>3</th>\n",
       "      <td>IT</td>\n",
       "      <td>David</td>\n",
       "      <td>9000</td>\n",
       "      <td>35</td>\n",
       "    </tr>\n",
       "    <tr>\n",
       "      <th>4</th>\n",
       "      <td>Finance</td>\n",
       "      <td>Eve</td>\n",
       "      <td>6000</td>\n",
       "      <td>29</td>\n",
       "    </tr>\n",
       "    <tr>\n",
       "      <th>5</th>\n",
       "      <td>Finance</td>\n",
       "      <td>Frank</td>\n",
       "      <td>8000</td>\n",
       "      <td>40</td>\n",
       "    </tr>\n",
       "  </tbody>\n",
       "</table>\n",
       "</div>"
      ],
      "text/plain": [
       "  Department   Name  Salary  Age\n",
       "1         IT    Bob    7000   30\n",
       "3         IT  David    9000   35\n",
       "4    Finance    Eve    6000   29\n",
       "5    Finance  Frank    8000   40"
      ]
     },
     "execution_count": 13,
     "metadata": {},
     "output_type": "execute_result"
    }
   ],
   "source": [
    "# 只保留分组中总 Salary 大于 13000 的组\n",
    "df.groupby(\"Department\").filter(lambda x: x[\"Salary\"].sum() > 13000)"
   ]
  },
  {
   "cell_type": "code",
   "execution_count": null,
   "id": "b11a9edc60bead5a",
   "metadata": {},
   "outputs": [],
   "source": []
  }
 ],
 "metadata": {
  "kernelspec": {
   "display_name": "Python 3 (ipykernel)",
   "language": "python",
   "name": "python3"
  },
  "language_info": {
   "codemirror_mode": {
    "name": "ipython",
    "version": 3
   },
   "file_extension": ".py",
   "mimetype": "text/x-python",
   "name": "python",
   "nbconvert_exporter": "python",
   "pygments_lexer": "ipython3",
   "version": "3.12.2"
  },
  "toc": {
   "base_numbering": 1,
   "nav_menu": {},
   "number_sections": true,
   "sideBar": true,
   "skip_h1_title": false,
   "title_cell": "Table of Contents",
   "title_sidebar": "Contents",
   "toc_cell": false,
   "toc_position": {
    "height": "calc(100% - 180px)",
    "left": "10px",
    "top": "150px",
    "width": "288px"
   },
   "toc_section_display": true,
   "toc_window_display": true
  }
 },
 "nbformat": 4,
 "nbformat_minor": 5
}
