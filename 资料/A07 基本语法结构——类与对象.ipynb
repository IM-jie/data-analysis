{
 "cells": [
  {
   "cell_type": "markdown",
   "id": "c21ca592",
   "metadata": {},
   "source": [
    "# 类与对象"
   ]
  },
  {
   "cell_type": "markdown",
   "id": "7f305ce6",
   "metadata": {},
   "source": [
    "## 类与对象的定义"
   ]
  },
  {
   "cell_type": "markdown",
   "id": "83d59755",
   "metadata": {},
   "source": [
    "Python是一种面向对象的编程语言，其核心概念是类、对象。\n",
    "- **类**是面向对象编程中的一种数据结构，类定义了对象的**属性**和**方法**，是对对象的抽象\n",
    "- **对象**是类的实例，是类的具体实现\n",
    "- 类与对象的关系：\n",
    "    - 类是抽象的，不能直接使用，必须通过创建对象来实例化\n",
    "    - 对象是类的具体化，是类的实例\n",
    "    - 举个例子：\n",
    "        - 类是建筑图纸，对象是根据图纸建造出来的房子\n",
    "        - 类是模具，对象是使用模具制造出来的产品\n",
    "        - 类是动物，对象是猫、狗、大象等具体的类的实例"
   ]
  },
  {
   "cell_type": "code",
   "execution_count": 4,
   "id": "dbed75bd",
   "metadata": {},
   "outputs": [],
   "source": [
    "# 类的具体例子\n",
    "# 这里实现了一个类——动物类，里面定义了动物类的属性（名称name、种类species）；定义了动物类的方法（speak、info）\n",
    "# 在这里，动物类是抽象的、不能直接使用的\n",
    "class Animal:\n",
    "    def __init__(self, name, species):\n",
    "        self.name = name        # 属性\n",
    "        self.species = species  # 属性\n",
    "\n",
    "    def speak(self):            # 方法\n",
    "        print(f\"{self.name} makes a sound.\")\n",
    "\n",
    "    def info(self):             # 方法\n",
    "        return f\"{self.name} is a {self.species}.\"\n"
   ]
  },
  {
   "cell_type": "code",
   "execution_count": 8,
   "id": "599f506f",
   "metadata": {},
   "outputs": [
    {
     "name": "stdout",
     "output_type": "stream",
     "text": [
      "Buddy makes a sound.\n",
      "Whiskers makes a sound.\n",
      "Buddy is a Dog.\n",
      "Whiskers is a Cat.\n"
     ]
    }
   ],
   "source": [
    "# 这里基于动物类，实例化了两个对象（dog狗、cat猫），并且在实例化的时候传入了对应的类的属性（名称name、种类species）\n",
    "dog = Animal(\"Buddy\", \"Dog\")  # 创建对象\n",
    "cat = Animal(\"Whiskers\", \"Cat\")  # 创建另一个对象\n",
    "\n",
    "# 实例化后的对象可以调用方法\n",
    "# 调用方法\n",
    "dog.speak()  # 输出: Buddy makes a sound.\n",
    "cat.speak()  # 输出: Whiskers makes a sound.\n",
    "\n",
    "# 实例化后的对象可以调用属性\n",
    "# 调用属性\n",
    "print(dog.info())  # 输出: Buddy is a Dog.\n",
    "print(cat.info())  # 输出: Whiskers is a Cat.\n"
   ]
  },
  {
   "cell_type": "markdown",
   "id": "79376c8d",
   "metadata": {},
   "source": [
    "## 类与对象的特性"
   ]
  },
  {
   "cell_type": "markdown",
   "id": "c4867992",
   "metadata": {},
   "source": [
    "### 类的特性"
   ]
  },
  {
   "cell_type": "markdown",
   "id": "b3d2701d",
   "metadata": {},
   "source": [
    "- **抽象**：类是抽象的，它仅描述了对象的结构和行为，但不是具体的实例。\n",
    "- **封装**：类将数据（属性）和操作这些数据的方法（行为）封装在一起，提供数据的逻辑边界。\n",
    "- **继承**：类可以从另一个类继承属性和方法，支持代码复用和扩展。\n",
    "- **多态**：不同的类可以定义相同的方法，但行为可以不同。"
   ]
  },
  {
   "cell_type": "markdown",
   "id": "bf7a87a3",
   "metadata": {},
   "source": [
    "### 对象的特性"
   ]
  },
  {
   "cell_type": "markdown",
   "id": "fe55f0dc",
   "metadata": {},
   "source": [
    "- **具体性**：对象是实际存在的实体，具有具体的状态和行为。\n",
    "- **独立性**：每个对象有独立的属性，不同对象的属性互不影响\n",
    "- **动态性**：对象的属性可以在运行时更改。"
   ]
  },
  {
   "cell_type": "markdown",
   "id": "df971c79",
   "metadata": {},
   "source": [
    "## 类的组成"
   ]
  },
  {
   "cell_type": "markdown",
   "id": "b7d0a549",
   "metadata": {},
   "source": [
    "- **属性（Attributes）**：类中定义的数据，描述了对象的状态，在构造方法中声明。\n",
    "- **方法（Methods）**：类中定义的函数，描述了对象的行为。\n",
    "- **构造方法（Constructor）**：\n",
    "    - \\__init__，一种特殊的方法，用于在创建对象时初始化**属性**。\n",
    "    - self：‘我’的意思，在\\__init__中用于声明对象的属性，并在类中可以全局调用。**self需要作为方法的第一个参数显式传递**\n",
    "        - self 是理解 Python 面向对象编程的核心，它确保了类中的方法可以正确操作实例的属性和行为"
   ]
  },
  {
   "cell_type": "markdown",
   "id": "b6b29818",
   "metadata": {},
   "source": [
    "## 类与对象的关系"
   ]
  },
  {
   "cell_type": "markdown",
   "id": "803af31f",
   "metadata": {},
   "source": [
    "- 类是抽象的，不能直接使用，必须通过创建对象来实例化。\n",
    "- 对象是类的具体化，是类的实例。\n",
    "- 类为对象提供了行为和属性的定义，而对象通过类的定义展现其特定的状态和功能。"
   ]
  },
  {
   "cell_type": "markdown",
   "id": "fe910b88",
   "metadata": {},
   "source": [
    "## 类与对象实际案例"
   ]
  },
  {
   "cell_type": "code",
   "execution_count": 17,
   "id": "7696fec8",
   "metadata": {},
   "outputs": [],
   "source": [
    "# 通过 class BankAccount 定义了一个银行账户类。\n",
    "# 这个类包含\n",
    "#     - 属性：账户持有者 (account_holder)、账户余额 (balance)\n",
    "#     - 方法：存钱 (deposit)、取钱 (withdraw)、显示账户信息 (display_info)\n",
    "\n",
    "class BankAccount:\n",
    "    # __init__是构造方法，当创建对象时，__init__ 方法会被自动调用，用于初始化对象的属性\n",
    "    def __init__(self, account_holder, balance=0):\n",
    "        self.account_holder = account_holder  # 存储账户持有者的名字\n",
    "        self.balance = balance  # 初始余额，默认为0\n",
    "\n",
    "    # 方法：存钱\n",
    "    def deposit(self, amount):\n",
    "        if amount > 0:\n",
    "            self.balance += amount\n",
    "            print(f\"{self.account_holder}存入了{amount}元，当前余额：{self.balance}元\")\n",
    "        else:\n",
    "            print(\"存款金额必须大于0\")\n",
    "\n",
    "    # 方法：取钱\n",
    "    def withdraw(self, amount):\n",
    "        if amount > self.balance:\n",
    "            print(f\"{self.account_holder}取款失败，余额不足！当前余额：{self.balance}元\")\n",
    "        elif amount > 0:\n",
    "            self.balance -= amount\n",
    "            print(f\"{self.account_holder}取出了{amount}元，当前余额：{self.balance}元\")\n",
    "        else:\n",
    "            print(\"取款金额必须大于0\")\n",
    "\n",
    "    # 方法：显示账户信息\n",
    "    def display_info(self):\n",
    "        print(f\"账户持有者：{self.account_holder}\")\n",
    "        print(f\"账户余额：{self.balance}元\")\n",
    "\n",
    "\n",
    "# 创建对象：小明的账户\n",
    "# 创建了一个账户持有者是“小明”，初始余额为 1000 的对象\n",
    "xiaoming_account = BankAccount(\"小明\", 1000)  # 账户初始余额为1000元\n"
   ]
  },
  {
   "cell_type": "code",
   "execution_count": 18,
   "id": "a5f69116",
   "metadata": {},
   "outputs": [
    {
     "name": "stdout",
     "output_type": "stream",
     "text": [
      "账户持有者：小明\n",
      "账户余额：1000元\n",
      "小明存入了500元，当前余额：1500元\n",
      "小明取出了200元，当前余额：1300元\n",
      "小明取款失败，余额不足！当前余额：1300元\n",
      "小红存入了100元，当前余额：100元\n",
      "账户持有者：小红\n",
      "账户余额：100元\n"
     ]
    }
   ],
   "source": [
    "\n",
    "# 调用对象的方法：存钱 (deposit)、取钱 (withdraw)、显示账户信息 (display_info)\n",
    "xiaoming_account.display_info()  # 显示账户信息\n",
    "xiaoming_account.deposit(500)    # 存500元\n",
    "xiaoming_account.withdraw(200)   # 取200元\n",
    "xiaoming_account.withdraw(1500)  # 试图取超过余额的钱\n",
    "\n",
    "# 每个对象有独立的属性，不同对象的属性互不影响\n",
    "# 创建另一个对象：小红的账户，并操作其余额，和小明的账户完全独立\n",
    "xiaohong_account = BankAccount(\"小红\")  # 默认余额为0\n",
    "xiaohong_account.deposit(100)  # 小红存入100元\n",
    "xiaohong_account.display_info()  # 显示小红账户信息"
   ]
  },
  {
   "cell_type": "code",
   "execution_count": null,
   "id": "5ad14d4e",
   "metadata": {},
   "outputs": [],
   "source": []
  }
 ],
 "metadata": {
  "kernelspec": {
   "display_name": "Python 3 (ipykernel)",
   "language": "python",
   "name": "python3"
  },
  "language_info": {
   "codemirror_mode": {
    "name": "ipython",
    "version": 3
   },
   "file_extension": ".py",
   "mimetype": "text/x-python",
   "name": "python",
   "nbconvert_exporter": "python",
   "pygments_lexer": "ipython3",
   "version": "3.12.2"
  },
  "toc": {
   "base_numbering": 1,
   "nav_menu": {},
   "number_sections": true,
   "sideBar": true,
   "skip_h1_title": false,
   "title_cell": "Table of Contents",
   "title_sidebar": "Contents",
   "toc_cell": false,
   "toc_position": {
    "height": "calc(100% - 180px)",
    "left": "10px",
    "top": "150px",
    "width": "288px"
   },
   "toc_section_display": true,
   "toc_window_display": true
  }
 },
 "nbformat": 4,
 "nbformat_minor": 5
}
