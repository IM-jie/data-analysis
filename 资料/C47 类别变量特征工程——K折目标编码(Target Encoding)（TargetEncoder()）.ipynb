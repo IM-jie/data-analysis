{
 "cells": [
  {
   "cell_type": "markdown",
   "id": "ac9fc71d",
   "metadata": {},
   "source": [
    "# 目标编码(Target Encoding)"
   ]
  },
  {
   "cell_type": "markdown",
   "id": "f764e8c1",
   "metadata": {},
   "source": [
    "**目标编码（Target Encoding）**，也称为均值编码（Mean Encoding），是一种用于将分类变量转换为数值型变量的有监督编码技术。它利用目标变量（如分类中的label、回归中的目标值）来生成类别的数值表示。\n",
    "\n",
    "目标编码的**核心思想**是：用每个类别在训练数据中对应目标变量的平均值来表示这个类别。这种方法通过引入目标变量信息，使模型能够更好地利用类别变量中的隐藏信息，但也带来了数据泄漏和过拟合的风险。\n",
    "\n",
    "如果某一个分类变量的取值非常多，那么称其为**高基数特征**。目标编码非常适用于高基数类别特征的编码。"
   ]
  },
  {
   "cell_type": "markdown",
   "id": "36139752",
   "metadata": {},
   "source": [
    "## 原理介绍"
   ]
  },
  {
   "cell_type": "markdown",
   "id": "c590c708",
   "metadata": {},
   "source": [
    "### 原理公式"
   ]
  },
  {
   "cell_type": "markdown",
   "id": "1ad7dc90",
   "metadata": {},
   "source": [
    "给定：\n",
    "- 一个类别特征列$X$，如：['A', 'B', 'A', 'C'] \n",
    "- 一个目标变量$y$，如：[1, 0, 1, 1] \n",
    "目标是对类别特征$X$中的每个唯一值，计算它在$y$中对应的平均值：\n",
    "$$\\text{TargetEncoded}(x_i) = \\frac{1}{n_i} \\sum_{j=1}^{n_i} y_j \\quad \\text{for all } x_j = x_i$$"
   ]
  },
  {
   "cell_type": "markdown",
   "id": "75bf01d6",
   "metadata": {},
   "source": [
    "### 示例"
   ]
  },
  {
   "cell_type": "markdown",
   "id": "694d022c",
   "metadata": {},
   "source": [
    "#### 原始特征"
   ]
  },
  {
   "cell_type": "markdown",
   "id": "247d2ba3",
   "metadata": {},
   "source": [
    "| 样本 | 类别X | 标签y |\n",
    "| -- | --- | --- |\n",
    "| 1  | A   | 1   |\n",
    "| 2  | B   | 0   |\n",
    "| 3  | A   | 1   |\n",
    "| 4  | C   | 1   |"
   ]
  },
  {
   "cell_type": "markdown",
   "id": "9a49a33c",
   "metadata": {},
   "source": [
    "#### 分类别计算均值编码\n",
    "- A → (1+1)/2=1.0(1 + 1)/2 = 1.0 \n",
    "- B → 0/1=0.00/1 = 0.0 \n",
    "- C → 1/1=1.0/1 = 1.0 "
   ]
  },
  {
   "cell_type": "markdown",
   "id": "8fc987dc",
   "metadata": {},
   "source": [
    "#### 编码后结果\n",
    "| 样本 | 类别X | 标签y | 编码结果 |\n",
    "| -- | --- | --- | ---- |\n",
    "| 1  | A   | 1   | 1.0  |\n",
    "| 2  | B   | 0   | 0.0  |\n",
    "| 3  | A   | 1   | 1.0  |\n",
    "| 4  | C   | 1   | 1.0  |"
   ]
  },
  {
   "cell_type": "markdown",
   "id": "72a5f337",
   "metadata": {},
   "source": [
    "#### 可能存在问题\n",
    "- 标签泄漏: 目标编码计算均值过程中使用了标签信息，如果计算过程中不小心使用了测试集中的标签信息，会导致模型在训练时“看到未来”，也即“标签泄漏”。\n",
    "- 小样本过拟合: 如果某个类别出现次数太少，它的编码值（均值）可能会非常不稳定或出现极端值。"
   ]
  },
  {
   "cell_type": "markdown",
   "id": "1cfe0fc8",
   "metadata": {},
   "source": [
    "### 解决方法：平滑 + K折编码"
   ]
  },
  {
   "cell_type": "markdown",
   "id": "265cfe7d",
   "metadata": {},
   "source": [
    "#### 平滑（Smoothing）"
   ]
  },
  {
   "cell_type": "markdown",
   "id": "22b0a9d9",
   "metadata": {},
   "source": [
    "将类别的目标均值与整体均值进行加权平均：\n",
    "$$\\hat{y}_x = \\frac{n_x \\cdot \\bar{y}_x + m \\cdot \\bar{y}}{n_x + m}$$\n",
    "其中，\n",
    "- $n_x$：该类别的样本数 \n",
    "- $\\bar{y}_x$：该类别目标均值 \n",
    "- $\\bar{y}$：全体目标均值 \n",
    "- $m$：平滑参数，越大则更偏向全局均值 "
   ]
  },
  {
   "cell_type": "markdown",
   "id": "26a322f1",
   "metadata": {},
   "source": [
    "#### K折目标编码（Cross-Validation Encoding）"
   ]
  },
  {
   "cell_type": "markdown",
   "id": "2d29814d",
   "metadata": {},
   "source": [
    "- 将训练集划分为 K 折，每次用 K-1 折计算均值编码，应用在剩下的 1 折上。\n",
    "- 由于在这个过程中对当前样本的编码值并不使用它自身的标签信息，因此可以避免标签泄漏。"
   ]
  },
  {
   "cell_type": "markdown",
   "id": "33ec07b1",
   "metadata": {},
   "source": [
    "## 优缺点"
   ]
  },
  {
   "cell_type": "markdown",
   "id": "264561a4",
   "metadata": {},
   "source": [
    "- 优点:\n",
    "    - 更节省空间（避免大量 One-Hot 特征）\n",
    "    - 对高基数特征更有效\n",
    "    - 融合了标签信息，模型表达能力更强\n",
    "- 缺点: \n",
    "    - 操作难度大，容易标签泄漏\n",
    "    - 对类别少、样本少的特征不稳健\n",
    "    - 不适合在测试集中直接使用训练集目标均值（需加防泄漏策略）"
   ]
  },
  {
   "cell_type": "markdown",
   "id": "e0ba6c30",
   "metadata": {},
   "source": [
    "## 使用场景介绍"
   ]
  },
  {
   "cell_type": "markdown",
   "id": "0c61c650",
   "metadata": {},
   "source": [
    "### 适用场景\n",
    "- **分类变量是有序的（Ordinal）**: 目标编码能保留类别之间的“顺序”关系，而 One-Hot 编码会打乱这种顺序。\n",
    "- **类别数量很多（高基数）**: 独热编码会导致维度爆炸，目标编码则能压缩为一个数值列。\n",
    "- **类别与目标变量具有较强相关性**: 如果某些类别倾向于更高或更低的目标值，目标编码可以提取这种统计关系，增强特征表达能力。\n",
    "- **用于不支持类别变量的模型**: 如线性回归、逻辑回归、神经网络等，需要数值输入时，目标编码是一种比 One-Hot 更压缩有效的方式。\n",
    "- **作为统计特征，增强模型表达力**: 目标编码可以作为一种“标签统计信息”，在特征工程阶段加入模型，提升性能。\n",
    "- **在树模型中使用（如 LightGBM、XGBoost）**: 虽然树模型可以处理类别特征，但目标编码能引入目标分布信息，提升效果。"
   ]
  },
  {
   "cell_type": "markdown",
   "id": "d3a91a9c",
   "metadata": {},
   "source": [
    "### 慎用场景\n",
    "- **类别样本数很少时**: 容易出现过拟合，编码值极端不稳定。需要引入平滑或合并小样本类别。\n",
    "- **训练数据和测试数据之间存在数据泄漏风险时**: 如果不使用交叉编码（K折）或时间戳切分，模型可能“偷看答案”，训练效果很好但泛化很差。"
   ]
  },
  {
   "cell_type": "markdown",
   "id": "c2837541",
   "metadata": {},
   "source": [
    "### 不适用场景\n",
    "- **类别数量很少（如性别、是/否等）**: 用 One-Hot 更清晰，不需要目标编码。\n",
    "- **无监督学习任务（聚类、降维等）**: 目标编码会引入目标变量的信息，用于无监督任务属于数据泄漏。"
   ]
  },
  {
   "cell_type": "markdown",
   "id": "5cd2f2bc",
   "metadata": {},
   "source": [
    "# 代码实现"
   ]
  },
  {
   "cell_type": "markdown",
   "id": "27651aa4",
   "metadata": {},
   "source": [
    "## category_encoders.TargetEncoder()"
   ]
  },
  {
   "cell_type": "markdown",
   "id": "8d19af86",
   "metadata": {},
   "source": [
    "### 输入参数\n",
    "- `verbose`：是否输出日志信息。\n",
    "    - 0（默认）：不输出\n",
    "    - 1 ：输出编码日志信息\n",
    "- `cols`：指定需要进行目标编码的列名。\n",
    "    - None（默认）：自动识别非数值列\n",
    "    - 显式指定待编码的列\n",
    "- `drop_invariant`：是否删除编码后方差为 0 的列。\n",
    "    - False（默认）：保留这些列\n",
    "    - True：删除无变化的列（对模型无用）\n",
    "- `handle_missing`：训练或测试数据中出现缺失值（NaN）时的处理方式。\n",
    "    - 'value'（推荐）：使用全局均值进行编码\n",
    "    - 'return_nan'：保留 NaN 值\n",
    "    - 'error'：抛出错误，适合缺失值应已清洗干净的场景\n",
    "- `handle_unknown`：测试集中出现训练集中未见的类别时的处理方式。\n",
    "    - 'value'（推荐）：使用全局均值\n",
    "    - 'return_nan'：返回 NaN\n",
    "    - 'error'：抛出错误（默认，易导致程序中断）\n",
    "- `smoothing`：控制类别均值与全局均值之间的加权平滑程度。\n",
    "    - 默认：10\n",
    "    - 数值越大，编码结果越接近全局均值；数值越小，越贴近该类别真实均值\n",
    "    - 建议范围：5 ~ 30（需要调参）"
   ]
  },
  {
   "cell_type": "markdown",
   "id": "72dc676c",
   "metadata": {},
   "source": [
    "### 方法"
   ]
  },
  {
   "cell_type": "markdown",
   "id": "f1c8128c",
   "metadata": {},
   "source": [
    "| 方法名 / 属性名                      | 说明                                 |\n",
    "| ------------------------------ | ---------------------------------- |\n",
    "| `fit(X, y)`                    | 拟合目标编码器，学习每个类别对应的目标均值（必须提供 `y`）    |\n",
    "| `transform(X)`                 | 使用已拟合好的编码器，将分类变量编码为数值型（无需再次传入 `y`） |\n",
    "| `fit_transform(X, y)`          | 拟合并转换（适用于训练集）                      |\n",
    "| `inverse_transform(X_encoded)` | 将编码后的数据还原为原始类别（注意：对目标编码并不总是精确可逆）   |\n",
    "| `get_params()`                 | 获取编码器当前参数配置（以字典形式返回）               |\n",
    "| `set_params(**params)`         | 设置编码器的参数                           |\n",
    "| `get_feature_names_out()`      | 获取编码后的特征列名列表                       |\n",
    "| `cols`                         | 需要编码的列名列表（初始化或拟合后可访问）              |\n",
    "| `category_mapping`             | 存储每个类别及其编码值的映射关系（拟合后可查看）           |\n",
    "| `drop_cols_`                   | 自动删除的列（如 `drop_invariant=True` 时）  |\n",
    "| `feature_names_in_`            | 输入特征名称（scikit-learn >= 1.0 支持）     |\n"
   ]
  },
  {
   "cell_type": "markdown",
   "id": "9379f59b",
   "metadata": {},
   "source": [
    "# 实际案例"
   ]
  },
  {
   "cell_type": "markdown",
   "id": "ace3573d",
   "metadata": {},
   "source": [
    "## 泰坦尼克数据集"
   ]
  },
  {
   "cell_type": "markdown",
   "id": "030d3dce",
   "metadata": {},
   "source": [
    "**titanic 数据集**包含了 891 条乘客记录，每条记录描述了乘客的个人信息及其在 Titanic 号上的生存情况\n",
    "- survived：生存情况（0 = 未生还, 1 = 生还）\n",
    "- pclass：乘客舱等级（1 = 一等舱, 2 = 二等舱, 3 = 三等舱）\n",
    "- sex：乘客性别（male = 男性, female = 女性）\n",
    "- age：乘客年龄（float，部分缺失值）\n",
    "- sibsp：乘客在船上的兄弟姐妹或配偶数量（整数）\n",
    "- parch：乘客在船上的父母或子女数量（整数）\n",
    "- fare：乘客支付的票价（float）\n",
    "- embarked：乘客登船港口（C = 瑟堡, Q = 皇后镇, S = 南安普敦）\n",
    "- class：舱等级（文本版本的 pclass，First = 头等舱, Second = 二等舱, Third = 三等舱）\n",
    "- who：乘客身份（man = 成年男性, woman = 成年女性, child = 儿童）\n",
    "- adult_male：是否为成年男性（True = 是, False = 否）\n",
    "- deck：乘客所在的甲板（A, B, C, D, E, F, G，部分缺失值较多）\n",
    "- embark_town：乘客登船的城市（Cherbourg = 瑟堡, Queenstown = 皇后镇, Southampton = 南安普敦）\n",
    "- alone：是否独自旅行（True = 独自旅行，False = 有亲属同行，对应 sibsp + parch == 0）"
   ]
  },
  {
   "cell_type": "code",
   "execution_count": 3,
   "id": "ce4b03f2",
   "metadata": {},
   "outputs": [
    {
     "data": {
      "text/html": [
       "<div>\n",
       "<style scoped>\n",
       "    .dataframe tbody tr th:only-of-type {\n",
       "        vertical-align: middle;\n",
       "    }\n",
       "\n",
       "    .dataframe tbody tr th {\n",
       "        vertical-align: top;\n",
       "    }\n",
       "\n",
       "    .dataframe thead th {\n",
       "        text-align: right;\n",
       "    }\n",
       "</style>\n",
       "<table border=\"1\" class=\"dataframe\">\n",
       "  <thead>\n",
       "    <tr style=\"text-align: right;\">\n",
       "      <th></th>\n",
       "      <th>survived</th>\n",
       "      <th>pclass</th>\n",
       "      <th>sex</th>\n",
       "      <th>age</th>\n",
       "      <th>sibsp</th>\n",
       "      <th>parch</th>\n",
       "      <th>fare</th>\n",
       "      <th>embarked</th>\n",
       "      <th>class</th>\n",
       "      <th>who</th>\n",
       "      <th>adult_male</th>\n",
       "      <th>deck</th>\n",
       "      <th>embark_town</th>\n",
       "      <th>alive</th>\n",
       "      <th>alone</th>\n",
       "    </tr>\n",
       "  </thead>\n",
       "  <tbody>\n",
       "    <tr>\n",
       "      <th>0</th>\n",
       "      <td>0</td>\n",
       "      <td>3</td>\n",
       "      <td>1</td>\n",
       "      <td>22.0</td>\n",
       "      <td>1</td>\n",
       "      <td>0</td>\n",
       "      <td>7.2500</td>\n",
       "      <td>S</td>\n",
       "      <td>Third</td>\n",
       "      <td>man</td>\n",
       "      <td>True</td>\n",
       "      <td>NaN</td>\n",
       "      <td>Southampton</td>\n",
       "      <td>no</td>\n",
       "      <td>False</td>\n",
       "    </tr>\n",
       "    <tr>\n",
       "      <th>1</th>\n",
       "      <td>1</td>\n",
       "      <td>1</td>\n",
       "      <td>0</td>\n",
       "      <td>38.0</td>\n",
       "      <td>1</td>\n",
       "      <td>0</td>\n",
       "      <td>71.2833</td>\n",
       "      <td>C</td>\n",
       "      <td>First</td>\n",
       "      <td>woman</td>\n",
       "      <td>False</td>\n",
       "      <td>C</td>\n",
       "      <td>Cherbourg</td>\n",
       "      <td>yes</td>\n",
       "      <td>False</td>\n",
       "    </tr>\n",
       "    <tr>\n",
       "      <th>2</th>\n",
       "      <td>1</td>\n",
       "      <td>3</td>\n",
       "      <td>0</td>\n",
       "      <td>26.0</td>\n",
       "      <td>0</td>\n",
       "      <td>0</td>\n",
       "      <td>7.9250</td>\n",
       "      <td>S</td>\n",
       "      <td>Third</td>\n",
       "      <td>woman</td>\n",
       "      <td>False</td>\n",
       "      <td>NaN</td>\n",
       "      <td>Southampton</td>\n",
       "      <td>yes</td>\n",
       "      <td>True</td>\n",
       "    </tr>\n",
       "    <tr>\n",
       "      <th>3</th>\n",
       "      <td>1</td>\n",
       "      <td>1</td>\n",
       "      <td>0</td>\n",
       "      <td>35.0</td>\n",
       "      <td>1</td>\n",
       "      <td>0</td>\n",
       "      <td>53.1000</td>\n",
       "      <td>S</td>\n",
       "      <td>First</td>\n",
       "      <td>woman</td>\n",
       "      <td>False</td>\n",
       "      <td>C</td>\n",
       "      <td>Southampton</td>\n",
       "      <td>yes</td>\n",
       "      <td>False</td>\n",
       "    </tr>\n",
       "    <tr>\n",
       "      <th>4</th>\n",
       "      <td>0</td>\n",
       "      <td>3</td>\n",
       "      <td>1</td>\n",
       "      <td>35.0</td>\n",
       "      <td>0</td>\n",
       "      <td>0</td>\n",
       "      <td>8.0500</td>\n",
       "      <td>S</td>\n",
       "      <td>Third</td>\n",
       "      <td>man</td>\n",
       "      <td>True</td>\n",
       "      <td>NaN</td>\n",
       "      <td>Southampton</td>\n",
       "      <td>no</td>\n",
       "      <td>True</td>\n",
       "    </tr>\n",
       "    <tr>\n",
       "      <th>...</th>\n",
       "      <td>...</td>\n",
       "      <td>...</td>\n",
       "      <td>...</td>\n",
       "      <td>...</td>\n",
       "      <td>...</td>\n",
       "      <td>...</td>\n",
       "      <td>...</td>\n",
       "      <td>...</td>\n",
       "      <td>...</td>\n",
       "      <td>...</td>\n",
       "      <td>...</td>\n",
       "      <td>...</td>\n",
       "      <td>...</td>\n",
       "      <td>...</td>\n",
       "      <td>...</td>\n",
       "    </tr>\n",
       "    <tr>\n",
       "      <th>886</th>\n",
       "      <td>0</td>\n",
       "      <td>2</td>\n",
       "      <td>1</td>\n",
       "      <td>27.0</td>\n",
       "      <td>0</td>\n",
       "      <td>0</td>\n",
       "      <td>13.0000</td>\n",
       "      <td>S</td>\n",
       "      <td>Second</td>\n",
       "      <td>man</td>\n",
       "      <td>True</td>\n",
       "      <td>NaN</td>\n",
       "      <td>Southampton</td>\n",
       "      <td>no</td>\n",
       "      <td>True</td>\n",
       "    </tr>\n",
       "    <tr>\n",
       "      <th>887</th>\n",
       "      <td>1</td>\n",
       "      <td>1</td>\n",
       "      <td>0</td>\n",
       "      <td>19.0</td>\n",
       "      <td>0</td>\n",
       "      <td>0</td>\n",
       "      <td>30.0000</td>\n",
       "      <td>S</td>\n",
       "      <td>First</td>\n",
       "      <td>woman</td>\n",
       "      <td>False</td>\n",
       "      <td>B</td>\n",
       "      <td>Southampton</td>\n",
       "      <td>yes</td>\n",
       "      <td>True</td>\n",
       "    </tr>\n",
       "    <tr>\n",
       "      <th>888</th>\n",
       "      <td>0</td>\n",
       "      <td>3</td>\n",
       "      <td>0</td>\n",
       "      <td>28.0</td>\n",
       "      <td>1</td>\n",
       "      <td>2</td>\n",
       "      <td>23.4500</td>\n",
       "      <td>S</td>\n",
       "      <td>Third</td>\n",
       "      <td>woman</td>\n",
       "      <td>False</td>\n",
       "      <td>NaN</td>\n",
       "      <td>Southampton</td>\n",
       "      <td>no</td>\n",
       "      <td>False</td>\n",
       "    </tr>\n",
       "    <tr>\n",
       "      <th>889</th>\n",
       "      <td>1</td>\n",
       "      <td>1</td>\n",
       "      <td>1</td>\n",
       "      <td>26.0</td>\n",
       "      <td>0</td>\n",
       "      <td>0</td>\n",
       "      <td>30.0000</td>\n",
       "      <td>C</td>\n",
       "      <td>First</td>\n",
       "      <td>man</td>\n",
       "      <td>True</td>\n",
       "      <td>C</td>\n",
       "      <td>Cherbourg</td>\n",
       "      <td>yes</td>\n",
       "      <td>True</td>\n",
       "    </tr>\n",
       "    <tr>\n",
       "      <th>890</th>\n",
       "      <td>0</td>\n",
       "      <td>3</td>\n",
       "      <td>1</td>\n",
       "      <td>32.0</td>\n",
       "      <td>0</td>\n",
       "      <td>0</td>\n",
       "      <td>7.7500</td>\n",
       "      <td>Q</td>\n",
       "      <td>Third</td>\n",
       "      <td>man</td>\n",
       "      <td>True</td>\n",
       "      <td>NaN</td>\n",
       "      <td>Queenstown</td>\n",
       "      <td>no</td>\n",
       "      <td>True</td>\n",
       "    </tr>\n",
       "  </tbody>\n",
       "</table>\n",
       "<p>891 rows × 15 columns</p>\n",
       "</div>"
      ],
      "text/plain": [
       "     survived  pclass  sex   age  sibsp  parch     fare embarked   class  \\\n",
       "0           0       3    1  22.0      1      0   7.2500        S   Third   \n",
       "1           1       1    0  38.0      1      0  71.2833        C   First   \n",
       "2           1       3    0  26.0      0      0   7.9250        S   Third   \n",
       "3           1       1    0  35.0      1      0  53.1000        S   First   \n",
       "4           0       3    1  35.0      0      0   8.0500        S   Third   \n",
       "..        ...     ...  ...   ...    ...    ...      ...      ...     ...   \n",
       "886         0       2    1  27.0      0      0  13.0000        S  Second   \n",
       "887         1       1    0  19.0      0      0  30.0000        S   First   \n",
       "888         0       3    0  28.0      1      2  23.4500        S   Third   \n",
       "889         1       1    1  26.0      0      0  30.0000        C   First   \n",
       "890         0       3    1  32.0      0      0   7.7500        Q   Third   \n",
       "\n",
       "       who  adult_male deck  embark_town alive  alone  \n",
       "0      man        True  NaN  Southampton    no  False  \n",
       "1    woman       False    C    Cherbourg   yes  False  \n",
       "2    woman       False  NaN  Southampton   yes   True  \n",
       "3    woman       False    C  Southampton   yes  False  \n",
       "4      man        True  NaN  Southampton    no   True  \n",
       "..     ...         ...  ...          ...   ...    ...  \n",
       "886    man        True  NaN  Southampton    no   True  \n",
       "887  woman       False    B  Southampton   yes   True  \n",
       "888  woman       False  NaN  Southampton    no  False  \n",
       "889    man        True    C    Cherbourg   yes   True  \n",
       "890    man        True  NaN   Queenstown    no   True  \n",
       "\n",
       "[891 rows x 15 columns]"
      ]
     },
     "execution_count": 3,
     "metadata": {},
     "output_type": "execute_result"
    }
   ],
   "source": [
    "# 导入必要的库\n",
    "import numpy as np\n",
    "import pandas as pd\n",
    "import seaborn as sns\n",
    "import matplotlib.pyplot as plt\n",
    "from sklearn.tree import DecisionTreeClassifier, export_text, plot_tree\n",
    "import xgboost as xgb\n",
    "from sklearn.model_selection import train_test_split, GridSearchCV\n",
    "from sklearn.metrics import (accuracy_score, confusion_matrix, \n",
    "                           classification_report, roc_curve, auc)\n",
    "from sklearn.preprocessing import LabelEncoder\n",
    "import warnings\n",
    "warnings.filterwarnings('ignore')\n",
    "\n",
    "# 加载seaborn内置的泰坦尼克数据集\n",
    "df = sns.load_dataset('titanic')\n",
    "\n",
    "# 填充 'age' 列的缺失值：使用该列的中位数填充缺失值\n",
    "df['age'].fillna(df['age'].median(), inplace=True)\n",
    "# 填充 'embarked' 列的缺失值：使用该列的众数填充缺失值\n",
    "df['embarked'].fillna(df['embarked'].mode()[0], inplace=True)\n",
    "# 将 'sex' 列转化为数值：'male' 映射为 1，'female' 映射为 0\n",
    "df['sex'] = df['sex'].map({'male': 1, 'female': 0})\n",
    "# # 将 'embarked' 列转化为数值：'C' 映射为 0，'Q' 映射为 1，'S' 映射为 2\n",
    "# df['embarked'] = df['embarked'].map({'C': 0, 'Q': 1, 'S': 2})\n",
    "\n",
    "df"
   ]
  },
  {
   "cell_type": "markdown",
   "id": "790717c0",
   "metadata": {},
   "source": [
    "## 代码实现"
   ]
  },
  {
   "cell_type": "markdown",
   "id": "64e5246c",
   "metadata": {},
   "source": [
    "lightgbm版本必须是4.6.0，否则可能报错"
   ]
  },
  {
   "cell_type": "code",
   "execution_count": 4,
   "id": "248b9363",
   "metadata": {
    "scrolled": false
   },
   "outputs": [
    {
     "name": "stdout",
     "output_type": "stream",
     "text": [
      "Training until validation scores don't improve for 50 rounds\n",
      "[10]\ttrain's binary_logloss: 0.570369\ttrain's auc: 0.898699\tvalid's binary_logloss: 0.581838\tvalid's auc: 0.900515\n",
      "[20]\ttrain's binary_logloss: 0.505153\ttrain's auc: 0.904166\tvalid's binary_logloss: 0.514921\tvalid's auc: 0.904826\n",
      "[30]\ttrain's binary_logloss: 0.461299\ttrain's auc: 0.906901\tvalid's binary_logloss: 0.472729\tvalid's auc: 0.906821\n",
      "[40]\ttrain's binary_logloss: 0.430817\ttrain's auc: 0.910452\tvalid's binary_logloss: 0.445246\tvalid's auc: 0.907658\n",
      "[50]\ttrain's binary_logloss: 0.408863\ttrain's auc: 0.914704\tvalid's binary_logloss: 0.428529\tvalid's auc: 0.906885\n",
      "[60]\ttrain's binary_logloss: 0.390157\ttrain's auc: 0.918721\tvalid's binary_logloss: 0.419571\tvalid's auc: 0.905856\n",
      "[70]\ttrain's binary_logloss: 0.374392\ttrain's auc: 0.922457\tvalid's binary_logloss: 0.411673\tvalid's auc: 0.904247\n",
      "[80]\ttrain's binary_logloss: 0.36162\ttrain's auc: 0.926772\tvalid's binary_logloss: 0.404982\tvalid's auc: 0.906049\n",
      "Early stopping, best iteration is:\n",
      "[37]\ttrain's binary_logloss: 0.439158\ttrain's auc: 0.910183\tvalid's binary_logloss: 0.452348\tvalid's auc: 0.90843\n",
      "Classification Report:\n",
      "              precision    recall  f1-score   support\n",
      "\n",
      "           0     0.7917    0.9048    0.8444       105\n",
      "           1     0.8305    0.6622    0.7368        74\n",
      "\n",
      "    accuracy                         0.8045       179\n",
      "   macro avg     0.8111    0.7835    0.7906       179\n",
      "weighted avg     0.8077    0.8045    0.8000       179\n",
      "\n"
     ]
    },
    {
     "data": {
      "image/png": "[encoded data removed]",
      "text/plain": [
       "<Figure size 800x600 with 2 Axes>"
      ]
     },
     "metadata": {},
     "output_type": "display_data"
    },
    {
     "data": {
      "image/png": "[encoded data removed]",
      "text/plain": [
       "<Figure size 800x600 with 1 Axes>"
      ]
     },
     "metadata": {},
     "output_type": "display_data"
    }
   ],
   "source": [
    "# ============ 1. 导入必要的库 ============\n",
    "import pandas as pd\n",
    "import numpy as np\n",
    "from sklearn.model_selection import train_test_split, KFold\n",
    "from sklearn.metrics import classification_report, confusion_matrix, roc_curve, auc\n",
    "import matplotlib.pyplot as plt\n",
    "import seaborn as sns\n",
    "import lightgbm as lgb\n",
    "import category_encoders as ce  # 用于目标编码\n",
    "\n",
    "# ============ 2. 选择特征和目标变量 ============\n",
    "# 假设 df 是已加载并预处理好的泰坦尼克号数据\n",
    "# 特征包含类别型和数值型变量\n",
    "features = ['pclass', 'sex', 'age', 'sibsp', 'parch', 'fare', 'embarked']\n",
    "target = 'survived'\n",
    "\n",
    "# 去除包含缺失值的行，确保训练集干净\n",
    "df = df[features + [target]].dropna()\n",
    "\n",
    "# 拆分特征与目标\n",
    "X = df[features]\n",
    "y = df[target]\n",
    "\n",
    "# ============ 3. 划分训练集与验证集 ============\n",
    "X_train_raw, X_test_raw, y_train, y_test = train_test_split(\n",
    "    X, y, test_size=0.2, random_state=42\n",
    ")\n",
    "\n",
    "# ============ 4. 对类别变量使用 KFold Target Encoding ============\n",
    "cat_cols = ['embarked']  # 要进行目标编码的类别特征\n",
    "X_train_encoded = X_train_raw.copy()\n",
    "X_test_encoded = X_test_raw.copy()\n",
    "\n",
    "# 创建 5 折交叉验证器\n",
    "kf = KFold(n_splits=5, shuffle=True, random_state=42)\n",
    "\n",
    "# 针对每个类别变量执行 KFold 编码\n",
    "for col in cat_cols:\n",
    "    # 初始化一个新的列，用于存放训练集编码后的值\n",
    "    X_train_encoded[col + '_te'] = np.nan\n",
    "\n",
    "    # 对每一折进行编码训练与验证\n",
    "    for train_idx, val_idx in kf.split(X_train_raw):\n",
    "        # 获取当前折的训练集和验证集\n",
    "        X_train_fold = X_train_raw.iloc[train_idx]\n",
    "        X_val_fold = X_train_raw.iloc[val_idx]\n",
    "        y_train_fold = y_train.iloc[train_idx]\n",
    "\n",
    "        # 用当前折训练数据拟合编码器\n",
    "        encoder = ce.TargetEncoder(cols=[col])\n",
    "        encoder.fit(X_train_fold[col], y_train_fold)\n",
    "\n",
    "        # 用训练好编码器对验证集编码（注意：不能使用验证集 fit，避免信息泄露）\n",
    "        X_train_encoded.loc[X_train_encoded.index[val_idx], col + '_te'] = encoder.transform(X_val_fold[col])[col]\n",
    "\n",
    "    # 对验证集编码，使用整个训练集重新拟合编码器\n",
    "    encoder = ce.TargetEncoder(cols=[col])\n",
    "    encoder.fit(X_train_raw[col], y_train)\n",
    "    X_test_encoded[col + '_te'] = encoder.transform(X_test_raw[col])[col]\n",
    "\n",
    "# 删除原始的类别变量列，只保留编码后的数值列\n",
    "X_train_encoded.drop(columns=cat_cols, inplace=True)\n",
    "X_test_encoded.drop(columns=cat_cols, inplace=True)\n",
    "\n",
    "# ============ 5. 数值特征与目标编码列拼接 ============\n",
    "# 其余数值特征（包含 sex，已是二值）\n",
    "num_cols = ['sex', 'pclass', 'age', 'sibsp', 'parch', 'fare']\n",
    "# 拼接所有最终使用的特征\n",
    "X_train_final = pd.concat(\n",
    "    [X_train_encoded[num_cols], X_train_encoded[[col + '_te' for col in cat_cols]]], axis=1\n",
    ")\n",
    "X_test_final = pd.concat(\n",
    "    [X_test_encoded[num_cols], X_test_encoded[[col + '_te' for col in cat_cols]]], axis=1\n",
    ")\n",
    "\n",
    "# 转换为 NumPy 数组供 LightGBM 使用\n",
    "X_train = X_train_final.to_numpy()\n",
    "X_test = X_test_final.to_numpy()\n",
    "feature_names = X_train_final.columns.tolist()  # 保存特征名用于展示\n",
    "\n",
    "# ============ 6. LightGBM 数据集构建 ============\n",
    "dtrain = lgb.Dataset(X_train, label=y_train, feature_name=feature_names)\n",
    "dtest = lgb.Dataset(X_test, label=y_test, reference=dtrain)\n",
    "\n",
    "# ============ 7. LightGBM 模型参数设置 ============\n",
    "params = {\n",
    "    'objective': 'binary',                    # 二分类任务\n",
    "    'metric': {'binary_logloss', 'auc'},     # 使用 Logloss 和 AUC 作为评估指标\n",
    "    'num_leaves': 60,                        # 叶子节点数\n",
    "    'max_depth': -1,                         # 不限制深度\n",
    "    'min_data_in_leaf': 30,                  # 一个叶子上最小样本数\n",
    "    'learning_rate': 0.03,                   # 学习率\n",
    "    'feature_fraction': 0.9,                 # 每次迭代随机选择的特征比例\n",
    "    'bagging_fraction': 0.8,                 # 每次迭代随机选择的样本比例\n",
    "    'lambda_l1': 0.1,                        # L1 正则项\n",
    "    'lambda_l2': 0.001,                      # L2 正则项\n",
    "    'verbosity': -1,                         # 不打印日志\n",
    "    'seed': 2019                             # 随机种子，确保复现\n",
    "}\n",
    "\n",
    "# ============ 8. 模型训练 ============\n",
    "model = lgb.train(\n",
    "    params=params,\n",
    "    train_set=dtrain,\n",
    "    num_boost_round=1000,\n",
    "    valid_sets=[dtrain, dtest],\n",
    "    valid_names=['train', 'valid'],\n",
    "    callbacks=[\n",
    "        lgb.early_stopping(50),             # 如果 50 轮无提升，提前停止\n",
    "        lgb.log_evaluation(10)              # 每 10 轮输出一次日志\n",
    "    ]\n",
    ")\n",
    "\n",
    "# ============ 9. 模型预测 ============\n",
    "# 输出测试集中每个样本的预测概率\n",
    "y_probs = model.predict(X_test)\n",
    "# 将概率转为 0-1 标签，阈值为 0.5\n",
    "y_pred = (y_probs > 0.5).astype(int)\n",
    "\n",
    "# ============ 10. 模型评估 ============\n",
    "print(\"Classification Report:\")\n",
    "print(classification_report(y_test, y_pred, digits=4))\n",
    "\n",
    "# ============ 11. 可视化结果 ============\n",
    "\n",
    "# (1) 混淆矩阵可视化\n",
    "conf_matrix = confusion_matrix(y_test, y_pred)\n",
    "plt.figure(figsize=(8, 6))\n",
    "sns.heatmap(\n",
    "    conf_matrix,\n",
    "    annot=True,\n",
    "    fmt=\"d\",\n",
    "    cmap=\"Blues\",\n",
    "    xticklabels=[\"Not Survived\", \"Survived\"],\n",
    "    yticklabels=[\"Not Survived\", \"Survived\"]\n",
    ")\n",
    "plt.title(\"Confusion Matrix\")\n",
    "plt.xlabel(\"Predicted\")\n",
    "plt.ylabel(\"True\")\n",
    "plt.show()\n",
    "\n",
    "# (2) ROC 曲线与 AUC\n",
    "fpr, tpr, _ = roc_curve(y_test, y_probs)\n",
    "roc_auc = auc(fpr, tpr)\n",
    "\n",
    "plt.figure(figsize=(8, 6))\n",
    "plt.plot(fpr, tpr, color='darkblue', label=f'ROC (AUC = {roc_auc:.4f})')\n",
    "plt.plot([0, 1], [0, 1], 'k--')  # 虚线表示随机预测的 ROC 曲线\n",
    "plt.xlabel(\"False Positive Rate\")\n",
    "plt.ylabel(\"True Positive Rate\")\n",
    "plt.title(\"ROC Curve\")\n",
    "plt.legend(loc=\"lower right\")\n",
    "plt.show()"
   ]
  },
  {
   "cell_type": "code",
   "execution_count": null,
   "id": "824e459e",
   "metadata": {},
   "outputs": [],
   "source": []
  },
  {
   "cell_type": "code",
   "execution_count": null,
   "id": "e0d74d52",
   "metadata": {},
   "outputs": [],
   "source": []
  },
  {
   "cell_type": "code",
   "execution_count": null,
   "id": "0d25171a",
   "metadata": {},
   "outputs": [],
   "source": []
  }
 ],
 "metadata": {
  "kernelspec": {
   "display_name": "Python 3 (ipykernel)",
   "language": "python",
   "name": "python3"
  },
  "language_info": {
   "codemirror_mode": {
    "name": "ipython",
    "version": 3
   },
   "file_extension": ".py",
   "mimetype": "text/x-python",
   "name": "python",
   "nbconvert_exporter": "python",
   "pygments_lexer": "ipython3",
   "version": "3.12.2"
  },
  "toc": {
   "base_numbering": 1,
   "nav_menu": {},
   "number_sections": true,
   "sideBar": true,
   "skip_h1_title": false,
   "title_cell": "Table of Contents",
   "title_sidebar": "Contents",
   "toc_cell": false,
   "toc_position": {
    "height": "calc(100% - 180px)",
    "left": "10px",
    "top": "150px",
    "width": "288px"
   },
   "toc_section_display": true,
   "toc_window_display": true
  }
 },
 "nbformat": 4,
 "nbformat_minor": 5
}
