{
 "cells": [
  {
   "cell_type": "markdown",
   "id": "dbed1153-51a0-4a00-8f23-35b4e5e77249",
   "metadata": {},
   "source": [
    "# TP、TN、FP、FN的介绍"
   ]
  },
  {
   "cell_type": "markdown",
   "id": "caf74fa6",
   "metadata": {},
   "source": [
    "## 基本概念"
   ]
  },
  {
   "cell_type": "markdown",
   "id": "181a1ea6",
   "metadata": {},
   "source": [
    "与二分类模型相比，多分类问题中的TP、TN、FP、FN（即真阳性、真阴性、假阳性、假阴性）的定义变得相对复杂，不再是简单的“阳性”与“阴性”分类，而是涉及到多个类别之间的预测与实际标签的比较。\n",
    "\n",
    "在一个多分类问题中，TP、TN、FP 和 FN 是针对每个类别而言的。每个类别都可以有对应的 TP、TN、FP 和 FN：\n",
    "\n",
    "- **TP（True Positive，真阳性）**：被正确预测为该类别的样本数。\n",
    "- **TN（True Negative，真阴性）**：被正确预测为不是该类别的样本数。\n",
    "- **FP（False Positive，假阳性）**：被错误预测为该类别的样本数。\n",
    "- **FN（False Negative，假阴性）**：被错误预测为其他类别的样本数。"
   ]
  },
  {
   "cell_type": "markdown",
   "id": "b0acd631",
   "metadata": {},
   "source": [
    "假设有一个三分类问题，标签分别为A、B、C，以下是各类别的 TP、TN、FP、FN 计算方式：\n",
    "- 对于类别A\n",
    "    - TP (A): 被正确预测为 A 的样本数。\n",
    "    - TN (A): 真实标签不是 A，且预测也不是 A 的样本数。\n",
    "    - FP (A): 实际为 B 或 C 的样本，错误地被预测为 A 的样本数。\n",
    "    - FN (A): 实际为 A 的样本，错误地被预测为 B 或 C 的样本数。\n",
    "    \n",
    "- 对于类别B\n",
    "    - TP (B): 被正确预测为 B 的样本数。\n",
    "    - TN (B): 真实标签不是 B，且预测也不是 B 的样本数。\n",
    "    - FP (B): 实际为 A 或 C 的样本，错误地被预测为 B 的样本数。\n",
    "    - FN (B): 实际为 B 的样本，错误地被预测为 A 或 C 的样本数。\n",
    "\n",
    "- 对于类别 C\n",
    "    - TP (C): 被正确预测为 C 的样本数。\n",
    "    - TN (C): 真实标签不是 C，且预测也不是 C 的样本数。\n",
    "    - FP (C): 实际为 A 或 B 的样本，错误地被预测为 C 的样本数。\n",
    "    - FN (C): 实际为 C 的样本，错误地被预测为 A 或 B 的样本数。"
   ]
  },
  {
   "cell_type": "markdown",
   "id": "1149f443",
   "metadata": {},
   "source": [
    "## TP、TN、FP、FN手算案例"
   ]
  },
  {
   "cell_type": "markdown",
   "id": "4ceedd40",
   "metadata": {},
   "source": [
    "假设我们有 15 个样本，其真实标签（实际值）和预测标签如下\n",
    "\n",
    "| 样本编号 | 真实标签 (y_true) | 预测标签 (y_pred) |\n",
    "|----------|--------------------|--------------------|\n",
    "| 1        | A                  | A                  |\n",
    "| 2        | A                  | B                  |\n",
    "| 3        | A                  | A                  |\n",
    "| 4        | B                  | B                  |\n",
    "| 5        | B                  | C                  |\n",
    "| 6        | B                  | B                  |\n",
    "| 7        | C                  | C                  |\n",
    "| 8        | C                  | C                  |\n",
    "| 9        | C                  | A                  |\n",
    "| 10       | A                  | A                  |\n",
    "| 11       | B                  | A                  |\n",
    "| 12       | C                  | B                  |\n",
    "| 13       | A                  | A                  |\n",
    "| 14       | B                  | B                  |\n",
    "| 15       | C                  | C                  |\n",
    "\n",
    "- **对于 A 类别**：\n",
    "    - TP(A): 真实标签为 A，且预测为 A 的个数。数据行：1、3、10、13。TP(A) = 4。\n",
    "    - TN(A): 真实标签不是 A，且预测也不是 A 的个数。数据行：4、5、6、7、8、12、14、15。TN(A) = 8。\n",
    "    - FP(A): 真实标签不是 A，但预测为 A 的个数。数据行：9、11。FP(A) = 2。\n",
    "    - FN(A): 真实标签为 A，但预测不是 A 的个数。数据行：2。FN(A) = 1。\n",
    "- **对于 B 类别**：\n",
    "    - TP(B): 真实标签为 B，且预测为 B 的个数。数据行：4、6、14。TP(B) = 3。\n",
    "    - TN(B): 真实标签不是 B，且预测也不是 B 的个数。数据行：1、3、7、8、9、10、13、15。TN(B) = 8。\n",
    "    - FP(B): 真实标签不是 B，但预测为 B 的个数。数据行：2、12。FP(B) = 2。\n",
    "    - FN(B): 真实标签为 B，但预测不是 B 的个数。数据行：5、11。FN(B) = 2.\n",
    "- **对于 C 类别**：\n",
    "    - TP(C): 真实标签为 C，且预测为 C 的个数。数据行：7、8、15。TP(C) = 3。\n",
    "    - TN(C): 真实标签不是 C，且预测也不是 C 的个数。数据行：1、2、3、4、6、10、11、13、14。TN(C) = 9。\n",
    "    - FP(C): 真实标签不是 C，但预测为 C 的个数。数据行：5。FP(C) = 1。\n",
    "    - FN(C): 真实标签为 C，但预测不是 C 的个数。数据行：9、12。FN(C) = 2。\n",
    "\n",
    "**总结一下**：\n",
    "\n",
    "| 类别 | 指标       | 数量 |\n",
    "|------|------------|------|\n",
    "| A    | TP(A)      | 4    |\n",
    "| A    | TN(A)      | 8    |\n",
    "| A    | FP(A)      | 2    |\n",
    "| A    | FN(A)      | 1    |\n",
    "| B    | TP(B)      | 3    |\n",
    "| B    | TN(B)      | 8    |\n",
    "| B    | FP(B)      | 2    |\n",
    "| B    | FN(B)      | 2    |\n",
    "| C    | TP(C)      | 3    |\n",
    "| C    | TN(C)      | 9    |\n",
    "| C    | FP(C)      | 1    |\n",
    "| C    | FN(C)      | 2    |"
   ]
  },
  {
   "cell_type": "markdown",
   "id": "4a426859",
   "metadata": {},
   "source": [
    "# 混淆矩阵"
   ]
  },
  {
   "cell_type": "markdown",
   "id": "de3f6155",
   "metadata": {},
   "source": [
    "## 基本概念"
   ]
  },
  {
   "cell_type": "markdown",
   "id": "88251313",
   "metadata": {},
   "source": [
    "**混淆矩阵（Confusion Matrix）**是一个表格，用于评估分类模型的效果，其中列出了模型预测结果和实际标签的对比情况。\n",
    "- True Positives (TP)：真正例，即模型预测为正例且实际为正例的样本数。\n",
    "- True Negatives (TN)：真反例，即模型预测为负例且实际为负例的样本数。\n",
    "- False Positives (FP)：假正例，即模型预测为正例但实际为负例的样本数。\n",
    "- False Negatives (FN)：假反例，即模型预测为负例但实际为正例的样本数。\n",
    "|                | Predicted Positive | Predicted Negative |\n",
    "|----------------|--------------------|--------------------|\n",
    "| **Actual Positive** | TP (True Positive) | FN (False Negative) |\n",
    "| **Actual Negative** | FP (False Positive) | TN (True Negative) |"
   ]
  },
  {
   "cell_type": "markdown",
   "id": "51e0c93a",
   "metadata": {},
   "source": [
    "## 混淆矩阵手算案例"
   ]
  },
  {
   "cell_type": "markdown",
   "id": "eab18b07",
   "metadata": {},
   "source": [
    "沿用1.2节案例：\n",
    "\n",
    "| 样本编号 | 真实标签 (y_true) | 预测标签 (y_pred) |\n",
    "|----------|--------------------|--------------------|\n",
    "| 1        | A                  | A                  |\n",
    "| 2        | A                  | B                  |\n",
    "| 3        | A                  | A                  |\n",
    "| 4        | B                  | B                  |\n",
    "| 5        | B                  | C                  |\n",
    "| 6        | B                  | B                  |\n",
    "| 7        | C                  | C                  |\n",
    "| 8        | C                  | C                  |\n",
    "| 9        | C                  | A                  |\n",
    "| 10       | A                  | A                  |\n",
    "| 11       | B                  | A                  |\n",
    "| 12       | C                  | B                  |\n",
    "| 13       | A                  | A                  |\n",
    "| 14       | B                  | B                  |\n",
    "| 15       | C                  | C                  |\n",
    "\n",
    "因此混淆矩阵为：\n",
    "\n",
    "| True \\ Predicted | A   | B   | C   |\n",
    "|------------------|-----|-----|-----|\n",
    "| ​**A**            | 4   | 1   | 0   |\n",
    "| ​**B**            | 1   | 3   | 1   |\n",
    "| ​**C**            | 1   | 1   | 3   |"
   ]
  },
  {
   "cell_type": "markdown",
   "id": "8d2d14fc",
   "metadata": {},
   "source": [
    "## sklearn计算混淆矩阵"
   ]
  },
  {
   "cell_type": "markdown",
   "id": "434ee457",
   "metadata": {},
   "source": [
    "### confusion_matrix\n",
    "- `y_true`: 真实标签。\n",
    "- `y_pred`: 模型预测结果。\n",
    "- `labels`: 指定混淆矩阵中的类别顺序。"
   ]
  },
  {
   "cell_type": "markdown",
   "id": "72e3a929",
   "metadata": {},
   "source": [
    "### 实际案例与混淆矩阵可视化"
   ]
  },
  {
   "cell_type": "markdown",
   "id": "7fc6b98f",
   "metadata": {},
   "source": [
    "digits数据集是一个经典的手写数字图像识别数据集，任务是根据图像的特征预测图像所代表的数字标签\n",
    "- 这个数据集总共有1797个图像样本：\n",
    "    - 每个图像是一个 8x8 的灰度图像，其每个像素的灰度值范围为 0 到 16，表示黑色（0）到白色（16）。这些图像已经被展平为 64 维的向量，因此每个图像可以表示为一个长度为 64 的向量\n",
    "    - 数字标签的范围是从 0 到 9，对应的是手写数字\n",
    "- 这个数据集由以下组成\n",
    "    - data：一个数组，形状为 (1797, 64)，每一行表示一个 8x8 图像的特征（64个像素值，表示灰度强度）。\n",
    "    - target：一个数组，形状为 (1797,)，每个元素表示相应图像的标签（0到9之间的数字）。\n",
    "    - target_names：一个数组，表示数字标签的类别名，通常是 [0, 1, 2, ..., 9]。\n",
    "    - images：一个数组，形状为 (1797, 8, 8)，每个元素是一个 8x8 的数字图像矩阵。\n",
    "    - DESCR：一个字符串，包含数据集的描述信息。"
   ]
  },
  {
   "cell_type": "code",
   "execution_count": 53,
   "id": "b7492292",
   "metadata": {},
   "outputs": [
    {
     "data": {
      "text/plain": [
       "{'data': array([[ 0.,  0.,  5., ...,  0.,  0.,  0.],\n",
       "        [ 0.,  0.,  0., ..., 10.,  0.,  0.],\n",
       "        [ 0.,  0.,  0., ..., 16.,  9.,  0.],\n",
       "        ...,\n",
       "        [ 0.,  0.,  1., ...,  6.,  0.,  0.],\n",
       "        [ 0.,  0.,  2., ..., 12.,  0.,  0.],\n",
       "        [ 0.,  0., 10., ..., 12.,  1.,  0.]]),\n",
       " 'target': array([0, 1, 2, ..., 8, 9, 8]),\n",
       " 'frame': None,\n",
       " 'feature_names': ['pixel_0_0',\n",
       "  'pixel_0_1',\n",
       "  'pixel_0_2',\n",
       "  'pixel_0_3',\n",
       "  'pixel_0_4',\n",
       "  'pixel_0_5',\n",
       "  'pixel_0_6',\n",
       "  'pixel_0_7',\n",
       "  'pixel_1_0',\n",
       "  'pixel_1_1',\n",
       "  'pixel_1_2',\n",
       "  'pixel_1_3',\n",
       "  'pixel_1_4',\n",
       "  'pixel_1_5',\n",
       "  'pixel_1_6',\n",
       "  'pixel_1_7',\n",
       "  'pixel_2_0',\n",
       "  'pixel_2_1',\n",
       "  'pixel_2_2',\n",
       "  'pixel_2_3',\n",
       "  'pixel_2_4',\n",
       "  'pixel_2_5',\n",
       "  'pixel_2_6',\n",
       "  'pixel_2_7',\n",
       "  'pixel_3_0',\n",
       "  'pixel_3_1',\n",
       "  'pixel_3_2',\n",
       "  'pixel_3_3',\n",
       "  'pixel_3_4',\n",
       "  'pixel_3_5',\n",
       "  'pixel_3_6',\n",
       "  'pixel_3_7',\n",
       "  'pixel_4_0',\n",
       "  'pixel_4_1',\n",
       "  'pixel_4_2',\n",
       "  'pixel_4_3',\n",
       "  'pixel_4_4',\n",
       "  'pixel_4_5',\n",
       "  'pixel_4_6',\n",
       "  'pixel_4_7',\n",
       "  'pixel_5_0',\n",
       "  'pixel_5_1',\n",
       "  'pixel_5_2',\n",
       "  'pixel_5_3',\n",
       "  'pixel_5_4',\n",
       "  'pixel_5_5',\n",
       "  'pixel_5_6',\n",
       "  'pixel_5_7',\n",
       "  'pixel_6_0',\n",
       "  'pixel_6_1',\n",
       "  'pixel_6_2',\n",
       "  'pixel_6_3',\n",
       "  'pixel_6_4',\n",
       "  'pixel_6_5',\n",
       "  'pixel_6_6',\n",
       "  'pixel_6_7',\n",
       "  'pixel_7_0',\n",
       "  'pixel_7_1',\n",
       "  'pixel_7_2',\n",
       "  'pixel_7_3',\n",
       "  'pixel_7_4',\n",
       "  'pixel_7_5',\n",
       "  'pixel_7_6',\n",
       "  'pixel_7_7'],\n",
       " 'target_names': array([0, 1, 2, 3, 4, 5, 6, 7, 8, 9]),\n",
       " 'images': array([[[ 0.,  0.,  5., ...,  1.,  0.,  0.],\n",
       "         [ 0.,  0., 13., ..., 15.,  5.,  0.],\n",
       "         [ 0.,  3., 15., ..., 11.,  8.,  0.],\n",
       "         ...,\n",
       "         [ 0.,  4., 11., ..., 12.,  7.,  0.],\n",
       "         [ 0.,  2., 14., ..., 12.,  0.,  0.],\n",
       "         [ 0.,  0.,  6., ...,  0.,  0.,  0.]],\n",
       " \n",
       "        [[ 0.,  0.,  0., ...,  5.,  0.,  0.],\n",
       "         [ 0.,  0.,  0., ...,  9.,  0.,  0.],\n",
       "         [ 0.,  0.,  3., ...,  6.,  0.,  0.],\n",
       "         ...,\n",
       "         [ 0.,  0.,  1., ...,  6.,  0.,  0.],\n",
       "         [ 0.,  0.,  1., ...,  6.,  0.,  0.],\n",
       "         [ 0.,  0.,  0., ..., 10.,  0.,  0.]],\n",
       " \n",
       "        [[ 0.,  0.,  0., ..., 12.,  0.,  0.],\n",
       "         [ 0.,  0.,  3., ..., 14.,  0.,  0.],\n",
       "         [ 0.,  0.,  8., ..., 16.,  0.,  0.],\n",
       "         ...,\n",
       "         [ 0.,  9., 16., ...,  0.,  0.,  0.],\n",
       "         [ 0.,  3., 13., ..., 11.,  5.,  0.],\n",
       "         [ 0.,  0.,  0., ..., 16.,  9.,  0.]],\n",
       " \n",
       "        ...,\n",
       " \n",
       "        [[ 0.,  0.,  1., ...,  1.,  0.,  0.],\n",
       "         [ 0.,  0., 13., ...,  2.,  1.,  0.],\n",
       "         [ 0.,  0., 16., ..., 16.,  5.,  0.],\n",
       "         ...,\n",
       "         [ 0.,  0., 16., ..., 15.,  0.,  0.],\n",
       "         [ 0.,  0., 15., ..., 16.,  0.,  0.],\n",
       "         [ 0.,  0.,  2., ...,  6.,  0.,  0.]],\n",
       " \n",
       "        [[ 0.,  0.,  2., ...,  0.,  0.,  0.],\n",
       "         [ 0.,  0., 14., ..., 15.,  1.,  0.],\n",
       "         [ 0.,  4., 16., ..., 16.,  7.,  0.],\n",
       "         ...,\n",
       "         [ 0.,  0.,  0., ..., 16.,  2.,  0.],\n",
       "         [ 0.,  0.,  4., ..., 16.,  2.,  0.],\n",
       "         [ 0.,  0.,  5., ..., 12.,  0.,  0.]],\n",
       " \n",
       "        [[ 0.,  0., 10., ...,  1.,  0.,  0.],\n",
       "         [ 0.,  2., 16., ...,  1.,  0.,  0.],\n",
       "         [ 0.,  0., 15., ..., 15.,  0.,  0.],\n",
       "         ...,\n",
       "         [ 0.,  4., 16., ..., 16.,  6.,  0.],\n",
       "         [ 0.,  8., 16., ..., 16.,  8.,  0.],\n",
       "         [ 0.,  1.,  8., ..., 12.,  1.,  0.]]]),\n",
       " 'DESCR': \".. _digits_dataset:\\n\\nOptical recognition of handwritten digits dataset\\n--------------------------------------------------\\n\\n**Data Set Characteristics:**\\n\\n:Number of Instances: 1797\\n:Number of Attributes: 64\\n:Attribute Information: 8x8 image of integer pixels in the range 0..16.\\n:Missing Attribute Values: None\\n:Creator: E. Alpaydin (alpaydin '@' boun.edu.tr)\\n:Date: July; 1998\\n\\nThis is a copy of the test set of the UCI ML hand-written digits datasets\\nhttps://archive.ics.uci.edu/ml/datasets/Optical+Recognition+of+Handwritten+Digits\\n\\nThe data set contains images of hand-written digits: 10 classes where\\neach class refers to a digit.\\n\\nPreprocessing programs made available by NIST were used to extract\\nnormalized bitmaps of handwritten digits from a preprinted form. From a\\ntotal of 43 people, 30 contributed to the training set and different 13\\nto the test set. 32x32 bitmaps are divided into nonoverlapping blocks of\\n4x4 and the number of on pixels are counted in each block. This generates\\nan input matrix of 8x8 where each element is an integer in the range\\n0..16. This reduces dimensionality and gives invariance to small\\ndistortions.\\n\\nFor info on NIST preprocessing routines, see M. D. Garris, J. L. Blue, G.\\nT. Candela, D. L. Dimmick, J. Geist, P. J. Grother, S. A. Janet, and C.\\nL. Wilson, NIST Form-Based Handprint Recognition System, NISTIR 5469,\\n1994.\\n\\n.. dropdown:: References\\n\\n  - C. Kaynak (1995) Methods of Combining Multiple Classifiers and Their\\n    Applications to Handwritten Digit Recognition, MSc Thesis, Institute of\\n    Graduate Studies in Science and Engineering, Bogazici University.\\n  - E. Alpaydin, C. Kaynak (1998) Cascading Classifiers, Kybernetika.\\n  - Ken Tang and Ponnuthurai N. Suganthan and Xi Yao and A. Kai Qin.\\n    Linear dimensionalityreduction using relevance weighted LDA. School of\\n    Electrical and Electronic Engineering Nanyang Technological University.\\n    2005.\\n  - Claudio Gentile. A New Approximate Maximal Margin Classification\\n    Algorithm. NIPS. 2000.\\n\"}"
      ]
     },
     "execution_count": 53,
     "metadata": {},
     "output_type": "execute_result"
    }
   ],
   "source": [
    "# 导入必要的库\n",
    "import numpy as np\n",
    "from sklearn import datasets\n",
    "from sklearn.model_selection import train_test_split\n",
    "from sklearn.tree import DecisionTreeClassifier\n",
    "from sklearn.metrics import accuracy_score, precision_score, recall_score, f1_score, classification_report, confusion_matrix\n",
    "import seaborn as sns\n",
    "import matplotlib.pyplot as plt\n",
    "from sklearn.datasets import load_digits\n",
    "from sklearn.manifold import TSNE\n",
    "from sklearn.model_selection import train_test_split\n",
    "import pandas as pd\n",
    "\n",
    "# 加载 digits 数据集\n",
    "digits = load_digits()\n",
    "digits"
   ]
  },
  {
   "cell_type": "code",
   "execution_count": 59,
   "id": "79e66801",
   "metadata": {},
   "outputs": [
    {
     "data": {
      "image/png": "[encoded data removed]",
      "text/plain": [
       "<Figure size 640x480 with 1 Axes>"
      ]
     },
     "metadata": {},
     "output_type": "display_data"
    }
   ],
   "source": [
    "# 绘制数字图像\n",
    "idx=1000\n",
    "plt.imshow(digits.images[idx])\n",
    "plt.title(f'Label: {digits.target[idx]}')\n",
    "plt.show()"
   ]
  },
  {
   "cell_type": "code",
   "execution_count": 60,
   "id": "39a0d94b",
   "metadata": {},
   "outputs": [
    {
     "name": "stdout",
     "output_type": "stream",
     "text": [
      "Confusion Matrix:\n",
      "[[15  0  0  0  1  1  0  0  0  0]\n",
      " [ 0  8  1  0  0  0  0  1  1  0]\n",
      " [ 0  0 16  0  0  0  0  1  0  0]\n",
      " [ 0  0  0 14  0  0  1  0  2  0]\n",
      " [ 0  0  0  0 23  1  0  1  0  0]\n",
      " [ 0  1  1  0  0 20  0  0  0  0]\n",
      " [ 0  0  0  0  0  0 19  0  0  0]\n",
      " [ 0  0  0  1  0  0  0 17  0  1]\n",
      " [ 0  2  0  0  0  0  0  1  5  0]\n",
      " [ 0  2  0  0  2  1  0  2  0 18]]\n"
     ]
    },
    {
     "data": {
      "image/png": "[encoded data removed]",
      "text/plain": [
       "<Figure size 1000x700 with 2 Axes>"
      ]
     },
     "metadata": {},
     "output_type": "display_data"
    }
   ],
   "source": [
    "# 提取特征和标签\n",
    "X = digits.data  # 64 个像素特征\n",
    "y = digits.target  # 目标标签（数字）\n",
    "\n",
    "# 划分训练集和验证集\n",
    "X_train, X_test, y_train, y_test = train_test_split(X, y, test_size=0.1, random_state=42)\n",
    "\n",
    "# 创建并训练决策树分类器\n",
    "dt_model = DecisionTreeClassifier(random_state=42)\n",
    "dt_model.fit(X_train, y_train)\n",
    "\n",
    "# 进行预测\n",
    "y_pred = dt_model.predict(X_test)\n",
    "\n",
    "# 计算并且打印混淆矩阵\n",
    "cm = confusion_matrix(y_test, y_pred)\n",
    "print(\"Confusion Matrix:\")\n",
    "print(cm)\n",
    "\n",
    "# 可视化混淆矩阵\n",
    "plt.figure(figsize=(10, 7))\n",
    "sns.heatmap(\n",
    "    cm,  # 输入数据：混淆矩阵（二维数组，形状为 [n_classes, n_classes]）\n",
    "    annot=True,  # 在热图中每个单元格内显示数值（默认为False，不显示）\n",
    "    fmt=\".0f\",  # 数值格式为整数\n",
    "    cmap=\"Blues\",  # 颜色映射：使用蓝色渐变（可选其他如\"Greens\", \"Reds\", \"viridis\"等）\n",
    "    xticklabels=digits.target_names,  # X轴标签：显示类别名称（如数字0~9）\n",
    "    yticklabels=digits.target_names   # Y轴标签：显示类别名称（与X轴一致）\n",
    ")\n",
    "plt.title('Confusion Matrix for Digits Classification')\n",
    "plt.xlabel('Predicted Labels')\n",
    "plt.ylabel('True Labels')\n",
    "plt.show()"
   ]
  },
  {
   "cell_type": "markdown",
   "id": "a779a3a7",
   "metadata": {},
   "source": [
    "# 准确率（Accuracy）"
   ]
  },
  {
   "cell_type": "markdown",
   "id": "34848208",
   "metadata": {},
   "source": [
    "## 基本概念"
   ]
  },
  {
   "cell_type": "markdown",
   "id": "2ff039fb",
   "metadata": {},
   "source": [
    "多分类问题中的准确率**(Accuracy)**表示所有正确预测的样本占总样本的比例，公式为：\n",
    "$$\\text{Accuracy} = \\frac{\\sum_{i=1}^{C} \\text{TP}_i}{N}$$\n",
    "其中：\n",
    "- $C$是类别数\n",
    "- $N$是样本总数（即混淆矩阵的所有元素之和）\n",
    "- $TP_{i}$是类别$i$的真正例（True Positive）个数，代表实际属于类别$i$的样本被模型正确预测为类别$i$"
   ]
  },
  {
   "cell_type": "markdown",
   "id": "87519ba5",
   "metadata": {},
   "source": [
    "## 准确率手算案例"
   ]
  },
  {
   "cell_type": "markdown",
   "id": "955d75ce",
   "metadata": {},
   "source": [
    "沿用1.2节案例，已经计算得到\n",
    "\n",
    "| 类别 | 指标       | 数量 |\n",
    "|------|------------|------|\n",
    "| A    | TP(A)      | 4    |\n",
    "| A    | TN(A)      | 8    |\n",
    "| A    | FP(A)      | 2    |\n",
    "| A    | FN(A)      | 1    |\n",
    "| B    | TP(B)      | 3    |\n",
    "| B    | TN(B)      | 8    |\n",
    "| B    | FP(B)      | 2    |\n",
    "| B    | FN(B)      | 2    |\n",
    "| C    | TP(C)      | 3    |\n",
    "| C    | TN(C)      | 9    |\n",
    "| C    | FP(C)      | 1    |\n",
    "| C    | FN(C)      | 2    |\n",
    "\n",
    "因此\n",
    "\n",
    "$$\\text{Accuracy} = \\frac{\\sum_{i=1}^{C} \\text{TP}_i}{N}=\\frac{4 + 3 + 3}{15} = \\frac{10}{15} \\approx 0.667$$"
   ]
  },
  {
   "cell_type": "markdown",
   "id": "f76f3fa7",
   "metadata": {},
   "source": [
    "## sklearn计算准确率"
   ]
  },
  {
   "cell_type": "markdown",
   "id": "dddeb1a7",
   "metadata": {},
   "source": [
    "### accuracy_score\n",
    "- `y_true`: 真实标签。\n",
    "- `y_pred`: 模型预测结果。"
   ]
  },
  {
   "cell_type": "markdown",
   "id": "88423fc8",
   "metadata": {},
   "source": [
    "### 实际案例"
   ]
  },
  {
   "cell_type": "code",
   "execution_count": 61,
   "id": "72c6ab96",
   "metadata": {},
   "outputs": [
    {
     "name": "stdout",
     "output_type": "stream",
     "text": [
      "Accuracy: 0.8611\n"
     ]
    }
   ],
   "source": [
    "# 提取特征和标签\n",
    "X = digits.data  # 64 个像素特征\n",
    "y = digits.target  # 目标标签（数字）\n",
    "\n",
    "# 划分训练集和验证集\n",
    "X_train, X_test, y_train, y_test = train_test_split(X, y, test_size=0.1, random_state=42)\n",
    "\n",
    "# 创建并训练决策树分类器\n",
    "dt_model = DecisionTreeClassifier(random_state=42)\n",
    "dt_model.fit(X_train, y_train)\n",
    "\n",
    "# 进行预测\n",
    "y_pred = dt_model.predict(X_test)\n",
    "\n",
    "# 计算并打印模型在测试集上的准确率\n",
    "accuracy = accuracy_score(y_test, y_pred)  # 计算准确率\n",
    "print(f\"Accuracy: {accuracy:.4f}\")  # 输出准确率，保留四位小数"
   ]
  },
  {
   "cell_type": "markdown",
   "id": "94ececbb",
   "metadata": {},
   "source": [
    "# 精确率（Precision）"
   ]
  },
  {
   "cell_type": "markdown",
   "id": "0188c1c1",
   "metadata": {},
   "source": [
    "## 基本概念"
   ]
  },
  {
   "cell_type": "markdown",
   "id": "1d86f007",
   "metadata": {},
   "source": [
    "多分类中的精确率有**微平均精确率**、**宏平均精确率**、**加权平均精确率**"
   ]
  },
  {
   "cell_type": "markdown",
   "id": "0728f4f3",
   "metadata": {},
   "source": [
    "### 类别精确率"
   ]
  },
  {
   "cell_type": "markdown",
   "id": "4637fde5",
   "metadata": {},
   "source": [
    "对于每个类别$i$，精确率的计算公式如下:\n",
    "$$\\text{Precision}_i = \\frac{TP_i}{TP_i + FP_i}$$\n",
    "其中，\n",
    "- $TP_i$：类别$i$被正确预测为$i$的样本数量。\n",
    "- $FP_i$：其他类别的样本被错误地预测为类别$i$的数量。"
   ]
  },
  {
   "cell_type": "markdown",
   "id": "5eafd02b",
   "metadata": {},
   "source": [
    "### 微平均精确率（Micro Precision）"
   ]
  },
  {
   "cell_type": "markdown",
   "id": "0db57c9a",
   "metadata": {},
   "source": [
    "**微平均精确率**将所有类别的真阳性（TP）和假阳性（FP）累加后再计算精确率。公式为：\n",
    "$$\\text{Micro Precision} = \\frac{\\sum_{i=1}^{C} \\text{TP}_i}{\\sum_{i=1}^{C} (\\text{TP}_i + \\text{FP}_i)}$$\n",
    "其中，\n",
    "- $C$：类别的数量。\n",
    "- $TP_i$：类别$i$被正确预测为$i$的样本数量。\n",
    "- $FP_i$：其他类别的样本被错误地预测为类别$i$的数量。"
   ]
  },
  {
   "cell_type": "markdown",
   "id": "74222a89",
   "metadata": {},
   "source": [
    "### 宏平均精确率（Macro Precision）"
   ]
  },
  {
   "cell_type": "markdown",
   "id": "c662f109",
   "metadata": {},
   "source": [
    "**宏平均精确率**是计算所有类别的精确率的平均值，宏平均精确率对每个类别的精确率求平均，而不考虑类别的样本数，公式为：\n",
    "$$\\text{Macro Precision} = \\frac{1}{C} \\sum_{i=1}^{C} \\text{Precision}_i$$\n",
    "其中：\n",
    "- $C$是类别的数量。\n",
    "- $\\text{Precision}_i$是类别$i$的精确率。"
   ]
  },
  {
   "cell_type": "markdown",
   "id": "9e4ba591",
   "metadata": {},
   "source": [
    "### 加权平均精确率（Weighted Precision）"
   ]
  },
  {
   "cell_type": "markdown",
   "id": "f1500d14",
   "metadata": {},
   "source": [
    "**加权平均精确率**是对每个类别的精确率进行加权平均，权重是该类别的样本数。这使得样本较多的类别在计算中占据更多的比重，公式为：\n",
    "$$\\text{Weighted Precision} = \\frac{\\sum_{i=1}^{C} (\\text{Precision}_i \\times \\text{Support}_i)}{\\sum_{i=1}^{C} \\text{Support}_i}$$\n",
    "其中，\n",
    "- $Support$是每个类别的样本数。\n",
    "- $\\text{Precision}_i$是类别$i$的精确率。"
   ]
  },
  {
   "cell_type": "markdown",
   "id": "47dc2576",
   "metadata": {},
   "source": [
    "## 精确率手算案例"
   ]
  },
  {
   "cell_type": "markdown",
   "id": "35f8dc09",
   "metadata": {},
   "source": [
    "沿用1.2节案例，已经计算得到\n",
    "\n",
    "| 类别 | 指标       | 数量 |\n",
    "|------|------------|------|\n",
    "| A    | TP(A)      | 4    |\n",
    "| A    | TN(A)      | 8    |\n",
    "| A    | FP(A)      | 2    |\n",
    "| A    | FN(A)      | 1    |\n",
    "| B    | TP(B)      | 3    |\n",
    "| B    | TN(B)      | 8    |\n",
    "| B    | FP(B)      | 2    |\n",
    "| B    | FN(B)      | 2    |\n",
    "| C    | TP(C)      | 3    |\n",
    "| C    | TN(C)      | 9    |\n",
    "| C    | FP(C)      | 1    |\n",
    "| C    | FN(C)      | 2    |\n",
    "\n",
    "因此**类别精确率**: \n",
    "\n",
    "$$\\text{Precision}_A = \\frac{TP_A}{TP_A + FP_A}= \\frac{4}{4 + 2} = \\frac{4}{6} \\approx 0.67$$\n",
    "\n",
    "$$\\text{Precision}_B = \\frac{TP_B}{TP_B + FP_B}= \\frac{3}{3 + 2} = \\frac{3}{5} = 0.60$$\n",
    "\n",
    "$$\\text{Precision}_C = \\frac{TP_C}{TP_C + FP_C}= \\frac{3}{3 + 1} = \\frac{3}{4} = 0.75$$\n",
    "\n",
    "**微平均精确率**: \n",
    "$$\\text{Micro Precision} = \\frac{\\sum_{i=1}^{C} \\text{TP}_i}{\\sum_{i=1}^{C} (\\text{TP}_i + \\text{FP}_i)} = \\frac{4 + 3 + 3}{(4 + 2) + (3 + 2) + (3 + 1)} = \\frac{10}{15} \\approx 0.667$$\n",
    "\n",
    "**宏平均精确率**: \n",
    "$$\\text{Macro Precision} = \\frac{\\text{Precision}_A + \\text{Precision}_B + \\text{Precision}_C}{3} = \\frac{0.67 + 0.60 + 0.75}{3} = \\frac{2.02}{3} \\approx 0.673$$\n",
    "\n",
    "**加权平均精确率**\n",
    "$$\\text{Weighted Precision} = \\frac{\\sum_{i=1}^{C} (\\text{Precision}_i \\times \\text{Support}_i)}{\\sum_{i=1}^{C} \\text{Support}_i} = \\frac{0.67 \\times 5 + 0.60 \\times 5  + 0.75 \\times 5}{15} = \\frac{10.1}{15} \\approx 0.673$$"
   ]
  },
  {
   "cell_type": "markdown",
   "id": "b0e48936",
   "metadata": {},
   "source": [
    "## sklearn计算精确率"
   ]
  },
  {
   "cell_type": "markdown",
   "id": "38a94af9",
   "metadata": {},
   "source": [
    "### precision_score\n",
    "- `y_true`: 真实标签。\n",
    "- `y_pred`: 模型预测结果。\n",
    "- `pos_label`: 指定正类标签。\n",
    "- `average`: 精确率汇总方式：\n",
    "    - `None`：返回每个类别的精确率。\n",
    "    - `binary`：适用于二分类问题，计算正类（pos_label）的精确率。\n",
    "    - `micro`：计算全局精确率（即把所有类别的 TP 和 FP 加起来计算）。\n",
    "    - `macro`：计算各类别的精确率，并返回它们的简单平均值（不考虑类别的支持度）。\n",
    "    - `weighted`：计算各类别的精确率，并根据每个类别的样本数加权平均。"
   ]
  },
  {
   "cell_type": "markdown",
   "id": "baad19a1",
   "metadata": {},
   "source": [
    "### 实际案例"
   ]
  },
  {
   "cell_type": "code",
   "execution_count": 62,
   "id": "b2d10e83",
   "metadata": {},
   "outputs": [
    {
     "name": "stdout",
     "output_type": "stream",
     "text": [
      "各类别精确率： [0.92307692 0.73584906 0.83333333 0.77966102 0.80952381 0.91935484\n",
      " 0.92592593 0.85185185 0.89189189 0.78125   ]\n",
      "微平均精确率： 0.8425925925925926\n",
      "宏平均精确率： 0.845171864786634\n",
      "加权平均精确率： 0.8455625306272797\n"
     ]
    }
   ],
   "source": [
    "# 加载数据集\n",
    "digits = datasets.load_digits()\n",
    "X = digits.data  # 特征\n",
    "y = digits.target  # 目标变量（标签）\n",
    "\n",
    "# 将数据集分为训练集和验证集\n",
    "X_train, X_test, y_train, y_test = train_test_split(X, y, test_size=0.3, random_state=42)\n",
    "\n",
    "# 初始化并训练决策树分类器\n",
    "model = DecisionTreeClassifier(random_state=42)\n",
    "model.fit(X_train, y_train)\n",
    "\n",
    "# 进行预测\n",
    "y_pred = model.predict(X_test)\n",
    "\n",
    "# 计算各类别精确率\n",
    "precision_per_class = precision_score(y_test, y_pred, average=None)\n",
    "print(\"各类别精确率：\", precision_per_class)\n",
    "\n",
    "# 计算微平均精确率\n",
    "micro_precision = precision_score(y_test, y_pred, average='micro')\n",
    "print(\"微平均精确率：\", micro_precision)\n",
    "\n",
    "# 计算宏平均精确率\n",
    "macro_precision = precision_score(y_test, y_pred, average='macro')\n",
    "print(\"宏平均精确率：\", macro_precision)\n",
    "\n",
    "# 计算加权平均精确率\n",
    "weighted_precision = precision_score(y_test, y_pred, average='weighted')\n",
    "print(\"加权平均精确率：\", weighted_precision)"
   ]
  },
  {
   "cell_type": "markdown",
   "id": "54c8182f",
   "metadata": {},
   "source": [
    "### `average`精确率汇总方式介绍"
   ]
  },
  {
   "cell_type": "code",
   "execution_count": 63,
   "id": "76dd4eb5",
   "metadata": {},
   "outputs": [
    {
     "data": {
      "image/png": "[encoded data removed]",
      "text/plain": [
       "<Figure size 1000x700 with 2 Axes>"
      ]
     },
     "metadata": {},
     "output_type": "display_data"
    }
   ],
   "source": [
    "# 计算并且打印混淆矩阵\n",
    "cm = confusion_matrix(y_test, y_pred)\n",
    "\n",
    "# 可视化混淆矩阵\n",
    "plt.figure(figsize=(10, 7))\n",
    "sns.heatmap(\n",
    "    cm,  # 输入数据：混淆矩阵（二维数组，形状为 [n_classes, n_classes]）\n",
    "    annot=True,  # 在热图中每个单元格内显示数值（默认为False，不显示）\n",
    "    fmt=\".0f\",  # 数值格式为整数\n",
    "    cmap=\"Blues\",  # 颜色映射：使用蓝色渐变（可选其他如\"Greens\", \"Reds\", \"viridis\"等）\n",
    "    xticklabels=digits.target_names,  # X轴标签：显示类别名称（如数字0~9）\n",
    "    yticklabels=digits.target_names   # Y轴标签：显示类别名称（与X轴一致）\n",
    ")\n",
    "plt.title('Confusion Matrix for Digits Classification')\n",
    "plt.xlabel('Predicted Labels')\n",
    "plt.ylabel('True Labels')\n",
    "plt.show()"
   ]
  },
  {
   "cell_type": "markdown",
   "id": "a0ab1910",
   "metadata": {},
   "source": [
    "#### `None`：返回每个类别的精确率"
   ]
  },
  {
   "cell_type": "code",
   "execution_count": 64,
   "id": "d6762345",
   "metadata": {},
   "outputs": [
    {
     "data": {
      "text/plain": [
       "array([0.92307692, 0.73584906, 0.83333333, 0.77966102, 0.80952381,\n",
       "       0.91935484, 0.92592593, 0.85185185, 0.89189189, 0.78125   ])"
      ]
     },
     "execution_count": 64,
     "metadata": {},
     "output_type": "execute_result"
    }
   ],
   "source": [
    "precision_score(y_test, y_pred, average=None)"
   ]
  },
  {
   "cell_type": "code",
   "execution_count": 74,
   "id": "27371f5f",
   "metadata": {},
   "outputs": [
    {
     "name": "stdout",
     "output_type": "stream",
     "text": [
      "类别0的精确率为: 0.9230769230769231\n",
      "类别1的精确率为: 0.7358490566037735\n",
      "类别2的精确率为: 0.8333333333333334\n",
      "类别3的精确率为: 0.7796610169491526\n",
      "类别4的精确率为: 0.8095238095238095\n",
      "类别5的精确率为: 0.9193548387096774\n",
      "类别6的精确率为: 0.9259259259259259\n",
      "类别7的精确率为: 0.8518518518518519\n",
      "类别8的精确率为: 0.8918918918918919\n",
      "类别9的精确率为: 0.78125\n"
     ]
    }
   ],
   "source": [
    "# 类别i的精确率，此时认为类别i为正类：\n",
    "for i in range(10):\n",
    "    print(f'类别{i}的精确率为: {cm[i,i]/(sum(cm[:,i]))}')"
   ]
  },
  {
   "cell_type": "markdown",
   "id": "dc1a8659",
   "metadata": {},
   "source": [
    "#### `micro`：计算全局微观精确率（即把所有类别的 TP 和 FP 加起来计算）"
   ]
  },
  {
   "cell_type": "code",
   "execution_count": 75,
   "id": "460990e4",
   "metadata": {},
   "outputs": [
    {
     "data": {
      "text/plain": [
       "0.8425925925925926"
      ]
     },
     "execution_count": 75,
     "metadata": {},
     "output_type": "execute_result"
    }
   ],
   "source": [
    "precision_score(y_test, y_pred, average='micro')"
   ]
  },
  {
   "cell_type": "code",
   "execution_count": 81,
   "id": "e57612e6",
   "metadata": {},
   "outputs": [
    {
     "data": {
      "text/plain": [
       "0.8425925925925926"
      ]
     },
     "execution_count": 81,
     "metadata": {},
     "output_type": "execute_result"
    }
   ],
   "source": [
    "sum(cm[i][i] for i in range(len(cm)))/(cm.sum()) # 对角线之和除以所有数之和"
   ]
  },
  {
   "cell_type": "markdown",
   "id": "d147c0d2",
   "metadata": {},
   "source": [
    "#### `macro`：计算各类别的精确率，并返回它们的简单平均值（不考虑类别的支持度）"
   ]
  },
  {
   "cell_type": "code",
   "execution_count": 82,
   "id": "b6b2e9e8",
   "metadata": {},
   "outputs": [
    {
     "data": {
      "text/plain": [
       "0.845171864786634"
      ]
     },
     "execution_count": 82,
     "metadata": {},
     "output_type": "execute_result"
    }
   ],
   "source": [
    "precision_score(y_test, y_pred, average='macro')"
   ]
  },
  {
   "cell_type": "code",
   "execution_count": 83,
   "id": "6286d26d",
   "metadata": {},
   "outputs": [
    {
     "data": {
      "text/plain": [
       "0.845171865"
      ]
     },
     "execution_count": 83,
     "metadata": {},
     "output_type": "execute_result"
    }
   ],
   "source": [
    "np.mean([0.92307692, 0.73584906, 0.83333333, 0.77966102, 0.80952381,0.91935484, 0.92592593, 0.85185185, 0.89189189, 0.78125])\n"
   ]
  },
  {
   "cell_type": "markdown",
   "id": "ba519458",
   "metadata": {},
   "source": [
    "#### `weighted`：计算各类别的精确率，并根据每个类别的样本数加权平均"
   ]
  },
  {
   "cell_type": "code",
   "execution_count": 85,
   "id": "d417568a",
   "metadata": {},
   "outputs": [
    {
     "data": {
      "text/plain": [
       "0.8455625306272797"
      ]
     },
     "execution_count": 85,
     "metadata": {},
     "output_type": "execute_result"
    }
   ],
   "source": [
    "precision_score(y_test, y_pred, average='weighted')"
   ]
  },
  {
   "cell_type": "code",
   "execution_count": 87,
   "id": "1da13048",
   "metadata": {},
   "outputs": [
    {
     "data": {
      "text/plain": [
       "0\n",
       "0    53\n",
       "1    50\n",
       "2    47\n",
       "3    54\n",
       "4    60\n",
       "5    66\n",
       "6    53\n",
       "7    55\n",
       "8    43\n",
       "9    59\n",
       "Name: count, dtype: int64"
      ]
     },
     "execution_count": 87,
     "metadata": {},
     "output_type": "execute_result"
    }
   ],
   "source": [
    "pd.DataFrame(y_test).value_counts().sort_index()"
   ]
  },
  {
   "cell_type": "code",
   "execution_count": 88,
   "id": "193d300a",
   "metadata": {},
   "outputs": [
    {
     "data": {
      "text/plain": [
       "0.8455625309259259"
      ]
     },
     "execution_count": 88,
     "metadata": {},
     "output_type": "execute_result"
    }
   ],
   "source": [
    "(0.92307692*53 +0.73584906*50 + 0.83333333*47 + 0.77966102*54 + 0.80952381*60 + 0.91935484*66 + 0.92592593*53 + 0.85185185*55 + 0.89189189*43 + 0.78125*59)/y_test.shape[0]\n"
   ]
  },
  {
   "cell_type": "markdown",
   "id": "0fa04edd",
   "metadata": {},
   "source": [
    "# 召回率（Recall）"
   ]
  },
  {
   "cell_type": "markdown",
   "id": "56cee8c2",
   "metadata": {},
   "source": [
    "## 基本概念"
   ]
  },
  {
   "cell_type": "markdown",
   "id": "58df575d",
   "metadata": {},
   "source": [
    "### 类别召回率"
   ]
  },
  {
   "cell_type": "markdown",
   "id": "c0d05e4b",
   "metadata": {},
   "source": [
    "对于每个类别$i$，召回率的计算公式如下:\n",
    "$$\\text{Recall}_i = \\frac{TP_i}{TP_i + FN_i}$$\n",
    "其中，\n",
    "- $TP_i$：类别$i$被正确预测为$i$的样本数量。\n",
    "- $FN_i$：类别$i$被错误地预测为其他类别的样本的数量。"
   ]
  },
  {
   "cell_type": "markdown",
   "id": "2d060931",
   "metadata": {},
   "source": [
    "### 微平均召回率（Micro Recall）"
   ]
  },
  {
   "cell_type": "markdown",
   "id": "00775537",
   "metadata": {},
   "source": [
    "**微平均召回率**将所有类别的真阳性（TP）和假阴性（FN）累加后再计算召回率。公式为：\n",
    "$$\\text{Micro Recall} = \\frac{\\sum_{i=1}^{C} \\text{TP}_i}{\\sum_{i=1}^{C} (\\text{TP}_i + \\text{FN}_i)}$$\n",
    "其中，\n",
    "- $C$：类别的数量。\n",
    "- $TP_i$：类别$i$被正确预测为$i$的样本数量。\n",
    "- $FN_i$：类别$i$被错误地预测为其他类别的样本的数量。"
   ]
  },
  {
   "cell_type": "markdown",
   "id": "2f8dbea0",
   "metadata": {},
   "source": [
    "### 宏平均召回率（Macro Recall）"
   ]
  },
  {
   "cell_type": "markdown",
   "id": "27740db4",
   "metadata": {},
   "source": [
    "**宏平均召回率**是计算所有类别的召回率的平均值，宏平均召回率对每个类别的召回率求平均，而不考虑类别的样本数，公式为：\n",
    "$$\\text{Macro Recall} = \\frac{1}{C} \\sum_{i=1}^{C} \\text{Recall}_i$$\n",
    "其中：\n",
    "- $C$是类别的数量。\n",
    "- $\\text{Recall}_i$是类别$i$的召回率。"
   ]
  },
  {
   "cell_type": "markdown",
   "id": "bcd9253c",
   "metadata": {},
   "source": [
    "### 加权平均召回率（Weighted Recall）"
   ]
  },
  {
   "cell_type": "markdown",
   "id": "dcb6d152",
   "metadata": {},
   "source": [
    "**加权平均召回率**是对每个类别的召回率进行加权平均，权重是该类别的样本数。这使得样本较多的类别在计算中占据更多的比重，公式为：\n",
    "$$\\text{Weighted Recall} = \\frac{\\sum_{i=1}^{C} (\\text{Recall}_i \\times \\text{Support}_i)}{\\sum_{i=1}^{C} \\text{Support}_i}$$\n",
    "其中，\n",
    "- $Support$是每个类别的样本数。\n",
    "- $\\text{Recall}_i$是类别$i$的召回率。"
   ]
  },
  {
   "cell_type": "markdown",
   "id": "446204bf",
   "metadata": {},
   "source": [
    "## 召回率手算案例"
   ]
  },
  {
   "cell_type": "markdown",
   "id": "66a1ad24",
   "metadata": {},
   "source": [
    "沿用1.2节案例，已经计算得到\n",
    "\n",
    "| 类别 | 指标       | 数量 |\n",
    "|------|------------|------|\n",
    "| A    | TP(A)      | 4    |\n",
    "| A    | TN(A)      | 8    |\n",
    "| A    | FP(A)      | 2    |\n",
    "| A    | FN(A)      | 1    |\n",
    "| B    | TP(B)      | 3    |\n",
    "| B    | TN(B)      | 8    |\n",
    "| B    | FP(B)      | 2    |\n",
    "| B    | FN(B)      | 2    |\n",
    "| C    | TP(C)      | 3    |\n",
    "| C    | TN(C)      | 9    |\n",
    "| C    | FP(C)      | 1    |\n",
    "| C    | FN(C)      | 2    |\n",
    "\n",
    "因此\n",
    "\n",
    "$$\\text{Recall}_A = \\frac{TP_A}{TP_A + FN_A}= \\frac{4}{4 + 1} = \\frac{4}{5} \\approx 0.80$$\n",
    "\n",
    "$$\\text{Recall}_B = \\frac{TP_B}{TP_B + FN_B}= \\frac{3}{3 + 2} = \\frac{3}{5} = 0.60$$\n",
    "\n",
    "$$\\text{Recall}_C = \\frac{TP_C}{TP_C + FN_C}= \\frac{3}{3 + 2} = \\frac{3}{5} = 0.60$$\n",
    "\n",
    "**微平均召回率**\n",
    "$$\\text{Micro Recall} = \\frac{\\sum_{i=1}^{C} \\text{TP}_i}{\\sum_{i=1}^{C} (\\text{TP}_i + \\text{FN}_i)} = \\frac{4 + 3 + 3}{(4 + 1) + (3 + 2) + (3 + 2)} = \\frac{10}{15} \\approx 0.667$$\n",
    "\n",
    "**宏平均召回率**: \n",
    "$$\\text{Macro Recall} = \\frac{\\text{Recall}_A + \\text{Recall}_B + \\text{Recall}_C}{3} = \\frac{0.80 + 0.60 + 0.60}{3} = \\frac{2.00}{3} \\approx 0.667$$\n",
    "\n",
    "**加权平均召回率**\n",
    "$$\\text{Weighted Recall} = \\frac{\\sum_{i=1}^{C} (\\text{Recall}_i \\times \\text{Support}_i)}{\\sum_{i=1}^{C} \\text{Support}_i} = \\frac{0.80 \\times 5 + 0.60 \\times 5  + 0.60 \\times 5}{15} = \\frac{10}{15} \\approx 0.667$$"
   ]
  },
  {
   "cell_type": "markdown",
   "id": "4b359d4f",
   "metadata": {},
   "source": [
    "## sklearn计算召回率"
   ]
  },
  {
   "cell_type": "markdown",
   "id": "6dec912c",
   "metadata": {},
   "source": [
    "### recall_score\n",
    "- `y_true`: 真实标签。\n",
    "- `y_pred`: 模型预测结果。\n",
    "- `pos_label`: 指定正类标签。\n",
    "- `average`: 召回率汇总方式：\n",
    "    - `None`：返回每个类别的召回率。\n",
    "    - `binary`：适用于二分类问题，计算正类（pos_label）的召回率。\n",
    "    - `micro`：计算全局召回率（即把所有类别的 TP 和 FN 加起来计算）。\n",
    "    - `macro`：计算各类别的召回率，并返回它们的简单平均值（不考虑类别的支持度）。\n",
    "    - `weighted`：计算各类别的召回率，并根据每个类别的样本数加权平均。"
   ]
  },
  {
   "cell_type": "markdown",
   "id": "d02bf2df",
   "metadata": {},
   "source": [
    "### 实际案例"
   ]
  },
  {
   "cell_type": "code",
   "execution_count": 89,
   "id": "a2b1f8c9",
   "metadata": {},
   "outputs": [
    {
     "name": "stdout",
     "output_type": "stream",
     "text": [
      "各类别召回率： [0.90566038 0.78       0.74468085 0.85185185 0.85       0.86363636\n",
      " 0.94339623 0.83636364 0.76744186 0.84745763]\n",
      "微平均召回率： 0.8425925925925926\n",
      "宏平均召回率： 0.8390488794273026\n",
      "加权平均召回率： 0.8425925925925926\n"
     ]
    }
   ],
   "source": [
    "# 导入必要的库\n",
    "import numpy as np\n",
    "from sklearn import datasets\n",
    "from sklearn.model_selection import train_test_split\n",
    "from sklearn.tree import DecisionTreeClassifier\n",
    "from sklearn.metrics import recall_score, classification_report\n",
    "\n",
    "# 加载数据集\n",
    "digits = datasets.load_digits()\n",
    "X = digits.data  # 特征\n",
    "y = digits.target  # 目标变量（标签）\n",
    "\n",
    "# 将数据集分为训练集和验证集\n",
    "X_train, X_test, y_train, y_test = train_test_split(X, y, test_size=0.3, random_state=42)\n",
    "\n",
    "# 初始化并训练决策树分类器\n",
    "model = DecisionTreeClassifier(random_state=42)\n",
    "model.fit(X_train, y_train)\n",
    "\n",
    "# 进行预测\n",
    "y_pred = model.predict(X_test)\n",
    "\n",
    "# 计算各类别召回率\n",
    "recall_per_class = recall_score(y_test, y_pred, average=None)\n",
    "print(\"各类别召回率：\", recall_per_class)\n",
    "\n",
    "# 计算微平均召回率\n",
    "micro_recall = recall_score(y_test, y_pred, average='micro')\n",
    "print(\"微平均召回率：\", micro_recall)\n",
    "\n",
    "# 计算宏平均召回率\n",
    "macro_recall = recall_score(y_test, y_pred, average='macro')\n",
    "print(\"宏平均召回率：\", macro_recall)\n",
    "\n",
    "# 计算加权平均召回率\n",
    "weighted_recall = recall_score(y_test, y_pred, average='weighted')\n",
    "print(\"加权平均召回率：\", weighted_recall)"
   ]
  },
  {
   "cell_type": "markdown",
   "id": "698a15e7",
   "metadata": {},
   "source": [
    "### `average`召回率汇总方式介绍"
   ]
  },
  {
   "cell_type": "code",
   "execution_count": 92,
   "id": "ffb318d3",
   "metadata": {},
   "outputs": [
    {
     "data": {
      "image/png": "[encoded data removed]",
      "text/plain": [
       "<Figure size 1000x700 with 2 Axes>"
      ]
     },
     "metadata": {},
     "output_type": "display_data"
    }
   ],
   "source": [
    "# 计算并且打印混淆矩阵\n",
    "cm = confusion_matrix(y_test, y_pred)\n",
    "\n",
    "# 可视化混淆矩阵\n",
    "plt.figure(figsize=(10, 7))\n",
    "sns.heatmap(\n",
    "    cm,  # 输入数据：混淆矩阵（二维数组，形状为 [n_classes, n_classes]）\n",
    "    annot=True,  # 在热图中每个单元格内显示数值（默认为False，不显示）\n",
    "    fmt=\".0f\",  # 数值格式为整数\n",
    "    cmap=\"Blues\",  # 颜色映射：使用蓝色渐变（可选其他如\"Greens\", \"Reds\", \"viridis\"等）\n",
    "    xticklabels=digits.target_names,  # X轴标签：显示类别名称（如数字0~9）\n",
    "    yticklabels=digits.target_names   # Y轴标签：显示类别名称（与X轴一致）\n",
    ")\n",
    "plt.title('Confusion Matrix for Digits Classification')\n",
    "plt.xlabel('Predicted Labels')\n",
    "plt.ylabel('True Labels')\n",
    "plt.show()"
   ]
  },
  {
   "cell_type": "markdown",
   "id": "820036ef",
   "metadata": {},
   "source": [
    "#### `None`：返回每个类别的召回率"
   ]
  },
  {
   "cell_type": "code",
   "execution_count": 90,
   "id": "5be610ee",
   "metadata": {},
   "outputs": [
    {
     "data": {
      "text/plain": [
       "array([0.90566038, 0.78      , 0.74468085, 0.85185185, 0.85      ,\n",
       "       0.86363636, 0.94339623, 0.83636364, 0.76744186, 0.84745763])"
      ]
     },
     "execution_count": 90,
     "metadata": {},
     "output_type": "execute_result"
    }
   ],
   "source": [
    "recall_score(y_test, y_pred, average=None)"
   ]
  },
  {
   "cell_type": "code",
   "execution_count": 97,
   "id": "81cce869",
   "metadata": {},
   "outputs": [
    {
     "name": "stdout",
     "output_type": "stream",
     "text": [
      "类别0的召回率为: 0.9056603773584906\n",
      "类别1的召回率为: 0.78\n",
      "类别2的召回率为: 0.7446808510638298\n",
      "类别3的召回率为: 0.8518518518518519\n",
      "类别4的召回率为: 0.85\n",
      "类别5的召回率为: 0.8636363636363636\n",
      "类别6的召回率为: 0.9433962264150944\n",
      "类别7的召回率为: 0.8363636363636363\n",
      "类别8的召回率为: 0.7674418604651163\n",
      "类别9的召回率为: 0.847457627118644\n"
     ]
    }
   ],
   "source": [
    "# 类别i的召回率，此时认为类别i为正类：\n",
    "for i in range(10):\n",
    "    print(f'类别{i}的召回率为: {cm[i,i]/(sum(cm[i,:]))}')"
   ]
  },
  {
   "cell_type": "markdown",
   "id": "e35af92d",
   "metadata": {},
   "source": [
    "#### `micro`：计算全局微观召回率（即把所有类别的 TP 和 FN 加起来计算）"
   ]
  },
  {
   "cell_type": "code",
   "execution_count": 99,
   "id": "0d3998f9",
   "metadata": {},
   "outputs": [
    {
     "data": {
      "text/plain": [
       "0.8425925925925926"
      ]
     },
     "execution_count": 99,
     "metadata": {},
     "output_type": "execute_result"
    }
   ],
   "source": [
    "recall_score(y_test, y_pred, average='micro')"
   ]
  },
  {
   "cell_type": "code",
   "execution_count": 105,
   "id": "bae31605",
   "metadata": {},
   "outputs": [
    {
     "data": {
      "text/plain": [
       "0.8425925925925926"
      ]
     },
     "execution_count": 105,
     "metadata": {},
     "output_type": "execute_result"
    }
   ],
   "source": [
    "sum(cm[i][i] for i in range(len(cm)))/(cm.sum()) # 对角线之和除以所有数之和"
   ]
  },
  {
   "cell_type": "markdown",
   "id": "7ba2c225",
   "metadata": {},
   "source": [
    "#### `macro`：计算各类别的召回率，并返回它们的简单平均值（不考虑类别的支持度）"
   ]
  },
  {
   "cell_type": "code",
   "execution_count": 106,
   "id": "4ca549e7",
   "metadata": {},
   "outputs": [
    {
     "data": {
      "text/plain": [
       "0.8390488794273026"
      ]
     },
     "execution_count": 106,
     "metadata": {},
     "output_type": "execute_result"
    }
   ],
   "source": [
    "recall_score(y_test, y_pred, average='macro')"
   ]
  },
  {
   "cell_type": "code",
   "execution_count": 107,
   "id": "5279cef4",
   "metadata": {},
   "outputs": [
    {
     "data": {
      "text/plain": [
       "0.83904888"
      ]
     },
     "execution_count": 107,
     "metadata": {},
     "output_type": "execute_result"
    }
   ],
   "source": [
    "np.mean([0.90566038, 0.78, 0.74468085, 0.85185185, 0.85,0.86363636, 0.94339623, 0.83636364, 0.76744186, 0.84745763])"
   ]
  },
  {
   "cell_type": "markdown",
   "id": "ff64fb5f",
   "metadata": {},
   "source": [
    "#### `weighted`：计算各类别的召回率，并根据每个类别的样本数加权平均"
   ]
  },
  {
   "cell_type": "code",
   "execution_count": 108,
   "id": "1db716d3",
   "metadata": {},
   "outputs": [
    {
     "data": {
      "text/plain": [
       "0.8425925925925926"
      ]
     },
     "execution_count": 108,
     "metadata": {},
     "output_type": "execute_result"
    }
   ],
   "source": [
    "recall_score(y_test, y_pred, average='weighted')"
   ]
  },
  {
   "cell_type": "code",
   "execution_count": 109,
   "id": "a8fba560",
   "metadata": {},
   "outputs": [
    {
     "data": {
      "text/plain": [
       "0\n",
       "0    53\n",
       "1    50\n",
       "2    47\n",
       "3    54\n",
       "4    60\n",
       "5    66\n",
       "6    53\n",
       "7    55\n",
       "8    43\n",
       "9    59\n",
       "Name: count, dtype: int64"
      ]
     },
     "execution_count": 109,
     "metadata": {},
     "output_type": "execute_result"
    }
   ],
   "source": [
    "pd.DataFrame(y_test).value_counts().sort_index()"
   ]
  },
  {
   "cell_type": "code",
   "execution_count": 110,
   "id": "27e406f6",
   "metadata": {},
   "outputs": [
    {
     "data": {
      "text/plain": [
       "0.8425925931296295"
      ]
     },
     "execution_count": 110,
     "metadata": {},
     "output_type": "execute_result"
    }
   ],
   "source": [
    "(0.90566038*53 + 0.78*50 + 0.74468085*47 + 0.85185185*54 + 0.85*60 + 0.86363636*66 + 0.94339623*53 + 0.83636364*55 + 0.76744186*43 + 0.84745763*59)/y_test.shape[0]\n"
   ]
  },
  {
   "cell_type": "markdown",
   "id": "93a3cee0",
   "metadata": {},
   "source": [
    "# F1-score"
   ]
  },
  {
   "cell_type": "markdown",
   "id": "5c3c85dd",
   "metadata": {},
   "source": [
    "## 基本概念"
   ]
  },
  {
   "cell_type": "markdown",
   "id": "69ce0724",
   "metadata": {},
   "source": [
    "### 类别F1-score"
   ]
  },
  {
   "cell_type": "markdown",
   "id": "265aa3aa",
   "metadata": {},
   "source": [
    "对于每个类别$i$，精确率的计算公式如下:\n",
    "$$\\text{Precision}_i = \\frac{TP_i}{TP_i + FP_i}$$\n",
    "其中，\n",
    "- $TP_i$：类别$i$被正确预测为$i$的样本数量。\n",
    "- $FP_i$：其他类别的样本被错误地预测为类别$i$的数量。"
   ]
  },
  {
   "cell_type": "markdown",
   "id": "3421770d",
   "metadata": {},
   "source": [
    "对于每个类别$i$，召回率的计算公式如下:\n",
    "$$\\text{Recall}_i = \\frac{TP_i}{TP_i + FN_i}$$\n",
    "其中，\n",
    "- $TP_i$：类别$i$被正确预测为$i$的样本数量。\n",
    "- $FN_i$：类别$i$被错误地预测为其他类别的样本的数量。"
   ]
  },
  {
   "cell_type": "markdown",
   "id": "23f444a9",
   "metadata": {},
   "source": [
    "对于每个类别$i$，F1-score的计算公式如下:\n",
    "$$\\text{F1-score}_i = \\frac{2 \\cdot \\text{Precision}_i \\cdot \\text{Recall}_i}{\\text{Precision}_i + \\text{Recall}_i}$$\n",
    "其中，\n",
    "- $\\text{Precision}_i$：类别$i$的精确率。\n",
    "- $\\text{Recall}_i$：类别$i$的召回率。"
   ]
  },
  {
   "cell_type": "markdown",
   "id": "d586d8c6",
   "metadata": {},
   "source": [
    "### 微平均F1-score（Micro F1-score）"
   ]
  },
  {
   "cell_type": "markdown",
   "id": "69b08cc4",
   "metadata": {},
   "source": [
    "**微平均精确率**将所有类别的真阳性（TP）和假阳性（FP）累加后再计算精确率。公式为：\n",
    "$$\\text{Micro Precision} = \\frac{\\sum_{i=1}^{C} \\text{TP}_i}{\\sum_{i=1}^{C} (\\text{TP}_i + \\text{FP}_i)}$$\n",
    "其中，\n",
    "- $C$：类别的数量。\n",
    "- $TP_i$：类别$i$被正确预测为$i$的样本数量。\n",
    "- $FP_i$：其他类别的样本被错误地预测为类别$i$的数量。"
   ]
  },
  {
   "cell_type": "markdown",
   "id": "5e8ccdd3",
   "metadata": {},
   "source": [
    "**微平均召回率**将所有类别的真阳性（TP）和假阴性（FN）累加后再计算精确率。公式为：\n",
    "$$\\text{Micro Recall} = \\frac{\\sum_{i=1}^{C} \\text{TP}_i}{\\sum_{i=1}^{C} (\\text{TP}_i + \\text{FN}_i)}$$\n",
    "其中，\n",
    "- $C$：类别的数量。\n",
    "- $TP_i$：类别$i$被正确预测为$i$的样本数量。\n",
    "- $FN_i$：类别$i$被错误地预测为其他类别的样本的数量。"
   ]
  },
  {
   "cell_type": "markdown",
   "id": "54009d47",
   "metadata": {},
   "source": [
    "**微平均F1-score**则是对微平均精确率与微平均召回率求算术调和平均数得到，公式为：\n",
    "$$\\text{Micro F1-score} = 2 \\cdot \\frac{\\text{Micro Precision} \\cdot \\text{Micro Recall}}{\\text{Micro Precision} + \\text{Micro Recall}}$$\n",
    "其中，\n",
    "- $\\text{Micro Precision}$为微平均精确率\n",
    "- $\\text{Micro Recall}$为微平均召回率"
   ]
  },
  {
   "cell_type": "markdown",
   "id": "e6d0a336",
   "metadata": {},
   "source": [
    "### 宏平均F1-score（Macro F1-score）"
   ]
  },
  {
   "cell_type": "markdown",
   "id": "22fb69ab",
   "metadata": {},
   "source": [
    "**宏平均F1-score**是计算所有类别的F1-score的平均值，宏平均F1-score对每个类别的F1-score求平均，而不考虑类别的样本数，公式为：\n",
    "$$\\text{Macro F1-score} = \\frac{1}{C} \\sum_{i=1}^{C} \\text{F1-score}_i$$\n",
    "其中：\n",
    "- $C$是类别的数量。\n",
    "- $\\text{F1-score}_i$是类别$i$的F1-score。"
   ]
  },
  {
   "cell_type": "markdown",
   "id": "36c43fef",
   "metadata": {},
   "source": [
    "### 加权平均F1-score（Weighted F1-score）"
   ]
  },
  {
   "cell_type": "markdown",
   "id": "61c71591",
   "metadata": {},
   "source": [
    "**加权平均F1-score**是对每个类别的F1-score进行加权平均，权重是该类别的样本数。这使得样本较多的类别在计算中占据更多的比重，公式为：\n",
    "$$\\text{Weighted F1-score} = \\frac{\\sum_{i=1}^{C} (\\text{F1-score}_i \\times \\text{Support}_i)}{\\sum_{i=1}^{C} \\text{Support}_i}$$\n",
    "其中，\n",
    "- $Support$是每个类别的样本数。\n",
    "- $\\text{F1-score}_i$是类别$i$的F1-score。"
   ]
  },
  {
   "cell_type": "markdown",
   "id": "15cefe04",
   "metadata": {},
   "source": [
    "## F1-score手算案例"
   ]
  },
  {
   "cell_type": "markdown",
   "id": "221e76c1",
   "metadata": {},
   "source": [
    "沿用1.2节案例，已经计算得到\n",
    "\n",
    "| 类别 | 指标       | 数量 |\n",
    "|------|------------|------|\n",
    "| A    | TP(A)      | 4    |\n",
    "| A    | TN(A)      | 8    |\n",
    "| A    | FP(A)      | 2    |\n",
    "| A    | FN(A)      | 1    |\n",
    "| B    | TP(B)      | 3    |\n",
    "| B    | TN(B)      | 8    |\n",
    "| B    | FP(B)      | 2    |\n",
    "| B    | FN(B)      | 2    |\n",
    "| C    | TP(C)      | 3    |\n",
    "| C    | TN(C)      | 9    |\n",
    "| C    | FP(C)      | 1    |\n",
    "| C    | FN(C)      | 2    |\n",
    "\n"
   ]
  },
  {
   "cell_type": "markdown",
   "id": "c066ce55",
   "metadata": {},
   "source": [
    "因此可以计算得到类别**F1-score**: \n",
    "\n",
    "类别A的精确率、召回率、F1-score：\n",
    "$$Precision_{A} = \\frac{TP_A}{TP_A + FP_A} = \\frac{4}{4 + 2} = \\frac{4}{6} \\approx 0.6667$$\n",
    "$$Recall_{A} = \\frac{TP_A}{TP_A + FN_A} = \\frac{4}{4 + 1} = \\frac{4}{5} = 0.8000$$\n",
    "$$F1-score_{A} = 2 \\cdot \\frac{Precision_{A} \\cdot Recall_{A}}{Precision_{A} + Recall_{A}} = 2 \\cdot \\frac{0.6667 \\cdot 0.8000}{0.6667 + 0.8000} \\approx 0.7273$$"
   ]
  },
  {
   "cell_type": "markdown",
   "id": "912381dd",
   "metadata": {},
   "source": [
    "类别B的精确率、召回率、F1-score：\n",
    "$$Precision_{B} = \\frac{TP_B}{TP_B + FP_B} = \\frac{3}{3 + 2} = \\frac{3}{5} = 0.6000$$\n",
    "$$Recall_{B} = \\frac{TP_B}{TP_B + FN_B} = \\frac{3}{3 + 2} = \\frac{3}{5} = 0.6000$$\n",
    "$$F1-score_{B} = 2 \\cdot \\frac{P_B \\cdot R_B}{P_B + R_B} = 2 \\cdot \\frac{0.6000 \\cdot 0.6000}{0.6000 + 0.6000} = 0.6000$$"
   ]
  },
  {
   "cell_type": "markdown",
   "id": "4628cc29",
   "metadata": {},
   "source": [
    "类别C的精确率、召回率、F1-score：\n",
    "$$Precision_{C} = \\frac{TP_C}{TP_C + FP_C} = \\frac{3}{3 + 1} = \\frac{3}{4} = 0.7500$$\n",
    "$$Recall_{C} = \\frac{TP_C}{TP_C + FN_C} = \\frac{3}{3 + 2} = \\frac{3}{5} = 0.6000$$\n",
    "$$F1-score_{C} = 2 \\cdot \\frac{Precision_{C} \\cdot Recall_{C}}{Precision_{C} + Recall_{C}} = 2 \\cdot \\frac{0.7500 \\cdot 0.6000}{0.7500 + 0.6000} \\approx 0.6667$$"
   ]
  },
  {
   "cell_type": "markdown",
   "id": "898f2249",
   "metadata": {},
   "source": [
    "微平均精确率：\n",
    "$$\\text{Micro Precision} = \\frac{\\sum_{i=1}^{C} \\text{TP}_i}{\\sum_{i=1}^{C} (\\text{TP}_i + \\text{FP}_i)} = \\frac{4 + 3 + 3}{(4 + 2) + (3 + 2) + (3 + 1)} = \\frac{10}{15} \\approx 0.667$$\n",
    "\n",
    "微平均召回率：\n",
    "$$\\text{Micro Recall} = \\frac{\\sum_{i=1}^{C} \\text{TP}_i}{\\sum_{i=1}^{C} (\\text{TP}_i + \\text{FN}_i)} = \\frac{4 + 3 + 3}{(4 + 1) + (3 + 2) + (3 + 2)} = \\frac{10}{15} \\approx 0.667$$\n",
    "\n",
    "**微平均F1-score**：\n",
    "$$\\text{Micro F1-score} = 2 \\cdot \\frac{Micro Precision \\cdot Micro Recall}{Micro Precision + Micro Recall} = 2 \\cdot \\frac{0.667 \\cdot 0.667}{0.667 + 0.667} = 0.667$$"
   ]
  },
  {
   "cell_type": "markdown",
   "id": "53ea8239",
   "metadata": {},
   "source": [
    "**宏平均F1-score**：\n",
    "$$\\text{Macro F1-score} = \\frac{F1-score_A + F1-score_B + F1-score_C}{3} = \\frac{0.7273 + 0.6000 + 0.6667}{3} \\approx 0.6644$$"
   ]
  },
  {
   "cell_type": "markdown",
   "id": "0ccc5cee",
   "metadata": {},
   "source": [
    "**加权平均F1-score**：\n",
    "$$\\text{Weighted F1-score} = \\frac{\\sum_{i=1}^{C} (\\text{F1-score}_i \\times \\text{Support}_i)}{\\sum_{i=1}^{C} \\text{Support}_i} = \\frac{0.7273*5 + 0.6000*5 + 0.6667*5}{15} \\approx 0.6644$$"
   ]
  },
  {
   "cell_type": "markdown",
   "id": "c061e68f",
   "metadata": {},
   "source": [
    "## sklearn计算F1-score"
   ]
  },
  {
   "cell_type": "markdown",
   "id": "aa4ec458",
   "metadata": {},
   "source": [
    "### f1_score\n",
    "- `y_true`: 真实标签。\n",
    "- `y_pred`: 模型预测结果。\n",
    "- `pos_label`: 指定正类标签。\n",
    "- `average`: F1-score汇总方式：\n",
    "    - `None`：返回每个类别的F1-score。\n",
    "    - `binary`：适用于二分类问题，计算正类（pos_label）的F1-score。\n",
    "    - `micro`：计算全局微观F1-score（根据全局微观精确率、全局微观召回率计算得到）。\n",
    "    - `macro`：计算各类别的F1-score，并返回它们的简单平均值（不考虑类别的支持度）。\n",
    "    - `weighted`：计算各类别的F1-score，并根据每个类别的样本数加权平均。"
   ]
  },
  {
   "cell_type": "markdown",
   "id": "8f1049c1",
   "metadata": {},
   "source": [
    "### 实际案例"
   ]
  },
  {
   "cell_type": "code",
   "execution_count": 26,
   "id": "00c1b9e1",
   "metadata": {},
   "outputs": [
    {
     "name": "stdout",
     "output_type": "stream",
     "text": [
      "各类别F1-score： [0.914 0.757 0.787 0.814 0.829 0.891 0.935 0.844 0.825 0.813]\n",
      "微平均F1-score： 0.843\n",
      "宏平均F1-score： 0.841\n",
      "加权平均F1-score： 0.843\n"
     ]
    }
   ],
   "source": [
    "# 导入必要的库\n",
    "import numpy as np\n",
    "from sklearn import datasets\n",
    "from sklearn.model_selection import train_test_split\n",
    "from sklearn.tree import DecisionTreeClassifier\n",
    "from sklearn.metrics import f1_score, classification_report  # 替换为 f1_score\n",
    "\n",
    "# 加载数据集\n",
    "digits = datasets.load_digits()\n",
    "X = digits.data  # 特征\n",
    "y = digits.target  # 目标变量（标签）\n",
    "\n",
    "# 将数据集分为训练集和验证集\n",
    "X_train, X_test, y_train, y_test = train_test_split(X, y, test_size=0.3, random_state=42)\n",
    "\n",
    "# 初始化并训练决策树分类器\n",
    "model = DecisionTreeClassifier(random_state=42)\n",
    "model.fit(X_train, y_train)\n",
    "\n",
    "# 进行预测\n",
    "y_pred = model.predict(X_test)\n",
    "\n",
    "# 计算各类别F1-score\n",
    "f1_per_class = f1_score(y_test, y_pred, average=None)\n",
    "print(\"各类别F1-score：\", np.round(f1_per_class, 3))\n",
    "\n",
    "# 计算微平均F1-score\n",
    "micro_f1 = f1_score(y_test, y_pred, average='micro')\n",
    "print(\"微平均F1-score：\", round(micro_f1, 3))\n",
    "\n",
    "# 计算宏平均F1-score\n",
    "macro_f1 = f1_score(y_test, y_pred, average='macro')\n",
    "print(\"宏平均F1-score：\", round(macro_f1, 3))\n",
    "\n",
    "# 计算加权平均F1-score\n",
    "weighted_f1 = f1_score(y_test, y_pred, average='weighted')\n",
    "print(\"加权平均F1-score：\", round(weighted_f1, 3))"
   ]
  },
  {
   "cell_type": "markdown",
   "id": "7f43606e",
   "metadata": {},
   "source": [
    "### `average`F1-score汇总方式介绍"
   ]
  },
  {
   "cell_type": "markdown",
   "id": "e22ee66a",
   "metadata": {},
   "source": [
    "#### `None`：返回每个类别的F1-score"
   ]
  },
  {
   "cell_type": "code",
   "execution_count": 111,
   "id": "c849a4a1",
   "metadata": {},
   "outputs": [
    {
     "data": {
      "text/plain": [
       "array([0.91428571, 0.75728155, 0.78651685, 0.81415929, 0.82926829,\n",
       "       0.890625  , 0.93457944, 0.8440367 , 0.825     , 0.81300813])"
      ]
     },
     "execution_count": 111,
     "metadata": {},
     "output_type": "execute_result"
    }
   ],
   "source": [
    "f1_score(y_test, y_pred, average=None)"
   ]
  },
  {
   "cell_type": "code",
   "execution_count": 112,
   "id": "56ba9ae4",
   "metadata": {},
   "outputs": [
    {
     "data": {
      "text/plain": [
       "array([0.92307692, 0.73584906, 0.83333333, 0.77966102, 0.80952381,\n",
       "       0.91935484, 0.92592593, 0.85185185, 0.89189189, 0.78125   ])"
      ]
     },
     "execution_count": 112,
     "metadata": {},
     "output_type": "execute_result"
    }
   ],
   "source": [
    "# 每个类别的精确率\n",
    "p_scores = precision_score(y_test, y_pred, average=None)\n",
    "p_scores"
   ]
  },
  {
   "cell_type": "code",
   "execution_count": 113,
   "id": "9094d01c",
   "metadata": {},
   "outputs": [
    {
     "data": {
      "text/plain": [
       "array([0.90566038, 0.78      , 0.74468085, 0.85185185, 0.85      ,\n",
       "       0.86363636, 0.94339623, 0.83636364, 0.76744186, 0.84745763])"
      ]
     },
     "execution_count": 113,
     "metadata": {},
     "output_type": "execute_result"
    }
   ],
   "source": [
    "# 每个类别的召回率\n",
    "r_scores = recall_score(y_test, y_pred, average=None)\n",
    "r_scores"
   ]
  },
  {
   "cell_type": "code",
   "execution_count": 114,
   "id": "2cd6bd62",
   "metadata": {},
   "outputs": [
    {
     "name": "stdout",
     "output_type": "stream",
     "text": [
      "类别0的F1-score: 0.9142857142857143\n",
      "类别1的F1-score: 0.7572815533980584\n",
      "类别2的F1-score: 0.7865168539325842\n",
      "类别3的F1-score: 0.8141592920353983\n",
      "类别4的F1-score: 0.8292682926829269\n",
      "类别5的F1-score: 0.890625\n",
      "类别6的F1-score: 0.9345794392523364\n",
      "类别7的F1-score: 0.8440366972477065\n",
      "类别8的F1-score: 0.825\n",
      "类别9的F1-score: 0.8130081300813008\n"
     ]
    }
   ],
   "source": [
    "for i,(p,r) in enumerate(zip(p_scores,r_scores)):\n",
    "    f1 = 2*(p*r)/(p+r)\n",
    "    print(f'类别{i}的F1-score: {f1}')"
   ]
  },
  {
   "cell_type": "markdown",
   "id": "4b6e2000",
   "metadata": {},
   "source": [
    "#### `micro`：计算全局微观F1-score（根据全局微观精确率、全局微观召回率计算得到）"
   ]
  },
  {
   "cell_type": "code",
   "execution_count": 116,
   "id": "5e1b78ef",
   "metadata": {},
   "outputs": [
    {
     "data": {
      "text/plain": [
       "0.8425925925925926"
      ]
     },
     "execution_count": 116,
     "metadata": {},
     "output_type": "execute_result"
    }
   ],
   "source": [
    "f1_score(y_test, y_pred, average='micro')"
   ]
  },
  {
   "cell_type": "code",
   "execution_count": 117,
   "id": "806916fa",
   "metadata": {},
   "outputs": [
    {
     "data": {
      "text/plain": [
       "0.8425925925925926"
      ]
     },
     "execution_count": 117,
     "metadata": {},
     "output_type": "execute_result"
    }
   ],
   "source": [
    "# 计算全局微观精确率\n",
    "precision_score(y_test, y_pred, average='micro')"
   ]
  },
  {
   "cell_type": "code",
   "execution_count": 118,
   "id": "eb7535af",
   "metadata": {},
   "outputs": [
    {
     "data": {
      "text/plain": [
       "0.8425925925925926"
      ]
     },
     "execution_count": 118,
     "metadata": {},
     "output_type": "execute_result"
    }
   ],
   "source": [
    "# 计算全局微观召回率\n",
    "recall_score(y_test, y_pred, average='micro')"
   ]
  },
  {
   "cell_type": "code",
   "execution_count": 119,
   "id": "20ff1b13",
   "metadata": {},
   "outputs": [
    {
     "data": {
      "text/plain": [
       "0.8425925925925926"
      ]
     },
     "execution_count": 119,
     "metadata": {},
     "output_type": "execute_result"
    }
   ],
   "source": [
    "# 全局微观F1-score\n",
    "2*(0.8425925925925926*0.8425925925925926)/(0.8425925925925926+0.8425925925925926)"
   ]
  },
  {
   "cell_type": "markdown",
   "id": "e4c1f160",
   "metadata": {},
   "source": [
    "#### `macro`：计算各类别的F1-score，并返回它们的简单平均值（不考虑类别的支持度）"
   ]
  },
  {
   "cell_type": "code",
   "execution_count": 120,
   "id": "980bf287",
   "metadata": {},
   "outputs": [
    {
     "data": {
      "text/plain": [
       "0.8408760972916026"
      ]
     },
     "execution_count": 120,
     "metadata": {},
     "output_type": "execute_result"
    }
   ],
   "source": [
    "f1_score(y_test, y_pred, average='macro')"
   ]
  },
  {
   "cell_type": "code",
   "execution_count": 121,
   "id": "e69898bd",
   "metadata": {},
   "outputs": [
    {
     "data": {
      "text/plain": [
       "0.8408760959999999"
      ]
     },
     "execution_count": 121,
     "metadata": {},
     "output_type": "execute_result"
    }
   ],
   "source": [
    "np.mean([0.91428571, 0.75728155, 0.78651685, 0.81415929, 0.82926829,0.890625, 0.93457944, 0.8440367, 0.825, 0.81300813])\n"
   ]
  },
  {
   "cell_type": "markdown",
   "id": "45e556c4",
   "metadata": {},
   "source": [
    "#### `weighted`：计算各类别的F1-score，并根据每个类别的样本数加权平均"
   ]
  },
  {
   "cell_type": "code",
   "execution_count": 122,
   "id": "d0204cac",
   "metadata": {},
   "outputs": [
    {
     "data": {
      "text/plain": [
       "0.8429382783269607"
      ]
     },
     "execution_count": 122,
     "metadata": {},
     "output_type": "execute_result"
    }
   ],
   "source": [
    "f1_score(y_test, y_pred, average='weighted')"
   ]
  },
  {
   "cell_type": "code",
   "execution_count": 124,
   "id": "4cbdaad4",
   "metadata": {},
   "outputs": [
    {
     "data": {
      "text/plain": [
       "0\n",
       "0    53\n",
       "1    50\n",
       "2    47\n",
       "3    54\n",
       "4    60\n",
       "5    66\n",
       "6    53\n",
       "7    55\n",
       "8    43\n",
       "9    59\n",
       "Name: count, dtype: int64"
      ]
     },
     "execution_count": 124,
     "metadata": {},
     "output_type": "execute_result"
    }
   ],
   "source": [
    "pd.DataFrame(y_test).value_counts().sort_index()"
   ]
  },
  {
   "cell_type": "code",
   "execution_count": 125,
   "id": "fcbdb1a0",
   "metadata": {},
   "outputs": [
    {
     "data": {
      "text/plain": [
       "0.8429382770925926"
      ]
     },
     "execution_count": 125,
     "metadata": {},
     "output_type": "execute_result"
    }
   ],
   "source": [
    "(0.91428571*53 + 0.75728155*50 + 0.78651685*47 + 0.81415929*54 + 0.82926829*60 + 0.890625*66 + 0.93457944*53 + 0.8440367*55 + 0.825*43 + 0.81300813*59)/(y_test.shape[0])\n"
   ]
  },
  {
   "cell_type": "markdown",
   "id": "2e816939",
   "metadata": {},
   "source": [
    "# 分类报告"
   ]
  },
  {
   "cell_type": "markdown",
   "id": "e787b799",
   "metadata": {},
   "source": [
    "## 基本概念"
   ]
  },
  {
   "cell_type": "markdown",
   "id": "292534c6",
   "metadata": {},
   "source": [
    "**分类报告（Classification Report）**用于报告分类模型的效果指标，主要包含以下几个重要的指标：精确率（Precision）、召回率（Recall）、F1 分数（F1 Score） 和 支持度（Support）。"
   ]
  },
  {
   "cell_type": "markdown",
   "id": "3ccf671a",
   "metadata": {},
   "source": [
    "## sklearn计算分类报告"
   ]
  },
  {
   "cell_type": "markdown",
   "id": "613fb140",
   "metadata": {},
   "source": [
    "### classification_report\n",
    "- `y_true`: 真实标签。\n",
    "- `y_pred`: 模型预测结果。\n",
    "- `labels`: 指定混淆矩阵中的类别顺序。\n",
    "- `target_names`: 设置标签的名字。\n",
    "- `digits`: 设置报告中显示的小数点位数。默认为 2，表示结果保留两位小数。\n",
    "- `output_dict`: 函数是否返回字典。\n",
    "    - True: 函数返回字典，字典包含每个类别的详细性能指标。\n",
    "    - False: 函数返回字符串报告。"
   ]
  },
  {
   "cell_type": "markdown",
   "id": "24ff6d12",
   "metadata": {},
   "source": [
    "### 实际案例"
   ]
  },
  {
   "cell_type": "code",
   "execution_count": 126,
   "id": "506e5364",
   "metadata": {},
   "outputs": [
    {
     "name": "stdout",
     "output_type": "stream",
     "text": [
      "Classification Report:\n",
      "              precision    recall  f1-score   support\n",
      "\n",
      "           0   0.923077  0.905660  0.914286        53\n",
      "           1   0.735849  0.780000  0.757282        50\n",
      "           2   0.833333  0.744681  0.786517        47\n",
      "           3   0.779661  0.851852  0.814159        54\n",
      "           4   0.809524  0.850000  0.829268        60\n",
      "           5   0.919355  0.863636  0.890625        66\n",
      "           6   0.925926  0.943396  0.934579        53\n",
      "           7   0.851852  0.836364  0.844037        55\n",
      "           8   0.891892  0.767442  0.825000        43\n",
      "           9   0.781250  0.847458  0.813008        59\n",
      "\n",
      "    accuracy                       0.842593       540\n",
      "   macro avg   0.845172  0.839049  0.840876       540\n",
      "weighted avg   0.845563  0.842593  0.842938       540\n",
      "\n"
     ]
    }
   ],
   "source": [
    "# 导入必要的库\n",
    "import numpy as np\n",
    "from sklearn import datasets\n",
    "from sklearn.model_selection import train_test_split\n",
    "from sklearn.tree import DecisionTreeClassifier\n",
    "from sklearn.metrics import classification_report  # 主要修改点\n",
    "\n",
    "# 加载数据集\n",
    "digits = datasets.load_digits()\n",
    "X = digits.data  # 特征\n",
    "y = digits.target  # 目标变量（标签）\n",
    "\n",
    "# 将数据集分为训练集和验证集\n",
    "X_train, X_test, y_train, y_test = train_test_split(X, y, test_size=0.3, random_state=42)\n",
    "\n",
    "# 初始化并训练决策树分类器\n",
    "model = DecisionTreeClassifier(random_state=42)\n",
    "model.fit(X_train, y_train)\n",
    "\n",
    "# 进行预测\n",
    "y_pred = model.predict(X_test)\n",
    "\n",
    "# 计算并打印分类报告\n",
    "report = classification_report(\n",
    "    y_test, \n",
    "    y_pred, \n",
    "    target_names=[str(i) for i in digits.target_names],  # 使用数字标签作为类别名称\n",
    "    digits=6)\n",
    "print(\"Classification Report:\")\n",
    "print(report)"
   ]
  },
  {
   "cell_type": "code",
   "execution_count": 127,
   "id": "70a77f41",
   "metadata": {},
   "outputs": [
    {
     "data": {
      "text/plain": [
       "array([0.92307692, 0.73584906, 0.83333333, 0.77966102, 0.80952381,\n",
       "       0.91935484, 0.92592593, 0.85185185, 0.89189189, 0.78125   ])"
      ]
     },
     "execution_count": 127,
     "metadata": {},
     "output_type": "execute_result"
    }
   ],
   "source": [
    "# 返回每个类别的精确率\n",
    "precision_score(y_test, y_pred, average=None)"
   ]
  },
  {
   "cell_type": "code",
   "execution_count": 42,
   "id": "6e775bbd",
   "metadata": {},
   "outputs": [
    {
     "data": {
      "text/plain": [
       "array([0.90566038, 0.78      , 0.74468085, 0.85185185, 0.85      ,\n",
       "       0.86363636, 0.94339623, 0.83636364, 0.76744186, 0.84745763])"
      ]
     },
     "execution_count": 42,
     "metadata": {},
     "output_type": "execute_result"
    }
   ],
   "source": [
    "# 返回每个类别的召回率\n",
    "recall_score(y_test, y_pred, average=None)"
   ]
  },
  {
   "cell_type": "code",
   "execution_count": 43,
   "id": "6f6c3432",
   "metadata": {},
   "outputs": [
    {
     "data": {
      "text/plain": [
       "array([0.91428571, 0.75728155, 0.78651685, 0.81415929, 0.82926829,\n",
       "       0.890625  , 0.93457944, 0.8440367 , 0.825     , 0.81300813])"
      ]
     },
     "execution_count": 43,
     "metadata": {},
     "output_type": "execute_result"
    }
   ],
   "source": [
    "# 返回每个类别的F1-score\n",
    "f1_score(y_test, y_pred, average=None)"
   ]
  },
  {
   "cell_type": "code",
   "execution_count": 128,
   "id": "e43578c7",
   "metadata": {},
   "outputs": [
    {
     "data": {
      "text/plain": [
       "0\n",
       "0    53\n",
       "1    50\n",
       "2    47\n",
       "3    54\n",
       "4    60\n",
       "5    66\n",
       "6    53\n",
       "7    55\n",
       "8    43\n",
       "9    59\n",
       "Name: count, dtype: int64"
      ]
     },
     "execution_count": 128,
     "metadata": {},
     "output_type": "execute_result"
    }
   ],
   "source": [
    "# 统计各类别的样本数\n",
    "pd.DataFrame(y_test).value_counts().sort_index()"
   ]
  },
  {
   "cell_type": "code",
   "execution_count": 129,
   "id": "e8e22fcb",
   "metadata": {},
   "outputs": [
    {
     "data": {
      "text/plain": [
       "0.8425925925925926"
      ]
     },
     "execution_count": 129,
     "metadata": {},
     "output_type": "execute_result"
    }
   ],
   "source": [
    "# 计算准确率\n",
    "accuracy_score(y_test, y_pred)"
   ]
  },
  {
   "cell_type": "code",
   "execution_count": 130,
   "id": "2de19f5a",
   "metadata": {},
   "outputs": [
    {
     "data": {
      "text/plain": [
       "540"
      ]
     },
     "execution_count": 130,
     "metadata": {},
     "output_type": "execute_result"
    }
   ],
   "source": [
    "# 计算并统计样本总数\n",
    "y_test.shape[0]"
   ]
  },
  {
   "cell_type": "code",
   "execution_count": 131,
   "id": "08578f8a",
   "metadata": {},
   "outputs": [
    {
     "data": {
      "text/plain": [
       "0.845171864786634"
      ]
     },
     "execution_count": 131,
     "metadata": {},
     "output_type": "execute_result"
    }
   ],
   "source": [
    "# 计算各类别的精确率，并返回它们的简单平均值\n",
    "precision_score(y_test, y_pred, average='macro')"
   ]
  },
  {
   "cell_type": "code",
   "execution_count": 134,
   "id": "60771403",
   "metadata": {},
   "outputs": [
    {
     "data": {
      "text/plain": [
       "0.8455625306272797"
      ]
     },
     "execution_count": 134,
     "metadata": {},
     "output_type": "execute_result"
    }
   ],
   "source": [
    "# 计算各类别的精确率，并根据每个类别的样本数加权平均\n",
    "precision_score(y_test, y_pred, average='weighted')"
   ]
  },
  {
   "cell_type": "code",
   "execution_count": 132,
   "id": "6a466d25",
   "metadata": {},
   "outputs": [
    {
     "data": {
      "text/plain": [
       "0.8390488794273026"
      ]
     },
     "execution_count": 132,
     "metadata": {},
     "output_type": "execute_result"
    }
   ],
   "source": [
    "# 计算各类别的召回率，并返回它们的简单平均值\n",
    "recall_score(y_test, y_pred, average='macro')"
   ]
  },
  {
   "cell_type": "code",
   "execution_count": 50,
   "id": "ce8dc92d",
   "metadata": {},
   "outputs": [
    {
     "data": {
      "text/plain": [
       "0.8425925925925926"
      ]
     },
     "execution_count": 50,
     "metadata": {},
     "output_type": "execute_result"
    }
   ],
   "source": [
    "# 计算各类别的召回率，并根据每个类别的样本数加权平均\n",
    "recall_score(y_test, y_pred, average='weighted')\n"
   ]
  },
  {
   "cell_type": "code",
   "execution_count": 133,
   "id": "42c6df60",
   "metadata": {},
   "outputs": [
    {
     "data": {
      "text/plain": [
       "0.8408760972916026"
      ]
     },
     "execution_count": 133,
     "metadata": {},
     "output_type": "execute_result"
    }
   ],
   "source": [
    "# 计算各类别的F1-score，并返回它们的简单平均值\n",
    "f1_score(y_test, y_pred, average='macro')"
   ]
  },
  {
   "cell_type": "code",
   "execution_count": 135,
   "id": "a391daeb",
   "metadata": {},
   "outputs": [
    {
     "data": {
      "text/plain": [
       "0.8429382783269607"
      ]
     },
     "execution_count": 135,
     "metadata": {},
     "output_type": "execute_result"
    }
   ],
   "source": [
    "# 计算各类别的F1-score，并根据每个类别的样本数加权平均\n",
    "f1_score(y_test, y_pred, average='weighted')"
   ]
  },
  {
   "cell_type": "code",
   "execution_count": null,
   "id": "0a5cd71c",
   "metadata": {},
   "outputs": [],
   "source": []
  },
  {
   "cell_type": "code",
   "execution_count": null,
   "id": "f5a1d3d7",
   "metadata": {},
   "outputs": [],
   "source": []
  },
  {
   "cell_type": "code",
   "execution_count": null,
   "id": "6c5ede5d",
   "metadata": {},
   "outputs": [],
   "source": []
  }
 ],
 "metadata": {
  "kernelspec": {
   "display_name": "Python 3 (ipykernel)",
   "language": "python",
   "name": "python3"
  },
  "language_info": {
   "codemirror_mode": {
    "name": "ipython",
    "version": 3
   },
   "file_extension": ".py",
   "mimetype": "text/x-python",
   "name": "python",
   "nbconvert_exporter": "python",
   "pygments_lexer": "ipython3",
   "version": "3.12.2"
  },
  "toc": {
   "base_numbering": 1,
   "nav_menu": {},
   "number_sections": true,
   "sideBar": true,
   "skip_h1_title": false,
   "title_cell": "Table of Contents",
   "title_sidebar": "Contents",
   "toc_cell": false,
   "toc_position": {
    "height": "calc(100% - 180px)",
    "left": "10px",
    "top": "150px",
    "width": "288px"
   },
   "toc_section_display": true,
   "toc_window_display": true
  }
 },
 "nbformat": 4,
 "nbformat_minor": 5
}
