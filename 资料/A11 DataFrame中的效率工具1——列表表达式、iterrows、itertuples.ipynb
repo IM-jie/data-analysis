{
 "cells": [
  {
   "cell_type": "markdown",
   "id": "42b325c1",
   "metadata": {},
   "source": [
    "本章节将介绍python中常用到的几个堪称瑞士军刀的效率工具：列表表达式、iterrows、itertuples()"
   ]
  },
  {
   "cell_type": "markdown",
   "id": "36ccfa37",
   "metadata": {},
   "source": [
    "# 列表表达式"
   ]
  },
  {
   "cell_type": "markdown",
   "id": "969a1a9d",
   "metadata": {},
   "source": [
    "**列表表达式（List Comprehension）**是Python中一种非常强大且简洁的语法，用于从一个可迭代对象（如列表、元组、字典、集合、生成器等）生成新的列表"
   ]
  },
  {
   "cell_type": "markdown",
   "id": "56886b12",
   "metadata": {},
   "source": [
    "## 基本语法"
   ]
  },
  {
   "cell_type": "markdown",
   "id": "ac135442",
   "metadata": {},
   "source": [
    "**[表达式 for 变量 in 可迭代对象 if 条件]**：\n",
    "- **表达式**：生成新列表中每个元素的逻辑\n",
    "- **变量**：可迭代对象中的每个元素。\n",
    "- **可迭代对象**：可迭代对象，如列表、元组、字典、集合、生成器等。\n",
    "- **条件**：过滤条件（可选）\n",
    "\n",
    "**等价于**：\n",
    "\n",
    "for 变量 in 可迭代对象:\n",
    "    \n",
    "    if 条件:\n",
    "    \n",
    "        表达式"
   ]
  },
  {
   "cell_type": "markdown",
   "id": "34f9f7e2",
   "metadata": {},
   "source": [
    "## 与for循环的区别"
   ]
  },
  {
   "cell_type": "code",
   "execution_count": 15,
   "id": "8b92efc5",
   "metadata": {},
   "outputs": [
    {
     "data": {
      "text/plain": [
       "[0, 1, 2, 3, 4]"
      ]
     },
     "execution_count": 15,
     "metadata": {},
     "output_type": "execute_result"
    }
   ],
   "source": [
    "# 传统的for循环\n",
    "result = []\n",
    "for i in range(5):\n",
    "    result.append(i)\n",
    "result  # 输出：[0, 1, 2, 3, 4]"
   ]
  },
  {
   "cell_type": "code",
   "execution_count": 16,
   "id": "f09abf5c",
   "metadata": {},
   "outputs": [
    {
     "data": {
      "text/plain": [
       "[0, 1, 2, 3, 4]"
      ]
     },
     "execution_count": 16,
     "metadata": {},
     "output_type": "execute_result"
    }
   ],
   "source": [
    "# 使用列表表达式实现相同功能\n",
    "result = [i for i in range(5)]\n",
    "result  # 输出：[0, 1, 2, 3, 4]"
   ]
  },
  {
   "cell_type": "markdown",
   "id": "e88136e1",
   "metadata": {},
   "source": [
    "## 列表表达式使用场景"
   ]
  },
  {
   "cell_type": "markdown",
   "id": "ad3eeb3f",
   "metadata": {},
   "source": [
    "### 基本用法"
   ]
  },
  {
   "cell_type": "code",
   "execution_count": 17,
   "id": "5b7753c3",
   "metadata": {},
   "outputs": [
    {
     "data": {
      "text/plain": [
       "[0, 1, 4, 9, 16, 25, 36, 49, 64, 81]"
      ]
     },
     "execution_count": 17,
     "metadata": {},
     "output_type": "execute_result"
    }
   ],
   "source": [
    "# 生成一个包含0到9的平方的列表\n",
    "squares = [x * x for x in range(10)]\n",
    "squares"
   ]
  },
  {
   "cell_type": "code",
   "execution_count": 18,
   "id": "f6865cf5",
   "metadata": {},
   "outputs": [
    {
     "data": {
      "text/plain": [
       "[0, 1, 4, 9, 16, 25, 36, 49, 64, 81]"
      ]
     },
     "execution_count": 18,
     "metadata": {},
     "output_type": "execute_result"
    }
   ],
   "source": [
    "# 等价于\n",
    "squares = []\n",
    "for x in range(10):\n",
    "    squares.append(x*x)\n",
    "squares"
   ]
  },
  {
   "cell_type": "markdown",
   "id": "2dbca1e1",
   "metadata": {},
   "source": [
    "### 带条件语句"
   ]
  },
  {
   "cell_type": "code",
   "execution_count": 22,
   "id": "5e3a0122",
   "metadata": {},
   "outputs": [
    {
     "data": {
      "text/plain": [
       "['BANANA']"
      ]
     },
     "execution_count": 22,
     "metadata": {},
     "output_type": "execute_result"
    }
   ],
   "source": [
    "# 将一个列表中的所有字符串转换为大写\n",
    "words = [\"apple\", \"banana\", \"cherry\"]\n",
    "upper_words = [word.upper() for word in words if word.endswith('a')]\n",
    "upper_words"
   ]
  },
  {
   "cell_type": "code",
   "execution_count": 23,
   "id": "a57f30c8",
   "metadata": {},
   "outputs": [
    {
     "data": {
      "text/plain": [
       "['BANANA']"
      ]
     },
     "execution_count": 23,
     "metadata": {},
     "output_type": "execute_result"
    }
   ],
   "source": [
    "# 等价于\n",
    "upper_words = []\n",
    "for word in words:\n",
    "    if word.endswith('a'):\n",
    "        upper_words.append(word.upper())\n",
    "upper_words"
   ]
  },
  {
   "cell_type": "markdown",
   "id": "84e02a38",
   "metadata": {},
   "source": [
    "### 多层循环"
   ]
  },
  {
   "cell_type": "code",
   "execution_count": 24,
   "id": "2017ad84",
   "metadata": {},
   "outputs": [
    {
     "data": {
      "text/plain": [
       "[(0, 0), (0, 1), (0, 2), (1, 0), (1, 1), (1, 2), (2, 0), (2, 1), (2, 2)]"
      ]
     },
     "execution_count": 24,
     "metadata": {},
     "output_type": "execute_result"
    }
   ],
   "source": [
    "# 生成一个包含所有可能的坐标点的列表\n",
    "points = [(x, y) for x in range(3) for y in range(3)]\n",
    "points"
   ]
  },
  {
   "cell_type": "code",
   "execution_count": 25,
   "id": "66d57115",
   "metadata": {},
   "outputs": [
    {
     "name": "stdout",
     "output_type": "stream",
     "text": [
      "[(0, 0), (0, 1), (0, 2), (1, 0), (1, 1), (1, 2), (2, 0), (2, 1), (2, 2)]\n"
     ]
    }
   ],
   "source": [
    "# 等价于\n",
    "points = []\n",
    "for x in range(3):\n",
    "    for y in range(3):\n",
    "        points.append((x, y))\n",
    "\n",
    "print(points)"
   ]
  },
  {
   "cell_type": "markdown",
   "id": "51bc6d40",
   "metadata": {},
   "source": [
    "# iterrows()"
   ]
  },
  {
   "cell_type": "markdown",
   "id": "cb31d039",
   "metadata": {},
   "source": [
    "**iterrows()**方法用于逐行迭代式地获取 DataFrame 的行数据。每次迭代返回dataFrame的行索引和行数据，从而实现对DataFrame的处理"
   ]
  },
  {
   "cell_type": "markdown",
   "id": "02a3713b",
   "metadata": {},
   "source": [
    "## 基本定义"
   ]
  },
  {
   "cell_type": "markdown",
   "id": "0d142962",
   "metadata": {},
   "source": [
    "**DataFrame.iterrows()**：\n",
    "- **作用**：返回一个生成器，用于遍历 DataFrame 的每一行。\n",
    "- **返回值**：每次迭代会返回一个 (index, Series) 元组，其中：\n",
    "    - index：是当前行的索引。\n",
    "    - Series是当前行的数据。"
   ]
  },
  {
   "cell_type": "markdown",
   "id": "594fe90a",
   "metadata": {},
   "source": [
    "## iterrows()使用场景"
   ]
  },
  {
   "cell_type": "code",
   "execution_count": 26,
   "id": "ebaa1440",
   "metadata": {},
   "outputs": [
    {
     "data": {
      "text/html": [
       "<div>\n",
       "<style scoped>\n",
       "    .dataframe tbody tr th:only-of-type {\n",
       "        vertical-align: middle;\n",
       "    }\n",
       "\n",
       "    .dataframe tbody tr th {\n",
       "        vertical-align: top;\n",
       "    }\n",
       "\n",
       "    .dataframe thead th {\n",
       "        text-align: right;\n",
       "    }\n",
       "</style>\n",
       "<table border=\"1\" class=\"dataframe\">\n",
       "  <thead>\n",
       "    <tr style=\"text-align: right;\">\n",
       "      <th></th>\n",
       "      <th>Name</th>\n",
       "      <th>Age</th>\n",
       "      <th>City</th>\n",
       "    </tr>\n",
       "  </thead>\n",
       "  <tbody>\n",
       "    <tr>\n",
       "      <th>0</th>\n",
       "      <td>Alice</td>\n",
       "      <td>25</td>\n",
       "      <td>New York</td>\n",
       "    </tr>\n",
       "    <tr>\n",
       "      <th>1</th>\n",
       "      <td>Bob</td>\n",
       "      <td>30</td>\n",
       "      <td>San Francisco</td>\n",
       "    </tr>\n",
       "    <tr>\n",
       "      <th>2</th>\n",
       "      <td>Charlie</td>\n",
       "      <td>35</td>\n",
       "      <td>Los Angeles</td>\n",
       "    </tr>\n",
       "  </tbody>\n",
       "</table>\n",
       "</div>"
      ],
      "text/plain": [
       "      Name  Age           City\n",
       "0    Alice   25       New York\n",
       "1      Bob   30  San Francisco\n",
       "2  Charlie   35    Los Angeles"
      ]
     },
     "execution_count": 26,
     "metadata": {},
     "output_type": "execute_result"
    }
   ],
   "source": [
    "import pandas as pd\n",
    "\n",
    "# 创建一个 DataFrame\n",
    "data = {'Name': ['Alice', 'Bob', 'Charlie'],\n",
    "        'Age': [25, 30, 35],\n",
    "        'City': ['New York', 'San Francisco', 'Los Angeles']}\n",
    "df = pd.DataFrame(data)\n",
    "df"
   ]
  },
  {
   "cell_type": "code",
   "execution_count": 27,
   "id": "d0e12e41",
   "metadata": {},
   "outputs": [
    {
     "name": "stdout",
     "output_type": "stream",
     "text": [
      "Index: 0\n",
      "Row Data:\n",
      "Name       Alice\n",
      "Age           25\n",
      "City    New York\n",
      "Name: 0, dtype: object\n",
      "--------------------\n",
      "Index: 1\n",
      "Row Data:\n",
      "Name              Bob\n",
      "Age                30\n",
      "City    San Francisco\n",
      "Name: 1, dtype: object\n",
      "--------------------\n",
      "Index: 2\n",
      "Row Data:\n",
      "Name        Charlie\n",
      "Age              35\n",
      "City    Los Angeles\n",
      "Name: 2, dtype: object\n",
      "--------------------\n"
     ]
    }
   ],
   "source": [
    "# 使用 iterrows 遍历每一行\n",
    "for index, row in df.iterrows():\n",
    "    print(f\"Index: {index}\")\n",
    "    print(f\"Row Data:\\n{row}\")\n",
    "    print(\"-\" * 20)"
   ]
  },
  {
   "cell_type": "markdown",
   "id": "1b3f57d4",
   "metadata": {},
   "source": [
    "# itertuples()"
   ]
  },
  {
   "cell_type": "markdown",
   "id": "cc55a0e7",
   "metadata": {},
   "source": [
    "## 基本定义"
   ]
  },
  {
   "cell_type": "markdown",
   "id": "504d0fdb",
   "metadata": {},
   "source": [
    "**itertuples()**与iterrows()类似，用于逐行迭代式地获取 DataFrame 的行数据。\n",
    "\n",
    "与iterrows()不同的是，itertuples()返回的是一个命名元组（namedtuple），而不是行索引和行对象，而且itertuples()的效率也更高"
   ]
  },
  {
   "cell_type": "markdown",
   "id": "4f82f3ff",
   "metadata": {},
   "source": [
    "**itertuples(index=True)**\n",
    "- index：布尔值，表示是否包括行索引。默认为 True"
   ]
  },
  {
   "cell_type": "markdown",
   "id": "2e431758",
   "metadata": {},
   "source": [
    "## itertuples()使用场景"
   ]
  },
  {
   "cell_type": "code",
   "execution_count": 30,
   "id": "fff3cf96",
   "metadata": {},
   "outputs": [
    {
     "data": {
      "text/html": [
       "<div>\n",
       "<style scoped>\n",
       "    .dataframe tbody tr th:only-of-type {\n",
       "        vertical-align: middle;\n",
       "    }\n",
       "\n",
       "    .dataframe tbody tr th {\n",
       "        vertical-align: top;\n",
       "    }\n",
       "\n",
       "    .dataframe thead th {\n",
       "        text-align: right;\n",
       "    }\n",
       "</style>\n",
       "<table border=\"1\" class=\"dataframe\">\n",
       "  <thead>\n",
       "    <tr style=\"text-align: right;\">\n",
       "      <th></th>\n",
       "      <th>Name</th>\n",
       "      <th>Age</th>\n",
       "      <th>City</th>\n",
       "    </tr>\n",
       "  </thead>\n",
       "  <tbody>\n",
       "    <tr>\n",
       "      <th>0</th>\n",
       "      <td>Alice</td>\n",
       "      <td>25</td>\n",
       "      <td>New York</td>\n",
       "    </tr>\n",
       "    <tr>\n",
       "      <th>1</th>\n",
       "      <td>Bob</td>\n",
       "      <td>30</td>\n",
       "      <td>Los Angeles</td>\n",
       "    </tr>\n",
       "    <tr>\n",
       "      <th>2</th>\n",
       "      <td>Charlie</td>\n",
       "      <td>35</td>\n",
       "      <td>Chicago</td>\n",
       "    </tr>\n",
       "  </tbody>\n",
       "</table>\n",
       "</div>"
      ],
      "text/plain": [
       "      Name  Age         City\n",
       "0    Alice   25     New York\n",
       "1      Bob   30  Los Angeles\n",
       "2  Charlie   35      Chicago"
      ]
     },
     "execution_count": 30,
     "metadata": {},
     "output_type": "execute_result"
    }
   ],
   "source": [
    "import pandas as pd\n",
    "\n",
    "# 创建一个 DataFrame\n",
    "df = pd.DataFrame({\n",
    "    'Name': ['Alice', 'Bob', 'Charlie'],\n",
    "    'Age': [25, 30, 35],\n",
    "    'City': ['New York', 'Los Angeles', 'Chicago']\n",
    "})\n",
    "\n",
    "df"
   ]
  },
  {
   "cell_type": "code",
   "execution_count": 37,
   "id": "18bcd813",
   "metadata": {},
   "outputs": [
    {
     "name": "stdout",
     "output_type": "stream",
     "text": [
      "row: Pandas(Index=0, Name='Alice', Age=25, City='New York')\n",
      "Index: 0\n",
      "Name: Alice, Age: 25, City: New York\n",
      "\n",
      "row: Pandas(Index=1, Name='Bob', Age=30, City='Los Angeles')\n",
      "Index: 1\n",
      "Name: Bob, Age: 30, City: Los Angeles\n",
      "\n",
      "row: Pandas(Index=2, Name='Charlie', Age=35, City='Chicago')\n",
      "Index: 2\n",
      "Name: Charlie, Age: 35, City: Chicago\n",
      "\n"
     ]
    }
   ],
   "source": [
    "# 使用 itertuples() 遍历每一行\n",
    "for row in df.itertuples():\n",
    "    print(f\"row: {row}\")\n",
    "    print(f\"Index: {row.Index}\")\n",
    "    print(f\"Name: {row.Name}, Age: {row.Age}, City: {row.City}\")\n",
    "    print()"
   ]
  },
  {
   "cell_type": "code",
   "execution_count": 38,
   "id": "29a71cd3",
   "metadata": {},
   "outputs": [
    {
     "name": "stdout",
     "output_type": "stream",
     "text": [
      "row: Pandas(Name='Alice', Age=25, City='New York')\n",
      "Name: Alice, Age: 25, City: New York\n",
      "\n",
      "row: Pandas(Name='Bob', Age=30, City='Los Angeles')\n",
      "Name: Bob, Age: 30, City: Los Angeles\n",
      "\n",
      "row: Pandas(Name='Charlie', Age=35, City='Chicago')\n",
      "Name: Charlie, Age: 35, City: Chicago\n",
      "\n"
     ]
    }
   ],
   "source": [
    "# 使用 itertuples() 遍历每一行\n",
    "for row in df.itertuples(index=False):\n",
    "    print(f\"row: {row}\")\n",
    "    print(f\"Name: {row.Name}, Age: {row.Age}, City: {row.City}\")\n",
    "    print()"
   ]
  },
  {
   "cell_type": "code",
   "execution_count": null,
   "id": "c1e686c0",
   "metadata": {},
   "outputs": [],
   "source": []
  }
 ],
 "metadata": {
  "kernelspec": {
   "display_name": "Python 3 (ipykernel)",
   "language": "python",
   "name": "python3"
  },
  "language_info": {
   "codemirror_mode": {
    "name": "ipython",
    "version": 3
   },
   "file_extension": ".py",
   "mimetype": "text/x-python",
   "name": "python",
   "nbconvert_exporter": "python",
   "pygments_lexer": "ipython3",
   "version": "3.12.2"
  },
  "toc": {
   "base_numbering": 1,
   "nav_menu": {},
   "number_sections": true,
   "sideBar": true,
   "skip_h1_title": false,
   "title_cell": "Table of Contents",
   "title_sidebar": "Contents",
   "toc_cell": false,
   "toc_position": {
    "height": "calc(100% - 180px)",
    "left": "10px",
    "top": "150px",
    "width": "288px"
   },
   "toc_section_display": true,
   "toc_window_display": true
  }
 },
 "nbformat": 4,
 "nbformat_minor": 5
}
