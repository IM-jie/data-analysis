{
 "cells": [
  {
   "cell_type": "markdown",
   "id": "b189b636",
   "metadata": {},
   "source": [
    "数组（Array）是python中重要的数据结构，python中的numpy包提供了对数组的支持"
   ]
  },
  {
   "cell_type": "markdown",
   "id": "14691129",
   "metadata": {},
   "source": [
    "# 数组的创建"
   ]
  },
  {
   "cell_type": "markdown",
   "id": "c58df3c3",
   "metadata": {},
   "source": [
    "## 使用np.array从列表创建"
   ]
  },
  {
   "cell_type": "markdown",
   "id": "b058667f",
   "metadata": {},
   "source": [
    "用于将列表转化为数组\n",
    "\n",
    "**np.array(object, dtype)**：\n",
    "- object：用于指定输入数据\n",
    "- dtype：用于指定数组中元素的数据类型。如果未指定，则根据输入自动推断。"
   ]
  },
  {
   "cell_type": "code",
   "execution_count": 18,
   "id": "0e8b772b",
   "metadata": {},
   "outputs": [
    {
     "data": {
      "text/plain": [
       "array([1, 2, 3, 4, 5])"
      ]
     },
     "execution_count": 18,
     "metadata": {},
     "output_type": "execute_result"
    }
   ],
   "source": [
    "import numpy as np\n",
    "\n",
    "# 创建一维数组\n",
    "arr1 = np.array([1, 2, 3, 4, 5])\n",
    "arr1"
   ]
  },
  {
   "cell_type": "code",
   "execution_count": 19,
   "id": "c014d43f",
   "metadata": {},
   "outputs": [
    {
     "data": {
      "text/plain": [
       "array([[1, 2, 3],\n",
       "       [4, 5, 6]])"
      ]
     },
     "execution_count": 19,
     "metadata": {},
     "output_type": "execute_result"
    }
   ],
   "source": [
    "# 创建二维数组\n",
    "arr2 = np.array([[1, 2, 3], [4, 5, 6]])\n",
    "arr2"
   ]
  },
  {
   "cell_type": "markdown",
   "id": "251720a0",
   "metadata": {},
   "source": [
    "## 从内置函数创建"
   ]
  },
  {
   "cell_type": "markdown",
   "id": "39a43f7d",
   "metadata": {},
   "source": [
    "### 使用np.zeros()创建全零数组"
   ]
  },
  {
   "cell_type": "markdown",
   "id": "b62ec115",
   "metadata": {},
   "source": [
    "用于创建一个所有元素都为零的数组\n",
    "\n",
    "**np.zeros(shape, dtype)**：\n",
    "- shape：用于指定数组的形状。可以是一个整数（表示一维数组的长度）或一个元组（表示多维数组的维度）\n",
    "- dtype：用于指定数组中元素的数据类型。默认值为float（浮点数）"
   ]
  },
  {
   "cell_type": "code",
   "execution_count": 20,
   "id": "f1192aa0",
   "metadata": {},
   "outputs": [
    {
     "data": {
      "text/plain": [
       "array([[0., 0., 0., 0.],\n",
       "       [0., 0., 0., 0.],\n",
       "       [0., 0., 0., 0.]])"
      ]
     },
     "execution_count": 20,
     "metadata": {},
     "output_type": "execute_result"
    }
   ],
   "source": [
    "np.zeros((3, 4))  # 创建 3x4 的全零数组"
   ]
  },
  {
   "cell_type": "markdown",
   "id": "82b3f542",
   "metadata": {},
   "source": [
    "### 使用np.ones()创建全一数组"
   ]
  },
  {
   "cell_type": "markdown",
   "id": "756cdd32",
   "metadata": {},
   "source": [
    "用于创建一个所有元素都为1的数组\n",
    "\n",
    "**np.ones(shape, dtype)**：\n",
    "- shape：用于指定数组的形状。可以是一个整数（表示一维数组的长度）或一个元组（表示多维数组的维度）\n",
    "- dtype：用于指定数组中元素的数据类型。默认值为float（浮点数）"
   ]
  },
  {
   "cell_type": "code",
   "execution_count": 21,
   "id": "274969e9",
   "metadata": {},
   "outputs": [
    {
     "data": {
      "text/plain": [
       "array([[1., 1., 1.],\n",
       "       [1., 1., 1.]])"
      ]
     },
     "execution_count": 21,
     "metadata": {},
     "output_type": "execute_result"
    }
   ],
   "source": [
    "np.ones((2, 3))  # 创建 2x3 的全一数组"
   ]
  },
  {
   "cell_type": "markdown",
   "id": "61792ddb",
   "metadata": {},
   "source": [
    "### 使用np.full()创建指定数值的数组"
   ]
  },
  {
   "cell_type": "markdown",
   "id": "e42bda0a",
   "metadata": {},
   "source": [
    "用于创建一个所有元素都为指定值的数组\n",
    "\n",
    "**np.full(shape, fill_value, dtype)**：\n",
    "- shape：用于指定数组的形状。可以是一个整数（表示一维数组的长度）或一个元组（表示多维数组的维度）\n",
    "- fill_value：用于指定数组中每个元素的值\n",
    "- dtype：用于指定数组中元素的数据类型。默认值为float（浮点数）"
   ]
  },
  {
   "cell_type": "code",
   "execution_count": 22,
   "id": "03ae8834",
   "metadata": {},
   "outputs": [
    {
     "data": {
      "text/plain": [
       "array([[7, 7],\n",
       "       [7, 7]])"
      ]
     },
     "execution_count": 22,
     "metadata": {},
     "output_type": "execute_result"
    }
   ],
   "source": [
    "np.full((2, 2), 7)  # 创建 2x2 的全 7 数组"
   ]
  },
  {
   "cell_type": "markdown",
   "id": "1cbd97e9",
   "metadata": {},
   "source": [
    "### 使用np.arange()创建连续数值的数组"
   ]
  },
  {
   "cell_type": "markdown",
   "id": "018ae721",
   "metadata": {},
   "source": [
    "用于创建一个等差数列的数组\n",
    "\n",
    "**np.arange(start, stop, step, dtype)**：\n",
    "- start：数列的起始值（包含 start）。默认值为0\n",
    "- stop：数列的终止值（不包含 stop）\n",
    "- step：数列的步长，即每次增加或减少的值。默认值为1\n",
    "- dtype：用于指定数组中元素的数据类型。默认值为float（浮点数）"
   ]
  },
  {
   "cell_type": "code",
   "execution_count": 24,
   "id": "30c666bb",
   "metadata": {},
   "outputs": [
    {
     "data": {
      "text/plain": [
       "array([0, 2, 4, 6, 8])"
      ]
     },
     "execution_count": 24,
     "metadata": {},
     "output_type": "execute_result"
    }
   ],
   "source": [
    "np.arange(0, 10, 2)  # 从 0 到 10（不含），步长为 2"
   ]
  },
  {
   "cell_type": "markdown",
   "id": "5c185b48",
   "metadata": {},
   "source": [
    "### 使用np.linspace()创建等间距数值的数组"
   ]
  },
  {
   "cell_type": "markdown",
   "id": "688511ac",
   "metadata": {},
   "source": [
    "用于生成在指定区间内均匀分布的一组数值\n",
    "\n",
    "**np.linspace(start, stop, step, dtype)**：\n",
    "- start：数列的起始值（包含 start）。默认值为0\n",
    "- stop：数列的终止值\n",
    "- num：要生成的数值个数\n",
    "- dtype：用于指定数组中元素的数据类型。默认值为float（浮点数）"
   ]
  },
  {
   "cell_type": "code",
   "execution_count": 26,
   "id": "1b51c9b3",
   "metadata": {},
   "outputs": [
    {
     "data": {
      "text/plain": [
       "array([0.  , 0.25, 0.5 , 0.75, 1.  ])"
      ]
     },
     "execution_count": 26,
     "metadata": {},
     "output_type": "execute_result"
    }
   ],
   "source": [
    "np.linspace(0, 1, 5)  # 在 0 和 1 之间生成 5 个等间距的数值"
   ]
  },
  {
   "cell_type": "markdown",
   "id": "98e67e4d",
   "metadata": {},
   "source": [
    "### 创建随机数组"
   ]
  },
  {
   "cell_type": "markdown",
   "id": "dfe048e2",
   "metadata": {},
   "source": [
    "#### np.random.randint(low, high, size)生成指定范围内的随机整数数组"
   ]
  },
  {
   "cell_type": "markdown",
   "id": "6660247f",
   "metadata": {},
   "source": [
    "- **low**：生成范围最小值\n",
    "- **high**：生成范围最大值\n",
    "- **size**：生成个数"
   ]
  },
  {
   "cell_type": "code",
   "execution_count": 29,
   "id": "83fb534c",
   "metadata": {},
   "outputs": [
    {
     "data": {
      "text/plain": [
       "array([21, 58, 67, 47, 56, 47, 18, 43, 35, 54, 63, 41, 47, 21, 63, 47, 31,\n",
       "       67, 61, 16, 90, 83, 88,  4,  2, 78, 29, 40,  6,  1, 59, 97, 38, 29,\n",
       "       46,  3, 68, 36, 75, 62, 79, 36, 60, 16, 23, 75,  6, 62, 77, 28])"
      ]
     },
     "execution_count": 29,
     "metadata": {},
     "output_type": "execute_result"
    }
   ],
   "source": [
    "# 生成50个介于0-100的随机整数\n",
    "np.random.randint(0, 100, size=50)"
   ]
  },
  {
   "cell_type": "markdown",
   "id": "68e939d1",
   "metadata": {},
   "source": [
    "#### np.random.uniform(low, high, size)生成指定范围内的随机浮点数数组"
   ]
  },
  {
   "cell_type": "markdown",
   "id": "da4adc7c",
   "metadata": {},
   "source": [
    "- **low**：生成范围最小值\n",
    "- **high**：生成范围最大值\n",
    "- **size**：生成个数"
   ]
  },
  {
   "cell_type": "code",
   "execution_count": 32,
   "id": "2b9f11b7",
   "metadata": {},
   "outputs": [
    {
     "data": {
      "text/plain": [
       "array([93.8676774 , 82.64014504, 82.56156341, 34.6580455 , 28.76258652,\n",
       "       59.06835201, 18.33713333, 48.70096899, 12.17487015, 54.50726946,\n",
       "       93.82252141,  1.88525202,  9.00749133, 28.5603837 , 74.18995209,\n",
       "       88.4457878 , 39.07340661, 60.95529861, 17.7285344 , 97.74216998,\n",
       "       73.20556059, 15.67899116,  5.7622826 , 24.24763393, 64.42253916,\n",
       "       51.18181173, 83.42907241, 84.67805255, 98.97703127, 46.66207389,\n",
       "       68.30641242, 69.7324464 , 23.6986347 , 56.96139847, 20.30083483,\n",
       "       83.64137738, 13.06014247, 22.62746304, 37.1417778 , 97.64875645,\n",
       "       69.1150285 , 48.9540445 , 37.64756707, 42.79780369, 39.63966754,\n",
       "       66.20462961, 45.55082384, 75.54894807, 91.98068651, 19.97425995])"
      ]
     },
     "execution_count": 32,
     "metadata": {},
     "output_type": "execute_result"
    }
   ],
   "source": [
    "# 生成50个介于0-100的随机浮点数\n",
    "np.random.uniform(0, 100, size=50)"
   ]
  },
  {
   "cell_type": "markdown",
   "id": "f468f339",
   "metadata": {},
   "source": [
    "#### np.random.rand(size)生成0到1之间的随机浮点数组"
   ]
  },
  {
   "cell_type": "markdown",
   "id": "ef57aa9a",
   "metadata": {},
   "source": [
    "- **size**：生成个数"
   ]
  },
  {
   "cell_type": "code",
   "execution_count": 35,
   "id": "2039277f",
   "metadata": {},
   "outputs": [
    {
     "data": {
      "text/plain": [
       "array([7.31987154e-01, 8.45841750e-01, 2.94307877e-01, 8.98397730e-01,\n",
       "       6.59665839e-01, 3.59292119e-01, 3.42818753e-01, 5.29979534e-01,\n",
       "       3.69529106e-02, 8.01707385e-01, 3.00284753e-01, 7.01076806e-01,\n",
       "       8.52299020e-02, 4.86982359e-01, 6.77753566e-01, 7.51706753e-01,\n",
       "       5.59353715e-01, 8.37693364e-01, 5.70305859e-02, 4.37550952e-02,\n",
       "       7.92815605e-01, 1.80588159e-02, 6.31120172e-04, 4.78946022e-01,\n",
       "       9.33539195e-01, 7.96496237e-01, 1.97545129e-02, 9.79275010e-01,\n",
       "       2.74170545e-01, 1.95669448e-01, 2.97480157e-01, 1.31312606e-01,\n",
       "       5.90200368e-01, 1.52417326e-01, 8.73955115e-01, 6.98403697e-01,\n",
       "       4.74555799e-01, 6.04185433e-01, 2.64970864e-01, 6.94649476e-02,\n",
       "       9.64565554e-02, 3.27605609e-01, 6.58308453e-01, 6.74844620e-01,\n",
       "       3.55650568e-01, 2.48989624e-01, 1.88762173e-02, 3.73242446e-01,\n",
       "       4.96024894e-01, 3.72023755e-01])"
      ]
     },
     "execution_count": 35,
     "metadata": {},
     "output_type": "execute_result"
    }
   ],
   "source": [
    "# 生成50个0-1之间的随机浮点数\n",
    "np.random.rand(50)"
   ]
  },
  {
   "cell_type": "markdown",
   "id": "a68845d4",
   "metadata": {},
   "source": [
    "#### np.random.randn(size)生成符合标准正态分布（均值为0，标准差为1）的随机数数组"
   ]
  },
  {
   "cell_type": "markdown",
   "id": "cacbbc57",
   "metadata": {},
   "source": [
    "- **size**：生成个数"
   ]
  },
  {
   "cell_type": "code",
   "execution_count": 38,
   "id": "2c1219d3",
   "metadata": {},
   "outputs": [
    {
     "data": {
      "text/plain": [
       "array([-0.32484852,  0.24848763,  0.55696485,  0.25103901,  0.12927514,\n",
       "       -0.0656895 ,  0.14483852,  0.66216052,  0.87665302, -0.25604896,\n",
       "        0.77203587, -0.700708  ,  0.24649002, -2.61781911,  0.18449938,\n",
       "       -0.08399425,  1.28914536, -1.32504683,  1.44991552,  0.29431464,\n",
       "        1.25488307,  1.34406198,  0.87057139, -1.88213875, -0.34591333,\n",
       "       -0.07849226, -0.31275365,  0.49705391,  1.04617946, -0.48027904,\n",
       "        1.06964981,  2.04605406,  0.16050242, -0.07015616, -1.66475399,\n",
       "        0.82790826, -0.98130468, -0.13419153, -1.48280092, -1.09379386,\n",
       "       -0.85949316, -0.54412735,  1.61031938, -0.72851832, -0.45699401,\n",
       "        2.06754069, -1.13717149, -0.69270457, -0.38092805, -0.15442209])"
      ]
     },
     "execution_count": 38,
     "metadata": {},
     "output_type": "execute_result"
    }
   ],
   "source": [
    "# 生成50个符合标准正态分布的随机数\n",
    "np.random.randn(50)"
   ]
  },
  {
   "cell_type": "markdown",
   "id": "76a565ba",
   "metadata": {},
   "source": [
    "#### np.random.permutation(arr)对数组进行随机排列"
   ]
  },
  {
   "cell_type": "code",
   "execution_count": 41,
   "id": "ac341adc",
   "metadata": {},
   "outputs": [
    {
     "data": {
      "text/plain": [
       "array([3, 5, 4, 1, 2])"
      ]
     },
     "execution_count": 41,
     "metadata": {},
     "output_type": "execute_result"
    }
   ],
   "source": [
    "arr = np.array([1, 2, 3, 4, 5])\n",
    "np.random.permutation(arr)"
   ]
  },
  {
   "cell_type": "markdown",
   "id": "e25ed092",
   "metadata": {},
   "source": [
    "\n",
    "# 数组的属性"
   ]
  },
  {
   "cell_type": "code",
   "execution_count": 42,
   "id": "749b3142",
   "metadata": {},
   "outputs": [
    {
     "data": {
      "text/plain": [
       "array([[1, 2, 3],\n",
       "       [4, 5, 6]])"
      ]
     },
     "execution_count": 42,
     "metadata": {},
     "output_type": "execute_result"
    }
   ],
   "source": [
    "arr = np.array([[1, 2, 3], [4, 5, 6]])\n",
    "arr"
   ]
  },
  {
   "cell_type": "markdown",
   "id": "2f6fb53d",
   "metadata": {},
   "source": [
    "## .shape查看数组形状"
   ]
  },
  {
   "cell_type": "code",
   "execution_count": 43,
   "id": "0935bb0c",
   "metadata": {},
   "outputs": [
    {
     "data": {
      "text/plain": [
       "(2, 3)"
      ]
     },
     "execution_count": 43,
     "metadata": {},
     "output_type": "execute_result"
    }
   ],
   "source": [
    "# 返回数组的形状\n",
    "arr.shape"
   ]
  },
  {
   "cell_type": "markdown",
   "id": "a2d64677",
   "metadata": {},
   "source": [
    "## .size查看数组中元素总个数"
   ]
  },
  {
   "cell_type": "code",
   "execution_count": 44,
   "id": "5db679cc",
   "metadata": {},
   "outputs": [
    {
     "data": {
      "text/plain": [
       "6"
      ]
     },
     "execution_count": 44,
     "metadata": {},
     "output_type": "execute_result"
    }
   ],
   "source": [
    "# 数组中包含的元素总数量\n",
    "arr.size"
   ]
  },
  {
   "cell_type": "markdown",
   "id": "2d4994d2",
   "metadata": {},
   "source": [
    "## .dtype查看数组中元素的数据类型"
   ]
  },
  {
   "cell_type": "code",
   "execution_count": 45,
   "id": "1bf6eb97",
   "metadata": {},
   "outputs": [
    {
     "data": {
      "text/plain": [
       "dtype('int64')"
      ]
     },
     "execution_count": 45,
     "metadata": {},
     "output_type": "execute_result"
    }
   ],
   "source": [
    "# 数组中数据类型\n",
    "arr.dtype"
   ]
  },
  {
   "cell_type": "markdown",
   "id": "145e4b2e",
   "metadata": {},
   "source": [
    "# 数组的主要方法"
   ]
  },
  {
   "cell_type": "markdown",
   "id": "c262c4a3",
   "metadata": {},
   "source": [
    "## 数组索引与访问"
   ]
  },
  {
   "cell_type": "markdown",
   "id": "f577b0e1",
   "metadata": {},
   "source": [
    "### 一维数组索引"
   ]
  },
  {
   "cell_type": "code",
   "execution_count": 49,
   "id": "eb80798e",
   "metadata": {},
   "outputs": [
    {
     "data": {
      "text/plain": [
       "array([10, 20, 30, 40, 50])"
      ]
     },
     "execution_count": 49,
     "metadata": {},
     "output_type": "execute_result"
    }
   ],
   "source": [
    "arr = np.array([10, 20, 30, 40, 50])\n",
    "arr"
   ]
  },
  {
   "cell_type": "code",
   "execution_count": 50,
   "id": "be64a9d3",
   "metadata": {},
   "outputs": [
    {
     "data": {
      "text/plain": [
       "50"
      ]
     },
     "execution_count": 50,
     "metadata": {},
     "output_type": "execute_result"
    }
   ],
   "source": [
    "arr[-1]"
   ]
  },
  {
   "cell_type": "markdown",
   "id": "af1ce3c2",
   "metadata": {},
   "source": [
    "### 二维数组索引"
   ]
  },
  {
   "cell_type": "code",
   "execution_count": 51,
   "id": "1a8da7d2",
   "metadata": {},
   "outputs": [
    {
     "data": {
      "text/plain": [
       "array([[1, 2, 3],\n",
       "       [4, 5, 6]])"
      ]
     },
     "execution_count": 51,
     "metadata": {},
     "output_type": "execute_result"
    }
   ],
   "source": [
    "arr = np.array([[1, 2, 3], [4, 5, 6]])\n",
    "arr"
   ]
  },
  {
   "cell_type": "code",
   "execution_count": 54,
   "id": "14172b98",
   "metadata": {},
   "outputs": [
    {
     "name": "stdout",
     "output_type": "stream",
     "text": [
      "2\n",
      "[4 5 6]\n",
      "[1 4]\n"
     ]
    }
   ],
   "source": [
    "print(arr[0, 1])  # 输出：2\n",
    "print(arr[1, :])  # 输出：[4 5 6]，取第二行所有元素\n",
    "print(arr[:, 0])  # 输出：[1 4]，取第一列所有元素"
   ]
  },
  {
   "cell_type": "markdown",
   "id": "d1ca555e",
   "metadata": {},
   "source": [
    "### 条件选择"
   ]
  },
  {
   "cell_type": "code",
   "execution_count": 55,
   "id": "c4cb6ae1",
   "metadata": {},
   "outputs": [
    {
     "data": {
      "text/plain": [
       "array([[1, 2, 3],\n",
       "       [4, 5, 6]])"
      ]
     },
     "execution_count": 55,
     "metadata": {},
     "output_type": "execute_result"
    }
   ],
   "source": [
    "# 使用布尔表达式进行条件选择\n",
    "arr = np.array([[1, 2, 3], [4, 5, 6]])\n",
    "arr"
   ]
  },
  {
   "cell_type": "code",
   "execution_count": 57,
   "id": "b92fe991",
   "metadata": {},
   "outputs": [
    {
     "data": {
      "text/plain": [
       "array([4, 5, 6])"
      ]
     },
     "execution_count": 57,
     "metadata": {},
     "output_type": "execute_result"
    }
   ],
   "source": [
    "arr[arr>3]"
   ]
  },
  {
   "cell_type": "markdown",
   "id": "c814ed90",
   "metadata": {},
   "source": [
    "## 数组运算"
   ]
  },
  {
   "cell_type": "markdown",
   "id": "78b898e5",
   "metadata": {},
   "source": [
    "### 元素级运算"
   ]
  },
  {
   "cell_type": "code",
   "execution_count": 58,
   "id": "00f27294",
   "metadata": {},
   "outputs": [
    {
     "data": {
      "text/plain": [
       "array([10, 20, 30, 40, 50])"
      ]
     },
     "execution_count": 58,
     "metadata": {},
     "output_type": "execute_result"
    }
   ],
   "source": [
    "arr = np.array([10, 20, 30, 40, 50])\n",
    "arr"
   ]
  },
  {
   "cell_type": "code",
   "execution_count": 59,
   "id": "5abecd15",
   "metadata": {},
   "outputs": [
    {
     "name": "stdout",
     "output_type": "stream",
     "text": [
      "[20 30 40 50 60]\n",
      "[ 20  40  60  80 100]\n"
     ]
    }
   ],
   "source": [
    "print(arr + 10)  # 输出：[20 30 40 50 60]\n",
    "print(arr * 2)   # 输出：[ 20  40  60  80 100]"
   ]
  },
  {
   "cell_type": "markdown",
   "id": "2347d05a",
   "metadata": {},
   "source": [
    "### 数组间运算"
   ]
  },
  {
   "cell_type": "code",
   "execution_count": 60,
   "id": "8c665cd6",
   "metadata": {},
   "outputs": [
    {
     "name": "stdout",
     "output_type": "stream",
     "text": [
      "[5 7 9]\n"
     ]
    }
   ],
   "source": [
    "arr1 = np.array([1, 2, 3])\n",
    "arr2 = np.array([4, 5, 6])\n",
    "print(arr1 + arr2)  # 输出：[5 7 9]"
   ]
  },
  {
   "cell_type": "markdown",
   "id": "ee491585",
   "metadata": {},
   "source": [
    "### 广播机制"
   ]
  },
  {
   "cell_type": "markdown",
   "id": "c8126ec0",
   "metadata": {},
   "source": [
    "当数组的形状不同但兼容时，NumPy 会自动扩展较小的数组以匹配形状进行计算"
   ]
  },
  {
   "cell_type": "code",
   "execution_count": 62,
   "id": "805eb81e",
   "metadata": {},
   "outputs": [
    {
     "name": "stdout",
     "output_type": "stream",
     "text": [
      "[[11 12 13]\n",
      " [14 15 16]]\n"
     ]
    }
   ],
   "source": [
    "arr = np.array([[1, 2, 3], [4, 5, 6]])\n",
    "print(arr +10 )  # 每个元素加 10"
   ]
  },
  {
   "cell_type": "markdown",
   "id": "6ca81b1a",
   "metadata": {},
   "source": [
    "## 数组中统计值计算"
   ]
  },
  {
   "cell_type": "code",
   "execution_count": 64,
   "id": "c4902556",
   "metadata": {},
   "outputs": [
    {
     "name": "stdout",
     "output_type": "stream",
     "text": [
      "15\n",
      "3.0\n",
      "5\n",
      "1\n",
      "1.4142135623730951\n",
      "2.0\n"
     ]
    }
   ],
   "source": [
    "arr = np.array([1, 2, 3, 4, 5])\n",
    "print(arr.sum())       # 总和：15\n",
    "print(arr.mean())      # 平均值：3.0\n",
    "print(arr.max())       # 最大值：5\n",
    "print(arr.min())       # 最小值：1\n",
    "print(arr.std())       # 标准差：1.414\n",
    "print(arr.var())       # 方差：2.0"
   ]
  },
  {
   "cell_type": "markdown",
   "id": "ca0ddc03",
   "metadata": {},
   "source": [
    "## 数组形状修改"
   ]
  },
  {
   "cell_type": "markdown",
   "id": "f488efab",
   "metadata": {},
   "source": [
    "### 修改形状"
   ]
  },
  {
   "cell_type": "code",
   "execution_count": 65,
   "id": "cccedc8a",
   "metadata": {},
   "outputs": [
    {
     "data": {
      "text/plain": [
       "array([[1, 2, 3],\n",
       "       [4, 5, 6]])"
      ]
     },
     "execution_count": 65,
     "metadata": {},
     "output_type": "execute_result"
    }
   ],
   "source": [
    "arr = np.array([1, 2, 3, 4, 5, 6])\n",
    "reshaped = arr.reshape(2, 3)  # 改为 2x3 的数组\n",
    "reshaped"
   ]
  },
  {
   "cell_type": "markdown",
   "id": "0e7248c0",
   "metadata": {},
   "source": [
    "### 数组展平"
   ]
  },
  {
   "cell_type": "code",
   "execution_count": 66,
   "id": "816bdc67",
   "metadata": {},
   "outputs": [
    {
     "data": {
      "text/plain": [
       "array([[1, 2, 3],\n",
       "       [4, 5, 6]])"
      ]
     },
     "execution_count": 66,
     "metadata": {},
     "output_type": "execute_result"
    }
   ],
   "source": [
    "reshaped"
   ]
  },
  {
   "cell_type": "code",
   "execution_count": 67,
   "id": "e3117d73",
   "metadata": {},
   "outputs": [
    {
     "data": {
      "text/plain": [
       "array([1, 2, 3, 4, 5, 6])"
      ]
     },
     "execution_count": 67,
     "metadata": {},
     "output_type": "execute_result"
    }
   ],
   "source": [
    "reshaped.ravel()  # 展平为一维数组"
   ]
  },
  {
   "cell_type": "markdown",
   "id": "c15ffb54",
   "metadata": {},
   "source": [
    "## 数组的合并与分割"
   ]
  },
  {
   "cell_type": "markdown",
   "id": "8c4f67cc",
   "metadata": {},
   "source": [
    "### 数组合并"
   ]
  },
  {
   "cell_type": "code",
   "execution_count": 68,
   "id": "54491a5f",
   "metadata": {},
   "outputs": [
    {
     "name": "stdout",
     "output_type": "stream",
     "text": [
      "[1 2 3 4]\n"
     ]
    }
   ],
   "source": [
    "arr1 = np.array([1, 2])\n",
    "arr2 = np.array([3, 4])\n",
    "print(np.concatenate([arr1, arr2]))  # 输出：[1 2 3 4]"
   ]
  },
  {
   "cell_type": "markdown",
   "id": "ba6d7069",
   "metadata": {},
   "source": [
    "### 数组分割"
   ]
  },
  {
   "cell_type": "code",
   "execution_count": 69,
   "id": "2ece610c",
   "metadata": {},
   "outputs": [
    {
     "name": "stdout",
     "output_type": "stream",
     "text": [
      "[array([1, 2]), array([3, 4]), array([5, 6])]\n"
     ]
    }
   ],
   "source": [
    "arr = np.array([1, 2, 3, 4, 5, 6])\n",
    "split = np.split(arr, 3)  # 平均分成 3 组\n",
    "print(split)"
   ]
  },
  {
   "cell_type": "code",
   "execution_count": null,
   "id": "571c4fe8",
   "metadata": {},
   "outputs": [],
   "source": []
  }
 ],
 "metadata": {
  "kernelspec": {
   "display_name": "Python 3 (ipykernel)",
   "language": "python",
   "name": "python3"
  },
  "language_info": {
   "codemirror_mode": {
    "name": "ipython",
    "version": 3
   },
   "file_extension": ".py",
   "mimetype": "text/x-python",
   "name": "python",
   "nbconvert_exporter": "python",
   "pygments_lexer": "ipython3",
   "version": "3.12.2"
  },
  "toc": {
   "base_numbering": 1,
   "nav_menu": {},
   "number_sections": true,
   "sideBar": true,
   "skip_h1_title": false,
   "title_cell": "Table of Contents",
   "title_sidebar": "Contents",
   "toc_cell": false,
   "toc_position": {
    "height": "calc(100% - 180px)",
    "left": "10px",
    "top": "150px",
    "width": "288px"
   },
   "toc_section_display": true,
   "toc_window_display": true
  }
 },
 "nbformat": 4,
 "nbformat_minor": 5
}
