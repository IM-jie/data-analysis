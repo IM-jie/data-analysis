{
 "cells": [
  {
   "cell_type": "markdown",
   "id": "d387e888",
   "metadata": {},
   "source": [
    "# 朴素贝叶斯模型原理介绍"
   ]
  },
  {
   "cell_type": "markdown",
   "id": "4e97d78e",
   "metadata": {},
   "source": [
    "## 贝叶斯公式"
   ]
  },
  {
   "cell_type": "markdown",
   "id": "ad8d6740",
   "metadata": {},
   "source": [
    "贝叶斯公式（Bayes theorem）是概率论中描述随机事件条件概率的一个重要定理。它提供了一种计算给定事件发生的条件下另一个事件发生概率的方法。贝叶斯公式可以表示为：\n",
    "\n",
    "$$P(A|B) = \\frac{P(AB)}{P(B)} = \\frac{P(B|A)P(A)}{P(B)}$$\n",
    "以上公式计算了在已知 B 发生的条件下 A 发生的概率。\n",
    "\n",
    "其中：\n",
    "- $P(A|B)$ 是在事件 B 发生的条件下事件 A 发生的条件概率。\n",
    "- $P(AB)$ 是事件A和B同时发生的概率。\n",
    "- $P(B|A)$是在事件 A 发生的条件下事件 B 发生的条件概率。\n",
    "- $P(A)$ 是事件 A 发生的概率（先验概率）。\n",
    "- $P(B)$是事件 B 发生的概率。"
   ]
  },
  {
   "cell_type": "markdown",
   "id": "8bd731f5",
   "metadata": {},
   "source": [
    "## 朴素贝叶斯原理介绍"
   ]
  },
  {
   "cell_type": "markdown",
   "id": "386017a8",
   "metadata": {},
   "source": [
    "**朴素贝叶斯（Naive Bayes, NB）**是一种基于贝叶斯公式的概率分类模型，其核心思想是：\n",
    "- 假设特征之间是条件独立的（即某个特征的存在与否，不影响其他特征）。\n",
    "- 通过计算类别$y_k$在给定特征$X$下的 后验概率$P(y_k | X)$，选择概率最大的类别作为预测结果。\n",
    "\n",
    "具体来说，根据贝叶斯公式：\n",
    "$$P(y_k | X) = \\frac{P(X | y_k) P(y_k)}{P(X)}$$\n",
    "其中：\n",
    "- $P(y_k | X)$ ：给定特征$X$后，类别$y_k$的后验概率\n",
    "- $P(X | y_k)$：类别$y_k$下，特征$X$出现的似然度\n",
    "- $P(y_k)$：类别$y_k$出现的先验概率\n",
    "- $P(X)$：所有特征$X$共同出现的概率（归一化常数）\n",
    "\n",
    "由于朴素贝叶斯假设特征独立，可以将联合概率分解：\n",
    "$$P(X | y_k) = P(x_1 | y_k) P(x_2 | y_k) P(x_3 | y_k) ... P(x_n | y_k)$$\n",
    "于是代入得：\n",
    "$$P(y_k | X) = \\frac{P(y_k) \\prod_{i=1}^{n} P(x_i | y_k)}{P(X)}$$\n",
    "最终，选择具有最大$P(y_k | X)$的类别$y_k$作为预测结果。"
   ]
  },
  {
   "cell_type": "markdown",
   "id": "7ec8fe41",
   "metadata": {},
   "source": [
    "## 朴素贝叶斯手算案例"
   ]
  },
  {
   "cell_type": "markdown",
   "id": "171cd8c4",
   "metadata": {},
   "source": [
    "### 案例"
   ]
  },
  {
   "cell_type": "markdown",
   "id": "dec5cf50",
   "metadata": {},
   "source": [
    "某个公司正在招聘程序员，候选人提交了简历，公司根据“是否会 Python”和“是否有工作经验”来判断候选人是否能被录取，以下是既往录取情况。\n",
    "\n",
    "| 录取 (Y) | 会 Python (P) | 有经验 (E) | 概率 |\n",
    "|----------|---------------|-------------|------|\n",
    "| 是 (Y=1) | 是 (P=1)      | 是 (E=1)    | 0.30 |\n",
    "| 是 (Y=1) | 是 (P=1)      | 否 (E=0)    | 0.20 |\n",
    "| 是 (Y=1) | 否 (P=0)      | 是 (E=1)    | 0.10 |\n",
    "| 是 (Y=1) | 否 (P=0)      | 否 (E=0)    | 0.05 |\n",
    "| 否 (Y=0) | 是 (P=1)      | 是 (E=1)    | 0.10 |\n",
    "| 否 (Y=0) | 是 (P=1)      | 否 (E=0)    | 0.10 |\n",
    "| 否 (Y=0) | 否 (P=0)      | 是 (E=1)    | 0.10 |\n",
    "| 否 (Y=0) | 否 (P=0)      | 否 (E=0)    | 0.05 |\n",
    "\n",
    "请计算一下一个会Python且有工作经验的候选人被录取的概率？"
   ]
  },
  {
   "cell_type": "markdown",
   "id": "f6f37ad5",
   "metadata": {},
   "source": [
    "### 解答"
   ]
  },
  {
   "cell_type": "markdown",
   "id": "e615c2ec",
   "metadata": {},
   "source": [
    "问题是要求一个会 Python 且有工作经验的候选人被录取的概率，也即求解$P(Y=1 | P=1, E=1)$"
   ]
  },
  {
   "cell_type": "markdown",
   "id": "95a2c602",
   "metadata": {},
   "source": [
    "#### 第一步：计算先验概率"
   ]
  },
  {
   "cell_type": "markdown",
   "id": "4fb08b53",
   "metadata": {},
   "source": [
    "先验概率$P(Y)$也即录取比例$P(Y=1)$、未录取比例$P(Y=0)$\n",
    "\n",
    "\\begin{aligned}\n",
    "P(Y=1) &= P(Y=1, P=1, E=1) + P(Y=1, P=1, E=0) \\\\\n",
    "&\\quad + P(Y=1, P=0, E=1) + P(Y=1, P=0, E=0) \\\\\n",
    "&= 0.30 + 0.20 + 0.10 + 0.05 \\\\\n",
    "&= 0.65\n",
    "\\end{aligned}\n",
    "\n",
    "$$P(Y=0) = 1 - P(Y=1) = 1 - 0.65 = 0.35$$\n"
   ]
  },
  {
   "cell_type": "markdown",
   "id": "cb5bb8b7",
   "metadata": {},
   "source": [
    "#### 第二步：计算条件概率"
   ]
  },
  {
   "cell_type": "markdown",
   "id": "87fac2e0",
   "metadata": {},
   "source": [
    "条件概率$P(P=1 | Y=1)$表示录取的情况下，会Python的概率\n",
    "$$P(P=1 | Y=1) = \\frac{P(Y=1, P=1)}{P(Y=1)} = \\frac{P(Y=1, P=1, E=1) + P(Y=1, P=1, E=0)}{P(Y=1)} = \\frac{0.30 + 0.20}{0.65} = \\frac{0.50}{0.65} \\approx 0.769$$"
   ]
  },
  {
   "cell_type": "markdown",
   "id": "a3cede76",
   "metadata": {},
   "source": [
    "条件概率$P(E=1 | Y=1)$表示录取的情况下，有工作经验的概率\n",
    "$$P(E=1 | Y=1) = \\frac{P(Y=1, E=1)}{P(Y=1)}= \\frac{P(Y=1, P=1, E=1) + P(Y=1, P=0, E=1)}{P(Y=1)}= \\frac{0.30 + 0.10}{0.65} = \\frac{0.40}{0.65} \\approx 0.615$$"
   ]
  },
  {
   "cell_type": "markdown",
   "id": "fd4ae5d7",
   "metadata": {},
   "source": [
    "条件概率$P(P=1 | Y=0)$表示未录取的情况下，会Python的概率\n",
    "$$P(P=1 | Y=0) = \\frac{P(Y=0, P=1)}{P(Y=0)} = \\frac{P(Y=0, P=1, E=1) + P(Y=0, P=1, E=0)}{P(Y=1)} = \\frac{0.10 + 0.10}{0.35} = \\frac{0.20}{0.35} \\approx 0.571$$"
   ]
  },
  {
   "cell_type": "markdown",
   "id": "90751229",
   "metadata": {},
   "source": [
    "条件概率$P(E=1 | Y=0)$表示未录取的情况下，有工作经验的概率\n",
    "$$P(E=1 | Y=0) = \\frac{P(Y=0, E=1)}{P(Y=0)}= \\frac{P(Y=0, P=1, E=1) + P(Y=0, P=0, E=1)}{P(Y=0)}= \\frac{0.10 + 0.10}{0.35} = \\frac{0.20}{0.35} \\approx 0.571$$"
   ]
  },
  {
   "cell_type": "markdown",
   "id": "1e63ae5f",
   "metadata": {},
   "source": [
    "#### 第三步：计算后验概率"
   ]
  },
  {
   "cell_type": "markdown",
   "id": "fb871361",
   "metadata": {},
   "source": [
    "根据贝叶斯定理\n",
    "$$P(A|B) = \\frac{P(AB)}{P(B)} = \\frac{P(B|A)P(A)}{P(B)}$$\n",
    "可得：\n",
    "$$P(Y=1 | P=1, E=1) = \\frac{P(P=1,E=1 | Y=1)P(Y=1)}{P(P=1, E=1)} = \\frac{P(P=1 | Y=1) P(E=1 | Y=1) P(Y=1)}{P(P=1, E=1)}$$"
   ]
  },
  {
   "cell_type": "markdown",
   "id": "1f32f0ee",
   "metadata": {},
   "source": [
    "其中分母$P(P=1, E=1)$是所有可能情况的总概率，满足：\n",
    "\n",
    "\\begin{aligned}\n",
    "P(P=1, E=1) &= P(P=1, E=1, Y=1) + P(P=1, E=1, Y=0) \\\\\n",
    "&= P(P=1, E=1 | Y=1) P(Y=1) + P(P=1, E=1 | Y=0) P(Y=0) \\\\\n",
    "&= P(P=1|Y=1)P(E=1|Y=1) P(Y=1) \\\\\n",
    "&\\quad + P(P=1|Y=0)P(E=1|Y=0) P(Y=0) \\\\\n",
    "&= (0.769 \\times 0.615 \\times 0.65) + (0.571 \\times 0.571 \\times 0.35) \\\\\n",
    "&= 0.3076 + 0.1140 \\\\\n",
    "&= 0.4216\n",
    "\\end{aligned}\n"
   ]
  },
  {
   "cell_type": "markdown",
   "id": "14fc2c96",
   "metadata": {},
   "source": [
    "因此，$$P(Y=1 | P=1, E=1) = \\frac{0.769 \\times 0.615 \\times 0.65}{0.4216} = \\frac{0.3076}{0.4216} \\approx 0.73$$"
   ]
  },
  {
   "cell_type": "markdown",
   "id": "67399183",
   "metadata": {},
   "source": [
    "#### 第四步: 结论"
   ]
  },
  {
   "cell_type": "markdown",
   "id": "7704761b",
   "metadata": {},
   "source": [
    "一个会 Python 且有工作经验的候选人被录取的概率，也即$P(Y=1 | P=1, E=1)$为0.73"
   ]
  },
  {
   "cell_type": "markdown",
   "id": "caeee25f",
   "metadata": {},
   "source": [
    "## 朴素贝叶斯模型优缺点分析"
   ]
  },
  {
   "cell_type": "markdown",
   "id": "a41c46ac",
   "metadata": {},
   "source": [
    "### 朴素贝叶斯优点\n",
    "- **数学基础扎实：** 朴素贝叶斯模型基于坚实的数学理论，分类效率稳定。\n",
    "- **对小规模数据表现良好：** 适合于小数据上进行训练。\n",
    "- **简单直接：** 算法简单，易于解释与理解。\n",
    "\n",
    "### 朴素贝叶斯缺点\n",
    "- **独立性假设严格：** 朴素贝叶斯基于严格的独立性假设，也即假设特征之间相互独立，但是实际中特征之间往往互相有关联，并不是相互独立。\n",
    "- **计算复杂度高：** 对于大规模数据集或高维特征空间，朴素贝叶斯的计算会非常耗时。"
   ]
  },
  {
   "cell_type": "markdown",
   "id": "5669d63b",
   "metadata": {},
   "source": [
    "# 朴素贝叶斯模型实践"
   ]
  },
  {
   "cell_type": "markdown",
   "id": "9efe31a9",
   "metadata": {},
   "source": [
    "朴素贝叶斯方法本质上是概率分类算法，用于估计类别的后验概率，仅适用于分类问题，不适用于预测连续值的回归问题。"
   ]
  },
  {
   "cell_type": "markdown",
   "id": "5ebb95bc",
   "metadata": {},
   "source": [
    "## GaussianNB\n",
    "无参数"
   ]
  },
  {
   "cell_type": "markdown",
   "id": "a5fede29",
   "metadata": {},
   "source": [
    "## 泰坦尼克数据集"
   ]
  },
  {
   "cell_type": "markdown",
   "id": "4ec5c993",
   "metadata": {},
   "source": [
    "**titanic 数据集**包含了 891 条乘客记录，每条记录描述了乘客的个人信息及其在 Titanic 号上的生存情况\n",
    "- survived：生存情况（0 = 未生还, 1 = 生还）\n",
    "- pclass：乘客舱等级（1 = 一等舱, 2 = 二等舱, 3 = 三等舱）\n",
    "- sex：乘客性别（male = 男性, female = 女性）\n",
    "- age：乘客年龄（float，部分缺失值）\n",
    "- sibsp：乘客在船上的兄弟姐妹或配偶数量（整数）\n",
    "- parch：乘客在船上的父母或子女数量（整数）\n",
    "- fare：乘客支付的票价（float）\n",
    "- embarked：乘客登船港口（C = 瑟堡, Q = 皇后镇, S = 南安普敦）\n",
    "- class：舱等级（文本版本的 pclass，First = 头等舱, Second = 二等舱, Third = 三等舱）\n",
    "- who：乘客身份（man = 成年男性, woman = 成年女性, child = 儿童）\n",
    "- adult_male：是否为成年男性（True = 是, False = 否）\n",
    "- deck：乘客所在的甲板（A, B, C, D, E, F, G，部分缺失值较多）\n",
    "- embark_town：乘客登船的城市（Cherbourg = 瑟堡, Queenstown = 皇后镇, Southampton = 南安普敦）\n",
    "- alone：是否独自旅行（True = 独自旅行，False = 有亲属同行，对应 sibsp + parch == 0）"
   ]
  },
  {
   "cell_type": "code",
   "execution_count": 5,
   "id": "71054253",
   "metadata": {},
   "outputs": [
    {
     "data": {
      "text/html": [
       "<div>\n",
       "<style scoped>\n",
       "    .dataframe tbody tr th:only-of-type {\n",
       "        vertical-align: middle;\n",
       "    }\n",
       "\n",
       "    .dataframe tbody tr th {\n",
       "        vertical-align: top;\n",
       "    }\n",
       "\n",
       "    .dataframe thead th {\n",
       "        text-align: right;\n",
       "    }\n",
       "</style>\n",
       "<table border=\"1\" class=\"dataframe\">\n",
       "  <thead>\n",
       "    <tr style=\"text-align: right;\">\n",
       "      <th></th>\n",
       "      <th>survived</th>\n",
       "      <th>pclass</th>\n",
       "      <th>sex</th>\n",
       "      <th>age</th>\n",
       "      <th>sibsp</th>\n",
       "      <th>parch</th>\n",
       "      <th>fare</th>\n",
       "      <th>embarked</th>\n",
       "      <th>class</th>\n",
       "      <th>who</th>\n",
       "      <th>adult_male</th>\n",
       "      <th>deck</th>\n",
       "      <th>embark_town</th>\n",
       "      <th>alive</th>\n",
       "      <th>alone</th>\n",
       "    </tr>\n",
       "  </thead>\n",
       "  <tbody>\n",
       "    <tr>\n",
       "      <th>0</th>\n",
       "      <td>0</td>\n",
       "      <td>3</td>\n",
       "      <td>1</td>\n",
       "      <td>22.0</td>\n",
       "      <td>1</td>\n",
       "      <td>0</td>\n",
       "      <td>7.2500</td>\n",
       "      <td>2</td>\n",
       "      <td>Third</td>\n",
       "      <td>man</td>\n",
       "      <td>True</td>\n",
       "      <td>NaN</td>\n",
       "      <td>Southampton</td>\n",
       "      <td>no</td>\n",
       "      <td>False</td>\n",
       "    </tr>\n",
       "    <tr>\n",
       "      <th>1</th>\n",
       "      <td>1</td>\n",
       "      <td>1</td>\n",
       "      <td>0</td>\n",
       "      <td>38.0</td>\n",
       "      <td>1</td>\n",
       "      <td>0</td>\n",
       "      <td>71.2833</td>\n",
       "      <td>0</td>\n",
       "      <td>First</td>\n",
       "      <td>woman</td>\n",
       "      <td>False</td>\n",
       "      <td>C</td>\n",
       "      <td>Cherbourg</td>\n",
       "      <td>yes</td>\n",
       "      <td>False</td>\n",
       "    </tr>\n",
       "    <tr>\n",
       "      <th>2</th>\n",
       "      <td>1</td>\n",
       "      <td>3</td>\n",
       "      <td>0</td>\n",
       "      <td>26.0</td>\n",
       "      <td>0</td>\n",
       "      <td>0</td>\n",
       "      <td>7.9250</td>\n",
       "      <td>2</td>\n",
       "      <td>Third</td>\n",
       "      <td>woman</td>\n",
       "      <td>False</td>\n",
       "      <td>NaN</td>\n",
       "      <td>Southampton</td>\n",
       "      <td>yes</td>\n",
       "      <td>True</td>\n",
       "    </tr>\n",
       "    <tr>\n",
       "      <th>3</th>\n",
       "      <td>1</td>\n",
       "      <td>1</td>\n",
       "      <td>0</td>\n",
       "      <td>35.0</td>\n",
       "      <td>1</td>\n",
       "      <td>0</td>\n",
       "      <td>53.1000</td>\n",
       "      <td>2</td>\n",
       "      <td>First</td>\n",
       "      <td>woman</td>\n",
       "      <td>False</td>\n",
       "      <td>C</td>\n",
       "      <td>Southampton</td>\n",
       "      <td>yes</td>\n",
       "      <td>False</td>\n",
       "    </tr>\n",
       "    <tr>\n",
       "      <th>4</th>\n",
       "      <td>0</td>\n",
       "      <td>3</td>\n",
       "      <td>1</td>\n",
       "      <td>35.0</td>\n",
       "      <td>0</td>\n",
       "      <td>0</td>\n",
       "      <td>8.0500</td>\n",
       "      <td>2</td>\n",
       "      <td>Third</td>\n",
       "      <td>man</td>\n",
       "      <td>True</td>\n",
       "      <td>NaN</td>\n",
       "      <td>Southampton</td>\n",
       "      <td>no</td>\n",
       "      <td>True</td>\n",
       "    </tr>\n",
       "    <tr>\n",
       "      <th>...</th>\n",
       "      <td>...</td>\n",
       "      <td>...</td>\n",
       "      <td>...</td>\n",
       "      <td>...</td>\n",
       "      <td>...</td>\n",
       "      <td>...</td>\n",
       "      <td>...</td>\n",
       "      <td>...</td>\n",
       "      <td>...</td>\n",
       "      <td>...</td>\n",
       "      <td>...</td>\n",
       "      <td>...</td>\n",
       "      <td>...</td>\n",
       "      <td>...</td>\n",
       "      <td>...</td>\n",
       "    </tr>\n",
       "    <tr>\n",
       "      <th>886</th>\n",
       "      <td>0</td>\n",
       "      <td>2</td>\n",
       "      <td>1</td>\n",
       "      <td>27.0</td>\n",
       "      <td>0</td>\n",
       "      <td>0</td>\n",
       "      <td>13.0000</td>\n",
       "      <td>2</td>\n",
       "      <td>Second</td>\n",
       "      <td>man</td>\n",
       "      <td>True</td>\n",
       "      <td>NaN</td>\n",
       "      <td>Southampton</td>\n",
       "      <td>no</td>\n",
       "      <td>True</td>\n",
       "    </tr>\n",
       "    <tr>\n",
       "      <th>887</th>\n",
       "      <td>1</td>\n",
       "      <td>1</td>\n",
       "      <td>0</td>\n",
       "      <td>19.0</td>\n",
       "      <td>0</td>\n",
       "      <td>0</td>\n",
       "      <td>30.0000</td>\n",
       "      <td>2</td>\n",
       "      <td>First</td>\n",
       "      <td>woman</td>\n",
       "      <td>False</td>\n",
       "      <td>B</td>\n",
       "      <td>Southampton</td>\n",
       "      <td>yes</td>\n",
       "      <td>True</td>\n",
       "    </tr>\n",
       "    <tr>\n",
       "      <th>888</th>\n",
       "      <td>0</td>\n",
       "      <td>3</td>\n",
       "      <td>0</td>\n",
       "      <td>28.0</td>\n",
       "      <td>1</td>\n",
       "      <td>2</td>\n",
       "      <td>23.4500</td>\n",
       "      <td>2</td>\n",
       "      <td>Third</td>\n",
       "      <td>woman</td>\n",
       "      <td>False</td>\n",
       "      <td>NaN</td>\n",
       "      <td>Southampton</td>\n",
       "      <td>no</td>\n",
       "      <td>False</td>\n",
       "    </tr>\n",
       "    <tr>\n",
       "      <th>889</th>\n",
       "      <td>1</td>\n",
       "      <td>1</td>\n",
       "      <td>1</td>\n",
       "      <td>26.0</td>\n",
       "      <td>0</td>\n",
       "      <td>0</td>\n",
       "      <td>30.0000</td>\n",
       "      <td>0</td>\n",
       "      <td>First</td>\n",
       "      <td>man</td>\n",
       "      <td>True</td>\n",
       "      <td>C</td>\n",
       "      <td>Cherbourg</td>\n",
       "      <td>yes</td>\n",
       "      <td>True</td>\n",
       "    </tr>\n",
       "    <tr>\n",
       "      <th>890</th>\n",
       "      <td>0</td>\n",
       "      <td>3</td>\n",
       "      <td>1</td>\n",
       "      <td>32.0</td>\n",
       "      <td>0</td>\n",
       "      <td>0</td>\n",
       "      <td>7.7500</td>\n",
       "      <td>1</td>\n",
       "      <td>Third</td>\n",
       "      <td>man</td>\n",
       "      <td>True</td>\n",
       "      <td>NaN</td>\n",
       "      <td>Queenstown</td>\n",
       "      <td>no</td>\n",
       "      <td>True</td>\n",
       "    </tr>\n",
       "  </tbody>\n",
       "</table>\n",
       "<p>891 rows × 15 columns</p>\n",
       "</div>"
      ],
      "text/plain": [
       "     survived  pclass  sex   age  sibsp  parch     fare  embarked   class  \\\n",
       "0           0       3    1  22.0      1      0   7.2500         2   Third   \n",
       "1           1       1    0  38.0      1      0  71.2833         0   First   \n",
       "2           1       3    0  26.0      0      0   7.9250         2   Third   \n",
       "3           1       1    0  35.0      1      0  53.1000         2   First   \n",
       "4           0       3    1  35.0      0      0   8.0500         2   Third   \n",
       "..        ...     ...  ...   ...    ...    ...      ...       ...     ...   \n",
       "886         0       2    1  27.0      0      0  13.0000         2  Second   \n",
       "887         1       1    0  19.0      0      0  30.0000         2   First   \n",
       "888         0       3    0  28.0      1      2  23.4500         2   Third   \n",
       "889         1       1    1  26.0      0      0  30.0000         0   First   \n",
       "890         0       3    1  32.0      0      0   7.7500         1   Third   \n",
       "\n",
       "       who  adult_male deck  embark_town alive  alone  \n",
       "0      man        True  NaN  Southampton    no  False  \n",
       "1    woman       False    C    Cherbourg   yes  False  \n",
       "2    woman       False  NaN  Southampton   yes   True  \n",
       "3    woman       False    C  Southampton   yes  False  \n",
       "4      man        True  NaN  Southampton    no   True  \n",
       "..     ...         ...  ...          ...   ...    ...  \n",
       "886    man        True  NaN  Southampton    no   True  \n",
       "887  woman       False    B  Southampton   yes   True  \n",
       "888  woman       False  NaN  Southampton    no  False  \n",
       "889    man        True    C    Cherbourg   yes   True  \n",
       "890    man        True  NaN   Queenstown    no   True  \n",
       "\n",
       "[891 rows x 15 columns]"
      ]
     },
     "execution_count": 5,
     "metadata": {},
     "output_type": "execute_result"
    }
   ],
   "source": [
    "# 导入所需的库\n",
    "import seaborn as sns  # 用于加载内置数据集\n",
    "import warnings  # 用于忽略警告信息\n",
    "warnings.filterwarnings('ignore')  # 忽略警告信息，防止冗长的警告输出\n",
    "from sklearn.naive_bayes import GaussianNB  # 朴素贝叶斯模型\n",
    "from sklearn.model_selection import train_test_split  # 数据集划分工具\n",
    "from sklearn.metrics import accuracy_score, confusion_matrix, classification_report, roc_curve, auc  # 用于计算准确率，混淆矩阵等\n",
    "import matplotlib.pyplot as plt  # 用于绘制图表\n",
    "import seaborn as sns  # 用于绘制更美观的图表\n",
    "\n",
    "# 加载seaborn内置的泰坦尼克数据集\n",
    "df = sns.load_dataset('titanic')\n",
    "\n",
    "# 填充 'age' 列的缺失值：使用该列的中位数填充缺失值\n",
    "df['age'].fillna(df['age'].median(), inplace=True)\n",
    "# 填充 'embarked' 列的缺失值：使用该列的众数填充缺失值\n",
    "df['embarked'].fillna(df['embarked'].mode()[0], inplace=True)\n",
    "# 将 'sex' 列转化为数值：'male' 映射为 1，'female' 映射为 0\n",
    "df['sex'] = df['sex'].map({'male': 1, 'female': 0})\n",
    "# 将 'embarked' 列转化为数值：'C' 映射为 0，'Q' 映射为 1，'S' 映射为 2\n",
    "df['embarked'] = df['embarked'].map({'C': 0, 'Q': 1, 'S': 2})\n",
    "\n",
    "df"
   ]
  },
  {
   "cell_type": "markdown",
   "id": "97a3f80f",
   "metadata": {},
   "source": [
    "## 代码实现"
   ]
  },
  {
   "cell_type": "code",
   "execution_count": 6,
   "id": "8cfd0ec0",
   "metadata": {},
   "outputs": [
    {
     "data": {
      "image/png": "[encoded data removed]",
      "text/plain": [
       "<Figure size 800x600 with 2 Axes>"
      ]
     },
     "metadata": {},
     "output_type": "display_data"
    },
    {
     "name": "stdout",
     "output_type": "stream",
     "text": [
      "Classification Report:\n",
      "              precision    recall  f1-score   support\n",
      "\n",
      "           0     0.8283    0.7810    0.8039       105\n",
      "           1     0.7125    0.7703    0.7403        74\n",
      "\n",
      "    accuracy                         0.7765       179\n",
      "   macro avg     0.7704    0.7756    0.7721       179\n",
      "weighted avg     0.7804    0.7765    0.7776       179\n",
      "\n"
     ]
    },
    {
     "data": {
      "image/png": "[encoded data removed]",
      "text/plain": [
       "<Figure size 800x600 with 1 Axes>"
      ]
     },
     "metadata": {},
     "output_type": "display_data"
    }
   ],
   "source": [
    "# 选择特征列（X）和目标列（y）\n",
    "# 特征列： 'pclass'（舱位）, 'sex'（性别）, 'age'（年龄）, 'sibsp'（兄弟姐妹/配偶）, \n",
    "#         'parch'（父母/子女）, 'fare'（票价）, 'embarked'（登船港口）\n",
    "# 目标列： 'survived'（是否生还，0=未生还，1=生还）\n",
    "X = df[['pclass', 'sex', 'age', 'sibsp', 'parch', 'fare', 'embarked']].dropna()  # 删除缺失值\n",
    "y = df['survived']  # 目标变量：生还状态\n",
    "\n",
    "# 数据集划分：80% 用于训练，20% 用于验证\n",
    "X_train, X_test, y_train, y_test = train_test_split(X, y, test_size=0.2, random_state=42)\n",
    "\n",
    "# 创建并训练 Gaussian Naïve Bayes 模型\n",
    "gnb_model = GaussianNB()\n",
    "gnb_model.fit(X_train, y_train)\n",
    "\n",
    "# 进行预测\n",
    "y_probs = gnb_model.predict_proba(X_test)[:, 1]  # 获取生还（正类别）的概率\n",
    "y_pred = gnb_model.predict(X_test)  # 获取分类预测结果\n",
    "\n",
    "# 计算混淆矩阵（Confusion Matrix）\n",
    "conf_matrix = confusion_matrix(y_test, y_pred)\n",
    "\n",
    "# 绘制混淆矩阵热力图\n",
    "plt.figure(figsize=(8, 6))  # 设置图像大小\n",
    "sns.heatmap(conf_matrix, annot=True, fmt=\"d\", cmap=\"Blues\",\n",
    "            xticklabels=[\"Not Survived\", \"Survived\"], \n",
    "            yticklabels=[\"Not Survived\", \"Survived\"])  # 生成热力图\n",
    "plt.title(\"Confusion Matrix Heatmap\")  # 设置标题\n",
    "plt.xlabel('Predicted')  # X 轴标签\n",
    "plt.ylabel('True')  # Y 轴标签\n",
    "plt.show()  # 显示图像\n",
    "\n",
    "# 生成分类报告（包括精确率、召回率、F1 分数等）\n",
    "class_report = classification_report(y_test, y_pred, digits=4)\n",
    "print(\"Classification Report:\")\n",
    "print(class_report)\n",
    "\n",
    "# 计算 ROC 曲线（假阳性率和真正率）\n",
    "fpr, tpr, _ = roc_curve(y_test, y_probs)\n",
    "roc_auc = auc(fpr, tpr)  # 计算 AUC（曲线下面积）\n",
    "\n",
    "# 绘制 ROC 曲线\n",
    "plt.figure(figsize=(8, 6))  # 设置图像大小\n",
    "plt.plot(fpr, tpr, color='blue', label=f'ROC curve (AUC = {roc_auc:.4f})')  # 绘制 ROC 曲线\n",
    "plt.plot([0, 1], [0, 1], color='gray', linestyle='--')  # 绘制对角线（随机猜测的表现）\n",
    "plt.xlim([0.0, 1.0])  # 设置 X 轴范围\n",
    "plt.ylim([0.0, 1.05])  # 设置 Y 轴范围\n",
    "plt.xlabel('False Positive Rate (FPR)')  # X 轴标签：假阳性率\n",
    "plt.ylabel('True Positive Rate (TPR)')  # Y 轴标签：真正率\n",
    "plt.title('ROC Curve for Gaussian Naïve Bayes on Titanic Dataset')  # 设置标题\n",
    "plt.legend(loc='lower right')  # 添加图例\n",
    "plt.show()  # 显示图像"
   ]
  },
  {
   "cell_type": "code",
   "execution_count": null,
   "id": "8ed23c0a",
   "metadata": {},
   "outputs": [],
   "source": []
  },
  {
   "cell_type": "code",
   "execution_count": null,
   "id": "b9066844",
   "metadata": {},
   "outputs": [],
   "source": []
  },
  {
   "cell_type": "code",
   "execution_count": null,
   "id": "b4fe6ebe",
   "metadata": {},
   "outputs": [],
   "source": []
  }
 ],
 "metadata": {
  "kernelspec": {
   "display_name": "Python 3 (ipykernel)",
   "language": "python",
   "name": "python3"
  },
  "language_info": {
   "codemirror_mode": {
    "name": "ipython",
    "version": 3
   },
   "file_extension": ".py",
   "mimetype": "text/x-python",
   "name": "python",
   "nbconvert_exporter": "python",
   "pygments_lexer": "ipython3",
   "version": "3.12.2"
  },
  "toc": {
   "base_numbering": 1,
   "nav_menu": {},
   "number_sections": true,
   "sideBar": true,
   "skip_h1_title": false,
   "title_cell": "Table of Contents",
   "title_sidebar": "Contents",
   "toc_cell": false,
   "toc_position": {
    "height": "calc(100% - 180px)",
    "left": "10px",
    "top": "150px",
    "width": "288px"
   },
   "toc_section_display": true,
   "toc_window_display": true
  }
 },
 "nbformat": 4,
 "nbformat_minor": 5
}
