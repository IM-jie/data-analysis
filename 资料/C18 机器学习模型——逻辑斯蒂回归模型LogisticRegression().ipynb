{
 "cells": [
  {
   "cell_type": "markdown",
   "id": "5923d687",
   "metadata": {},
   "source": [
    "# 逻辑斯蒂回归原理"
   ]
  },
  {
   "cell_type": "markdown",
   "id": "b6121ee8",
   "metadata": {},
   "source": [
    "**逻辑斯蒂回归（Logistic Regression, LR）**是一种分类算法，通过将线性回归的输出映射到0到1的概率值，从而进行分类。虽然逻辑斯蒂回归名字中带 有“回归”二字，但逻辑斯蒂回归本质上是一种分类方法，而不是回归方法。"
   ]
  },
  {
   "cell_type": "markdown",
   "id": "603b159f",
   "metadata": {},
   "source": [
    "## 逻辑斯蒂回归数学表达式"
   ]
  },
  {
   "cell_type": "markdown",
   "id": "aa2f7ed3",
   "metadata": {},
   "source": [
    "### Sigmoid函数"
   ]
  },
  {
   "cell_type": "markdown",
   "id": "1790d6da",
   "metadata": {},
   "source": [
    "逻辑斯蒂回归的核心就是Sigmoid函数，可以将任意实数值映射到(0, 1)区间，非常适合用来表示概率。Sigmoid函数的数学表达式为：\n",
    "\n",
    "$$sigma(z) = \\frac{1}{1 + e^{-z}}$$\n",
    "\n",
    "通过这个公式，可以将线性回归的预测结果$z = \\beta_0 + \\beta_1 x_1 + \\dots + \\beta_n x_n$转换为一个概率值，表示某个事件发生的概率"
   ]
  },
  {
   "cell_type": "code",
   "execution_count": 4,
   "id": "a39e5bb0",
   "metadata": {},
   "outputs": [
    {
     "data": {
      "image/png": "[encoded data removed]",
      "text/plain": [
       "<IPython.core.display.Image object>"
      ]
     },
     "execution_count": 4,
     "metadata": {
      "image/png": {
       "height": 400,
       "width": 600
      }
     },
     "output_type": "execute_result"
    }
   ],
   "source": [
    "# Sigmoid函数图像展示\n",
    "from IPython.display import Image\n",
    "Image(filename='./pcitures/raw_pics/C18 机器学习模型——逻辑斯蒂回归模型.png', width=600, height=400)"
   ]
  },
  {
   "cell_type": "markdown",
   "id": "eb23e377",
   "metadata": {},
   "source": [
    "### 逻辑斯蒂回归模型"
   ]
  },
  {
   "cell_type": "markdown",
   "id": "dad15d4e",
   "metadata": {},
   "source": [
    "逻辑斯蒂回归通过一个线性模型来预测事件发生的概率。其核心思想是利用Sigmoid函数将线性回归的输出（可能是任意实数）转化为一个介于0和1之间的概率值。该概率值可以用来进行二分类决策。逻辑斯蒂回归模型的数学表达式为：\n",
    "$$sigma(X) = \\frac{1}{1 + e^{-(\\beta_0 + \\beta_1 x_1 + \\beta_2 x_2 + \\dots + \\beta_n x_n)}}$$"
   ]
  },
  {
   "cell_type": "markdown",
   "id": "fa1e0361",
   "metadata": {},
   "source": [
    "其中，\n",
    "- $\\beta_0$是截距项；\n",
    "- $\\beta_1, \\beta_2, \\dots, \\beta_n$是特征的系数；\n",
    "- $x_1, x_2, \\dots, x_n$是输入特征；\n",
    "- $e$是自然对数的底"
   ]
  },
  {
   "cell_type": "markdown",
   "id": "3ce580d1",
   "metadata": {},
   "source": [
    "## 逻辑斯蒂回归目标函数（损失函数）"
   ]
  },
  {
   "cell_type": "markdown",
   "id": "42865341",
   "metadata": {},
   "source": [
    "逻辑斯蒂回归的损失函数是交叉熵损失函数，目标函数是最小化这个交叉熵损失函数。其形式为： \n",
    "$$\\min_{\\beta} L(\\beta) = - \\frac{1}{N} \\sum_{i=1}^{N} \\left[ y_i \\log(p_i) + (1 - y_i) \\log(1 - p_i) \\right]$$ \n",
    "其中： \n",
    "- $\\beta$是回归系数$\\beta_1, \\beta_2, \\dots, \\beta_n$；\n",
    "- $y_i$是样本的真实标签（0或1）；\n",
    "- $p_i$是模型对该样本预测的类别1的概率。\n",
    "- $N$：样本数量。 "
   ]
  },
  {
   "cell_type": "markdown",
   "id": "c59e04cd",
   "metadata": {},
   "source": [
    "## 逻辑斯蒂回归的优缺点"
   ]
  },
  {
   "cell_type": "markdown",
   "id": "390f2de9",
   "metadata": {},
   "source": [
    "### LR回归模型优点\n",
    "- **可解释性强**：LR回归模型形式简单，模型输出范围自然地落在0和1之间，可解释性强，非常适合于概率预测和分类问题\n",
    "- **训练简单高效**：模型的训练过程（参数估计）相对简单，通常使用梯度下降法，计算效率高\n",
    "- **鲁棒性强**：模型结构简单，参数规模小，对于噪声数据不敏感，因此在噪声数据中的建模效果好，模型鲁棒性强\n",
    "\n",
    "### LR回归模型缺点\n",
    "- **非线性数据建模能力差**：LR回归假设特征与对数几率（log-odds）之间存在线性关系，对非线性特征不敏感，难以捕捉数据中的非线形特征，模型效果强依赖于人工特征工程\n",
    "- **不平衡数据建模能力差**：在类别不平衡的数据集中，逻辑斯蒂回归可能会偏向于多数类，导致对少数类的预测性能较差\n",
    "- **无法直接提供特征重要性**：逻辑斯蒂回归模型不像决策树那样容易提供特征的重要性评分，因此难以衡量各个特征的重要性与贡献程度"
   ]
  },
  {
   "cell_type": "markdown",
   "id": "ca53b809",
   "metadata": {},
   "source": [
    "# 逻辑斯蒂回归案例"
   ]
  },
  {
   "cell_type": "markdown",
   "id": "708af6b1",
   "metadata": {},
   "source": [
    "## LogisticRegression\n",
    "  - `penalty`: 指定正则化类型\n",
    "      - `l1`: 使用 L1 正则化（Lasso 正则化），这会导致部分系数为零，实现特征选择。\n",
    "      - `l2`: 使用 L2 正则化（Ridge 正则化），会使系数平滑，但不会完全为零。\n",
    "      - `elasticnet`: 结合 L1 和 L2 正则化（ElasticNet），通过 l1_ratio 参数控制两者的混合比例。\n",
    "      - `none`: 不使用正则化。\n",
    "  - `l1_ratio`: 仅在`penalty=elasticnet`时有效。控制 L1 和 L2 正则化的比例。l1_ratio=1 完全是 L1 正则化，l1_ratio=0 完全是 L2 正则化。\n",
    "  - `C`: 正则化强度的倒数。较小的 C 值表示更强的正则化，可能会导致模型欠拟合；较大的 C 值会减弱正则化效果，可能会导致模型过拟合。\n",
    "  - `class_weight`: 指定类别权重。可以用于处理不平衡数据集。\n",
    "  - `n_jobs`: 指定使用核心数，默认值为None。n_jobs=-1 会利用所有核心，n_jobs=1 会使用一个核心。其他正整数指定使用的核心数。\n",
    "  - `random_state`: 随机数种子。"
   ]
  },
  {
   "cell_type": "markdown",
   "id": "deaaed87",
   "metadata": {},
   "source": [
    "## 泰坦尼克数据集"
   ]
  },
  {
   "cell_type": "markdown",
   "id": "1d15e81f",
   "metadata": {},
   "source": [
    "**titanic 数据集**包含了 891 条乘客记录，每条记录描述了乘客的个人信息及其在 Titanic 号上的生存情况\n",
    "- survived：生存情况（0 = 未生还, 1 = 生还）\n",
    "- pclass：乘客舱等级（1 = 一等舱, 2 = 二等舱, 3 = 三等舱）\n",
    "- sex：乘客性别（male = 男性, female = 女性）\n",
    "- age：乘客年龄（float，部分缺失值）\n",
    "- sibsp：乘客在船上的兄弟姐妹或配偶数量（整数）\n",
    "- parch：乘客在船上的父母或子女数量（整数）\n",
    "- fare：乘客支付的票价（float）\n",
    "- embarked：乘客登船港口（C = 瑟堡, Q = 皇后镇, S = 南安普敦）\n",
    "- class：舱等级（文本版本的 pclass，First = 头等舱, Second = 二等舱, Third = 三等舱）\n",
    "- who：乘客身份（man = 成年男性, woman = 成年女性, child = 儿童）\n",
    "- adult_male：是否为成年男性（True = 是, False = 否）\n",
    "- deck：乘客所在的甲板（A, B, C, D, E, F, G，部分缺失值较多）\n",
    "- embark_town：乘客登船的城市（Cherbourg = 瑟堡, Queenstown = 皇后镇, Southampton = 南安普敦）\n",
    "- alone：是否独自旅行（True = 独自旅行，False = 有亲属同行，对应 sibsp + parch == 0）"
   ]
  },
  {
   "cell_type": "code",
   "execution_count": 5,
   "id": "783b8b53",
   "metadata": {},
   "outputs": [
    {
     "data": {
      "text/html": [
       "<div>\n",
       "<style scoped>\n",
       "    .dataframe tbody tr th:only-of-type {\n",
       "        vertical-align: middle;\n",
       "    }\n",
       "\n",
       "    .dataframe tbody tr th {\n",
       "        vertical-align: top;\n",
       "    }\n",
       "\n",
       "    .dataframe thead th {\n",
       "        text-align: right;\n",
       "    }\n",
       "</style>\n",
       "<table border=\"1\" class=\"dataframe\">\n",
       "  <thead>\n",
       "    <tr style=\"text-align: right;\">\n",
       "      <th></th>\n",
       "      <th>survived</th>\n",
       "      <th>pclass</th>\n",
       "      <th>sex</th>\n",
       "      <th>age</th>\n",
       "      <th>sibsp</th>\n",
       "      <th>parch</th>\n",
       "      <th>fare</th>\n",
       "      <th>embarked</th>\n",
       "      <th>class</th>\n",
       "      <th>who</th>\n",
       "      <th>adult_male</th>\n",
       "      <th>deck</th>\n",
       "      <th>embark_town</th>\n",
       "      <th>alive</th>\n",
       "      <th>alone</th>\n",
       "    </tr>\n",
       "  </thead>\n",
       "  <tbody>\n",
       "    <tr>\n",
       "      <th>0</th>\n",
       "      <td>0</td>\n",
       "      <td>3</td>\n",
       "      <td>1</td>\n",
       "      <td>22.0</td>\n",
       "      <td>1</td>\n",
       "      <td>0</td>\n",
       "      <td>7.2500</td>\n",
       "      <td>2</td>\n",
       "      <td>Third</td>\n",
       "      <td>man</td>\n",
       "      <td>True</td>\n",
       "      <td>NaN</td>\n",
       "      <td>Southampton</td>\n",
       "      <td>no</td>\n",
       "      <td>False</td>\n",
       "    </tr>\n",
       "    <tr>\n",
       "      <th>1</th>\n",
       "      <td>1</td>\n",
       "      <td>1</td>\n",
       "      <td>0</td>\n",
       "      <td>38.0</td>\n",
       "      <td>1</td>\n",
       "      <td>0</td>\n",
       "      <td>71.2833</td>\n",
       "      <td>0</td>\n",
       "      <td>First</td>\n",
       "      <td>woman</td>\n",
       "      <td>False</td>\n",
       "      <td>C</td>\n",
       "      <td>Cherbourg</td>\n",
       "      <td>yes</td>\n",
       "      <td>False</td>\n",
       "    </tr>\n",
       "    <tr>\n",
       "      <th>2</th>\n",
       "      <td>1</td>\n",
       "      <td>3</td>\n",
       "      <td>0</td>\n",
       "      <td>26.0</td>\n",
       "      <td>0</td>\n",
       "      <td>0</td>\n",
       "      <td>7.9250</td>\n",
       "      <td>2</td>\n",
       "      <td>Third</td>\n",
       "      <td>woman</td>\n",
       "      <td>False</td>\n",
       "      <td>NaN</td>\n",
       "      <td>Southampton</td>\n",
       "      <td>yes</td>\n",
       "      <td>True</td>\n",
       "    </tr>\n",
       "    <tr>\n",
       "      <th>3</th>\n",
       "      <td>1</td>\n",
       "      <td>1</td>\n",
       "      <td>0</td>\n",
       "      <td>35.0</td>\n",
       "      <td>1</td>\n",
       "      <td>0</td>\n",
       "      <td>53.1000</td>\n",
       "      <td>2</td>\n",
       "      <td>First</td>\n",
       "      <td>woman</td>\n",
       "      <td>False</td>\n",
       "      <td>C</td>\n",
       "      <td>Southampton</td>\n",
       "      <td>yes</td>\n",
       "      <td>False</td>\n",
       "    </tr>\n",
       "    <tr>\n",
       "      <th>4</th>\n",
       "      <td>0</td>\n",
       "      <td>3</td>\n",
       "      <td>1</td>\n",
       "      <td>35.0</td>\n",
       "      <td>0</td>\n",
       "      <td>0</td>\n",
       "      <td>8.0500</td>\n",
       "      <td>2</td>\n",
       "      <td>Third</td>\n",
       "      <td>man</td>\n",
       "      <td>True</td>\n",
       "      <td>NaN</td>\n",
       "      <td>Southampton</td>\n",
       "      <td>no</td>\n",
       "      <td>True</td>\n",
       "    </tr>\n",
       "    <tr>\n",
       "      <th>...</th>\n",
       "      <td>...</td>\n",
       "      <td>...</td>\n",
       "      <td>...</td>\n",
       "      <td>...</td>\n",
       "      <td>...</td>\n",
       "      <td>...</td>\n",
       "      <td>...</td>\n",
       "      <td>...</td>\n",
       "      <td>...</td>\n",
       "      <td>...</td>\n",
       "      <td>...</td>\n",
       "      <td>...</td>\n",
       "      <td>...</td>\n",
       "      <td>...</td>\n",
       "      <td>...</td>\n",
       "    </tr>\n",
       "    <tr>\n",
       "      <th>886</th>\n",
       "      <td>0</td>\n",
       "      <td>2</td>\n",
       "      <td>1</td>\n",
       "      <td>27.0</td>\n",
       "      <td>0</td>\n",
       "      <td>0</td>\n",
       "      <td>13.0000</td>\n",
       "      <td>2</td>\n",
       "      <td>Second</td>\n",
       "      <td>man</td>\n",
       "      <td>True</td>\n",
       "      <td>NaN</td>\n",
       "      <td>Southampton</td>\n",
       "      <td>no</td>\n",
       "      <td>True</td>\n",
       "    </tr>\n",
       "    <tr>\n",
       "      <th>887</th>\n",
       "      <td>1</td>\n",
       "      <td>1</td>\n",
       "      <td>0</td>\n",
       "      <td>19.0</td>\n",
       "      <td>0</td>\n",
       "      <td>0</td>\n",
       "      <td>30.0000</td>\n",
       "      <td>2</td>\n",
       "      <td>First</td>\n",
       "      <td>woman</td>\n",
       "      <td>False</td>\n",
       "      <td>B</td>\n",
       "      <td>Southampton</td>\n",
       "      <td>yes</td>\n",
       "      <td>True</td>\n",
       "    </tr>\n",
       "    <tr>\n",
       "      <th>888</th>\n",
       "      <td>0</td>\n",
       "      <td>3</td>\n",
       "      <td>0</td>\n",
       "      <td>28.0</td>\n",
       "      <td>1</td>\n",
       "      <td>2</td>\n",
       "      <td>23.4500</td>\n",
       "      <td>2</td>\n",
       "      <td>Third</td>\n",
       "      <td>woman</td>\n",
       "      <td>False</td>\n",
       "      <td>NaN</td>\n",
       "      <td>Southampton</td>\n",
       "      <td>no</td>\n",
       "      <td>False</td>\n",
       "    </tr>\n",
       "    <tr>\n",
       "      <th>889</th>\n",
       "      <td>1</td>\n",
       "      <td>1</td>\n",
       "      <td>1</td>\n",
       "      <td>26.0</td>\n",
       "      <td>0</td>\n",
       "      <td>0</td>\n",
       "      <td>30.0000</td>\n",
       "      <td>0</td>\n",
       "      <td>First</td>\n",
       "      <td>man</td>\n",
       "      <td>True</td>\n",
       "      <td>C</td>\n",
       "      <td>Cherbourg</td>\n",
       "      <td>yes</td>\n",
       "      <td>True</td>\n",
       "    </tr>\n",
       "    <tr>\n",
       "      <th>890</th>\n",
       "      <td>0</td>\n",
       "      <td>3</td>\n",
       "      <td>1</td>\n",
       "      <td>32.0</td>\n",
       "      <td>0</td>\n",
       "      <td>0</td>\n",
       "      <td>7.7500</td>\n",
       "      <td>1</td>\n",
       "      <td>Third</td>\n",
       "      <td>man</td>\n",
       "      <td>True</td>\n",
       "      <td>NaN</td>\n",
       "      <td>Queenstown</td>\n",
       "      <td>no</td>\n",
       "      <td>True</td>\n",
       "    </tr>\n",
       "  </tbody>\n",
       "</table>\n",
       "<p>891 rows × 15 columns</p>\n",
       "</div>"
      ],
      "text/plain": [
       "     survived  pclass  sex   age  sibsp  parch     fare  embarked   class  \\\n",
       "0           0       3    1  22.0      1      0   7.2500         2   Third   \n",
       "1           1       1    0  38.0      1      0  71.2833         0   First   \n",
       "2           1       3    0  26.0      0      0   7.9250         2   Third   \n",
       "3           1       1    0  35.0      1      0  53.1000         2   First   \n",
       "4           0       3    1  35.0      0      0   8.0500         2   Third   \n",
       "..        ...     ...  ...   ...    ...    ...      ...       ...     ...   \n",
       "886         0       2    1  27.0      0      0  13.0000         2  Second   \n",
       "887         1       1    0  19.0      0      0  30.0000         2   First   \n",
       "888         0       3    0  28.0      1      2  23.4500         2   Third   \n",
       "889         1       1    1  26.0      0      0  30.0000         0   First   \n",
       "890         0       3    1  32.0      0      0   7.7500         1   Third   \n",
       "\n",
       "       who  adult_male deck  embark_town alive  alone  \n",
       "0      man        True  NaN  Southampton    no  False  \n",
       "1    woman       False    C    Cherbourg   yes  False  \n",
       "2    woman       False  NaN  Southampton   yes   True  \n",
       "3    woman       False    C  Southampton   yes  False  \n",
       "4      man        True  NaN  Southampton    no   True  \n",
       "..     ...         ...  ...          ...   ...    ...  \n",
       "886    man        True  NaN  Southampton    no   True  \n",
       "887  woman       False    B  Southampton   yes   True  \n",
       "888  woman       False  NaN  Southampton    no  False  \n",
       "889    man        True    C    Cherbourg   yes   True  \n",
       "890    man        True  NaN   Queenstown    no   True  \n",
       "\n",
       "[891 rows x 15 columns]"
      ]
     },
     "execution_count": 5,
     "metadata": {},
     "output_type": "execute_result"
    }
   ],
   "source": [
    "# 导入所需的库\n",
    "import seaborn as sns  # 用于加载内置数据集\n",
    "import warnings  # 用于忽略警告信息\n",
    "warnings.filterwarnings('ignore')  # 忽略警告信息，防止冗长的警告输出\n",
    "from sklearn.linear_model import LogisticRegression  # 逻辑斯蒂回归分类器\n",
    "from sklearn.model_selection import train_test_split  # 数据集划分工具\n",
    "from sklearn.metrics import accuracy_score, confusion_matrix, classification_report, roc_curve, auc  # 用于计算准确率，混淆矩阵等\n",
    "import matplotlib.pyplot as plt  # 用于绘制图表\n",
    "import seaborn as sns  # 用于绘制更美观的图表\n",
    "\n",
    "# 加载seaborn内置的泰坦尼克数据集\n",
    "df = sns.load_dataset('titanic')\n",
    "\n",
    "# 填充 'age' 列的缺失值：使用该列的中位数填充缺失值\n",
    "df['age'].fillna(df['age'].median(), inplace=True)\n",
    "# 填充 'embarked' 列的缺失值：使用该列的众数填充缺失值\n",
    "df['embarked'].fillna(df['embarked'].mode()[0], inplace=True)\n",
    "# 将 'sex' 列转化为数值：'male' 映射为 1，'female' 映射为 0\n",
    "df['sex'] = df['sex'].map({'male': 1, 'female': 0})\n",
    "# 将 'embarked' 列转化为数值：'C' 映射为 0，'Q' 映射为 1，'S' 映射为 2\n",
    "df['embarked'] = df['embarked'].map({'C': 0, 'Q': 1, 'S': 2})\n",
    "\n",
    "df"
   ]
  },
  {
   "cell_type": "markdown",
   "id": "af463e9b",
   "metadata": {},
   "source": [
    "## 代码实现"
   ]
  },
  {
   "cell_type": "code",
   "execution_count": 7,
   "id": "bb7764aa",
   "metadata": {},
   "outputs": [
    {
     "data": {
      "image/png": "[encoded data removed]",
      "text/plain": [
       "<Figure size 800x600 with 2 Axes>"
      ]
     },
     "metadata": {},
     "output_type": "display_data"
    },
    {
     "name": "stdout",
     "output_type": "stream",
     "text": [
      "Classification Report:\n",
      "              precision    recall  f1-score   support\n",
      "\n",
      "           0     0.8257    0.8571    0.8411       105\n",
      "           1     0.7857    0.7432    0.7639        74\n",
      "\n",
      "    accuracy                         0.8101       179\n",
      "   macro avg     0.8057    0.8002    0.8025       179\n",
      "weighted avg     0.8092    0.8101    0.8092       179\n",
      "\n"
     ]
    },
    {
     "data": {
      "image/png": "[encoded data removed]",
      "text/plain": [
       "<Figure size 800x600 with 1 Axes>"
      ]
     },
     "metadata": {},
     "output_type": "display_data"
    }
   ],
   "source": [
    "# 选择特征列（X）和目标列（y）\n",
    "# 特征列： 'pclass'（舱位）, 'sex'（性别）, 'age'（年龄）, 'sibsp'（兄弟姐妹/配偶）, \n",
    "#         'parch'（父母/子女）, 'fare'（票价）, 'embarked'（登船港口）\n",
    "# 目标列： 'survived'（是否生还，0=未生还，1=生还）\n",
    "X = df[['pclass', 'sex', 'age', 'sibsp', 'parch', 'fare', 'embarked']].dropna()  # 删除缺失值\n",
    "y = df['survived']  # 目标变量：生还状态\n",
    "\n",
    "# 数据集划分：80% 用于训练，20% 用于验证\n",
    "X_train, X_test, y_train, y_test = train_test_split(X, y, test_size=0.2, random_state=42)\n",
    "\n",
    "# 创建逻辑斯蒂回归分类器并训练\n",
    "logreg_model = LogisticRegression(max_iter=200, random_state=42)  # max_iter=200 设定最大迭代次数\n",
    "logreg_model.fit(X_train, y_train)  # 训练模型\n",
    "\n",
    "# 使用测试集进行预测\n",
    "y_probs = logreg_model.predict_proba(X_test)[:, 1]  # 获取正类别（生存）的概率\n",
    "y_pred = logreg_model.predict(X_test)  # 获取分类预测结果（0 或 1）\n",
    "\n",
    "# 计算混淆矩阵（Confusion Matrix）\n",
    "conf_matrix = confusion_matrix(y_test, y_pred)\n",
    "\n",
    "# 绘制混淆矩阵热力图\n",
    "plt.figure(figsize=(8, 6))  # 设置图像大小\n",
    "sns.heatmap(conf_matrix, annot=True, fmt=\"d\", cmap=\"Blues\",\n",
    "            xticklabels=[\"Not Survived\", \"Survived\"], \n",
    "            yticklabels=[\"Not Survived\", \"Survived\"])  # 生成热力图\n",
    "plt.title(\"Confusion Matrix Heatmap\")  # 设置标题\n",
    "plt.xlabel('Predicted')  # X 轴标签\n",
    "plt.ylabel('True')  # Y 轴标签\n",
    "plt.show()  # 显示图像\n",
    "\n",
    "# 生成分类报告（包括精确率、召回率、F1 分数等）\n",
    "class_report = classification_report(y_test, y_pred, digits=4)\n",
    "print(\"Classification Report:\")\n",
    "print(class_report)\n",
    "\n",
    "# 计算 ROC 曲线（假阳性率和真正率）与AUC得分\n",
    "fpr, tpr, _ = roc_curve(y_test, y_probs)\n",
    "roc_auc = auc(fpr, tpr)  # 计算 AUC（曲线下面积）\n",
    "\n",
    "# 绘制 ROC 曲线\n",
    "plt.figure(figsize=(8, 6))  # 设置图像大小\n",
    "plt.plot(fpr, tpr, color='blue', label=f'ROC curve (AUC = {roc_auc:.2f})')  # 绘制 ROC 曲线\n",
    "plt.plot([0, 1], [0, 1], color='gray', linestyle='--')  # 绘制对角线（随机猜测的表现）\n",
    "plt.xlim([0.0, 1.0])  # 设置 X 轴范围\n",
    "plt.ylim([0.0, 1])  # 设置 Y 轴范围\n",
    "plt.xlabel('False Positive Rate (FPR)')  # X 轴标签：假阳性率\n",
    "plt.ylabel('True Positive Rate (TPR)')  # Y 轴标签：真正率\n",
    "plt.title('ROC Curve for Logistic Regression on Titanic Dataset')  # 设置标题\n",
    "plt.legend(loc='lower right')  # 添加图例\n",
    "plt.show()  # 显示图像"
   ]
  },
  {
   "cell_type": "code",
   "execution_count": null,
   "id": "38afb378",
   "metadata": {},
   "outputs": [],
   "source": []
  },
  {
   "cell_type": "code",
   "execution_count": null,
   "id": "8f8094ea",
   "metadata": {},
   "outputs": [],
   "source": []
  },
  {
   "cell_type": "code",
   "execution_count": null,
   "id": "3b539aa2",
   "metadata": {},
   "outputs": [],
   "source": []
  }
 ],
 "metadata": {
  "kernelspec": {
   "display_name": "Python 3 (ipykernel)",
   "language": "python",
   "name": "python3"
  },
  "language_info": {
   "codemirror_mode": {
    "name": "ipython",
    "version": 3
   },
   "file_extension": ".py",
   "mimetype": "text/x-python",
   "name": "python",
   "nbconvert_exporter": "python",
   "pygments_lexer": "ipython3",
   "version": "3.12.2"
  },
  "toc": {
   "base_numbering": 1,
   "nav_menu": {},
   "number_sections": true,
   "sideBar": true,
   "skip_h1_title": false,
   "title_cell": "Table of Contents",
   "title_sidebar": "Contents",
   "toc_cell": false,
   "toc_position": {
    "height": "calc(100% - 180px)",
    "left": "10px",
    "top": "150px",
    "width": "288px"
   },
   "toc_section_display": true,
   "toc_window_display": true
  }
 },
 "nbformat": 4,
 "nbformat_minor": 5
}
