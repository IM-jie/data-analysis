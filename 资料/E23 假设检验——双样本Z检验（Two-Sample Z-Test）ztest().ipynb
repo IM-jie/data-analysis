{
 "cells": [
  {
   "cell_type": "markdown",
   "id": "2a2278ffd1b0ba63",
   "metadata": {},
   "source": [
    "# 双样本z检验"
   ]
  },
  {
   "cell_type": "markdown",
   "id": "61fa2353",
   "metadata": {},
   "source": [
    "## 基本概念\n",
    "\n",
    "**双样本Z检验**用于比较两个独立样本的均值是否存在显著差异"
   ]
  },
  {
   "cell_type": "markdown",
   "id": "756e8507dcfbaa9",
   "metadata": {},
   "source": [
    "## 适用场景\n",
    "- 样本相互独立\n",
    "- 总体标准差（σ₁, σ₂）已知，或样本量足够大（每组n≥30情况下，可用样本标准差近似总体标准差）\n",
    "- 数据近似服从正态分布"
   ]
  },
  {
   "cell_type": "markdown",
   "id": "c4ca46fad2313f72",
   "metadata": {},
   "source": [
    "## 零假设与备择假设\n",
    "- 单尾检验：\n",
    "    - 右尾检验：\n",
    "        - 零假设（$H_0$）：第一组均值小于等于第二组均值，即 $\\mu_1 <= \\mu_2$。\n",
    "        - 备择假设（$H_1$）：第一组均值大于第二组均值，即$\\mu_1 > \\mu_2$。\n",
    "    - 左尾检验：\n",
    "        - 零假设（$H_0$）：第一组均值大于/等于第二组均值，即 $\\mu_1 >= \\mu_2$。\n",
    "        - 备择假设（$H_1$）：第一组均值小于第二组均值，即$\\mu_1 < \\mu_2$。\n",
    "- 双尾检验：\n",
    "    - 零假设（$H_0$）：两组数据总体均值相等，即 $\\mu_1 = \\mu_2$。\n",
    "    - 备择假设（$H_1$）：两组数据总体均值不相等，即$\\mu_1 \\neq \\mu_2$。"
   ]
  },
  {
   "cell_type": "markdown",
   "id": "846e46bfa5cffb0d",
   "metadata": {},
   "source": [
    "## 检验统计量\n",
    "检验统计量 $Z$ 的计算公式为：\n",
    "$$Z = \\frac{\\bar{X}_1 - \\bar{X}_2}{\\sqrt{\\frac{S_1^2}{n_1-1} + \\frac{S_2^2}{n_2-1}}}$$\n",
    "其中：\n",
    "- $\\bar{X}_1, \\bar{X}_2$: 两组样本均值\n",
    "- $S_1, S_2$: 两组样本标准差\n",
    "- $n_1, n_2$: 两组样本量\n",
    "\n",
    "解释：\n",
    "- 分子 $\\bar{X}_1 - \\bar{X}_2$ 表示两样本均值的差异\n",
    "- 分母 $\\sqrt{\\frac{S_1^2}{n_1-1} + \\frac{S_2^2}{n_2-1}}$ 是差异的标准误"
   ]
  },
  {
   "cell_type": "markdown",
   "id": "c8d18a42dc0f85d2",
   "metadata": {},
   "source": [
    "## 步骤\n",
    "- **提出假设**：\n",
    "    - 明确原假设（$H_0$）和备择假设（$H_1$）\n",
    "- **计算Z值**：\n",
    "    - 使用样本数据计算出$Z$值。 \n",
    "- **查找临界值**：\n",
    "    - 根据显著性水平$\\alpha$，查找标准正态分布表中的临界值$Z_{\\text{临界}}$。 \n",
    "        - 单尾检验：临界值为 $Z_{\\text{临界}} = Z_{\\alpha}$。\n",
    "        - 双尾检验：临界值为 $Z_{\\text{临界}} = Z_{\\alpha/2}$。\n",
    "- **做出决策**：\n",
    "    - 如果$|Z| > Z_{\\text{临界}}$，拒绝零假设。\n",
    "    - 如果$|Z| \\leq Z_{\\text{临界}}$，不能拒绝零假设。"
   ]
  },
  {
   "cell_type": "markdown",
   "id": "3d1a57be0149d52",
   "metadata": {},
   "source": [
    "# 双样本z检验实际案例"
   ]
  },
  {
   "cell_type": "markdown",
   "id": "84dae1c9",
   "metadata": {},
   "source": [
    "## 单尾检验"
   ]
  },
  {
   "cell_type": "markdown",
   "id": "a10f920c",
   "metadata": {},
   "source": [
    "### 案例背景\n",
    "某电商平台上线了一个新推荐系统，想要测试该系统是否能显著提高用户的平均消费金额。于是进行了 A/B 实验：\n",
    "- A组（旧系统）消费金额：\n",
    " `[\n",
    "    639.61, 563.41, 657.72, 762.76, 551.9, 551.9, 769.51, 672.09, 523.66, 645.11,\n",
    "    524.39, 524.11, 609.04, 350.41, 373.01, 512.53, 458.46, 617.71, 471.04, 410.52,\n",
    "    755.88, 552.91, 588.1, 409.03, 514.67, 593.31, 441.88, 625.08, 507.92, 545.0,\n",
    "    507.8, 802.27, 578.38, 453.07, 678.71, 433.5, 605.06, 344.84, 420.62, 603.62\n",
    "]`\n",
    " \n",
    " \n",
    "- B组（新系统）消费金额：\n",
    " `[\n",
    "    760.77, 675.71, 632.65, 604.83, 428.22, 542.02, 580.9, 808.57, 701.54, 385.54,\n",
    "    698.61, 592.24, 548.46, 741.75, 804.65, 789.69, 524.12, 603.62, 699.69, 796.33,\n",
    "    578.12, 622.15, 484.05, 470.57, 771.88, 853.44, 639.2, 800.53, 704.25, 553.23,\n",
    "    704.21, 880.71, 644.63, 884.7, 257.04, 773.29, 663.06, 605.15, 663.76, 351.86\n",
    "]`\n",
    " \n",
    "我们需要验证：**新系统是否带来了显著提升？**"
   ]
  },
  {
   "cell_type": "markdown",
   "id": "4437b31c",
   "metadata": {},
   "source": [
    "### 确定假设\n",
    "- **零假设（$H_0$）**：新系统未提升消费金额，即$\\mu_A >= \\mu_B$\n",
    "- **备择假设（$H_1$）**：新系统显著提升了消费金额，即$\\mu_A < \\mu_B$"
   ]
  },
  {
   "cell_type": "markdown",
   "id": "b57b4846",
   "metadata": {},
   "source": [
    "### 计算检验统计量\n",
    "检验统计量 $Z$ 的计算公式为：\n",
    "$$Z = \\frac{\\bar{X}_1 - \\bar{X}_2}{\\sqrt{\\frac{S_1^2}{n_1-1} + \\frac{S_2^2}{n_2-1}}}$$\n",
    "其中：\n",
    "- $\\bar{X}_1, \\bar{X}_2$: 两组样本均值\n",
    "- $S_1, S_2$: 两组样本标准差\n",
    "- $n_1, n_2$: 两组样本量\n",
    "\n",
    "解释：\n",
    "- 分子 $\\bar{X}_1 - \\bar{X}_2$ 表示两样本均值的差异\n",
    "- 分母 $\\sqrt{\\frac{S_1^2}{n_1-1} + \\frac{S_2^2}{n_2-1}}$ 是差异的标准误"
   ]
  },
  {
   "cell_type": "markdown",
   "id": "99dc6539",
   "metadata": {},
   "source": [
    "### 代码实现"
   ]
  },
  {
   "cell_type": "code",
   "execution_count": 1,
   "id": "e9054485",
   "metadata": {},
   "outputs": [],
   "source": [
    "sample_A = [\n",
    "    639.61, 563.41, 657.72, 762.76, 551.9, 551.9, 769.51, 672.09, 523.66, 645.11,\n",
    "    524.39, 524.11, 609.04, 350.41, 373.01, 512.53, 458.46, 617.71, 471.04, 410.52,\n",
    "    755.88, 552.91, 588.1, 409.03, 514.67, 593.31, 441.88, 625.08, 507.92, 545.0,\n",
    "    507.8, 802.27, 578.38, 453.07, 678.71, 433.5, 605.06, 344.84, 420.62, 603.62\n",
    "]\n",
    "\n",
    "sample_B = [\n",
    "    760.77, 675.71, 632.65, 604.83, 428.22, 542.02, 580.9, 808.57, 701.54, 385.54,\n",
    "    698.61, 592.24, 548.46, 741.75, 804.65, 789.69, 524.12, 603.62, 699.69, 796.33,\n",
    "    578.12, 622.15, 484.05, 470.57, 771.88, 853.44, 639.2, 800.53, 704.25, 553.23,\n",
    "    704.21, 880.71, 644.63, 884.7, 257.04, 773.29, 663.06, 605.15, 663.76, 351.86\n",
    "]"
   ]
  },
  {
   "cell_type": "markdown",
   "id": "229449e8",
   "metadata": {},
   "source": [
    "#### 手工计算"
   ]
  },
  {
   "cell_type": "code",
   "execution_count": 8,
   "id": "a8b894eb",
   "metadata": {},
   "outputs": [
    {
     "name": "stdout",
     "output_type": "stream",
     "text": [
      "A组（旧系统）样本均值: 172.4740\n",
      "B组（新系统）样本均值: 203.9413\n",
      "Z统计量: -2.9287\n",
      "P值: 0.0017\n",
      "结论：新策略消费显著更高（拒绝H₀）\n"
     ]
    }
   ],
   "source": [
    "import numpy as np\n",
    "from scipy.stats import norm\n",
    "\n",
    "# 输入参数\n",
    "x1, x2 = np.mean(sample_A), np.mean(sample_B)         # 样本均值\n",
    "sigma1, sigma2 = np.std(sample_A), np.std(sample_B)         # 样本标准差\n",
    "n1, n2 = len(sample_A), len(sample_B)                  # 样本量\n",
    "\n",
    "# 计算Z统计量（左尾检验）\n",
    "z_score = (x1 - x2) / np.sqrt(sigma1**2/(n1-1) + sigma2**2/(n2-1))\n",
    "\n",
    "# 计算单尾P值（左尾）\n",
    "p_value = 1 - norm.sf(z_score)\n",
    "\n",
    "# 输出结果\n",
    "print(f\"A组（旧系统）样本均值: {x1:.4f}\")\n",
    "print(f\"B组（新系统）样本均值: {x2:.4f}\")\n",
    "print(f\"Z统计量: {z_score:.4f}\")\n",
    "print(f\"P值: {p_value:.4f}\")\n",
    "\n",
    "# 显著性判断（α=0.05）\n",
    "alpha = 0.05\n",
    "if p_value < alpha:\n",
    "    print(\"结论：新策略消费显著更高（拒绝H₀）\")\n",
    "else:\n",
    "    print(\"结论：无显著提升（无法拒绝H₀）\")"
   ]
  },
  {
   "cell_type": "markdown",
   "id": "4582e120",
   "metadata": {},
   "source": [
    "#### `ztest`实现"
   ]
  },
  {
   "cell_type": "markdown",
   "id": "b803d4d8",
   "metadata": {},
   "source": [
    "`ztest()`\n",
    "   - `x1`: 第一个样本的数据\n",
    "       - 如果是单样本检验，只需提供 x1\n",
    "   - `x2`: 第二个样本的数据(用于双样本检验)\n",
    "   - `value`: 检验的假设值\n",
    "       - 单样本检验：检验均值是否等于 value\n",
    "       - 双样本检验：检验 x1均值 - x2均值 是否等于 value\n",
    "   - `alternative`: 备择假设的类型\n",
    "       - `two-sided`：双尾检验（默认）\n",
    "       - `larger`：右尾检验（备择假设中检验参数是否显著大于某个值）\n",
    "       - `smaller`：左尾检验（备择假设中检验参数是否显著小于某个值）\n",
    "   - `usevar`: 如何计算方差\n",
    "       - `pooled (默认)`: 使用合并方差\n",
    "       - `unequal`: 使用不等方差\n",
    "   - `ddof`: 自由度的调整值。默认值1.0(样本标准差的无偏估计)\n",
    "       "
   ]
  },
  {
   "cell_type": "code",
   "execution_count": 9,
   "id": "41054776",
   "metadata": {},
   "outputs": [
    {
     "name": "stdout",
     "output_type": "stream",
     "text": [
      "Z统计量: -2.9287\n",
      "P值: 0.0017\n",
      "结论：新策略显著提升消费（拒绝H₀）\n"
     ]
    }
   ],
   "source": [
    "from statsmodels.stats.weightstats import ztest\n",
    "import numpy as np\n",
    "\n",
    "# 双样本Z检验（左尾：alternative='smaller'）\n",
    "z_stat, p_value = ztest(sample_A, sample_B, alternative='smaller', ddof=1)\n",
    "\n",
    "print(f\"Z统计量: {z_stat:.4f}\")\n",
    "print(f\"P值: {p_value:.4f}\")\n",
    "\n",
    "if p_value < 0.05:\n",
    "    print(\"结论：新策略显著提升消费（拒绝H₀）\")\n",
    "else:\n",
    "    print(\"结论：无显著差异\")"
   ]
  },
  {
   "cell_type": "markdown",
   "id": "bed2fb98",
   "metadata": {},
   "source": [
    "## 双尾检验"
   ]
  },
  {
   "cell_type": "markdown",
   "id": "ec306910",
   "metadata": {},
   "source": [
    "### 案例背景\n",
    "某社交APP对信息流页面进行了两种设计改版（A组：旧版卡片式，B组：新版列表式），希望验证两种设计的用户平均停留时间是否存在显著差异（双尾检验）。\n",
    "- A组（旧版卡片式）：`[\n",
    "    199.87, 174.47, 205.91, 240.92, 170.63, 170.63, 243.17, 210.7, 161.22, 201.7,\n",
    "    161.46, 161.37, 189.68, 103.47, 111.0, 157.51, 139.49, 192.57, 143.68, 123.51,\n",
    "    238.63, 170.97, 182.7, 123.01, 158.22, 184.44, 133.96, 195.03, 155.97, 168.33\n",
    "]`\n",
    "\n",
    "\n",
    "- B组（新版列表式）：`[\n",
    "    179.91, 302.61, 209.33, 157.11, 251.13, 148.96, 220.44, 112.02, 143.59, 219.84,\n",
    "    246.92, 218.57, 204.22, 194.94, 136.07, 174.01, 186.97, 262.86, 227.18, 121.85,\n",
    "    226.2, 190.75, 176.15, 240.58, 261.55, 256.56, 168.04, 194.54, 226.56, 258.78\n",
    "]`"
   ]
  },
  {
   "cell_type": "markdown",
   "id": "ba3570a3",
   "metadata": {},
   "source": [
    "### 确定假设\n",
    "- **零假设（$H_0$）**：两种设计的用户平均停留时间不存在显著差异，即$\\mu_A = \\mu_B $\n",
    "- **备择假设（$H_1$）**：两种设计的用户平均停留时间存在显著差异，即$\\mu_A \\ne \\mu_B$"
   ]
  },
  {
   "cell_type": "markdown",
   "id": "17477ca2",
   "metadata": {},
   "source": [
    "### 计算检验统计量"
   ]
  },
  {
   "cell_type": "markdown",
   "id": "a1a02cb1",
   "metadata": {},
   "source": [
    "### 代码实现"
   ]
  },
  {
   "cell_type": "code",
   "execution_count": 4,
   "id": "d21f4f40",
   "metadata": {},
   "outputs": [],
   "source": [
    "sample_A = [\n",
    "    199.87, 174.47, 205.91, 240.92, 170.63, 170.63, 243.17, 210.7, 161.22, 201.7,\n",
    "    161.46, 161.37, 189.68, 103.47, 111.0, 157.51, 139.49, 192.57, 143.68, 123.51,\n",
    "    238.63, 170.97, 182.7, 123.01, 158.22, 184.44, 133.96, 195.03, 155.97, 168.33\n",
    "]\n",
    "\n",
    "sample_B = [\n",
    "    179.91, 302.61, 209.33, 157.11, 251.13, 148.96, 220.44, 112.02, 143.59, 219.84,\n",
    "    246.92, 218.57, 204.22, 194.94, 136.07, 174.01, 186.97, 262.86, 227.18, 121.85,\n",
    "    226.2, 190.75, 176.15, 240.58, 261.55, 256.56, 168.04, 194.54, 226.56, 258.78\n",
    "]"
   ]
  },
  {
   "cell_type": "markdown",
   "id": "1f5f799c",
   "metadata": {},
   "source": [
    "#### 手工计算"
   ]
  },
  {
   "cell_type": "code",
   "execution_count": 11,
   "id": "05d08558",
   "metadata": {},
   "outputs": [
    {
     "name": "stdout",
     "output_type": "stream",
     "text": [
      "A组均值: 172.47400000000002秒  B组均值: 203.94133333333335秒\n",
      "Z统计量: -2.9287\n",
      "P值: 0.0034\n",
      "结论：两组停留时间差异显著（拒绝H₀）\n"
     ]
    }
   ],
   "source": [
    "import numpy as np\n",
    "from scipy.stats import norm\n",
    "\n",
    "# 输入参数\n",
    "x1, x2 = np.mean(sample_A), np.mean(sample_B)         # 样本均值\n",
    "sigma1, sigma2 = np.std(sample_A), np.std(sample_B)         # 样本标准差\n",
    "n1, n2 = len(sample_A), len(sample_B)                  # 样本量\n",
    "\n",
    "# 计算Z统计量（双尾检验）\n",
    "z_score = (x1 - x2) / np.sqrt(sigma1**2/(n1-1) + sigma2**2/(n2-1))\n",
    "\n",
    "# 计算双尾P值\n",
    "p_value = 2 * norm.sf(np.abs(z_score))  # 双侧需乘以2\n",
    "\n",
    "# 输出结果\n",
    "print(f\"A组均值: {x1}秒  B组均值: {x2}秒\")\n",
    "print(f\"Z统计量: {z_score:.4f}\")\n",
    "print(f\"P值: {p_value:.4f}\")\n",
    "\n",
    "# 显著性判断（α=0.05）\n",
    "alpha = 0.05\n",
    "if p_value < alpha:\n",
    "    print(\"结论：两组停留时间差异显著（拒绝H₀）\")\n",
    "else:\n",
    "    print(\"结论：无显著差异（无法拒绝H₀）\")"
   ]
  },
  {
   "cell_type": "markdown",
   "id": "8d45d721",
   "metadata": {},
   "source": [
    "#### `ztest`实现"
   ]
  },
  {
   "cell_type": "code",
   "execution_count": 15,
   "id": "85e2dcc9",
   "metadata": {},
   "outputs": [
    {
     "name": "stdout",
     "output_type": "stream",
     "text": [
      "A组实际均值: 172.5秒\n",
      "B组实际均值: 203.9秒\n",
      "Z统计量: -2.9287\n",
      "P值: 0.0034\n",
      "结论：设计差异显著影响停留时间（拒绝H₀）\n"
     ]
    }
   ],
   "source": [
    "from statsmodels.stats.weightstats import ztest\n",
    "import numpy as np\n",
    "\n",
    "# 双样本Z检验（双尾：alternative='two-sided'）\n",
    "z_stat, p_value = ztest(sample_A, sample_B, alternative='two-sided', ddof=1)\n",
    "\n",
    "# 输出结果\n",
    "print(f\"A组实际均值: {np.mean(sample_A):.1f}秒\")\n",
    "print(f\"B组实际均值: {np.mean(sample_B):.1f}秒\")\n",
    "print(f\"Z统计量: {z_stat:.4f}\")\n",
    "print(f\"P值: {p_value:.4f}\")\n",
    "\n",
    "if p_value < 0.05:\n",
    "    print(\"结论：设计差异显著影响停留时间（拒绝H₀）\")\n",
    "else:\n",
    "    print(\"结论：设计差异无显著影响\")"
   ]
  },
  {
   "cell_type": "code",
   "execution_count": null,
   "id": "5dfbbd0a",
   "metadata": {},
   "outputs": [],
   "source": []
  },
  {
   "cell_type": "code",
   "execution_count": null,
   "id": "bdf4ab75",
   "metadata": {},
   "outputs": [],
   "source": []
  },
  {
   "cell_type": "code",
   "execution_count": null,
   "id": "4edc1207",
   "metadata": {},
   "outputs": [],
   "source": []
  }
 ],
 "metadata": {
  "kernelspec": {
   "display_name": "Python 3 (ipykernel)",
   "language": "python",
   "name": "python3"
  },
  "language_info": {
   "codemirror_mode": {
    "name": "ipython",
    "version": 3
   },
   "file_extension": ".py",
   "mimetype": "text/x-python",
   "name": "python",
   "nbconvert_exporter": "python",
   "pygments_lexer": "ipython3",
   "version": "3.12.2"
  },
  "toc": {
   "base_numbering": 1,
   "nav_menu": {},
   "number_sections": true,
   "sideBar": true,
   "skip_h1_title": false,
   "title_cell": "Table of Contents",
   "title_sidebar": "Contents",
   "toc_cell": false,
   "toc_position": {
    "height": "calc(100% - 180px)",
    "left": "10px",
    "top": "150px",
    "width": "288px"
   },
   "toc_section_display": true,
   "toc_window_display": true
  }
 },
 "nbformat": 4,
 "nbformat_minor": 5
}
