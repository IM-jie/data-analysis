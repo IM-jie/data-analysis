{
 "cells": [
  {
   "cell_type": "markdown",
   "id": "4564323c",
   "metadata": {},
   "source": [
    "# 单样本t检验(One-Sample t-test)"
   ]
  },
  {
   "cell_type": "markdown",
   "id": "685f281b",
   "metadata": {},
   "source": [
    "## 基本概念\n",
    "**单样本t检验**用于判断单个样本的均值是否与某个已知值（通常是理论值、历史值、目标值等）存在显著差异。"
   ]
  },
  {
   "cell_type": "markdown",
   "id": "bd6f2b60",
   "metadata": {},
   "source": [
    "## t检验的适用场景\n",
    "- 总体标准差σ未知\n",
    "- 样本量较小（n < 30）"
   ]
  },
  {
   "cell_type": "markdown",
   "id": "8ac7ce8c",
   "metadata": {},
   "source": [
    "## 零假设与备择假设\n",
    "- 单尾检验：\n",
    "    - 右尾检验：\n",
    "        - 零假设（$H_0$）：样本均值小于等于总体均值，即 $\\mu <= \\mu_0$。\n",
    "        - 备择假设（$H_1$）：样本均值大于总体均值，即$\\mu > \\mu_0$。\n",
    "    - 左尾检验：\n",
    "        - 零假设（$H_0$）：样本均值大于等于总体均值，即 $\\mu >= \\mu_0$。\n",
    "        - 备择假设（$H_1$）：样本均值小于总体均值，即$\\mu < \\mu_0$。\n",
    "- 双尾检验：\n",
    "    - 零假设（$H_0$）：样本均值等于总体均值，即 $\\mu = \\mu_0$。\n",
    "    - 备择假设（$H_1$）：样本均值不等于总体均值，即$\\mu \\ne \\mu_0$。"
   ]
  },
  {
   "cell_type": "markdown",
   "id": "62590059",
   "metadata": {},
   "source": [
    "## 检验统计量\n",
    "检验统计量 $t$ 的计算公式为：\n",
    "$$t = \\frac{\\bar{X} - \\mu_0}{s / \\sqrt{n-1}}$$\n",
    "其中：\n",
    "- $\\bar{X}$：样本均值\n",
    "- $\\mu_0$：总体均值\n",
    "- $s$：样本标准差\n",
    "- $n$：样本量"
   ]
  },
  {
   "cell_type": "markdown",
   "id": "0bb2cb37",
   "metadata": {},
   "source": [
    "## 步骤\n",
    "假设检验的基本步骤包括：\n",
    "- **提出假设**：零假设（$H_0$）和备择假设（$H_1$）。\n",
    "- **计算$t$统计量**：通过样本数据计算出$t$统计量。\n",
    "- **确定P值**：根据计算得到的t统计量，根据t值和自由度查t分布表来确定P值。P值是在零假设为真的情况下，观察到的样本结果或更极端结果出现的概率。\n",
    "- **做出决策**：\n",
    "    - 如果P值小于或等于显著性水平（α），我们拒绝零假设。\n",
    "    - 如果P值大于显著性水平（α），我们不能拒绝零假设。"
   ]
  },
  {
   "cell_type": "markdown",
   "id": "4d0be407",
   "metadata": {},
   "source": [
    "# 单样本t检验实际案例"
   ]
  },
  {
   "cell_type": "markdown",
   "id": "76645f99",
   "metadata": {},
   "source": [
    "## 单尾检验"
   ]
  },
  {
   "cell_type": "markdown",
   "id": "c4ca2a25",
   "metadata": {},
   "source": [
    "### 案例背景\n",
    "你是某在线教育平台的数据分析师，产品团队发布了一个新功能：学习激励机制，目的是提高用户每次学习的时间。\n",
    "现在需要验证这个功能是否显著提高了用户的学习时长。\n",
    "- 历史平均学习时长（μ₀）：30分钟\n",
    "- 实验组采样了 20 名用户，样本数据如下：\n",
    "    - `[32, 35, 31, 28, 36, 29, 30, 34, 38, 31, 33, 30, 29, 37, 35, 33, 34, 36, 31, 32]`"
   ]
  },
  {
   "cell_type": "markdown",
   "id": "32fd38d4",
   "metadata": {},
   "source": [
    "### 确定假设\n",
    "- **零假设（$H_0$）**：新功能无提升，即$\\mu <= 30$\n",
    "- **备择假设（$H_1$）**：新功能显著提升了学习时长，即$\\mu > 30$"
   ]
  },
  {
   "cell_type": "markdown",
   "id": "15901332",
   "metadata": {},
   "source": [
    "### 计算检验统计量\n",
    "$$t = \\frac{\\bar{X} - \\mu_0}{s / \\sqrt{n-1}}$$\n",
    "其中：\n",
    "- $\\bar{X}$：样本均值\n",
    "- $\\mu_0$：总体均值\n",
    "- $s$：样本标准差\n",
    "- $n$：样本量"
   ]
  },
  {
   "cell_type": "markdown",
   "id": "5b1b0c13",
   "metadata": {},
   "source": [
    "### 代码实现"
   ]
  },
  {
   "cell_type": "markdown",
   "id": "4b07dd0d",
   "metadata": {},
   "source": [
    "#### 手工计算"
   ]
  },
  {
   "cell_type": "code",
   "execution_count": 5,
   "id": "73a2cf61",
   "metadata": {},
   "outputs": [
    {
     "name": "stdout",
     "output_type": "stream",
     "text": [
      "样本均值: 32.7000\n",
      "样本标准差: 2.7946\n",
      "t 统计量: 4.2113\n",
      "自由度: 19\n",
      "单尾 P 值: 0.0002\n",
      "✅ 拒绝零假设：新功能显著提升了学习时长\n"
     ]
    }
   ],
   "source": [
    "import numpy as np\n",
    "from scipy.stats import t\n",
    "\n",
    "# 样本数据\n",
    "data = np.array([32, 35, 31, 28, 36, 29, 30, 34, 38, 31,\n",
    "                 33, 30, 29, 37, 35, 33, 34, 36, 31, 32])\n",
    "\n",
    "# 样本统计\n",
    "n = len(data)\n",
    "x_bar = np.mean(data)        # 样本均值\n",
    "s = np.std(data)     # 样本标准差\n",
    "mu_0 = 30                    # 历史平均值\n",
    "\n",
    "# t 统计量计算\n",
    "t_stat = (x_bar - mu_0) / (s / np.sqrt(n-1))\n",
    "\n",
    "# 自由度\n",
    "df = n - 1\n",
    "\n",
    "# 单尾 P 值（右尾）\n",
    "p_value = 1 - t.cdf(t_stat, df)\n",
    "\n",
    "# 输出结果\n",
    "print(f\"样本均值: {x_bar:.4f}\")\n",
    "print(f\"样本标准差: {s:.4f}\")\n",
    "print(f\"t 统计量: {t_stat:.4f}\")\n",
    "print(f\"自由度: {df}\")\n",
    "print(f\"单尾 P 值: {p_value:.4f}\")\n",
    "\n",
    "# 结论判断\n",
    "alpha = 0.05\n",
    "if p_value < alpha:\n",
    "    print(\"✅ 拒绝零假设：新功能显著提升了学习时长\")\n",
    "else:\n",
    "    print(\"🚫 不能拒绝零假设：新功能效果不显著\")\n"
   ]
  },
  {
   "cell_type": "markdown",
   "id": "6751e876",
   "metadata": {},
   "source": [
    "#### `ttest_1samp`实现"
   ]
  },
  {
   "cell_type": "markdown",
   "id": "544d2666",
   "metadata": {},
   "source": [
    "`ttest_1samp()`\n",
    "   - `a`: 样本数据\n",
    "   - `popmean`: 要检验的总体均值\n",
    "   - `nan_policy`: 如何处理 NaN 值：\n",
    "        - `propagate`：结果为 NaN\n",
    "        - `omit`：忽略 NaN\n",
    "        - `raise`：抛出错误\n",
    "   - `alternative`: 备择假设的类型\n",
    "       - `two-sided`：双尾检验（默认）\n",
    "       - `greater`：右尾检验（备择假设中检验参数是否显著大于某个值）\n",
    "       - `less`：左尾检验（备择假设中检验参数是否显著小于某个值）"
   ]
  },
  {
   "cell_type": "code",
   "execution_count": 6,
   "id": "33384744",
   "metadata": {
    "scrolled": true
   },
   "outputs": [
    {
     "name": "stdout",
     "output_type": "stream",
     "text": [
      "t 统计量: 4.2113\n",
      "单尾 P 值: 0.0002\n",
      "✅ 拒绝零假设：新功能显著提升了学习时长\n"
     ]
    }
   ],
   "source": [
    "import numpy as np\n",
    "from scipy.stats import ttest_1samp\n",
    "\n",
    "# 用户学习时长样本（单位：分钟）\n",
    "data = [32, 35, 31, 28, 36, 29, 30, 34, 38, 31,\n",
    "        33, 30, 29, 37, 35, 33, 34, 36, 31, 32]\n",
    "\n",
    "# 假设历史平均值为 30 分钟\n",
    "mu_0 = 30\n",
    "\n",
    "# 执行单样本 t 检验（默认双尾）\n",
    "t_stat, p_value = ttest_1samp(data, popmean=mu_0, alternative='greater')\n",
    "\n",
    "# 显著性水平\n",
    "alpha = 0.05\n",
    "\n",
    "# 输出结果\n",
    "print(f\"t 统计量: {t_stat:.4f}\")\n",
    "print(f\"单尾 P 值: {p_value:.4f}\")\n",
    "\n",
    "# 结论\n",
    "if p_value < alpha:\n",
    "    print(\"✅ 拒绝零假设：新功能显著提升了学习时长\")\n",
    "else:\n",
    "    print(\"🚫 不能拒绝零假设：新功能提升不显著\")"
   ]
  },
  {
   "cell_type": "markdown",
   "id": "e3b0eb2b",
   "metadata": {},
   "source": [
    "## 双尾检验"
   ]
  },
  {
   "cell_type": "markdown",
   "id": "83ecf1e5",
   "metadata": {},
   "source": [
    "### 案例背景\n",
    "你在某电商平台工作，团队最近优化了商品详情页的加载逻辑，声称此优化不会改变用户平均浏览时长。\n",
    "\n",
    "你希望检验该优化是否真的没有影响用户的单次页面浏览时长。\n",
    "- 历史平均页面浏览时长：μ₀ = 45 秒\n",
    "- 你采集了实验组 20 位用户的数据，记录如下（单位：秒）：\n",
    "\n",
    "`[47, 42, 46, 45, 43, 49, 40, 44, 48, 46, 41, 45, 47, 42, 43, 44, 46, 47, 45, 43]`"
   ]
  },
  {
   "cell_type": "markdown",
   "id": "22fb7529",
   "metadata": {},
   "source": [
    "### 确定假设\n",
    "- **零假设（$H_0$）**：新加载逻辑无影响，即$\\mu = 45$\n",
    "- **备择假设（$H_1$）**：新加载逻辑有影响，即$\\mu \\ne 45$"
   ]
  },
  {
   "cell_type": "markdown",
   "id": "7f1fb64c",
   "metadata": {},
   "source": [
    "### 计算检验统计量\n",
    "$$t = \\frac{\\bar{X} - \\mu_0}{s / \\sqrt{n-1}}$$\n",
    "其中：\n",
    "- $\\bar{X}$：样本均值\n",
    "- $\\mu_0$：总体均值\n",
    "- $s$：样本标准差\n",
    "- $n$：样本量"
   ]
  },
  {
   "cell_type": "markdown",
   "id": "1eb26d75",
   "metadata": {},
   "source": [
    "### 代码实现"
   ]
  },
  {
   "cell_type": "markdown",
   "id": "0089871a",
   "metadata": {},
   "source": [
    "#### 手工计算"
   ]
  },
  {
   "cell_type": "code",
   "execution_count": 7,
   "id": "1a747f42",
   "metadata": {},
   "outputs": [
    {
     "name": "stdout",
     "output_type": "stream",
     "text": [
      "样本均值: 44.65\n",
      "样本标准差: 2.3511\n",
      "t 值: -0.6489\n",
      "P 值（双尾）: 0.5242\n",
      "✅ 页面加载优化无显著影响（不拒绝 H₀）\n"
     ]
    }
   ],
   "source": [
    "import numpy as np\n",
    "from scipy.stats import t\n",
    "\n",
    "# 数据\n",
    "data = np.array([47, 42, 46, 45, 43, 49, 40, 44, 48, 46,\n",
    "                 41, 45, 47, 42, 43, 44, 46, 47, 45, 43])\n",
    "\n",
    "# 参数\n",
    "mu_0 = 45\n",
    "n = len(data)\n",
    "x_bar = np.mean(data)\n",
    "s = np.std(data)  # 样本标准差（无偏）\n",
    "\n",
    "# t 值\n",
    "t_stat = (x_bar - mu_0) / (s / np.sqrt(n-1))\n",
    "df = n - 1\n",
    "\n",
    "# 双尾 P 值\n",
    "p_value = 2 * (1 - t.cdf(np.abs(t_stat), df))\n",
    "\n",
    "# 输出\n",
    "print(f\"样本均值: {x_bar:.2f}\")\n",
    "print(f\"样本标准差: {s:.4f}\")\n",
    "print(f\"t 值: {t_stat:.4f}\")\n",
    "print(f\"P 值（双尾）: {p_value:.4f}\")\n",
    "\n",
    "# 显著性判断\n",
    "alpha = 0.05\n",
    "if p_value < alpha:\n",
    "    print(\"🚨 页面加载优化有显著影响（拒绝 H₀）\")\n",
    "else:\n",
    "    print(\"✅ 页面加载优化无显著影响（不拒绝 H₀）\")"
   ]
  },
  {
   "cell_type": "markdown",
   "id": "e30dfb03",
   "metadata": {},
   "source": [
    "#### `ttest_1samp`实现"
   ]
  },
  {
   "cell_type": "code",
   "execution_count": 11,
   "id": "5fde969b",
   "metadata": {},
   "outputs": [
    {
     "name": "stdout",
     "output_type": "stream",
     "text": [
      "样本均值: 44.65\n",
      "t 值: -0.6489\n",
      "P 值（双尾）: 0.5242\n",
      "✅ 页面加载优化无显著影响（不拒绝 H₀）\n"
     ]
    }
   ],
   "source": [
    "import numpy as np\n",
    "from scipy.stats import ttest_1samp\n",
    "\n",
    "# 实验组数据（秒）\n",
    "data = [47, 42, 46, 45, 43, 49, 40, 44, 48, 46,\n",
    "        41, 45, 47, 42, 43, 44, 46, 47, 45, 43]\n",
    "\n",
    "# 零假设：μ = 45 秒\n",
    "mu_0 = 45\n",
    "\n",
    "# 执行双尾单样本 t 检验\n",
    "result = ttest_1samp(data, popmean=mu_0, alternative='two-sided')\n",
    "\n",
    "# 输出结果\n",
    "print(f\"样本均值: {np.mean(data):.2f}\")\n",
    "print(f\"t 值: {result.statistic:.4f}\")\n",
    "print(f\"P 值（双尾）: {result.pvalue:.4f}\")\n",
    "\n",
    "# 显著性水平\n",
    "alpha = 0.05\n",
    "if result.pvalue < alpha:\n",
    "    print(\"🚨 页面加载优化有显著影响（拒绝 H₀）\")\n",
    "else:\n",
    "    print(\"✅ 页面加载优化无显著影响（不拒绝 H₀）\")\n"
   ]
  },
  {
   "cell_type": "code",
   "execution_count": 9,
   "id": "7efd472d",
   "metadata": {},
   "outputs": [
    {
     "data": {
      "text/plain": [
       "TtestResult(statistic=-0.6489040268035117, pvalue=0.5241671704701256, df=19)"
      ]
     },
     "execution_count": 9,
     "metadata": {},
     "output_type": "execute_result"
    }
   ],
   "source": [
    "result"
   ]
  },
  {
   "cell_type": "code",
   "execution_count": null,
   "id": "4e8db3fa",
   "metadata": {},
   "outputs": [],
   "source": []
  },
  {
   "cell_type": "code",
   "execution_count": null,
   "id": "1dabeebe",
   "metadata": {},
   "outputs": [],
   "source": []
  },
  {
   "cell_type": "code",
   "execution_count": null,
   "id": "daaa369a",
   "metadata": {},
   "outputs": [],
   "source": []
  }
 ],
 "metadata": {
  "kernelspec": {
   "display_name": "Python 3 (ipykernel)",
   "language": "python",
   "name": "python3"
  },
  "language_info": {
   "codemirror_mode": {
    "name": "ipython",
    "version": 3
   },
   "file_extension": ".py",
   "mimetype": "text/x-python",
   "name": "python",
   "nbconvert_exporter": "python",
   "pygments_lexer": "ipython3",
   "version": "3.12.2"
  },
  "toc": {
   "base_numbering": 1,
   "nav_menu": {},
   "number_sections": true,
   "sideBar": true,
   "skip_h1_title": false,
   "title_cell": "Table of Contents",
   "title_sidebar": "Contents",
   "toc_cell": false,
   "toc_position": {
    "height": "calc(100% - 180px)",
    "left": "10px",
    "top": "150px",
    "width": "288px"
   },
   "toc_section_display": true,
   "toc_window_display": true
  }
 },
 "nbformat": 4,
 "nbformat_minor": 5
}
