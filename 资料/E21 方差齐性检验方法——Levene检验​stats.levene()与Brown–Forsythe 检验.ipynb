{
 "cells": [
  {
   "cell_type": "markdown",
   "id": "7b3f597b",
   "metadata": {},
   "source": [
    "# 方差齐性检验方法\n",
    "**方差齐性（Homoscedasticity）**指不同组别的数据方差相等，是许多统计方法（如t检验、ANOVA、线性回归）的前提假设。若方差不齐（Heteroscedasticity），可能导致结果偏差。"
   ]
  },
  {
   "cell_type": "markdown",
   "id": "b4eca5ce",
   "metadata": {},
   "source": [
    "## Levene检验"
   ]
  },
  {
   "cell_type": "markdown",
   "id": "a703cfb8",
   "metadata": {},
   "source": [
    "### 基本原理\n",
    "**Levene检验**是一种用于检验多组数据方差是否相等（方差齐性）的非参数方法，其核心思想是通过比较各组中数据与各组中心位置（通常是均值、中位数或截尾均值）的偏差的大小是否有显著差异来检验方差是否相等。\n",
    "- 如果各组的方差相等，那么它们偏离中心位置的平均偏差应该也差不多。\n",
    "- 如果某一组的变异性更大，它偏离中心的位置的程度也会更大。"
   ]
  },
  {
   "cell_type": "markdown",
   "id": "6bbfa083",
   "metadata": {},
   "source": [
    "### 适用场景\n",
    "- 连续型数据的方差齐性检验，作为参数检验的前提检查"
   ]
  },
  {
   "cell_type": "markdown",
   "id": "aef0b87a",
   "metadata": {},
   "source": [
    "### 零假设与备择假设\n",
    "- 零假设（$H_0$）：各组的方差相等（方差齐性）\n",
    "- 备择假设（$H_1$）：至少有两组的方差不相等（方差不齐）"
   ]
  },
  {
   "cell_type": "markdown",
   "id": "6d6430c0",
   "metadata": {},
   "source": [
    "### 检验统计量&检验步骤\n",
    "设有$k$个组，每组有$n_i$个观测值，总样本量为$N = \\sum_{i=1}^k n_i$。\n",
    "- **选择中心位置指标**：\n",
    "    - Levene 方法使用均值\n",
    "    - Brown–Forsythe 使用 中位数（median）\n",
    "    - 记每组的中心位置为$\\tilde{Y}_i$。 \n",
    "- **计算每个观测值与其组内中心位置的偏离的绝对值**：\n",
    "$$Z_{ij} = | Y_{ij} - \\tilde{Y}_i |$$\n",
    "- **对所有$Z_{ij}$进行单因素方差分析（ANOVA）**：\n",
    "    - 检验不同组的$Z_{ij}$是否显著不同。 \n",
    "    - 检验统计量为：\n",
    "$$W = \\frac{(N - k)}{(k - 1)} \\cdot \\frac{\\sum_{i=1}^k n_i (\\bar{Z}_i - \\bar{Z})^2}{\\sum_{i=1}^k \\sum_{j=1}^{n_i} (Z_{ij} - \\bar{Z}_i)^2}$$\n",
    "    其中：\n",
    "        - $\\bar{Z}_i$：第$i$组的平均偏差 \n",
    "        - $\\bar{Z}$：所有组的平均偏差 \n",
    "- $W$统计量近似服从$F $分布，自由度为$k - 1$与$N - k$。 "
   ]
  },
  {
   "cell_type": "markdown",
   "id": "0bc9fafc",
   "metadata": {},
   "source": [
    "### Levene检验实际案例"
   ]
  },
  {
   "cell_type": "markdown",
   "id": "7a1df9d0",
   "metadata": {},
   "source": [
    "#### 案例背景\n",
    "某电商平台进行AB测试，比较新旧推荐算法对用户页面停留时间（秒）的影响：\n",
    "- A组（旧算法）：500名用户\n",
    "- B组（新算法）：500名用户\n",
    "- 问题：需要检验两组用户的停留时间方差是否相等"
   ]
  },
  {
   "cell_type": "code",
   "execution_count": 11,
   "id": "d988ca5e",
   "metadata": {},
   "outputs": [
    {
     "data": {
      "text/html": [
       "<div>\n",
       "<style scoped>\n",
       "    .dataframe tbody tr th:only-of-type {\n",
       "        vertical-align: middle;\n",
       "    }\n",
       "\n",
       "    .dataframe tbody tr th {\n",
       "        vertical-align: top;\n",
       "    }\n",
       "\n",
       "    .dataframe thead th {\n",
       "        text-align: right;\n",
       "    }\n",
       "</style>\n",
       "<table border=\"1\" class=\"dataframe\">\n",
       "  <thead>\n",
       "    <tr style=\"text-align: right;\">\n",
       "      <th></th>\n",
       "      <th>Stay_Time</th>\n",
       "      <th>Group</th>\n",
       "    </tr>\n",
       "  </thead>\n",
       "  <tbody>\n",
       "    <tr>\n",
       "      <th>0</th>\n",
       "      <td>54.967142</td>\n",
       "      <td>A</td>\n",
       "    </tr>\n",
       "    <tr>\n",
       "      <th>1</th>\n",
       "      <td>48.617357</td>\n",
       "      <td>A</td>\n",
       "    </tr>\n",
       "    <tr>\n",
       "      <th>2</th>\n",
       "      <td>56.476885</td>\n",
       "      <td>A</td>\n",
       "    </tr>\n",
       "    <tr>\n",
       "      <th>3</th>\n",
       "      <td>65.230299</td>\n",
       "      <td>A</td>\n",
       "    </tr>\n",
       "    <tr>\n",
       "      <th>4</th>\n",
       "      <td>47.658466</td>\n",
       "      <td>A</td>\n",
       "    </tr>\n",
       "    <tr>\n",
       "      <th>...</th>\n",
       "      <td>...</td>\n",
       "      <td>...</td>\n",
       "    </tr>\n",
       "    <tr>\n",
       "      <th>995</th>\n",
       "      <td>44.377994</td>\n",
       "      <td>B</td>\n",
       "    </tr>\n",
       "    <tr>\n",
       "      <th>996</th>\n",
       "      <td>85.953731</td>\n",
       "      <td>B</td>\n",
       "    </tr>\n",
       "    <tr>\n",
       "      <th>997</th>\n",
       "      <td>62.816857</td>\n",
       "      <td>B</td>\n",
       "    </tr>\n",
       "    <tr>\n",
       "      <th>998</th>\n",
       "      <td>38.576420</td>\n",
       "      <td>B</td>\n",
       "    </tr>\n",
       "    <tr>\n",
       "      <th>999</th>\n",
       "      <td>61.451656</td>\n",
       "      <td>B</td>\n",
       "    </tr>\n",
       "  </tbody>\n",
       "</table>\n",
       "<p>1000 rows × 2 columns</p>\n",
       "</div>"
      ],
      "text/plain": [
       "     Stay_Time Group\n",
       "0    54.967142     A\n",
       "1    48.617357     A\n",
       "2    56.476885     A\n",
       "3    65.230299     A\n",
       "4    47.658466     A\n",
       "..         ...   ...\n",
       "995  44.377994     B\n",
       "996  85.953731     B\n",
       "997  62.816857     B\n",
       "998  38.576420     B\n",
       "999  61.451656     B\n",
       "\n",
       "[1000 rows x 2 columns]"
      ]
     },
     "execution_count": 11,
     "metadata": {},
     "output_type": "execute_result"
    }
   ],
   "source": [
    "import numpy as np\n",
    "import pandas as pd\n",
    "import matplotlib.pyplot as plt\n",
    "import seaborn as sns\n",
    "from scipy.stats import levene, ttest_ind\n",
    "\n",
    "# 设置随机种子\n",
    "np.random.seed(42)\n",
    "\n",
    "# 模拟数据：A组（方差小），B组（方差大）\n",
    "group_A = np.random.normal(loc=50, scale=10, size=500)  # 均值50，标准差10\n",
    "group_B = np.random.normal(loc=50, scale=20, size=500)  # 均值50，标准差20\n",
    "\n",
    "# 合并为DataFrame\n",
    "df = pd.DataFrame({\n",
    "    'Stay_Time': np.concatenate([group_A, group_B]),\n",
    "    'Group': ['A'] * 500 + ['B'] * 500\n",
    "})\n",
    "\n",
    "df"
   ]
  },
  {
   "cell_type": "markdown",
   "id": "f0143126",
   "metadata": {},
   "source": [
    "#### 确定假设\n",
    "- 零假设（$H_0$）：两组用户的停留时间方差相等\n",
    "- 备择假设（$H_1$）：两组用户的停留时间方差不相等"
   ]
  },
  {
   "cell_type": "markdown",
   "id": "57de5fcf",
   "metadata": {},
   "source": [
    "#### `stats.levene()`\n",
    "- 输入参数\n",
    "   - `samples`: 要比较的两个或多个样本数组\n",
    "   - `center`: 用于计算偏差的中心指标\n",
    "        - `mean`：原始 Levene 方法\n",
    "        - `median`：Brown–Forsythe 检验\n",
    "        - `trimmed`：截尾均值\n",
    "   - `proportiontocut`: 如果 center=`trimmed`，表示截尾比例（如0.05表示两边各截掉5%）\n",
    "   - `axis`: 数据沿哪个轴比较（默认 0，即按列比较）\n",
    "   - `nan_policy`: 如何处理 NaN 值：\n",
    "        - `propagate`：结果为 NaN\n",
    "        - `omit`：忽略 NaN\n",
    "        - `raise`：抛出错误\n",
    "- 返回值\n",
    "    - `statistic`: Levene 检验的 F 统计量\n",
    "    - `p`: p值"
   ]
  },
  {
   "cell_type": "markdown",
   "id": "c7bd88ef",
   "metadata": {},
   "source": [
    "#### `stats.levene`代码实现"
   ]
  },
  {
   "cell_type": "code",
   "execution_count": 12,
   "id": "7a917622",
   "metadata": {},
   "outputs": [
    {
     "name": "stdout",
     "output_type": "stream",
     "text": [
      "Levene检验统计量: 173.866, p值: 0.0000\n",
      "结论：拒绝原假设，认为两组方差不相等（不满足方差齐性）\n"
     ]
    }
   ],
   "source": [
    "from scipy.stats import levene\n",
    "\n",
    "# Levene检验（均值离差）\n",
    "stat, p = levene(group_A, group_B, center='mean')\n",
    "\n",
    "print(f\"Levene检验统计量: {stat:.3f}, p值: {p:.4f}\")\n",
    "\n",
    "# 根据p值判断方差齐性\n",
    "alpha = 0.05\n",
    "if p > alpha:\n",
    "    print(\"结论：不能拒绝原假设，认为两组方差相等（满足方差齐性）\")\n",
    "else:\n",
    "    print(\"结论：拒绝原假设，认为两组方差不相等（不满足方差齐性）\")"
   ]
  },
  {
   "cell_type": "markdown",
   "id": "e4eaff5b",
   "metadata": {},
   "source": [
    "## Brown–Forsythe 检验"
   ]
  },
  {
   "cell_type": "markdown",
   "id": "8f024444",
   "metadata": {},
   "source": [
    "### 基本原理\n",
    "**Brown-Forsythe检验**是一种用于检验多组数据方差齐性（Homogeneity of Variance）的非参数方法，由Morton Brown和Alan Forsythe于1974年提出。它是Levene检验的改进版本，通过使用中位数离差替代均值离差，对非正态数据和异常值具有更强的鲁棒性。\n",
    "- Brown-Forsythe检验的核心思想是通过比较各组数据中位数绝对离差（Median Absolute Deviation, MAD）的差异，判断方差是否相等。"
   ]
  },
  {
   "cell_type": "markdown",
   "id": "85de6726",
   "metadata": {},
   "source": [
    "### 零假设与备择假设\n",
    "- 零假设（$H_0$）：各组的方差相等（方差齐性）\n",
    "- 备择假设（$H_1$）：至少有两组的方差不相等（方差不齐）"
   ]
  },
  {
   "cell_type": "markdown",
   "id": "8030bebb",
   "metadata": {},
   "source": [
    "### 检验统计量&检验步骤\n",
    "设有$k$个组，每组有$n_i$个观测值，总样本量为$N = \\sum_{i=1}^k n_i$。\n",
    "- **选择中心位置指标**：\n",
    "    - Levene 方法使用均值\n",
    "    - Brown–Forsythe 使用 中位数（median）\n",
    "    - 记每组的中心位置为$\\tilde{Y}_i$。 \n",
    "- **计算每个观测值与其组内中心位置的偏离的绝对值**：\n",
    "$$Z_{ij} = | Y_{ij} - \\tilde{Y}_i |$$\n",
    "- **对所有$Z_{ij}$进行单因素方差分析（ANOVA）**：\n",
    "    - 检验不同组的$Z_{ij}$是否显著不同。 \n",
    "    - 检验统计量为：\n",
    "$$W = \\frac{(N - k)}{(k - 1)} \\cdot \\frac{\\sum_{i=1}^k n_i (\\bar{Z}_i - \\bar{Z})^2}{\\sum_{i=1}^k \\sum_{j=1}^{n_i} (Z_{ij} - \\bar{Z}_i)^2}$$\n",
    "    其中：\n",
    "        - $\\bar{Z}_i$：第$i$组的平均偏差 \n",
    "        - $\\bar{Z}$：所有组的平均偏差 \n",
    "- $W$统计量近似服从$F $分布，自由度为$k - 1$与$N - k$。 "
   ]
  },
  {
   "cell_type": "markdown",
   "id": "c7b1eacd",
   "metadata": {},
   "source": [
    "### Brown-Forsythe检验实际案例"
   ]
  },
  {
   "cell_type": "markdown",
   "id": "14bb51b6",
   "metadata": {},
   "source": [
    "#### 案例背景\n",
    "某电商平台进行AB测试，比较新旧推荐算法对用户页面停留时间（秒）的影响：\n",
    "- A组（旧算法）：500名用户\n",
    "- B组（新算法）：500名用户\n",
    "- 问题：需要检验两组用户的停留时间方差是否相等"
   ]
  },
  {
   "cell_type": "markdown",
   "id": "63e82778",
   "metadata": {},
   "source": [
    "#### 确定假设\n",
    "- 零假设（$H_0$）：两组用户的停留时间方差相等\n",
    "- 备择假设（$H_1$）：两组用户的停留时间方差不相等"
   ]
  },
  {
   "cell_type": "markdown",
   "id": "f7e7a2a4",
   "metadata": {},
   "source": [
    "#### `stats.levene`代码实现"
   ]
  },
  {
   "cell_type": "code",
   "execution_count": 13,
   "id": "1ab1d750",
   "metadata": {},
   "outputs": [
    {
     "name": "stdout",
     "output_type": "stream",
     "text": [
      "Brown-Forsythe检验统计量: 173.837, p值: 0.0000\n",
      "结论：拒绝原假设，认为两组方差不相等（不满足方差齐性）\n"
     ]
    }
   ],
   "source": [
    "from scipy.stats import levene\n",
    "\n",
    "# Brown-Forsythe检验（中位数离差）\n",
    "stat, p = levene(group_A, group_B, center='median')\n",
    "\n",
    "print(f\"Brown-Forsythe检验统计量: {stat:.3f}, p值: {p:.4f}\")\n",
    "\n",
    "# 根据p值判断方差齐性\n",
    "alpha = 0.05\n",
    "if p > alpha:\n",
    "    print(\"结论：不能拒绝原假设，认为两组方差相等（满足方差齐性）\")\n",
    "else:\n",
    "    print(\"结论：拒绝原假设，认为两组方差不相等（不满足方差齐性）\")"
   ]
  },
  {
   "cell_type": "code",
   "execution_count": null,
   "id": "0485f3b7",
   "metadata": {},
   "outputs": [],
   "source": []
  },
  {
   "cell_type": "code",
   "execution_count": null,
   "id": "002c5476",
   "metadata": {},
   "outputs": [],
   "source": []
  },
  {
   "cell_type": "code",
   "execution_count": null,
   "id": "2e59ff94",
   "metadata": {},
   "outputs": [],
   "source": []
  }
 ],
 "metadata": {
  "kernelspec": {
   "display_name": "Python 3 (ipykernel)",
   "language": "python",
   "name": "python3"
  },
  "language_info": {
   "codemirror_mode": {
    "name": "ipython",
    "version": 3
   },
   "file_extension": ".py",
   "mimetype": "text/x-python",
   "name": "python",
   "nbconvert_exporter": "python",
   "pygments_lexer": "ipython3",
   "version": "3.12.2"
  },
  "toc": {
   "base_numbering": 1,
   "nav_menu": {},
   "number_sections": true,
   "sideBar": true,
   "skip_h1_title": false,
   "title_cell": "Table of Contents",
   "title_sidebar": "Contents",
   "toc_cell": false,
   "toc_position": {
    "height": "calc(100% - 180px)",
    "left": "10px",
    "top": "150px",
    "width": "288px"
   },
   "toc_section_display": true,
   "toc_window_display": true
  }
 },
 "nbformat": 4,
 "nbformat_minor": 5
}
