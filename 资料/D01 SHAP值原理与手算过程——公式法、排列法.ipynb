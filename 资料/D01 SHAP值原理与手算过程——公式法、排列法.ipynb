{
 "cells": [
  {
   "cell_type": "markdown",
   "id": "92f879b7",
   "metadata": {},
   "source": [
    "# SHAP值"
   ]
  },
  {
   "cell_type": "markdown",
   "id": "1233d903",
   "metadata": {},
   "source": [
    "## SHAP值的基本原理\n",
    "**SHAP(SHapley Additive exPlanations)**是一种基于博弈论的解释机器学习模型输出的方法。它的核心思想来源于博弈论中的Shapley值概念，用于公平地分配合作博弈中各个玩家的贡献。\n",
    "\n",
    "在机器学习模型中：\n",
    "- 每个特征被视为一个\"玩家\"\n",
    "- 模型的预测结果被视为\"游戏收益\"\n",
    "- SHAP值就是计算每个特征对预测结果的\"边际贡献\""
   ]
  },
  {
   "cell_type": "markdown",
   "id": "e045ee06",
   "metadata": {},
   "source": [
    "## SHAP值的主要特点：\n",
    "   - **一致性**：如果模型改变使得某个特征更重要，其SHAP值会相应增加\n",
    "   - **准确性**：所有特征的SHAP值之和等于模型预测与平均预测的差值\n",
    "   - **可加性**：多个特征的SHAP值可以相加来理解它们的组合效应\n",
    "   - **可解释性**：SHAP值方法特别适用于对深度神经网络等黑箱模型的解释"
   ]
  },
  {
   "cell_type": "markdown",
   "id": "2504727e",
   "metadata": {},
   "source": [
    "## SHAP值的优缺点\n",
    "\n",
    "- **优点**\n",
    "\n",
    "| 优点                   | 说明                           |\n",
    "| -------------------- | ---------------------------- |\n",
    "| **理论保证**             | 基于博弈论，具有公平性、一致性等数学性质         |\n",
    "| **通用性**              | 可用于任意机器学习模型（如 tree、NN、SVM）   |\n",
    "| **局部解释**             | 可以解释每一个单独预测值                 |\n",
    "| **全局解释**             | 聚合 SHAP 值可提供特征重要性排名          |\n",
    "| **一致性（Consistency）** | 如果模型改进后某特征的影响变大，其 SHAP 值也会一致变大 |\n",
    "\n",
    "- **缺点**\n",
    "\n",
    "| 缺点           | 说明                           |\n",
    "| ------------ | ---------------------------- |\n",
    "| **计算复杂**     | 计算成本指数级，消耗资源较大        |\n",
    "| **特征依赖性问题**  | 默认特征相互独立，可能不适用于强相关特征         |\n",
    "| **可解释性误用风险** | 对模型机制不了解可能误解 SHAP 的意义        |\n"
   ]
  },
  {
   "cell_type": "markdown",
   "id": "2bdccf27",
   "metadata": {},
   "source": [
    "## SHAP值的适用场景\n",
    "\n",
    "| 场景       | 示例                        |\n",
    "| -------- | ------------------------- |\n",
    "| **模型调试** | 了解模型是否学习了错误特征             |\n",
    "| **特征选择** | 根据全局 SHAP 值筛选重要特征         |\n",
    "| **监管解释** | 银行/医疗等对可解释性有要求的行业         |\n",
    "| **客户报告** | 向非技术人员解释模型为什么做出某个预测       |\n",
    "| **异常检测** | 对 SHAP 值分布分析，发现异常样本或过拟合特征 |\n"
   ]
  },
  {
   "cell_type": "markdown",
   "id": "397c2175",
   "metadata": {},
   "source": [
    "# SHAP值手算详解"
   ]
  },
  {
   "cell_type": "markdown",
   "id": "b12d46ab",
   "metadata": {},
   "source": [
    "## 数据准备"
   ]
  },
  {
   "cell_type": "markdown",
   "id": "0d8e515f",
   "metadata": {},
   "source": [
    "### 信用卡审批预测模型"
   ]
  },
  {
   "cell_type": "markdown",
   "id": "00d771d2",
   "metadata": {},
   "source": [
    "假设银行使用机器学习模型预测信用卡审批结果，模型考虑以下3个特征：\n",
    "\n",
    "- **收入（Income）**：单位万元\n",
    "- **负债率（DebtRatio）**：百分比\n",
    "- **信用历史（CreditAge）**：年数\n",
    "- 已知某申请人数据：Income=8, DebtRatio=30%, CreditAge=5\n",
    "- 模型预测该申请人通过概率为65%。现需计算各特征的SHAP值贡献。"
   ]
  },
  {
   "cell_type": "markdown",
   "id": "767b20ff",
   "metadata": {},
   "source": [
    "### 定义基准值和特征组合"
   ]
  },
  {
   "cell_type": "markdown",
   "id": "930b2e08",
   "metadata": {},
   "source": [
    "**基准值（空集）**：模型对无任何特征的基准预测为40%（即$E[f(X)]=0.4$）\n",
    "\n",
    "**所有特征组合**：\n",
    "- {Income}\n",
    "- {DebtRatio}\n",
    "- {CreditAge}\n",
    "- {Income, DebtRatio}\n",
    "- {Income, CreditAge}\n",
    "- {DebtRatio, CreditAge}\n",
    "- {Income, DebtRatio, CreditAge}\n",
    "\n",
    "**模型对各组合的预测值**\n",
    "\n",
    "| 特征组合               | 预测概率 |\n",
    "|------------------------|----------|\n",
    "| ∅（空集）              | 40%      |\n",
    "| {Income=8}               | 55%      |\n",
    "| {DebtRatio=30}            | 35%      |\n",
    "| {CreditAge=5}            | 45%      |\n",
    "| {Income=8, DebtRatio=30}    | 60%      |\n",
    "| {Income=8, CreditAge=5}    | 70%      |\n",
    "| {DebtRatio=30, CreditAge=5} | 50%      |\n",
    "| {Income=8, DebtRatio=30, CreditAge=5}               | 65%      |\n"
   ]
  },
  {
   "cell_type": "markdown",
   "id": "3759be17",
   "metadata": {},
   "source": [
    "## SHAP值手算方法——公式法（加权平均公式法）"
   ]
  },
  {
   "cell_type": "markdown",
   "id": "3d5d6626",
   "metadata": {},
   "source": [
    "### SHAP值的数学公式\n",
    "SHAP值的计算公式如下：\n",
    "$$\\phi_i = \\sum_{S \\subseteq N \\setminus \\{i\\}} \\frac{|S|!(|N|-|S|-1)!}{|N|!} \\cdot \\left[f(S \\cup \\{i\\}) - f(S)\\right]$$\n",
    "其中：\n",
    "- $\\phi_i$：特征$i$的SHAP值\n",
    "- $f$：机器学习模型\n",
    "- $S$：除去特征$i$的特征子集\n",
    "- $N$：所有特征集合\n",
    "- $|N|$：总特征数量\n",
    "- $f(S \\cup \\{i\\})$：模型在特征子集$S$与特征$i$的预测值\n",
    "- $f(S)$：模型在特征子集$S$的预测值\n",
    "\n",
    "公式可以分解为三部分：\n",
    "- **排列组合权重**：$\\frac{|S|!(|N|-|S|-1)!}{|N|!}$ 表示不同特征顺序的重要性权重\n",
    "- **边际贡献**：$\\left[f(S \\cup \\{i\\}) - f(S)\\right]$表示加入特征$i$带来的预测变化\n",
    "- **加权求和**：对所有可能的特征子集进行加权求和"
   ]
  },
  {
   "cell_type": "markdown",
   "id": "c26c0470",
   "metadata": {},
   "source": [
    "### 公式权重求解"
   ]
  },
  {
   "cell_type": "markdown",
   "id": "3831fb27",
   "metadata": {},
   "source": [
    "给定一个特征$i$，其 SHAP 值为：\n",
    "$$\\phi_i = \\sum_{S \\subseteq N \\setminus \\{i\\}} \\frac{|S|!(|N|-|S|-1)!}{|N|!} \\cdot \\left[f(S \\cup \\{i\\}) - f(S)\\right]$$\n",
    "- $N$：所有特征集合，这里是 {Income, DebtRatio, CreditAge} \n",
    "- 总特征数 $|N| = 3$，则 $3! = 6$\n",
    " \n",
    "权重由子集大小决定：\n",
    " \n",
    "- |S|=0：权重 = $\\frac{0!2!}{6} = \\frac{2}{6}$ \n",
    "- |S|=1：权重 = $\\frac{1!1!}{6} = \\frac{1}{6}$ \n",
    "- |S|=2：权重 = $\\frac{2!0!}{6} = \\frac{2}{6}$ "
   ]
  },
  {
   "cell_type": "markdown",
   "id": "e950d754",
   "metadata": {},
   "source": [
    "### 分别计算 SHAP 值"
   ]
  },
  {
   "cell_type": "markdown",
   "id": "f2d8e01d",
   "metadata": {},
   "source": [
    "#### Income 的 SHAP 值"
   ]
  },
  {
   "cell_type": "markdown",
   "id": "aa0857da",
   "metadata": {},
   "source": [
    "子集$S \\subseteq \\{DebtRatio, CreditAge\\}$\n",
    "\n",
    "| 子集 S                 | 权重 | 边际贡献 f(S∪{Income})−f(S) |\n",
    "|-------------------------|------|-------------------------------|\n",
    "| ∅                       | 2/6  | 55% - 40% = +15%              |\n",
    "| {DebtRatio}             | 1/6  | 60% - 35% = +25%              |\n",
    "| {CreditAge}             | 1/6  | 70% - 45% = +25%              |\n",
    "| {DebtRatio, CreditAge}  | 2/6  | 65% - 50% = +15%              |\n",
    "\n",
    "$$\\phi_{Income} = \\frac{2}{6} \\cdot 15 + \\frac{1}{6} \\cdot 25 + \\frac{1}{6} \\cdot 25 + \\frac{2}{6} \\cdot 15 = \\frac{30 + 25 + 25 + 30}{6} = \\frac{110}{6} ≈ 18.3\\%$$"
   ]
  },
  {
   "cell_type": "markdown",
   "id": "9eeb905a",
   "metadata": {},
   "source": [
    "#### DebtRatio 的 SHAP 值"
   ]
  },
  {
   "cell_type": "markdown",
   "id": "9f7b2263",
   "metadata": {},
   "source": [
    "子集$S \\subseteq \\{Income, CreditAge\\}$\n",
    "\n",
    "| 子集 S              | 权重  | 边际贡献 f(S∪{DebtRatio})−f(S)         |\n",
    "|---------------------|-------|---------------------------------------------|\n",
    "| ∅                   | 2/6   | 35% - 40% = -5%                             |\n",
    "| {Income}            | 1/6   | 60% - 55% = +5%                             |\n",
    "| {CreditAge}         | 1/6   | 50% - 45% = +5%                             |\n",
    "| {Income, CreditAge} | 2/6   | 65% - 70% = -5%                             |\n",
    "\n",
    "\n",
    "$$\\phi_{DebtRatio} = \\frac{2}{6} \\cdot (-5) + \\frac{1}{6} \\cdot 5 + \\frac{1}{6} \\cdot 5 + \\frac{2}{6} \\cdot (-5) = \\frac{-10 + 5 + 5 -10}{6} = \\frac{-10}{6} ≈ -1.7\\%$$"
   ]
  },
  {
   "cell_type": "markdown",
   "id": "49fdc277",
   "metadata": {},
   "source": [
    "#### CreditAge 的 SHAP 值"
   ]
  },
  {
   "cell_type": "markdown",
   "id": "907898cd",
   "metadata": {},
   "source": [
    "子集$S \\subseteq \\{Income, DebtRatio\\}$\n",
    "\n",
    "| 子集 S              | 权重  |  边际贡献 f(S∪{CreditAge})−f(S)$               |\n",
    "|---------------------|-------|----------------------------------------------|\n",
    "| ∅                   | 2/6   | 45% - 40% = +5%                              |\n",
    "| {Income}            | 1/6   | 70% - 55% = +15%                             |\n",
    "| {DebtRatio}         | 1/6   | 50% - 35% = +15%                             |\n",
    "| {Income, DebtRatio} | 2/6   | 65% - 60% = +5%                              |\n",
    "\n",
    "$$\\phi_{CreditAge} = \\frac{2}{6} \\cdot 5 + \\frac{1}{6} \\cdot 15 + \\frac{1}{6} \\cdot 15 + \\frac{2}{6} \\cdot 5 = \\frac{10 + 15 + 15 + 10}{6} = \\frac{50}{6} ≈ 8.3\\%$$"
   ]
  },
  {
   "cell_type": "markdown",
   "id": "7e05b481",
   "metadata": {},
   "source": [
    "### 最终 SHAP 值结果"
   ]
  },
  {
   "cell_type": "markdown",
   "id": "90e36a68",
   "metadata": {},
   "source": [
    "| 特征        | SHAP 值 |\n",
    "| --------- | ------ |\n",
    "| Income    | +18.3% |\n",
    "| DebtRatio | -1.7%  |\n",
    "| CreditAge | +8.3%  |\n",
    "\n",
    "**加总验证**：\n",
    "- $40\\%（基准： ∅（空集）） + 18.3\\% - 1.7\\% + 8.3\\% = 64.9\\% ≈ 65\\%$\n",
    "\n",
    "✅ 与模型输出一致，验证计算正确！"
   ]
  },
  {
   "cell_type": "markdown",
   "id": "6ea5582a",
   "metadata": {},
   "source": [
    "## SHAP值手算方法——排列法（边际贡献法）"
   ]
  },
  {
   "cell_type": "markdown",
   "id": "84f4a732",
   "metadata": {},
   "source": [
    "- 枚举所有特征加入顺序（共$n!$个排列）。\n",
    "- 每一条顺序中，记录某个特征加入时对模型输出带来的边际贡献。\n",
    "- 对该特征在所有顺序中的贡献取平均，就是该特征的 SHAP 值。"
   ]
  },
  {
   "cell_type": "markdown",
   "id": "9942e2f3",
   "metadata": {},
   "source": [
    "### 计算所有排列的边际贡献"
   ]
  },
  {
   "cell_type": "markdown",
   "id": "179c20d1",
   "metadata": {},
   "source": [
    "对3个特征共有6种排列顺序，以下逐条计算：\n",
    "1. 顺序 Income → DebtRatio → CreditAge\n",
    "- **Income贡献**：\n",
    "$ϕIncome=f(Income=8)−f(∅)=55\\%−40\\%=+15\\%$\n",
    "- **DebtRatio贡献**：\n",
    "$ϕDebtRatio=f(Income=8, DebtRatio=30)−f(Income=8)=60\\%−55\\%=+5\\%$\n",
    "- **CreditAge贡献**：\n",
    "$ϕCreditAge=f(全特征)−f(Income=8, DebtRatio=30)=65\\%−60\\%=+5\\%$\n",
    "\n",
    "2. 顺序 Income → CreditAge → DebtRatio\n",
    "- **Income贡献**：\n",
    "$ϕIncome=f(Income=8)−f(∅)=55\\%−40\\%=+15\\%$\n",
    "- **CreditAge贡献**：\n",
    "$ϕCreditAge=f(Income=8, CreditAge=5)−f(Income=8)=70\\%−55\\%=+15\\%$\n",
    "- **DebtRatio贡献**：\n",
    "$ϕDebtRatio=f(全特征)−f(Income=8, CreditAge=5)=65\\%−70\\%=−5\\%$\n",
    "3. 顺序 DebtRatio → Income → CreditAge\n",
    "- **DebtRatio贡献**：\n",
    "$ϕDebtRatio=f(DebtRatio=30)−f(∅)=35\\%−40\\%=−5\\%$\n",
    "- **Income贡献**：\n",
    "$ϕIncome=f(Income=8, DebtRatio=30)−f(DebtRatio=30)=60\\%−35\\%=+25\\%$\n",
    "- **CreditAge贡献**：\n",
    "$ϕCreditAge=f(全特征)−f(Income=8, DebtRatio=30)=65\\%−60\\%=+5\\%$\n",
    "\n",
    "4. 顺序 DebtRatio → CreditAge → Income\n",
    "- **DebtRatio贡献**：\n",
    "$ϕDebtRatio=f(DebtRatio=30)−f(∅)=35\\%−40\\%=−5\\%$\n",
    "- **CreditAge贡献**：\n",
    "$ϕCreditAge=f(DebtRatio=30, CreditAge=5)−f(DebtRatio=30)=50\\%−35\\%=+15\\%$\n",
    "- **Income贡献**：\n",
    "$ϕIncome=f(全特征)−f(DebtRatio=30, CreditAge=5)=65\\%−50\\%=+15\\%$\n",
    "\n",
    "5. 顺序 CreditAge → Income → DebtRatio\n",
    "- **CreditAge贡献**：\n",
    "$ϕCreditAge=f(CreditAge=5)−f(∅)=45\\%−40\\%=+5\\%$\n",
    "- **Income贡献**：\n",
    "$ϕIncome=f(Income=8, CreditAge=5)−f(CreditAge=5)=70\\%−45\\%=+25\\%$\n",
    "- **DebtRatio贡献**：\n",
    "$ϕDebtRatio=f(全特征)−f(Income=8, CreditAge=5)=65\\%−70\\%=−5\\%$\n",
    "\n",
    "6. 顺序 CreditAge → DebtRatio → Income\n",
    "- **CreditAge贡献**：\n",
    "$ϕCreditAge=f(CreditAge=5)−f(∅)=45\\%−40\\%=+5\\%$\n",
    "- **DebtRatio贡献**：\n",
    "$ϕ DebtRatio=f(DebtRatio=30, CreditAge=5)−f(CreditAge=5)=50\\%−45\\%=+5\\%$\n",
    "- **Income贡献**：\n",
    "$ϕIncome=f(全特征)−f(DebtRatio=30, CreditAge=5)=65\\%−50\\%=+15\\%$\n"
   ]
  },
  {
   "cell_type": "markdown",
   "id": "26d9aa7a",
   "metadata": {},
   "source": [
    "### 汇总贡献值并计算Shapley值"
   ]
  },
  {
   "cell_type": "markdown",
   "id": "6bb58d36",
   "metadata": {},
   "source": [
    "| 特征       | 所有排列中的贡献值             | 总和   | SHAP值（均值）         |\n",
    "|------------|-------------------------------|--------|--------------------------|\n",
    "| Income     | +15, +15, +25, +15, +25, +15  | 110%   | 110 / 6 ≈ 18.3%          |\n",
    "| DebtRatio  | +5, -5, -5, -5, -5, +5        | -10%   | -10 / 6 ≈ -1.7%          |\n",
    "| CreditAge  | +5, +15, +5, +15, +5, +5      | 50%    | 50 / 6 ≈ 8.3%            |"
   ]
  },
  {
   "cell_type": "markdown",
   "id": "eb1255ac",
   "metadata": {},
   "source": [
    "### 预测结果解释"
   ]
  },
  {
   "cell_type": "markdown",
   "id": "55115857",
   "metadata": {},
   "source": [
    "基准值 + SHAP值总和应等于预测值：\n",
    "`40%+18.3%−1.7%+8.3%=64.9%≈65%`\n",
    "（与模型原始预测一致，验证计算正确）"
   ]
  },
  {
   "cell_type": "markdown",
   "id": "31152dc6",
   "metadata": {},
   "source": [
    "- **Income**：正向贡献最大（+18.3%）\n",
    "- **CreditAge**：中等正向贡献（+8.3%）\n",
    "- **DebtRatio**：轻微负向影响（-1.7%）"
   ]
  },
  {
   "cell_type": "code",
   "execution_count": null,
   "id": "0a55538f",
   "metadata": {},
   "outputs": [],
   "source": []
  },
  {
   "cell_type": "code",
   "execution_count": null,
   "id": "c164f0fa",
   "metadata": {},
   "outputs": [],
   "source": []
  },
  {
   "cell_type": "code",
   "execution_count": null,
   "id": "7543232e",
   "metadata": {},
   "outputs": [],
   "source": []
  }
 ],
 "metadata": {
  "kernelspec": {
   "display_name": "Python 3 (ipykernel)",
   "language": "python",
   "name": "python3"
  },
  "language_info": {
   "codemirror_mode": {
    "name": "ipython",
    "version": 3
   },
   "file_extension": ".py",
   "mimetype": "text/x-python",
   "name": "python",
   "nbconvert_exporter": "python",
   "pygments_lexer": "ipython3",
   "version": "3.12.2"
  },
  "toc": {
   "base_numbering": 1,
   "nav_menu": {},
   "number_sections": true,
   "sideBar": true,
   "skip_h1_title": false,
   "title_cell": "Table of Contents",
   "title_sidebar": "Contents",
   "toc_cell": false,
   "toc_position": {
    "height": "calc(100% - 180px)",
    "left": "10px",
    "top": "150px",
    "width": "288px"
   },
   "toc_section_display": true,
   "toc_window_display": true
  }
 },
 "nbformat": 4,
 "nbformat_minor": 5
}
