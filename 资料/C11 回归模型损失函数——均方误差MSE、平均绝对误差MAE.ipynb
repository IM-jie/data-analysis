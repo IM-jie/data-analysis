{
 "cells": [
  {
   "cell_type": "markdown",
   "id": "86b86cce",
   "metadata": {},
   "source": [
    "在回归模型中，损失函数用于量化预测值与真实值之间的差异，并通过优化算法调整模型参数以最小化这种差异，从而达到训练模型的目的。回归模型的损失函数有**均方误差（Mean Squared Error, MSE）**、**平均绝对误差（Mean Absolute Error, MAE）**"
   ]
  },
  {
   "cell_type": "markdown",
   "id": "80c39f4a",
   "metadata": {},
   "source": [
    "# 均方误差（Mean Squared Error, MSE）"
   ]
  },
  {
   "cell_type": "markdown",
   "id": "85b54c3f",
   "metadata": {},
   "source": [
    "## 数学公式"
   ]
  },
  {
   "cell_type": "markdown",
   "id": "41dc9cba",
   "metadata": {},
   "source": [
    "计算所有预测值与实际值之差的平方的平均值。公式为：\n",
    "$$\\text{MSE} = \\frac{1}{n} \\sum_{i=1}^{n} (y_i - \\hat{y}_i)^2$$\n",
    "其中，\n",
    "- $y_i$ 是实际值，\n",
    "- $\\hat{y}_i$ 是预测值，\n",
    "- $n$是样本数量。"
   ]
  },
  {
   "cell_type": "markdown",
   "id": "c167c056",
   "metadata": {},
   "source": [
    "## python实现"
   ]
  },
  {
   "cell_type": "code",
   "execution_count": 1,
   "id": "1871af0d",
   "metadata": {},
   "outputs": [
    {
     "name": "stdout",
     "output_type": "stream",
     "text": [
      "0.875\n"
     ]
    }
   ],
   "source": [
    "import numpy as np\n",
    "\n",
    "def mse_numpy(y_true, y_pred):\n",
    "    y_true = np.array(y_true)\n",
    "    y_pred = np.array(y_pred)\n",
    "    return np.mean((y_true - y_pred)**2)\n",
    "\n",
    "# 示例数据\n",
    "y_true = np.array([3, 5, 2.5, 7])\n",
    "y_pred = np.array([2.5, 5, 4, 8])\n",
    "print(mse_numpy(y_true, y_pred))"
   ]
  },
  {
   "cell_type": "markdown",
   "id": "68e9bdff",
   "metadata": {},
   "source": [
    "# 平均绝对误差（Mean Absolute Error, MAE）"
   ]
  },
  {
   "cell_type": "markdown",
   "id": "20883dbd",
   "metadata": {},
   "source": [
    "## 数学公式"
   ]
  },
  {
   "cell_type": "markdown",
   "id": "31f3d56a",
   "metadata": {},
   "source": [
    "计算所有预测值与实际值之差的绝对值的平均值。公式为：\n",
    "$$\\text{MAE} = \\frac{1}{n} \\sum_{i=1}^{n} |y_i - \\hat{y}_i|$$\n",
    "其中，\n",
    "- $y_i$ 是实际值，\n",
    "- $\\hat{y}_i$ 是预测值，\n",
    "- $n$是样本数量。"
   ]
  },
  {
   "cell_type": "markdown",
   "id": "2e3736f0",
   "metadata": {},
   "source": [
    "## python实现"
   ]
  },
  {
   "cell_type": "code",
   "execution_count": 2,
   "id": "02d4616a",
   "metadata": {},
   "outputs": [
    {
     "name": "stdout",
     "output_type": "stream",
     "text": [
      "0.75\n"
     ]
    }
   ],
   "source": [
    "import numpy as np\n",
    "\n",
    "def mae_numpy(y_true, y_pred):\n",
    "    y_true = np.array(y_true)\n",
    "    y_pred = np.array(y_pred)\n",
    "    return np.mean(np.abs(y_true - y_pred))\n",
    "\n",
    "# 示例数据\n",
    "y_true = np.array([3, 5, 2.5, 7])\n",
    "y_pred = np.array([2.5, 5, 4, 8])\n",
    "print(mae_numpy(y_true, y_pred))"
   ]
  },
  {
   "cell_type": "markdown",
   "id": "383f6609",
   "metadata": {},
   "source": [
    "# 回归模型损失函数总结"
   ]
  },
  {
   "cell_type": "markdown",
   "id": "56c78e5b",
   "metadata": {},
   "source": [
    "| 对比维度         | **MSE (Mean Squared Error)** | **MAE (Mean Absolute Error)** |\n",
    "|:-----------------|:-----------------------------|:-----------------------------|\n",
    "| **公式**         | $\\frac{1}{n} \\sum_{i=1}^{n} (y_i - \\hat{y}_i)^2$ | $\\frac{1}{n} \\sum_{i=1}^{n} \\| y_i - \\hat{y}_i \\|$ |\n",
    "| **对异常值敏感性** | 高敏感（平方放大大误差） | 鲁棒（绝对误差抑制大误差影响） |\n",
    "| **优化特性**     | 平滑可导，适合梯度下降 | 在零点不可导，优化可能收敛较慢 |\n",
    "| **梯度性质**     | 梯度随误差线性增长（∝ \\( y - \\hat{y} \\)） | 梯度为常数（±1，取决于误差符号） |\n",
    "| **计算效率**     | 计算快（向量化优化友好） | 计算快（但手动循环可能略慢于MSE） |\n",
    "| **噪声分布假设** | 高斯噪声 | 拉普拉斯噪声 |\n",
    "| **误差分布特点** | 倾向于惩罚大误差（适用于均匀小误差场景） | 误差分布更均匀（适用于对离群点不敏感场景） |\n",
    "| **适用场景**     | 数据噪声小、无显著离群点 | 数据存在离群点、需要鲁棒性 |"
   ]
  },
  {
   "cell_type": "code",
   "execution_count": null,
   "id": "671588c9",
   "metadata": {},
   "outputs": [],
   "source": []
  },
  {
   "cell_type": "code",
   "execution_count": null,
   "id": "4621daca",
   "metadata": {},
   "outputs": [],
   "source": []
  },
  {
   "cell_type": "code",
   "execution_count": null,
   "id": "445c7faa",
   "metadata": {},
   "outputs": [],
   "source": []
  }
 ],
 "metadata": {
  "kernelspec": {
   "display_name": "Python 3 (ipykernel)",
   "language": "python",
   "name": "python3"
  },
  "language_info": {
   "codemirror_mode": {
    "name": "ipython",
    "version": 3
   },
   "file_extension": ".py",
   "mimetype": "text/x-python",
   "name": "python",
   "nbconvert_exporter": "python",
   "pygments_lexer": "ipython3",
   "version": "3.12.2"
  },
  "toc": {
   "base_numbering": 1,
   "nav_menu": {},
   "number_sections": true,
   "sideBar": true,
   "skip_h1_title": false,
   "title_cell": "Table of Contents",
   "title_sidebar": "Contents",
   "toc_cell": false,
   "toc_position": {
    "height": "calc(100% - 180px)",
    "left": "10px",
    "top": "150px",
    "width": "320px"
   },
   "toc_section_display": true,
   "toc_window_display": true
  }
 },
 "nbformat": 4,
 "nbformat_minor": 5
}
