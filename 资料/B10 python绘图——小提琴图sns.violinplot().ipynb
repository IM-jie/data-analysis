{
 "cells": [
  {
   "cell_type": "markdown",
   "id": "b39355a5-a929-4f28-8b06-9a4e85904e80",
   "metadata": {},
   "source": [
    "# 小提琴图"
   ]
  },
  {
   "cell_type": "markdown",
   "id": "486ce054-f6b2-4e9b-836f-8db53b69cd21",
   "metadata": {},
   "source": [
    "**小提琴图（Violin Plot）**是 **箱型图（Box Plot）**和**核密度图（KDE）**的结合，它不仅显示了数据的四分位数信息，还能直观地展现数据的分布情况。小提琴图适用于数据量较大，且希望观察数据分布形态的场景"
   ]
  },
  {
   "cell_type": "markdown",
   "id": "c48e3b13-84e4-4ea8-b2d2-18efb468c55d",
   "metadata": {},
   "source": [
    "**适用场景**\n",
    "\n",
    "- **展示分布形状**：当需要展示数据的分布形状，特别是数据是否呈现多峰分布时。\n",
    "- **比较组分布**：比较一个或多个分类变量的不同级别的定量数据的分布。\n",
    "- **数据量巨大**：适用于数据量巨大且无法显示个别观察结果的情况。"
   ]
  },
  {
   "cell_type": "markdown",
   "id": "6ebc7676",
   "metadata": {},
   "source": [
    "## 小提琴图的组成部分"
   ]
  },
  {
   "cell_type": "code",
   "execution_count": 1,
   "id": "6d07c91d",
   "metadata": {},
   "outputs": [],
   "source": [
    "from IPython.display import Image\n",
    "Image(filename='./pcitures/raw_pics/B10 python绘图——小提琴图.png', width=600, height=400) # 小提琴图展示"
   ]
  },
  {
   "cell_type": "markdown",
   "id": "6e3a43b2-80b4-4fd1-8860-aef3b45113f5",
   "metadata": {},
   "source": [
    "## sns.violinplot\n",
    "- `data`: 数据源，可以是 pandas DataFrame 或类似的数据结构。\n",
    "- `x`: 用于x轴的变量\n",
    "- `y`: 用于y轴的变量\n",
    "- `hue`: 分层变量，用于在小提琴图中创建多个子图，每个子图对应一个类别\n",
    "- `split`: 布尔值，当设置为 True 时，会将由 hue 参数定义的每个类别的小提琴图分开绘制，以便更清晰地比较不同组的分布\n",
    "- `palette`: 颜色方案，用于设置不同类别的颜色"
   ]
  },
  {
   "cell_type": "markdown",
   "id": "9e65d62d",
   "metadata": {},
   "source": [
    "## 小提琴图案例"
   ]
  },
  {
   "cell_type": "markdown",
   "id": "06e6ba32",
   "metadata": {},
   "source": [
    "**tips**: 餐饮小费数据集\n",
    "- total_bill：账单金额\n",
    "- tip：小费金额\n",
    "- sex：性别（Male 或 Female）\n",
    "- smoker：是否吸烟（Yes 或 No）\n",
    "- day：星期几（Sun, Thu, Fri, Sat）\n",
    "- time：就餐时间（Lunch 或 Dinner）\n",
    "- size：就餐人数"
   ]
  },
  {
   "cell_type": "code",
   "execution_count": 2,
   "id": "2cedbf57",
   "metadata": {},
   "outputs": [],
   "source": [
    "import seaborn as sns\n",
    "import matplotlib.pyplot as plt\n",
    "\n",
    "# 加载数据集\n",
    "tips = sns.load_dataset(\"tips\")\n",
    "tips"
   ]
  },
  {
   "cell_type": "markdown",
   "id": "e96ee787",
   "metadata": {},
   "source": [
    "### 基本小提琴图"
   ]
  },
  {
   "cell_type": "code",
   "execution_count": 3,
   "id": "81db5f11",
   "metadata": {},
   "outputs": [],
   "source": [
    "# 设置Seaborn的风格和颜色调色板\n",
    "sns.set_style(\"darkgrid\")\n",
    "\n",
    "# 设置图片大小\n",
    "plt.figure(figsize=(8, 6))  # 设置宽8英寸，高6英寸\n",
    "\n",
    "# 绘制小提琴图\n",
    "sns.violinplot(x='day', y='total_bill', data=tips)\n",
    "\n",
    "# 设置标题和标签\n",
    "plt.title('Total Bill Distribution by Day', fontsize=16)\n",
    "plt.xlabel('Day of the Week', fontsize=14)\n",
    "plt.ylabel('Total Bill (USD)', fontsize=14)\n",
    "\n",
    "# 显示图表\n",
    "plt.show()"
   ]
  },
  {
   "cell_type": "markdown",
   "id": "9816650f",
   "metadata": {},
   "source": [
    "### 分类变量hue"
   ]
  },
  {
   "cell_type": "markdown",
   "id": "344d7151",
   "metadata": {},
   "source": [
    "#### split=True：将小提琴一分为二"
   ]
  },
  {
   "cell_type": "code",
   "execution_count": 4,
   "id": "a4a19ac6",
   "metadata": {},
   "outputs": [],
   "source": [
    "# 设置Seaborn的风格和颜色调色板\n",
    "sns.set_style(\"darkgrid\")\n",
    "\n",
    "# 设置图片大小\n",
    "plt.figure(figsize=(8, 6))  # 设置宽8英寸，高6英寸\n",
    "\n",
    "# 绘制小提琴图\n",
    "sns.violinplot(x='day', y='total_bill', hue='sex', data=tips, split=True)\n",
    "\n",
    "# 设置标题和标签\n",
    "plt.title('Total Bill Distribution by Day', fontsize=16)\n",
    "plt.xlabel('Day of the Week', fontsize=14)\n",
    "plt.ylabel('Total Bill (USD)', fontsize=14)\n",
    "\n",
    "# 显示图表\n",
    "plt.show()"
   ]
  },
  {
   "cell_type": "markdown",
   "id": "4d38fc92",
   "metadata": {},
   "source": [
    "#### split=False：不将小提琴一分为二"
   ]
  },
  {
   "cell_type": "code",
   "execution_count": 5,
   "id": "911fe597",
   "metadata": {},
   "outputs": [],
   "source": [
    "# 设置Seaborn的风格和颜色调色板\n",
    "sns.set_style(\"darkgrid\")\n",
    "\n",
    "# 设置图片大小\n",
    "plt.figure(figsize=(8, 6))  # 设置宽8英寸，高6英寸\n",
    "\n",
    "# 绘制小提琴图\n",
    "sns.violinplot(x='day', y='total_bill', hue='sex', data=tips, split=False)\n",
    "\n",
    "# 设置标题和标签\n",
    "plt.title('Total Bill Distribution by Day', fontsize=16)\n",
    "plt.xlabel('Day of the Week', fontsize=14)\n",
    "plt.ylabel('Total Bill (USD)', fontsize=14)\n",
    "\n",
    "# 显示图表\n",
    "plt.show()"
   ]
  },
  {
   "cell_type": "markdown",
   "id": "88475e1b",
   "metadata": {},
   "source": [
    "### 颜色调色板palette"
   ]
  },
  {
   "cell_type": "markdown",
   "id": "2271e337",
   "metadata": {},
   "source": [
    "#### 常见颜色调色板palette介绍"
   ]
  },
  {
   "cell_type": "markdown",
   "id": "a65147f2",
   "metadata": {},
   "source": [
    "**Qualitative Palettes**：适合离散的类别数据，颜色彼此之间没有顺序或关联。\n",
    " \n",
    "- 'deep'：默认的调色板，适合大部分情况。\n",
    "- 'muted'：颜色较为柔和，适合多个类别的对比。\n",
    "- 'pastel'：较为柔和的颜色，视觉上不那么刺眼。\n",
    "- 'dark'：较为深沉的颜色，适合正式的图表。\n",
    "- 'colorblind'：设计考虑到色盲友好，适合需要考虑视觉障碍的用户。\n",
    "- 'Set1', 'Set2', 'Set3'：非常适合多个类别的颜色分配。\n",
    "- 'Paired'：适合两两配对的颜色。\n",
    "- 'Accent'：色调较鲜艳，适合强调特定类别。\n",
    "\n",
    "**Sequential Palettes**：适合连续数据的颜色映射，从浅色到深色表示数据的从小到大的变化。\n",
    " \n",
    "- 'Blues'：从浅蓝色到深蓝色。\n",
    "- 'Greens'：从浅绿色到深绿色。\n",
    "- 'Reds'：从浅红色到深红色。\n",
    "- 'Purples'：从浅紫色到深紫色。\n",
    "- 'YlGn'、'YlGnBu' 等：从黄色到绿色或蓝色。\n",
    "- 'Oranges'、'YlOrBr'：从浅橙色到深橙色。\n",
    "- 'BuGn'、'BuPu'：从浅蓝色到紫色等。\n",
    "\n",
    "**Diverging Palettes**：适合表示有中值的连续数据，颜色从两端扩展到中间。\n",
    " \n",
    "- 'RdBu'：从红色到蓝色，适合表示负值和正值。\n",
    "- 'RdYlBu'：从红色到黄色再到蓝色，适合显示中立值。\n",
    "- 'Spectral'：从紫色到蓝色再到红色，适合强烈的对比。\n",
    "\n",
    "**Cyclic Palettes**：适合具有周期性的数据，颜色从一个极端到另一个极端，然后回到第一个极端。\n",
    " \n",
    "- 'twilight'、'twilight_shifted'：常用于时间序列数据。"
   ]
  },
  {
   "cell_type": "markdown",
   "id": "2014b6b1",
   "metadata": {},
   "source": [
    "#### 不同palette调色板案例"
   ]
  },
  {
   "cell_type": "code",
   "execution_count": 6,
   "id": "da11e87f",
   "metadata": {},
   "outputs": [],
   "source": [
    "# 设置Seaborn的风格和颜色调色板\n",
    "sns.set_style(\"darkgrid\")\n",
    "\n",
    "# 设置图片大小\n",
    "plt.figure(figsize=(8, 6))  # 设置宽8英寸，高6英寸\n",
    "\n",
    "# 绘制小提琴图\n",
    "sns.violinplot(x='day', y='total_bill', hue='sex', data=tips, split=True, palette='Set3')\n",
    "\n",
    "# 设置标题和标签\n",
    "plt.title('Total Bill Distribution by Day', fontsize=16)\n",
    "plt.xlabel('Day of the Week', fontsize=14)\n",
    "plt.ylabel('Total Bill (USD)', fontsize=14)\n",
    "\n",
    "# 显示图表\n",
    "plt.show()"
   ]
  },
  {
   "cell_type": "markdown",
   "id": "e51f398f",
   "metadata": {},
   "source": [
    "### 水平小提琴图"
   ]
  },
  {
   "cell_type": "code",
   "execution_count": 7,
   "id": "5521a59a",
   "metadata": {},
   "outputs": [],
   "source": [
    "# 设置Seaborn的风格和颜色调色板\n",
    "sns.set_style(\"darkgrid\")\n",
    "\n",
    "# 设置图片大小\n",
    "plt.figure(figsize=(8, 6))  # 设置宽8英寸，高6英寸\n",
    "\n",
    "# 绘制小提琴图\n",
    "sns.violinplot(x='total_bill', y='day', hue='sex', data=tips, split=True, palette='Set2')\n",
    "\n",
    "# 设置标题和标签\n",
    "plt.title('Total Bill Distribution by Day', fontsize=16)\n",
    "plt.xlabel('Total Bill (USD)', fontsize=14)\n",
    "plt.ylabel('Day of the Week', fontsize=14)\n",
    "\n",
    "# 显示图表\n",
    "plt.show()"
   ]
  },
  {
   "cell_type": "markdown",
   "id": "f4fa8323",
   "metadata": {},
   "source": [
    "### 小提琴图与箱线图结合"
   ]
  },
  {
   "cell_type": "markdown",
   "id": "e2fe1d3b",
   "metadata": {},
   "source": [
    "可以结合`sns.boxplot()`和`sns.violinplot()`同时绘制小提琴图和箱线图，以获得更全面的数据可视化"
   ]
  },
  {
   "cell_type": "code",
   "execution_count": 8,
   "id": "59d2c808",
   "metadata": {},
   "outputs": [],
   "source": [
    "# 设置Seaborn的风格和颜色调色板\n",
    "sns.set_style(\"darkgrid\")\n",
    "\n",
    "# 设置图片大小\n",
    "plt.figure(figsize=(8, 6))  # 设置宽8英寸，高6英寸\n",
    "\n",
    "# 先绘制小提琴图（alpha参数控制透明度，透明度降低）\n",
    "sns.violinplot(x='day', y='total_bill', data=tips, alpha=0.5)\n",
    "\n",
    "# 再绘制箱型图（提高可读性）\n",
    "sns.boxplot(x='day', y='total_bill', data=tips, width=0.3)\n",
    "\n",
    "# 设置标题和标签\n",
    "plt.title('Total Bill Distribution by Day', fontsize=16)\n",
    "plt.xlabel('Day of the Week', fontsize=14)\n",
    "plt.ylabel('Total Bill (USD)', fontsize=14)\n",
    "\n",
    "# 显示图表\n",
    "plt.show()"
   ]
  },
  {
   "cell_type": "code",
   "execution_count": null,
   "id": "04ac1798",
   "metadata": {},
   "outputs": [],
   "source": []
  },
  {
   "cell_type": "code",
   "execution_count": null,
   "id": "9eee5760",
   "metadata": {},
   "outputs": [],
   "source": []
  },
  {
   "cell_type": "code",
   "execution_count": null,
   "id": "55051ce3",
   "metadata": {},
   "outputs": [],
   "source": []
  }
 ],
 "metadata": {
  "kernelspec": {
   "display_name": "Python 3 (ipykernel)",
   "language": "python",
   "name": "python3"
  },
  "language_info": {
   "codemirror_mode": {
    "name": "ipython",
    "version": 3
   },
   "file_extension": ".py",
   "mimetype": "text/x-python",
   "name": "python",
   "nbconvert_exporter": "python",
   "pygments_lexer": "ipython3",
   "version": "3.12.2"
  },
  "toc": {
   "base_numbering": 1,
   "nav_menu": {},
   "number_sections": true,
   "sideBar": true,
   "skip_h1_title": false,
   "title_cell": "Table of Contents",
   "title_sidebar": "Contents",
   "toc_cell": false,
   "toc_position": {
    "height": "calc(100% - 180px)",
    "left": "10px",
    "top": "150px",
    "width": "288px"
   },
   "toc_section_display": true,
   "toc_window_display": true
  }
 },
 "nbformat": 4,
 "nbformat_minor": 5
}
