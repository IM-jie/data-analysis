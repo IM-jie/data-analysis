{
 "cells": [
  {
   "cell_type": "markdown",
   "id": "42b325c1",
   "metadata": {},
   "source": [
    "本章节将介绍python中常用到的几个堪称瑞士军刀的效率工具：map、apply、parrel_apply"
   ]
  },
  {
   "cell_type": "markdown",
   "id": "7caef6b8",
   "metadata": {},
   "source": [
    "# map"
   ]
  },
  {
   "cell_type": "markdown",
   "id": "b1049399",
   "metadata": {},
   "source": [
    "**map()**用于将一个函数应用到一个或多个可迭代对象（如列表、元组、字符串、Series等）的每个元素，并返回一个新的迭代器"
   ]
  },
  {
   "cell_type": "markdown",
   "id": "b0316620",
   "metadata": {},
   "source": [
    "## 基本使用场景"
   ]
  },
  {
   "cell_type": "markdown",
   "id": "10c7f767",
   "metadata": {},
   "source": [
    "### 基本语法"
   ]
  },
  {
   "cell_type": "markdown",
   "id": "f82aef8e",
   "metadata": {},
   "source": [
    "**map(function, iterable, ...)**：\n",
    "- function：作用于可迭代对象的函数\n",
    "- iterable：要处理的可迭代对象（如列表、元组、字符串、Series等）\n",
    "- 当使用map函数时，如果提供了多个可迭代对象，函数func将依次从每个可迭代对象中取一个元素作为参数\n",
    "\n",
    "**返回值**：\n",
    "返回一个 map 对象（是一个迭代器，可以通过 list()、tuple() 等转换为具体的数据结构）\n"
   ]
  },
  {
   "cell_type": "markdown",
   "id": "9f234368",
   "metadata": {},
   "source": [
    "### map函数基本使用示例"
   ]
  },
  {
   "cell_type": "markdown",
   "id": "f10d5e89",
   "metadata": {},
   "source": [
    "#### 使用内置函数"
   ]
  },
  {
   "cell_type": "code",
   "execution_count": 86,
   "id": "b84cc6be",
   "metadata": {},
   "outputs": [
    {
     "data": {
      "text/plain": [
       "[5, 6, 6, 4]"
      ]
     },
     "execution_count": 86,
     "metadata": {},
     "output_type": "execute_result"
    }
   ],
   "source": [
    "# 对列表中的字符串计算长度\n",
    "strings = [\"apple\", \"banana\", \"cherry\", \"date\"]\n",
    "result = map(len, strings)\n",
    "list(result)"
   ]
  },
  {
   "cell_type": "markdown",
   "id": "36b9566c",
   "metadata": {},
   "source": [
    "#### 使用自定义函数"
   ]
  },
  {
   "cell_type": "code",
   "execution_count": 87,
   "id": "f4dbd3c9",
   "metadata": {},
   "outputs": [
    {
     "data": {
      "text/plain": [
       "[5, 6, 6, 4]"
      ]
     },
     "execution_count": 87,
     "metadata": {},
     "output_type": "execute_result"
    }
   ],
   "source": [
    "# 自定义函数\n",
    "def cal_len(s):\n",
    "    return len(s)\n",
    "\n",
    "# 对列表中的字符串计算长度\n",
    "strings = [\"apple\", \"banana\", \"cherry\", \"date\"]\n",
    "result = map(cal_len, strings)\n",
    "list(result)"
   ]
  },
  {
   "cell_type": "markdown",
   "id": "d178eeab",
   "metadata": {},
   "source": [
    "#### 使用 lambda 表达式"
   ]
  },
  {
   "cell_type": "code",
   "execution_count": 88,
   "id": "45da0128",
   "metadata": {},
   "outputs": [
    {
     "data": {
      "text/plain": [
       "[5, 6, 6, 4]"
      ]
     },
     "execution_count": 88,
     "metadata": {},
     "output_type": "execute_result"
    }
   ],
   "source": [
    "# 对列表中的字符串计算长度\n",
    "strings = [\"apple\", \"banana\", \"cherry\", \"date\"]\n",
    "result = map(lambda x: len(x), strings)\n",
    "list(result)"
   ]
  },
  {
   "cell_type": "markdown",
   "id": "03fb5bb7",
   "metadata": {},
   "source": [
    "#### 传入多个可迭代对象"
   ]
  },
  {
   "cell_type": "code",
   "execution_count": 89,
   "id": "ac0dd612",
   "metadata": {},
   "outputs": [
    {
     "data": {
      "text/plain": [
       "[5, 7, 9]"
      ]
     },
     "execution_count": 89,
     "metadata": {},
     "output_type": "execute_result"
    }
   ],
   "source": [
    "# 对两个列表中的对应元素求和\n",
    "import pandas as pd\n",
    "\n",
    "nums1 = [1, 2, 3]\n",
    "nums2 = [4, 5, 6]\n",
    "sums = map(lambda x, y: x + y, nums1, nums2)\n",
    "list(sums)"
   ]
  },
  {
   "cell_type": "markdown",
   "id": "fef69632",
   "metadata": {},
   "source": [
    "## map应用于Series"
   ]
  },
  {
   "cell_type": "markdown",
   "id": "b11e2ab8",
   "metadata": {},
   "source": [
    "在pandas中亦提供了用于Series的map()函数，用于对 Series 中的每个元素进行逐一操作。"
   ]
  },
  {
   "cell_type": "markdown",
   "id": "4d2c4421",
   "metadata": {},
   "source": [
    "### Series中map()的基本语法"
   ]
  },
  {
   "cell_type": "markdown",
   "id": "5bf69599",
   "metadata": {},
   "source": [
    "**Series.map(arg)**：\n",
    "- **arg**:\n",
    "    - **函数**：可以是内置函数、自定义函数或 lambda 函数。\n",
    "    - **字典**：用于值的映射和替换。"
   ]
  },
  {
   "cell_type": "markdown",
   "id": "a0f4c801",
   "metadata": {},
   "source": [
    "### Series中map()使用示例"
   ]
  },
  {
   "cell_type": "markdown",
   "id": "bd689cd8",
   "metadata": {},
   "source": [
    "#### arg为内置函数，进行函数映射"
   ]
  },
  {
   "cell_type": "code",
   "execution_count": 90,
   "id": "f2379c67",
   "metadata": {},
   "outputs": [
    {
     "data": {
      "text/plain": [
       "0     apple\n",
       "1    banana\n",
       "2    cherry\n",
       "dtype: object"
      ]
     },
     "execution_count": 90,
     "metadata": {},
     "output_type": "execute_result"
    }
   ],
   "source": [
    "# 示例：字符串转换\n",
    "# 创建一个字符串 Series\n",
    "s = pd.Series(['apple', 'banana', 'cherry'])\n",
    "s"
   ]
  },
  {
   "cell_type": "code",
   "execution_count": 93,
   "id": "fb6451dd",
   "metadata": {},
   "outputs": [
    {
     "data": {
      "text/plain": [
       "0     APPLE\n",
       "1    BANANA\n",
       "2    CHERRY\n",
       "dtype: object"
      ]
     },
     "execution_count": 93,
     "metadata": {},
     "output_type": "execute_result"
    }
   ],
   "source": [
    "# 转换为大写\n",
    "s_upper = s.map(str.upper)\n",
    "s_upper"
   ]
  },
  {
   "cell_type": "markdown",
   "id": "75d5149a",
   "metadata": {},
   "source": [
    "#### arg为自定义函数，进行函数映射"
   ]
  },
  {
   "cell_type": "code",
   "execution_count": 94,
   "id": "b5aa03dc",
   "metadata": {},
   "outputs": [
    {
     "data": {
      "text/plain": [
       "0    1\n",
       "1    2\n",
       "2    3\n",
       "3    4\n",
       "4    5\n",
       "dtype: int64"
      ]
     },
     "execution_count": 94,
     "metadata": {},
     "output_type": "execute_result"
    }
   ],
   "source": [
    "import pandas as pd\n",
    "\n",
    "# 创建一个 Series\n",
    "s = pd.Series([1, 2, 3, 4, 5])\n",
    "s"
   ]
  },
  {
   "cell_type": "code",
   "execution_count": 95,
   "id": "fddd32b9",
   "metadata": {},
   "outputs": [
    {
     "data": {
      "text/plain": [
       "0     1\n",
       "1     4\n",
       "2     9\n",
       "3    16\n",
       "4    25\n",
       "dtype: int64"
      ]
     },
     "execution_count": 95,
     "metadata": {},
     "output_type": "execute_result"
    }
   ],
   "source": [
    "# 自定义一个函数，用于对每个元素进行平方操作\n",
    "def square(x):\n",
    "    return x ** 2\n",
    "\n",
    "# 对每个元素应用自定义函数\n",
    "s_squared = s.map(square)\n",
    "s_squared"
   ]
  },
  {
   "cell_type": "markdown",
   "id": "93e19cee",
   "metadata": {},
   "source": [
    "#### arg为lambda函数，进行函数映射"
   ]
  },
  {
   "cell_type": "code",
   "execution_count": 96,
   "id": "a550ef9b",
   "metadata": {},
   "outputs": [
    {
     "data": {
      "text/plain": [
       "0    1\n",
       "1    2\n",
       "2    3\n",
       "3    4\n",
       "4    5\n",
       "dtype: int64"
      ]
     },
     "execution_count": 96,
     "metadata": {},
     "output_type": "execute_result"
    }
   ],
   "source": [
    "# 示例：平方操作\n",
    "import pandas as pd\n",
    "\n",
    "# 创建一个 Series\n",
    "s = pd.Series([1, 2, 3, 4, 5])\n",
    "s"
   ]
  },
  {
   "cell_type": "code",
   "execution_count": 97,
   "id": "c2725c49",
   "metadata": {},
   "outputs": [
    {
     "data": {
      "text/plain": [
       "0     1\n",
       "1     4\n",
       "2     9\n",
       "3    16\n",
       "4    25\n",
       "dtype: int64"
      ]
     },
     "execution_count": 97,
     "metadata": {},
     "output_type": "execute_result"
    }
   ],
   "source": [
    "# 对每个元素进行平方\n",
    "s_squared = s.map(lambda x: x ** 2)\n",
    "s_squared"
   ]
  },
  {
   "cell_type": "markdown",
   "id": "73cda6eb",
   "metadata": {},
   "source": [
    "#### arg为字典，进行值替换"
   ]
  },
  {
   "cell_type": "code",
   "execution_count": 98,
   "id": "1fd6e532",
   "metadata": {},
   "outputs": [
    {
     "data": {
      "text/plain": [
       "0       cat\n",
       "1       dog\n",
       "2    rabbit\n",
       "dtype: object"
      ]
     },
     "execution_count": 98,
     "metadata": {},
     "output_type": "execute_result"
    }
   ],
   "source": [
    "# map() 支持基于字典对值进行映射替换\n",
    "# 创建一个 Series\n",
    "s = pd.Series(['cat', 'dog', 'rabbit'])\n",
    "s"
   ]
  },
  {
   "cell_type": "code",
   "execution_count": 99,
   "id": "e6a494e1",
   "metadata": {},
   "outputs": [
    {
     "data": {
      "text/plain": [
       "0    feline\n",
       "1    canine\n",
       "2       NaN\n",
       "dtype: object"
      ]
     },
     "execution_count": 99,
     "metadata": {},
     "output_type": "execute_result"
    }
   ],
   "source": [
    "# 使用字典替换值\n",
    "mapping = {'cat': 'feline', 'dog': 'canine'}\n",
    "s_mapped = s.map(mapping)\n",
    "s_mapped"
   ]
  },
  {
   "cell_type": "markdown",
   "id": "245fcc45",
   "metadata": {},
   "source": [
    "# apply"
   ]
  },
  {
   "cell_type": "markdown",
   "id": "c63c3dfd",
   "metadata": {},
   "source": [
    "**apply函数**用于对 DataFrame 或 Series 中的元素逐个或按行/列进行操作。apply函数可以自定义函数的应用方式，从而实现复杂的数据转换和处理"
   ]
  },
  {
   "cell_type": "markdown",
   "id": "fb42f0d2",
   "metadata": {},
   "source": [
    "## 基本语法"
   ]
  },
  {
   "cell_type": "markdown",
   "id": "1de20bf6",
   "metadata": {},
   "source": [
    "**DataFrame.apply(func, axis)**：\n",
    "- **func**：要应用的函数\n",
    "- **axis**：控制函数的应用方式\n",
    "    - axis=0：对 每一列 应用函数。默认值\n",
    "    - axis=1：对 每一行 应用函数"
   ]
  },
  {
   "cell_type": "markdown",
   "id": "05061803",
   "metadata": {},
   "source": [
    "## apply函数使用场景"
   ]
  },
  {
   "cell_type": "markdown",
   "id": "bd89a8b3",
   "metadata": {},
   "source": [
    "### 应用于 DataFrame（多行或多列操作）"
   ]
  },
  {
   "cell_type": "markdown",
   "id": "90242099",
   "metadata": {},
   "source": [
    "#### 对每列应用函数（axis=0，默认）"
   ]
  },
  {
   "cell_type": "code",
   "execution_count": 100,
   "id": "0c865871",
   "metadata": {},
   "outputs": [
    {
     "data": {
      "text/html": [
       "<div>\n",
       "<style scoped>\n",
       "    .dataframe tbody tr th:only-of-type {\n",
       "        vertical-align: middle;\n",
       "    }\n",
       "\n",
       "    .dataframe tbody tr th {\n",
       "        vertical-align: top;\n",
       "    }\n",
       "\n",
       "    .dataframe thead th {\n",
       "        text-align: right;\n",
       "    }\n",
       "</style>\n",
       "<table border=\"1\" class=\"dataframe\">\n",
       "  <thead>\n",
       "    <tr style=\"text-align: right;\">\n",
       "      <th></th>\n",
       "      <th>A</th>\n",
       "      <th>B</th>\n",
       "      <th>C</th>\n",
       "    </tr>\n",
       "  </thead>\n",
       "  <tbody>\n",
       "    <tr>\n",
       "      <th>0</th>\n",
       "      <td>1</td>\n",
       "      <td>4</td>\n",
       "      <td>7</td>\n",
       "    </tr>\n",
       "    <tr>\n",
       "      <th>1</th>\n",
       "      <td>2</td>\n",
       "      <td>5</td>\n",
       "      <td>8</td>\n",
       "    </tr>\n",
       "    <tr>\n",
       "      <th>2</th>\n",
       "      <td>3</td>\n",
       "      <td>6</td>\n",
       "      <td>9</td>\n",
       "    </tr>\n",
       "  </tbody>\n",
       "</table>\n",
       "</div>"
      ],
      "text/plain": [
       "   A  B  C\n",
       "0  1  4  7\n",
       "1  2  5  8\n",
       "2  3  6  9"
      ]
     },
     "execution_count": 100,
     "metadata": {},
     "output_type": "execute_result"
    }
   ],
   "source": [
    "import pandas as pd\n",
    "import numpy as np\n",
    "\n",
    "# 创建 DataFrame\n",
    "df = pd.DataFrame({\n",
    "    'A': [1, 2, 3],\n",
    "    'B': [4, 5, 6],\n",
    "    'C': [7, 8, 9]\n",
    "})\n",
    "df"
   ]
  },
  {
   "cell_type": "code",
   "execution_count": 102,
   "id": "fa8f8fdd",
   "metadata": {},
   "outputs": [
    {
     "data": {
      "text/plain": [
       "A     6\n",
       "B    15\n",
       "C    24\n",
       "dtype: int64"
      ]
     },
     "execution_count": 102,
     "metadata": {},
     "output_type": "execute_result"
    }
   ],
   "source": [
    "# 对每列求和\n",
    "df.apply(np.sum, axis=0)"
   ]
  },
  {
   "cell_type": "markdown",
   "id": "5194b4fc",
   "metadata": {},
   "source": [
    "#### 对每行应用函数（axis=1）"
   ]
  },
  {
   "cell_type": "code",
   "execution_count": 104,
   "id": "fe63bb94",
   "metadata": {},
   "outputs": [
    {
     "data": {
      "text/plain": [
       "0    12\n",
       "1    15\n",
       "2    18\n",
       "dtype: int64"
      ]
     },
     "execution_count": 104,
     "metadata": {},
     "output_type": "execute_result"
    }
   ],
   "source": [
    "df.apply(np.sum, axis=1)"
   ]
  },
  {
   "cell_type": "markdown",
   "id": "279247a0",
   "metadata": {},
   "source": [
    "### 应用于 DataFrame 的单列（或 Series）"
   ]
  },
  {
   "cell_type": "code",
   "execution_count": 105,
   "id": "6d487962",
   "metadata": {},
   "outputs": [
    {
     "data": {
      "text/html": [
       "<div>\n",
       "<style scoped>\n",
       "    .dataframe tbody tr th:only-of-type {\n",
       "        vertical-align: middle;\n",
       "    }\n",
       "\n",
       "    .dataframe tbody tr th {\n",
       "        vertical-align: top;\n",
       "    }\n",
       "\n",
       "    .dataframe thead th {\n",
       "        text-align: right;\n",
       "    }\n",
       "</style>\n",
       "<table border=\"1\" class=\"dataframe\">\n",
       "  <thead>\n",
       "    <tr style=\"text-align: right;\">\n",
       "      <th></th>\n",
       "      <th>Name</th>\n",
       "      <th>Age</th>\n",
       "    </tr>\n",
       "  </thead>\n",
       "  <tbody>\n",
       "    <tr>\n",
       "      <th>0</th>\n",
       "      <td>Alice</td>\n",
       "      <td>25</td>\n",
       "    </tr>\n",
       "    <tr>\n",
       "      <th>1</th>\n",
       "      <td>Bob</td>\n",
       "      <td>30</td>\n",
       "    </tr>\n",
       "    <tr>\n",
       "      <th>2</th>\n",
       "      <td>Charlie</td>\n",
       "      <td>35</td>\n",
       "    </tr>\n",
       "  </tbody>\n",
       "</table>\n",
       "</div>"
      ],
      "text/plain": [
       "      Name  Age\n",
       "0    Alice   25\n",
       "1      Bob   30\n",
       "2  Charlie   35"
      ]
     },
     "execution_count": 105,
     "metadata": {},
     "output_type": "execute_result"
    }
   ],
   "source": [
    "data = {'Name': ['Alice', 'Bob', 'Charlie'], 'Age': [25, 30, 35]}\n",
    "df = pd.DataFrame(data)\n",
    "df"
   ]
  },
  {
   "cell_type": "code",
   "execution_count": 107,
   "id": "13467a63",
   "metadata": {},
   "outputs": [
    {
     "data": {
      "text/html": [
       "<div>\n",
       "<style scoped>\n",
       "    .dataframe tbody tr th:only-of-type {\n",
       "        vertical-align: middle;\n",
       "    }\n",
       "\n",
       "    .dataframe tbody tr th {\n",
       "        vertical-align: top;\n",
       "    }\n",
       "\n",
       "    .dataframe thead th {\n",
       "        text-align: right;\n",
       "    }\n",
       "</style>\n",
       "<table border=\"1\" class=\"dataframe\">\n",
       "  <thead>\n",
       "    <tr style=\"text-align: right;\">\n",
       "      <th></th>\n",
       "      <th>Name</th>\n",
       "      <th>Age</th>\n",
       "      <th>Age_Category</th>\n",
       "    </tr>\n",
       "  </thead>\n",
       "  <tbody>\n",
       "    <tr>\n",
       "      <th>0</th>\n",
       "      <td>Alice</td>\n",
       "      <td>25</td>\n",
       "      <td>Young</td>\n",
       "    </tr>\n",
       "    <tr>\n",
       "      <th>1</th>\n",
       "      <td>Bob</td>\n",
       "      <td>30</td>\n",
       "      <td>Middle-aged</td>\n",
       "    </tr>\n",
       "    <tr>\n",
       "      <th>2</th>\n",
       "      <td>Charlie</td>\n",
       "      <td>35</td>\n",
       "      <td>Middle-aged</td>\n",
       "    </tr>\n",
       "  </tbody>\n",
       "</table>\n",
       "</div>"
      ],
      "text/plain": [
       "      Name  Age Age_Category\n",
       "0    Alice   25        Young\n",
       "1      Bob   30  Middle-aged\n",
       "2  Charlie   35  Middle-aged"
      ]
     },
     "execution_count": 107,
     "metadata": {},
     "output_type": "execute_result"
    }
   ],
   "source": [
    "# 示例：根据年龄划分年龄段\n",
    "def age_category(age):\n",
    "    if age < 30:\n",
    "        return 'Young'\n",
    "    elif age < 40:\n",
    "        return 'Middle-aged'\n",
    "    else:\n",
    "        return 'Old'\n",
    "\n",
    "df['Age_Category'] = df['Age'].apply(age_category)\n",
    "df"
   ]
  },
  {
   "cell_type": "markdown",
   "id": "f99a5070",
   "metadata": {},
   "source": [
    "### 应用于DataFrame 的多列：返回单个值"
   ]
  },
  {
   "cell_type": "code",
   "execution_count": 109,
   "id": "1bca0758",
   "metadata": {},
   "outputs": [
    {
     "data": {
      "text/html": [
       "<div>\n",
       "<style scoped>\n",
       "    .dataframe tbody tr th:only-of-type {\n",
       "        vertical-align: middle;\n",
       "    }\n",
       "\n",
       "    .dataframe tbody tr th {\n",
       "        vertical-align: top;\n",
       "    }\n",
       "\n",
       "    .dataframe thead th {\n",
       "        text-align: right;\n",
       "    }\n",
       "</style>\n",
       "<table border=\"1\" class=\"dataframe\">\n",
       "  <thead>\n",
       "    <tr style=\"text-align: right;\">\n",
       "      <th></th>\n",
       "      <th>Name</th>\n",
       "      <th>Age</th>\n",
       "      <th>Age_Category</th>\n",
       "      <th>Total</th>\n",
       "    </tr>\n",
       "  </thead>\n",
       "  <tbody>\n",
       "    <tr>\n",
       "      <th>0</th>\n",
       "      <td>Alice</td>\n",
       "      <td>25</td>\n",
       "      <td>Young</td>\n",
       "      <td>50</td>\n",
       "    </tr>\n",
       "    <tr>\n",
       "      <th>1</th>\n",
       "      <td>Bob</td>\n",
       "      <td>30</td>\n",
       "      <td>Middle-aged</td>\n",
       "      <td>60</td>\n",
       "    </tr>\n",
       "    <tr>\n",
       "      <th>2</th>\n",
       "      <td>Charlie</td>\n",
       "      <td>35</td>\n",
       "      <td>Middle-aged</td>\n",
       "      <td>70</td>\n",
       "    </tr>\n",
       "  </tbody>\n",
       "</table>\n",
       "</div>"
      ],
      "text/plain": [
       "      Name  Age Age_Category  Total\n",
       "0    Alice   25        Young     50\n",
       "1      Bob   30  Middle-aged     60\n",
       "2  Charlie   35  Middle-aged     70"
      ]
     },
     "execution_count": 109,
     "metadata": {},
     "output_type": "execute_result"
    }
   ],
   "source": [
    "# 示例：计算总和和均值\n",
    "df['Total'] = df[['Age', 'Age']].apply(lambda row: row.sum(), axis=1)\n",
    "df"
   ]
  },
  {
   "cell_type": "markdown",
   "id": "670573d9",
   "metadata": {},
   "source": [
    "### 应用于DataFrame 的多列：返回多个值"
   ]
  },
  {
   "cell_type": "code",
   "execution_count": 110,
   "id": "3178bd6c",
   "metadata": {},
   "outputs": [
    {
     "data": {
      "text/html": [
       "<div>\n",
       "<style scoped>\n",
       "    .dataframe tbody tr th:only-of-type {\n",
       "        vertical-align: middle;\n",
       "    }\n",
       "\n",
       "    .dataframe tbody tr th {\n",
       "        vertical-align: top;\n",
       "    }\n",
       "\n",
       "    .dataframe thead th {\n",
       "        text-align: right;\n",
       "    }\n",
       "</style>\n",
       "<table border=\"1\" class=\"dataframe\">\n",
       "  <thead>\n",
       "    <tr style=\"text-align: right;\">\n",
       "      <th></th>\n",
       "      <th>A</th>\n",
       "      <th>B</th>\n",
       "    </tr>\n",
       "  </thead>\n",
       "  <tbody>\n",
       "    <tr>\n",
       "      <th>0</th>\n",
       "      <td>1</td>\n",
       "      <td>4</td>\n",
       "    </tr>\n",
       "    <tr>\n",
       "      <th>1</th>\n",
       "      <td>2</td>\n",
       "      <td>5</td>\n",
       "    </tr>\n",
       "    <tr>\n",
       "      <th>2</th>\n",
       "      <td>3</td>\n",
       "      <td>6</td>\n",
       "    </tr>\n",
       "  </tbody>\n",
       "</table>\n",
       "</div>"
      ],
      "text/plain": [
       "   A  B\n",
       "0  1  4\n",
       "1  2  5\n",
       "2  3  6"
      ]
     },
     "execution_count": 110,
     "metadata": {},
     "output_type": "execute_result"
    }
   ],
   "source": [
    "data = {\n",
    "    'A': [1, 2, 3],\n",
    "    'B': [4, 5, 6]\n",
    "}\n",
    "df = pd.DataFrame(data)\n",
    "df"
   ]
  },
  {
   "cell_type": "code",
   "execution_count": 112,
   "id": "64b0eb25",
   "metadata": {},
   "outputs": [
    {
     "data": {
      "text/html": [
       "<div>\n",
       "<style scoped>\n",
       "    .dataframe tbody tr th:only-of-type {\n",
       "        vertical-align: middle;\n",
       "    }\n",
       "\n",
       "    .dataframe tbody tr th {\n",
       "        vertical-align: top;\n",
       "    }\n",
       "\n",
       "    .dataframe thead th {\n",
       "        text-align: right;\n",
       "    }\n",
       "</style>\n",
       "<table border=\"1\" class=\"dataframe\">\n",
       "  <thead>\n",
       "    <tr style=\"text-align: right;\">\n",
       "      <th></th>\n",
       "      <th>A</th>\n",
       "      <th>B</th>\n",
       "      <th>Sum</th>\n",
       "      <th>Difference</th>\n",
       "    </tr>\n",
       "  </thead>\n",
       "  <tbody>\n",
       "    <tr>\n",
       "      <th>0</th>\n",
       "      <td>1</td>\n",
       "      <td>4</td>\n",
       "      <td>5</td>\n",
       "      <td>-3</td>\n",
       "    </tr>\n",
       "    <tr>\n",
       "      <th>1</th>\n",
       "      <td>2</td>\n",
       "      <td>5</td>\n",
       "      <td>7</td>\n",
       "      <td>-3</td>\n",
       "    </tr>\n",
       "    <tr>\n",
       "      <th>2</th>\n",
       "      <td>3</td>\n",
       "      <td>6</td>\n",
       "      <td>9</td>\n",
       "      <td>-3</td>\n",
       "    </tr>\n",
       "  </tbody>\n",
       "</table>\n",
       "</div>"
      ],
      "text/plain": [
       "   A  B  Sum  Difference\n",
       "0  1  4    5          -3\n",
       "1  2  5    7          -3\n",
       "2  3  6    9          -3"
      ]
     },
     "execution_count": 112,
     "metadata": {},
     "output_type": "execute_result"
    }
   ],
   "source": [
    "# 定义应用于多列的函数，返回多个值\n",
    "def calculate_new_columns(row):\n",
    "    sum_value = row['A'] + row['B']  # 两列相加\n",
    "    diff_value = row['A'] - row['B'] # 两列相减\n",
    "    return pd.Series([sum_value, diff_value], index=['Sum', 'Difference'])\n",
    "\n",
    "# 对每一行应用函数，返回多列\n",
    "df[['Sum', 'Difference']] = df.apply(calculate_new_columns, axis=1)\n",
    "df"
   ]
  },
  {
   "cell_type": "markdown",
   "id": "8962696a",
   "metadata": {},
   "source": [
    "# parrel_apply"
   ]
  },
  {
   "cell_type": "markdown",
   "id": "33b17379",
   "metadata": {},
   "source": [
    "当`DataFrame`的规模很大时，使用`apply`函数效率会比较低下。\n",
    "\n",
    "`parrel_apply`函数可以通过并行化任务来提高处理效率"
   ]
  },
  {
   "cell_type": "markdown",
   "id": "875cd054",
   "metadata": {},
   "source": [
    "`parrel_apply`用法：\n",
    "\n",
    "1. **初始化 pandarallel**\n",
    "\n",
    "`pandarallel.initialize()`\n",
    "\n",
    "2. **调用`parallel_apply`**\n",
    "\n",
    "`parallel_apply`语法与`apply`完全一致\n"
   ]
  },
  {
   "cell_type": "code",
   "execution_count": 115,
   "id": "1251d257",
   "metadata": {},
   "outputs": [
    {
     "data": {
      "text/html": [
       "<div>\n",
       "<style scoped>\n",
       "    .dataframe tbody tr th:only-of-type {\n",
       "        vertical-align: middle;\n",
       "    }\n",
       "\n",
       "    .dataframe tbody tr th {\n",
       "        vertical-align: top;\n",
       "    }\n",
       "\n",
       "    .dataframe thead th {\n",
       "        text-align: right;\n",
       "    }\n",
       "</style>\n",
       "<table border=\"1\" class=\"dataframe\">\n",
       "  <thead>\n",
       "    <tr style=\"text-align: right;\">\n",
       "      <th></th>\n",
       "      <th>a</th>\n",
       "      <th>b</th>\n",
       "    </tr>\n",
       "  </thead>\n",
       "  <tbody>\n",
       "    <tr>\n",
       "      <th>0</th>\n",
       "      <td>1</td>\n",
       "      <td>1</td>\n",
       "    </tr>\n",
       "    <tr>\n",
       "      <th>1</th>\n",
       "      <td>2</td>\n",
       "      <td>2</td>\n",
       "    </tr>\n",
       "    <tr>\n",
       "      <th>2</th>\n",
       "      <td>3</td>\n",
       "      <td>3</td>\n",
       "    </tr>\n",
       "    <tr>\n",
       "      <th>3</th>\n",
       "      <td>4</td>\n",
       "      <td>4</td>\n",
       "    </tr>\n",
       "    <tr>\n",
       "      <th>4</th>\n",
       "      <td>5</td>\n",
       "      <td>5</td>\n",
       "    </tr>\n",
       "    <tr>\n",
       "      <th>...</th>\n",
       "      <td>...</td>\n",
       "      <td>...</td>\n",
       "    </tr>\n",
       "    <tr>\n",
       "      <th>999995</th>\n",
       "      <td>999996</td>\n",
       "      <td>999996</td>\n",
       "    </tr>\n",
       "    <tr>\n",
       "      <th>999996</th>\n",
       "      <td>999997</td>\n",
       "      <td>999997</td>\n",
       "    </tr>\n",
       "    <tr>\n",
       "      <th>999997</th>\n",
       "      <td>999998</td>\n",
       "      <td>999998</td>\n",
       "    </tr>\n",
       "    <tr>\n",
       "      <th>999998</th>\n",
       "      <td>999999</td>\n",
       "      <td>999999</td>\n",
       "    </tr>\n",
       "    <tr>\n",
       "      <th>999999</th>\n",
       "      <td>1000000</td>\n",
       "      <td>1000000</td>\n",
       "    </tr>\n",
       "  </tbody>\n",
       "</table>\n",
       "<p>1000000 rows × 2 columns</p>\n",
       "</div>"
      ],
      "text/plain": [
       "              a        b\n",
       "0             1        1\n",
       "1             2        2\n",
       "2             3        3\n",
       "3             4        4\n",
       "4             5        5\n",
       "...         ...      ...\n",
       "999995   999996   999996\n",
       "999996   999997   999997\n",
       "999997   999998   999998\n",
       "999998   999999   999999\n",
       "999999  1000000  1000000\n",
       "\n",
       "[1000000 rows x 2 columns]"
      ]
     },
     "execution_count": 115,
     "metadata": {},
     "output_type": "execute_result"
    }
   ],
   "source": [
    "import pandas as pd\n",
    "import time\n",
    "from pandarallel import pandarallel\n",
    "\n",
    "# 创建一个大的 DataFrame\n",
    "df = pd.DataFrame({'a': range(1, 1000001), 'b': range(1, 1000001)})\n",
    "df"
   ]
  },
  {
   "cell_type": "code",
   "execution_count": 116,
   "id": "f25efa2d",
   "metadata": {},
   "outputs": [],
   "source": [
    "# 定义一个简单的函数\n",
    "def complex_function(x):\n",
    "    time.sleep(0.00001)  # 模拟一个耗时操作，每次耗时0.00001秒\n",
    "    return x * 2"
   ]
  },
  {
   "cell_type": "code",
   "execution_count": 117,
   "id": "2b7010be",
   "metadata": {},
   "outputs": [
    {
     "name": "stdout",
     "output_type": "stream",
     "text": [
      "INFO: Pandarallel will run on 4 workers.\n",
      "INFO: Pandarallel will use standard multiprocessing data transfer (pipe) to transfer data between the main process and workers.\n",
      "耗时: 4.336759090423584 秒\n"
     ]
    }
   ],
   "source": [
    "# 初始化 pandarallel\n",
    "pandarallel.initialize()\n",
    "\n",
    "# 记录开始时间\n",
    "start_time = time.time()\n",
    "\n",
    "# 使用 parallel_apply 并行处理\n",
    "result = df['a'].parallel_apply(complex_function)\n",
    "\n",
    "# 记录结束时间\n",
    "end_time = time.time()\n",
    "\n",
    "# 计算并打印耗时\n",
    "elapsed_time = end_time - start_time\n",
    "print(f\"耗时: {elapsed_time} 秒\")"
   ]
  },
  {
   "cell_type": "code",
   "execution_count": 118,
   "id": "1d9faf96",
   "metadata": {},
   "outputs": [
    {
     "data": {
      "text/plain": [
       "0               2\n",
       "1               4\n",
       "2               6\n",
       "3               8\n",
       "4              10\n",
       "           ...   \n",
       "999995    1999992\n",
       "999996    1999994\n",
       "999997    1999996\n",
       "999998    1999998\n",
       "999999    2000000\n",
       "Name: a, Length: 1000000, dtype: int64"
      ]
     },
     "execution_count": 118,
     "metadata": {},
     "output_type": "execute_result"
    }
   ],
   "source": [
    "result"
   ]
  },
  {
   "cell_type": "markdown",
   "id": "c3dd4417",
   "metadata": {},
   "source": [
    "# apply、parrel_apply、iterrows()、itertuples() 性能比较"
   ]
  },
  {
   "cell_type": "code",
   "execution_count": 122,
   "id": "a2bae7df",
   "metadata": {},
   "outputs": [
    {
     "data": {
      "text/html": [
       "<div>\n",
       "<style scoped>\n",
       "    .dataframe tbody tr th:only-of-type {\n",
       "        vertical-align: middle;\n",
       "    }\n",
       "\n",
       "    .dataframe tbody tr th {\n",
       "        vertical-align: top;\n",
       "    }\n",
       "\n",
       "    .dataframe thead th {\n",
       "        text-align: right;\n",
       "    }\n",
       "</style>\n",
       "<table border=\"1\" class=\"dataframe\">\n",
       "  <thead>\n",
       "    <tr style=\"text-align: right;\">\n",
       "      <th></th>\n",
       "      <th>a</th>\n",
       "      <th>b</th>\n",
       "    </tr>\n",
       "  </thead>\n",
       "  <tbody>\n",
       "    <tr>\n",
       "      <th>0</th>\n",
       "      <td>0.373778</td>\n",
       "      <td>0.616594</td>\n",
       "    </tr>\n",
       "    <tr>\n",
       "      <th>1</th>\n",
       "      <td>0.821638</td>\n",
       "      <td>0.909161</td>\n",
       "    </tr>\n",
       "    <tr>\n",
       "      <th>2</th>\n",
       "      <td>0.928479</td>\n",
       "      <td>0.693303</td>\n",
       "    </tr>\n",
       "    <tr>\n",
       "      <th>3</th>\n",
       "      <td>0.013037</td>\n",
       "      <td>0.746933</td>\n",
       "    </tr>\n",
       "    <tr>\n",
       "      <th>4</th>\n",
       "      <td>0.641576</td>\n",
       "      <td>0.080145</td>\n",
       "    </tr>\n",
       "    <tr>\n",
       "      <th>...</th>\n",
       "      <td>...</td>\n",
       "      <td>...</td>\n",
       "    </tr>\n",
       "    <tr>\n",
       "      <th>99995</th>\n",
       "      <td>0.246544</td>\n",
       "      <td>0.982949</td>\n",
       "    </tr>\n",
       "    <tr>\n",
       "      <th>99996</th>\n",
       "      <td>0.806459</td>\n",
       "      <td>0.894735</td>\n",
       "    </tr>\n",
       "    <tr>\n",
       "      <th>99997</th>\n",
       "      <td>0.459177</td>\n",
       "      <td>0.414091</td>\n",
       "    </tr>\n",
       "    <tr>\n",
       "      <th>99998</th>\n",
       "      <td>0.217704</td>\n",
       "      <td>0.930947</td>\n",
       "    </tr>\n",
       "    <tr>\n",
       "      <th>99999</th>\n",
       "      <td>0.674705</td>\n",
       "      <td>0.104674</td>\n",
       "    </tr>\n",
       "  </tbody>\n",
       "</table>\n",
       "<p>100000 rows × 2 columns</p>\n",
       "</div>"
      ],
      "text/plain": [
       "              a         b\n",
       "0      0.373778  0.616594\n",
       "1      0.821638  0.909161\n",
       "2      0.928479  0.693303\n",
       "3      0.013037  0.746933\n",
       "4      0.641576  0.080145\n",
       "...         ...       ...\n",
       "99995  0.246544  0.982949\n",
       "99996  0.806459  0.894735\n",
       "99997  0.459177  0.414091\n",
       "99998  0.217704  0.930947\n",
       "99999  0.674705  0.104674\n",
       "\n",
       "[100000 rows x 2 columns]"
      ]
     },
     "execution_count": 122,
     "metadata": {},
     "output_type": "execute_result"
    }
   ],
   "source": [
    "import pandas as pd\n",
    "import numpy as np\n",
    "import time\n",
    "from pandarallel import pandarallel\n",
    "\n",
    "# 创建一个大 DataFrame\n",
    "df = pd.DataFrame(np.random.rand(100000, 2), columns=['a', 'b'])\n",
    "df"
   ]
  },
  {
   "cell_type": "code",
   "execution_count": 123,
   "id": "950e6f5f",
   "metadata": {},
   "outputs": [],
   "source": [
    "# 定义一个计算函数\n",
    "def complex_function(x):\n",
    "    return x.a**2 + x.b**2"
   ]
  },
  {
   "cell_type": "markdown",
   "id": "3756581c",
   "metadata": {},
   "source": [
    "## apply"
   ]
  },
  {
   "cell_type": "code",
   "execution_count": 124,
   "id": "6121a40d",
   "metadata": {},
   "outputs": [
    {
     "name": "stdout",
     "output_type": "stream",
     "text": [
      "apply耗时: 1.1409 秒\n"
     ]
    }
   ],
   "source": [
    "# 记录 apply 的执行时间\n",
    "start_time = time.time()\n",
    "df['result_apply'] = df.apply(complex_function, axis=1)\n",
    "end_time = time.time()\n",
    "apply_time = end_time - start_time\n",
    "\n",
    "# 打印apply耗时\n",
    "print(f\"apply耗时: {apply_time:.4f} 秒\")"
   ]
  },
  {
   "cell_type": "markdown",
   "id": "418449ac",
   "metadata": {},
   "source": [
    "## pandarallel"
   ]
  },
  {
   "cell_type": "code",
   "execution_count": 125,
   "id": "4244c1da",
   "metadata": {},
   "outputs": [
    {
     "name": "stdout",
     "output_type": "stream",
     "text": [
      "INFO: Pandarallel will run on 4 workers.\n",
      "INFO: Pandarallel will use standard multiprocessing data transfer (pipe) to transfer data between the main process and workers.\n",
      "parallel_apply耗时: 0.5504 秒\n"
     ]
    }
   ],
   "source": [
    "# 初始化 pandarallel\n",
    "pandarallel.initialize()\n",
    "\n",
    "# 记录 parallel_apply 的执行时间\n",
    "start_time = time.time()\n",
    "df['result_parallel_apply'] = df.parallel_apply(complex_function, axis=1)\n",
    "end_time = time.time()\n",
    "parallel_apply_time = end_time - start_time\n",
    "\n",
    "# 打印parallel_apply耗时\n",
    "print(f\"parallel_apply耗时: {parallel_apply_time:.4f} 秒\")"
   ]
  },
  {
   "cell_type": "markdown",
   "id": "4443094a",
   "metadata": {},
   "source": [
    "## iterrows"
   ]
  },
  {
   "cell_type": "code",
   "execution_count": 126,
   "id": "f3a49ee1",
   "metadata": {},
   "outputs": [
    {
     "name": "stdout",
     "output_type": "stream",
     "text": [
      "iterrows耗时: 4.2578 秒\n"
     ]
    }
   ],
   "source": [
    "# 记录 iterrows 的执行时间\n",
    "start_time = time.time()\n",
    "result_iterrows = []\n",
    "for idx,row in df.iterrows():\n",
    "    result_iterrows.append(complex_function(row))\n",
    "df['result_iterrows'] = result_iterrows\n",
    "end_time = time.time()\n",
    "iterrows_time = end_time - start_time\n",
    "\n",
    "# 打印iterrows耗时\n",
    "print(f\"iterrows耗时: {iterrows_time:.4f} 秒\")"
   ]
  },
  {
   "cell_type": "markdown",
   "id": "10599da5",
   "metadata": {},
   "source": [
    "## itertuples"
   ]
  },
  {
   "cell_type": "code",
   "execution_count": 127,
   "id": "f94cc07d",
   "metadata": {},
   "outputs": [
    {
     "name": "stdout",
     "output_type": "stream",
     "text": [
      "itertuples耗时: 0.1474 秒\n"
     ]
    }
   ],
   "source": [
    "# 记录 itertuples 的执行时间\n",
    "start_time = time.time()\n",
    "result_itertuples = []\n",
    "for row in df.itertuples(index=False):\n",
    "    result_itertuples.append(complex_function(row))\n",
    "df['result_itertuples'] = result_itertuples\n",
    "end_time = time.time()\n",
    "itertuples_time = end_time - start_time\n",
    "\n",
    "# 打印itertuples耗时\n",
    "print(f\"itertuples耗时: {itertuples_time:.4f} 秒\")"
   ]
  },
  {
   "cell_type": "markdown",
   "id": "f96b60ef",
   "metadata": {},
   "source": [
    "## 总结"
   ]
  },
  {
   "cell_type": "markdown",
   "id": "fc55f76e",
   "metadata": {},
   "source": [
    "| 方法                | 优点                                         | 缺点                                                         | 性能（大数据集）   | 推荐场景                                 |\n",
    "|---------------------|----------------------------------------------|--------------------------------------------------------------|--------------------|------------------------------------------|\n",
    "| `apply()`           | 灵活，支持任意函数                           | 性能较差，不支持并行化，较慢                                 | 中等               | 小到中型数据集，操作复杂，且不需要并行化  |\n",
    "| `parallel_apply()`  | 支持多核并行，加速计算                       | 复杂，需要额外库支持，可能增加开销                           | 快                 | 大数据集，且操作可并行化                 |\n",
    "| `iterrows()`        | 简单易用，逐行处理                           | 性能差，返回的是 Series，内存开销较大                         | 较慢               | 小型数据集或需要返回行索引的情况         |\n",
    "| `itertuples()`      | 性能最好，返回元组，内存效率高               | 不如 `apply()` 灵活，不能直接修改 DataFrame                   | 非常快             | 需要高性能的逐行处理，无需修改 DataFrame |"
   ]
  },
  {
   "cell_type": "code",
   "execution_count": null,
   "id": "fe9db9cf",
   "metadata": {},
   "outputs": [],
   "source": []
  }
 ],
 "metadata": {
  "kernelspec": {
   "display_name": "Python 3 (ipykernel)",
   "language": "python",
   "name": "python3"
  },
  "language_info": {
   "codemirror_mode": {
    "name": "ipython",
    "version": 3
   },
   "file_extension": ".py",
   "mimetype": "text/x-python",
   "name": "python",
   "nbconvert_exporter": "python",
   "pygments_lexer": "ipython3",
   "version": "3.12.2"
  },
  "toc": {
   "base_numbering": 1,
   "nav_menu": {},
   "number_sections": true,
   "sideBar": true,
   "skip_h1_title": false,
   "title_cell": "Table of Contents",
   "title_sidebar": "Contents",
   "toc_cell": false,
   "toc_position": {
    "height": "calc(100% - 180px)",
    "left": "10px",
    "top": "150px",
    "width": "288px"
   },
   "toc_section_display": true,
   "toc_window_display": true
  }
 },
 "nbformat": 4,
 "nbformat_minor": 5
}
