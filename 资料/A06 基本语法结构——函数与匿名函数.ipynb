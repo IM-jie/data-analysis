{
 "cells": [
  {
   "cell_type": "markdown",
   "id": "7b65e734",
   "metadata": {},
   "source": [
    "# 函数（Function）"
   ]
  },
  {
   "cell_type": "markdown",
   "id": "af700c23",
   "metadata": {},
   "source": [
    "函数是指一段具有特定功能的代码块，能够在需要时被调用执行。通过函数，可以将复杂的问题分解为一个个小问题，从而提高程序的可读性、复用性、模块化和可维护性"
   ]
  },
  {
   "cell_type": "markdown",
   "id": "2a023353",
   "metadata": {},
   "source": [
    "## 函数特点与设计原则"
   ]
  },
  {
   "cell_type": "markdown",
   "id": "bb6e98a5",
   "metadata": {},
   "source": [
    "- **封装性**：将某些操作封装在函数内部，减少代码冗余。\n",
    "- **复用性**：一个函数可以在程序中多次调用，避免重复编写相同代码。\n",
    "- **模块化**：将程序逻辑分为若干独立的模块，提高程序结构的清晰性。\n",
    "- **可维护性**：便于调试和修改代码，只需更新函数的实现即可。"
   ]
  },
  {
   "cell_type": "markdown",
   "id": "d8845006",
   "metadata": {},
   "source": [
    "## 函数的基本结构与基本语法"
   ]
  },
  {
   "cell_type": "code",
   "execution_count": 23,
   "id": "668f8f46",
   "metadata": {},
   "outputs": [],
   "source": [
    "# # 函数定义\n",
    "# def function_name(parameters): # 函数参数\n",
    "#     # 函数体\n",
    "#     return value  # 返回值，可选\n",
    "\n",
    "# # 函数执行\n",
    "# function_name(parameters)"
   ]
  },
  {
   "cell_type": "markdown",
   "id": "4e03af7c",
   "metadata": {},
   "source": [
    "- 函数的定义一般由以下几部分组成：\n",
    "    - **函数参数**：用于向函数传递输入数据（parameters）。\n",
    "    - **函数体**：函数内部的代码逻辑，用于实现特定的功能。\n",
    "    - **返回值**：函数执行完成后，返回的结果（return value）。\n",
    "- 函数的执行：调用函数方法，并且向其中传入参数"
   ]
  },
  {
   "cell_type": "code",
   "execution_count": 44,
   "id": "5edda8b7",
   "metadata": {},
   "outputs": [
    {
     "name": "stdout",
     "output_type": "stream",
     "text": [
      "我是:0\n",
      "我是:1\n",
      "我是:2\n",
      "我是:3\n",
      "我是:4\n"
     ]
    }
   ],
   "source": [
    "def test(x=1):\n",
    "    \"\"\"\n",
    "    定义一个函数：test，传入参数是x；函数体是打印我是x；返回值是x\n",
    "    \"\"\"\n",
    "    print('我是:'+str(x))\n",
    "    return x\n",
    "\n",
    "# 函数的执行：调用函数方法test(x)，并且向其中传入参数x\n",
    "for i in range(5):\n",
    "    test(i)"
   ]
  },
  {
   "cell_type": "markdown",
   "id": "8857c7d9",
   "metadata": {},
   "source": [
    "## 函数的分类"
   ]
  },
  {
   "cell_type": "markdown",
   "id": "d056cfa2",
   "metadata": {},
   "source": [
    "根据参数类型与返回值类型，函数分为：\n",
    "- 无参函数\n",
    "- 有参函数\n",
    "- 有返回值的函数\n",
    "- 无返回值的函数"
   ]
  },
  {
   "cell_type": "markdown",
   "id": "e815165b",
   "metadata": {},
   "source": [
    "### 无参函数"
   ]
  },
  {
   "cell_type": "markdown",
   "id": "88a1a240",
   "metadata": {},
   "source": [
    "不需要传递参数的函数"
   ]
  },
  {
   "cell_type": "code",
   "execution_count": 45,
   "id": "a63b76ec",
   "metadata": {},
   "outputs": [
    {
     "name": "stdout",
     "output_type": "stream",
     "text": [
      "Hello, World!\n"
     ]
    }
   ],
   "source": [
    "def greet():\n",
    "    print(\"Hello, World!\")\n",
    "\n",
    "greet()  # 输出：Hello, World!\n"
   ]
  },
  {
   "cell_type": "markdown",
   "id": "b1fbfb84",
   "metadata": {},
   "source": [
    "### 有参函数"
   ]
  },
  {
   "cell_type": "markdown",
   "id": "42eb8156",
   "metadata": {},
   "source": [
    "需要传递参数的函数"
   ]
  },
  {
   "cell_type": "code",
   "execution_count": 47,
   "id": "8bea66db",
   "metadata": {},
   "outputs": [
    {
     "name": "stdout",
     "output_type": "stream",
     "text": [
      "Hello, Alice!\n"
     ]
    }
   ],
   "source": [
    "def greet(name):\n",
    "    print(f\"Hello, {name}!\")\n",
    "\n",
    "greet(\"Alice\")  # 输出：Hello, Alice!\n"
   ]
  },
  {
   "cell_type": "markdown",
   "id": "f33f5541",
   "metadata": {},
   "source": [
    "### 有返回值的函数"
   ]
  },
  {
   "cell_type": "markdown",
   "id": "010e318e",
   "metadata": {},
   "source": [
    "函数执行完成后返回结果"
   ]
  },
  {
   "cell_type": "code",
   "execution_count": 48,
   "id": "fe42f2e9",
   "metadata": {},
   "outputs": [
    {
     "name": "stdout",
     "output_type": "stream",
     "text": [
      "8\n"
     ]
    }
   ],
   "source": [
    "def add(a, b):\n",
    "    return a + b\n",
    "\n",
    "result = add(3, 5)\n",
    "print(result)  # 输出：8\n"
   ]
  },
  {
   "cell_type": "markdown",
   "id": "40388480",
   "metadata": {},
   "source": [
    "### 无返回值的函数"
   ]
  },
  {
   "cell_type": "markdown",
   "id": "6ba87b33",
   "metadata": {},
   "source": [
    "不返回结果，仅执行操作"
   ]
  },
  {
   "cell_type": "code",
   "execution_count": 49,
   "id": "ff9f0646",
   "metadata": {},
   "outputs": [
    {
     "name": "stdout",
     "output_type": "stream",
     "text": [
      "Hello!\n"
     ]
    }
   ],
   "source": [
    "def say_hello():\n",
    "    print(\"Hello!\")\n",
    "\n",
    "say_hello()  # 输出：Hello!\n"
   ]
  },
  {
   "cell_type": "markdown",
   "id": "1de53f9d",
   "metadata": {},
   "source": [
    "## 函数中参数类型"
   ]
  },
  {
   "cell_type": "markdown",
   "id": "38f7afb8",
   "metadata": {},
   "source": [
    "### 位置参数"
   ]
  },
  {
   "cell_type": "markdown",
   "id": "dac0f125",
   "metadata": {},
   "source": [
    "按照顺序传递参数"
   ]
  },
  {
   "cell_type": "code",
   "execution_count": 50,
   "id": "30aae6e8",
   "metadata": {},
   "outputs": [
    {
     "name": "stdout",
     "output_type": "stream",
     "text": [
      "5\n"
     ]
    }
   ],
   "source": [
    "def subtract(a, b):\n",
    "    return a - b\n",
    "\n",
    "print(subtract(10, 5))  # 输出：5\n"
   ]
  },
  {
   "cell_type": "markdown",
   "id": "173fc767",
   "metadata": {},
   "source": [
    "### 关键字参数"
   ]
  },
  {
   "cell_type": "markdown",
   "id": "c686971e",
   "metadata": {},
   "source": [
    "通过参数名进行传递，顺序可以任意"
   ]
  },
  {
   "cell_type": "code",
   "execution_count": 52,
   "id": "66933393",
   "metadata": {},
   "outputs": [
    {
     "name": "stdout",
     "output_type": "stream",
     "text": [
      "My name is Alice and I'm 25 years old.\n"
     ]
    }
   ],
   "source": [
    "def introduce(name, age):\n",
    "    print(f\"My name is {name} and I'm {age} years old.\")\n",
    "\n",
    "introduce(age=25, name=\"Alice\")  # 输出：My name is Alice and I'm 25 years old.\n"
   ]
  },
  {
   "cell_type": "markdown",
   "id": "37dfd3b8",
   "metadata": {},
   "source": [
    "### 默认参数"
   ]
  },
  {
   "cell_type": "markdown",
   "id": "ff7d2586",
   "metadata": {},
   "source": [
    "为参数设置默认值，调用时可以不传递此参数"
   ]
  },
  {
   "cell_type": "code",
   "execution_count": 54,
   "id": "26b5d6bd",
   "metadata": {},
   "outputs": [
    {
     "name": "stdout",
     "output_type": "stream",
     "text": [
      "Hello, Guest!\n",
      "Hello, Alice!\n"
     ]
    }
   ],
   "source": [
    "def greet(name=\"Guest\"):\n",
    "    print(f\"Hello, {name}!\")\n",
    "\n",
    "greet()  # 调用时不传递此参数，输出：Hello, Guest!\n",
    "greet(\"Alice\")  # 调用时传递此参数输出：Hello, Alice!\n"
   ]
  },
  {
   "cell_type": "markdown",
   "id": "ff04007d",
   "metadata": {},
   "source": [
    "### 可变参数"
   ]
  },
  {
   "cell_type": "markdown",
   "id": "a5913fcf",
   "metadata": {},
   "source": [
    "用于处理数量不确定的参数，通常以 `*args` 或 `**kwargs` 表示"
   ]
  },
  {
   "cell_type": "markdown",
   "id": "0ce5d59a",
   "metadata": {},
   "source": [
    "#### `*args`（可变位置参数）"
   ]
  },
  {
   "cell_type": "markdown",
   "id": "de17f269",
   "metadata": {},
   "source": [
    "`*args`用来接受多个位置参数，并将它们收集为元组传递给函数"
   ]
  },
  {
   "cell_type": "code",
   "execution_count": 62,
   "id": "1ddd7f38",
   "metadata": {},
   "outputs": [
    {
     "name": "stdout",
     "output_type": "stream",
     "text": [
      "(1, 2, 3, 4, 5)\n"
     ]
    }
   ],
   "source": [
    "def sum_all(*args):\n",
    "    print(args)\n",
    "\n",
    "sum_all(1, 2, 3, 4, 5)"
   ]
  },
  {
   "cell_type": "markdown",
   "id": "a7f1c4bc",
   "metadata": {},
   "source": [
    "#### `**kwargs`（可变关键字参数）"
   ]
  },
  {
   "cell_type": "markdown",
   "id": "61d4a4db",
   "metadata": {},
   "source": [
    "`**kwargs`用来接受多个关键字参数，并将它们收集为字典传递给函数"
   ]
  },
  {
   "cell_type": "code",
   "execution_count": 65,
   "id": "74688707",
   "metadata": {},
   "outputs": [
    {
     "name": "stdout",
     "output_type": "stream",
     "text": [
      "{'name': 'Alice'}\n"
     ]
    }
   ],
   "source": [
    "def print_info(**kwargs):\n",
    "    print(kwargs)\n",
    "    \n",
    "print_info(name=\"Alice\", age=25, city='London')  # 输出：name: Alice, age: 25\n"
   ]
  },
  {
   "cell_type": "markdown",
   "id": "7ca2d4f6",
   "metadata": {},
   "source": [
    "## 函数的作用域"
   ]
  },
  {
   "cell_type": "markdown",
   "id": "5a171bdb",
   "metadata": {},
   "source": [
    "### 局部变量"
   ]
  },
  {
   "cell_type": "markdown",
   "id": "82e56072",
   "metadata": {},
   "source": [
    "定义在函数内部的变量，只在函数内有效"
   ]
  },
  {
   "cell_type": "code",
   "execution_count": 4,
   "id": "905eda4d",
   "metadata": {},
   "outputs": [
    {
     "name": "stdout",
     "output_type": "stream",
     "text": [
      "10\n"
     ]
    }
   ],
   "source": [
    "def func():\n",
    "    x = 10  # 局部变量\n",
    "    print(x)\n",
    "\n",
    "func()\n",
    "# print(x)  # 报错：x 未定义\n"
   ]
  },
  {
   "cell_type": "markdown",
   "id": "17208f59",
   "metadata": {},
   "source": [
    "### 全局变量"
   ]
  },
  {
   "cell_type": "markdown",
   "id": "d29dabce",
   "metadata": {},
   "source": [
    "定义在函数外部的变量，可在整个程序中使用"
   ]
  },
  {
   "cell_type": "code",
   "execution_count": 6,
   "id": "68bc4e36",
   "metadata": {},
   "outputs": [
    {
     "name": "stdout",
     "output_type": "stream",
     "text": [
      "10\n",
      "10\n"
     ]
    }
   ],
   "source": [
    "x = 10  # 全局变量\n",
    "\n",
    "def func():\n",
    "    print(x)\n",
    "\n",
    "func()  # 输出：10\n",
    "print(x)"
   ]
  },
  {
   "cell_type": "markdown",
   "id": "83937055",
   "metadata": {},
   "source": [
    "### global 关键字"
   ]
  },
  {
   "cell_type": "markdown",
   "id": "9493fca1",
   "metadata": {},
   "source": [
    "在函数内部定义全局变量"
   ]
  },
  {
   "cell_type": "code",
   "execution_count": 11,
   "id": "56d4d2fd",
   "metadata": {},
   "outputs": [
    {
     "name": "stdout",
     "output_type": "stream",
     "text": [
      "20\n",
      "20\n"
     ]
    }
   ],
   "source": [
    "x = 10\n",
    "\n",
    "def update_x():\n",
    "    global x\n",
    "    x = 20\n",
    "    print(x)\n",
    "\n",
    "update_x()\n",
    "print(x)  # 输出：20\n"
   ]
  },
  {
   "cell_type": "markdown",
   "id": "2e488e74",
   "metadata": {},
   "source": [
    "# 匿名函数(lambda函数)"
   ]
  },
  {
   "cell_type": "markdown",
   "id": "d562af57",
   "metadata": {},
   "source": [
    "**匿名函数（Anonymous Function）**，顾名思义是没有名称的函数，主要用于需要临时使用函数功能的临时性、简单性场景，简洁高效。\n",
    "\n",
    "在Python中，匿名函数通过**lambda**关键字定义，因此也称为 lambda 函数"
   ]
  },
  {
   "cell_type": "markdown",
   "id": "dbd35c14",
   "metadata": {},
   "source": [
    "## 匿名函数语法"
   ]
  },
  {
   "cell_type": "markdown",
   "id": "849dcf77",
   "metadata": {},
   "source": [
    "**lambda 参数1, 参数2, ... : 表达式**：\n",
    "\n",
    "匿名函数由三部分组成：lambda关键字、参数列表、表达式\n",
    "- **lambda**：关键字，用于声明匿名函数。\n",
    "- **参数列表**：可以包含一个或多个参数，用逗号分隔。\n",
    "- **表达式**：匿名函数的逻辑部分，返回表达式的结果（只能包含单个表达式，不能有多条语句）"
   ]
  },
  {
   "cell_type": "markdown",
   "id": "7b628af9",
   "metadata": {},
   "source": [
    "## 匿名函数与普通函数的区别"
   ]
  },
  {
   "cell_type": "markdown",
   "id": "0d381686",
   "metadata": {},
   "source": [
    "- **没有名称**：顾名思义，匿名函数通常没有名称。匿名函数也可以通过赋值给一个变量从而变成一个普通函数\n",
    "- **只能包含单个表达式**：匿名函数只能有一个表达式，不能包含多条语句。因此只适用于简单场景，简单高效"
   ]
  },
  {
   "cell_type": "code",
   "execution_count": 12,
   "id": "e927847d",
   "metadata": {},
   "outputs": [
    {
     "data": {
      "text/plain": [
       "8"
      ]
     },
     "execution_count": 12,
     "metadata": {},
     "output_type": "execute_result"
    }
   ],
   "source": [
    "def add_def(x, y):\n",
    "    return x + y\n",
    "add_def(3, 5)  # 输出：8"
   ]
  },
  {
   "cell_type": "code",
   "execution_count": 14,
   "id": "3a6ddda6",
   "metadata": {},
   "outputs": [
    {
     "data": {
      "text/plain": [
       "8"
      ]
     },
     "execution_count": 14,
     "metadata": {},
     "output_type": "execute_result"
    }
   ],
   "source": [
    "add_lambda = lambda x, y: x + y\n",
    "add_lambda(3, 5)  # 输出：8"
   ]
  },
  {
   "cell_type": "markdown",
   "id": "62448a07",
   "metadata": {},
   "source": [
    "## 匿名函数优点"
   ]
  },
  {
   "cell_type": "markdown",
   "id": "341fac37",
   "metadata": {},
   "source": [
    "- **代码简洁**：匿名函数非常适合用于简单的一次性任务，可以避免为小功能定义单独的函数。\n",
    "- **灵活性高**：可以直接嵌入到其他函数中，如 map、sorted。\n",
    "- **提高可读性**：对于小型操作，匿名函数可以让代码更直观。"
   ]
  },
  {
   "cell_type": "markdown",
   "id": "071414d5",
   "metadata": {},
   "source": [
    "## 匿名函数使用场景"
   ]
  },
  {
   "cell_type": "markdown",
   "id": "8b8a6a92",
   "metadata": {},
   "source": [
    "### 直接使用"
   ]
  },
  {
   "cell_type": "code",
   "execution_count": 15,
   "id": "ecbdd898",
   "metadata": {},
   "outputs": [
    {
     "name": "stdout",
     "output_type": "stream",
     "text": [
      "5\n",
      "16\n"
     ]
    }
   ],
   "source": [
    "# 使用匿名函数计算两个数的和\n",
    "add = lambda x, y: x + y\n",
    "print(add(2, 3))  # 输出：5\n",
    "\n",
    "# 使用匿名函数计算平方\n",
    "square = lambda x: x ** 2\n",
    "print(square(4))  # 输出：16"
   ]
  },
  {
   "cell_type": "markdown",
   "id": "93d7342b",
   "metadata": {},
   "source": [
    "### 与排序函数sort()相结合"
   ]
  },
  {
   "cell_type": "code",
   "execution_count": 17,
   "id": "99e5ad4c",
   "metadata": {},
   "outputs": [
    {
     "data": {
      "text/plain": [
       "[(3, 1), (1, 2), (5, 4)]"
      ]
     },
     "execution_count": 17,
     "metadata": {},
     "output_type": "execute_result"
    }
   ],
   "source": [
    "# 使用匿名函数按第二个元素排序\n",
    "data = [(1, 2), (3, 1), (5, 4)]\n",
    "sorted_data = sorted(data, key=lambda x: x[1]) # 按第二个元素排序\n",
    "sorted_data  # 输出：[(3, 1), (1, 2), (5, 4)]"
   ]
  },
  {
   "cell_type": "markdown",
   "id": "bafc1ded",
   "metadata": {},
   "source": [
    "### 与映射函数map()相结合"
   ]
  },
  {
   "cell_type": "code",
   "execution_count": 19,
   "id": "0464d5d9",
   "metadata": {},
   "outputs": [
    {
     "data": {
      "text/plain": [
       "[1, 4, 9, 16]"
      ]
     },
     "execution_count": 19,
     "metadata": {},
     "output_type": "execute_result"
    }
   ],
   "source": [
    "# map 函数用于对列表中的每个元素应用一个函数，匿名函数非常适合用在这种场景\n",
    "nums = [1, 2, 3, 4]\n",
    "# 每个元素求平方\n",
    "squares = list(map(lambda x: x ** 2, nums))\n",
    "squares  # 输出：[1, 4, 9, 16]"
   ]
  },
  {
   "cell_type": "markdown",
   "id": "5f3331dd",
   "metadata": {},
   "source": [
    "### 与列表表达式相结合"
   ]
  },
  {
   "cell_type": "code",
   "execution_count": 25,
   "id": "b4c34340",
   "metadata": {},
   "outputs": [
    {
     "data": {
      "text/plain": [
       "[1, 4, 9, 16]"
      ]
     },
     "execution_count": 25,
     "metadata": {},
     "output_type": "execute_result"
    }
   ],
   "source": [
    "# 匿名函数可以与列表表达式一起使用，用于快速定义和生成新列表\n",
    "# 生成一个新的列表，每个元素是原列表元素的平方\n",
    "nums = [1, 2, 3, 4]\n",
    "squares = [(lambda x: x ** 2)(x) for x in nums]\n",
    "squares  # 输出：[1, 4, 9, 16]"
   ]
  }
 ],
 "metadata": {
  "kernelspec": {
   "display_name": "Python 3 (ipykernel)",
   "language": "python",
   "name": "python3"
  },
  "language_info": {
   "codemirror_mode": {
    "name": "ipython",
    "version": 3
   },
   "file_extension": ".py",
   "mimetype": "text/x-python",
   "name": "python",
   "nbconvert_exporter": "python",
   "pygments_lexer": "ipython3",
   "version": "3.12.2"
  },
  "toc": {
   "base_numbering": 1,
   "nav_menu": {},
   "number_sections": true,
   "sideBar": true,
   "skip_h1_title": false,
   "title_cell": "Table of Contents",
   "title_sidebar": "Contents",
   "toc_cell": false,
   "toc_position": {
    "height": "calc(100% - 180px)",
    "left": "10px",
    "top": "150px",
    "width": "288px"
   },
   "toc_section_display": true,
   "toc_window_display": true
  }
 },
 "nbformat": 4,
 "nbformat_minor": 5
}
